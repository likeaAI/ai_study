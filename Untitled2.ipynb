{
 "cells": [
  {
   "cell_type": "code",
   "execution_count": 1,
   "id": "6fcde51e",
   "metadata": {},
   "outputs": [
    {
     "name": "stdout",
     "output_type": "stream",
     "text": [
      "numpy version  -  1.20.3\n",
      "pandas version -  1.3.4\n"
     ]
    }
   ],
   "source": [
    "import pymongo as mongo\n",
    "import numpy  as np\n",
    "import pandas as pd\n",
    "\n",
    "\n",
    "# 시각화\n",
    "import matplotlib.pyplot as plt \n",
    "%matplotlib inline\n",
    "\n",
    "import seaborn as sns\n",
    "\n",
    "import json \n",
    "\n",
    "import warnings\n",
    "warnings.filterwarnings(action='ignore')\n",
    "\n",
    "from datetime import date, datetime, timedelta\n",
    "from dateutil.parser import parse\n",
    "\n",
    "\n",
    "# 한글 폰트 문제 해결\n",
    "import platform\n",
    "\n",
    "from matplotlib import font_manager, rc\n",
    "\n",
    "if platform.system() == 'Darwin':\n",
    "    plt.rc('font', family='AppleGothic')\n",
    "elif platform.system() == 'Windows':\n",
    "    path = \"c:/Windows/Fonts/malgun.ttf\"\n",
    "    font_name = font_manager.FontProperties(fname=path).get_name()\n",
    "    plt.rc('font', family=font_name)\n",
    "else:\n",
    "    print('Unknown system... sorry~~~~') \n",
    "\n",
    "\n",
    "# 차트 축 <- 음수 부호 지원\n",
    "import matplotlib\n",
    "matplotlib.rcParams['axes.unicode_minus'] = False\n",
    "\n",
    "\n",
    "# crawling\n",
    "from bs4 import BeautifulSoup\n",
    "from urllib.request import urlopen , urlretrieve\n",
    "from urllib.error   import HTTPError\n",
    "from urllib.error   import URLError\n",
    "\n",
    "import requests \n",
    "import re\n",
    "\n",
    "from selenium import webdriver\n",
    "\n",
    "from time    import sleep , time \n",
    "from random  import randint\n",
    "from IPython.core.display import clear_output\n",
    "\n",
    "\n",
    "\n",
    "\n",
    "print('numpy version  - ' , np.__version__)\n",
    "print('pandas version - ' , pd.__version__)"
   ]
  },
  {
   "cell_type": "markdown",
   "id": "b1c88c56",
   "metadata": {},
   "source": [
    "##### 크롤링과 몽고디비 연동 \n",
    " -"
   ]
  },
  {
   "cell_type": "code",
   "execution_count": 2,
   "id": "43d93abd",
   "metadata": {},
   "outputs": [
    {
     "data": {
      "text/plain": [
       "MongoClient(host=['localhost:27017'], document_class=dict, tz_aware=False, connect=True)"
      ]
     },
     "execution_count": 2,
     "metadata": {},
     "output_type": "execute_result"
    }
   ],
   "source": [
    "conn = mongo.MongoClient()\n",
    "conn"
   ]
  },
  {
   "cell_type": "code",
   "execution_count": 3,
   "id": "a0700af1",
   "metadata": {},
   "outputs": [
    {
     "data": {
      "text/plain": [
       "Database(MongoClient(host=['localhost:27017'], document_class=dict, tz_aware=False, connect=True), 'cine21')"
      ]
     },
     "execution_count": 3,
     "metadata": {},
     "output_type": "execute_result"
    }
   ],
   "source": [
    "# DB를 만드는 과정 \n",
    "cine_db = conn.cine21\n",
    "cine_db"
   ]
  },
  {
   "cell_type": "code",
   "execution_count": 4,
   "id": "22380f35",
   "metadata": {},
   "outputs": [],
   "source": [
    "cine_collection = cine_db.collection "
   ]
  },
  {
   "cell_type": "markdown",
   "id": "b81cd668",
   "metadata": {},
   "source": [
    " - 크롤링 준비 request "
   ]
  },
  {
   "cell_type": "code",
   "execution_count": 5,
   "id": "f2f075c1",
   "metadata": {},
   "outputs": [
    {
     "data": {
      "text/plain": [
       "'\\t\\t\\t<ul class=\"people_list\">\\r\\n\\t\\t\\t\\t<li class=\"people_li\">\\r\\n\\t\\t\\t\\t\\t<a href=\"/db/person/info/?person_id=2262\"><img src=\"https://image.cine21.com/resize/cine21/person/2020/0812/2262[X145,145].jpg\" alt=\"\" class=\"people_thumb\" target=\"_blank\" /></a>\\r\\n\\t\\t\\t\\t\\t<div class=\"name\"><a href=\"/db/person/info/?person_id=2262\">최민식(1편)</a></div>\\r\\n\\t\\t\\t\\t\\t<ul class=\"num_info\">\\r\\n\\t\\t\\t\\t\\t\\t<li><span class=\"tit\">흥행지수</span><strong>162,280</strong></li>\\r\\n\\t\\t\\t\\t\\t\\t<!--\\r\\n\\t\\t\\t\\t\\t\\t<li><a href=\"#\" class=\"btn_graph\"><span class=\"ico\"></span><span>흥행성적<br />그래프로 보기</span></a></li>\\r\\n\\t\\t\\t\\t\\t\\t-->\\r\\n\\t\\t\\t\\t\\t</ul>\\r\\n\\t\\t\\t\\t\\t<!-- 영화포스터는 최대 5개까지만 -->\\r\\n\\t\\t\\t\\t\\t<ul class=\"mov_list\">\\r\\n\\t\\t\\t\\t\\t\\t\\r\\n\\t\\t\\t\\t\\t\\t\\t<li>\\r\\n\\t\\t\\t\\t\\t\\t\\t\\t<a href=\"/movie/info/?movie_id=55829\">\\r\\n\\t\\t\\t\\t\\t\\t\\t\\t\\t<img src=\"https://image.cine21.com/resize/cine21/poster/2022/0211/55829_6205b39abb231[X85,120].jpg\" alt=\"\" class=\"thumb\"  target=\"_blank\" />\\r\\n\\t\\t\\t\\t\\t\\t\\t\\t\\t<span>이상한 나라의 수학자</span>\\r\\n\\t\\t\\t\\t\\t\\t\\t\\t</a>\\r\\n\\t\\t\\t\\t\\t\\t\\t</li>\\r\\n\\t\\t\\t\\t\\t\\t\\t\\t\\t\\t\\t</ul>\\r\\n\\t\\t\\t\\t\\t<!-- 순위 --><span class=\"grade\">1</span>\\r\\n\\t\\t\\t\\t</li>\\r\\n\\t\\t\\t\\t<li class=\"people_li\">\\r\\n\\t\\t\\t\\t\\t<a href=\"/db/person/info/?person_id=29321\"><img src=\"https://image.cine21.com/resize/cine21/person/2020/0122/11_55_04__5e27b988629a2[X145,145].jpg\" alt=\"\" class=\"people_thumb\" target=\"_blank\" /></a>\\r\\n\\t\\t\\t\\t\\t<div class=\"name\"><a href=\"/db/person/info/?person_id=29321\">김동휘(1편)</a></div>\\r\\n\\t\\t\\t\\t\\t<ul class=\"num_info\">\\r\\n\\t\\t\\t\\t\\t\\t<li><span class=\"tit\">흥행지수</span><strong>129,824</strong></li>\\r\\n\\t\\t\\t\\t\\t\\t<!--\\r\\n\\t\\t\\t\\t\\t\\t<li><a href=\"#\" class=\"btn_graph\"><span class=\"ico\"></span><span>흥행성적<br />그래프로 보기</span></a></li>\\r\\n\\t\\t\\t\\t\\t\\t-->\\r\\n\\t\\t\\t\\t\\t</ul>\\r\\n\\t\\t\\t\\t\\t<!-- 영화포스터는 최대 5개까지만 -->\\r\\n\\t\\t\\t\\t\\t<ul class=\"mov_list\">\\r\\n\\t\\t\\t\\t\\t\\t\\r\\n\\t\\t\\t\\t\\t\\t\\t<li>\\r\\n\\t\\t\\t\\t\\t\\t\\t\\t<a href=\"/movie/info/?movie_id=55829\">\\r\\n\\t\\t\\t\\t\\t\\t\\t\\t\\t<img src=\"https://image.cine21.com/resize/cine21/poster/2022/0211/55829_6205b39abb231[X85,120].jpg\" alt=\"\" class=\"thumb\"  target=\"_blank\" />\\r\\n\\t\\t\\t\\t\\t\\t\\t\\t\\t<span>이상한 나라의 수학자</span>\\r\\n\\t\\t\\t\\t\\t\\t\\t\\t</a>\\r\\n\\t\\t\\t\\t\\t\\t\\t</li>\\r\\n\\t\\t\\t\\t\\t\\t\\t\\t\\t\\t\\t</ul>\\r\\n\\t\\t\\t\\t\\t<!-- 순위 --><span class=\"grade\">2</span>\\r\\n\\t\\t\\t\\t</li>\\r\\n\\t\\t\\t\\t<li class=\"people_li\">\\r\\n\\t\\t\\t\\t\\t<a href=\"/db/person/info/?person_id=59497\"><img src=\"https://image.cine21.com/resize/cine21/still/2017/1211/18_11_19__5a2e4bb7035f3[X145,145].jpg\" alt=\"\" class=\"people_thumb\" target=\"_blank\" /></a>\\r\\n\\t\\t\\t\\t\\t<div class=\"name\"><a href=\"/db/person/info/?person_id=59497\">정우(1편)</a></div>\\r\\n\\t\\t\\t\\t\\t<ul class=\"num_info\">\\r\\n\\t\\t\\t\\t\\t\\t<li><span class=\"tit\">흥행지수</span><strong>111,714</strong></li>\\r\\n\\t\\t\\t\\t\\t\\t<!--\\r\\n\\t\\t\\t\\t\\t\\t<li><a href=\"#\" class=\"btn_graph\"><span class=\"ico\"></span><span>흥행성적<br />그래프로 보기</span></a></li>\\r\\n\\t\\t\\t\\t\\t\\t-->\\r\\n\\t\\t\\t\\t\\t</ul>\\r\\n\\t\\t\\t\\t\\t<!-- 영화포스터는 최대 5개까지만 -->\\r\\n\\t\\t\\t\\t\\t<ul class=\"mov_list\">\\r\\n\\t\\t\\t\\t\\t\\t\\r\\n\\t\\t\\t\\t\\t\\t\\t<li>\\r\\n\\t\\t\\t\\t\\t\\t\\t\\t<a href=\"/movie/info/?movie_id=54503\">\\r\\n\\t\\t\\t\\t\\t\\t\\t\\t\\t<img src=\"https://image.cine21.com/resize/cine21/poster/2022/0325/54503_623d11acdf679[X85,120].jpg\" alt=\"\" class=\"thumb\"  target=\"_blank\" />\\r\\n\\t\\t\\t\\t\\t\\t\\t\\t\\t<span>뜨거운 피</span>\\r\\n\\t\\t\\t\\t\\t\\t\\t\\t</a>\\r\\n\\t\\t\\t\\t\\t\\t\\t</li>\\r\\n\\t\\t\\t\\t\\t\\t\\t\\t\\t\\t\\t</ul>\\r\\n\\t\\t\\t\\t\\t<!-- 순위 --><span class=\"grade\">3</span>\\r\\n\\t\\t\\t\\t</li>\\r\\n\\t\\t\\t\\t<li class=\"people_li\">\\r\\n\\t\\t\\t\\t\\t<a href=\"/db/person/info/?person_id=83460\"><img src=\"https://image.cine21.com/resize/cine21/person/2019/0403/18_44_30__5ca4807ecb602[X145,145].jpg\" alt=\"\" class=\"people_thumb\" target=\"_blank\" /></a>\\r\\n\\t\\t\\t\\t\\t<div class=\"name\"><a href=\"/db/person/info/?person_id=83460\">박해준(2편)</a></div>\\r\\n\\t\\t\\t\\t\\t<ul class=\"num_info\">\\r\\n\\t\\t\\t\\t\\t\\t<li><span class=\"tit\">흥행지수</span><strong>97,395</strong></li>\\r\\n\\t\\t\\t\\t\\t\\t<!--\\r\\n\\t\\t\\t\\t\\t\\t<li><a href=\"#\" class=\"btn_graph\"><span class=\"ico\"></span><span>흥행성적<br />그래프로 보기</span></a></li>\\r\\n\\t\\t\\t\\t\\t\\t-->\\r\\n\\t\\t\\t\\t\\t</ul>\\r\\n\\t\\t\\t\\t\\t<!-- 영화포스터는 최대 5개까지만 -->\\r\\n\\t\\t\\t\\t\\t<ul class=\"mov_list\">\\r\\n\\t\\t\\t\\t\\t\\t\\r\\n\\t\\t\\t\\t\\t\\t\\t<li>\\r\\n\\t\\t\\t\\t\\t\\t\\t\\t<a href=\"/movie/info/?movie_id=55829\">\\r\\n\\t\\t\\t\\t\\t\\t\\t\\t\\t<img src=\"https://image.cine21.com/resize/cine21/poster/2022/0211/55829_6205b39abb231[X85,120].jpg\" alt=\"\" class=\"thumb\"  target=\"_blank\" />\\r\\n\\t\\t\\t\\t\\t\\t\\t\\t\\t<span>이상한 나라의 수학자</span>\\r\\n\\t\\t\\t\\t\\t\\t\\t\\t</a>\\r\\n\\t\\t\\t\\t\\t\\t\\t</li>\\r\\n\\t\\t\\t\\t\\t\\t\\r\\n\\t\\t\\t\\t\\t\\t\\t<li>\\r\\n\\t\\t\\t\\t\\t\\t\\t\\t<a href=\"/movie/info/?movie_id=46202\">\\r\\n\\t\\t\\t\\t\\t\\t\\t\\t\\t<img src=\"https://image.cine21.com/resize/cine21/poster/2016/0324/15_35_06__56f38a9a5c839[X85,120].jpg\" alt=\"\" class=\"thumb\"  target=\"_blank\" />\\r\\n\\t\\t\\t\\t\\t\\t\\t\\t\\t<span>4등</span>\\r\\n\\t\\t\\t\\t\\t\\t\\t\\t</a>\\r\\n\\t\\t\\t\\t\\t\\t\\t</li>\\r\\n\\t\\t\\t\\t\\t\\t\\t\\t\\t\\t\\t</ul>\\r\\n\\t\\t\\t\\t\\t<!-- 순위 --><span class=\"grade\">4</span>\\r\\n\\t\\t\\t\\t</li>\\r\\n\\t\\t\\t\\t<li class=\"people_li\">\\r\\n\\t\\t\\t\\t\\t<a href=\"/db/person/info/?person_id=439\"><img src=\"https://image.cine21.com/resize/cine21/still/2017/1207/10_41_49__5a289c5d8bd17[X145,145].jpg\" alt=\"\" class=\"people_thumb\" target=\"_blank\" /></a>\\r\\n\\t\\t\\t\\t\\t<div class=\"name\"><a href=\"/db/person/info/?person_id=439\">김갑수(1편)</a></div>\\r\\n\\t\\t\\t\\t\\t<ul class=\"num_info\">\\r\\n\\t\\t\\t\\t\\t\\t<li><span class=\"tit\">흥행지수</span><strong>89,371</strong></li>\\r\\n\\t\\t\\t\\t\\t\\t<!--\\r\\n\\t\\t\\t\\t\\t\\t<li><a href=\"#\" class=\"btn_graph\"><span class=\"ico\"></span><span>흥행성적<br />그래프로 보기</span></a></li>\\r\\n\\t\\t\\t\\t\\t\\t-->\\r\\n\\t\\t\\t\\t\\t</ul>\\r\\n\\t\\t\\t\\t\\t<!-- 영화포스터는 최대 5개까지만 -->\\r\\n\\t\\t\\t\\t\\t<ul class=\"mov_list\">\\r\\n\\t\\t\\t\\t\\t\\t\\r\\n\\t\\t\\t\\t\\t\\t\\t<li>\\r\\n\\t\\t\\t\\t\\t\\t\\t\\t<a href=\"/movie/info/?movie_id=54503\">\\r\\n\\t\\t\\t\\t\\t\\t\\t\\t\\t<img src=\"https://image.cine21.com/resize/cine21/poster/2022/0325/54503_623d11acdf679[X85,120].jpg\" alt=\"\" class=\"thumb\"  target=\"_blank\" />\\r\\n\\t\\t\\t\\t\\t\\t\\t\\t\\t<span>뜨거운 피</span>\\r\\n\\t\\t\\t\\t\\t\\t\\t\\t</a>\\r\\n\\t\\t\\t\\t\\t\\t\\t</li>\\r\\n\\t\\t\\t\\t\\t\\t\\t\\t\\t\\t\\t</ul>\\r\\n\\t\\t\\t\\t\\t<!-- 순위 --><span class=\"grade\">5</span>\\r\\n\\t\\t\\t\\t</li>\\r\\n\\t\\t\\t\\t<li class=\"people_li\">\\r\\n\\t\\t\\t\\t\\t<a href=\"/db/person/info/?person_id=71956\"><img src=\"https://image.cine21.com/resize/cine21/still/2019/0508/14_40_39__5cd26bd704e01[X145,145].jpg\" alt=\"\" class=\"people_thumb\" target=\"_blank\" /></a>\\r\\n\\t\\t\\t\\t\\t<div class=\"name\"><a href=\"/db/person/info/?person_id=71956\">최무성(3편)</a></div>\\r\\n\\t\\t\\t\\t\\t<ul class=\"num_info\">\\r\\n\\t\\t\\t\\t\\t\\t<li><span class=\"tit\">흥행지수</span><strong>71,108</strong></li>\\r\\n\\t\\t\\t\\t\\t\\t<!--\\r\\n\\t\\t\\t\\t\\t\\t<li><a href=\"#\" class=\"btn_graph\"><span class=\"ico\"></span><span>흥행성적<br />그래프로 보기</span></a></li>\\r\\n\\t\\t\\t\\t\\t\\t-->\\r\\n\\t\\t\\t\\t\\t</ul>\\r\\n\\t\\t\\t\\t\\t<!-- 영화포스터는 최대 5개까지만 -->\\r\\n\\t\\t\\t\\t\\t<ul class=\"mov_list\">\\r\\n\\t\\t\\t\\t\\t\\t\\r\\n\\t\\t\\t\\t\\t\\t\\t<li>\\r\\n\\t\\t\\t\\t\\t\\t\\t\\t<a href=\"/movie/info/?movie_id=54503\">\\r\\n\\t\\t\\t\\t\\t\\t\\t\\t\\t<img src=\"https://image.cine21.com/resize/cine21/poster/2022/0325/54503_623d11acdf679[X85,120].jpg\" alt=\"\" class=\"thumb\"  target=\"_blank\" />\\r\\n\\t\\t\\t\\t\\t\\t\\t\\t\\t<span>뜨거운 피</span>\\r\\n\\t\\t\\t\\t\\t\\t\\t\\t</a>\\r\\n\\t\\t\\t\\t\\t\\t\\t</li>\\r\\n\\t\\t\\t\\t\\t\\t\\r\\n\\t\\t\\t\\t\\t\\t\\t<li>\\r\\n\\t\\t\\t\\t\\t\\t\\t\\t<a href=\"/movie/info/?movie_id=57057\">\\r\\n\\t\\t\\t\\t\\t\\t\\t\\t\\t<img src=\"https://image.cine21.com/resize/cine21/poster/2022/0330/57057_6243b1ceb5d5b[X85,120].jpg\" alt=\"\" class=\"thumb\"  target=\"_blank\" />\\r\\n\\t\\t\\t\\t\\t\\t\\t\\t\\t<span>배니싱: 미제사건</span>\\r\\n\\t\\t\\t\\t\\t\\t\\t\\t</a>\\r\\n\\t\\t\\t\\t\\t\\t\\t</li>\\r\\n\\t\\t\\t\\t\\t\\t\\r\\n\\t\\t\\t\\t\\t\\t\\t<li>\\r\\n\\t\\t\\t\\t\\t\\t\\t\\t<a href=\"/movie/info/?movie_id=46202\">\\r\\n\\t\\t\\t\\t\\t\\t\\t\\t\\t<img src=\"https://image.cine21.com/resize/cine21/poster/2016/0324/15_35_06__56f38a9a5c839[X85,120].jpg\" alt=\"\" class=\"thumb\"  target=\"_blank\" />\\r\\n\\t\\t\\t\\t\\t\\t\\t\\t\\t<span>4등</span>\\r\\n\\t\\t\\t\\t\\t\\t\\t\\t</a>\\r\\n\\t\\t\\t\\t\\t\\t\\t</li>\\r\\n\\t\\t\\t\\t\\t\\t\\t\\t\\t\\t\\t</ul>\\r\\n\\t\\t\\t\\t\\t<!-- 순위 --><span class=\"grade\">6</span>\\r\\n\\t\\t\\t\\t</li>\\r\\n\\t\\t\\t\\t<li class=\"people_li\">\\r\\n\\t\\t\\t\\t\\t<a href=\"/db/person/info/?person_id=62958\"><img src=\"https://image.cine21.com/resize/cine21/still/2017/1207/17_25_26__5a28faf64dac4[X145,145].jpg\" alt=\"\" class=\"people_thumb\" target=\"_blank\" /></a>\\r\\n\\t\\t\\t\\t\\t<div class=\"name\"><a href=\"/db/person/info/?person_id=62958\">박병은(1편)</a></div>\\r\\n\\t\\t\\t\\t\\t<ul class=\"num_info\">\\r\\n\\t\\t\\t\\t\\t\\t<li><span class=\"tit\">흥행지수</span><strong>64,912</strong></li>\\r\\n\\t\\t\\t\\t\\t\\t<!--\\r\\n\\t\\t\\t\\t\\t\\t<li><a href=\"#\" class=\"btn_graph\"><span class=\"ico\"></span><span>흥행성적<br />그래프로 보기</span></a></li>\\r\\n\\t\\t\\t\\t\\t\\t-->\\r\\n\\t\\t\\t\\t\\t</ul>\\r\\n\\t\\t\\t\\t\\t<!-- 영화포스터는 최대 5개까지만 -->\\r\\n\\t\\t\\t\\t\\t<ul class=\"mov_list\">\\r\\n\\t\\t\\t\\t\\t\\t\\r\\n\\t\\t\\t\\t\\t\\t\\t<li>\\r\\n\\t\\t\\t\\t\\t\\t\\t\\t<a href=\"/movie/info/?movie_id=55829\">\\r\\n\\t\\t\\t\\t\\t\\t\\t\\t\\t<img src=\"https://image.cine21.com/resize/cine21/poster/2022/0211/55829_6205b39abb231[X85,120].jpg\" alt=\"\" class=\"thumb\"  target=\"_blank\" />\\r\\n\\t\\t\\t\\t\\t\\t\\t\\t\\t<span>이상한 나라의 수학자</span>\\r\\n\\t\\t\\t\\t\\t\\t\\t\\t</a>\\r\\n\\t\\t\\t\\t\\t\\t\\t</li>\\r\\n\\t\\t\\t\\t\\t\\t\\t\\t\\t\\t\\t</ul>\\r\\n\\t\\t\\t\\t\\t<!-- 순위 --><span class=\"grade\">7</span>\\r\\n\\t\\t\\t\\t</li>\\r\\n\\t\\t\\t</ul>\\r\\n\\r\\n\\r\\n\\t\\t\\t\\t<div class=\"pagination\"><a href=\"javascript:fetch_list(1)\" class=\"btn_first\"><span class=\"hidden\">처음으로</span><span class=\"ico\"></span></a><div class=\"page\"><a href=\"javascript:;\" class=\"on\">1</a><a href=\"javascript:fetch_list(2)\">2</a><a href=\"javascript:fetch_list(3)\">3</a><a href=\"javascript:fetch_list(4)\">4</a><a href=\"javascript:fetch_list(5)\">5</a><a href=\"javascript:fetch_list(6)\">6</a><a href=\"javascript:fetch_list(7)\">7</a><a href=\"javascript:fetch_list(8)\">8</a><a href=\"javascript:fetch_list(9)\">9</a><a href=\"javascript:fetch_list(10)\">10</a></div><a href=\"javascript:fetch_list(11)\" class=\"btn_next\"><span class=\"hidden\">다음</span><span class=\"ico\"></span></a><a href=\"javascript:fetch_list(53)\" class=\"btn_end\"><span class=\"hidden\">끝으로</span><span class=\"ico\"></span></a>\\t\\t\\t\\t</div>'"
      ]
     },
     "execution_count": 5,
     "metadata": {},
     "output_type": "execute_result"
    }
   ],
   "source": [
    "url = 'http://www.cine21.com/rank/person/content'\n",
    "quereyString = dict()\n",
    "quereyString['section'] = 'actor'\n",
    "quereyString['period_start'] = '2022-03'\n",
    "quereyString['gender'] = 'all'\n",
    "quereyString['page']= '1'\n",
    "\n",
    "response = requests.post(url , quereyString)\n",
    "response.text"
   ]
  },
  {
   "cell_type": "code",
   "execution_count": 6,
   "id": "c2f96d0f",
   "metadata": {},
   "outputs": [
    {
     "data": {
      "text/plain": [
       " <ul class=\"people_list\">\n",
       "<li class=\"people_li\">\n",
       "<a href=\"/db/person/info/?person_id=2262\"><img alt=\"\" class=\"people_thumb\" src=\"https://image.cine21.com/resize/cine21/person/2020/0812/2262[X145,145].jpg\" target=\"_blank\"/></a>\n",
       "<div class=\"name\"><a href=\"/db/person/info/?person_id=2262\">최민식(1편)</a></div>\n",
       "<ul class=\"num_info\">\n",
       "<li><span class=\"tit\">흥행지수</span><strong>162,280</strong></li>\n",
       "<!--\n",
       "\t\t\t\t\t\t<li><a href=\"#\" class=\"btn_graph\"><span class=\"ico\"></span><span>흥행성적<br />그래프로 보기</span></a></li>\n",
       "\t\t\t\t\t\t-->\n",
       "</ul>\n",
       "<!-- 영화포스터는 최대 5개까지만 -->\n",
       "<ul class=\"mov_list\">\n",
       "<li>\n",
       "<a href=\"/movie/info/?movie_id=55829\">\n",
       "<img alt=\"\" class=\"thumb\" src=\"https://image.cine21.com/resize/cine21/poster/2022/0211/55829_6205b39abb231[X85,120].jpg\" target=\"_blank\"/>\n",
       "<span>이상한 나라의 수학자</span>\n",
       "</a>\n",
       "</li>\n",
       "</ul>\n",
       "<!-- 순위 --><span class=\"grade\">1</span>\n",
       "</li>\n",
       "<li class=\"people_li\">\n",
       "<a href=\"/db/person/info/?person_id=29321\"><img alt=\"\" class=\"people_thumb\" src=\"https://image.cine21.com/resize/cine21/person/2020/0122/11_55_04__5e27b988629a2[X145,145].jpg\" target=\"_blank\"/></a>\n",
       "<div class=\"name\"><a href=\"/db/person/info/?person_id=29321\">김동휘(1편)</a></div>\n",
       "<ul class=\"num_info\">\n",
       "<li><span class=\"tit\">흥행지수</span><strong>129,824</strong></li>\n",
       "<!--\n",
       "\t\t\t\t\t\t<li><a href=\"#\" class=\"btn_graph\"><span class=\"ico\"></span><span>흥행성적<br />그래프로 보기</span></a></li>\n",
       "\t\t\t\t\t\t-->\n",
       "</ul>\n",
       "<!-- 영화포스터는 최대 5개까지만 -->\n",
       "<ul class=\"mov_list\">\n",
       "<li>\n",
       "<a href=\"/movie/info/?movie_id=55829\">\n",
       "<img alt=\"\" class=\"thumb\" src=\"https://image.cine21.com/resize/cine21/poster/2022/0211/55829_6205b39abb231[X85,120].jpg\" target=\"_blank\"/>\n",
       "<span>이상한 나라의 수학자</span>\n",
       "</a>\n",
       "</li>\n",
       "</ul>\n",
       "<!-- 순위 --><span class=\"grade\">2</span>\n",
       "</li>\n",
       "<li class=\"people_li\">\n",
       "<a href=\"/db/person/info/?person_id=59497\"><img alt=\"\" class=\"people_thumb\" src=\"https://image.cine21.com/resize/cine21/still/2017/1211/18_11_19__5a2e4bb7035f3[X145,145].jpg\" target=\"_blank\"/></a>\n",
       "<div class=\"name\"><a href=\"/db/person/info/?person_id=59497\">정우(1편)</a></div>\n",
       "<ul class=\"num_info\">\n",
       "<li><span class=\"tit\">흥행지수</span><strong>111,714</strong></li>\n",
       "<!--\n",
       "\t\t\t\t\t\t<li><a href=\"#\" class=\"btn_graph\"><span class=\"ico\"></span><span>흥행성적<br />그래프로 보기</span></a></li>\n",
       "\t\t\t\t\t\t-->\n",
       "</ul>\n",
       "<!-- 영화포스터는 최대 5개까지만 -->\n",
       "<ul class=\"mov_list\">\n",
       "<li>\n",
       "<a href=\"/movie/info/?movie_id=54503\">\n",
       "<img alt=\"\" class=\"thumb\" src=\"https://image.cine21.com/resize/cine21/poster/2022/0325/54503_623d11acdf679[X85,120].jpg\" target=\"_blank\"/>\n",
       "<span>뜨거운 피</span>\n",
       "</a>\n",
       "</li>\n",
       "</ul>\n",
       "<!-- 순위 --><span class=\"grade\">3</span>\n",
       "</li>\n",
       "<li class=\"people_li\">\n",
       "<a href=\"/db/person/info/?person_id=83460\"><img alt=\"\" class=\"people_thumb\" src=\"https://image.cine21.com/resize/cine21/person/2019/0403/18_44_30__5ca4807ecb602[X145,145].jpg\" target=\"_blank\"/></a>\n",
       "<div class=\"name\"><a href=\"/db/person/info/?person_id=83460\">박해준(2편)</a></div>\n",
       "<ul class=\"num_info\">\n",
       "<li><span class=\"tit\">흥행지수</span><strong>97,395</strong></li>\n",
       "<!--\n",
       "\t\t\t\t\t\t<li><a href=\"#\" class=\"btn_graph\"><span class=\"ico\"></span><span>흥행성적<br />그래프로 보기</span></a></li>\n",
       "\t\t\t\t\t\t-->\n",
       "</ul>\n",
       "<!-- 영화포스터는 최대 5개까지만 -->\n",
       "<ul class=\"mov_list\">\n",
       "<li>\n",
       "<a href=\"/movie/info/?movie_id=55829\">\n",
       "<img alt=\"\" class=\"thumb\" src=\"https://image.cine21.com/resize/cine21/poster/2022/0211/55829_6205b39abb231[X85,120].jpg\" target=\"_blank\"/>\n",
       "<span>이상한 나라의 수학자</span>\n",
       "</a>\n",
       "</li>\n",
       "<li>\n",
       "<a href=\"/movie/info/?movie_id=46202\">\n",
       "<img alt=\"\" class=\"thumb\" src=\"https://image.cine21.com/resize/cine21/poster/2016/0324/15_35_06__56f38a9a5c839[X85,120].jpg\" target=\"_blank\"/>\n",
       "<span>4등</span>\n",
       "</a>\n",
       "</li>\n",
       "</ul>\n",
       "<!-- 순위 --><span class=\"grade\">4</span>\n",
       "</li>\n",
       "<li class=\"people_li\">\n",
       "<a href=\"/db/person/info/?person_id=439\"><img alt=\"\" class=\"people_thumb\" src=\"https://image.cine21.com/resize/cine21/still/2017/1207/10_41_49__5a289c5d8bd17[X145,145].jpg\" target=\"_blank\"/></a>\n",
       "<div class=\"name\"><a href=\"/db/person/info/?person_id=439\">김갑수(1편)</a></div>\n",
       "<ul class=\"num_info\">\n",
       "<li><span class=\"tit\">흥행지수</span><strong>89,371</strong></li>\n",
       "<!--\n",
       "\t\t\t\t\t\t<li><a href=\"#\" class=\"btn_graph\"><span class=\"ico\"></span><span>흥행성적<br />그래프로 보기</span></a></li>\n",
       "\t\t\t\t\t\t-->\n",
       "</ul>\n",
       "<!-- 영화포스터는 최대 5개까지만 -->\n",
       "<ul class=\"mov_list\">\n",
       "<li>\n",
       "<a href=\"/movie/info/?movie_id=54503\">\n",
       "<img alt=\"\" class=\"thumb\" src=\"https://image.cine21.com/resize/cine21/poster/2022/0325/54503_623d11acdf679[X85,120].jpg\" target=\"_blank\"/>\n",
       "<span>뜨거운 피</span>\n",
       "</a>\n",
       "</li>\n",
       "</ul>\n",
       "<!-- 순위 --><span class=\"grade\">5</span>\n",
       "</li>\n",
       "<li class=\"people_li\">\n",
       "<a href=\"/db/person/info/?person_id=71956\"><img alt=\"\" class=\"people_thumb\" src=\"https://image.cine21.com/resize/cine21/still/2019/0508/14_40_39__5cd26bd704e01[X145,145].jpg\" target=\"_blank\"/></a>\n",
       "<div class=\"name\"><a href=\"/db/person/info/?person_id=71956\">최무성(3편)</a></div>\n",
       "<ul class=\"num_info\">\n",
       "<li><span class=\"tit\">흥행지수</span><strong>71,108</strong></li>\n",
       "<!--\n",
       "\t\t\t\t\t\t<li><a href=\"#\" class=\"btn_graph\"><span class=\"ico\"></span><span>흥행성적<br />그래프로 보기</span></a></li>\n",
       "\t\t\t\t\t\t-->\n",
       "</ul>\n",
       "<!-- 영화포스터는 최대 5개까지만 -->\n",
       "<ul class=\"mov_list\">\n",
       "<li>\n",
       "<a href=\"/movie/info/?movie_id=54503\">\n",
       "<img alt=\"\" class=\"thumb\" src=\"https://image.cine21.com/resize/cine21/poster/2022/0325/54503_623d11acdf679[X85,120].jpg\" target=\"_blank\"/>\n",
       "<span>뜨거운 피</span>\n",
       "</a>\n",
       "</li>\n",
       "<li>\n",
       "<a href=\"/movie/info/?movie_id=57057\">\n",
       "<img alt=\"\" class=\"thumb\" src=\"https://image.cine21.com/resize/cine21/poster/2022/0330/57057_6243b1ceb5d5b[X85,120].jpg\" target=\"_blank\"/>\n",
       "<span>배니싱: 미제사건</span>\n",
       "</a>\n",
       "</li>\n",
       "<li>\n",
       "<a href=\"/movie/info/?movie_id=46202\">\n",
       "<img alt=\"\" class=\"thumb\" src=\"https://image.cine21.com/resize/cine21/poster/2016/0324/15_35_06__56f38a9a5c839[X85,120].jpg\" target=\"_blank\"/>\n",
       "<span>4등</span>\n",
       "</a>\n",
       "</li>\n",
       "</ul>\n",
       "<!-- 순위 --><span class=\"grade\">6</span>\n",
       "</li>\n",
       "<li class=\"people_li\">\n",
       "<a href=\"/db/person/info/?person_id=62958\"><img alt=\"\" class=\"people_thumb\" src=\"https://image.cine21.com/resize/cine21/still/2017/1207/17_25_26__5a28faf64dac4[X145,145].jpg\" target=\"_blank\"/></a>\n",
       "<div class=\"name\"><a href=\"/db/person/info/?person_id=62958\">박병은(1편)</a></div>\n",
       "<ul class=\"num_info\">\n",
       "<li><span class=\"tit\">흥행지수</span><strong>64,912</strong></li>\n",
       "<!--\n",
       "\t\t\t\t\t\t<li><a href=\"#\" class=\"btn_graph\"><span class=\"ico\"></span><span>흥행성적<br />그래프로 보기</span></a></li>\n",
       "\t\t\t\t\t\t-->\n",
       "</ul>\n",
       "<!-- 영화포스터는 최대 5개까지만 -->\n",
       "<ul class=\"mov_list\">\n",
       "<li>\n",
       "<a href=\"/movie/info/?movie_id=55829\">\n",
       "<img alt=\"\" class=\"thumb\" src=\"https://image.cine21.com/resize/cine21/poster/2022/0211/55829_6205b39abb231[X85,120].jpg\" target=\"_blank\"/>\n",
       "<span>이상한 나라의 수학자</span>\n",
       "</a>\n",
       "</li>\n",
       "</ul>\n",
       "<!-- 순위 --><span class=\"grade\">7</span>\n",
       "</li>\n",
       "</ul>\n",
       "<div class=\"pagination\"><a class=\"btn_first\" href=\"javascript:fetch_list(1)\"><span class=\"hidden\">처음으로</span><span class=\"ico\"></span></a><div class=\"page\"><a class=\"on\" href=\"javascript:;\">1</a><a href=\"javascript:fetch_list(2)\">2</a><a href=\"javascript:fetch_list(3)\">3</a><a href=\"javascript:fetch_list(4)\">4</a><a href=\"javascript:fetch_list(5)\">5</a><a href=\"javascript:fetch_list(6)\">6</a><a href=\"javascript:fetch_list(7)\">7</a><a href=\"javascript:fetch_list(8)\">8</a><a href=\"javascript:fetch_list(9)\">9</a><a href=\"javascript:fetch_list(10)\">10</a></div><a class=\"btn_next\" href=\"javascript:fetch_list(11)\"><span class=\"hidden\">다음</span><span class=\"ico\"></span></a><a class=\"btn_end\" href=\"javascript:fetch_list(53)\"><span class=\"hidden\">끝으로</span><span class=\"ico\"></span></a> </div>"
      ]
     },
     "execution_count": 6,
     "metadata": {},
     "output_type": "execute_result"
    }
   ],
   "source": [
    "# case 1 bs4 배우이름 추출 \n",
    "soup = BeautifulSoup(response.content  ,'html.parser')\n",
    "soup"
   ]
  },
  {
   "cell_type": "markdown",
   "id": "2ea450b3",
   "metadata": {},
   "source": [
    "- 정규식 \n",
    "- https://docs.python.org/ko/3/library/re.html#regular-expression-syntax"
   ]
  },
  {
   "cell_type": "markdown",
   "id": "01e27599",
   "metadata": {},
   "source": [
    "#### metacharacters (메타 캐릭터)\n",
    "- [] 문자들의 범위를 나타내기 위해 사용\n",
    "\n",
    "- [abck] : a or b or c or k\n",
    "- [abc.^] : a or b or c or . or ^\n",
    "- [a-d] : -와 함께 사용되면 해당 문자 사이의 범위에 속하는 문자 중 하나\n",
    "- [0-9] : 모든 숫자\n",
    "- [a-z] : 모든 소문자\n",
    "- [A-Z] : 모든 대문자\n",
    "- [a-zA-Z0-9] : 모든 알파벳 문자 및 숫자\n",
    "- [^0-9] : ^가 맨 앞에 사용 되는 경우 해당 문자 패턴이 아닌 것과 매칭\n"
   ]
  },
  {
   "cell_type": "markdown",
   "id": "f8557290",
   "metadata": {},
   "source": [
    "- \\\n",
    "#### 다른 문자와 함께 사용되어 특수한 의미로 사용\n",
    "\n",
    "- \\d : 숫자를 [0-9]와 동일\n",
    "- \\D : 숫자가 아닌 문자 [^0-9]와 동일\n",
    "- \\s : 공백 문자(띄어쓰기, 탭, 엔터 등)\n",
    "- \\S : 공백이 아닌 문자\n",
    "- \\w : 알파벳대소문자, 숫자 [0-9a-zA-Z]와 동일\n",
    "- \\W : non alpha-numeric 문자 [^0-9a-zA-Z]와 동일\n",
    "- \\t, \\n, \\r - tab, newline, return\n"
   ]
  },
  {
   "cell_type": "markdown",
   "id": "49dfe50a",
   "metadata": {},
   "source": [
    "####  $ , ^\n",
    "\n",
    "- ^ : 문자열의 맨 앞부터 일치하는 경우 검색\n",
    "\n",
    "- $ : 문자열의 맨 뒤부터 일치하는 경우 검색\n",
    "\n",
    "- ^ = 시작, $ = 끝 : 각각 문자열의 시작과 끝을 의미\n"
   ]
  },
  {
   "cell_type": "code",
   "execution_count": 7,
   "id": "554cb524",
   "metadata": {},
   "outputs": [],
   "source": [
    "# bs를 이용한 배우이름만 추출 \n"
   ]
  },
  {
   "cell_type": "code",
   "execution_count": null,
   "id": "f0f4f479",
   "metadata": {},
   "outputs": [],
   "source": []
  },
  {
   "cell_type": "code",
   "execution_count": 11,
   "id": "5890b1d0",
   "metadata": {},
   "outputs": [],
   "source": [
    "lis = soup.select('.people_lsit li div.name')\n",
    "for li in lis :\n",
    "    print(re.sub('\\(\\w*\\)','',li.get_text()))\n",
    "    "
   ]
  },
  {
   "cell_type": "code",
   "execution_count": 8,
   "id": "3ec06b8c",
   "metadata": {},
   "outputs": [
    {
     "name": "stdout",
     "output_type": "stream",
     "text": [
      "배우이름, 흥행지수, 출연영화 크롤링 - \n",
      "\n",
      "배우이름 :  최민식\n",
      "흥행지수 :  162280\n",
      "출연영화 :  ['이상한 나라의 수학자']\n",
      "랭킹 :  1\n",
      "**************************************************\n",
      "배우이름 :  김동휘\n",
      "흥행지수 :  129824\n",
      "출연영화 :  ['이상한 나라의 수학자']\n",
      "랭킹 :  2\n",
      "**************************************************\n",
      "배우이름 :  정우\n",
      "흥행지수 :  111714\n",
      "출연영화 :  ['뜨거운 피']\n",
      "랭킹 :  3\n",
      "**************************************************\n",
      "배우이름 :  박해준\n",
      "흥행지수 :  97395\n",
      "출연영화 :  ['이상한 나라의 수학자', '4등']\n",
      "랭킹 :  4\n",
      "**************************************************\n",
      "배우이름 :  김갑수\n",
      "흥행지수 :  89371\n",
      "출연영화 :  ['뜨거운 피']\n",
      "랭킹 :  5\n",
      "**************************************************\n",
      "배우이름 :  최무성\n",
      "흥행지수 :  71108\n",
      "출연영화 :  ['뜨거운 피', '배니싱: 미제사건', '4등']\n",
      "랭킹 :  6\n",
      "**************************************************\n",
      "배우이름 :  박병은\n",
      "흥행지수 :  64912\n",
      "출연영화 :  ['이상한 나라의 수학자']\n",
      "랭킹 :  7\n",
      "**************************************************\n"
     ]
    }
   ],
   "source": [
    "print('배우이름, 흥행지수, 출연영화 크롤링 - ')\n",
    "print()\n",
    "actors  = soup.select('.people_list li div.name')\n",
    "hits    = soup.select('ul.num_info > li > strong')\n",
    "movies  = soup.select('ul.mov_list')\n",
    "rankings = soup.select('li.people_li > span.grade')\n",
    "\n",
    "for idx , actor in enumerate(actors) :\n",
    "    print('배우이름 : ' , re.sub('\\(\\w*\\)' , '' , actor.get_text() ) )\n",
    "    print('흥행지수 : ' , hits[idx].get_text().replace(',' , ''))\n",
    "    # print( movies[idx].select('li a span')[0].get_text() )\n",
    "    titles = movies[idx].select('li a span') \n",
    "    title_lst = []\n",
    "    for title in titles : \n",
    "        title_lst.append( title.get_text() )\n",
    "        \n",
    "        \n",
    "    print('출연영화 : ' , title_lst)\n",
    "    print('랭킹 : ' , rankings[idx].get_text())\n",
    "    print('*' * 50)\n"
   ]
  },
  {
   "cell_type": "code",
   "execution_count": 9,
   "id": "a120755c",
   "metadata": {},
   "outputs": [],
   "source": []
  },
  {
   "cell_type": "code",
   "execution_count": 10,
   "id": "75bd8b58",
   "metadata": {},
   "outputs": [
    {
     "ename": "NameError",
     "evalue": "name 'detail_info_lis' is not defined",
     "output_type": "error",
     "traceback": [
      "\u001b[1;31m---------------------------------------------------------------------------\u001b[0m",
      "\u001b[1;31mNameError\u001b[0m                                 Traceback (most recent call last)",
      "\u001b[1;32m~\\AppData\\Local\\Temp/ipykernel_8524/3650259135.py\u001b[0m in \u001b[0;36m<module>\u001b[1;34m\u001b[0m\n\u001b[0;32m      1\u001b[0m \u001b[0mdetail_dict\u001b[0m \u001b[1;33m=\u001b[0m \u001b[0mdict\u001b[0m\u001b[1;33m(\u001b[0m\u001b[1;33m)\u001b[0m\u001b[1;33m\u001b[0m\u001b[1;33m\u001b[0m\u001b[0m\n\u001b[0;32m      2\u001b[0m \u001b[1;33m\u001b[0m\u001b[0m\n\u001b[1;32m----> 3\u001b[1;33m \u001b[1;32mfor\u001b[0m \u001b[0mli\u001b[0m \u001b[1;32min\u001b[0m \u001b[0mdetail_info_lis\u001b[0m \u001b[1;33m:\u001b[0m\u001b[1;33m\u001b[0m\u001b[1;33m\u001b[0m\u001b[0m\n\u001b[0m\u001b[0;32m      4\u001b[0m     \u001b[1;31m# print( li.select('span.tit')[0].get_text() )\u001b[0m\u001b[1;33m\u001b[0m\u001b[1;33m\u001b[0m\u001b[0m\n\u001b[0;32m      5\u001b[0m     \u001b[0mdetail_key\u001b[0m \u001b[1;33m=\u001b[0m \u001b[0mli\u001b[0m\u001b[1;33m.\u001b[0m\u001b[0mselect\u001b[0m\u001b[1;33m(\u001b[0m\u001b[1;34m'span.tit'\u001b[0m\u001b[1;33m)\u001b[0m\u001b[1;33m[\u001b[0m\u001b[1;36m0\u001b[0m\u001b[1;33m]\u001b[0m\u001b[1;33m.\u001b[0m\u001b[0mget_text\u001b[0m\u001b[1;33m(\u001b[0m\u001b[1;33m)\u001b[0m\u001b[1;33m\u001b[0m\u001b[1;33m\u001b[0m\u001b[0m\n",
      "\u001b[1;31mNameError\u001b[0m: name 'detail_info_lis' is not defined"
     ]
    }
   ],
   "source": [
    "detail_dict = dict()\n",
    "    \n",
    "for li in detail_info_lis : \n",
    "    # print( li.select('span.tit')[0].get_text() )\n",
    "    detail_key = li.select('span.tit')[0].get_text()\n",
    "\n",
    "            # print( re.sub('<span.*?>*?</span>' , '' , str(li) ) )\n",
    "    detail_value = re.sub('<span.*?>.*?</span>' , '' , str(li) ) \n",
    "    detail_value = re.sub('<.*?>' , '' , detail_value ) \n",
    "            # print( re.sub('<span.*?>*?</span>' , '' , detail_value ) )\n",
    "\n",
    "    detail_dict[detail_key] = detail_value"
   ]
  },
  {
   "cell_type": "code",
   "execution_count": null,
   "id": "5fc87951",
   "metadata": {},
   "outputs": [],
   "source": []
  },
  {
   "cell_type": "code",
   "execution_count": null,
   "id": "cf075c1e",
   "metadata": {},
   "outputs": [],
   "source": [
    "# case 02 selium \n",
    "path = 'C:/Users/crid2/driver/chromedriver.exe'\n",
    "driver = webdriver.Chrome(path)    \n",
    "driver.get('http://www.cine21.com/rank/person/content')"
   ]
  },
  {
   "cell_type": "code",
   "execution_count": null,
   "id": "16c89000",
   "metadata": {},
   "outputs": [],
   "source": []
  }
 ],
 "metadata": {
  "kernelspec": {
   "display_name": "Python 3 (ipykernel)",
   "language": "python",
   "name": "python3"
  },
  "language_info": {
   "codemirror_mode": {
    "name": "ipython",
    "version": 3
   },
   "file_extension": ".py",
   "mimetype": "text/x-python",
   "name": "python",
   "nbconvert_exporter": "python",
   "pygments_lexer": "ipython3",
   "version": "3.9.7"
  },
  "varInspector": {
   "cols": {
    "lenName": 16,
    "lenType": 16,
    "lenVar": 40
   },
   "kernels_config": {
    "python": {
     "delete_cmd_postfix": "",
     "delete_cmd_prefix": "del ",
     "library": "var_list.py",
     "varRefreshCmd": "print(var_dic_list())"
    },
    "r": {
     "delete_cmd_postfix": ") ",
     "delete_cmd_prefix": "rm(",
     "library": "var_list.r",
     "varRefreshCmd": "cat(var_dic_list()) "
    }
   },
   "types_to_exclude": [
    "module",
    "function",
    "builtin_function_or_method",
    "instance",
    "_Feature"
   ],
   "window_display": false
  }
 },
 "nbformat": 4,
 "nbformat_minor": 5
}
