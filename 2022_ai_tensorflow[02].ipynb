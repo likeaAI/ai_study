{
 "cells": [
  {
   "cell_type": "code",
   "execution_count": 1,
   "metadata": {
    "id": "tZDgP0ORDhTH"
   },
   "outputs": [],
   "source": [
    "from tensorflow.keras.datasets   import boston_housing , mnist , fashion_mnist\n",
    "from tensorflow.keras.models     import Sequential , clone_model , Model\n",
    "from tensorflow.keras.layers     import Dense , Activation , InputLayer , Flatten , Input , BatchNormalization , Dropout , Embedding\n",
    "from tensorflow.keras            import optimizers  \n",
    "from tensorflow.keras.callbacks  import EarlyStopping , ModelCheckpoint , Callback\n",
    "from tensorflow.keras.optimizers import SGD , Adam\n",
    "\n",
    "# 자연어 처리\n",
    "from tensorflow.keras.preprocessing.text          import Tokenizer\n",
    "from tensorflow.keras.preprocessing.sequence      import pad_sequences\n",
    "\n",
    "from keras.utils.np_utils      import to_categorical\n",
    "\n",
    "from sklearn.datasets          import load_iris , load_breast_cancer , load_digits\n",
    "from sklearn.model_selection   import train_test_split\n",
    "\n",
    "import matplotlib.pyplot as plt\n",
    "\n",
    "import numpy  as np\n",
    "import pandas as pd\n"
   ]
  },
  {
   "cell_type": "markdown",
   "metadata": {
    "id": "i9k0Gp8TMFXG"
   },
   "source": [
    "#### 성능개선\n",
    "\n",
    "- 가중치 초기화\n",
    "- 활성화 함수 변경\n",
    "- 옵티마이저 변경\n",
    "- 정규화\n",
    "- 드롭아웃"
   ]
  },
  {
   "cell_type": "code",
   "execution_count": 2,
   "metadata": {
    "colab": {
     "base_uri": "https://localhost:8080/"
    },
    "id": "31s1A7JCMSQo",
    "outputId": "6632355c-08aa-4dd3-8fcc-0b87bc7a54a3"
   },
   "outputs": [
    {
     "name": "stdout",
     "output_type": "stream",
     "text": [
      "1. 데이터 세트 로드 - \n",
      "\n",
      "Downloading data from https://storage.googleapis.com/tensorflow/tf-keras-datasets/train-labels-idx1-ubyte.gz\n",
      "32768/29515 [=================================] - 0s 0us/step\n",
      "40960/29515 [=========================================] - 0s 0us/step\n",
      "Downloading data from https://storage.googleapis.com/tensorflow/tf-keras-datasets/train-images-idx3-ubyte.gz\n",
      "26427392/26421880 [==============================] - 1s 0us/step\n",
      "26435584/26421880 [==============================] - 1s 0us/step\n",
      "Downloading data from https://storage.googleapis.com/tensorflow/tf-keras-datasets/t10k-labels-idx1-ubyte.gz\n",
      "16384/5148 [===============================================================================================] - 0s 0s/step\n",
      "Downloading data from https://storage.googleapis.com/tensorflow/tf-keras-datasets/t10k-images-idx3-ubyte.gz\n",
      "4423680/4422102 [==============================] - 0s 0us/step\n",
      "4431872/4422102 [==============================] - 0s 0us/step\n"
     ]
    },
    {
     "data": {
      "text/plain": [
       "(((60000, 28, 28), (60000,)), ((10000, 28, 28), (10000,)))"
      ]
     },
     "execution_count": 2,
     "metadata": {},
     "output_type": "execute_result"
    }
   ],
   "source": [
    "print('1. 데이터 세트 로드 - ')\n",
    "print()\n",
    "\n",
    "(X_train, y_train), (X_test, y_test) = fashion_mnist.load_data()\n",
    "(X_train.shape, y_train.shape), (X_test.shape, y_test.shape)\n"
   ]
  },
  {
   "cell_type": "markdown",
   "metadata": {
    "id": "Z9hqSQN0PfZc"
   },
   "source": [
    "0 : T-shirt/top\n",
    "1 : Trouser\n",
    "2 : Pullover\n",
    "3 : Dress\n",
    "4 : Coat\n",
    "5 : Sandal\n",
    "6 : Shirt\n",
    "7 : Sneaker\n",
    "8 : Bag\n",
    "9 : Ankel boot"
   ]
  },
  {
   "cell_type": "code",
   "execution_count": 3,
   "metadata": {
    "colab": {
     "base_uri": "https://localhost:8080/",
     "height": 321
    },
    "id": "yyV73_6_Dm9s",
    "outputId": "6f4a2d24-188b-413f-8334-c2e8049307bc"
   },
   "outputs": [
    {
     "name": "stdout",
     "output_type": "stream",
     "text": [
      "X_train[0] imshow() 시각화 - \n"
     ]
    },
    {
     "data": {
      "image/png": "[encoded data removed]",
      "text/plain": [
       "<Figure size 432x288 with 1 Axes>"
      ]
     },
     "metadata": {
      "needs_background": "light"
     },
     "output_type": "display_data"
    },
    {
     "name": "stdout",
     "output_type": "stream",
     "text": [
      "\n",
      "\n",
      "9\n"
     ]
    }
   ],
   "source": [
    "print('X_train[0] imshow() 시각화 - ')\n",
    "\n",
    "plt.imshow(X_train[0],cmap = plt.cm.binary)\n",
    "\n",
    "plt.grid(False)\n",
    "plt.axis('off')\n",
    "plt.show()\n",
    "plt.close()\n",
    "print()\n",
    "print()\n",
    "print(y_train[0])\n",
    "\n"
   ]
  },
  {
   "cell_type": "code",
   "execution_count": 4,
   "metadata": {
    "colab": {
     "base_uri": "https://localhost:8080/"
    },
    "id": "u_YnOVcsJ2fB",
    "outputId": "42febe51-8533-4a39-ab56-0acad87abbea"
   },
   "outputs": [
    {
     "name": "stdout",
     "output_type": "stream",
     "text": [
      "02. 데이터 전처리 훈련/테스트 0.0 ~ 1.0 변환 - \n"
     ]
    }
   ],
   "source": [
    "print('02. 데이터 전처리 훈련/테스트 0.0 ~ 1.0 변환 - ')\n",
    "\n",
    "X_train , X_test = X_train/255.0 , X_test/255.0\n",
    "\n"
   ]
  },
  {
   "cell_type": "code",
   "execution_count": 5,
   "metadata": {
    "colab": {
     "base_uri": "https://localhost:8080/"
    },
    "id": "x2F0eQcSJ2hn",
    "outputId": "82fbee11-0baf-4e79-abdc-df36d98aafa4"
   },
   "outputs": [
    {
     "name": "stdout",
     "output_type": "stream",
     "text": [
      "03. 모델 구성 - Flatten - hidden(512 , relu) - output(10 , softmax) \n"
     ]
    }
   ],
   "source": [
    "print('03. 모델 구성 - Flatten - hidden(512 , relu) - output(10 , softmax) ')\n",
    "\n",
    "fashion_model = Sequential()\n",
    "fashion_model.add( Flatten( input_shape = (28, 28) ) )  \n",
    "fashion_model.add( Dense(units = 512, activation = 'relu' ) )\n",
    "fashion_model.add( Dense(units = 10 , activation = 'softmax') ) \n"
   ]
  },
  {
   "cell_type": "code",
   "execution_count": 6,
   "metadata": {
    "colab": {
     "base_uri": "https://localhost:8080/"
    },
    "id": "Ltg1TtNKRUR1",
    "outputId": "45438bbe-df44-4340-e25e-a36edbb0ae3b"
   },
   "outputs": [
    {
     "name": "stdout",
     "output_type": "stream",
     "text": [
      "04. 모델 컴파일 optimizer - adam , loss - sparse_categorical_crossentropy , metrics - accuracy\n"
     ]
    }
   ],
   "source": [
    "print('04. 모델 컴파일 optimizer - adam , loss - sparse_categorical_crossentropy , metrics - accuracy')\n",
    "\n",
    "fashion_model.compile(optimizer = 'Adam', \n",
    "                      loss= 'sparse_categorical_crossentropy' , \n",
    "                      metrics=['accuracy'] ) \n",
    "\n",
    "\n",
    "\n"
   ]
  },
  {
   "cell_type": "code",
   "execution_count": 7,
   "metadata": {
    "colab": {
     "base_uri": "https://localhost:8080/"
    },
    "id": "qgbvHLmzJ2kW",
    "outputId": "7307fe66-69db-4172-c14f-b2632bf987f6"
   },
   "outputs": [
    {
     "name": "stdout",
     "output_type": "stream",
     "text": [
      "Model: \"sequential\"\n",
      "_________________________________________________________________\n",
      " Layer (type)                Output Shape              Param #   \n",
      "=================================================================\n",
      " flatten (Flatten)           (None, 784)               0         \n",
      "                                                                 \n",
      " dense (Dense)               (None, 512)               401920    \n",
      "                                                                 \n",
      " dense_1 (Dense)             (None, 10)                5130      \n",
      "                                                                 \n",
      "=================================================================\n",
      "Total params: 407,050\n",
      "Trainable params: 407,050\n",
      "Non-trainable params: 0\n",
      "_________________________________________________________________\n"
     ]
    }
   ],
   "source": [
    "fashion_model.summary()"
   ]
  },
  {
   "cell_type": "code",
   "execution_count": 8,
   "metadata": {
    "colab": {
     "base_uri": "https://localhost:8080/"
    },
    "id": "zWOrWkcEJ2m_",
    "outputId": "2e8c420b-f327-4b67-f471-55db4a0e9d70"
   },
   "outputs": [
    {
     "name": "stdout",
     "output_type": "stream",
     "text": [
      "05. 모델 훈련 - epochs 10회\n",
      "Epoch 1/10\n",
      "1875/1875 [==============================] - 7s 3ms/step - loss: 0.4739 - accuracy: 0.8313\n",
      "Epoch 2/10\n",
      "1875/1875 [==============================] - 6s 3ms/step - loss: 0.3606 - accuracy: 0.8691\n",
      "Epoch 3/10\n",
      "1875/1875 [==============================] - 6s 3ms/step - loss: 0.3222 - accuracy: 0.8802\n",
      "Epoch 4/10\n",
      "1875/1875 [==============================] - 6s 3ms/step - loss: 0.3010 - accuracy: 0.8890\n",
      "Epoch 5/10\n",
      "1875/1875 [==============================] - 6s 3ms/step - loss: 0.2803 - accuracy: 0.8957\n",
      "Epoch 6/10\n",
      "1875/1875 [==============================] - 6s 3ms/step - loss: 0.2652 - accuracy: 0.9011\n",
      "Epoch 7/10\n",
      "1875/1875 [==============================] - 6s 3ms/step - loss: 0.2515 - accuracy: 0.9062\n",
      "Epoch 8/10\n",
      "1875/1875 [==============================] - 6s 3ms/step - loss: 0.2415 - accuracy: 0.9098\n",
      "Epoch 9/10\n",
      "1875/1875 [==============================] - 6s 3ms/step - loss: 0.2293 - accuracy: 0.9130\n",
      "Epoch 10/10\n",
      "1875/1875 [==============================] - 6s 3ms/step - loss: 0.2244 - accuracy: 0.9155\n"
     ]
    },
    {
     "data": {
      "text/plain": [
       "<keras.callbacks.History at 0x2a1bae76970>"
      ]
     },
     "execution_count": 8,
     "metadata": {},
     "output_type": "execute_result"
    }
   ],
   "source": [
    "print('05. 모델 훈련 - epochs 10회')\n",
    "fashion_model.fit(X_train , y_train , epochs=10  , verbose = 1)\n",
    "\n"
   ]
  },
  {
   "cell_type": "code",
   "execution_count": 9,
   "metadata": {
    "colab": {
     "base_uri": "https://localhost:8080/"
    },
    "id": "MYwhcr2YJ2p3",
    "outputId": "c2b9462b-7fa6-4bff-d2b4-cd98f68c166f"
   },
   "outputs": [
    {
     "name": "stdout",
     "output_type": "stream",
     "text": [
      "06. 모델정확도 평가 - \n",
      "313/313 [==============================] - 1s 2ms/step - loss: 0.3320 - accuracy: 0.8873\n",
      "loss     -  0.3319692015647888\n",
      "accuracy -  0.8873000144958496\n"
     ]
    }
   ],
   "source": [
    "print('06. 모델정확도 평가 - ')\n",
    "\n",
    "loss , accuracy = fashion_model.evaluate(X_test,y_test)\n",
    "print('loss     - ' , loss)\n",
    "print('accuracy - ' , accuracy)"
   ]
  },
  {
   "cell_type": "code",
   "execution_count": 10,
   "metadata": {
    "colab": {
     "base_uri": "https://localhost:8080/"
    },
    "id": "ZAwViYQ0J2sf",
    "outputId": "acb5d8ec-f29c-460e-de07-00eb5bb052d1"
   },
   "outputs": [
    {
     "name": "stdout",
     "output_type": "stream",
     "text": [
      "07. 예측 - \n",
      "[2.2255181e-10 4.0092265e-12 1.2831515e-10 8.1732702e-12 9.8864569e-11\n",
      " 1.2565046e-04 4.1446975e-09 3.0229045e-03 4.3128414e-11 9.9685150e-01]\n",
      "9\n"
     ]
    }
   ],
   "source": [
    "print('07. 예측 - ')\n",
    "y_pred = fashion_model.predict(X_test) \n",
    "print( y_pred[0])\n",
    "print( np.argmax(y_pred[0]))"
   ]
  },
  {
   "cell_type": "code",
   "execution_count": 11,
   "metadata": {
    "id": "hrfyrx9FJ4Bn"
   },
   "outputs": [],
   "source": [
    "def basic_model() :\n",
    "  \n",
    "  fashion_model = Sequential()\n",
    "  fashion_model.add( Flatten( input_shape = (28, 28) ) )  \n",
    "  fashion_model.add( Dense(units = 512, activation = 'relu' ) )\n",
    "  fashion_model.add( Dense(units = 10 , activation = 'softmax') )\n",
    "\n",
    "  fashion_model.compile(optimizer = 'Adam', \n",
    "                      loss= 'sparse_categorical_crossentropy' , \n",
    "                      metrics=['accuracy'] ) \n",
    "  \n",
    "  return fashion_model "
   ]
  },
  {
   "cell_type": "markdown",
   "metadata": {
    "id": "RbRoPggqJ3is"
   },
   "source": []
  },
  {
   "cell_type": "code",
   "execution_count": 12,
   "metadata": {
    "id": "Eu6i25kkJ2vW"
   },
   "outputs": [],
   "source": [
    "def hidden_layer_128_model() :\n",
    "  \n",
    "  fashion_model = Sequential()\n",
    "  fashion_model.add( Flatten( input_shape = (28, 28) ) )  \n",
    "  fashion_model.add( Dense(units = 128, activation = 'relu' ) )\n",
    "  fashion_model.add( Dense(units = 10 , activation = 'softmax') )\n",
    "\n",
    "  fashion_model.compile(optimizer = 'Adam', \n",
    "                      loss= 'sparse_categorical_crossentropy' , \n",
    "                      metrics=['accuracy'] ) \n",
    "  \n",
    "  return fashion_model \n",
    "\n",
    "def hidden_layer_512_model() :\n",
    "  \n",
    "  fashion_model = Sequential()\n",
    "  fashion_model.add( Flatten( input_shape = (28, 28) ) )  \n",
    "  fashion_model.add( Dense(units = 512, activation = 'relu' ) )\n",
    "  fashion_model.add( Dense(units = 10 , activation = 'softmax') )\n",
    "\n",
    "  fashion_model.compile(optimizer = 'Adam', \n",
    "                      loss= 'sparse_categorical_crossentropy' , \n",
    "                      metrics=['accuracy'] ) \n",
    "  \n",
    "  return fashion_model\n",
    "\n",
    "def hidden_layer_1024_model() :\n",
    "  \n",
    "  fashion_model = Sequential()\n",
    "  fashion_model.add( Flatten( input_shape = (28, 28) ) )  \n",
    "  fashion_model.add( Dense(units = 1024, activation = 'relu' ) )\n",
    "  fashion_model.add( Dense(units = 10 , activation = 'softmax') )\n",
    "\n",
    "  fashion_model.compile(optimizer = 'Adam', \n",
    "                      loss= 'sparse_categorical_crossentropy' , \n",
    "                      metrics=['accuracy'] ) \n",
    "  \n",
    "  return fashion_model"
   ]
  },
  {
   "cell_type": "code",
   "execution_count": 13,
   "metadata": {
    "colab": {
     "base_uri": "https://localhost:8080/"
    },
    "id": "yqQ5zlxFJ2x_",
    "outputId": "f72e3eef-f3ae-4449-bc4e-9aa3b34c8d9f"
   },
   "outputs": [
    {
     "name": "stdout",
     "output_type": "stream",
     "text": [
      "Epoch 1/10\n",
      "1875/1875 [==============================] - 3s 1ms/step - loss: 0.4994 - accuracy: 0.8245\n",
      "Epoch 2/10\n",
      "1875/1875 [==============================] - 2s 1ms/step - loss: 0.3789 - accuracy: 0.8631\n",
      "Epoch 3/10\n",
      "1875/1875 [==============================] - 2s 1ms/step - loss: 0.3421 - accuracy: 0.8744\n",
      "Epoch 4/10\n",
      "1875/1875 [==============================] - 3s 1ms/step - loss: 0.3143 - accuracy: 0.8849\n",
      "Epoch 5/10\n",
      "1875/1875 [==============================] - 3s 1ms/step - loss: 0.2994 - accuracy: 0.8891\n",
      "Epoch 6/10\n",
      "1875/1875 [==============================] - 3s 1ms/step - loss: 0.2834 - accuracy: 0.8952\n",
      "Epoch 7/10\n",
      "1875/1875 [==============================] - 3s 1ms/step - loss: 0.2683 - accuracy: 0.9017\n",
      "Epoch 8/10\n",
      "1875/1875 [==============================] - 2s 1ms/step - loss: 0.2571 - accuracy: 0.9050\n",
      "Epoch 9/10\n",
      "1875/1875 [==============================] - 2s 1ms/step - loss: 0.2479 - accuracy: 0.9078\n",
      "Epoch 10/10\n",
      "1875/1875 [==============================] - 2s 1ms/step - loss: 0.2373 - accuracy: 0.9107\n"
     ]
    }
   ],
   "source": [
    "model_128 = hidden_layer_128_model()\n",
    "history_128 = model_128.fit(X_train , y_train , epochs=10  , verbose = 1)"
   ]
  },
  {
   "cell_type": "code",
   "execution_count": 14,
   "metadata": {
    "id": "zd-rDvPlJ203"
   },
   "outputs": [
    {
     "name": "stdout",
     "output_type": "stream",
     "text": [
      "Epoch 1/10\n",
      "1875/1875 [==============================] - 3s 1ms/step - loss: 0.4991 - accuracy: 0.8252\n",
      "Epoch 2/10\n",
      "1875/1875 [==============================] - 2s 1ms/step - loss: 0.3747 - accuracy: 0.8667\n",
      "Epoch 3/10\n",
      "1875/1875 [==============================] - 2s 1ms/step - loss: 0.3392 - accuracy: 0.8767\n",
      "Epoch 4/10\n",
      "1875/1875 [==============================] - 2s 1ms/step - loss: 0.3137 - accuracy: 0.8843\n",
      "Epoch 5/10\n",
      "1875/1875 [==============================] - 2s 1ms/step - loss: 0.2969 - accuracy: 0.8899\n",
      "Epoch 6/10\n",
      "1875/1875 [==============================] - 2s 1ms/step - loss: 0.2805 - accuracy: 0.8956\n",
      "Epoch 7/10\n",
      "1875/1875 [==============================] - 2s 1ms/step - loss: 0.2680 - accuracy: 0.9000\n",
      "Epoch 8/10\n",
      "1875/1875 [==============================] - 2s 1ms/step - loss: 0.2568 - accuracy: 0.9047\n",
      "Epoch 9/10\n",
      "1875/1875 [==============================] - 3s 1ms/step - loss: 0.2480 - accuracy: 0.9078\n",
      "Epoch 10/10\n",
      "1875/1875 [==============================] - 2s 1ms/step - loss: 0.2374 - accuracy: 0.9112\n"
     ]
    }
   ],
   "source": [
    "model_512 = hidden_layer_128_model()\n",
    "history_512 = model_512.fit(X_train , y_train , epochs=10  , verbose = 1)"
   ]
  },
  {
   "cell_type": "code",
   "execution_count": 15,
   "metadata": {
    "id": "6GMAmHqLJ23m"
   },
   "outputs": [
    {
     "name": "stdout",
     "output_type": "stream",
     "text": [
      "Epoch 1/10\n",
      "1875/1875 [==============================] - 2s 1ms/step - loss: 0.4969 - accuracy: 0.8250\n",
      "Epoch 2/10\n",
      "1875/1875 [==============================] - 2s 1ms/step - loss: 0.3735 - accuracy: 0.8658\n",
      "Epoch 3/10\n",
      "1875/1875 [==============================] - 2s 1ms/step - loss: 0.3360 - accuracy: 0.8776\n",
      "Epoch 4/10\n",
      "1875/1875 [==============================] - 2s 1ms/step - loss: 0.3128 - accuracy: 0.8845\n",
      "Epoch 5/10\n",
      "1875/1875 [==============================] - 2s 1ms/step - loss: 0.2933 - accuracy: 0.8928\n",
      "Epoch 6/10\n",
      "1875/1875 [==============================] - 2s 1ms/step - loss: 0.2809 - accuracy: 0.8963\n",
      "Epoch 7/10\n",
      "1875/1875 [==============================] - 2s 1ms/step - loss: 0.2692 - accuracy: 0.9002\n",
      "Epoch 8/10\n",
      "1875/1875 [==============================] - 2s 1ms/step - loss: 0.2585 - accuracy: 0.9028\n",
      "Epoch 9/10\n",
      "1875/1875 [==============================] - 2s 1ms/step - loss: 0.2477 - accuracy: 0.9071\n",
      "Epoch 10/10\n",
      "1875/1875 [==============================] - 2s 1ms/step - loss: 0.2405 - accuracy: 0.9104\n"
     ]
    }
   ],
   "source": [
    "model_1024 = hidden_layer_128_model()\n",
    "history_1024 = model_1024.fit(X_train , y_train , epochs=10  , verbose = 1)"
   ]
  },
  {
   "cell_type": "code",
   "execution_count": 37,
   "metadata": {
    "id": "ivmJdfrJJ26a"
   },
   "outputs": [
    {
     "name": "stdout",
     "output_type": "stream",
     "text": [
      "각 모델의 에포크에 따른 정확도를 시각화 - \n"
     ]
    },
    {
     "data": {
      "image/png": "[encoded data removed]",
      "text/plain": [
       "<Figure size 1440x720 with 1 Axes>"
      ]
     },
     "metadata": {
      "needs_background": "light"
     },
     "output_type": "display_data"
    }
   ],
   "source": [
    "print('각 모델의 에포크에 따른 정확도를 시각화 - ')\n",
    "\n",
    "plt.figure(figsize=(20,10))\n",
    "\n",
    "plt.plot(history_128.history['accuracy'],'s-',label='128')\n",
    "plt.plot(history_512.history['accuracy'],'d-',label='512')\n",
    "plt.plot(history_1024.history['accuracy'],'o-',label='1024')\n",
    "\n",
    "plt.legend(loc='best')\n",
    "plt.xticks(np.arange(10))\n",
    "plt.title('accuracy')\n",
    "plt.xlabel('Epoch')\n",
    "plt.ylabel('Accuracy')\n",
    "plt.show()\n",
    "plt.close()\n"
   ]
  },
  {
   "cell_type": "code",
   "execution_count": 17,
   "metadata": {
    "id": "F-4BJoHlJ29H"
   },
   "outputs": [
    {
     "name": "stdout",
     "output_type": "stream",
     "text": [
      "각 모델의 에포크에 따른 손실을   시각화 - \n"
     ]
    },
    {
     "data": {
      "image/png": "[encoded data removed]",
      "text/plain": [
       "<Figure size 1440x720 with 1 Axes>"
      ]
     },
     "metadata": {
      "needs_background": "light"
     },
     "output_type": "display_data"
    }
   ],
   "source": [
    "print('각 모델의 에포크에 따른 손실을   시각화 - ')\n",
    "plt.figure(figsize=(20,10))\n",
    "\n",
    "plt.plot(history_128.history['loss'],'s-',label='128')\n",
    "plt.plot(history_512.history['loss'],'d-',label='512')\n",
    "plt.plot(history_1024.history['loss'],'o-',label='1024')\n",
    "\n",
    "plt.legend(loc='best')\n",
    "plt.xticks(np.arange(10))\n",
    "plt.title('Loss')\n",
    "plt.xlabel('Epoch')\n",
    "plt.ylabel('Loss')\n",
    "plt.show()\n",
    "plt.close()\n"
   ]
  },
  {
   "cell_type": "code",
   "execution_count": 18,
   "metadata": {
    "id": "63XIujdfJ2_4"
   },
   "outputs": [
    {
     "name": "stdout",
     "output_type": "stream",
     "text": [
      "loss 가 에포크 수행시 줄어들지 않는다면 중지시킬 수 있다( Callback , EarlyStopping ) - \n"
     ]
    }
   ],
   "source": [
    "print('loss 가 에포크 수행시 줄어들지 않는다면 중지시킬 수 있다( Callback , EarlyStopping ) - ')\n",
    "\n",
    "class UserCallback(Callback) :\n",
    "  def on_epoch_end(self , epoch , logs={}) :\n",
    "    if logs.get('loss') < 0.3 :\n",
    "      print('훈련을 중지합니다~~~~~왜? 그냥')\n",
    "      self.model.stop_training = True "
   ]
  },
  {
   "cell_type": "code",
   "execution_count": 19,
   "metadata": {
    "id": "VEx0nLPmJ3Cm"
   },
   "outputs": [],
   "source": [
    "callbacks = UserCallback()"
   ]
  },
  {
   "cell_type": "code",
   "execution_count": 20,
   "metadata": {
    "id": "iAPVXlE5J3Fd"
   },
   "outputs": [
    {
     "name": "stdout",
     "output_type": "stream",
     "text": [
      "Epoch 1/10\n",
      "1875/1875 [==============================] - 2s 1ms/step - loss: 0.4994 - accuracy: 0.8262\n",
      "Epoch 2/10\n",
      "1875/1875 [==============================] - 2s 1ms/step - loss: 0.3772 - accuracy: 0.8642\n",
      "Epoch 3/10\n",
      "1875/1875 [==============================] - 2s 1ms/step - loss: 0.3379 - accuracy: 0.8763\n",
      "Epoch 4/10\n",
      "1875/1875 [==============================] - 2s 1ms/step - loss: 0.3168 - accuracy: 0.8834\n",
      "Epoch 5/10\n",
      "1848/1875 [============================>.] - ETA: 0s - loss: 0.2952 - accuracy: 0.8920훈련을 중지합니다~~~~~왜? 그냥\n",
      "1875/1875 [==============================] - 2s 1ms/step - loss: 0.2952 - accuracy: 0.8920\n"
     ]
    }
   ],
   "source": [
    "model_128 = hidden_layer_128_model()\n",
    "history_128 = model_128.fit(X_train , y_train , epochs=10  , verbose = 1 , callbacks=[callbacks])\n"
   ]
  },
  {
   "cell_type": "code",
   "execution_count": 21,
   "metadata": {
    "id": "lJv3f7i3f3Rd"
   },
   "outputs": [
    {
     "name": "stdout",
     "output_type": "stream",
     "text": [
      "Epoch 1/100\n",
      "1313/1313 [==============================] - 2s 2ms/step - loss: 0.5273 - accuracy: 0.8171 - val_loss: 0.4400 - val_accuracy: 0.8478\n",
      "Epoch 2/100\n",
      "1313/1313 [==============================] - 2s 2ms/step - loss: 0.3974 - accuracy: 0.8564 - val_loss: 0.4015 - val_accuracy: 0.8528\n",
      "Epoch 3/100\n",
      "1313/1313 [==============================] - 2s 2ms/step - loss: 0.3547 - accuracy: 0.8703 - val_loss: 0.3678 - val_accuracy: 0.8671\n",
      "Epoch 4/100\n",
      "1313/1313 [==============================] - 2s 2ms/step - loss: 0.3241 - accuracy: 0.8813 - val_loss: 0.3861 - val_accuracy: 0.8587\n",
      "Epoch 5/100\n",
      "1313/1313 [==============================] - 2s 1ms/step - loss: 0.3038 - accuracy: 0.8871 - val_loss: 0.3578 - val_accuracy: 0.8732\n",
      "Epoch 6/100\n",
      "1313/1313 [==============================] - 2s 1ms/step - loss: 0.2906 - accuracy: 0.8921 - val_loss: 0.3377 - val_accuracy: 0.8775\n",
      "Epoch 7/100\n",
      "1313/1313 [==============================] - 2s 2ms/step - loss: 0.2776 - accuracy: 0.8977 - val_loss: 0.3375 - val_accuracy: 0.8777\n",
      "Epoch 8/100\n",
      "1313/1313 [==============================] - 2s 1ms/step - loss: 0.2626 - accuracy: 0.9035 - val_loss: 0.3518 - val_accuracy: 0.8751\n",
      "Epoch 9/100\n",
      "1313/1313 [==============================] - 2s 1ms/step - loss: 0.2532 - accuracy: 0.9049 - val_loss: 0.3181 - val_accuracy: 0.8864\n",
      "Epoch 10/100\n",
      "1313/1313 [==============================] - 2s 2ms/step - loss: 0.2415 - accuracy: 0.9095 - val_loss: 0.3272 - val_accuracy: 0.8877\n",
      "Epoch 11/100\n",
      "1313/1313 [==============================] - 2s 2ms/step - loss: 0.2366 - accuracy: 0.9115 - val_loss: 0.3495 - val_accuracy: 0.8751\n",
      "Epoch 12/100\n",
      "1313/1313 [==============================] - 2s 2ms/step - loss: 0.2275 - accuracy: 0.9143 - val_loss: 0.3156 - val_accuracy: 0.8907\n",
      "Epoch 13/100\n",
      "1313/1313 [==============================] - 2s 1ms/step - loss: 0.2184 - accuracy: 0.9176 - val_loss: 0.3450 - val_accuracy: 0.8856\n",
      "Epoch 14/100\n",
      "1313/1313 [==============================] - 2s 2ms/step - loss: 0.2108 - accuracy: 0.9216 - val_loss: 0.3322 - val_accuracy: 0.8863\n",
      "Epoch 15/100\n",
      "1313/1313 [==============================] - 2s 2ms/step - loss: 0.2036 - accuracy: 0.9229 - val_loss: 0.3292 - val_accuracy: 0.8901\n",
      "Epoch 16/100\n",
      "1313/1313 [==============================] - 2s 1ms/step - loss: 0.1964 - accuracy: 0.9243 - val_loss: 0.3234 - val_accuracy: 0.8912\n",
      "Epoch 17/100\n",
      "1313/1313 [==============================] - 2s 1ms/step - loss: 0.1913 - accuracy: 0.9278 - val_loss: 0.3267 - val_accuracy: 0.8893\n",
      "Epoch 18/100\n",
      "1313/1313 [==============================] - 2s 1ms/step - loss: 0.1827 - accuracy: 0.9315 - val_loss: 0.3236 - val_accuracy: 0.8930\n",
      "Epoch 19/100\n",
      "1313/1313 [==============================] - 2s 1ms/step - loss: 0.1802 - accuracy: 0.9325 - val_loss: 0.3383 - val_accuracy: 0.8912\n",
      "Epoch 20/100\n",
      "1313/1313 [==============================] - 2s 1ms/step - loss: 0.1746 - accuracy: 0.9343 - val_loss: 0.3449 - val_accuracy: 0.8926\n",
      "Epoch 21/100\n",
      "1313/1313 [==============================] - 2s 1ms/step - loss: 0.1686 - accuracy: 0.9366 - val_loss: 0.3480 - val_accuracy: 0.8892\n",
      "Epoch 22/100\n",
      "1313/1313 [==============================] - 2s 2ms/step - loss: 0.1630 - accuracy: 0.9382 - val_loss: 0.4091 - val_accuracy: 0.8754\n",
      "Epoch 23/100\n",
      "1313/1313 [==============================] - 2s 1ms/step - loss: 0.1620 - accuracy: 0.9385 - val_loss: 0.3709 - val_accuracy: 0.8880\n",
      "Epoch 24/100\n",
      "1313/1313 [==============================] - 2s 1ms/step - loss: 0.1548 - accuracy: 0.9416 - val_loss: 0.3762 - val_accuracy: 0.8846\n",
      "Epoch 25/100\n",
      "1313/1313 [==============================] - 2s 1ms/step - loss: 0.1502 - accuracy: 0.9453 - val_loss: 0.3419 - val_accuracy: 0.8923\n",
      "Epoch 26/100\n",
      "1313/1313 [==============================] - 2s 1ms/step - loss: 0.1479 - accuracy: 0.9453 - val_loss: 0.3831 - val_accuracy: 0.8834\n",
      "Epoch 27/100\n",
      "1313/1313 [==============================] - 2s 1ms/step - loss: 0.1451 - accuracy: 0.9459 - val_loss: 0.3786 - val_accuracy: 0.8885\n",
      "Epoch 28/100\n",
      "1313/1313 [==============================] - 2s 1ms/step - loss: 0.1393 - accuracy: 0.9488 - val_loss: 0.4108 - val_accuracy: 0.8813\n"
     ]
    }
   ],
   "source": [
    "callbacks = [ EarlyStopping(monitor = 'val_accuracy' , patience = 10 )]\n",
    "model_128 = hidden_layer_128_model()\n",
    "history_128 = model_128.fit(X_train , y_train , epochs=100  , validation_split = 0.3 ,  verbose = 1 , callbacks=[callbacks])"
   ]
  },
  {
   "cell_type": "code",
   "execution_count": 22,
   "metadata": {
    "id": "44-IGb4LhR4J"
   },
   "outputs": [],
   "source": [
    "\n",
    "def hidden_layer_128_activation_model() :\n",
    "  \n",
    "  fashion_model = Sequential()\n",
    "  fashion_model.add( Flatten( input_shape = (28, 28) ) )  \n",
    "  fashion_model.add( Dense(units = 128, activation = 'sigmoid' ) )\n",
    "  fashion_model.add( Dense(units = 10 , activation = 'softmax') )\n",
    "\n",
    "  fashion_model.compile(optimizer = 'Adam', \n",
    "                      loss= 'sparse_categorical_crossentropy' , \n",
    "                      metrics=['accuracy'] ) \n",
    "  \n",
    "  return fashion_model \n",
    "\n"
   ]
  },
  {
   "cell_type": "code",
   "execution_count": 23,
   "metadata": {
    "id": "D1wO31RDm3em"
   },
   "outputs": [
    {
     "name": "stdout",
     "output_type": "stream",
     "text": [
      "Epoch 1/10\n",
      "1875/1875 [==============================] - 2s 1ms/step - loss: 0.5456 - accuracy: 0.8140\n",
      "Epoch 2/10\n",
      "1875/1875 [==============================] - 2s 1ms/step - loss: 0.3949 - accuracy: 0.8575\n",
      "Epoch 3/10\n",
      "1875/1875 [==============================] - 2s 1ms/step - loss: 0.3565 - accuracy: 0.8709\n",
      "Epoch 4/10\n",
      "1875/1875 [==============================] - 2s 1ms/step - loss: 0.3336 - accuracy: 0.8791\n",
      "Epoch 5/10\n",
      "1875/1875 [==============================] - 2s 1ms/step - loss: 0.3149 - accuracy: 0.8855\n",
      "Epoch 6/10\n",
      "1875/1875 [==============================] - 2s 1ms/step - loss: 0.2986 - accuracy: 0.8910\n",
      "Epoch 7/10\n",
      "1875/1875 [==============================] - 2s 1ms/step - loss: 0.2860 - accuracy: 0.8942\n",
      "Epoch 8/10\n",
      "1875/1875 [==============================] - 2s 1ms/step - loss: 0.2735 - accuracy: 0.8990\n",
      "Epoch 9/10\n",
      "1875/1875 [==============================] - 2s 1ms/step - loss: 0.2627 - accuracy: 0.9031\n",
      "Epoch 10/10\n",
      "1875/1875 [==============================] - 2s 1ms/step - loss: 0.2532 - accuracy: 0.9060\n"
     ]
    },
    {
     "data": {
      "text/plain": [
       "<keras.callbacks.History at 0x2a1bbff5d00>"
      ]
     },
     "execution_count": 23,
     "metadata": {},
     "output_type": "execute_result"
    }
   ],
   "source": [
    "model_128 = hidden_layer_128_activation_model()\n",
    "model_128.fit(X_train , y_train , epochs=10  , verbose = 1)"
   ]
  },
  {
   "cell_type": "code",
   "execution_count": 24,
   "metadata": {
    "colab": {
     "base_uri": "https://localhost:8080/"
    },
    "id": "KXlwFOjMm-qP",
    "outputId": "67009161-c964-42e4-f5e6-00b6867b2415"
   },
   "outputs": [
    {
     "name": "stdout",
     "output_type": "stream",
     "text": [
      "case01 - 01. 데이터 세트 로드 - \n",
      "\n"
     ]
    },
    {
     "data": {
      "text/plain": [
       "(((60000, 28, 28), (60000,)), ((10000, 28, 28), (10000,)))"
      ]
     },
     "execution_count": 24,
     "metadata": {},
     "output_type": "execute_result"
    }
   ],
   "source": [
    "print('case01 - 01. 데이터 세트 로드 - ')\n",
    "print()\n",
    "\n",
    "(X_train, y_train), (X_test, y_test) = fashion_mnist.load_data()\n",
    "(X_train.shape, y_train.shape), (X_test.shape, y_test.shape)"
   ]
  },
  {
   "cell_type": "code",
   "execution_count": 25,
   "metadata": {
    "colab": {
     "base_uri": "https://localhost:8080/"
    },
    "id": "7yyxsPjZnlR3",
    "outputId": "ba981826-5fa9-44ec-d0b3-fa5142b9cb22"
   },
   "outputs": [
    {
     "name": "stdout",
     "output_type": "stream",
     "text": [
      "행렬 형태는 퍼셉트론 모델의 피처로 사용이 부적합하다 - \n",
      "1차원의 벡터로 변환 - \n",
      "reshape 28 * 28 -> 784\n"
     ]
    }
   ],
   "source": [
    "print('행렬 형태는 퍼셉트론 모델의 피처로 사용이 부적합하다 - ')\n",
    "print('1차원의 벡터로 변환 - ')\n",
    "print('reshape 28 * 28 -> 784') \n",
    "\n",
    "X_train = X_train.reshape( X_train.shape[0] , -1)\n",
    "X_test = X_test.reshape( X_test.shape[0] , -1)\n",
    "\n",
    "y_train = to_categorical(y_train)\n",
    "y_test = to_categorical(y_test)"
   ]
  },
  {
   "cell_type": "code",
   "execution_count": 26,
   "metadata": {
    "colab": {
     "base_uri": "https://localhost:8080/"
    },
    "id": "v5Tj56MLn-R_",
    "outputId": "6df4a19a-bccc-42b7-998f-386f957264e3"
   },
   "outputs": [
    {
     "data": {
      "text/plain": [
       "(((60000, 784), (60000, 10)), ((10000, 784), (10000, 10)))"
      ]
     },
     "execution_count": 26,
     "metadata": {},
     "output_type": "execute_result"
    }
   ],
   "source": [
    "(X_train.shape, y_train.shape), (X_test.shape, y_test.shape)"
   ]
  },
  {
   "cell_type": "code",
   "execution_count": 27,
   "metadata": {
    "id": "p5VfB4iIoAHt"
   },
   "outputs": [],
   "source": [
    "def fashion_mnist_model() :\n",
    "  fashion_model = Sequential()\n",
    "  fashion_model.add( Dense(units = 50, activation = 'sigmoid'  , input_shape = (784, ) ) )\n",
    "  fashion_model.add( Dense(units = 50, activation = 'sigmoid' ) )\n",
    "  fashion_model.add( Dense(units = 50, activation = 'sigmoid' ) )\n",
    "  fashion_model.add( Dense(units = 50, activation = 'sigmoid' ) )\n",
    "\n",
    "  fashion_model.add( Dense(units = 10 , activation = 'softmax') )\n",
    "\n",
    "  fashion_model.compile(optimizer = SGD(learning_rate = 0.01), \n",
    "                      loss= 'categorical_crossentropy' , \n",
    "                      metrics=['accuracy'] ) \n",
    "  \n",
    "  return fashion_model \n"
   ]
  },
  {
   "cell_type": "code",
   "execution_count": 28,
   "metadata": {
    "id": "XBRpHAw9ovEV"
   },
   "outputs": [
    {
     "name": "stdout",
     "output_type": "stream",
     "text": [
      "Epoch 1/100\n",
      "165/165 [==============================] - 1s 3ms/step - loss: 2.3529 - accuracy: 0.1034 - val_loss: 2.3052 - val_accuracy: 0.0974\n",
      "Epoch 2/100\n",
      "165/165 [==============================] - 0s 3ms/step - loss: 2.3015 - accuracy: 0.1101 - val_loss: 2.3004 - val_accuracy: 0.1506\n",
      "Epoch 3/100\n",
      "165/165 [==============================] - 0s 3ms/step - loss: 2.2997 - accuracy: 0.1337 - val_loss: 2.2993 - val_accuracy: 0.1503\n",
      "Epoch 4/100\n",
      "165/165 [==============================] - 0s 3ms/step - loss: 2.2986 - accuracy: 0.1741 - val_loss: 2.2987 - val_accuracy: 0.1001\n",
      "Epoch 5/100\n",
      "165/165 [==============================] - 0s 2ms/step - loss: 2.2976 - accuracy: 0.1465 - val_loss: 2.2972 - val_accuracy: 0.1948\n",
      "Epoch 6/100\n",
      "165/165 [==============================] - 0s 2ms/step - loss: 2.2967 - accuracy: 0.2084 - val_loss: 2.2964 - val_accuracy: 0.1700\n",
      "Epoch 7/100\n",
      "165/165 [==============================] - 0s 2ms/step - loss: 2.2958 - accuracy: 0.1965 - val_loss: 2.2953 - val_accuracy: 0.3084\n",
      "Epoch 8/100\n",
      "165/165 [==============================] - 0s 2ms/step - loss: 2.2948 - accuracy: 0.2031 - val_loss: 2.2945 - val_accuracy: 0.1766\n",
      "Epoch 9/100\n",
      "165/165 [==============================] - 0s 2ms/step - loss: 2.2939 - accuracy: 0.2008 - val_loss: 2.2937 - val_accuracy: 0.2589\n",
      "Epoch 10/100\n",
      "165/165 [==============================] - 0s 2ms/step - loss: 2.2929 - accuracy: 0.2453 - val_loss: 2.2925 - val_accuracy: 0.0972\n",
      "Epoch 11/100\n",
      "165/165 [==============================] - 0s 2ms/step - loss: 2.2920 - accuracy: 0.2362 - val_loss: 2.2917 - val_accuracy: 0.1477\n",
      "Epoch 12/100\n",
      "165/165 [==============================] - 0s 2ms/step - loss: 2.2908 - accuracy: 0.2388 - val_loss: 2.2902 - val_accuracy: 0.3383\n",
      "Epoch 13/100\n",
      "165/165 [==============================] - 0s 2ms/step - loss: 2.2897 - accuracy: 0.2992 - val_loss: 2.2893 - val_accuracy: 0.2773\n",
      "Epoch 14/100\n",
      "165/165 [==============================] - 0s 3ms/step - loss: 2.2884 - accuracy: 0.2568 - val_loss: 2.2877 - val_accuracy: 0.3698\n",
      "Epoch 15/100\n",
      "165/165 [==============================] - 0s 2ms/step - loss: 2.2870 - accuracy: 0.3194 - val_loss: 2.2863 - val_accuracy: 0.2915\n",
      "Epoch 16/100\n",
      "165/165 [==============================] - 0s 2ms/step - loss: 2.2853 - accuracy: 0.3293 - val_loss: 2.2846 - val_accuracy: 0.3124\n",
      "Epoch 17/100\n",
      "165/165 [==============================] - 0s 3ms/step - loss: 2.2835 - accuracy: 0.3288 - val_loss: 2.2828 - val_accuracy: 0.3114\n",
      "Epoch 18/100\n",
      "165/165 [==============================] - 0s 3ms/step - loss: 2.2814 - accuracy: 0.3609 - val_loss: 2.2803 - val_accuracy: 0.4382\n",
      "Epoch 19/100\n",
      "165/165 [==============================] - 0s 2ms/step - loss: 2.2792 - accuracy: 0.4075 - val_loss: 2.2780 - val_accuracy: 0.2837\n",
      "Epoch 20/100\n",
      "165/165 [==============================] - 0s 2ms/step - loss: 2.2766 - accuracy: 0.3709 - val_loss: 2.2756 - val_accuracy: 0.3440\n",
      "Epoch 21/100\n",
      "165/165 [==============================] - 0s 2ms/step - loss: 2.2738 - accuracy: 0.3829 - val_loss: 2.2722 - val_accuracy: 0.4479\n",
      "Epoch 22/100\n",
      "165/165 [==============================] - 0s 3ms/step - loss: 2.2706 - accuracy: 0.3740 - val_loss: 2.2690 - val_accuracy: 0.2877\n",
      "Epoch 23/100\n",
      "165/165 [==============================] - 0s 2ms/step - loss: 2.2671 - accuracy: 0.3845 - val_loss: 2.2651 - val_accuracy: 0.3379\n",
      "Epoch 24/100\n",
      "165/165 [==============================] - 0s 3ms/step - loss: 2.2630 - accuracy: 0.3807 - val_loss: 2.2609 - val_accuracy: 0.3653\n",
      "Epoch 25/100\n",
      "165/165 [==============================] - 0s 3ms/step - loss: 2.2585 - accuracy: 0.4075 - val_loss: 2.2557 - val_accuracy: 0.4371\n",
      "Epoch 26/100\n",
      "165/165 [==============================] - 0s 3ms/step - loss: 2.2532 - accuracy: 0.4074 - val_loss: 2.2504 - val_accuracy: 0.3784\n",
      "Epoch 27/100\n",
      "165/165 [==============================] - 0s 2ms/step - loss: 2.2471 - accuracy: 0.3953 - val_loss: 2.2438 - val_accuracy: 0.3733\n",
      "Epoch 28/100\n",
      "165/165 [==============================] - 0s 3ms/step - loss: 2.2399 - accuracy: 0.3932 - val_loss: 2.2360 - val_accuracy: 0.3812\n",
      "Epoch 29/100\n",
      "165/165 [==============================] - 0s 2ms/step - loss: 2.2314 - accuracy: 0.3762 - val_loss: 2.2270 - val_accuracy: 0.3876\n",
      "Epoch 30/100\n",
      "165/165 [==============================] - 0s 3ms/step - loss: 2.2212 - accuracy: 0.3662 - val_loss: 2.2160 - val_accuracy: 0.3927\n",
      "Epoch 31/100\n",
      "165/165 [==============================] - 0s 2ms/step - loss: 2.2090 - accuracy: 0.3736 - val_loss: 2.2024 - val_accuracy: 0.3732\n",
      "Epoch 32/100\n",
      "165/165 [==============================] - 0s 2ms/step - loss: 2.1942 - accuracy: 0.3564 - val_loss: 2.1860 - val_accuracy: 0.3839\n",
      "Epoch 33/100\n",
      "165/165 [==============================] - 0s 2ms/step - loss: 2.1760 - accuracy: 0.3719 - val_loss: 2.1661 - val_accuracy: 0.3187\n",
      "Epoch 34/100\n",
      "165/165 [==============================] - 0s 2ms/step - loss: 2.1540 - accuracy: 0.3540 - val_loss: 2.1421 - val_accuracy: 0.2892\n",
      "Epoch 35/100\n",
      "165/165 [==============================] - 0s 2ms/step - loss: 2.1272 - accuracy: 0.3091 - val_loss: 2.1123 - val_accuracy: 0.3283\n",
      "Epoch 36/100\n",
      "165/165 [==============================] - 0s 2ms/step - loss: 2.0952 - accuracy: 0.3119 - val_loss: 2.0778 - val_accuracy: 0.3698\n",
      "Epoch 37/100\n",
      "165/165 [==============================] - 0s 2ms/step - loss: 2.0580 - accuracy: 0.3165 - val_loss: 2.0380 - val_accuracy: 0.3569\n",
      "Epoch 38/100\n",
      "165/165 [==============================] - 0s 2ms/step - loss: 2.0162 - accuracy: 0.3133 - val_loss: 1.9945 - val_accuracy: 0.3477\n",
      "Epoch 39/100\n",
      "165/165 [==============================] - 0s 2ms/step - loss: 1.9713 - accuracy: 0.3114 - val_loss: 1.9490 - val_accuracy: 0.3004\n",
      "Epoch 40/100\n",
      "165/165 [==============================] - 0s 2ms/step - loss: 1.9258 - accuracy: 0.3094 - val_loss: 1.9042 - val_accuracy: 0.2942\n",
      "Epoch 41/100\n",
      "165/165 [==============================] - 0s 2ms/step - loss: 1.8821 - accuracy: 0.2973 - val_loss: 1.8624 - val_accuracy: 0.3047\n",
      "Epoch 42/100\n",
      "165/165 [==============================] - 0s 2ms/step - loss: 1.8421 - accuracy: 0.3082 - val_loss: 1.8248 - val_accuracy: 0.2980\n",
      "Epoch 43/100\n",
      "165/165 [==============================] - 0s 2ms/step - loss: 1.8072 - accuracy: 0.3049 - val_loss: 1.7928 - val_accuracy: 0.3002\n",
      "Epoch 44/100\n",
      "165/165 [==============================] - 0s 2ms/step - loss: 1.7772 - accuracy: 0.3053 - val_loss: 1.7650 - val_accuracy: 0.3221\n",
      "Epoch 45/100\n",
      "165/165 [==============================] - 0s 2ms/step - loss: 1.7517 - accuracy: 0.3252 - val_loss: 1.7420 - val_accuracy: 0.3064\n",
      "Epoch 46/100\n",
      "165/165 [==============================] - 0s 2ms/step - loss: 1.7303 - accuracy: 0.3112 - val_loss: 1.7222 - val_accuracy: 0.3104\n",
      "Epoch 47/100\n",
      "165/165 [==============================] - 0s 2ms/step - loss: 1.7119 - accuracy: 0.3348 - val_loss: 1.7052 - val_accuracy: 0.3070\n",
      "Epoch 48/100\n",
      "165/165 [==============================] - 0s 2ms/step - loss: 1.6956 - accuracy: 0.3172 - val_loss: 1.6900 - val_accuracy: 0.3169\n",
      "Epoch 49/100\n",
      "165/165 [==============================] - 0s 2ms/step - loss: 1.6811 - accuracy: 0.3287 - val_loss: 1.6759 - val_accuracy: 0.3382\n",
      "Epoch 50/100\n",
      "165/165 [==============================] - 0s 2ms/step - loss: 1.6676 - accuracy: 0.3434 - val_loss: 1.6629 - val_accuracy: 0.3536\n",
      "Epoch 51/100\n",
      "165/165 [==============================] - 0s 2ms/step - loss: 1.6545 - accuracy: 0.3610 - val_loss: 1.6498 - val_accuracy: 0.3790\n",
      "Epoch 52/100\n",
      "165/165 [==============================] - 0s 2ms/step - loss: 1.6422 - accuracy: 0.3656 - val_loss: 1.6372 - val_accuracy: 0.3710\n",
      "Epoch 53/100\n",
      "165/165 [==============================] - 0s 2ms/step - loss: 1.6289 - accuracy: 0.3906 - val_loss: 1.6240 - val_accuracy: 0.3579\n",
      "Epoch 54/100\n",
      "165/165 [==============================] - 0s 2ms/step - loss: 1.6151 - accuracy: 0.3800 - val_loss: 1.6100 - val_accuracy: 0.4372\n",
      "Epoch 55/100\n",
      "165/165 [==============================] - 0s 2ms/step - loss: 1.6006 - accuracy: 0.4068 - val_loss: 1.5947 - val_accuracy: 0.4042\n",
      "Epoch 56/100\n",
      "165/165 [==============================] - 0s 2ms/step - loss: 1.5846 - accuracy: 0.4120 - val_loss: 1.5777 - val_accuracy: 0.3913\n",
      "Epoch 57/100\n",
      "165/165 [==============================] - 0s 3ms/step - loss: 1.5674 - accuracy: 0.4053 - val_loss: 1.5607 - val_accuracy: 0.4146\n"
     ]
    },
    {
     "name": "stdout",
     "output_type": "stream",
     "text": [
      "Epoch 58/100\n",
      "165/165 [==============================] - 0s 2ms/step - loss: 1.5498 - accuracy: 0.4249 - val_loss: 1.5410 - val_accuracy: 0.4171\n",
      "Epoch 59/100\n",
      "165/165 [==============================] - 0s 2ms/step - loss: 1.5303 - accuracy: 0.4185 - val_loss: 1.5212 - val_accuracy: 0.4976\n",
      "Epoch 60/100\n",
      "165/165 [==============================] - 0s 2ms/step - loss: 1.5097 - accuracy: 0.4462 - val_loss: 1.5015 - val_accuracy: 0.4140\n",
      "Epoch 61/100\n",
      "165/165 [==============================] - 0s 2ms/step - loss: 1.4876 - accuracy: 0.4281 - val_loss: 1.4776 - val_accuracy: 0.4301\n",
      "Epoch 62/100\n",
      "165/165 [==============================] - 0s 3ms/step - loss: 1.4648 - accuracy: 0.4470 - val_loss: 1.4551 - val_accuracy: 0.4349\n",
      "Epoch 63/100\n",
      "165/165 [==============================] - 0s 2ms/step - loss: 1.4427 - accuracy: 0.4367 - val_loss: 1.4327 - val_accuracy: 0.4379\n",
      "Epoch 64/100\n",
      "165/165 [==============================] - 0s 2ms/step - loss: 1.4201 - accuracy: 0.4553 - val_loss: 1.4111 - val_accuracy: 0.4560\n",
      "Epoch 65/100\n",
      "165/165 [==============================] - 0s 2ms/step - loss: 1.3985 - accuracy: 0.4595 - val_loss: 1.3899 - val_accuracy: 0.4634\n",
      "Epoch 66/100\n",
      "165/165 [==============================] - 0s 2ms/step - loss: 1.3784 - accuracy: 0.4649 - val_loss: 1.3706 - val_accuracy: 0.4607\n",
      "Epoch 67/100\n",
      "165/165 [==============================] - 0s 2ms/step - loss: 1.3586 - accuracy: 0.4550 - val_loss: 1.3522 - val_accuracy: 0.4187\n",
      "Epoch 68/100\n",
      "165/165 [==============================] - 0s 3ms/step - loss: 1.3397 - accuracy: 0.4522 - val_loss: 1.3330 - val_accuracy: 0.4812\n",
      "Epoch 69/100\n",
      "165/165 [==============================] - 0s 3ms/step - loss: 1.3221 - accuracy: 0.4811 - val_loss: 1.3172 - val_accuracy: 0.4809\n",
      "Epoch 70/100\n",
      "165/165 [==============================] - 0s 3ms/step - loss: 1.3055 - accuracy: 0.4816 - val_loss: 1.3090 - val_accuracy: 0.4738\n",
      "Epoch 71/100\n",
      "165/165 [==============================] - 0s 3ms/step - loss: 1.2939 - accuracy: 0.4834 - val_loss: 1.2868 - val_accuracy: 0.5184\n",
      "Epoch 72/100\n",
      "165/165 [==============================] - 0s 3ms/step - loss: 1.2768 - accuracy: 0.5043 - val_loss: 1.2736 - val_accuracy: 0.4784\n",
      "Epoch 73/100\n",
      "165/165 [==============================] - 0s 3ms/step - loss: 1.2647 - accuracy: 0.4863 - val_loss: 1.2611 - val_accuracy: 0.4819\n",
      "Epoch 74/100\n",
      "165/165 [==============================] - 0s 3ms/step - loss: 1.2515 - accuracy: 0.4998 - val_loss: 1.2489 - val_accuracy: 0.4872\n",
      "Epoch 75/100\n",
      "165/165 [==============================] - 0s 3ms/step - loss: 1.2385 - accuracy: 0.5065 - val_loss: 1.2392 - val_accuracy: 0.4845\n",
      "Epoch 76/100\n",
      "165/165 [==============================] - 0s 3ms/step - loss: 1.2287 - accuracy: 0.5157 - val_loss: 1.2276 - val_accuracy: 0.5282\n",
      "Epoch 77/100\n",
      "165/165 [==============================] - 0s 3ms/step - loss: 1.2194 - accuracy: 0.5274 - val_loss: 1.2179 - val_accuracy: 0.5500\n",
      "Epoch 78/100\n",
      "165/165 [==============================] - 0s 3ms/step - loss: 1.2090 - accuracy: 0.5310 - val_loss: 1.2104 - val_accuracy: 0.5353\n",
      "Epoch 79/100\n",
      "165/165 [==============================] - 0s 3ms/step - loss: 1.1999 - accuracy: 0.5439 - val_loss: 1.2022 - val_accuracy: 0.5466\n",
      "Epoch 80/100\n",
      "165/165 [==============================] - 0s 3ms/step - loss: 1.1905 - accuracy: 0.5479 - val_loss: 1.1932 - val_accuracy: 0.5516\n",
      "Epoch 81/100\n",
      "165/165 [==============================] - 0s 3ms/step - loss: 1.1816 - accuracy: 0.5541 - val_loss: 1.1842 - val_accuracy: 0.5740\n",
      "Epoch 82/100\n",
      "165/165 [==============================] - 0s 3ms/step - loss: 1.1723 - accuracy: 0.5844 - val_loss: 1.1708 - val_accuracy: 0.5849\n",
      "Epoch 83/100\n",
      "165/165 [==============================] - 0s 2ms/step - loss: 1.1621 - accuracy: 0.5886 - val_loss: 1.1633 - val_accuracy: 0.5737\n",
      "Epoch 84/100\n",
      "165/165 [==============================] - 0s 2ms/step - loss: 1.1544 - accuracy: 0.5917 - val_loss: 1.1556 - val_accuracy: 0.5842\n",
      "Epoch 85/100\n",
      "165/165 [==============================] - 0s 2ms/step - loss: 1.1456 - accuracy: 0.5960 - val_loss: 1.1449 - val_accuracy: 0.6168\n",
      "Epoch 86/100\n",
      "165/165 [==============================] - 0s 2ms/step - loss: 1.1329 - accuracy: 0.6089 - val_loss: 1.1310 - val_accuracy: 0.6314\n",
      "Epoch 87/100\n",
      "165/165 [==============================] - 0s 2ms/step - loss: 1.1216 - accuracy: 0.6166 - val_loss: 1.1248 - val_accuracy: 0.6306\n",
      "Epoch 88/100\n",
      "165/165 [==============================] - 0s 2ms/step - loss: 1.1109 - accuracy: 0.6233 - val_loss: 1.1111 - val_accuracy: 0.6274\n",
      "Epoch 89/100\n",
      "165/165 [==============================] - 0s 2ms/step - loss: 1.0987 - accuracy: 0.6249 - val_loss: 1.0985 - val_accuracy: 0.6006\n",
      "Epoch 90/100\n",
      "165/165 [==============================] - 0s 2ms/step - loss: 1.0880 - accuracy: 0.6182 - val_loss: 1.0983 - val_accuracy: 0.6441\n",
      "Epoch 91/100\n",
      "165/165 [==============================] - 0s 2ms/step - loss: 1.0749 - accuracy: 0.6335 - val_loss: 1.0826 - val_accuracy: 0.6233\n",
      "Epoch 92/100\n",
      "165/165 [==============================] - 0s 2ms/step - loss: 1.0619 - accuracy: 0.6383 - val_loss: 1.0641 - val_accuracy: 0.6489\n",
      "Epoch 93/100\n",
      "165/165 [==============================] - 0s 2ms/step - loss: 1.0492 - accuracy: 0.6450 - val_loss: 1.0506 - val_accuracy: 0.6468\n",
      "Epoch 94/100\n",
      "165/165 [==============================] - 0s 2ms/step - loss: 1.0396 - accuracy: 0.6391 - val_loss: 1.0380 - val_accuracy: 0.6317\n",
      "Epoch 95/100\n",
      "165/165 [==============================] - 0s 2ms/step - loss: 1.0272 - accuracy: 0.6370 - val_loss: 1.0334 - val_accuracy: 0.6280\n",
      "Epoch 96/100\n",
      "165/165 [==============================] - 0s 2ms/step - loss: 1.0171 - accuracy: 0.6407 - val_loss: 1.0199 - val_accuracy: 0.6346\n",
      "Epoch 97/100\n",
      "165/165 [==============================] - 0s 2ms/step - loss: 1.0042 - accuracy: 0.6410 - val_loss: 1.0065 - val_accuracy: 0.6424\n",
      "Epoch 98/100\n",
      "165/165 [==============================] - 0s 2ms/step - loss: 0.9939 - accuracy: 0.6407 - val_loss: 1.0003 - val_accuracy: 0.6389\n",
      "Epoch 99/100\n",
      "165/165 [==============================] - 0s 2ms/step - loss: 0.9869 - accuracy: 0.6411 - val_loss: 0.9886 - val_accuracy: 0.6377\n",
      "Epoch 100/100\n",
      "165/165 [==============================] - 0s 2ms/step - loss: 0.9753 - accuracy: 0.6404 - val_loss: 0.9828 - val_accuracy: 0.6305\n"
     ]
    }
   ],
   "source": [
    "model          = fashion_mnist_model()\n",
    "model_history = model.fit(X_train , y_train , epochs=100  , verbose = 1 , batch_size = 256 , validation_split = 0.3)"
   ]
  },
  {
   "cell_type": "code",
   "execution_count": 29,
   "metadata": {
    "colab": {
     "base_uri": "https://localhost:8080/",
     "height": 621
    },
    "id": "ZF9WOMYppE3E",
    "outputId": "e59a4184-1f1e-478f-bbca-315b92df7336"
   },
   "outputs": [
    {
     "data": {
      "image/png": "[encoded data removed]",
      "text/plain": [
       "<Figure size 1440x720 with 1 Axes>"
      ]
     },
     "metadata": {
      "needs_background": "light"
     },
     "output_type": "display_data"
    }
   ],
   "source": [
    "plt.figure(figsize=(20,10))\n",
    "\n",
    "plt.plot(model_history.history['accuracy'],'s-',label='acc')\n",
    "plt.plot(model_history.history['val_accuracy'],'d-',label='val_acc')\n",
    "\n",
    "\n",
    "plt.legend(loc='best')\n",
    "plt.xticks(np.arange(100))\n",
    "\n",
    "plt.title('ACC')\n",
    "plt.xlabel('Epoch')\n",
    "plt.ylabel('ACC')\n",
    "plt.show()\n",
    "plt.close()"
   ]
  },
  {
   "cell_type": "code",
   "execution_count": 30,
   "metadata": {
    "colab": {
     "base_uri": "https://localhost:8080/"
    },
    "id": "1mX85TWkqFGx",
    "outputId": "1d0db0f6-48a3-442a-d555-c6c013683e28"
   },
   "outputs": [
    {
     "name": "stdout",
     "output_type": "stream",
     "text": [
      "정규화 - \n"
     ]
    }
   ],
   "source": [
    "print('정규화 - ')\n",
    "\n",
    "def fashion_mnist_normalization_model() :\n",
    "  fashion_model = Sequential()\n",
    "  fashion_model.add( Dense(units = 50, input_shape = (784, ) ) )\n",
    "  fashion_model.add( BatchNormalization() )\n",
    "  fashion_model.add( Activation('sigmoid') )\n",
    "\n",
    "  fashion_model.add( Dense(units = 50) )\n",
    "  fashion_model.add( BatchNormalization() )\n",
    "  fashion_model.add( Activation('sigmoid') )\n",
    "\n",
    "  fashion_model.add( Dense(units = 50) )\n",
    "  fashion_model.add( BatchNormalization() )\n",
    "  fashion_model.add( Activation('sigmoid') )\n",
    "\n",
    "  fashion_model.add( Dense(units = 50) )\n",
    "  fashion_model.add( BatchNormalization() )\n",
    "  fashion_model.add( Activation('sigmoid') )\n",
    "\n",
    "  fashion_model.add( Dense(units = 10 , activation = 'softmax') )\n",
    "\n",
    "  fashion_model.compile(optimizer = SGD(learning_rate = 0.01), \n",
    "                      loss= 'categorical_crossentropy' , \n",
    "                      metrics=['accuracy'] ) \n",
    "  \n",
    "  return fashion_model "
   ]
  },
  {
   "cell_type": "code",
   "execution_count": 31,
   "metadata": {
    "id": "ycwoSknercbs"
   },
   "outputs": [
    {
     "name": "stdout",
     "output_type": "stream",
     "text": [
      "Epoch 1/100\n",
      "165/165 [==============================] - 2s 4ms/step - loss: 1.8698 - accuracy: 0.5108 - val_loss: 2.1975 - val_accuracy: 0.3347\n",
      "Epoch 2/100\n",
      "165/165 [==============================] - 1s 3ms/step - loss: 1.4915 - accuracy: 0.7047 - val_loss: 1.7194 - val_accuracy: 0.7130\n",
      "Epoch 3/100\n",
      "165/165 [==============================] - 1s 3ms/step - loss: 1.3110 - accuracy: 0.7323 - val_loss: 1.3162 - val_accuracy: 0.7415\n",
      "Epoch 4/100\n",
      "165/165 [==============================] - 1s 3ms/step - loss: 1.1818 - accuracy: 0.7518 - val_loss: 1.1338 - val_accuracy: 0.7606\n",
      "Epoch 5/100\n",
      "165/165 [==============================] - 1s 3ms/step - loss: 1.0811 - accuracy: 0.7683 - val_loss: 1.0317 - val_accuracy: 0.7744\n",
      "Epoch 6/100\n",
      "165/165 [==============================] - 1s 3ms/step - loss: 0.9988 - accuracy: 0.7810 - val_loss: 0.9569 - val_accuracy: 0.7840\n",
      "Epoch 7/100\n",
      "165/165 [==============================] - 1s 3ms/step - loss: 0.9306 - accuracy: 0.7899 - val_loss: 0.8989 - val_accuracy: 0.7913\n",
      "Epoch 8/100\n",
      "165/165 [==============================] - 1s 3ms/step - loss: 0.8730 - accuracy: 0.7972 - val_loss: 0.8457 - val_accuracy: 0.7997\n",
      "Epoch 9/100\n",
      "165/165 [==============================] - 1s 3ms/step - loss: 0.8251 - accuracy: 0.8032 - val_loss: 0.8010 - val_accuracy: 0.8046\n",
      "Epoch 10/100\n",
      "165/165 [==============================] - 1s 3ms/step - loss: 0.7833 - accuracy: 0.8078 - val_loss: 0.7615 - val_accuracy: 0.8098\n",
      "Epoch 11/100\n",
      "165/165 [==============================] - 1s 3ms/step - loss: 0.7480 - accuracy: 0.8119 - val_loss: 0.7326 - val_accuracy: 0.8123\n",
      "Epoch 12/100\n",
      "165/165 [==============================] - 1s 3ms/step - loss: 0.7168 - accuracy: 0.8165 - val_loss: 0.7020 - val_accuracy: 0.8161\n",
      "Epoch 13/100\n",
      "165/165 [==============================] - 1s 3ms/step - loss: 0.6904 - accuracy: 0.8188 - val_loss: 0.6827 - val_accuracy: 0.8182\n",
      "Epoch 14/100\n",
      "165/165 [==============================] - 1s 3ms/step - loss: 0.6665 - accuracy: 0.8222 - val_loss: 0.6566 - val_accuracy: 0.8217\n",
      "Epoch 15/100\n",
      "165/165 [==============================] - 1s 3ms/step - loss: 0.6447 - accuracy: 0.8243 - val_loss: 0.6361 - val_accuracy: 0.8237\n",
      "Epoch 16/100\n",
      "165/165 [==============================] - 1s 3ms/step - loss: 0.6260 - accuracy: 0.8282 - val_loss: 0.6231 - val_accuracy: 0.8233\n",
      "Epoch 17/100\n",
      "165/165 [==============================] - 1s 3ms/step - loss: 0.6101 - accuracy: 0.8292 - val_loss: 0.6045 - val_accuracy: 0.8277\n",
      "Epoch 18/100\n",
      "165/165 [==============================] - 1s 3ms/step - loss: 0.5948 - accuracy: 0.8299 - val_loss: 0.5925 - val_accuracy: 0.8305\n",
      "Epoch 19/100\n",
      "165/165 [==============================] - 1s 3ms/step - loss: 0.5809 - accuracy: 0.8341 - val_loss: 0.5784 - val_accuracy: 0.8292\n",
      "Epoch 20/100\n",
      "165/165 [==============================] - 1s 3ms/step - loss: 0.5686 - accuracy: 0.8352 - val_loss: 0.5663 - val_accuracy: 0.8331\n",
      "Epoch 21/100\n",
      "165/165 [==============================] - 1s 3ms/step - loss: 0.5575 - accuracy: 0.8370 - val_loss: 0.5690 - val_accuracy: 0.8271\n",
      "Epoch 22/100\n",
      "165/165 [==============================] - 1s 3ms/step - loss: 0.5464 - accuracy: 0.8385 - val_loss: 0.5561 - val_accuracy: 0.8317\n",
      "Epoch 23/100\n",
      "165/165 [==============================] - 1s 3ms/step - loss: 0.5369 - accuracy: 0.8406 - val_loss: 0.5369 - val_accuracy: 0.8384\n",
      "Epoch 24/100\n",
      "165/165 [==============================] - 1s 3ms/step - loss: 0.5281 - accuracy: 0.8410 - val_loss: 0.5322 - val_accuracy: 0.8397\n",
      "Epoch 25/100\n",
      "165/165 [==============================] - 1s 3ms/step - loss: 0.5208 - accuracy: 0.8413 - val_loss: 0.5262 - val_accuracy: 0.8388\n",
      "Epoch 26/100\n",
      "165/165 [==============================] - 1s 3ms/step - loss: 0.5131 - accuracy: 0.8437 - val_loss: 0.5296 - val_accuracy: 0.8351\n",
      "Epoch 27/100\n",
      "165/165 [==============================] - 1s 3ms/step - loss: 0.5053 - accuracy: 0.8455 - val_loss: 0.5118 - val_accuracy: 0.8401\n",
      "Epoch 28/100\n",
      "165/165 [==============================] - 1s 3ms/step - loss: 0.4988 - accuracy: 0.8459 - val_loss: 0.5061 - val_accuracy: 0.8425\n",
      "Epoch 29/100\n",
      "165/165 [==============================] - 1s 3ms/step - loss: 0.4926 - accuracy: 0.8478 - val_loss: 0.5044 - val_accuracy: 0.8421\n",
      "Epoch 30/100\n",
      "165/165 [==============================] - 1s 3ms/step - loss: 0.4859 - accuracy: 0.8495 - val_loss: 0.5019 - val_accuracy: 0.8399\n",
      "Epoch 31/100\n",
      "165/165 [==============================] - 1s 3ms/step - loss: 0.4803 - accuracy: 0.8503 - val_loss: 0.4881 - val_accuracy: 0.8453\n",
      "Epoch 32/100\n",
      "165/165 [==============================] - 1s 3ms/step - loss: 0.4752 - accuracy: 0.8512 - val_loss: 0.4846 - val_accuracy: 0.8460\n",
      "Epoch 33/100\n",
      "165/165 [==============================] - 1s 3ms/step - loss: 0.4706 - accuracy: 0.8517 - val_loss: 0.4807 - val_accuracy: 0.8460\n",
      "Epoch 34/100\n",
      "165/165 [==============================] - 1s 3ms/step - loss: 0.4659 - accuracy: 0.8536 - val_loss: 0.4741 - val_accuracy: 0.8477\n",
      "Epoch 35/100\n",
      "165/165 [==============================] - 1s 3ms/step - loss: 0.4610 - accuracy: 0.8538 - val_loss: 0.5586 - val_accuracy: 0.8046\n",
      "Epoch 36/100\n",
      "165/165 [==============================] - 1s 3ms/step - loss: 0.4571 - accuracy: 0.8551 - val_loss: 0.4784 - val_accuracy: 0.8433\n",
      "Epoch 37/100\n",
      "165/165 [==============================] - 1s 3ms/step - loss: 0.4527 - accuracy: 0.8557 - val_loss: 0.4754 - val_accuracy: 0.8444\n",
      "Epoch 38/100\n",
      "165/165 [==============================] - 1s 3ms/step - loss: 0.4495 - accuracy: 0.8559 - val_loss: 0.4666 - val_accuracy: 0.8483\n",
      "Epoch 39/100\n",
      "165/165 [==============================] - 1s 3ms/step - loss: 0.4446 - accuracy: 0.8574 - val_loss: 0.4561 - val_accuracy: 0.8517\n",
      "Epoch 40/100\n",
      "165/165 [==============================] - 1s 3ms/step - loss: 0.4415 - accuracy: 0.8574 - val_loss: 0.4678 - val_accuracy: 0.8472\n",
      "Epoch 41/100\n",
      "165/165 [==============================] - 1s 3ms/step - loss: 0.4373 - accuracy: 0.8593 - val_loss: 0.4523 - val_accuracy: 0.8519\n",
      "Epoch 42/100\n",
      "165/165 [==============================] - 1s 3ms/step - loss: 0.4339 - accuracy: 0.8596 - val_loss: 0.4651 - val_accuracy: 0.8442\n",
      "Epoch 43/100\n",
      "165/165 [==============================] - 1s 3ms/step - loss: 0.4301 - accuracy: 0.8602 - val_loss: 0.4612 - val_accuracy: 0.8466\n",
      "Epoch 44/100\n",
      "165/165 [==============================] - 1s 3ms/step - loss: 0.4268 - accuracy: 0.8623 - val_loss: 0.4439 - val_accuracy: 0.8538\n",
      "Epoch 45/100\n",
      "165/165 [==============================] - 1s 3ms/step - loss: 0.4241 - accuracy: 0.8635 - val_loss: 0.4392 - val_accuracy: 0.8553\n",
      "Epoch 46/100\n",
      "165/165 [==============================] - 1s 3ms/step - loss: 0.4206 - accuracy: 0.8639 - val_loss: 0.4479 - val_accuracy: 0.8527\n",
      "Epoch 47/100\n",
      "165/165 [==============================] - 1s 3ms/step - loss: 0.4192 - accuracy: 0.8643 - val_loss: 0.4768 - val_accuracy: 0.8386\n",
      "Epoch 48/100\n",
      "165/165 [==============================] - 1s 3ms/step - loss: 0.4157 - accuracy: 0.8649 - val_loss: 0.4369 - val_accuracy: 0.8558\n",
      "Epoch 49/100\n",
      "165/165 [==============================] - 1s 3ms/step - loss: 0.4128 - accuracy: 0.8660 - val_loss: 0.4830 - val_accuracy: 0.8274\n",
      "Epoch 50/100\n",
      "165/165 [==============================] - 1s 3ms/step - loss: 0.4104 - accuracy: 0.8669 - val_loss: 0.4305 - val_accuracy: 0.8559\n",
      "Epoch 51/100\n",
      "165/165 [==============================] - 1s 3ms/step - loss: 0.4070 - accuracy: 0.8667 - val_loss: 0.4327 - val_accuracy: 0.8548\n",
      "Epoch 52/100\n",
      "165/165 [==============================] - 1s 3ms/step - loss: 0.4047 - accuracy: 0.8685 - val_loss: 0.4637 - val_accuracy: 0.8433\n",
      "Epoch 53/100\n",
      "165/165 [==============================] - 1s 3ms/step - loss: 0.4036 - accuracy: 0.8695 - val_loss: 0.5213 - val_accuracy: 0.8056\n",
      "Epoch 54/100\n",
      "165/165 [==============================] - 1s 3ms/step - loss: 0.4007 - accuracy: 0.8687 - val_loss: 0.4412 - val_accuracy: 0.8503\n",
      "Epoch 55/100\n",
      "165/165 [==============================] - 1s 3ms/step - loss: 0.3971 - accuracy: 0.8707 - val_loss: 0.4219 - val_accuracy: 0.8579\n",
      "Epoch 56/100\n",
      "165/165 [==============================] - 1s 3ms/step - loss: 0.3951 - accuracy: 0.8707 - val_loss: 0.4188 - val_accuracy: 0.8598\n",
      "Epoch 57/100\n",
      "165/165 [==============================] - 1s 3ms/step - loss: 0.3927 - accuracy: 0.8714 - val_loss: 0.4217 - val_accuracy: 0.8581\n"
     ]
    },
    {
     "name": "stdout",
     "output_type": "stream",
     "text": [
      "Epoch 58/100\n",
      "165/165 [==============================] - 1s 3ms/step - loss: 0.3898 - accuracy: 0.8718 - val_loss: 0.4389 - val_accuracy: 0.8506\n",
      "Epoch 59/100\n",
      "165/165 [==============================] - 1s 3ms/step - loss: 0.3886 - accuracy: 0.8732 - val_loss: 0.4461 - val_accuracy: 0.8470\n",
      "Epoch 60/100\n",
      "165/165 [==============================] - 1s 3ms/step - loss: 0.3859 - accuracy: 0.8737 - val_loss: 0.4145 - val_accuracy: 0.8586\n",
      "Epoch 61/100\n",
      "165/165 [==============================] - 1s 3ms/step - loss: 0.3842 - accuracy: 0.8739 - val_loss: 0.4638 - val_accuracy: 0.8357\n",
      "Epoch 62/100\n",
      "165/165 [==============================] - 1s 3ms/step - loss: 0.3811 - accuracy: 0.8747 - val_loss: 0.4199 - val_accuracy: 0.8581\n",
      "Epoch 63/100\n",
      "165/165 [==============================] - 1s 3ms/step - loss: 0.3799 - accuracy: 0.8753 - val_loss: 0.4256 - val_accuracy: 0.8551\n",
      "Epoch 64/100\n",
      "165/165 [==============================] - 1s 3ms/step - loss: 0.3772 - accuracy: 0.8763 - val_loss: 0.4177 - val_accuracy: 0.8577\n",
      "Epoch 65/100\n",
      "165/165 [==============================] - 1s 3ms/step - loss: 0.3761 - accuracy: 0.8751 - val_loss: 0.4608 - val_accuracy: 0.8358\n",
      "Epoch 66/100\n",
      "165/165 [==============================] - 1s 3ms/step - loss: 0.3747 - accuracy: 0.8765 - val_loss: 0.4067 - val_accuracy: 0.8618\n",
      "Epoch 67/100\n",
      "165/165 [==============================] - 1s 3ms/step - loss: 0.3715 - accuracy: 0.8772 - val_loss: 0.4121 - val_accuracy: 0.8596\n",
      "Epoch 68/100\n",
      "165/165 [==============================] - 1s 3ms/step - loss: 0.3708 - accuracy: 0.8777 - val_loss: 0.4234 - val_accuracy: 0.8529\n",
      "Epoch 69/100\n",
      "165/165 [==============================] - 1s 3ms/step - loss: 0.3675 - accuracy: 0.8786 - val_loss: 0.4696 - val_accuracy: 0.8294\n",
      "Epoch 70/100\n",
      "165/165 [==============================] - 1s 3ms/step - loss: 0.3664 - accuracy: 0.8784 - val_loss: 0.4029 - val_accuracy: 0.8619\n",
      "Epoch 71/100\n",
      "165/165 [==============================] - 1s 3ms/step - loss: 0.3644 - accuracy: 0.8787 - val_loss: 0.6216 - val_accuracy: 0.7986\n",
      "Epoch 72/100\n",
      "165/165 [==============================] - 1s 3ms/step - loss: 0.3640 - accuracy: 0.8795 - val_loss: 0.5053 - val_accuracy: 0.8297\n",
      "Epoch 73/100\n",
      "165/165 [==============================] - 1s 3ms/step - loss: 0.3625 - accuracy: 0.8793 - val_loss: 0.4100 - val_accuracy: 0.8580\n",
      "Epoch 74/100\n",
      "165/165 [==============================] - 1s 3ms/step - loss: 0.3593 - accuracy: 0.8807 - val_loss: 0.4042 - val_accuracy: 0.8604\n",
      "Epoch 75/100\n",
      "165/165 [==============================] - 1s 3ms/step - loss: 0.3572 - accuracy: 0.8811 - val_loss: 0.4319 - val_accuracy: 0.8485\n",
      "Epoch 76/100\n",
      "165/165 [==============================] - 1s 3ms/step - loss: 0.3557 - accuracy: 0.8827 - val_loss: 0.4478 - val_accuracy: 0.8471\n",
      "Epoch 77/100\n",
      "165/165 [==============================] - 1s 3ms/step - loss: 0.3543 - accuracy: 0.8816 - val_loss: 0.4498 - val_accuracy: 0.8416\n",
      "Epoch 78/100\n",
      "165/165 [==============================] - 1s 3ms/step - loss: 0.3535 - accuracy: 0.8823 - val_loss: 0.4497 - val_accuracy: 0.8457\n",
      "Epoch 79/100\n",
      "165/165 [==============================] - 1s 3ms/step - loss: 0.3515 - accuracy: 0.8819 - val_loss: 0.4456 - val_accuracy: 0.8433\n",
      "Epoch 80/100\n",
      "165/165 [==============================] - 1s 3ms/step - loss: 0.3503 - accuracy: 0.8837 - val_loss: 0.3940 - val_accuracy: 0.8641\n",
      "Epoch 81/100\n",
      "165/165 [==============================] - 1s 3ms/step - loss: 0.3476 - accuracy: 0.8841 - val_loss: 0.4641 - val_accuracy: 0.8329\n",
      "Epoch 82/100\n",
      "165/165 [==============================] - 1s 3ms/step - loss: 0.3463 - accuracy: 0.8851 - val_loss: 0.4219 - val_accuracy: 0.8504\n",
      "Epoch 83/100\n",
      "165/165 [==============================] - 1s 3ms/step - loss: 0.3448 - accuracy: 0.8854 - val_loss: 0.4581 - val_accuracy: 0.8393\n",
      "Epoch 84/100\n",
      "165/165 [==============================] - 1s 3ms/step - loss: 0.3445 - accuracy: 0.8855 - val_loss: 0.4164 - val_accuracy: 0.8588\n",
      "Epoch 85/100\n",
      "165/165 [==============================] - 1s 3ms/step - loss: 0.3420 - accuracy: 0.8858 - val_loss: 0.5437 - val_accuracy: 0.8321\n",
      "Epoch 86/100\n",
      "165/165 [==============================] - 1s 3ms/step - loss: 0.3421 - accuracy: 0.8858 - val_loss: 0.5538 - val_accuracy: 0.7922\n",
      "Epoch 87/100\n",
      "165/165 [==============================] - 1s 3ms/step - loss: 0.3398 - accuracy: 0.8865 - val_loss: 0.4061 - val_accuracy: 0.8621\n",
      "Epoch 88/100\n",
      "165/165 [==============================] - 1s 3ms/step - loss: 0.3369 - accuracy: 0.8876 - val_loss: 0.4176 - val_accuracy: 0.8551\n",
      "Epoch 89/100\n",
      "165/165 [==============================] - 1s 3ms/step - loss: 0.3372 - accuracy: 0.8870 - val_loss: 0.4776 - val_accuracy: 0.8317\n",
      "Epoch 90/100\n",
      "165/165 [==============================] - 1s 3ms/step - loss: 0.3352 - accuracy: 0.8876 - val_loss: 0.4612 - val_accuracy: 0.8336\n",
      "Epoch 91/100\n",
      "165/165 [==============================] - 1s 3ms/step - loss: 0.3338 - accuracy: 0.8879 - val_loss: 0.3997 - val_accuracy: 0.8612\n",
      "Epoch 92/100\n",
      "165/165 [==============================] - 1s 3ms/step - loss: 0.3315 - accuracy: 0.8895 - val_loss: 0.3937 - val_accuracy: 0.8638\n",
      "Epoch 93/100\n",
      "165/165 [==============================] - 1s 3ms/step - loss: 0.3308 - accuracy: 0.8893 - val_loss: 0.4326 - val_accuracy: 0.8485\n",
      "Epoch 94/100\n",
      "165/165 [==============================] - 1s 3ms/step - loss: 0.3296 - accuracy: 0.8881 - val_loss: 0.6128 - val_accuracy: 0.7910\n",
      "Epoch 95/100\n",
      "165/165 [==============================] - 1s 3ms/step - loss: 0.3278 - accuracy: 0.8902 - val_loss: 0.3858 - val_accuracy: 0.8661\n",
      "Epoch 96/100\n",
      "165/165 [==============================] - 1s 3ms/step - loss: 0.3260 - accuracy: 0.8910 - val_loss: 0.4431 - val_accuracy: 0.8431\n",
      "Epoch 97/100\n",
      "165/165 [==============================] - 1s 3ms/step - loss: 0.3252 - accuracy: 0.8907 - val_loss: 0.6814 - val_accuracy: 0.7798\n",
      "Epoch 98/100\n",
      "165/165 [==============================] - 1s 3ms/step - loss: 0.3256 - accuracy: 0.8907 - val_loss: 0.5082 - val_accuracy: 0.8119\n",
      "Epoch 99/100\n",
      "165/165 [==============================] - 1s 3ms/step - loss: 0.3234 - accuracy: 0.8915 - val_loss: 0.4109 - val_accuracy: 0.8560\n",
      "Epoch 100/100\n",
      "165/165 [==============================] - 1s 3ms/step - loss: 0.3222 - accuracy: 0.8920 - val_loss: 0.4104 - val_accuracy: 0.8587\n"
     ]
    }
   ],
   "source": [
    "model          = fashion_mnist_normalization_model()\n",
    "model_history = model.fit(X_train , y_train , epochs=100  , verbose = 1 , batch_size = 256 , validation_split = 0.3)"
   ]
  },
  {
   "cell_type": "code",
   "execution_count": 32,
   "metadata": {
    "colab": {
     "base_uri": "https://localhost:8080/"
    },
    "id": "tvlRkSKSrfpd",
    "outputId": "4ed596ab-7cab-412f-bae4-406f0ce07739"
   },
   "outputs": [
    {
     "name": "stdout",
     "output_type": "stream",
     "text": [
      "드롭아웃 - \n",
      "배치정규화는 내부적으로 규제가 적용되어 있어서 드롭아웃을 적용할 필요가 없다 - \n"
     ]
    }
   ],
   "source": [
    "print('드롭아웃 - ')\n",
    "print('배치정규화는 내부적으로 규제가 적용되어 있어서 드롭아웃을 적용할 필요가 없다 - ')\n",
    "\n",
    "def fashion_mnist_dropout_model() :\n",
    "\n",
    "  fashion_model = Sequential()\n",
    "  fashion_model.add( Dense(units = 50, input_shape = (784, )  , kernel_initializer = 'he_normal') )\n",
    "  # fashion_model.add( BatchNormalization() )\n",
    "  fashion_model.add( Activation('sigmoid') )\n",
    "  fashion_model.add( Dropout(0.2) )\n",
    "\n",
    "  fashion_model.add( Dense(units = 50 ,  kernel_initializer = 'he_normal') )\n",
    "  # fashion_model.add( BatchNormalization() )\n",
    "  fashion_model.add( Activation('sigmoid') )\n",
    "  fashion_model.add( Dropout(0.2) )\n",
    "\n",
    "\n",
    "  fashion_model.add( Dense(units = 50 ,  kernel_initializer = 'he_normal') )\n",
    "  #fashion_model.add( BatchNormalization() )\n",
    "  fashion_model.add( Activation('sigmoid') )\n",
    "  fashion_model.add( Dropout(0.2) )\n",
    "\n",
    "  fashion_model.add( Dense(units = 50 , kernel_initializer = 'he_normal') )\n",
    "  #fashion_model.add( BatchNormalization() )\n",
    "  fashion_model.add( Activation('sigmoid') )\n",
    "  fashion_model.add( Dropout(0.2) )\n",
    "\n",
    "  fashion_model.add( Dense(units = 10 , activation = 'softmax' , kernel_initializer = 'he_normal') )\n",
    "\n",
    "  fashion_model.compile(optimizer = SGD(learning_rate = 0.01), \n",
    "                      loss= 'categorical_crossentropy' , \n",
    "                      metrics=['accuracy'] ) \n",
    "  \n",
    "  return fashion_model "
   ]
  },
  {
   "cell_type": "code",
   "execution_count": 33,
   "metadata": {
    "id": "n4TKJEzttVa_"
   },
   "outputs": [
    {
     "name": "stdout",
     "output_type": "stream",
     "text": [
      "Epoch 1/100\n",
      "165/165 [==============================] - 1s 5ms/step - loss: 2.4070 - accuracy: 0.1016 - val_loss: 2.2942 - val_accuracy: 0.1004\n",
      "Epoch 2/100\n",
      "165/165 [==============================] - 1s 4ms/step - loss: 2.3589 - accuracy: 0.1059 - val_loss: 2.2862 - val_accuracy: 0.2072\n",
      "Epoch 3/100\n",
      "165/165 [==============================] - 1s 4ms/step - loss: 2.3491 - accuracy: 0.1080 - val_loss: 2.2813 - val_accuracy: 0.1916\n",
      "Epoch 4/100\n",
      "165/165 [==============================] - 1s 4ms/step - loss: 2.3400 - accuracy: 0.1143 - val_loss: 2.2768 - val_accuracy: 0.2221\n",
      "Epoch 5/100\n",
      "165/165 [==============================] - 1s 4ms/step - loss: 2.3331 - accuracy: 0.1141 - val_loss: 2.2721 - val_accuracy: 0.3204\n",
      "Epoch 6/100\n",
      "165/165 [==============================] - 1s 4ms/step - loss: 2.3285 - accuracy: 0.1150 - val_loss: 2.2677 - val_accuracy: 0.3457\n",
      "Epoch 7/100\n",
      "165/165 [==============================] - 1s 4ms/step - loss: 2.3222 - accuracy: 0.1160 - val_loss: 2.2627 - val_accuracy: 0.3362\n",
      "Epoch 8/100\n",
      "165/165 [==============================] - 1s 4ms/step - loss: 2.3160 - accuracy: 0.1206 - val_loss: 2.2577 - val_accuracy: 0.3834\n",
      "Epoch 9/100\n",
      "165/165 [==============================] - 1s 4ms/step - loss: 2.3078 - accuracy: 0.1234 - val_loss: 2.2519 - val_accuracy: 0.3665\n",
      "Epoch 10/100\n",
      "165/165 [==============================] - 1s 4ms/step - loss: 2.2995 - accuracy: 0.1310 - val_loss: 2.2457 - val_accuracy: 0.4159\n",
      "Epoch 11/100\n",
      "165/165 [==============================] - 1s 4ms/step - loss: 2.2947 - accuracy: 0.1327 - val_loss: 2.2390 - val_accuracy: 0.3813\n",
      "Epoch 12/100\n",
      "165/165 [==============================] - 1s 4ms/step - loss: 2.2853 - accuracy: 0.1376 - val_loss: 2.2307 - val_accuracy: 0.4401\n",
      "Epoch 13/100\n",
      "165/165 [==============================] - 1s 4ms/step - loss: 2.2797 - accuracy: 0.1385 - val_loss: 2.2222 - val_accuracy: 0.3811\n",
      "Epoch 14/100\n",
      "165/165 [==============================] - 1s 4ms/step - loss: 2.2691 - accuracy: 0.1453 - val_loss: 2.2122 - val_accuracy: 0.3647\n",
      "Epoch 15/100\n",
      "165/165 [==============================] - 1s 4ms/step - loss: 2.2601 - accuracy: 0.1486 - val_loss: 2.2007 - val_accuracy: 0.4248\n",
      "Epoch 16/100\n",
      "165/165 [==============================] - 1s 4ms/step - loss: 2.2494 - accuracy: 0.1567 - val_loss: 2.1876 - val_accuracy: 0.4167\n",
      "Epoch 17/100\n",
      "165/165 [==============================] - 1s 4ms/step - loss: 2.2349 - accuracy: 0.1613 - val_loss: 2.1723 - val_accuracy: 0.4069\n",
      "Epoch 18/100\n",
      "165/165 [==============================] - 1s 4ms/step - loss: 2.2191 - accuracy: 0.1706 - val_loss: 2.1542 - val_accuracy: 0.4058\n",
      "Epoch 19/100\n",
      "165/165 [==============================] - 1s 4ms/step - loss: 2.2008 - accuracy: 0.1786 - val_loss: 2.1333 - val_accuracy: 0.4000\n",
      "Epoch 20/100\n",
      "165/165 [==============================] - 1s 4ms/step - loss: 2.1834 - accuracy: 0.1839 - val_loss: 2.1090 - val_accuracy: 0.4053\n",
      "Epoch 21/100\n",
      "165/165 [==============================] - 1s 4ms/step - loss: 2.1598 - accuracy: 0.1916 - val_loss: 2.0810 - val_accuracy: 0.4006\n",
      "Epoch 22/100\n",
      "165/165 [==============================] - 1s 4ms/step - loss: 2.1329 - accuracy: 0.2017 - val_loss: 2.0494 - val_accuracy: 0.3798\n",
      "Epoch 23/100\n",
      "165/165 [==============================] - 1s 4ms/step - loss: 2.1058 - accuracy: 0.2058 - val_loss: 2.0146 - val_accuracy: 0.3882\n",
      "Epoch 24/100\n",
      "165/165 [==============================] - 1s 4ms/step - loss: 2.0718 - accuracy: 0.2165 - val_loss: 1.9771 - val_accuracy: 0.3927\n",
      "Epoch 25/100\n",
      "165/165 [==============================] - 1s 4ms/step - loss: 2.0390 - accuracy: 0.2217 - val_loss: 1.9373 - val_accuracy: 0.3523\n",
      "Epoch 26/100\n",
      "165/165 [==============================] - 1s 4ms/step - loss: 2.0037 - accuracy: 0.2246 - val_loss: 1.8980 - val_accuracy: 0.3439\n",
      "Epoch 27/100\n",
      "165/165 [==============================] - 1s 4ms/step - loss: 1.9626 - accuracy: 0.2316 - val_loss: 1.8595 - val_accuracy: 0.3691\n",
      "Epoch 28/100\n",
      "165/165 [==============================] - 1s 4ms/step - loss: 1.9334 - accuracy: 0.2334 - val_loss: 1.8235 - val_accuracy: 0.3667\n",
      "Epoch 29/100\n",
      "165/165 [==============================] - 1s 4ms/step - loss: 1.9002 - accuracy: 0.2363 - val_loss: 1.7909 - val_accuracy: 0.3695\n",
      "Epoch 30/100\n",
      "165/165 [==============================] - 1s 4ms/step - loss: 1.8714 - accuracy: 0.2412 - val_loss: 1.7616 - val_accuracy: 0.3825\n",
      "Epoch 31/100\n",
      "165/165 [==============================] - 1s 4ms/step - loss: 1.8422 - accuracy: 0.2422 - val_loss: 1.7361 - val_accuracy: 0.3959\n",
      "Epoch 32/100\n",
      "165/165 [==============================] - 1s 4ms/step - loss: 1.8154 - accuracy: 0.2491 - val_loss: 1.7136 - val_accuracy: 0.3945\n",
      "Epoch 33/100\n",
      "165/165 [==============================] - 1s 4ms/step - loss: 1.7962 - accuracy: 0.2514 - val_loss: 1.6928 - val_accuracy: 0.4206\n",
      "Epoch 34/100\n",
      "165/165 [==============================] - 1s 4ms/step - loss: 1.7774 - accuracy: 0.2566 - val_loss: 1.6757 - val_accuracy: 0.4029\n",
      "Epoch 35/100\n",
      "165/165 [==============================] - 1s 4ms/step - loss: 1.7596 - accuracy: 0.2571 - val_loss: 1.6598 - val_accuracy: 0.4019\n",
      "Epoch 36/100\n",
      "165/165 [==============================] - 1s 4ms/step - loss: 1.7432 - accuracy: 0.2599 - val_loss: 1.6458 - val_accuracy: 0.4290\n",
      "Epoch 37/100\n",
      "165/165 [==============================] - 1s 4ms/step - loss: 1.7285 - accuracy: 0.2605 - val_loss: 1.6310 - val_accuracy: 0.4248\n",
      "Epoch 38/100\n",
      "165/165 [==============================] - 1s 4ms/step - loss: 1.7121 - accuracy: 0.2737 - val_loss: 1.6173 - val_accuracy: 0.4409\n",
      "Epoch 39/100\n",
      "165/165 [==============================] - 1s 4ms/step - loss: 1.7044 - accuracy: 0.2733 - val_loss: 1.6056 - val_accuracy: 0.4441\n",
      "Epoch 40/100\n",
      "165/165 [==============================] - 1s 4ms/step - loss: 1.6910 - accuracy: 0.2736 - val_loss: 1.5923 - val_accuracy: 0.4567\n",
      "Epoch 41/100\n",
      "165/165 [==============================] - 1s 4ms/step - loss: 1.6769 - accuracy: 0.2812 - val_loss: 1.5809 - val_accuracy: 0.4473\n",
      "Epoch 42/100\n",
      "165/165 [==============================] - 1s 4ms/step - loss: 1.6664 - accuracy: 0.2882 - val_loss: 1.5705 - val_accuracy: 0.4323\n",
      "Epoch 43/100\n",
      "165/165 [==============================] - 1s 4ms/step - loss: 1.6552 - accuracy: 0.2918 - val_loss: 1.5557 - val_accuracy: 0.4673\n",
      "Epoch 44/100\n",
      "165/165 [==============================] - 1s 4ms/step - loss: 1.6419 - accuracy: 0.2952 - val_loss: 1.5447 - val_accuracy: 0.4447\n",
      "Epoch 45/100\n",
      "165/165 [==============================] - 1s 4ms/step - loss: 1.6299 - accuracy: 0.3046 - val_loss: 1.5337 - val_accuracy: 0.4440\n",
      "Epoch 46/100\n",
      "165/165 [==============================] - 1s 4ms/step - loss: 1.6208 - accuracy: 0.3065 - val_loss: 1.5181 - val_accuracy: 0.4126\n",
      "Epoch 47/100\n",
      "165/165 [==============================] - 1s 4ms/step - loss: 1.6061 - accuracy: 0.3134 - val_loss: 1.5040 - val_accuracy: 0.4128\n",
      "Epoch 48/100\n",
      "165/165 [==============================] - 1s 4ms/step - loss: 1.5954 - accuracy: 0.3156 - val_loss: 1.4868 - val_accuracy: 0.4496\n",
      "Epoch 49/100\n",
      "165/165 [==============================] - 1s 4ms/step - loss: 1.5818 - accuracy: 0.3201 - val_loss: 1.4726 - val_accuracy: 0.4688\n",
      "Epoch 50/100\n",
      "165/165 [==============================] - 1s 4ms/step - loss: 1.5705 - accuracy: 0.3291 - val_loss: 1.4565 - val_accuracy: 0.4742\n",
      "Epoch 51/100\n",
      "165/165 [==============================] - 1s 4ms/step - loss: 1.5574 - accuracy: 0.3367 - val_loss: 1.4418 - val_accuracy: 0.4684\n",
      "Epoch 52/100\n",
      "165/165 [==============================] - 1s 4ms/step - loss: 1.5425 - accuracy: 0.3453 - val_loss: 1.4260 - val_accuracy: 0.4986\n",
      "Epoch 53/100\n",
      "165/165 [==============================] - 1s 4ms/step - loss: 1.5270 - accuracy: 0.3485 - val_loss: 1.4100 - val_accuracy: 0.4992\n",
      "Epoch 54/100\n",
      "165/165 [==============================] - 1s 4ms/step - loss: 1.5130 - accuracy: 0.3556 - val_loss: 1.3922 - val_accuracy: 0.5052\n",
      "Epoch 55/100\n",
      "165/165 [==============================] - 1s 4ms/step - loss: 1.5036 - accuracy: 0.3556 - val_loss: 1.3747 - val_accuracy: 0.5095\n",
      "Epoch 56/100\n",
      "165/165 [==============================] - 1s 4ms/step - loss: 1.4843 - accuracy: 0.3668 - val_loss: 1.3713 - val_accuracy: 0.5152\n",
      "Epoch 57/100\n",
      "165/165 [==============================] - 1s 4ms/step - loss: 1.4744 - accuracy: 0.3692 - val_loss: 1.3416 - val_accuracy: 0.5062\n"
     ]
    },
    {
     "name": "stdout",
     "output_type": "stream",
     "text": [
      "Epoch 58/100\n",
      "165/165 [==============================] - 1s 4ms/step - loss: 1.4528 - accuracy: 0.3842 - val_loss: 1.3243 - val_accuracy: 0.5100\n",
      "Epoch 59/100\n",
      "165/165 [==============================] - 1s 4ms/step - loss: 1.4388 - accuracy: 0.3849 - val_loss: 1.3087 - val_accuracy: 0.5173\n",
      "Epoch 60/100\n",
      "165/165 [==============================] - 1s 4ms/step - loss: 1.4246 - accuracy: 0.3928 - val_loss: 1.2946 - val_accuracy: 0.5273\n",
      "Epoch 61/100\n",
      "165/165 [==============================] - 1s 4ms/step - loss: 1.4117 - accuracy: 0.3938 - val_loss: 1.2779 - val_accuracy: 0.5226\n",
      "Epoch 62/100\n",
      "165/165 [==============================] - 1s 4ms/step - loss: 1.3982 - accuracy: 0.3988 - val_loss: 1.2627 - val_accuracy: 0.5078\n",
      "Epoch 63/100\n",
      "165/165 [==============================] - 1s 4ms/step - loss: 1.3853 - accuracy: 0.3985 - val_loss: 1.2502 - val_accuracy: 0.5252\n",
      "Epoch 64/100\n",
      "165/165 [==============================] - 1s 4ms/step - loss: 1.3740 - accuracy: 0.4040 - val_loss: 1.2403 - val_accuracy: 0.5273\n",
      "Epoch 65/100\n",
      "165/165 [==============================] - 1s 4ms/step - loss: 1.3646 - accuracy: 0.4059 - val_loss: 1.2290 - val_accuracy: 0.5473\n",
      "Epoch 66/100\n",
      "165/165 [==============================] - 1s 4ms/step - loss: 1.3511 - accuracy: 0.4170 - val_loss: 1.2166 - val_accuracy: 0.5166\n",
      "Epoch 67/100\n",
      "165/165 [==============================] - 1s 4ms/step - loss: 1.3430 - accuracy: 0.4145 - val_loss: 1.2079 - val_accuracy: 0.5318\n",
      "Epoch 68/100\n",
      "165/165 [==============================] - 1s 4ms/step - loss: 1.3319 - accuracy: 0.4183 - val_loss: 1.1993 - val_accuracy: 0.5187\n",
      "Epoch 69/100\n",
      "165/165 [==============================] - 1s 5ms/step - loss: 1.3236 - accuracy: 0.4193 - val_loss: 1.1910 - val_accuracy: 0.5349\n",
      "Epoch 70/100\n",
      "165/165 [==============================] - 1s 5ms/step - loss: 1.3113 - accuracy: 0.4267 - val_loss: 1.1819 - val_accuracy: 0.5504\n",
      "Epoch 71/100\n",
      "165/165 [==============================] - 1s 4ms/step - loss: 1.3063 - accuracy: 0.4297 - val_loss: 1.1756 - val_accuracy: 0.5376\n",
      "Epoch 72/100\n",
      "165/165 [==============================] - 1s 5ms/step - loss: 1.2966 - accuracy: 0.4309 - val_loss: 1.1670 - val_accuracy: 0.5386\n",
      "Epoch 73/100\n",
      "165/165 [==============================] - 1s 5ms/step - loss: 1.2855 - accuracy: 0.4388 - val_loss: 1.1617 - val_accuracy: 0.5684\n",
      "Epoch 74/100\n",
      "165/165 [==============================] - 1s 4ms/step - loss: 1.2847 - accuracy: 0.4376 - val_loss: 1.1520 - val_accuracy: 0.5629\n",
      "Epoch 75/100\n",
      "165/165 [==============================] - 1s 5ms/step - loss: 1.2694 - accuracy: 0.4422 - val_loss: 1.1542 - val_accuracy: 0.6013\n",
      "Epoch 76/100\n",
      "165/165 [==============================] - 1s 4ms/step - loss: 1.2736 - accuracy: 0.4412 - val_loss: 1.1440 - val_accuracy: 0.5628\n",
      "Epoch 77/100\n",
      "165/165 [==============================] - 1s 4ms/step - loss: 1.2671 - accuracy: 0.4446 - val_loss: 1.1386 - val_accuracy: 0.5851\n",
      "Epoch 78/100\n",
      "165/165 [==============================] - 1s 4ms/step - loss: 1.2593 - accuracy: 0.4525 - val_loss: 1.1336 - val_accuracy: 0.5916\n",
      "Epoch 79/100\n",
      "165/165 [==============================] - 1s 6ms/step - loss: 1.2543 - accuracy: 0.4515 - val_loss: 1.1311 - val_accuracy: 0.5698\n",
      "Epoch 80/100\n",
      "165/165 [==============================] - 1s 7ms/step - loss: 1.2489 - accuracy: 0.4535 - val_loss: 1.1188 - val_accuracy: 0.5817\n",
      "Epoch 81/100\n",
      "165/165 [==============================] - 1s 4ms/step - loss: 1.2423 - accuracy: 0.4574 - val_loss: 1.1158 - val_accuracy: 0.6028\n",
      "Epoch 82/100\n",
      "165/165 [==============================] - 1s 4ms/step - loss: 1.2315 - accuracy: 0.4633 - val_loss: 1.1094 - val_accuracy: 0.5842\n",
      "Epoch 83/100\n",
      "165/165 [==============================] - 1s 5ms/step - loss: 1.2297 - accuracy: 0.4575 - val_loss: 1.1045 - val_accuracy: 0.5845\n",
      "Epoch 84/100\n",
      "165/165 [==============================] - 1s 4ms/step - loss: 1.2211 - accuracy: 0.4665 - val_loss: 1.0980 - val_accuracy: 0.5906\n",
      "Epoch 85/100\n",
      "165/165 [==============================] - 1s 4ms/step - loss: 1.2192 - accuracy: 0.4649 - val_loss: 1.0906 - val_accuracy: 0.5983\n",
      "Epoch 86/100\n",
      "165/165 [==============================] - 1s 4ms/step - loss: 1.2122 - accuracy: 0.4707 - val_loss: 1.0875 - val_accuracy: 0.6104\n",
      "Epoch 87/100\n",
      "165/165 [==============================] - 1s 4ms/step - loss: 1.2074 - accuracy: 0.4764 - val_loss: 1.0822 - val_accuracy: 0.6117\n",
      "Epoch 88/100\n",
      "165/165 [==============================] - 1s 5ms/step - loss: 1.2021 - accuracy: 0.4759 - val_loss: 1.0766 - val_accuracy: 0.6079\n",
      "Epoch 89/100\n",
      "165/165 [==============================] - 1s 4ms/step - loss: 1.1987 - accuracy: 0.4783 - val_loss: 1.0674 - val_accuracy: 0.6184\n",
      "Epoch 90/100\n",
      "165/165 [==============================] - 1s 4ms/step - loss: 1.1907 - accuracy: 0.4829 - val_loss: 1.0658 - val_accuracy: 0.6159\n",
      "Epoch 91/100\n",
      "165/165 [==============================] - 1s 4ms/step - loss: 1.1842 - accuracy: 0.4867 - val_loss: 1.0586 - val_accuracy: 0.6157\n",
      "Epoch 92/100\n",
      "165/165 [==============================] - 1s 4ms/step - loss: 1.1810 - accuracy: 0.4910 - val_loss: 1.0551 - val_accuracy: 0.6081\n",
      "Epoch 93/100\n",
      "165/165 [==============================] - 1s 5ms/step - loss: 1.1731 - accuracy: 0.4953 - val_loss: 1.0481 - val_accuracy: 0.6184\n",
      "Epoch 94/100\n",
      "165/165 [==============================] - 1s 4ms/step - loss: 1.1702 - accuracy: 0.4975 - val_loss: 1.0399 - val_accuracy: 0.6259\n",
      "Epoch 95/100\n",
      "165/165 [==============================] - 1s 4ms/step - loss: 1.1666 - accuracy: 0.5009 - val_loss: 1.0327 - val_accuracy: 0.6224\n",
      "Epoch 96/100\n",
      "165/165 [==============================] - 1s 4ms/step - loss: 1.1590 - accuracy: 0.5031 - val_loss: 1.0323 - val_accuracy: 0.6180\n",
      "Epoch 97/100\n",
      "165/165 [==============================] - 1s 4ms/step - loss: 1.1561 - accuracy: 0.5061 - val_loss: 1.0256 - val_accuracy: 0.6291\n",
      "Epoch 98/100\n",
      "165/165 [==============================] - 1s 4ms/step - loss: 1.1497 - accuracy: 0.5077 - val_loss: 1.0199 - val_accuracy: 0.6217\n",
      "Epoch 99/100\n",
      "165/165 [==============================] - 1s 4ms/step - loss: 1.1429 - accuracy: 0.5116 - val_loss: 1.0130 - val_accuracy: 0.6248\n",
      "Epoch 100/100\n",
      "165/165 [==============================] - 1s 4ms/step - loss: 1.1435 - accuracy: 0.5105 - val_loss: 1.0136 - val_accuracy: 0.6209\n"
     ]
    }
   ],
   "source": [
    "model          = fashion_mnist_dropout_model()\n",
    "model_history = model.fit(X_train , y_train , epochs=100  , verbose = 1 , batch_size = 256 , validation_split = 0.3)"
   ]
  },
  {
   "cell_type": "markdown",
   "metadata": {
    "id": "NX5H5jDlCIQe"
   },
   "source": [
    "#### 자연어 처리 \n",
    "\n",
    "- 문자? -> ASCII 인코딩 'LISTEN' , 'SILENT' -> NN 입력으로 사용이 부적합\n"
   ]
  },
  {
   "cell_type": "code",
   "execution_count": 34,
   "metadata": {
    "colab": {
     "base_uri": "https://localhost:8080/"
    },
    "id": "G4StX7fWCK-G",
    "outputId": "56d5c7cb-3904-43ee-f7cb-e8120f1a4d65"
   },
   "outputs": [
    {
     "name": "stdout",
     "output_type": "stream",
     "text": [
      "단어 기반 인코딩 - \n",
      "\n",
      "{'<OOV>': 1, 'love': 2, 'my': 3, 'i': 4, 'dog': 5, 'student': 6, 'you': 7, 'toi': 8, 'hoc': 9, 'tieng': 10, 'viet': 11, 'khong': 12, 'a': 13}\n",
      "[[4, 2, 3, 6], [4, 2, 3, 5], [7, 2, 3, 5], [8, 9, 10, 11, 12, 13]]\n",
      "[[ 0  4  2  3  6]\n",
      " [ 0  4  2  3  5]\n",
      " [ 0  7  2  3  5]\n",
      " [ 9 10 11 12 13]]\n"
     ]
    }
   ],
   "source": [
    "print('단어 기반 인코딩 - ')\n",
    "print()\n",
    "sentences = [\n",
    "  'I love my student' , \n",
    "  'I love my dog' , \n",
    "  'You love my dog?' ,   \n",
    "  'toi hoc tieng Viet khong a'         \n",
    "]\n",
    "\n",
    "tokenizer = Tokenizer(num_words = 100 , oov_token='<OOV>')\n",
    "\n",
    "# 단어기반 인덱싱\n",
    "tokenizer.fit_on_texts(sentences)\n",
    "# Bags of Words(BOW)\n",
    "word_index = tokenizer.word_index\n",
    "\n",
    "\n",
    "# 문장기반 인덱싱\n",
    "sequences = tokenizer.texts_to_sequences(sentences)\n",
    "padding   = pad_sequences(sequences , padding='pre' , maxlen = 5 , truncating = 'pre')\n",
    "\n",
    "\n",
    "print(word_index)\n",
    "print(sequences)\n",
    "print(padding)\n",
    "# test_sentences = [\n",
    "#   'I love my son'            \n",
    "# ]\n",
    "\n",
    "# test_sequences = tokenizer.texts_to_sequences(sentences)\n",
    "# print(test_sequences)\n",
    "\n",
    "# 문장의 길이가 다른 경우 문장의 길이를 같은 길이로 만들어야 한다!!\n",
    "\n"
   ]
  },
  {
   "cell_type": "code",
   "execution_count": 38,
   "metadata": {
    "colab": {
     "base_uri": "https://localhost:8080/"
    },
    "id": "HLyx79zQCJzY",
    "outputId": "8816f447-96fe-46bd-a010-59fc9a27b486"
   },
   "outputs": [
    {
     "name": "stderr",
     "output_type": "stream",
     "text": [
      "'wget'은(는) 내부 또는 외부 명령, 실행할 수 있는 프로그램, 또는\n",
      "배치 파일이 아닙니다.\n"
     ]
    }
   ],
   "source": [
    "!wget --no-check-certificate \\\n",
    "  https://storage.googleapis.com/laurencemoroney-blog.appspot.com/sarcasm.json \\\n",
    "  -O /tmp/sarcasm.json"
   ]
  },
  {
   "cell_type": "code",
   "execution_count": 39,
   "metadata": {
    "id": "yirKi0LjKA56"
   },
   "outputs": [
    {
     "ename": "FileNotFoundError",
     "evalue": "[Errno 2] No such file or directory: '/tmp/sarcasm.json'",
     "output_type": "error",
     "traceback": [
      "\u001b[1;31m---------------------------------------------------------------------------\u001b[0m",
      "\u001b[1;31mFileNotFoundError\u001b[0m                         Traceback (most recent call last)",
      "Input \u001b[1;32mIn [39]\u001b[0m, in \u001b[0;36m<cell line: 3>\u001b[1;34m()\u001b[0m\n\u001b[0;32m      1\u001b[0m \u001b[38;5;28;01mimport\u001b[39;00m \u001b[38;5;21;01mjson\u001b[39;00m\n\u001b[1;32m----> 3\u001b[0m \u001b[38;5;28;01mwith\u001b[39;00m \u001b[38;5;28;43mopen\u001b[39;49m\u001b[43m(\u001b[49m\u001b[38;5;124;43m'\u001b[39;49m\u001b[38;5;124;43m/tmp/sarcasm.json\u001b[39;49m\u001b[38;5;124;43m'\u001b[39;49m\u001b[43m \u001b[49m\u001b[43m,\u001b[49m\u001b[43m \u001b[49m\u001b[38;5;124;43m'\u001b[39;49m\u001b[38;5;124;43mr\u001b[39;49m\u001b[38;5;124;43m'\u001b[39;49m\u001b[43m)\u001b[49m \u001b[38;5;28;01mas\u001b[39;00m  f :\n\u001b[0;32m      4\u001b[0m   datasets \u001b[38;5;241m=\u001b[39m json\u001b[38;5;241m.\u001b[39mload(f)\n",
      "\u001b[1;31mFileNotFoundError\u001b[0m: [Errno 2] No such file or directory: '/tmp/sarcasm.json'"
     ]
    }
   ],
   "source": [
    "import json\n",
    "\n",
    "with open('/tmp/sarcasm.json' , 'r') as  f :\n",
    "  datasets = json.load(f)"
   ]
  },
  {
   "cell_type": "code",
   "execution_count": 40,
   "metadata": {
    "id": "G0USquwHtXsQ"
   },
   "outputs": [
    {
     "ename": "NameError",
     "evalue": "name 'datasets' is not defined",
     "output_type": "error",
     "traceback": [
      "\u001b[1;31m---------------------------------------------------------------------------\u001b[0m",
      "\u001b[1;31mNameError\u001b[0m                                 Traceback (most recent call last)",
      "Input \u001b[1;32mIn [40]\u001b[0m, in \u001b[0;36m<cell line: 5>\u001b[1;34m()\u001b[0m\n\u001b[0;32m      2\u001b[0m target    \u001b[38;5;241m=\u001b[39m []\n\u001b[0;32m      3\u001b[0m urls      \u001b[38;5;241m=\u001b[39m []\n\u001b[1;32m----> 5\u001b[0m \u001b[38;5;28;01mfor\u001b[39;00m row \u001b[38;5;129;01min\u001b[39;00m \u001b[43mdatasets\u001b[49m :\n\u001b[0;32m      6\u001b[0m   sentences\u001b[38;5;241m.\u001b[39mappend( row[\u001b[38;5;124m'\u001b[39m\u001b[38;5;124mheadline\u001b[39m\u001b[38;5;124m'\u001b[39m]) \n\u001b[0;32m      7\u001b[0m   target\u001b[38;5;241m.\u001b[39mappend( row[\u001b[38;5;124m'\u001b[39m\u001b[38;5;124mis_sarcastic\u001b[39m\u001b[38;5;124m'\u001b[39m])\n",
      "\u001b[1;31mNameError\u001b[0m: name 'datasets' is not defined"
     ]
    }
   ],
   "source": [
    "sentences = []\n",
    "target    = []\n",
    "urls      = []\n",
    "\n",
    "for row in datasets :\n",
    "  sentences.append( row['headline']) \n",
    "  target.append( row['is_sarcastic'])\n",
    "\n",
    "  urls.append(row['article_link'])\n"
   ]
  },
  {
   "cell_type": "code",
   "execution_count": 41,
   "metadata": {
    "id": "S1GPWlGhQR3w"
   },
   "outputs": [],
   "source": [
    "sentences = np.array(sentences)\n",
    "target    = np.array(target).reshape(-1,1)"
   ]
  },
  {
   "cell_type": "code",
   "execution_count": 42,
   "metadata": {
    "colab": {
     "base_uri": "https://localhost:8080/"
    },
    "id": "qRGsYK6TVe2U",
    "outputId": "2fbac993-fc35-4238-f1ba-528d8fe52f1e"
   },
   "outputs": [
    {
     "name": "stdout",
     "output_type": "stream",
     "text": [
      "<class 'numpy.ndarray'>\n",
      "<class 'numpy.ndarray'>\n",
      "(0,)\n",
      "(0, 1)\n"
     ]
    }
   ],
   "source": [
    "print( type(sentences) )\n",
    "print( type(target))\n",
    "print( sentences.shape )\n",
    "print( target.shape)\n"
   ]
  },
  {
   "cell_type": "code",
   "execution_count": null,
   "metadata": {
    "id": "Tu7s9UwSYcgF"
   },
   "outputs": [],
   "source": []
  },
  {
   "cell_type": "code",
   "execution_count": 43,
   "metadata": {
    "colab": {
     "base_uri": "https://localhost:8080/"
    },
    "id": "uCSatGipQTfQ",
    "outputId": "ebe11f3e-a538-4faa-8741-78e6e6defba2"
   },
   "outputs": [
    {
     "name": "stdout",
     "output_type": "stream",
     "text": [
      "{'<OOV>': 1}\n"
     ]
    },
    {
     "ename": "IndexError",
     "evalue": "list index out of range",
     "output_type": "error",
     "traceback": [
      "\u001b[1;31m---------------------------------------------------------------------------\u001b[0m",
      "\u001b[1;31mIndexError\u001b[0m                                Traceback (most recent call last)",
      "Input \u001b[1;32mIn [43]\u001b[0m, in \u001b[0;36m<cell line: 15>\u001b[1;34m()\u001b[0m\n\u001b[0;32m     11\u001b[0m padding   \u001b[38;5;241m=\u001b[39m pad_sequences(sequences , padding\u001b[38;5;241m=\u001b[39m\u001b[38;5;124m'\u001b[39m\u001b[38;5;124mpost\u001b[39m\u001b[38;5;124m'\u001b[39m , maxlen \u001b[38;5;241m=\u001b[39m \u001b[38;5;241m40\u001b[39m )\n\u001b[0;32m     14\u001b[0m \u001b[38;5;28mprint\u001b[39m(word_index )\n\u001b[1;32m---> 15\u001b[0m \u001b[38;5;28mprint\u001b[39m(\u001b[43msequences\u001b[49m\u001b[43m[\u001b[49m\u001b[38;5;241;43m0\u001b[39;49m\u001b[43m]\u001b[49m)\n\u001b[0;32m     16\u001b[0m \u001b[38;5;28mprint\u001b[39m(padding[\u001b[38;5;241m0\u001b[39m])\n\u001b[0;32m     17\u001b[0m \u001b[38;5;28mprint\u001b[39m(padding\u001b[38;5;241m.\u001b[39mshape)\n",
      "\u001b[1;31mIndexError\u001b[0m: list index out of range"
     ]
    }
   ],
   "source": [
    "tokenizer = Tokenizer(oov_token='<OOV>')\n",
    "\n",
    "# 단어기반 인덱싱\n",
    "tokenizer.fit_on_texts(sentences)\n",
    "# Bags of Words(BOW)\n",
    "word_index = tokenizer.word_index\n",
    "\n",
    "\n",
    "# 문장기반 인덱싱\n",
    "sequences = tokenizer.texts_to_sequences(sentences)\n",
    "padding   = pad_sequences(sequences , padding='post' , maxlen = 40 )\n",
    "\n",
    "\n",
    "print(word_index )\n",
    "print(sequences[0])\n",
    "print(padding[0])\n",
    "print(padding.shape)\n",
    "print()\n",
    "print(target)"
   ]
  },
  {
   "cell_type": "code",
   "execution_count": 44,
   "metadata": {
    "id": "R3euWXO-Q-h6"
   },
   "outputs": [],
   "source": [
    "vocab_size = max(word_index.values()) +1\n",
    "# vocab_size = 30000\n",
    "embedding_dim = 40\n",
    "max_length = 40 \n",
    "nlp_model = Sequential()\n",
    "\n",
    "nlp_model.add( Embedding(vocab_size , embedding_dim , input_length = max_length) )  \n",
    "nlp_model.add( Dense(units = 6, activation  = 'relu' ) )\n",
    "nlp_model.add( Dense(units = 1 , activation = 'sigmoid') )\n"
   ]
  },
  {
   "cell_type": "code",
   "execution_count": 45,
   "metadata": {
    "colab": {
     "base_uri": "https://localhost:8080/"
    },
    "id": "xxWTUbL1Tz3Q",
    "outputId": "d9cc6ef6-ea81-4e40-be30-3395bb22d317"
   },
   "outputs": [
    {
     "name": "stdout",
     "output_type": "stream",
     "text": [
      "Model: \"sequential_10\"\n",
      "_________________________________________________________________\n",
      " Layer (type)                Output Shape              Param #   \n",
      "=================================================================\n",
      " embedding (Embedding)       (None, 40, 40)            80        \n",
      "                                                                 \n",
      " dense_29 (Dense)            (None, 40, 6)             246       \n",
      "                                                                 \n",
      " dense_30 (Dense)            (None, 40, 1)             7         \n",
      "                                                                 \n",
      "=================================================================\n",
      "Total params: 333\n",
      "Trainable params: 333\n",
      "Non-trainable params: 0\n",
      "_________________________________________________________________\n"
     ]
    }
   ],
   "source": [
    "nlp_model.summary()"
   ]
  },
  {
   "cell_type": "code",
   "execution_count": 46,
   "metadata": {
    "id": "caH-tU39T2oK"
   },
   "outputs": [],
   "source": [
    "nlp_model.compile(optimizer = 'adam' , \n",
    "                  loss = 'binary_crossentropy' , \n",
    "                  metrics = ['accuracy'])\n"
   ]
  },
  {
   "cell_type": "code",
   "execution_count": 47,
   "metadata": {
    "colab": {
     "base_uri": "https://localhost:8080/"
    },
    "id": "Ej4NF_1TUE3N",
    "outputId": "529198e8-0e7b-4d9a-edd3-9359d6750cef"
   },
   "outputs": [
    {
     "name": "stdout",
     "output_type": "stream",
     "text": [
      "Epoch 1/10\n"
     ]
    },
    {
     "ename": "ValueError",
     "evalue": "Unexpected result of `train_function` (Empty logs). Please use `Model.compile(..., run_eagerly=True)`, or `tf.config.run_functions_eagerly(True)` for more information of where went wrong, or file a issue/bug to `tf.keras`.",
     "output_type": "error",
     "traceback": [
      "\u001b[1;31m---------------------------------------------------------------------------\u001b[0m",
      "\u001b[1;31mValueError\u001b[0m                                Traceback (most recent call last)",
      "Input \u001b[1;32mIn [47]\u001b[0m, in \u001b[0;36m<cell line: 4>\u001b[1;34m()\u001b[0m\n\u001b[0;32m      1\u001b[0m \u001b[38;5;66;03m# print( padding.shape )\u001b[39;00m\n\u001b[0;32m      2\u001b[0m \u001b[38;5;66;03m# print( target.shape)\u001b[39;00m\n\u001b[1;32m----> 4\u001b[0m \u001b[43mnlp_model\u001b[49m\u001b[38;5;241;43m.\u001b[39;49m\u001b[43mfit\u001b[49m\u001b[43m(\u001b[49m\u001b[43mpadding\u001b[49m\u001b[43m \u001b[49m\u001b[43m,\u001b[49m\u001b[43m \u001b[49m\u001b[43mtarget\u001b[49m\u001b[43m \u001b[49m\u001b[43m,\u001b[49m\u001b[43m \u001b[49m\u001b[43mepochs\u001b[49m\u001b[43m \u001b[49m\u001b[38;5;241;43m=\u001b[39;49m\u001b[43m \u001b[49m\u001b[38;5;241;43m10\u001b[39;49m\u001b[43m \u001b[49m\u001b[43m,\u001b[49m\u001b[43m \u001b[49m\u001b[43mverbose\u001b[49m\u001b[43m \u001b[49m\u001b[38;5;241;43m=\u001b[39;49m\u001b[43m \u001b[49m\u001b[38;5;241;43m1\u001b[39;49m\u001b[43m)\u001b[49m\n",
      "File \u001b[1;32m~\\anaconda3\\envs\\tensor\\lib\\site-packages\\keras\\utils\\traceback_utils.py:67\u001b[0m, in \u001b[0;36mfilter_traceback.<locals>.error_handler\u001b[1;34m(*args, **kwargs)\u001b[0m\n\u001b[0;32m     65\u001b[0m \u001b[38;5;28;01mexcept\u001b[39;00m \u001b[38;5;167;01mException\u001b[39;00m \u001b[38;5;28;01mas\u001b[39;00m e:  \u001b[38;5;66;03m# pylint: disable=broad-except\u001b[39;00m\n\u001b[0;32m     66\u001b[0m   filtered_tb \u001b[38;5;241m=\u001b[39m _process_traceback_frames(e\u001b[38;5;241m.\u001b[39m__traceback__)\n\u001b[1;32m---> 67\u001b[0m   \u001b[38;5;28;01mraise\u001b[39;00m e\u001b[38;5;241m.\u001b[39mwith_traceback(filtered_tb) \u001b[38;5;28;01mfrom\u001b[39;00m \u001b[38;5;28mNone\u001b[39m\n\u001b[0;32m     68\u001b[0m \u001b[38;5;28;01mfinally\u001b[39;00m:\n\u001b[0;32m     69\u001b[0m   \u001b[38;5;28;01mdel\u001b[39;00m filtered_tb\n",
      "File \u001b[1;32m~\\anaconda3\\envs\\tensor\\lib\\site-packages\\keras\\engine\\training.py:1395\u001b[0m, in \u001b[0;36mModel.fit\u001b[1;34m(self, x, y, batch_size, epochs, verbose, callbacks, validation_split, validation_data, shuffle, class_weight, sample_weight, initial_epoch, steps_per_epoch, validation_steps, validation_batch_size, validation_freq, max_queue_size, workers, use_multiprocessing)\u001b[0m\n\u001b[0;32m   1393\u001b[0m logs \u001b[38;5;241m=\u001b[39m tf_utils\u001b[38;5;241m.\u001b[39msync_to_numpy_or_python_type(logs)\n\u001b[0;32m   1394\u001b[0m \u001b[38;5;28;01mif\u001b[39;00m logs \u001b[38;5;129;01mis\u001b[39;00m \u001b[38;5;28;01mNone\u001b[39;00m:\n\u001b[1;32m-> 1395\u001b[0m   \u001b[38;5;28;01mraise\u001b[39;00m \u001b[38;5;167;01mValueError\u001b[39;00m(\u001b[38;5;124m'\u001b[39m\u001b[38;5;124mUnexpected result of `train_function` \u001b[39m\u001b[38;5;124m'\u001b[39m\n\u001b[0;32m   1396\u001b[0m                    \u001b[38;5;124m'\u001b[39m\u001b[38;5;124m(Empty logs). Please use \u001b[39m\u001b[38;5;124m'\u001b[39m\n\u001b[0;32m   1397\u001b[0m                    \u001b[38;5;124m'\u001b[39m\u001b[38;5;124m`Model.compile(..., run_eagerly=True)`, or \u001b[39m\u001b[38;5;124m'\u001b[39m\n\u001b[0;32m   1398\u001b[0m                    \u001b[38;5;124m'\u001b[39m\u001b[38;5;124m`tf.config.run_functions_eagerly(True)` for more \u001b[39m\u001b[38;5;124m'\u001b[39m\n\u001b[0;32m   1399\u001b[0m                    \u001b[38;5;124m'\u001b[39m\u001b[38;5;124minformation of where went wrong, or file a \u001b[39m\u001b[38;5;124m'\u001b[39m\n\u001b[0;32m   1400\u001b[0m                    \u001b[38;5;124m'\u001b[39m\u001b[38;5;124missue/bug to `tf.keras`.\u001b[39m\u001b[38;5;124m'\u001b[39m)\n\u001b[0;32m   1401\u001b[0m epoch_logs \u001b[38;5;241m=\u001b[39m copy\u001b[38;5;241m.\u001b[39mcopy(logs)\n\u001b[0;32m   1403\u001b[0m \u001b[38;5;66;03m# Run validation.\u001b[39;00m\n",
      "\u001b[1;31mValueError\u001b[0m: Unexpected result of `train_function` (Empty logs). Please use `Model.compile(..., run_eagerly=True)`, or `tf.config.run_functions_eagerly(True)` for more information of where went wrong, or file a issue/bug to `tf.keras`."
     ]
    }
   ],
   "source": [
    "# print( padding.shape )\n",
    "# print( target.shape)\n",
    "\n",
    "nlp_model.fit(padding , target , epochs = 10 , verbose = 1)"
   ]
  },
  {
   "cell_type": "code",
   "execution_count": null,
   "metadata": {
    "id": "peqUUJLwURs4"
   },
   "outputs": [],
   "source": []
  },
  {
   "cell_type": "code",
   "execution_count": null,
   "metadata": {},
   "outputs": [],
   "source": []
  },
  {
   "cell_type": "code",
   "execution_count": null,
   "metadata": {},
   "outputs": [],
   "source": []
  },
  {
   "cell_type": "code",
   "execution_count": null,
   "metadata": {},
   "outputs": [],
   "source": []
  },
  {
   "cell_type": "code",
   "execution_count": null,
   "metadata": {},
   "outputs": [],
   "source": []
  },
  {
   "cell_type": "code",
   "execution_count": null,
   "metadata": {},
   "outputs": [],
   "source": []
  }
 ],
 "metadata": {
  "accelerator": "GPU",
  "colab": {
   "collapsed_sections": [],
   "name": "2022_ai_tensorflow[02].ipynb",
   "provenance": []
  },
  "kernelspec": {
   "display_name": "Python 3 (ipykernel)",
   "language": "python",
   "name": "python3"
  },
  "language_info": {
   "codemirror_mode": {
    "name": "ipython",
    "version": 3
   },
   "file_extension": ".py",
   "mimetype": "text/x-python",
   "name": "python",
   "nbconvert_exporter": "python",
   "pygments_lexer": "ipython3",
   "version": "3.8.13"
  },
  "varInspector": {
   "cols": {
    "lenName": 16,
    "lenType": 16,
    "lenVar": 40
   },
   "kernels_config": {
    "python": {
     "delete_cmd_postfix": "",
     "delete_cmd_prefix": "del ",
     "library": "var_list.py",
     "varRefreshCmd": "print(var_dic_list())"
    },
    "r": {
     "delete_cmd_postfix": ") ",
     "delete_cmd_prefix": "rm(",
     "library": "var_list.r",
     "varRefreshCmd": "cat(var_dic_list()) "
    }
   },
   "types_to_exclude": [
    "module",
    "function",
    "builtin_function_or_method",
    "instance",
    "_Feature"
   ],
   "window_display": false
  }
 },
 "nbformat": 4,
 "nbformat_minor": 1
}
