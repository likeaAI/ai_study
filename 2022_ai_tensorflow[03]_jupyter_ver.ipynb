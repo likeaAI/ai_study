{
 "cells": [
  {
   "cell_type": "markdown",
   "metadata": {
    "colab_type": "text",
    "id": "view-in-github"
   },
   "source": [
    "<a href=\"https://colab.research.google.com/github/likeaAI/ai_study/blob/main/%EC%9D%B8%EA%B3%B5%EC%8B%A0%EA%B2%BD%EB%A7%9D%20CNN.ipynb\" target=\"_parent\"><img src=\"https://colab.research.google.com/assets/colab-badge.svg\" alt=\"Open In Colab\"/></a>"
   ]
  },
  {
   "cell_type": "code",
   "execution_count": 4,
   "metadata": {
    "id": "tZDgP0ORDhTH"
   },
   "outputs": [],
   "source": [
    "from tensorflow.keras.datasets   import boston_housing , mnist , fashion_mnist\n",
    "from tensorflow.keras.models     import Sequential , clone_model , Model\n",
    "from tensorflow.keras.layers     import Dense , Activation , InputLayer , Flatten , Input , BatchNormalization , Dropout , Embedding\n",
    "\n",
    "# CNN\n",
    "from tensorflow.keras.layers     import Conv2D , MaxPooling2D , AveragePooling2D \n",
    "from tensorflow.keras            import optimizers  \n",
    "from tensorflow.keras.callbacks  import EarlyStopping , ModelCheckpoint , Callback\n",
    "from tensorflow.keras.optimizers import SGD , Adam , RMSprop\n",
    "\n",
    "# 이미지 로드 \n",
    "from tensorflow.keras.preprocessing import image \n",
    "from tensorflow.keras.preprocessing.image import ImageDataGenerator\n",
    "\n",
    "# 자연어 처리\n",
    "from tensorflow.keras.preprocessing.text          import Tokenizer\n",
    "from tensorflow.keras.preprocessing.sequence      import pad_sequences\n",
    "\n",
    "from keras.utils.np_utils      import to_categorical\n",
    "\n",
    "from sklearn.datasets          import load_iris , load_breast_cancer , load_digits\n",
    "from sklearn.model_selection   import train_test_split\n",
    "\n",
    "import matplotlib.pyplot as plt\n",
    "\n",
    "import tensorflow as tf\n",
    "import numpy  as np\n",
    "import pandas as pd\n",
    "\n",
    "\n"
   ]
  },
  {
   "cell_type": "code",
   "execution_count": 5,
   "metadata": {},
   "outputs": [
    {
     "name": "stderr",
     "output_type": "stream",
     "text": [
      "2022-04-28 13:09:01.624438: I tensorflow/core/common_runtime/pluggable_device/pluggable_device_factory.cc:305] Could not identify NUMA node of platform GPU ID 0, defaulting to 0. Your kernel may not have been built with NUMA support.\n",
      "2022-04-28 13:09:01.624511: I tensorflow/core/common_runtime/pluggable_device/pluggable_device_factory.cc:271] Created TensorFlow device (/device:GPU:0 with 0 MB memory) -> physical PluggableDevice (device: 0, name: METAL, pci bus id: <undefined>)\n"
     ]
    },
    {
     "data": {
      "text/plain": [
       "[name: \"/device:CPU:0\"\n",
       " device_type: \"CPU\"\n",
       " memory_limit: 268435456\n",
       " locality {\n",
       " }\n",
       " incarnation: 13565933454999534174\n",
       " xla_global_id: -1,\n",
       " name: \"/device:GPU:0\"\n",
       " device_type: \"GPU\"\n",
       " locality {\n",
       "   bus_id: 1\n",
       " }\n",
       " incarnation: 5523394490116781644\n",
       " physical_device_desc: \"device: 0, name: METAL, pci bus id: <undefined>\"\n",
       " xla_global_id: -1]"
      ]
     },
     "execution_count": 5,
     "metadata": {},
     "output_type": "execute_result"
    }
   ],
   "source": [
    "from tensorflow.python.client import device_lib\n",
    "device_lib.list_local_devices()"
   ]
  },
  {
   "cell_type": "code",
   "execution_count": 6,
   "metadata": {
    "colab": {
     "base_uri": "https://localhost:8080/",
     "height": 117
    },
    "id": "oH-Vov1eVfL5",
    "outputId": "489b6e63-4524-46e6-d56e-a9d6db177f05"
   },
   "outputs": [
    {
     "ename": "FileNotFoundError",
     "evalue": "[Errno 2] No such file or directory: 'C:/Users/crid2/ml-data/test_dog.png'",
     "output_type": "error",
     "traceback": [
      "\u001b[0;31m---------------------------------------------------------------------------\u001b[0m",
      "\u001b[0;31mFileNotFoundError\u001b[0m                         Traceback (most recent call last)",
      "Input \u001b[0;32mIn [6]\u001b[0m, in \u001b[0;36m<cell line: 1>\u001b[0;34m()\u001b[0m\n\u001b[0;32m----> 1\u001b[0m img \u001b[38;5;241m=\u001b[39m \u001b[43mimage\u001b[49m\u001b[38;5;241;43m.\u001b[39;49m\u001b[43mload_img\u001b[49m\u001b[43m(\u001b[49m\u001b[38;5;124;43m'\u001b[39;49m\u001b[38;5;124;43mC:/Users/crid2/ml-data/test_dog.png\u001b[39;49m\u001b[38;5;124;43m'\u001b[39;49m\u001b[43m \u001b[49m\u001b[43m,\u001b[49m\u001b[43m \u001b[49m\u001b[43mtarget_size\u001b[49m\u001b[43m \u001b[49m\u001b[38;5;241;43m=\u001b[39;49m\u001b[43m \u001b[49m\u001b[43m(\u001b[49m\u001b[38;5;241;43m100\u001b[39;49m\u001b[43m,\u001b[49m\u001b[38;5;241;43m100\u001b[39;49m\u001b[43m)\u001b[49m\u001b[43m)\u001b[49m\n\u001b[1;32m      2\u001b[0m img\n",
      "File \u001b[0;32m~/miniforge3/lib/python3.9/site-packages/keras/preprocessing/image.py:313\u001b[0m, in \u001b[0;36mload_img\u001b[0;34m(path, grayscale, color_mode, target_size, interpolation)\u001b[0m\n\u001b[1;32m    277\u001b[0m \u001b[38;5;129m@keras_export\u001b[39m(\u001b[38;5;124m'\u001b[39m\u001b[38;5;124mkeras.utils.load_img\u001b[39m\u001b[38;5;124m'\u001b[39m,\n\u001b[1;32m    278\u001b[0m               \u001b[38;5;124m'\u001b[39m\u001b[38;5;124mkeras.preprocessing.image.load_img\u001b[39m\u001b[38;5;124m'\u001b[39m)\n\u001b[1;32m    279\u001b[0m \u001b[38;5;28;01mdef\u001b[39;00m \u001b[38;5;21mload_img\u001b[39m(path, grayscale\u001b[38;5;241m=\u001b[39m\u001b[38;5;28;01mFalse\u001b[39;00m, color_mode\u001b[38;5;241m=\u001b[39m\u001b[38;5;124m'\u001b[39m\u001b[38;5;124mrgb\u001b[39m\u001b[38;5;124m'\u001b[39m, target_size\u001b[38;5;241m=\u001b[39m\u001b[38;5;28;01mNone\u001b[39;00m,\n\u001b[1;32m    280\u001b[0m              interpolation\u001b[38;5;241m=\u001b[39m\u001b[38;5;124m'\u001b[39m\u001b[38;5;124mnearest\u001b[39m\u001b[38;5;124m'\u001b[39m):\n\u001b[1;32m    281\u001b[0m   \u001b[38;5;124;03m\"\"\"Loads an image into PIL format.\u001b[39;00m\n\u001b[1;32m    282\u001b[0m \n\u001b[1;32m    283\u001b[0m \u001b[38;5;124;03m  Usage:\u001b[39;00m\n\u001b[0;32m   (...)\u001b[0m\n\u001b[1;32m    311\u001b[0m \u001b[38;5;124;03m      ValueError: if interpolation method is not supported.\u001b[39;00m\n\u001b[1;32m    312\u001b[0m \u001b[38;5;124;03m  \"\"\"\u001b[39;00m\n\u001b[0;32m--> 313\u001b[0m   \u001b[38;5;28;01mreturn\u001b[39;00m \u001b[43mimage\u001b[49m\u001b[38;5;241;43m.\u001b[39;49m\u001b[43mload_img\u001b[49m\u001b[43m(\u001b[49m\u001b[43mpath\u001b[49m\u001b[43m,\u001b[49m\u001b[43m \u001b[49m\u001b[43mgrayscale\u001b[49m\u001b[38;5;241;43m=\u001b[39;49m\u001b[43mgrayscale\u001b[49m\u001b[43m,\u001b[49m\u001b[43m \u001b[49m\u001b[43mcolor_mode\u001b[49m\u001b[38;5;241;43m=\u001b[39;49m\u001b[43mcolor_mode\u001b[49m\u001b[43m,\u001b[49m\n\u001b[1;32m    314\u001b[0m \u001b[43m                        \u001b[49m\u001b[43mtarget_size\u001b[49m\u001b[38;5;241;43m=\u001b[39;49m\u001b[43mtarget_size\u001b[49m\u001b[43m,\u001b[49m\u001b[43m \u001b[49m\u001b[43minterpolation\u001b[49m\u001b[38;5;241;43m=\u001b[39;49m\u001b[43minterpolation\u001b[49m\u001b[43m)\u001b[49m\n",
      "File \u001b[0;32m~/miniforge3/lib/python3.9/site-packages/keras_preprocessing/image/utils.py:113\u001b[0m, in \u001b[0;36mload_img\u001b[0;34m(path, grayscale, color_mode, target_size, interpolation)\u001b[0m\n\u001b[1;32m    110\u001b[0m \u001b[38;5;28;01mif\u001b[39;00m pil_image \u001b[38;5;129;01mis\u001b[39;00m \u001b[38;5;28;01mNone\u001b[39;00m:\n\u001b[1;32m    111\u001b[0m     \u001b[38;5;28;01mraise\u001b[39;00m \u001b[38;5;167;01mImportError\u001b[39;00m(\u001b[38;5;124m'\u001b[39m\u001b[38;5;124mCould not import PIL.Image. \u001b[39m\u001b[38;5;124m'\u001b[39m\n\u001b[1;32m    112\u001b[0m                       \u001b[38;5;124m'\u001b[39m\u001b[38;5;124mThe use of `load_img` requires PIL.\u001b[39m\u001b[38;5;124m'\u001b[39m)\n\u001b[0;32m--> 113\u001b[0m \u001b[38;5;28;01mwith\u001b[39;00m \u001b[38;5;28;43mopen\u001b[39;49m\u001b[43m(\u001b[49m\u001b[43mpath\u001b[49m\u001b[43m,\u001b[49m\u001b[43m \u001b[49m\u001b[38;5;124;43m'\u001b[39;49m\u001b[38;5;124;43mrb\u001b[39;49m\u001b[38;5;124;43m'\u001b[39;49m\u001b[43m)\u001b[49m \u001b[38;5;28;01mas\u001b[39;00m f:\n\u001b[1;32m    114\u001b[0m     img \u001b[38;5;241m=\u001b[39m pil_image\u001b[38;5;241m.\u001b[39mopen(io\u001b[38;5;241m.\u001b[39mBytesIO(f\u001b[38;5;241m.\u001b[39mread()))\n\u001b[1;32m    115\u001b[0m     \u001b[38;5;28;01mif\u001b[39;00m color_mode \u001b[38;5;241m==\u001b[39m \u001b[38;5;124m'\u001b[39m\u001b[38;5;124mgrayscale\u001b[39m\u001b[38;5;124m'\u001b[39m:\n\u001b[1;32m    116\u001b[0m         \u001b[38;5;66;03m# if image is not already an 8-bit, 16-bit or 32-bit grayscale image\u001b[39;00m\n\u001b[1;32m    117\u001b[0m         \u001b[38;5;66;03m# convert it to an 8-bit grayscale image.\u001b[39;00m\n",
      "\u001b[0;31mFileNotFoundError\u001b[0m: [Errno 2] No such file or directory: 'C:/Users/crid2/ml-data/test_dog.png'"
     ]
    }
   ],
   "source": [
    "img = image.load_img('C:/Users/crid2/ml-data/test_dog.png' , target_size = (100,100))\n",
    "img\n",
    "\n",
    "# 이미지를 학습하기 위해서는 넘파이 배열로 변환해야 한다. "
   ]
  },
  {
   "cell_type": "code",
   "execution_count": 7,
   "metadata": {
    "colab": {
     "base_uri": "https://localhost:8080/"
    },
    "id": "l7TrIROpWpJ8",
    "outputId": "b2b3ae82-432b-4310-a0d8-ebc05c6f6cba"
   },
   "outputs": [
    {
     "name": "stdout",
     "output_type": "stream",
     "text": [
      "rows - width , cols - height , channels - rgb\n"
     ]
    },
    {
     "ename": "NameError",
     "evalue": "name 'img' is not defined",
     "output_type": "error",
     "traceback": [
      "\u001b[0;31m---------------------------------------------------------------------------\u001b[0m",
      "\u001b[0;31mNameError\u001b[0m                                 Traceback (most recent call last)",
      "Input \u001b[0;32mIn [7]\u001b[0m, in \u001b[0;36m<cell line: 2>\u001b[0;34m()\u001b[0m\n\u001b[1;32m      1\u001b[0m \u001b[38;5;28mprint\u001b[39m(\u001b[38;5;124m'\u001b[39m\u001b[38;5;124mrows - width , cols - height , channels - rgb\u001b[39m\u001b[38;5;124m'\u001b[39m)\n\u001b[0;32m----> 2\u001b[0m img \u001b[38;5;241m=\u001b[39m image\u001b[38;5;241m.\u001b[39mimg_to_array(\u001b[43mimg\u001b[49m)\n\u001b[1;32m      3\u001b[0m img \u001b[38;5;241m=\u001b[39m np\u001b[38;5;241m.\u001b[39mexpand_dims(img , axis \u001b[38;5;241m=\u001b[39m \u001b[38;5;241m0\u001b[39m) \n\u001b[1;32m      4\u001b[0m image_ \u001b[38;5;241m=\u001b[39m np\u001b[38;5;241m.\u001b[39mvstack([img]) \n",
      "\u001b[0;31mNameError\u001b[0m: name 'img' is not defined"
     ]
    }
   ],
   "source": [
    "print('rows - width , cols - height , channels - rgb')\n",
    "img = image.img_to_array(img)\n",
    "img = np.expand_dims(img , axis = 0) \n",
    "image_ = np.vstack([img]) \n",
    "image_.shape\n",
    "# rgb code가 있어서 채널이 3개다."
   ]
  },
  {
   "cell_type": "code",
   "execution_count": 8,
   "metadata": {
    "colab": {
     "base_uri": "https://localhost:8080/"
    },
    "id": "UNa3LNSfXKDR",
    "outputId": "3c181b98-1085-4997-ff98-33e1a70e3943"
   },
   "outputs": [
    {
     "name": "stdout",
     "output_type": "stream",
     "text": [
      "CNN - Convolution Neural Network 합성곱 신경망 - \n",
      "CNN 핵심 - 합성곱레이어와 풀링레이어\n",
      "padding  - valid , same\n",
      "filters     - 몇개의 필터를 이용할지를 결정 즉, 출력모양의 깊이\n",
      "kernel_size - 연산을 수행할 때 원도우의 크기\n",
      "strides     - 가로,세로로 움직이면서 내적 연산을 수행하는데 한번에 얼마나 움직일지를 결정\n"
     ]
    },
    {
     "name": "stderr",
     "output_type": "stream",
     "text": [
      "2022-04-28 13:09:02.164604: I tensorflow/core/common_runtime/pluggable_device/pluggable_device_factory.cc:305] Could not identify NUMA node of platform GPU ID 0, defaulting to 0. Your kernel may not have been built with NUMA support.\n",
      "2022-04-28 13:09:02.164651: I tensorflow/core/common_runtime/pluggable_device/pluggable_device_factory.cc:271] Created TensorFlow device (/job:localhost/replica:0/task:0/device:GPU:0 with 0 MB memory) -> physical PluggableDevice (device: 0, name: METAL, pci bus id: <undefined>)\n"
     ]
    }
   ],
   "source": [
    "print('CNN - Convolution Neural Network 합성곱 신경망 - ')\n",
    "print('CNN 핵심 - 합성곱레이어와 풀링레이어')\n",
    "print('padding  - valid , same')\n",
    "print('filters     - 몇개의 필터를 이용할지를 결정 즉, 출력모양의 깊이')\n",
    "print('kernel_size - 연산을 수행할 때 원도우의 크기')\n",
    "print('strides     - 가로,세로로 움직이면서 내적 연산을 수행하는데 한번에 얼마나 움직일지를 결정')\n",
    "model = Sequential() \n",
    "\n",
    "model.add( Conv2D(input_shape = (10, 10, 3) , \n",
    "                  filters = 10 , \n",
    "                  kernel_size = (3,3) , \n",
    "                  strides = (1,1) , \n",
    "                  padding = 'same') )"
   ]
  },
  {
   "cell_type": "markdown",
   "metadata": {
    "id": "gehVQ_oviOJA"
   },
   "source": [
    "- CNN - Convolution Neural Network 합성공 신경망 - \n",
    "- CNN 핵심 - 합성곱레이어와 플링레이어 \n",
    "- padding - valid, smae \n",
    "- kernel_size - 연산을 수행할때 윈도우 크기 \n",
    "- strides - 가로 세로 움직이면서 내적 연산을 수행하는데 한번에 얼마나 움직일지를 결정 "
   ]
  },
  {
   "cell_type": "code",
   "execution_count": 9,
   "metadata": {
    "colab": {
     "base_uri": "https://localhost:8080/"
    },
    "id": "G_-COaXpdbaF",
    "outputId": "57db7ee4-b354-47f8-eaa4-a47682457d32"
   },
   "outputs": [
    {
     "data": {
      "text/plain": [
       "(None, 10, 10, 10)"
      ]
     },
     "execution_count": 9,
     "metadata": {},
     "output_type": "execute_result"
    }
   ],
   "source": [
    "model.output_shape"
   ]
  },
  {
   "cell_type": "code",
   "execution_count": 10,
   "metadata": {},
   "outputs": [
    {
     "name": "stdout",
     "output_type": "stream",
     "text": [
      "풀링 - pooling \n",
      "원도우 내에서 출력의 최대값을 추출하는 맥스풀링, 평균값 뽑아내는 애버리지 풀링 - \n",
      "\n",
      "(None, 9, 9, 10)\n"
     ]
    }
   ],
   "source": [
    "print('풀링 - pooling ')\n",
    "print('원도우 내에서 출력의 최대값을 추출하는 맥스풀링, 평균값 뽑아내는 애버리지 풀링 - ')\n",
    "print()\n",
    "\n",
    "# model.add( MaxPooling2D(pool_size = (2,2) , strides=(1,1), padding = 'valid' ) )\n",
    "# print(model.output_shape)\n",
    "\n",
    "model.add( AveragePooling2D(pool_size = (2,2) , strides=(1,1), padding = 'valid' ) )\n",
    "print(model.output_shape)\n"
   ]
  },
  {
   "cell_type": "code",
   "execution_count": 11,
   "metadata": {
    "colab": {
     "base_uri": "https://localhost:8080/"
    },
    "id": "qCkmxUzyjpiS",
    "outputId": "7cb7f080-138f-48f5-ecf8-74324b947b4e"
   },
   "outputs": [
    {
     "data": {
      "text/plain": [
       "dict_keys(['data', 'target', 'frame', 'feature_names', 'target_names', 'images', 'DESCR'])"
      ]
     },
     "execution_count": 11,
     "metadata": {},
     "output_type": "execute_result"
    }
   ],
   "source": [
    "datasets = load_digits()\n",
    "datasets.keys()"
   ]
  },
  {
   "cell_type": "code",
   "execution_count": 12,
   "metadata": {
    "colab": {
     "base_uri": "https://localhost:8080/"
    },
    "id": "Pl8KAneRlOiG",
    "outputId": "88674082-8681-4407-b488-15a5bf2b0150"
   },
   "outputs": [
    {
     "data": {
      "text/plain": [
       "(8, 8)"
      ]
     },
     "execution_count": 12,
     "metadata": {},
     "output_type": "execute_result"
    }
   ],
   "source": [
    "datasets.images[0].shape # 왜 채널이 없을까 흑백이라서 1차원으로 본다. 컬러풀은 3차원...  "
   ]
  },
  {
   "cell_type": "code",
   "execution_count": 13,
   "metadata": {
    "colab": {
     "base_uri": "https://localhost:8080/",
     "height": 248
    },
    "id": "TioepRSmlVJm",
    "outputId": "fbf1afc5-c8a2-45b3-b7a0-bb8789cfa156"
   },
   "outputs": [
    {
     "data": {
      "image/png": "[encoded data removed]",
      "text/plain": [
       "<Figure size 432x288 with 1 Axes>"
      ]
     },
     "metadata": {
      "needs_background": "light"
     },
     "output_type": "display_data"
    }
   ],
   "source": [
    "plt.figure()\n",
    "\n",
    "plt.imshow(datasets.images[0] , cmap = plt.cm.binary)\n",
    "plt.grid(False)\n",
    "plt.axis('off')\n",
    "plt.show()\n",
    "plt.close()"
   ]
  },
  {
   "cell_type": "code",
   "execution_count": 14,
   "metadata": {},
   "outputs": [
    {
     "data": {
      "text/plain": [
       "array([[ 0.,  0.,  5., 13.,  9.,  1.,  0.,  0.],\n",
       "       [ 0.,  0., 13., 15., 10., 15.,  5.,  0.],\n",
       "       [ 0.,  3., 15.,  2.,  0., 11.,  8.,  0.],\n",
       "       [ 0.,  4., 12.,  0.,  0.,  8.,  8.,  0.],\n",
       "       [ 0.,  5.,  8.,  0.,  0.,  9.,  8.,  0.],\n",
       "       [ 0.,  4., 11.,  0.,  1., 12.,  7.,  0.],\n",
       "       [ 0.,  2., 14.,  5., 10., 12.,  0.,  0.],\n",
       "       [ 0.,  0.,  6., 13., 10.,  0.,  0.,  0.]])"
      ]
     },
     "execution_count": 14,
     "metadata": {},
     "output_type": "execute_result"
    }
   ],
   "source": [
    "datasets.images[0]"
   ]
  },
  {
   "cell_type": "code",
   "execution_count": 15,
   "metadata": {
    "id": "UEX-9dejl9Ab"
   },
   "outputs": [],
   "source": [
    "X_data = datasets.images\n",
    "y_data = datasets.target "
   ]
  },
  {
   "cell_type": "code",
   "execution_count": 16,
   "metadata": {
    "colab": {
     "base_uri": "https://localhost:8080/"
    },
    "id": "KF7XLSYtmFrh",
    "outputId": "56dcb873-7b97-4721-9e25-02862f514c8f"
   },
   "outputs": [
    {
     "data": {
      "text/plain": [
       "((1797, 8, 8), (1797,))"
      ]
     },
     "execution_count": 16,
     "metadata": {},
     "output_type": "execute_result"
    }
   ],
   "source": [
    "X_data.shape, y_data.shape"
   ]
  },
  {
   "cell_type": "code",
   "execution_count": 17,
   "metadata": {
    "colab": {
     "base_uri": "https://localhost:8080/"
    },
    "id": "xe2M1eQ5mLZW",
    "outputId": "190b0683-1bbf-4f94-ac37-d30bed208cbf"
   },
   "outputs": [
    {
     "data": {
      "text/plain": [
       "(1797, 8, 8, 1)"
      ]
     },
     "execution_count": 17,
     "metadata": {},
     "output_type": "execute_result"
    }
   ],
   "source": [
    "X_data = X_data.reshape(X_data.shape[0], X_data.shape[1] ,  X_data.shape[2], 1 )\n",
    "X_data.shape # 채널 1이 있어야 학습이 가능해서 위의 모양대로 reshape을 하였다. "
   ]
  },
  {
   "cell_type": "code",
   "execution_count": 18,
   "metadata": {
    "colab": {
     "base_uri": "https://localhost:8080/"
    },
    "id": "HDHB5YPfmixJ",
    "outputId": "5fd476ea-6a15-41c3-c558-4c2b7addfba2"
   },
   "outputs": [
    {
     "data": {
      "text/plain": [
       "(1797, 10)"
      ]
     },
     "execution_count": 18,
     "metadata": {},
     "output_type": "execute_result"
    }
   ],
   "source": [
    "y_data = to_categorical(y_data)\n",
    "y_data.shape"
   ]
  },
  {
   "cell_type": "code",
   "execution_count": 19,
   "metadata": {
    "colab": {
     "base_uri": "https://localhost:8080/"
    },
    "id": "_QFlHri5mubS",
    "outputId": "73967462-8f2c-4d80-97b4-7be314690b89"
   },
   "outputs": [
    {
     "data": {
      "text/plain": [
       "array([1., 0., 0., 0., 0., 0., 0., 0., 0., 0.], dtype=float32)"
      ]
     },
     "execution_count": 19,
     "metadata": {},
     "output_type": "execute_result"
    }
   ],
   "source": [
    "y_data[0]"
   ]
  },
  {
   "cell_type": "code",
   "execution_count": 20,
   "metadata": {
    "colab": {
     "base_uri": "https://localhost:8080/"
    },
    "id": "1bDk4XY9mzCg",
    "outputId": "26d26b0e-5271-4949-f202-75289953cfc7"
   },
   "outputs": [
    {
     "data": {
      "text/plain": [
       "((1797, 8, 8, 1), (1797, 10))"
      ]
     },
     "execution_count": 20,
     "metadata": {},
     "output_type": "execute_result"
    }
   ],
   "source": [
    "X_data.shape , y_data.shape"
   ]
  },
  {
   "cell_type": "code",
   "execution_count": 21,
   "metadata": {},
   "outputs": [
    {
     "data": {
      "text/plain": [
       "((1437, 8, 8, 1), (360, 8, 8, 1), (1437, 10), (360, 10))"
      ]
     },
     "execution_count": 21,
     "metadata": {},
     "output_type": "execute_result"
    }
   ],
   "source": [
    "X_train , X_test , y_train , y_test = train_test_split(X_data , \n",
    "                                                       y_data , \n",
    "                                                       test_size    = 0.2 ,\n",
    "                                                       random_state = 111)\n",
    "\n",
    "X_train.shape , X_test.shape , y_train.shape , y_test.shape"
   ]
  },
  {
   "cell_type": "code",
   "execution_count": 22,
   "metadata": {},
   "outputs": [
    {
     "name": "stdout",
     "output_type": "stream",
     "text": [
      "cnn 입력층 - \n",
      "shape -  (None, 6, 6, 10)\n"
     ]
    }
   ],
   "source": [
    "print('cnn 입력층 - ')\n",
    "mnist_cnn_model = Sequential()\n",
    "mnist_cnn_model.add( Conv2D(input_shape = (X_data.shape[1], X_data.shape[2], X_data.shape[3]) , \n",
    "                            filters = 10 , \n",
    "                            kernel_size = (3,3) , \n",
    "                            strides = (1,1) , \n",
    "                            padding = 'valid' , activation = 'relu') ) \n",
    "\n",
    "print('shape - ' , mnist_cnn_model.output_shape)"
   ]
  },
  {
   "cell_type": "code",
   "execution_count": 23,
   "metadata": {},
   "outputs": [
    {
     "name": "stdout",
     "output_type": "stream",
     "text": [
      "cnn 풀링레이어 만들기 - \n",
      "(None, 3, 3, 10)\n"
     ]
    }
   ],
   "source": [
    "print('cnn 풀링레이어 만들기 - ')\n",
    "\n",
    "mnist_cnn_model.add( MaxPooling2D(pool_size = (2,2) , padding = 'valid' ) )\n",
    "print(mnist_cnn_model.output_shape)\n"
   ]
  },
  {
   "cell_type": "code",
   "execution_count": 24,
   "metadata": {},
   "outputs": [
    {
     "data": {
      "text/plain": [
       "(None, 90)"
      ]
     },
     "execution_count": 24,
     "metadata": {},
     "output_type": "execute_result"
    }
   ],
   "source": [
    "mnist_cnn_model.add( Flatten() )\n",
    "mnist_cnn_model.output_shape"
   ]
  },
  {
   "cell_type": "code",
   "execution_count": 25,
   "metadata": {},
   "outputs": [],
   "source": [
    "mnist_cnn_model.add( Dense(50 , activation = 'relu'))\n",
    "mnist_cnn_model.add( Dense(10 , activation = 'softmax'))"
   ]
  },
  {
   "cell_type": "code",
   "execution_count": 26,
   "metadata": {},
   "outputs": [
    {
     "name": "stdout",
     "output_type": "stream",
     "text": [
      "Model: \"sequential_1\"\n",
      "_________________________________________________________________\n",
      " Layer (type)                Output Shape              Param #   \n",
      "=================================================================\n",
      " conv2d_1 (Conv2D)           (None, 6, 6, 10)          100       \n",
      "                                                                 \n",
      " max_pooling2d (MaxPooling2D  (None, 3, 3, 10)         0         \n",
      " )                                                               \n",
      "                                                                 \n",
      " flatten (Flatten)           (None, 90)                0         \n",
      "                                                                 \n",
      " dense (Dense)               (None, 50)                4550      \n",
      "                                                                 \n",
      " dense_1 (Dense)             (None, 10)                510       \n",
      "                                                                 \n",
      "=================================================================\n",
      "Total params: 5,160\n",
      "Trainable params: 5,160\n",
      "Non-trainable params: 0\n",
      "_________________________________________________________________\n"
     ]
    }
   ],
   "source": [
    "mnist_cnn_model.summary()"
   ]
  },
  {
   "cell_type": "code",
   "execution_count": 27,
   "metadata": {},
   "outputs": [],
   "source": [
    "mnist_cnn_model.compile(optimizer = Adam(learning_rate = 0.01), \n",
    "                      loss= 'categorical_crossentropy' , \n",
    "                      metrics=['accuracy'] ) "
   ]
  },
  {
   "cell_type": "code",
   "execution_count": 28,
   "metadata": {},
   "outputs": [
    {
     "name": "stdout",
     "output_type": "stream",
     "text": [
      "Epoch 1/100\n"
     ]
    },
    {
     "name": "stderr",
     "output_type": "stream",
     "text": [
      "2022-04-28 13:09:06.001103: W tensorflow/core/platform/profile_utils/cpu_utils.cc:128] Failed to get CPU frequency: 0 Hz\n",
      "2022-04-28 13:09:06.167295: I tensorflow/core/grappler/optimizers/custom_graph_optimizer_registry.cc:113] Plugin optimizer for device_type GPU is enabled.\n"
     ]
    },
    {
     "name": "stdout",
     "output_type": "stream",
     "text": [
      "23/23 [==============================] - 1s 15ms/step - loss: 2.3065 - accuracy: 0.4273 - val_loss: 0.9834 - val_accuracy: 0.7604\n",
      "Epoch 2/100\n",
      "15/23 [==================>...........] - ETA: 0s - loss: 0.5304 - accuracy: 0.8520"
     ]
    },
    {
     "name": "stderr",
     "output_type": "stream",
     "text": [
      "2022-04-28 13:09:06.555032: I tensorflow/core/grappler/optimizers/custom_graph_optimizer_registry.cc:113] Plugin optimizer for device_type GPU is enabled.\n"
     ]
    },
    {
     "name": "stdout",
     "output_type": "stream",
     "text": [
      "23/23 [==============================] - 0s 10ms/step - loss: 0.4344 - accuracy: 0.8799 - val_loss: 0.2570 - val_accuracy: 0.9028\n",
      "Epoch 3/100\n",
      "23/23 [==============================] - 0s 10ms/step - loss: 0.1590 - accuracy: 0.9452 - val_loss: 0.2334 - val_accuracy: 0.9236\n",
      "Epoch 4/100\n",
      "23/23 [==============================] - 0s 10ms/step - loss: 0.0977 - accuracy: 0.9695 - val_loss: 0.1486 - val_accuracy: 0.9444\n",
      "Epoch 5/100\n",
      "23/23 [==============================] - 0s 10ms/step - loss: 0.0809 - accuracy: 0.9730 - val_loss: 0.1598 - val_accuracy: 0.9340\n",
      "Epoch 6/100\n",
      "23/23 [==============================] - 0s 10ms/step - loss: 0.0526 - accuracy: 0.9826 - val_loss: 0.1875 - val_accuracy: 0.9340\n",
      "Epoch 7/100\n",
      "23/23 [==============================] - 0s 10ms/step - loss: 0.0478 - accuracy: 0.9835 - val_loss: 0.1124 - val_accuracy: 0.9653\n",
      "Epoch 8/100\n",
      "23/23 [==============================] - 0s 10ms/step - loss: 0.0312 - accuracy: 0.9904 - val_loss: 0.1677 - val_accuracy: 0.9375\n",
      "Epoch 9/100\n",
      "23/23 [==============================] - 0s 10ms/step - loss: 0.0223 - accuracy: 0.9965 - val_loss: 0.1462 - val_accuracy: 0.9444\n",
      "Epoch 10/100\n",
      "23/23 [==============================] - 0s 10ms/step - loss: 0.0357 - accuracy: 0.9896 - val_loss: 0.1626 - val_accuracy: 0.9583\n",
      "Epoch 11/100\n",
      "23/23 [==============================] - 0s 10ms/step - loss: 0.0162 - accuracy: 0.9965 - val_loss: 0.1172 - val_accuracy: 0.9618\n",
      "Epoch 12/100\n",
      "23/23 [==============================] - 0s 10ms/step - loss: 0.0130 - accuracy: 0.9974 - val_loss: 0.0946 - val_accuracy: 0.9653\n",
      "Epoch 13/100\n",
      "23/23 [==============================] - 0s 10ms/step - loss: 0.0055 - accuracy: 0.9991 - val_loss: 0.0888 - val_accuracy: 0.9722\n",
      "Epoch 14/100\n",
      "23/23 [==============================] - 0s 10ms/step - loss: 0.0047 - accuracy: 0.9991 - val_loss: 0.1326 - val_accuracy: 0.9653\n",
      "Epoch 15/100\n",
      "23/23 [==============================] - 0s 10ms/step - loss: 0.0087 - accuracy: 0.9965 - val_loss: 0.0842 - val_accuracy: 0.9722\n",
      "Epoch 16/100\n",
      "23/23 [==============================] - 0s 10ms/step - loss: 0.0036 - accuracy: 1.0000 - val_loss: 0.0960 - val_accuracy: 0.9688\n",
      "Epoch 17/100\n",
      "23/23 [==============================] - 0s 10ms/step - loss: 0.0025 - accuracy: 1.0000 - val_loss: 0.0834 - val_accuracy: 0.9722\n",
      "Epoch 18/100\n",
      "23/23 [==============================] - 0s 10ms/step - loss: 0.0012 - accuracy: 1.0000 - val_loss: 0.0872 - val_accuracy: 0.9688\n",
      "Epoch 19/100\n",
      "23/23 [==============================] - 0s 10ms/step - loss: 9.3556e-04 - accuracy: 1.0000 - val_loss: 0.0766 - val_accuracy: 0.9722\n",
      "Epoch 20/100\n",
      "23/23 [==============================] - 0s 10ms/step - loss: 6.9529e-04 - accuracy: 1.0000 - val_loss: 0.0832 - val_accuracy: 0.9722\n",
      "Epoch 21/100\n",
      "23/23 [==============================] - 0s 10ms/step - loss: 6.3115e-04 - accuracy: 1.0000 - val_loss: 0.0800 - val_accuracy: 0.9722\n",
      "Epoch 22/100\n",
      "23/23 [==============================] - 0s 10ms/step - loss: 5.6768e-04 - accuracy: 1.0000 - val_loss: 0.0819 - val_accuracy: 0.9722\n",
      "Epoch 23/100\n",
      "23/23 [==============================] - 0s 10ms/step - loss: 5.3610e-04 - accuracy: 1.0000 - val_loss: 0.0799 - val_accuracy: 0.9722\n",
      "Epoch 24/100\n",
      "23/23 [==============================] - 0s 10ms/step - loss: 4.9088e-04 - accuracy: 1.0000 - val_loss: 0.0812 - val_accuracy: 0.9722\n",
      "Epoch 25/100\n",
      "23/23 [==============================] - 0s 10ms/step - loss: 4.8393e-04 - accuracy: 1.0000 - val_loss: 0.0810 - val_accuracy: 0.9722\n",
      "Epoch 26/100\n",
      "23/23 [==============================] - 0s 10ms/step - loss: 4.4492e-04 - accuracy: 1.0000 - val_loss: 0.0830 - val_accuracy: 0.9722\n",
      "Epoch 27/100\n",
      "23/23 [==============================] - 0s 10ms/step - loss: 4.0920e-04 - accuracy: 1.0000 - val_loss: 0.0824 - val_accuracy: 0.9722\n",
      "Epoch 28/100\n",
      "23/23 [==============================] - 0s 10ms/step - loss: 3.8553e-04 - accuracy: 1.0000 - val_loss: 0.0843 - val_accuracy: 0.9722\n",
      "Epoch 29/100\n",
      "23/23 [==============================] - 0s 9ms/step - loss: 3.6602e-04 - accuracy: 1.0000 - val_loss: 0.0835 - val_accuracy: 0.9722\n",
      "Epoch 30/100\n",
      "23/23 [==============================] - 0s 9ms/step - loss: 3.5042e-04 - accuracy: 1.0000 - val_loss: 0.0841 - val_accuracy: 0.9722\n",
      "Epoch 31/100\n",
      "23/23 [==============================] - 0s 9ms/step - loss: 3.4092e-04 - accuracy: 1.0000 - val_loss: 0.0837 - val_accuracy: 0.9722\n",
      "Epoch 32/100\n",
      "23/23 [==============================] - 0s 10ms/step - loss: 3.1627e-04 - accuracy: 1.0000 - val_loss: 0.0851 - val_accuracy: 0.9722\n",
      "Epoch 33/100\n",
      "23/23 [==============================] - 0s 11ms/step - loss: 3.0507e-04 - accuracy: 1.0000 - val_loss: 0.0861 - val_accuracy: 0.9722\n",
      "Epoch 34/100\n",
      "23/23 [==============================] - 0s 9ms/step - loss: 2.8784e-04 - accuracy: 1.0000 - val_loss: 0.0858 - val_accuracy: 0.9722\n",
      "Epoch 35/100\n",
      "23/23 [==============================] - 0s 10ms/step - loss: 2.8175e-04 - accuracy: 1.0000 - val_loss: 0.0881 - val_accuracy: 0.9722\n",
      "Epoch 36/100\n",
      "23/23 [==============================] - 0s 10ms/step - loss: 2.6541e-04 - accuracy: 1.0000 - val_loss: 0.0861 - val_accuracy: 0.9722\n",
      "Epoch 37/100\n",
      "23/23 [==============================] - 0s 10ms/step - loss: 2.6175e-04 - accuracy: 1.0000 - val_loss: 0.0855 - val_accuracy: 0.9722\n",
      "Epoch 38/100\n",
      "23/23 [==============================] - 0s 10ms/step - loss: 2.4238e-04 - accuracy: 1.0000 - val_loss: 0.0902 - val_accuracy: 0.9722\n",
      "Epoch 39/100\n",
      "23/23 [==============================] - 0s 9ms/step - loss: 2.3389e-04 - accuracy: 1.0000 - val_loss: 0.0870 - val_accuracy: 0.9722\n",
      "Epoch 40/100\n",
      "23/23 [==============================] - 0s 10ms/step - loss: 2.2880e-04 - accuracy: 1.0000 - val_loss: 0.0896 - val_accuracy: 0.9722\n",
      "Epoch 41/100\n",
      "23/23 [==============================] - 0s 10ms/step - loss: 2.1761e-04 - accuracy: 1.0000 - val_loss: 0.0885 - val_accuracy: 0.9722\n",
      "Epoch 42/100\n",
      "23/23 [==============================] - 0s 11ms/step - loss: 2.1557e-04 - accuracy: 1.0000 - val_loss: 0.0881 - val_accuracy: 0.9722\n",
      "Epoch 43/100\n",
      "23/23 [==============================] - 0s 11ms/step - loss: 2.0430e-04 - accuracy: 1.0000 - val_loss: 0.0884 - val_accuracy: 0.9722\n",
      "Epoch 44/100\n",
      "23/23 [==============================] - 0s 10ms/step - loss: 1.9383e-04 - accuracy: 1.0000 - val_loss: 0.0904 - val_accuracy: 0.9722\n",
      "Epoch 45/100\n",
      "23/23 [==============================] - 0s 10ms/step - loss: 1.8983e-04 - accuracy: 1.0000 - val_loss: 0.0893 - val_accuracy: 0.9722\n",
      "Epoch 46/100\n",
      "23/23 [==============================] - 0s 10ms/step - loss: 1.8130e-04 - accuracy: 1.0000 - val_loss: 0.0898 - val_accuracy: 0.9722\n",
      "Epoch 47/100\n",
      "23/23 [==============================] - 0s 10ms/step - loss: 1.7560e-04 - accuracy: 1.0000 - val_loss: 0.0904 - val_accuracy: 0.9722\n",
      "Epoch 48/100\n",
      "23/23 [==============================] - 0s 10ms/step - loss: 1.6648e-04 - accuracy: 1.0000 - val_loss: 0.0928 - val_accuracy: 0.9722\n",
      "Epoch 49/100\n",
      "23/23 [==============================] - 0s 10ms/step - loss: 1.6243e-04 - accuracy: 1.0000 - val_loss: 0.0900 - val_accuracy: 0.9722\n",
      "Epoch 50/100\n",
      "23/23 [==============================] - 0s 10ms/step - loss: 1.5476e-04 - accuracy: 1.0000 - val_loss: 0.0914 - val_accuracy: 0.9722\n",
      "Epoch 51/100\n",
      "23/23 [==============================] - 0s 10ms/step - loss: 1.5175e-04 - accuracy: 1.0000 - val_loss: 0.0917 - val_accuracy: 0.9722\n",
      "Epoch 52/100\n",
      "23/23 [==============================] - 0s 10ms/step - loss: 1.4772e-04 - accuracy: 1.0000 - val_loss: 0.0914 - val_accuracy: 0.9722\n",
      "Epoch 53/100\n",
      "23/23 [==============================] - 0s 10ms/step - loss: 1.4012e-04 - accuracy: 1.0000 - val_loss: 0.0920 - val_accuracy: 0.9722\n",
      "Epoch 54/100\n",
      "23/23 [==============================] - 0s 10ms/step - loss: 1.3824e-04 - accuracy: 1.0000 - val_loss: 0.0921 - val_accuracy: 0.9722\n",
      "Epoch 55/100\n",
      "23/23 [==============================] - 0s 10ms/step - loss: 1.3171e-04 - accuracy: 1.0000 - val_loss: 0.0930 - val_accuracy: 0.9722\n",
      "Epoch 56/100\n",
      "23/23 [==============================] - 0s 10ms/step - loss: 1.2840e-04 - accuracy: 1.0000 - val_loss: 0.0927 - val_accuracy: 0.9722\n",
      "Epoch 57/100\n",
      "23/23 [==============================] - 0s 10ms/step - loss: 1.2374e-04 - accuracy: 1.0000 - val_loss: 0.0934 - val_accuracy: 0.9722\n",
      "Epoch 58/100\n"
     ]
    },
    {
     "name": "stdout",
     "output_type": "stream",
     "text": [
      "23/23 [==============================] - 0s 9ms/step - loss: 1.2112e-04 - accuracy: 1.0000 - val_loss: 0.0933 - val_accuracy: 0.9722\n",
      "Epoch 59/100\n",
      "23/23 [==============================] - 0s 10ms/step - loss: 1.1754e-04 - accuracy: 1.0000 - val_loss: 0.0931 - val_accuracy: 0.9722\n",
      "Epoch 60/100\n",
      "23/23 [==============================] - 0s 10ms/step - loss: 1.1319e-04 - accuracy: 1.0000 - val_loss: 0.0940 - val_accuracy: 0.9722\n",
      "Epoch 61/100\n",
      "23/23 [==============================] - 0s 10ms/step - loss: 1.1027e-04 - accuracy: 1.0000 - val_loss: 0.0937 - val_accuracy: 0.9722\n",
      "Epoch 62/100\n",
      "23/23 [==============================] - 0s 10ms/step - loss: 1.0562e-04 - accuracy: 1.0000 - val_loss: 0.0935 - val_accuracy: 0.9722\n",
      "Epoch 63/100\n",
      "23/23 [==============================] - 0s 10ms/step - loss: 1.0293e-04 - accuracy: 1.0000 - val_loss: 0.0943 - val_accuracy: 0.9722\n",
      "Epoch 64/100\n",
      "23/23 [==============================] - 0s 9ms/step - loss: 1.0214e-04 - accuracy: 1.0000 - val_loss: 0.0951 - val_accuracy: 0.9722\n",
      "Epoch 65/100\n",
      "23/23 [==============================] - 0s 10ms/step - loss: 9.8496e-05 - accuracy: 1.0000 - val_loss: 0.0949 - val_accuracy: 0.9722\n",
      "Epoch 66/100\n",
      "23/23 [==============================] - 0s 9ms/step - loss: 9.4776e-05 - accuracy: 1.0000 - val_loss: 0.0948 - val_accuracy: 0.9722\n",
      "Epoch 67/100\n",
      "23/23 [==============================] - 0s 10ms/step - loss: 9.3453e-05 - accuracy: 1.0000 - val_loss: 0.0960 - val_accuracy: 0.9722\n",
      "Epoch 68/100\n",
      "23/23 [==============================] - 0s 10ms/step - loss: 9.2337e-05 - accuracy: 1.0000 - val_loss: 0.0947 - val_accuracy: 0.9722\n",
      "Epoch 69/100\n",
      "23/23 [==============================] - 0s 9ms/step - loss: 8.7468e-05 - accuracy: 1.0000 - val_loss: 0.0974 - val_accuracy: 0.9722\n",
      "Epoch 70/100\n",
      "23/23 [==============================] - 0s 9ms/step - loss: 8.5141e-05 - accuracy: 1.0000 - val_loss: 0.0946 - val_accuracy: 0.9722\n",
      "Epoch 71/100\n",
      "23/23 [==============================] - 0s 9ms/step - loss: 8.3270e-05 - accuracy: 1.0000 - val_loss: 0.0956 - val_accuracy: 0.9722\n",
      "Epoch 72/100\n",
      "23/23 [==============================] - 0s 9ms/step - loss: 8.0232e-05 - accuracy: 1.0000 - val_loss: 0.0967 - val_accuracy: 0.9722\n",
      "Epoch 73/100\n",
      "23/23 [==============================] - 0s 10ms/step - loss: 7.8917e-05 - accuracy: 1.0000 - val_loss: 0.0965 - val_accuracy: 0.9722\n",
      "Epoch 74/100\n",
      "23/23 [==============================] - 0s 9ms/step - loss: 7.7646e-05 - accuracy: 1.0000 - val_loss: 0.0969 - val_accuracy: 0.9722\n",
      "Epoch 75/100\n",
      "23/23 [==============================] - 0s 9ms/step - loss: 7.4897e-05 - accuracy: 1.0000 - val_loss: 0.0971 - val_accuracy: 0.9722\n",
      "Epoch 76/100\n",
      "23/23 [==============================] - 0s 9ms/step - loss: 7.3661e-05 - accuracy: 1.0000 - val_loss: 0.0968 - val_accuracy: 0.9722\n",
      "Epoch 77/100\n",
      "23/23 [==============================] - 0s 9ms/step - loss: 7.1372e-05 - accuracy: 1.0000 - val_loss: 0.0966 - val_accuracy: 0.9722\n",
      "Epoch 78/100\n",
      "23/23 [==============================] - 0s 9ms/step - loss: 7.0007e-05 - accuracy: 1.0000 - val_loss: 0.0977 - val_accuracy: 0.9722\n",
      "Epoch 79/100\n",
      "23/23 [==============================] - 0s 9ms/step - loss: 6.7857e-05 - accuracy: 1.0000 - val_loss: 0.0975 - val_accuracy: 0.9722\n",
      "Epoch 80/100\n",
      "23/23 [==============================] - 0s 9ms/step - loss: 6.5859e-05 - accuracy: 1.0000 - val_loss: 0.0977 - val_accuracy: 0.9722\n",
      "Epoch 81/100\n",
      "23/23 [==============================] - 0s 9ms/step - loss: 6.4547e-05 - accuracy: 1.0000 - val_loss: 0.0978 - val_accuracy: 0.9722\n",
      "Epoch 82/100\n",
      "23/23 [==============================] - 0s 9ms/step - loss: 6.3449e-05 - accuracy: 1.0000 - val_loss: 0.0972 - val_accuracy: 0.9722\n",
      "Epoch 83/100\n",
      "23/23 [==============================] - 0s 10ms/step - loss: 6.1901e-05 - accuracy: 1.0000 - val_loss: 0.0986 - val_accuracy: 0.9722\n",
      "Epoch 84/100\n",
      "23/23 [==============================] - 0s 9ms/step - loss: 6.0177e-05 - accuracy: 1.0000 - val_loss: 0.0990 - val_accuracy: 0.9722\n",
      "Epoch 85/100\n",
      "23/23 [==============================] - 0s 9ms/step - loss: 5.8615e-05 - accuracy: 1.0000 - val_loss: 0.0980 - val_accuracy: 0.9722\n",
      "Epoch 86/100\n",
      "23/23 [==============================] - 0s 9ms/step - loss: 5.7729e-05 - accuracy: 1.0000 - val_loss: 0.0993 - val_accuracy: 0.9722\n",
      "Epoch 87/100\n",
      "23/23 [==============================] - 0s 10ms/step - loss: 5.5921e-05 - accuracy: 1.0000 - val_loss: 0.0989 - val_accuracy: 0.9722\n",
      "Epoch 88/100\n",
      "23/23 [==============================] - 0s 10ms/step - loss: 5.4799e-05 - accuracy: 1.0000 - val_loss: 0.0984 - val_accuracy: 0.9722\n",
      "Epoch 89/100\n",
      "23/23 [==============================] - 0s 9ms/step - loss: 5.4684e-05 - accuracy: 1.0000 - val_loss: 0.1001 - val_accuracy: 0.9722\n",
      "Epoch 90/100\n",
      "23/23 [==============================] - 0s 9ms/step - loss: 5.1710e-05 - accuracy: 1.0000 - val_loss: 0.0995 - val_accuracy: 0.9722\n",
      "Epoch 91/100\n",
      "23/23 [==============================] - 0s 9ms/step - loss: 5.1304e-05 - accuracy: 1.0000 - val_loss: 0.0997 - val_accuracy: 0.9722\n",
      "Epoch 92/100\n",
      "23/23 [==============================] - 0s 9ms/step - loss: 4.9991e-05 - accuracy: 1.0000 - val_loss: 0.1000 - val_accuracy: 0.9722\n",
      "Epoch 93/100\n",
      "23/23 [==============================] - 0s 9ms/step - loss: 4.9693e-05 - accuracy: 1.0000 - val_loss: 0.0997 - val_accuracy: 0.9722\n",
      "Epoch 94/100\n",
      "23/23 [==============================] - 0s 9ms/step - loss: 4.8429e-05 - accuracy: 1.0000 - val_loss: 0.1000 - val_accuracy: 0.9722\n",
      "Epoch 95/100\n",
      "23/23 [==============================] - 0s 10ms/step - loss: 4.7066e-05 - accuracy: 1.0000 - val_loss: 0.1010 - val_accuracy: 0.9722\n",
      "Epoch 96/100\n",
      "23/23 [==============================] - 0s 9ms/step - loss: 4.6139e-05 - accuracy: 1.0000 - val_loss: 0.1011 - val_accuracy: 0.9722\n",
      "Epoch 97/100\n",
      "23/23 [==============================] - 0s 10ms/step - loss: 4.5006e-05 - accuracy: 1.0000 - val_loss: 0.1010 - val_accuracy: 0.9722\n",
      "Epoch 98/100\n",
      "23/23 [==============================] - 0s 10ms/step - loss: 4.3897e-05 - accuracy: 1.0000 - val_loss: 0.1018 - val_accuracy: 0.9722\n",
      "Epoch 99/100\n",
      "23/23 [==============================] - 0s 9ms/step - loss: 4.3090e-05 - accuracy: 1.0000 - val_loss: 0.1013 - val_accuracy: 0.9722\n",
      "Epoch 100/100\n",
      "23/23 [==============================] - 0s 10ms/step - loss: 4.1987e-05 - accuracy: 1.0000 - val_loss: 0.1007 - val_accuracy: 0.9722\n"
     ]
    }
   ],
   "source": [
    "mnist_cnn_model_history = mnist_cnn_model.fit(X_train , y_train , epochs=100  , batch_size = 50 , validation_split = 0.2 , verbose = 1)"
   ]
  },
  {
   "cell_type": "code",
   "execution_count": 29,
   "metadata": {},
   "outputs": [
    {
     "data": {
      "image/png": "[encoded data removed]",
      "text/plain": [
       "<Figure size 1440x720 with 1 Axes>"
      ]
     },
     "metadata": {
      "needs_background": "light"
     },
     "output_type": "display_data"
    }
   ],
   "source": [
    "plt.figure(figsize=(20,10))\n",
    "\n",
    "plt.plot(mnist_cnn_model_history.history['accuracy']    , 's-', label='acc')\n",
    "plt.plot(mnist_cnn_model_history.history['val_accuracy'], 'd-', label='val_acc')\n",
    "\n",
    "plt.legend(loc='best')\n",
    "plt.xticks(np.arange(100))\n",
    "plt.title('accuracy')\n",
    "\n",
    "plt.xlabel('Epoch')\n",
    "plt.ylabel('Accuracy')\n",
    "plt.show()\n",
    "plt.close()"
   ]
  },
  {
   "cell_type": "code",
   "execution_count": 30,
   "metadata": {},
   "outputs": [
    {
     "name": "stdout",
     "output_type": "stream",
     "text": [
      "12/12 [==============================] - 0s 7ms/step - loss: 0.1386 - accuracy: 0.9806\n"
     ]
    },
    {
     "data": {
      "text/plain": [
       "[0.13858336210250854, 0.9805555939674377]"
      ]
     },
     "execution_count": 30,
     "metadata": {},
     "output_type": "execute_result"
    }
   ],
   "source": [
    "mnist_cnn_model_eval = mnist_cnn_model.evaluate(X_test , y_test)\n",
    "mnist_cnn_model_eval"
   ]
  },
  {
   "cell_type": "markdown",
   "metadata": {},
   "source": [
    "mnist 이용한 CNN"
   ]
  },
  {
   "cell_type": "code",
   "execution_count": 31,
   "metadata": {
    "colab": {
     "base_uri": "https://localhost:8080/"
    },
    "id": "99lqFP3noo72",
    "outputId": "9c3b1c84-28e5-4363-cae5-bc8587c6b222"
   },
   "outputs": [
    {
     "data": {
      "text/plain": [
       "(((60000, 28, 28), (10000, 28, 28)), ((60000,), (10000,)))"
      ]
     },
     "execution_count": 31,
     "metadata": {},
     "output_type": "execute_result"
    }
   ],
   "source": [
    "(X_train,y_train),(X_test, y_test)= mnist.load_data()\n",
    "\n",
    "(X_train.shape, X_test.shape), (y_train.shape, y_test.shape)"
   ]
  },
  {
   "cell_type": "code",
   "execution_count": 32,
   "metadata": {
    "id": "SZG8MCAGwtG6"
   },
   "outputs": [],
   "source": [
    "X_train = X_train.reshape(X_train.shape[0] , X_train.shape[1] , X_train.shape[2], 1 )\n",
    "X_test = X_test.reshape(X_test.shape[0] , X_test.shape[1] , X_test.shape[2], 1 )"
   ]
  },
  {
   "cell_type": "code",
   "execution_count": 33,
   "metadata": {
    "colab": {
     "base_uri": "https://localhost:8080/"
    },
    "id": "jp7QVhtSxLlt",
    "outputId": "a8ac266a-9c39-442b-bcd8-cf68d887fd31"
   },
   "outputs": [
    {
     "data": {
      "text/plain": [
       "(((60000, 28, 28, 1), (60000,)), ((10000, 28, 28, 1), (10000,)))"
      ]
     },
     "execution_count": 33,
     "metadata": {},
     "output_type": "execute_result"
    }
   ],
   "source": [
    "(X_train.shape, y_train.shape) , (X_test.shape, y_test.shape)"
   ]
  },
  {
   "cell_type": "code",
   "execution_count": 34,
   "metadata": {
    "id": "LgojPZIcxWPu"
   },
   "outputs": [],
   "source": [
    "# 데이터 전처리 - \n",
    "\n",
    "X_train, X_test = X_train/255 , X_test/255"
   ]
  },
  {
   "cell_type": "code",
   "execution_count": 35,
   "metadata": {
    "colab": {
     "base_uri": "https://localhost:8080/"
    },
    "id": "GVB8pkBJxbLg",
    "outputId": "1aeed0a3-fb0a-40f3-d084-3d78f934c358"
   },
   "outputs": [],
   "source": [
    "\n",
    "mnist_cnn_model = Sequential()\n",
    "#1 \n",
    "mnist_cnn_model.add( Conv2D(input_shape = (X_train.shape[1],X_train.shape[2],X_train.shape[3]), \n",
    "                           filters = 32 , \n",
    "                           kernel_size= (3,3),\n",
    "                           strides = (1,1),\n",
    "                           padding = 'same' , activation= 'relu'))\n",
    "\n",
    "mnist_cnn_model.add(MaxPooling2D(pool_size=(2,2), padding='same'))\n",
    "\n",
    "#2\n",
    "mnist_cnn_model.add( Conv2D(input_shape = (X_train.shape[1],X_train.shape[2],X_train.shape[3]), \n",
    "                           filters = 64 , \n",
    "                           kernel_size= (3,3),\n",
    "                           strides = (1,1),\n",
    "                           padding = 'same' , activation= 'relu'))\n",
    "\n",
    "mnist_cnn_model.add(MaxPooling2D(pool_size=(2,2), padding='same'))\n",
    "#3 \n",
    "mnist_cnn_model.add( Conv2D(input_shape = (X_train.shape[1],X_train.shape[2],X_train.shape[3]), \n",
    "                           filters = 64 , \n",
    "                           kernel_size= (3,3),\n",
    "                           strides = (1,1),\n",
    "                           padding = 'same' , activation= 'relu'))\n",
    "\n",
    "mnist_cnn_model.add(MaxPooling2D(pool_size=(2,2), padding='same'))\n",
    "\n",
    "\n"
   ]
  },
  {
   "cell_type": "code",
   "execution_count": 36,
   "metadata": {},
   "outputs": [
    {
     "data": {
      "text/plain": [
       "(None, 4, 4, 64)"
      ]
     },
     "execution_count": 36,
     "metadata": {},
     "output_type": "execute_result"
    }
   ],
   "source": [
    "# CNN 입력층 생성 \n",
    "mnist_cnn_model.output_shape"
   ]
  },
  {
   "cell_type": "markdown",
   "metadata": {},
   "source": [
    "feature extraction - "
   ]
  },
  {
   "cell_type": "code",
   "execution_count": 37,
   "metadata": {
    "colab": {
     "base_uri": "https://localhost:8080/"
    },
    "id": "j1ywVGUFzpMQ",
    "outputId": "306512c9-60ac-42c8-da2e-42e56137c719"
   },
   "outputs": [
    {
     "name": "stdout",
     "output_type": "stream",
     "text": [
      "Dense 층 추가 - \n"
     ]
    }
   ],
   "source": [
    "print('Dense 층 추가 - ')\n",
    "mnist_cnn_model.add( Flatten() )\n",
    "mnist_cnn_model.add( Dense(units = 512) )\n",
    "mnist_cnn_model.add( Activation('relu') )\n",
    "mnist_cnn_model.add( Dense(units = 256) )\n",
    "mnist_cnn_model.add( Activation('relu') )\n",
    "mnist_cnn_model.add( Dense(units = 128) )\n",
    "mnist_cnn_model.add( Activation('relu') )\n",
    "mnist_cnn_model.add( Dense(units = 64) )\n",
    "mnist_cnn_model.add( Activation('relu') )\n",
    "\n",
    "mnist_cnn_model.add( Dense(units = 10) )\n",
    "mnist_cnn_model.add( Activation('softmax') )\n",
    "\n",
    "\n",
    "# mnist_cnn_model.output_shape"
   ]
  },
  {
   "cell_type": "code",
   "execution_count": 38,
   "metadata": {
    "colab": {
     "base_uri": "https://localhost:8080/"
    },
    "id": "SuzpX6850V4n",
    "outputId": "beb44f4c-4512-4913-c6e8-d19d797b984c"
   },
   "outputs": [
    {
     "name": "stdout",
     "output_type": "stream",
     "text": [
      "Model: \"sequential_2\"\n",
      "_________________________________________________________________\n",
      " Layer (type)                Output Shape              Param #   \n",
      "=================================================================\n",
      " conv2d_2 (Conv2D)           (None, 28, 28, 32)        320       \n",
      "                                                                 \n",
      " max_pooling2d_1 (MaxPooling  (None, 14, 14, 32)       0         \n",
      " 2D)                                                             \n",
      "                                                                 \n",
      " conv2d_3 (Conv2D)           (None, 14, 14, 64)        18496     \n",
      "                                                                 \n",
      " max_pooling2d_2 (MaxPooling  (None, 7, 7, 64)         0         \n",
      " 2D)                                                             \n",
      "                                                                 \n",
      " conv2d_4 (Conv2D)           (None, 7, 7, 64)          36928     \n",
      "                                                                 \n",
      " max_pooling2d_3 (MaxPooling  (None, 4, 4, 64)         0         \n",
      " 2D)                                                             \n",
      "                                                                 \n",
      " flatten_1 (Flatten)         (None, 1024)              0         \n",
      "                                                                 \n",
      " dense_2 (Dense)             (None, 512)               524800    \n",
      "                                                                 \n",
      " activation (Activation)     (None, 512)               0         \n",
      "                                                                 \n",
      " dense_3 (Dense)             (None, 256)               131328    \n",
      "                                                                 \n",
      " activation_1 (Activation)   (None, 256)               0         \n",
      "                                                                 \n",
      " dense_4 (Dense)             (None, 128)               32896     \n",
      "                                                                 \n",
      " activation_2 (Activation)   (None, 128)               0         \n",
      "                                                                 \n",
      " dense_5 (Dense)             (None, 64)                8256      \n",
      "                                                                 \n",
      " activation_3 (Activation)   (None, 64)                0         \n",
      "                                                                 \n",
      " dense_6 (Dense)             (None, 10)                650       \n",
      "                                                                 \n",
      " activation_4 (Activation)   (None, 10)                0         \n",
      "                                                                 \n",
      "=================================================================\n",
      "Total params: 753,674\n",
      "Trainable params: 753,674\n",
      "Non-trainable params: 0\n",
      "_________________________________________________________________\n"
     ]
    }
   ],
   "source": [
    "mnist_cnn_model.summary()"
   ]
  },
  {
   "cell_type": "code",
   "execution_count": 39,
   "metadata": {
    "id": "GIFKe5NpxbhN"
   },
   "outputs": [],
   "source": [
    "mnist_cnn_model.compile(optimizer = Adam(learning_rate = 0.01), \n",
    "                      loss= 'sparse_categorical_crossentropy' , \n",
    "                      metrics=['accuracy'] ) "
   ]
  },
  {
   "cell_type": "code",
   "execution_count": 40,
   "metadata": {
    "colab": {
     "base_uri": "https://localhost:8080/"
    },
    "id": "j3pmYPyXxbj4",
    "outputId": "0ce8c058-b94a-4165-c7f5-01752df375ff"
   },
   "outputs": [
    {
     "name": "stdout",
     "output_type": "stream",
     "text": [
      "Epoch 1/12\n",
      "  1/960 [..............................] - ETA: 5:27 - loss: 2.3026 - accuracy: 0.1200"
     ]
    },
    {
     "name": "stderr",
     "output_type": "stream",
     "text": [
      "2022-04-28 13:09:29.994035: I tensorflow/core/grappler/optimizers/custom_graph_optimizer_registry.cc:113] Plugin optimizer for device_type GPU is enabled.\n"
     ]
    },
    {
     "name": "stdout",
     "output_type": "stream",
     "text": [
      "958/960 [============================>.] - ETA: 0s - loss: 2.3067 - accuracy: 0.1104"
     ]
    },
    {
     "name": "stderr",
     "output_type": "stream",
     "text": [
      "2022-04-28 13:09:40.342335: I tensorflow/core/grappler/optimizers/custom_graph_optimizer_registry.cc:113] Plugin optimizer for device_type GPU is enabled.\n"
     ]
    },
    {
     "name": "stdout",
     "output_type": "stream",
     "text": [
      "960/960 [==============================] - 12s 12ms/step - loss: 2.3066 - accuracy: 0.1106 - val_loss: 2.3030 - val_accuracy: 0.1060\n",
      "Epoch 2/12\n",
      "960/960 [==============================] - 11s 12ms/step - loss: 2.3022 - accuracy: 0.1121 - val_loss: 2.3042 - val_accuracy: 0.1060\n",
      "Epoch 3/12\n",
      "960/960 [==============================] - 11s 12ms/step - loss: 2.3022 - accuracy: 0.1126 - val_loss: 2.3023 - val_accuracy: 0.1060\n",
      "Epoch 4/12\n",
      "960/960 [==============================] - 11s 12ms/step - loss: 2.3021 - accuracy: 0.1115 - val_loss: 2.3026 - val_accuracy: 0.1060\n",
      "Epoch 5/12\n",
      "960/960 [==============================] - 11s 12ms/step - loss: 2.3022 - accuracy: 0.1118 - val_loss: 2.3039 - val_accuracy: 0.1060\n",
      "Epoch 6/12\n",
      "960/960 [==============================] - 11s 12ms/step - loss: 2.3022 - accuracy: 0.1128 - val_loss: 2.3020 - val_accuracy: 0.1060\n",
      "Epoch 7/12\n",
      "960/960 [==============================] - 11s 12ms/step - loss: 2.3021 - accuracy: 0.1126 - val_loss: 2.3023 - val_accuracy: 0.1060\n",
      "Epoch 8/12\n",
      "960/960 [==============================] - 11s 12ms/step - loss: 2.3022 - accuracy: 0.1104 - val_loss: 2.3032 - val_accuracy: 0.1060\n",
      "Epoch 9/12\n",
      "960/960 [==============================] - 11s 12ms/step - loss: 2.3020 - accuracy: 0.1116 - val_loss: 2.3024 - val_accuracy: 0.1081\n",
      "Epoch 10/12\n",
      "960/960 [==============================] - 11s 12ms/step - loss: 2.3022 - accuracy: 0.1112 - val_loss: 2.3034 - val_accuracy: 0.1060\n",
      "Epoch 11/12\n",
      "960/960 [==============================] - 11s 12ms/step - loss: 2.3022 - accuracy: 0.1125 - val_loss: 2.3018 - val_accuracy: 0.1060\n",
      "Epoch 12/12\n",
      "960/960 [==============================] - 11s 12ms/step - loss: 2.3021 - accuracy: 0.1127 - val_loss: 2.3031 - val_accuracy: 0.1060\n"
     ]
    }
   ],
   "source": [
    "mnist_cnn_model_history = mnist_cnn_model.fit(X_train , y_train , epochs=12  , batch_size = 50 , validation_split = 0.2 , verbose = 1)"
   ]
  },
  {
   "cell_type": "code",
   "execution_count": 41,
   "metadata": {
    "id": "q1tJARHSxbmW"
   },
   "outputs": [
    {
     "name": "stdout",
     "output_type": "stream",
     "text": [
      " 17/313 [>.............................] - ETA: 1s - loss: 2.2980 - accuracy: 0.1324"
     ]
    },
    {
     "name": "stderr",
     "output_type": "stream",
     "text": [
      "2022-04-28 13:11:45.868269: I tensorflow/core/grappler/optimizers/custom_graph_optimizer_registry.cc:113] Plugin optimizer for device_type GPU is enabled.\n"
     ]
    },
    {
     "name": "stdout",
     "output_type": "stream",
     "text": [
      "313/313 [==============================] - 2s 6ms/step - loss: 2.3016 - accuracy: 0.1135\n"
     ]
    },
    {
     "data": {
      "text/plain": [
       "[2.301569938659668, 0.11350000649690628]"
      ]
     },
     "execution_count": 41,
     "metadata": {},
     "output_type": "execute_result"
    }
   ],
   "source": [
    "mnist_cnn_model_eval = mnist_cnn_model.evaluate(X_test, y_test)\n",
    "mnist_cnn_model_eval"
   ]
  },
  {
   "cell_type": "code",
   "execution_count": 42,
   "metadata": {
    "id": "lcWnY97IxbrG"
   },
   "outputs": [
    {
     "name": "stdout",
     "output_type": "stream",
     "text": [
      "모델 저장\n"
     ]
    },
    {
     "name": "stderr",
     "output_type": "stream",
     "text": [
      "2022-04-28 13:11:48.069949: W tensorflow/python/util/util.cc:368] Sets are not currently considered sequences, but this may change in the future, so consider avoiding using them.\n"
     ]
    },
    {
     "name": "stdout",
     "output_type": "stream",
     "text": [
      "INFO:tensorflow:Assets written to: model-case.h12/assets\n"
     ]
    }
   ],
   "source": [
    "print('모델 저장')\n",
    "mnist_cnn_model.save('model-case.h12')"
   ]
  },
  {
   "cell_type": "code",
   "execution_count": 43,
   "metadata": {
    "id": "XPV6nP-Q3Juz"
   },
   "outputs": [
    {
     "name": "stdout",
     "output_type": "stream",
     "text": [
      "모델 복원\n"
     ]
    },
    {
     "ename": "NameError",
     "evalue": "name 'load_model' is not defined",
     "output_type": "error",
     "traceback": [
      "\u001b[0;31m---------------------------------------------------------------------------\u001b[0m",
      "\u001b[0;31mNameError\u001b[0m                                 Traceback (most recent call last)",
      "Input \u001b[0;32mIn [43]\u001b[0m, in \u001b[0;36m<cell line: 2>\u001b[0;34m()\u001b[0m\n\u001b[1;32m      1\u001b[0m \u001b[38;5;28mprint\u001b[39m(\u001b[38;5;124m'\u001b[39m\u001b[38;5;124m모델 복원\u001b[39m\u001b[38;5;124m'\u001b[39m)\n\u001b[0;32m----> 2\u001b[0m loaded_model \u001b[38;5;241m=\u001b[39m \u001b[43mload_model\u001b[49m(\u001b[38;5;124m'\u001b[39m\u001b[38;5;124mmodel-case.h12\u001b[39m\u001b[38;5;124m'\u001b[39m)\n\u001b[1;32m      3\u001b[0m loaded_model\u001b[38;5;241m.\u001b[39msummary()\n",
      "\u001b[0;31mNameError\u001b[0m: name 'load_model' is not defined"
     ]
    }
   ],
   "source": [
    "print('모델 복원')\n",
    "loaded_model = load_model('model-case.h12')\n",
    "loaded_model.summary()"
   ]
  },
  {
   "cell_type": "code",
   "execution_count": null,
   "metadata": {
    "id": "aXZgZYJi3Jxa"
   },
   "outputs": [],
   "source": [
    "loss , acc = loaded_model.evaluate(X_test , y_test)\n",
    "print('loss - ' , loss)\n",
    "print('acc  - ' , acc)"
   ]
  },
  {
   "cell_type": "code",
   "execution_count": null,
   "metadata": {},
   "outputs": [],
   "source": []
  },
  {
   "cell_type": "markdown",
   "metadata": {},
   "source": [
    "이미지 분류 (horse-or-human)"
   ]
  },
  {
   "cell_type": "code",
   "execution_count": null,
   "metadata": {},
   "outputs": [],
   "source": [
    "import os \n",
    "print('데이터 세트 경로 - ')\n",
    "train_horse_dir = '/Users/book/Downloads/horse-or-human/horses'\n",
    "train_human_dir = '/Users/book/Downloads/horse-or-human/humans'"
   ]
  },
  {
   "cell_type": "code",
   "execution_count": null,
   "metadata": {},
   "outputs": [],
   "source": [
    "train_horse_fileName = os.listdir(train_horse_dir)\n",
    "train_human_fileName = os.listdir(train_human_dir)"
   ]
  },
  {
   "cell_type": "code",
   "execution_count": null,
   "metadata": {},
   "outputs": [],
   "source": [
    "train_horse_fileName[0:10]"
   ]
  },
  {
   "cell_type": "code",
   "execution_count": null,
   "metadata": {},
   "outputs": [],
   "source": [
    "train_human_fileName[0:10]"
   ]
  },
  {
   "cell_type": "code",
   "execution_count": null,
   "metadata": {},
   "outputs": [],
   "source": [
    "print('총 이미지 갯수 - ')\n",
    "print('horse len - ' , len(train_horse_fileName))\n",
    "print('human len - ' , len(train_human_fileName))\n",
    "\n",
    "# 'C:/Users/crid2/ml-data/horse-or-human' "
   ]
  },
  {
   "cell_type": "code",
   "execution_count": null,
   "metadata": {},
   "outputs": [],
   "source": [
    "train_img_generator = ImageDataGenerator(rescale=1/255)\n",
    "train_generator = train_img_generator.flow_from_directory(\n",
    "    '/Users/book/Downloads/horse-or-human' , \n",
    "    target_size = (300, 300) , \n",
    "    batch_size  = 128 ,\n",
    "    class_mode = 'binary'\n",
    ")"
   ]
  },
  {
   "cell_type": "code",
   "execution_count": null,
   "metadata": {},
   "outputs": [],
   "source": [
    "def img_model() :\n",
    "  img_model = Sequential()\n",
    "\n",
    "  img_model.add( Conv2D(input_shape = (300, 300, 3) , filters = 16 , kernel_size = (3,3) , strides = (1,1) , padding = 'valid') )\n",
    "  img_model.add( Activation('relu'))\n",
    "  img_model.add( MaxPooling2D(pool_size = (2,2) , padding = 'valid' ) )\n",
    "  img_model.add( Dropout(0.25) )\n",
    "      \n",
    "  img_model.add( Conv2D(filters = 32 , kernel_size = (3,3) , strides = (1,1) , padding = 'valid') )\n",
    "  img_model.add( Activation('relu'))\n",
    "  img_model.add( MaxPooling2D(pool_size = (2,2) , padding = 'valid' ) )\n",
    "  img_model.add( Dropout(0.25) )\n",
    "\n",
    "  img_model.add( Conv2D(filters = 64 , kernel_size = (3,3) , strides = (1,1) , padding = 'valid') )\n",
    "  img_model.add( Activation('relu'))\n",
    "  img_model.add( MaxPooling2D(pool_size = (2,2) , padding = 'valid' ) )\n",
    "  img_model.add( Dropout(0.25) )\n",
    "\n",
    "  img_model.add( Conv2D(filters = 64 , kernel_size = (3,3) , strides = (1,1) , padding = 'valid') )\n",
    "  img_model.add( Activation('relu'))\n",
    "  img_model.add( MaxPooling2D(pool_size = (2,2) , padding = 'valid' ) )\n",
    "  img_model.add( Dropout(0.25) )\n",
    "\n",
    "  img_model.add( Flatten() )\n",
    "  img_model.add( Dense(units = 512) )\n",
    "  img_model.add( Activation('relu') )\n",
    "  img_model.add( Dropout(0.25) )\n",
    "  \n",
    "  img_model.add( Dense(units = 1) )\n",
    "  img_model.add( Activation('sigmoid') )\n",
    "\n",
    "  return img_model "
   ]
  },
  {
   "cell_type": "code",
   "execution_count": null,
   "metadata": {},
   "outputs": [],
   "source": [
    "model = img_model()\n",
    "model.summary()"
   ]
  },
  {
   "cell_type": "code",
   "execution_count": null,
   "metadata": {},
   "outputs": [],
   "source": [
    "model.compile(optimizer = RMSprop(lr = 0.001), \n",
    "                      loss= 'binary_crossentropy' , \n",
    "                      metrics=['accuracy'] ) "
   ]
  },
  {
   "cell_type": "code",
   "execution_count": null,
   "metadata": {},
   "outputs": [],
   "source": [
    "model_history = model.fit(train_generator , epochs = 15 , verbose = 1 , steps_per_epoch = 8 )"
   ]
  },
  {
   "cell_type": "code",
   "execution_count": null,
   "metadata": {},
   "outputs": [],
   "source": [
    "from google.colab import files\n",
    "\n",
    "upload_img = files.upload()\n",
    "print(upload_img)\n",
    "print(upload_img.keys())\n",
    "\n",
    "for fn in upload_img.keys() :\n",
    "  print('file name - ' , fn )\n",
    "  path = '/content/'+fn\n",
    "  img = image.load_img(path , target_size = (300, 300))\n",
    "  x   = image.img_to_array(img) \n",
    "  x   = np.expand_dims(x , axis = 0 ) \n",
    "  image_ = np.vstack([x])\n",
    "\n",
    "  classes = model.predict(image_ , batch_size = 10 ) \n",
    "  print('pred - ' , classes[0])\n",
    "print('예측하기 - ')\n"
   ]
  },
  {
   "cell_type": "code",
   "execution_count": null,
   "metadata": {},
   "outputs": [],
   "source": []
  },
  {
   "cell_type": "code",
   "execution_count": null,
   "metadata": {},
   "outputs": [],
   "source": []
  },
  {
   "cell_type": "code",
   "execution_count": null,
   "metadata": {},
   "outputs": [],
   "source": [
    "!wget --no-check-certificate \\\n",
    "https://storage.googleapis.com/mledu-datasets/cats_and_dogs_filtered.zip \\\n",
    "-O /downloads/cats_and_dogs_filtered.zip\n"
   ]
  },
  {
   "cell_type": "markdown",
   "metadata": {},
   "source": [
    "고양이 개 이미지 분류 실습하기 "
   ]
  },
  {
   "cell_type": "code",
   "execution_count": null,
   "metadata": {},
   "outputs": [],
   "source": [
    "import os\n",
    "import zipfile\n",
    "\n",
    "path = '/Users/book/Downloads/cats_and_dogs_filtered.zip' \n",
    "zip  = zipfile.ZipFile(path , 'r')\n",
    "\n",
    "zip.extractall('/Users/book/Downloads/')\n",
    "zip.close()"
   ]
  },
  {
   "cell_type": "code",
   "execution_count": 44,
   "metadata": {},
   "outputs": [],
   "source": [
    "cat_image = '/Users/book/Downloads/cats_and_dogs_filtered/train/cats/'\n",
    "dog_image = '/Users/book/Downloads/cats_and_dogs_filtered/train/dogs/'"
   ]
  },
  {
   "cell_type": "code",
   "execution_count": 45,
   "metadata": {},
   "outputs": [
    {
     "name": "stdout",
     "output_type": "stream",
     "text": [
      "Found 2000 images belonging to 2 classes.\n"
     ]
    }
   ],
   "source": [
    "train_img_generator = ImageDataGenerator(rescale=1/255)\n",
    "train_generator = train_img_generator.flow_from_directory(\n",
    "    '/Users/book/Downloads/cats_and_dogs_filtered/train/' , \n",
    "    target_size = (300, 300) , \n",
    "    batch_size  = 128 ,\n",
    "    class_mode = 'binary'\n",
    ")"
   ]
  },
  {
   "cell_type": "code",
   "execution_count": null,
   "metadata": {},
   "outputs": [],
   "source": []
  },
  {
   "cell_type": "code",
   "execution_count": null,
   "metadata": {},
   "outputs": [],
   "source": []
  },
  {
   "cell_type": "code",
   "execution_count": null,
   "metadata": {},
   "outputs": [],
   "source": []
  },
  {
   "cell_type": "code",
   "execution_count": null,
   "metadata": {},
   "outputs": [],
   "source": []
  },
  {
   "cell_type": "code",
   "execution_count": null,
   "metadata": {},
   "outputs": [],
   "source": []
  },
  {
   "cell_type": "code",
   "execution_count": null,
   "metadata": {},
   "outputs": [],
   "source": []
  },
  {
   "cell_type": "code",
   "execution_count": null,
   "metadata": {},
   "outputs": [],
   "source": []
  }
 ],
 "metadata": {
  "accelerator": "GPU",
  "colab": {
   "authorship_tag": "ABX9TyNExk2q6OmR56uP23IiPkZh",
   "include_colab_link": true,
   "name": "Untitled4.ipynb",
   "provenance": []
  },
  "kernelspec": {
   "display_name": "Python 3 (ipykernel)",
   "language": "python",
   "name": "python3"
  },
  "language_info": {
   "codemirror_mode": {
    "name": "ipython",
    "version": 3
   },
   "file_extension": ".py",
   "mimetype": "text/x-python",
   "name": "python",
   "nbconvert_exporter": "python",
   "pygments_lexer": "ipython3",
   "version": "3.9.10"
  },
  "varInspector": {
   "cols": {
    "lenName": 16,
    "lenType": 16,
    "lenVar": 40
   },
   "kernels_config": {
    "python": {
     "delete_cmd_postfix": "",
     "delete_cmd_prefix": "del ",
     "library": "var_list.py",
     "varRefreshCmd": "print(var_dic_list())"
    },
    "r": {
     "delete_cmd_postfix": ") ",
     "delete_cmd_prefix": "rm(",
     "library": "var_list.r",
     "varRefreshCmd": "cat(var_dic_list()) "
    }
   },
   "types_to_exclude": [
    "module",
    "function",
    "builtin_function_or_method",
    "instance",
    "_Feature"
   ],
   "window_display": false
  }
 },
 "nbformat": 4,
 "nbformat_minor": 1
}
