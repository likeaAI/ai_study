{
 "cells": [
  {
   "cell_type": "markdown",
   "metadata": {
    "colab_type": "text",
    "id": "view-in-github"
   },
   "source": [
    "<a href=\"https://colab.research.google.com/github/likeaAI/ai_study/blob/main/%EC%9D%B8%EA%B3%B5%EC%8B%A0%EA%B2%BD%EB%A7%9D%20CNN.ipynb\" target=\"_parent\"><img src=\"https://colab.research.google.com/assets/colab-badge.svg\" alt=\"Open In Colab\"/></a>"
   ]
  },
  {
   "cell_type": "code",
   "execution_count": 43,
   "metadata": {
    "id": "tZDgP0ORDhTH"
   },
   "outputs": [],
   "source": [
    "from tensorflow.keras.datasets   import boston_housing , mnist , fashion_mnist\n",
    "from tensorflow.keras.models     import Sequential , clone_model , Model ,load_model\n",
    "from tensorflow.keras.layers     import Dense , Activation , InputLayer , Flatten , Input , BatchNormalization , Dropout , Embedding\n",
    "\n",
    "# CNN\n",
    "from tensorflow.keras.layers     import Conv2D , MaxPooling2D , AveragePooling2D \n",
    "from tensorflow.keras            import optimizers  \n",
    "from tensorflow.keras.callbacks  import EarlyStopping , ModelCheckpoint , Callback\n",
    "from tensorflow.keras.optimizers import SGD , Adam , RMSprop\n",
    "\n",
    "# 이미지 로드 \n",
    "from tensorflow.keras.preprocessing import image \n",
    "from tensorflow.keras.preprocessing.image import ImageDataGenerator\n",
    "\n",
    "# 자연어 처리\n",
    "from tensorflow.keras.preprocessing.text          import Tokenizer\n",
    "from tensorflow.keras.preprocessing.sequence      import pad_sequences\n",
    "\n",
    "from keras.utils.np_utils      import to_categorical\n",
    "\n",
    "from sklearn.datasets          import load_iris , load_breast_cancer , load_digits\n",
    "from sklearn.model_selection   import train_test_split\n",
    "\n",
    "import matplotlib.pyplot as plt\n",
    "\n",
    "import tensorflow as tf\n",
    "import numpy  as np\n",
    "import pandas as pd\n",
    "\n",
    "\n"
   ]
  },
  {
   "cell_type": "code",
   "execution_count": 2,
   "metadata": {},
   "outputs": [
    {
     "name": "stderr",
     "output_type": "stream",
     "text": [
      "2022-04-28 15:51:45.318466: I tensorflow/core/common_runtime/pluggable_device/pluggable_device_factory.cc:305] Could not identify NUMA node of platform GPU ID 0, defaulting to 0. Your kernel may not have been built with NUMA support.\n",
      "2022-04-28 15:51:45.318559: I tensorflow/core/common_runtime/pluggable_device/pluggable_device_factory.cc:271] Created TensorFlow device (/device:GPU:0 with 0 MB memory) -> physical PluggableDevice (device: 0, name: METAL, pci bus id: <undefined>)\n"
     ]
    },
    {
     "data": {
      "text/plain": [
       "[name: \"/device:CPU:0\"\n",
       " device_type: \"CPU\"\n",
       " memory_limit: 268435456\n",
       " locality {\n",
       " }\n",
       " incarnation: 13037103179856917166\n",
       " xla_global_id: -1,\n",
       " name: \"/device:GPU:0\"\n",
       " device_type: \"GPU\"\n",
       " locality {\n",
       "   bus_id: 1\n",
       " }\n",
       " incarnation: 16979740301230489958\n",
       " physical_device_desc: \"device: 0, name: METAL, pci bus id: <undefined>\"\n",
       " xla_global_id: -1]"
      ]
     },
     "execution_count": 2,
     "metadata": {},
     "output_type": "execute_result"
    },
    {
     "name": "stdout",
     "output_type": "stream",
     "text": [
      "Metal device set to: Apple M1\n"
     ]
    }
   ],
   "source": [
    "from tensorflow.python.client import device_lib\n",
    "device_lib.list_local_devices()"
   ]
  },
  {
   "cell_type": "code",
   "execution_count": 5,
   "metadata": {
    "colab": {
     "base_uri": "https://localhost:8080/",
     "height": 117
    },
    "id": "oH-Vov1eVfL5",
    "outputId": "489b6e63-4524-46e6-d56e-a9d6db177f05"
   },
   "outputs": [
    {
     "data": {
      "image/png": "[encoded data removed]",
      "text/plain": [
       "<PIL.Image.Image image mode=RGB size=100x100 at 0x1068F3F70>"
      ]
     },
     "execution_count": 5,
     "metadata": {},
     "output_type": "execute_result"
    }
   ],
   "source": [
    "img = image.load_img('/Users/book/downloads/test_dog.png' , target_size = (100,100))\n",
    "img\n",
    "\n",
    "# 이미지를 학습하기 위해서는 넘파이 배열로 변환해야 한다. "
   ]
  },
  {
   "cell_type": "code",
   "execution_count": 6,
   "metadata": {
    "colab": {
     "base_uri": "https://localhost:8080/"
    },
    "id": "l7TrIROpWpJ8",
    "outputId": "b2b3ae82-432b-4310-a0d8-ebc05c6f6cba"
   },
   "outputs": [
    {
     "name": "stdout",
     "output_type": "stream",
     "text": [
      "rows - width , cols - height , channels - rgb\n"
     ]
    },
    {
     "data": {
      "text/plain": [
       "(1, 100, 100, 3)"
      ]
     },
     "execution_count": 6,
     "metadata": {},
     "output_type": "execute_result"
    }
   ],
   "source": [
    "print('rows - width , cols - height , channels - rgb')\n",
    "img = image.img_to_array(img)\n",
    "img = np.expand_dims(img , axis = 0) \n",
    "image_ = np.vstack([img]) \n",
    "image_.shape\n",
    "# rgb code가 있어서 채널이 3개다."
   ]
  },
  {
   "cell_type": "code",
   "execution_count": 7,
   "metadata": {
    "colab": {
     "base_uri": "https://localhost:8080/"
    },
    "id": "UNa3LNSfXKDR",
    "outputId": "3c181b98-1085-4997-ff98-33e1a70e3943"
   },
   "outputs": [
    {
     "name": "stdout",
     "output_type": "stream",
     "text": [
      "CNN - Convolution Neural Network 합성곱 신경망 - \n",
      "CNN 핵심 - 합성곱레이어와 풀링레이어\n",
      "padding  - valid , same\n",
      "filters     - 몇개의 필터를 이용할지를 결정 즉, 출력모양의 깊이\n",
      "kernel_size - 연산을 수행할 때 원도우의 크기\n",
      "strides     - 가로,세로로 움직이면서 내적 연산을 수행하는데 한번에 얼마나 움직일지를 결정\n"
     ]
    },
    {
     "name": "stderr",
     "output_type": "stream",
     "text": [
      "2022-04-28 15:59:25.855100: I tensorflow/core/common_runtime/pluggable_device/pluggable_device_factory.cc:305] Could not identify NUMA node of platform GPU ID 0, defaulting to 0. Your kernel may not have been built with NUMA support.\n",
      "2022-04-28 15:59:25.855149: I tensorflow/core/common_runtime/pluggable_device/pluggable_device_factory.cc:271] Created TensorFlow device (/job:localhost/replica:0/task:0/device:GPU:0 with 0 MB memory) -> physical PluggableDevice (device: 0, name: METAL, pci bus id: <undefined>)\n"
     ]
    }
   ],
   "source": [
    "print('CNN - Convolution Neural Network 합성곱 신경망 - ')\n",
    "print('CNN 핵심 - 합성곱레이어와 풀링레이어')\n",
    "print('padding  - valid , same')\n",
    "print('filters     - 몇개의 필터를 이용할지를 결정 즉, 출력모양의 깊이')\n",
    "print('kernel_size - 연산을 수행할 때 원도우의 크기')\n",
    "print('strides     - 가로,세로로 움직이면서 내적 연산을 수행하는데 한번에 얼마나 움직일지를 결정')\n",
    "model = Sequential() \n",
    "\n",
    "model.add( Conv2D(input_shape = (10, 10, 3) , \n",
    "                  filters = 10 , \n",
    "                  kernel_size = (3,3) , \n",
    "                  strides = (1,1) , \n",
    "                  padding = 'same') )"
   ]
  },
  {
   "cell_type": "markdown",
   "metadata": {
    "id": "gehVQ_oviOJA"
   },
   "source": [
    "- CNN - Convolution Neural Network 합성공 신경망 - \n",
    "- CNN 핵심 - 합성곱레이어와 플링레이어 \n",
    "- padding - valid, smae \n",
    "- kernel_size - 연산을 수행할때 윈도우 크기 \n",
    "- strides - 가로 세로 움직이면서 내적 연산을 수행하는데 한번에 얼마나 움직일지를 결정 "
   ]
  },
  {
   "cell_type": "code",
   "execution_count": 8,
   "metadata": {
    "colab": {
     "base_uri": "https://localhost:8080/"
    },
    "id": "G_-COaXpdbaF",
    "outputId": "57db7ee4-b354-47f8-eaa4-a47682457d32"
   },
   "outputs": [
    {
     "data": {
      "text/plain": [
       "(None, 10, 10, 10)"
      ]
     },
     "execution_count": 8,
     "metadata": {},
     "output_type": "execute_result"
    }
   ],
   "source": [
    "model.output_shape"
   ]
  },
  {
   "cell_type": "code",
   "execution_count": 9,
   "metadata": {},
   "outputs": [
    {
     "name": "stdout",
     "output_type": "stream",
     "text": [
      "풀링 - pooling \n",
      "원도우 내에서 출력의 최대값을 추출하는 맥스풀링, 평균값 뽑아내는 애버리지 풀링 - \n",
      "\n",
      "(None, 9, 9, 10)\n"
     ]
    }
   ],
   "source": [
    "print('풀링 - pooling ')\n",
    "print('원도우 내에서 출력의 최대값을 추출하는 맥스풀링, 평균값 뽑아내는 애버리지 풀링 - ')\n",
    "print()\n",
    "\n",
    "# model.add( MaxPooling2D(pool_size = (2,2) , strides=(1,1), padding = 'valid' ) )\n",
    "# print(model.output_shape)\n",
    "\n",
    "model.add( AveragePooling2D(pool_size = (2,2) , strides=(1,1), padding = 'valid' ) )\n",
    "print(model.output_shape)\n"
   ]
  },
  {
   "cell_type": "code",
   "execution_count": 10,
   "metadata": {
    "colab": {
     "base_uri": "https://localhost:8080/"
    },
    "id": "qCkmxUzyjpiS",
    "outputId": "7cb7f080-138f-48f5-ecf8-74324b947b4e"
   },
   "outputs": [
    {
     "data": {
      "text/plain": [
       "dict_keys(['data', 'target', 'frame', 'feature_names', 'target_names', 'images', 'DESCR'])"
      ]
     },
     "execution_count": 10,
     "metadata": {},
     "output_type": "execute_result"
    }
   ],
   "source": [
    "datasets = load_digits()\n",
    "datasets.keys()"
   ]
  },
  {
   "cell_type": "code",
   "execution_count": 11,
   "metadata": {
    "colab": {
     "base_uri": "https://localhost:8080/"
    },
    "id": "Pl8KAneRlOiG",
    "outputId": "88674082-8681-4407-b488-15a5bf2b0150"
   },
   "outputs": [
    {
     "data": {
      "text/plain": [
       "(8, 8)"
      ]
     },
     "execution_count": 11,
     "metadata": {},
     "output_type": "execute_result"
    }
   ],
   "source": [
    "datasets.images[0].shape # 왜 채널이 없을까 흑백이라서 1차원으로 본다. 컬러풀은 3차원...  "
   ]
  },
  {
   "cell_type": "code",
   "execution_count": 12,
   "metadata": {
    "colab": {
     "base_uri": "https://localhost:8080/",
     "height": 248
    },
    "id": "TioepRSmlVJm",
    "outputId": "fbf1afc5-c8a2-45b3-b7a0-bb8789cfa156"
   },
   "outputs": [
    {
     "data": {
      "image/png": "[encoded data removed]",
      "text/plain": [
       "<Figure size 432x288 with 1 Axes>"
      ]
     },
     "metadata": {
      "needs_background": "light"
     },
     "output_type": "display_data"
    }
   ],
   "source": [
    "plt.figure()\n",
    "\n",
    "plt.imshow(datasets.images[0] , cmap = plt.cm.binary)\n",
    "plt.grid(False)\n",
    "plt.axis('off')\n",
    "plt.show()\n",
    "plt.close()"
   ]
  },
  {
   "cell_type": "code",
   "execution_count": 13,
   "metadata": {},
   "outputs": [
    {
     "data": {
      "text/plain": [
       "array([[ 0.,  0.,  5., 13.,  9.,  1.,  0.,  0.],\n",
       "       [ 0.,  0., 13., 15., 10., 15.,  5.,  0.],\n",
       "       [ 0.,  3., 15.,  2.,  0., 11.,  8.,  0.],\n",
       "       [ 0.,  4., 12.,  0.,  0.,  8.,  8.,  0.],\n",
       "       [ 0.,  5.,  8.,  0.,  0.,  9.,  8.,  0.],\n",
       "       [ 0.,  4., 11.,  0.,  1., 12.,  7.,  0.],\n",
       "       [ 0.,  2., 14.,  5., 10., 12.,  0.,  0.],\n",
       "       [ 0.,  0.,  6., 13., 10.,  0.,  0.,  0.]])"
      ]
     },
     "execution_count": 13,
     "metadata": {},
     "output_type": "execute_result"
    }
   ],
   "source": [
    "datasets.images[0]"
   ]
  },
  {
   "cell_type": "code",
   "execution_count": 14,
   "metadata": {
    "id": "UEX-9dejl9Ab"
   },
   "outputs": [],
   "source": [
    "X_data = datasets.images\n",
    "y_data = datasets.target "
   ]
  },
  {
   "cell_type": "code",
   "execution_count": 15,
   "metadata": {
    "colab": {
     "base_uri": "https://localhost:8080/"
    },
    "id": "KF7XLSYtmFrh",
    "outputId": "56dcb873-7b97-4721-9e25-02862f514c8f"
   },
   "outputs": [
    {
     "data": {
      "text/plain": [
       "((1797, 8, 8), (1797,))"
      ]
     },
     "execution_count": 15,
     "metadata": {},
     "output_type": "execute_result"
    }
   ],
   "source": [
    "X_data.shape, y_data.shape"
   ]
  },
  {
   "cell_type": "code",
   "execution_count": 16,
   "metadata": {
    "colab": {
     "base_uri": "https://localhost:8080/"
    },
    "id": "xe2M1eQ5mLZW",
    "outputId": "190b0683-1bbf-4f94-ac37-d30bed208cbf"
   },
   "outputs": [
    {
     "data": {
      "text/plain": [
       "(1797, 8, 8, 1)"
      ]
     },
     "execution_count": 16,
     "metadata": {},
     "output_type": "execute_result"
    }
   ],
   "source": [
    "X_data = X_data.reshape(X_data.shape[0], X_data.shape[1] ,  X_data.shape[2], 1 )\n",
    "X_data.shape # 채널 1이 있어야 학습이 가능해서 위의 모양대로 reshape을 하였다. "
   ]
  },
  {
   "cell_type": "code",
   "execution_count": 17,
   "metadata": {
    "colab": {
     "base_uri": "https://localhost:8080/"
    },
    "id": "HDHB5YPfmixJ",
    "outputId": "5fd476ea-6a15-41c3-c558-4c2b7addfba2"
   },
   "outputs": [
    {
     "data": {
      "text/plain": [
       "(1797, 10)"
      ]
     },
     "execution_count": 17,
     "metadata": {},
     "output_type": "execute_result"
    }
   ],
   "source": [
    "y_data = to_categorical(y_data)\n",
    "y_data.shape"
   ]
  },
  {
   "cell_type": "code",
   "execution_count": 18,
   "metadata": {
    "colab": {
     "base_uri": "https://localhost:8080/"
    },
    "id": "_QFlHri5mubS",
    "outputId": "73967462-8f2c-4d80-97b4-7be314690b89"
   },
   "outputs": [
    {
     "data": {
      "text/plain": [
       "array([1., 0., 0., 0., 0., 0., 0., 0., 0., 0.], dtype=float32)"
      ]
     },
     "execution_count": 18,
     "metadata": {},
     "output_type": "execute_result"
    }
   ],
   "source": [
    "y_data[0]"
   ]
  },
  {
   "cell_type": "code",
   "execution_count": 19,
   "metadata": {
    "colab": {
     "base_uri": "https://localhost:8080/"
    },
    "id": "1bDk4XY9mzCg",
    "outputId": "26d26b0e-5271-4949-f202-75289953cfc7"
   },
   "outputs": [
    {
     "data": {
      "text/plain": [
       "((1797, 8, 8, 1), (1797, 10))"
      ]
     },
     "execution_count": 19,
     "metadata": {},
     "output_type": "execute_result"
    }
   ],
   "source": [
    "X_data.shape , y_data.shape"
   ]
  },
  {
   "cell_type": "code",
   "execution_count": 20,
   "metadata": {},
   "outputs": [
    {
     "data": {
      "text/plain": [
       "((1437, 8, 8, 1), (360, 8, 8, 1), (1437, 10), (360, 10))"
      ]
     },
     "execution_count": 20,
     "metadata": {},
     "output_type": "execute_result"
    }
   ],
   "source": [
    "X_train , X_test , y_train , y_test = train_test_split(X_data , \n",
    "                                                       y_data , \n",
    "                                                       test_size    = 0.2 ,\n",
    "                                                       random_state = 111)\n",
    "\n",
    "X_train.shape , X_test.shape , y_train.shape , y_test.shape"
   ]
  },
  {
   "cell_type": "code",
   "execution_count": 21,
   "metadata": {},
   "outputs": [
    {
     "name": "stdout",
     "output_type": "stream",
     "text": [
      "cnn 입력층 - \n",
      "shape -  (None, 6, 6, 10)\n"
     ]
    }
   ],
   "source": [
    "print('cnn 입력층 - ')\n",
    "mnist_cnn_model = Sequential()\n",
    "mnist_cnn_model.add( Conv2D(input_shape = (X_data.shape[1], X_data.shape[2], X_data.shape[3]) , \n",
    "                            filters = 10 , \n",
    "                            kernel_size = (3,3) , \n",
    "                            strides = (1,1) , \n",
    "                            padding = 'valid' , activation = 'relu') ) \n",
    "\n",
    "print('shape - ' , mnist_cnn_model.output_shape)"
   ]
  },
  {
   "cell_type": "code",
   "execution_count": 22,
   "metadata": {},
   "outputs": [
    {
     "name": "stdout",
     "output_type": "stream",
     "text": [
      "cnn 풀링레이어 만들기 - \n",
      "(None, 3, 3, 10)\n"
     ]
    }
   ],
   "source": [
    "print('cnn 풀링레이어 만들기 - ')\n",
    "\n",
    "mnist_cnn_model.add( MaxPooling2D(pool_size = (2,2) , padding = 'valid' ) )\n",
    "print(mnist_cnn_model.output_shape)\n"
   ]
  },
  {
   "cell_type": "code",
   "execution_count": 23,
   "metadata": {},
   "outputs": [
    {
     "data": {
      "text/plain": [
       "(None, 90)"
      ]
     },
     "execution_count": 23,
     "metadata": {},
     "output_type": "execute_result"
    }
   ],
   "source": [
    "mnist_cnn_model.add( Flatten() )\n",
    "mnist_cnn_model.output_shape"
   ]
  },
  {
   "cell_type": "code",
   "execution_count": 24,
   "metadata": {},
   "outputs": [],
   "source": [
    "mnist_cnn_model.add( Dense(50 , activation = 'relu'))\n",
    "mnist_cnn_model.add( Dense(10 , activation = 'softmax'))"
   ]
  },
  {
   "cell_type": "code",
   "execution_count": 25,
   "metadata": {},
   "outputs": [
    {
     "name": "stdout",
     "output_type": "stream",
     "text": [
      "Model: \"sequential_1\"\n",
      "_________________________________________________________________\n",
      " Layer (type)                Output Shape              Param #   \n",
      "=================================================================\n",
      " conv2d_1 (Conv2D)           (None, 6, 6, 10)          100       \n",
      "                                                                 \n",
      " max_pooling2d (MaxPooling2D  (None, 3, 3, 10)         0         \n",
      " )                                                               \n",
      "                                                                 \n",
      " flatten (Flatten)           (None, 90)                0         \n",
      "                                                                 \n",
      " dense (Dense)               (None, 50)                4550      \n",
      "                                                                 \n",
      " dense_1 (Dense)             (None, 10)                510       \n",
      "                                                                 \n",
      "=================================================================\n",
      "Total params: 5,160\n",
      "Trainable params: 5,160\n",
      "Non-trainable params: 0\n",
      "_________________________________________________________________\n"
     ]
    }
   ],
   "source": [
    "mnist_cnn_model.summary()"
   ]
  },
  {
   "cell_type": "code",
   "execution_count": 26,
   "metadata": {},
   "outputs": [],
   "source": [
    "mnist_cnn_model.compile(optimizer = Adam(learning_rate = 0.01), \n",
    "                      loss= 'categorical_crossentropy' , \n",
    "                      metrics=['accuracy'] ) "
   ]
  },
  {
   "cell_type": "code",
   "execution_count": 27,
   "metadata": {},
   "outputs": [
    {
     "name": "stdout",
     "output_type": "stream",
     "text": [
      "Epoch 1/100\n"
     ]
    },
    {
     "name": "stderr",
     "output_type": "stream",
     "text": [
      "2022-04-28 15:59:30.556898: W tensorflow/core/platform/profile_utils/cpu_utils.cc:128] Failed to get CPU frequency: 0 Hz\n",
      "2022-04-28 15:59:30.775393: I tensorflow/core/grappler/optimizers/custom_graph_optimizer_registry.cc:113] Plugin optimizer for device_type GPU is enabled.\n"
     ]
    },
    {
     "name": "stdout",
     "output_type": "stream",
     "text": [
      "23/23 [==============================] - 3s 15ms/step - loss: 1.9835 - accuracy: 0.4656 - val_loss: 0.7026 - val_accuracy: 0.8056\n",
      "Epoch 2/100\n",
      "15/23 [==================>...........] - ETA: 0s - loss: 0.4405 - accuracy: 0.8813"
     ]
    },
    {
     "name": "stderr",
     "output_type": "stream",
     "text": [
      "2022-04-28 15:59:33.316011: I tensorflow/core/grappler/optimizers/custom_graph_optimizer_registry.cc:113] Plugin optimizer for device_type GPU is enabled.\n"
     ]
    },
    {
     "name": "stdout",
     "output_type": "stream",
     "text": [
      "23/23 [==============================] - 0s 10ms/step - loss: 0.3839 - accuracy: 0.8921 - val_loss: 0.2213 - val_accuracy: 0.9201\n",
      "Epoch 3/100\n",
      "23/23 [==============================] - 0s 10ms/step - loss: 0.1591 - accuracy: 0.9487 - val_loss: 0.1502 - val_accuracy: 0.9479\n",
      "Epoch 4/100\n",
      "23/23 [==============================] - 0s 10ms/step - loss: 0.1031 - accuracy: 0.9713 - val_loss: 0.1630 - val_accuracy: 0.9375\n",
      "Epoch 5/100\n",
      "23/23 [==============================] - 0s 10ms/step - loss: 0.0758 - accuracy: 0.9739 - val_loss: 0.0868 - val_accuracy: 0.9618\n",
      "Epoch 6/100\n",
      "23/23 [==============================] - 0s 10ms/step - loss: 0.0441 - accuracy: 0.9887 - val_loss: 0.1281 - val_accuracy: 0.9583\n",
      "Epoch 7/100\n",
      "23/23 [==============================] - 0s 10ms/step - loss: 0.0336 - accuracy: 0.9896 - val_loss: 0.1005 - val_accuracy: 0.9653\n",
      "Epoch 8/100\n",
      "23/23 [==============================] - 0s 9ms/step - loss: 0.0242 - accuracy: 0.9930 - val_loss: 0.0739 - val_accuracy: 0.9722\n",
      "Epoch 9/100\n",
      "23/23 [==============================] - 0s 10ms/step - loss: 0.0147 - accuracy: 0.9983 - val_loss: 0.0666 - val_accuracy: 0.9722\n",
      "Epoch 10/100\n",
      "23/23 [==============================] - 0s 10ms/step - loss: 0.0135 - accuracy: 0.9965 - val_loss: 0.0647 - val_accuracy: 0.9757\n",
      "Epoch 11/100\n",
      "23/23 [==============================] - 0s 10ms/step - loss: 0.0076 - accuracy: 0.9991 - val_loss: 0.0575 - val_accuracy: 0.9792\n",
      "Epoch 12/100\n",
      "23/23 [==============================] - 0s 10ms/step - loss: 0.0050 - accuracy: 1.0000 - val_loss: 0.0631 - val_accuracy: 0.9792\n",
      "Epoch 13/100\n",
      "23/23 [==============================] - 0s 10ms/step - loss: 0.0049 - accuracy: 1.0000 - val_loss: 0.0579 - val_accuracy: 0.9722\n",
      "Epoch 14/100\n",
      "23/23 [==============================] - 0s 10ms/step - loss: 0.0029 - accuracy: 1.0000 - val_loss: 0.0544 - val_accuracy: 0.9722\n",
      "Epoch 15/100\n",
      "23/23 [==============================] - 0s 10ms/step - loss: 0.0023 - accuracy: 1.0000 - val_loss: 0.0660 - val_accuracy: 0.9826\n",
      "Epoch 16/100\n",
      "23/23 [==============================] - 0s 10ms/step - loss: 0.0020 - accuracy: 1.0000 - val_loss: 0.0591 - val_accuracy: 0.9792\n",
      "Epoch 17/100\n",
      "23/23 [==============================] - 0s 10ms/step - loss: 0.0016 - accuracy: 1.0000 - val_loss: 0.0568 - val_accuracy: 0.9826\n",
      "Epoch 18/100\n",
      "23/23 [==============================] - 0s 10ms/step - loss: 0.0013 - accuracy: 1.0000 - val_loss: 0.0556 - val_accuracy: 0.9826\n",
      "Epoch 19/100\n",
      "23/23 [==============================] - 0s 10ms/step - loss: 0.0011 - accuracy: 1.0000 - val_loss: 0.0602 - val_accuracy: 0.9826\n",
      "Epoch 20/100\n",
      "23/23 [==============================] - 0s 10ms/step - loss: 0.0011 - accuracy: 1.0000 - val_loss: 0.0543 - val_accuracy: 0.9826\n",
      "Epoch 21/100\n",
      "23/23 [==============================] - 0s 10ms/step - loss: 9.5696e-04 - accuracy: 1.0000 - val_loss: 0.0588 - val_accuracy: 0.9826\n",
      "Epoch 22/100\n",
      "23/23 [==============================] - 0s 10ms/step - loss: 9.2189e-04 - accuracy: 1.0000 - val_loss: 0.0595 - val_accuracy: 0.9826\n",
      "Epoch 23/100\n",
      "23/23 [==============================] - 0s 10ms/step - loss: 8.2359e-04 - accuracy: 1.0000 - val_loss: 0.0583 - val_accuracy: 0.9826\n",
      "Epoch 24/100\n",
      "23/23 [==============================] - 0s 10ms/step - loss: 7.4390e-04 - accuracy: 1.0000 - val_loss: 0.0589 - val_accuracy: 0.9826\n",
      "Epoch 25/100\n",
      "23/23 [==============================] - 0s 10ms/step - loss: 6.9320e-04 - accuracy: 1.0000 - val_loss: 0.0586 - val_accuracy: 0.9826\n",
      "Epoch 26/100\n",
      "23/23 [==============================] - 0s 10ms/step - loss: 6.8191e-04 - accuracy: 1.0000 - val_loss: 0.0598 - val_accuracy: 0.9826\n",
      "Epoch 27/100\n",
      "23/23 [==============================] - 0s 10ms/step - loss: 5.9628e-04 - accuracy: 1.0000 - val_loss: 0.0610 - val_accuracy: 0.9826\n",
      "Epoch 28/100\n",
      "23/23 [==============================] - 0s 10ms/step - loss: 5.6756e-04 - accuracy: 1.0000 - val_loss: 0.0622 - val_accuracy: 0.9826\n",
      "Epoch 29/100\n",
      "23/23 [==============================] - 0s 10ms/step - loss: 5.5339e-04 - accuracy: 1.0000 - val_loss: 0.0581 - val_accuracy: 0.9826\n",
      "Epoch 30/100\n",
      "23/23 [==============================] - 0s 10ms/step - loss: 5.0034e-04 - accuracy: 1.0000 - val_loss: 0.0652 - val_accuracy: 0.9826\n",
      "Epoch 31/100\n",
      "23/23 [==============================] - 0s 10ms/step - loss: 4.7470e-04 - accuracy: 1.0000 - val_loss: 0.0605 - val_accuracy: 0.9826\n",
      "Epoch 32/100\n",
      "23/23 [==============================] - 0s 10ms/step - loss: 4.6407e-04 - accuracy: 1.0000 - val_loss: 0.0623 - val_accuracy: 0.9826\n",
      "Epoch 33/100\n",
      "23/23 [==============================] - 0s 10ms/step - loss: 4.3775e-04 - accuracy: 1.0000 - val_loss: 0.0595 - val_accuracy: 0.9826\n",
      "Epoch 34/100\n",
      "23/23 [==============================] - 0s 9ms/step - loss: 4.0202e-04 - accuracy: 1.0000 - val_loss: 0.0631 - val_accuracy: 0.9826\n",
      "Epoch 35/100\n",
      "23/23 [==============================] - 0s 9ms/step - loss: 3.8347e-04 - accuracy: 1.0000 - val_loss: 0.0653 - val_accuracy: 0.9826\n",
      "Epoch 36/100\n",
      "23/23 [==============================] - 0s 9ms/step - loss: 3.6739e-04 - accuracy: 1.0000 - val_loss: 0.0640 - val_accuracy: 0.9826\n",
      "Epoch 37/100\n",
      "23/23 [==============================] - 0s 9ms/step - loss: 3.5221e-04 - accuracy: 1.0000 - val_loss: 0.0619 - val_accuracy: 0.9826\n",
      "Epoch 38/100\n",
      "23/23 [==============================] - 0s 9ms/step - loss: 3.1895e-04 - accuracy: 1.0000 - val_loss: 0.0649 - val_accuracy: 0.9826\n",
      "Epoch 39/100\n",
      "23/23 [==============================] - 0s 9ms/step - loss: 3.1102e-04 - accuracy: 1.0000 - val_loss: 0.0652 - val_accuracy: 0.9826\n",
      "Epoch 40/100\n",
      "23/23 [==============================] - 0s 9ms/step - loss: 2.9912e-04 - accuracy: 1.0000 - val_loss: 0.0659 - val_accuracy: 0.9826\n",
      "Epoch 41/100\n",
      "23/23 [==============================] - 0s 10ms/step - loss: 2.9182e-04 - accuracy: 1.0000 - val_loss: 0.0648 - val_accuracy: 0.9826\n",
      "Epoch 42/100\n",
      "23/23 [==============================] - 0s 10ms/step - loss: 2.9466e-04 - accuracy: 1.0000 - val_loss: 0.0655 - val_accuracy: 0.9826\n",
      "Epoch 43/100\n",
      "23/23 [==============================] - 0s 10ms/step - loss: 2.6391e-04 - accuracy: 1.0000 - val_loss: 0.0640 - val_accuracy: 0.9826\n",
      "Epoch 44/100\n",
      "23/23 [==============================] - 0s 10ms/step - loss: 2.5492e-04 - accuracy: 1.0000 - val_loss: 0.0680 - val_accuracy: 0.9826\n",
      "Epoch 45/100\n",
      "23/23 [==============================] - 0s 10ms/step - loss: 2.4188e-04 - accuracy: 1.0000 - val_loss: 0.0672 - val_accuracy: 0.9826\n",
      "Epoch 46/100\n",
      "23/23 [==============================] - 0s 9ms/step - loss: 2.2679e-04 - accuracy: 1.0000 - val_loss: 0.0696 - val_accuracy: 0.9826\n",
      "Epoch 47/100\n",
      "23/23 [==============================] - 0s 9ms/step - loss: 2.1461e-04 - accuracy: 1.0000 - val_loss: 0.0672 - val_accuracy: 0.9826\n",
      "Epoch 48/100\n",
      "23/23 [==============================] - 0s 9ms/step - loss: 2.0790e-04 - accuracy: 1.0000 - val_loss: 0.0675 - val_accuracy: 0.9826\n",
      "Epoch 49/100\n",
      "23/23 [==============================] - 0s 9ms/step - loss: 2.0020e-04 - accuracy: 1.0000 - val_loss: 0.0681 - val_accuracy: 0.9826\n",
      "Epoch 50/100\n",
      "23/23 [==============================] - 0s 9ms/step - loss: 1.9178e-04 - accuracy: 1.0000 - val_loss: 0.0679 - val_accuracy: 0.9826\n",
      "Epoch 51/100\n",
      "23/23 [==============================] - 0s 9ms/step - loss: 1.8311e-04 - accuracy: 1.0000 - val_loss: 0.0694 - val_accuracy: 0.9826\n",
      "Epoch 52/100\n",
      "23/23 [==============================] - 0s 9ms/step - loss: 1.7937e-04 - accuracy: 1.0000 - val_loss: 0.0702 - val_accuracy: 0.9826\n",
      "Epoch 53/100\n",
      "23/23 [==============================] - 0s 9ms/step - loss: 1.7527e-04 - accuracy: 1.0000 - val_loss: 0.0690 - val_accuracy: 0.9826\n",
      "Epoch 54/100\n",
      "23/23 [==============================] - 0s 9ms/step - loss: 1.6366e-04 - accuracy: 1.0000 - val_loss: 0.0683 - val_accuracy: 0.9826\n",
      "Epoch 55/100\n",
      "23/23 [==============================] - 0s 9ms/step - loss: 1.5817e-04 - accuracy: 1.0000 - val_loss: 0.0704 - val_accuracy: 0.9826\n",
      "Epoch 56/100\n",
      "23/23 [==============================] - 0s 9ms/step - loss: 1.5252e-04 - accuracy: 1.0000 - val_loss: 0.0696 - val_accuracy: 0.9826\n",
      "Epoch 57/100\n",
      "23/23 [==============================] - 0s 10ms/step - loss: 1.4910e-04 - accuracy: 1.0000 - val_loss: 0.0704 - val_accuracy: 0.9826\n",
      "Epoch 58/100\n"
     ]
    },
    {
     "name": "stdout",
     "output_type": "stream",
     "text": [
      "23/23 [==============================] - 0s 9ms/step - loss: 1.4602e-04 - accuracy: 1.0000 - val_loss: 0.0693 - val_accuracy: 0.9826\n",
      "Epoch 59/100\n",
      "23/23 [==============================] - 0s 9ms/step - loss: 1.3642e-04 - accuracy: 1.0000 - val_loss: 0.0707 - val_accuracy: 0.9826\n",
      "Epoch 60/100\n",
      "23/23 [==============================] - 0s 9ms/step - loss: 1.3392e-04 - accuracy: 1.0000 - val_loss: 0.0700 - val_accuracy: 0.9826\n",
      "Epoch 61/100\n",
      "23/23 [==============================] - 0s 9ms/step - loss: 1.3007e-04 - accuracy: 1.0000 - val_loss: 0.0718 - val_accuracy: 0.9826\n",
      "Epoch 62/100\n",
      "23/23 [==============================] - 0s 10ms/step - loss: 1.2577e-04 - accuracy: 1.0000 - val_loss: 0.0703 - val_accuracy: 0.9826\n",
      "Epoch 63/100\n",
      "23/23 [==============================] - 0s 9ms/step - loss: 1.2165e-04 - accuracy: 1.0000 - val_loss: 0.0718 - val_accuracy: 0.9826\n",
      "Epoch 64/100\n",
      "23/23 [==============================] - 0s 10ms/step - loss: 1.2018e-04 - accuracy: 1.0000 - val_loss: 0.0718 - val_accuracy: 0.9826\n",
      "Epoch 65/100\n",
      "23/23 [==============================] - 0s 9ms/step - loss: 1.1585e-04 - accuracy: 1.0000 - val_loss: 0.0723 - val_accuracy: 0.9826\n",
      "Epoch 66/100\n",
      "23/23 [==============================] - 0s 9ms/step - loss: 1.1171e-04 - accuracy: 1.0000 - val_loss: 0.0734 - val_accuracy: 0.9826\n",
      "Epoch 67/100\n",
      "23/23 [==============================] - 0s 9ms/step - loss: 1.0717e-04 - accuracy: 1.0000 - val_loss: 0.0736 - val_accuracy: 0.9826\n",
      "Epoch 68/100\n",
      "23/23 [==============================] - 0s 9ms/step - loss: 1.0399e-04 - accuracy: 1.0000 - val_loss: 0.0733 - val_accuracy: 0.9826\n",
      "Epoch 69/100\n",
      "23/23 [==============================] - 0s 9ms/step - loss: 1.0450e-04 - accuracy: 1.0000 - val_loss: 0.0727 - val_accuracy: 0.9826\n",
      "Epoch 70/100\n",
      "23/23 [==============================] - 0s 9ms/step - loss: 9.8034e-05 - accuracy: 1.0000 - val_loss: 0.0744 - val_accuracy: 0.9826\n",
      "Epoch 71/100\n",
      "23/23 [==============================] - 0s 9ms/step - loss: 9.4136e-05 - accuracy: 1.0000 - val_loss: 0.0733 - val_accuracy: 0.9826\n",
      "Epoch 72/100\n",
      "23/23 [==============================] - 0s 9ms/step - loss: 9.1546e-05 - accuracy: 1.0000 - val_loss: 0.0746 - val_accuracy: 0.9826\n",
      "Epoch 73/100\n",
      "23/23 [==============================] - 0s 9ms/step - loss: 8.9114e-05 - accuracy: 1.0000 - val_loss: 0.0740 - val_accuracy: 0.9826\n",
      "Epoch 74/100\n",
      "23/23 [==============================] - 0s 9ms/step - loss: 8.6202e-05 - accuracy: 1.0000 - val_loss: 0.0743 - val_accuracy: 0.9826\n",
      "Epoch 75/100\n",
      "23/23 [==============================] - 0s 9ms/step - loss: 8.3805e-05 - accuracy: 1.0000 - val_loss: 0.0757 - val_accuracy: 0.9826\n",
      "Epoch 76/100\n",
      "23/23 [==============================] - 0s 10ms/step - loss: 8.1300e-05 - accuracy: 1.0000 - val_loss: 0.0757 - val_accuracy: 0.9826\n",
      "Epoch 77/100\n",
      "23/23 [==============================] - 0s 9ms/step - loss: 7.9191e-05 - accuracy: 1.0000 - val_loss: 0.0769 - val_accuracy: 0.9826\n",
      "Epoch 78/100\n",
      "23/23 [==============================] - 0s 9ms/step - loss: 7.7272e-05 - accuracy: 1.0000 - val_loss: 0.0769 - val_accuracy: 0.9826\n",
      "Epoch 79/100\n",
      "23/23 [==============================] - 0s 9ms/step - loss: 7.5943e-05 - accuracy: 1.0000 - val_loss: 0.0760 - val_accuracy: 0.9826\n",
      "Epoch 80/100\n",
      "23/23 [==============================] - 0s 9ms/step - loss: 7.3566e-05 - accuracy: 1.0000 - val_loss: 0.0762 - val_accuracy: 0.9826\n",
      "Epoch 81/100\n",
      "23/23 [==============================] - 0s 9ms/step - loss: 7.1438e-05 - accuracy: 1.0000 - val_loss: 0.0767 - val_accuracy: 0.9826\n",
      "Epoch 82/100\n",
      "23/23 [==============================] - 0s 9ms/step - loss: 6.8665e-05 - accuracy: 1.0000 - val_loss: 0.0759 - val_accuracy: 0.9826\n",
      "Epoch 83/100\n",
      "23/23 [==============================] - 0s 9ms/step - loss: 6.7461e-05 - accuracy: 1.0000 - val_loss: 0.0791 - val_accuracy: 0.9826\n",
      "Epoch 84/100\n",
      "23/23 [==============================] - 0s 9ms/step - loss: 6.4330e-05 - accuracy: 1.0000 - val_loss: 0.0770 - val_accuracy: 0.9826\n",
      "Epoch 85/100\n",
      "23/23 [==============================] - 0s 9ms/step - loss: 6.3264e-05 - accuracy: 1.0000 - val_loss: 0.0779 - val_accuracy: 0.9826\n",
      "Epoch 86/100\n",
      "23/23 [==============================] - 0s 9ms/step - loss: 6.1871e-05 - accuracy: 1.0000 - val_loss: 0.0779 - val_accuracy: 0.9826\n",
      "Epoch 87/100\n",
      "23/23 [==============================] - 0s 9ms/step - loss: 6.0044e-05 - accuracy: 1.0000 - val_loss: 0.0775 - val_accuracy: 0.9826\n",
      "Epoch 88/100\n",
      "23/23 [==============================] - 0s 9ms/step - loss: 5.8788e-05 - accuracy: 1.0000 - val_loss: 0.0791 - val_accuracy: 0.9826\n",
      "Epoch 89/100\n",
      "23/23 [==============================] - 0s 10ms/step - loss: 5.7691e-05 - accuracy: 1.0000 - val_loss: 0.0788 - val_accuracy: 0.9826\n",
      "Epoch 90/100\n",
      "23/23 [==============================] - 0s 9ms/step - loss: 5.6161e-05 - accuracy: 1.0000 - val_loss: 0.0792 - val_accuracy: 0.9826\n",
      "Epoch 91/100\n",
      "23/23 [==============================] - 0s 9ms/step - loss: 5.4516e-05 - accuracy: 1.0000 - val_loss: 0.0792 - val_accuracy: 0.9826\n",
      "Epoch 92/100\n",
      "23/23 [==============================] - 0s 9ms/step - loss: 5.3624e-05 - accuracy: 1.0000 - val_loss: 0.0789 - val_accuracy: 0.9826\n",
      "Epoch 93/100\n",
      "23/23 [==============================] - 0s 9ms/step - loss: 5.2433e-05 - accuracy: 1.0000 - val_loss: 0.0792 - val_accuracy: 0.9826\n",
      "Epoch 94/100\n",
      "23/23 [==============================] - 0s 9ms/step - loss: 5.0718e-05 - accuracy: 1.0000 - val_loss: 0.0801 - val_accuracy: 0.9826\n",
      "Epoch 95/100\n",
      "23/23 [==============================] - 0s 10ms/step - loss: 4.9838e-05 - accuracy: 1.0000 - val_loss: 0.0795 - val_accuracy: 0.9826\n",
      "Epoch 96/100\n",
      "23/23 [==============================] - 0s 9ms/step - loss: 4.8606e-05 - accuracy: 1.0000 - val_loss: 0.0803 - val_accuracy: 0.9826\n",
      "Epoch 97/100\n",
      "23/23 [==============================] - 0s 9ms/step - loss: 4.7795e-05 - accuracy: 1.0000 - val_loss: 0.0799 - val_accuracy: 0.9826\n",
      "Epoch 98/100\n",
      "23/23 [==============================] - 0s 9ms/step - loss: 4.6252e-05 - accuracy: 1.0000 - val_loss: 0.0804 - val_accuracy: 0.9826\n",
      "Epoch 99/100\n",
      "23/23 [==============================] - 0s 9ms/step - loss: 4.5027e-05 - accuracy: 1.0000 - val_loss: 0.0796 - val_accuracy: 0.9826\n",
      "Epoch 100/100\n",
      "23/23 [==============================] - 0s 9ms/step - loss: 4.4183e-05 - accuracy: 1.0000 - val_loss: 0.0810 - val_accuracy: 0.9826\n"
     ]
    }
   ],
   "source": [
    "mnist_cnn_model_history = mnist_cnn_model.fit(X_train , y_train , epochs=100  , batch_size = 50 , validation_split = 0.2 , verbose = 1)"
   ]
  },
  {
   "cell_type": "code",
   "execution_count": 28,
   "metadata": {},
   "outputs": [
    {
     "data": {
      "image/png": "[encoded data removed]",
      "text/plain": [
       "<Figure size 1440x720 with 1 Axes>"
      ]
     },
     "metadata": {
      "needs_background": "light"
     },
     "output_type": "display_data"
    }
   ],
   "source": [
    "plt.figure(figsize=(20,10))\n",
    "\n",
    "plt.plot(mnist_cnn_model_history.history['accuracy']    , 's-', label='acc')\n",
    "plt.plot(mnist_cnn_model_history.history['val_accuracy'], 'd-', label='val_acc')\n",
    "\n",
    "plt.legend(loc='best')\n",
    "plt.xticks(np.arange(100))\n",
    "plt.title('accuracy')\n",
    "\n",
    "plt.xlabel('Epoch')\n",
    "plt.ylabel('Accuracy')\n",
    "plt.show()\n",
    "plt.close()"
   ]
  },
  {
   "cell_type": "code",
   "execution_count": 29,
   "metadata": {},
   "outputs": [
    {
     "name": "stdout",
     "output_type": "stream",
     "text": [
      "12/12 [==============================] - 0s 14ms/step - loss: 0.1231 - accuracy: 0.9750\n"
     ]
    },
    {
     "data": {
      "text/plain": [
       "[0.12310900539159775, 0.9750000238418579]"
      ]
     },
     "execution_count": 29,
     "metadata": {},
     "output_type": "execute_result"
    }
   ],
   "source": [
    "mnist_cnn_model_eval = mnist_cnn_model.evaluate(X_test , y_test)\n",
    "mnist_cnn_model_eval"
   ]
  },
  {
   "cell_type": "markdown",
   "metadata": {},
   "source": [
    "mnist 이용한 CNN"
   ]
  },
  {
   "cell_type": "code",
   "execution_count": 30,
   "metadata": {
    "colab": {
     "base_uri": "https://localhost:8080/"
    },
    "id": "99lqFP3noo72",
    "outputId": "9c3b1c84-28e5-4363-cae5-bc8587c6b222"
   },
   "outputs": [
    {
     "data": {
      "text/plain": [
       "(((60000, 28, 28), (10000, 28, 28)), ((60000,), (10000,)))"
      ]
     },
     "execution_count": 30,
     "metadata": {},
     "output_type": "execute_result"
    }
   ],
   "source": [
    "(X_train,y_train),(X_test, y_test)= mnist.load_data()\n",
    "\n",
    "(X_train.shape, X_test.shape), (y_train.shape, y_test.shape)"
   ]
  },
  {
   "cell_type": "code",
   "execution_count": 31,
   "metadata": {
    "id": "SZG8MCAGwtG6"
   },
   "outputs": [],
   "source": [
    "X_train = X_train.reshape(X_train.shape[0] , X_train.shape[1] , X_train.shape[2], 1 )\n",
    "X_test = X_test.reshape(X_test.shape[0] , X_test.shape[1] , X_test.shape[2], 1 )"
   ]
  },
  {
   "cell_type": "code",
   "execution_count": 32,
   "metadata": {
    "colab": {
     "base_uri": "https://localhost:8080/"
    },
    "id": "jp7QVhtSxLlt",
    "outputId": "a8ac266a-9c39-442b-bcd8-cf68d887fd31"
   },
   "outputs": [
    {
     "data": {
      "text/plain": [
       "(((60000, 28, 28, 1), (60000,)), ((10000, 28, 28, 1), (10000,)))"
      ]
     },
     "execution_count": 32,
     "metadata": {},
     "output_type": "execute_result"
    }
   ],
   "source": [
    "(X_train.shape, y_train.shape) , (X_test.shape, y_test.shape)"
   ]
  },
  {
   "cell_type": "code",
   "execution_count": 33,
   "metadata": {
    "id": "LgojPZIcxWPu"
   },
   "outputs": [],
   "source": [
    "# 데이터 전처리 - \n",
    "\n",
    "X_train, X_test = X_train/255 , X_test/255"
   ]
  },
  {
   "cell_type": "code",
   "execution_count": 34,
   "metadata": {
    "colab": {
     "base_uri": "https://localhost:8080/"
    },
    "id": "GVB8pkBJxbLg",
    "outputId": "1aeed0a3-fb0a-40f3-d084-3d78f934c358"
   },
   "outputs": [],
   "source": [
    "\n",
    "mnist_cnn_model = Sequential()\n",
    "#1 \n",
    "mnist_cnn_model.add( Conv2D(input_shape = (X_train.shape[1],X_train.shape[2],X_train.shape[3]), \n",
    "                           filters = 32 , \n",
    "                           kernel_size= (3,3),\n",
    "                           strides = (1,1),\n",
    "                           padding = 'same' , activation= 'relu'))\n",
    "\n",
    "mnist_cnn_model.add(MaxPooling2D(pool_size=(2,2), padding='same'))\n",
    "\n",
    "#2\n",
    "mnist_cnn_model.add( Conv2D(input_shape = (X_train.shape[1],X_train.shape[2],X_train.shape[3]), \n",
    "                           filters = 64 , \n",
    "                           kernel_size= (3,3),\n",
    "                           strides = (1,1),\n",
    "                           padding = 'same' , activation= 'relu'))\n",
    "\n",
    "mnist_cnn_model.add(MaxPooling2D(pool_size=(2,2), padding='same'))\n",
    "#3 \n",
    "mnist_cnn_model.add( Conv2D(input_shape = (X_train.shape[1],X_train.shape[2],X_train.shape[3]), \n",
    "                           filters = 64 , \n",
    "                           kernel_size= (3,3),\n",
    "                           strides = (1,1),\n",
    "                           padding = 'same' , activation= 'relu'))\n",
    "\n",
    "mnist_cnn_model.add(MaxPooling2D(pool_size=(2,2), padding='same'))\n",
    "\n",
    "\n"
   ]
  },
  {
   "cell_type": "code",
   "execution_count": 35,
   "metadata": {},
   "outputs": [
    {
     "data": {
      "text/plain": [
       "(None, 4, 4, 64)"
      ]
     },
     "execution_count": 35,
     "metadata": {},
     "output_type": "execute_result"
    }
   ],
   "source": [
    "# CNN 입력층 생성 \n",
    "mnist_cnn_model.output_shape"
   ]
  },
  {
   "cell_type": "markdown",
   "metadata": {},
   "source": [
    "feature extraction - "
   ]
  },
  {
   "cell_type": "code",
   "execution_count": 36,
   "metadata": {
    "colab": {
     "base_uri": "https://localhost:8080/"
    },
    "id": "j1ywVGUFzpMQ",
    "outputId": "306512c9-60ac-42c8-da2e-42e56137c719"
   },
   "outputs": [
    {
     "name": "stdout",
     "output_type": "stream",
     "text": [
      "Dense 층 추가 - \n"
     ]
    }
   ],
   "source": [
    "print('Dense 층 추가 - ')\n",
    "mnist_cnn_model.add( Flatten() )\n",
    "mnist_cnn_model.add( Dense(units = 512) )\n",
    "mnist_cnn_model.add( Activation('relu') )\n",
    "mnist_cnn_model.add( Dense(units = 256) )\n",
    "mnist_cnn_model.add( Activation('relu') )\n",
    "mnist_cnn_model.add( Dense(units = 128) )\n",
    "mnist_cnn_model.add( Activation('relu') )\n",
    "mnist_cnn_model.add( Dense(units = 64) )\n",
    "mnist_cnn_model.add( Activation('relu') )\n",
    "\n",
    "mnist_cnn_model.add( Dense(units = 10) )\n",
    "mnist_cnn_model.add( Activation('softmax') )\n",
    "\n",
    "\n",
    "# mnist_cnn_model.output_shape"
   ]
  },
  {
   "cell_type": "code",
   "execution_count": 37,
   "metadata": {
    "colab": {
     "base_uri": "https://localhost:8080/"
    },
    "id": "SuzpX6850V4n",
    "outputId": "beb44f4c-4512-4913-c6e8-d19d797b984c"
   },
   "outputs": [
    {
     "name": "stdout",
     "output_type": "stream",
     "text": [
      "Model: \"sequential_2\"\n",
      "_________________________________________________________________\n",
      " Layer (type)                Output Shape              Param #   \n",
      "=================================================================\n",
      " conv2d_2 (Conv2D)           (None, 28, 28, 32)        320       \n",
      "                                                                 \n",
      " max_pooling2d_1 (MaxPooling  (None, 14, 14, 32)       0         \n",
      " 2D)                                                             \n",
      "                                                                 \n",
      " conv2d_3 (Conv2D)           (None, 14, 14, 64)        18496     \n",
      "                                                                 \n",
      " max_pooling2d_2 (MaxPooling  (None, 7, 7, 64)         0         \n",
      " 2D)                                                             \n",
      "                                                                 \n",
      " conv2d_4 (Conv2D)           (None, 7, 7, 64)          36928     \n",
      "                                                                 \n",
      " max_pooling2d_3 (MaxPooling  (None, 4, 4, 64)         0         \n",
      " 2D)                                                             \n",
      "                                                                 \n",
      " flatten_1 (Flatten)         (None, 1024)              0         \n",
      "                                                                 \n",
      " dense_2 (Dense)             (None, 512)               524800    \n",
      "                                                                 \n",
      " activation (Activation)     (None, 512)               0         \n",
      "                                                                 \n",
      " dense_3 (Dense)             (None, 256)               131328    \n",
      "                                                                 \n",
      " activation_1 (Activation)   (None, 256)               0         \n",
      "                                                                 \n",
      " dense_4 (Dense)             (None, 128)               32896     \n",
      "                                                                 \n",
      " activation_2 (Activation)   (None, 128)               0         \n",
      "                                                                 \n",
      " dense_5 (Dense)             (None, 64)                8256      \n",
      "                                                                 \n",
      " activation_3 (Activation)   (None, 64)                0         \n",
      "                                                                 \n",
      " dense_6 (Dense)             (None, 10)                650       \n",
      "                                                                 \n",
      " activation_4 (Activation)   (None, 10)                0         \n",
      "                                                                 \n",
      "=================================================================\n",
      "Total params: 753,674\n",
      "Trainable params: 753,674\n",
      "Non-trainable params: 0\n",
      "_________________________________________________________________\n"
     ]
    }
   ],
   "source": [
    "mnist_cnn_model.summary()"
   ]
  },
  {
   "cell_type": "code",
   "execution_count": 38,
   "metadata": {
    "id": "GIFKe5NpxbhN"
   },
   "outputs": [],
   "source": [
    "mnist_cnn_model.compile(optimizer = Adam(learning_rate = 0.01), \n",
    "                      loss= 'sparse_categorical_crossentropy' , \n",
    "                      metrics=['accuracy'] ) "
   ]
  },
  {
   "cell_type": "code",
   "execution_count": 39,
   "metadata": {
    "colab": {
     "base_uri": "https://localhost:8080/"
    },
    "id": "j3pmYPyXxbj4",
    "outputId": "0ce8c058-b94a-4165-c7f5-01752df375ff"
   },
   "outputs": [
    {
     "name": "stdout",
     "output_type": "stream",
     "text": [
      "Epoch 1/12\n"
     ]
    },
    {
     "name": "stderr",
     "output_type": "stream",
     "text": [
      "2022-04-28 15:59:56.484329: I tensorflow/core/grappler/optimizers/custom_graph_optimizer_registry.cc:113] Plugin optimizer for device_type GPU is enabled.\n"
     ]
    },
    {
     "name": "stdout",
     "output_type": "stream",
     "text": [
      "960/960 [==============================] - ETA: 0s - loss: 0.4912 - accuracy: 0.8371"
     ]
    },
    {
     "name": "stderr",
     "output_type": "stream",
     "text": [
      "2022-04-28 16:00:08.165435: I tensorflow/core/grappler/optimizers/custom_graph_optimizer_registry.cc:113] Plugin optimizer for device_type GPU is enabled.\n"
     ]
    },
    {
     "name": "stdout",
     "output_type": "stream",
     "text": [
      "960/960 [==============================] - 13s 12ms/step - loss: 0.4912 - accuracy: 0.8371 - val_loss: 0.1925 - val_accuracy: 0.9471\n",
      "Epoch 2/12\n",
      "960/960 [==============================] - 11s 12ms/step - loss: 0.2136 - accuracy: 0.9433 - val_loss: 0.1973 - val_accuracy: 0.9495\n",
      "Epoch 3/12\n",
      "960/960 [==============================] - 12s 12ms/step - loss: 0.2109 - accuracy: 0.9460 - val_loss: 0.2037 - val_accuracy: 0.9449\n",
      "Epoch 4/12\n",
      "960/960 [==============================] - 12s 12ms/step - loss: 0.1889 - accuracy: 0.9524 - val_loss: 0.1661 - val_accuracy: 0.9577\n",
      "Epoch 5/12\n",
      "960/960 [==============================] - 12s 12ms/step - loss: 0.1755 - accuracy: 0.9553 - val_loss: 0.2090 - val_accuracy: 0.9489\n",
      "Epoch 6/12\n",
      "960/960 [==============================] - 12s 12ms/step - loss: 0.1892 - accuracy: 0.9525 - val_loss: 0.1903 - val_accuracy: 0.9499\n",
      "Epoch 7/12\n",
      "960/960 [==============================] - 11s 12ms/step - loss: 0.2049 - accuracy: 0.9507 - val_loss: 0.1630 - val_accuracy: 0.9597\n",
      "Epoch 8/12\n",
      "960/960 [==============================] - 11s 12ms/step - loss: 0.1879 - accuracy: 0.9544 - val_loss: 0.1912 - val_accuracy: 0.9535\n",
      "Epoch 9/12\n",
      "960/960 [==============================] - 11s 12ms/step - loss: 0.1869 - accuracy: 0.9543 - val_loss: 0.2025 - val_accuracy: 0.9522\n",
      "Epoch 10/12\n",
      "960/960 [==============================] - 11s 12ms/step - loss: 0.1975 - accuracy: 0.9506 - val_loss: 0.1742 - val_accuracy: 0.9601\n",
      "Epoch 11/12\n",
      "960/960 [==============================] - 11s 12ms/step - loss: 0.2355 - accuracy: 0.9443 - val_loss: 0.3339 - val_accuracy: 0.9228\n",
      "Epoch 12/12\n",
      "960/960 [==============================] - 11s 12ms/step - loss: 0.2351 - accuracy: 0.9451 - val_loss: 0.2149 - val_accuracy: 0.9476\n"
     ]
    }
   ],
   "source": [
    "mnist_cnn_model_history = mnist_cnn_model.fit(X_train , y_train , epochs=12  , batch_size = 50 , validation_split = 0.2 , verbose = 1)"
   ]
  },
  {
   "cell_type": "code",
   "execution_count": 40,
   "metadata": {
    "id": "q1tJARHSxbmW"
   },
   "outputs": [
    {
     "name": "stderr",
     "output_type": "stream",
     "text": [
      "2022-04-28 16:02:15.594455: I tensorflow/core/grappler/optimizers/custom_graph_optimizer_registry.cc:113] Plugin optimizer for device_type GPU is enabled.\n"
     ]
    },
    {
     "name": "stdout",
     "output_type": "stream",
     "text": [
      "313/313 [==============================] - 2s 6ms/step - loss: 0.2142 - accuracy: 0.9443\n"
     ]
    },
    {
     "data": {
      "text/plain": [
       "[0.21424172818660736, 0.9443000555038452]"
      ]
     },
     "execution_count": 40,
     "metadata": {},
     "output_type": "execute_result"
    }
   ],
   "source": [
    "mnist_cnn_model_eval = mnist_cnn_model.evaluate(X_test, y_test)\n",
    "mnist_cnn_model_eval"
   ]
  },
  {
   "cell_type": "code",
   "execution_count": 41,
   "metadata": {
    "id": "lcWnY97IxbrG"
   },
   "outputs": [
    {
     "name": "stdout",
     "output_type": "stream",
     "text": [
      "모델 저장\n"
     ]
    },
    {
     "name": "stderr",
     "output_type": "stream",
     "text": [
      "2022-04-28 16:02:18.173885: W tensorflow/python/util/util.cc:368] Sets are not currently considered sequences, but this may change in the future, so consider avoiding using them.\n"
     ]
    },
    {
     "name": "stdout",
     "output_type": "stream",
     "text": [
      "INFO:tensorflow:Assets written to: model-case.h12/assets\n"
     ]
    }
   ],
   "source": [
    "print('모델 저장')\n",
    "mnist_cnn_model.save('model-case.h12')"
   ]
  },
  {
   "cell_type": "code",
   "execution_count": 44,
   "metadata": {
    "id": "XPV6nP-Q3Juz"
   },
   "outputs": [
    {
     "name": "stdout",
     "output_type": "stream",
     "text": [
      "모델 복원\n",
      "Model: \"sequential_2\"\n",
      "_________________________________________________________________\n",
      " Layer (type)                Output Shape              Param #   \n",
      "=================================================================\n",
      " conv2d_2 (Conv2D)           (None, 28, 28, 32)        320       \n",
      "                                                                 \n",
      " max_pooling2d_1 (MaxPooling  (None, 14, 14, 32)       0         \n",
      " 2D)                                                             \n",
      "                                                                 \n",
      " conv2d_3 (Conv2D)           (None, 14, 14, 64)        18496     \n",
      "                                                                 \n",
      " max_pooling2d_2 (MaxPooling  (None, 7, 7, 64)         0         \n",
      " 2D)                                                             \n",
      "                                                                 \n",
      " conv2d_4 (Conv2D)           (None, 7, 7, 64)          36928     \n",
      "                                                                 \n",
      " max_pooling2d_3 (MaxPooling  (None, 4, 4, 64)         0         \n",
      " 2D)                                                             \n",
      "                                                                 \n",
      " flatten_1 (Flatten)         (None, 1024)              0         \n",
      "                                                                 \n",
      " dense_2 (Dense)             (None, 512)               524800    \n",
      "                                                                 \n",
      " activation (Activation)     (None, 512)               0         \n",
      "                                                                 \n",
      " dense_3 (Dense)             (None, 256)               131328    \n",
      "                                                                 \n",
      " activation_1 (Activation)   (None, 256)               0         \n",
      "                                                                 \n",
      " dense_4 (Dense)             (None, 128)               32896     \n",
      "                                                                 \n",
      " activation_2 (Activation)   (None, 128)               0         \n",
      "                                                                 \n",
      " dense_5 (Dense)             (None, 64)                8256      \n",
      "                                                                 \n",
      " activation_3 (Activation)   (None, 64)                0         \n",
      "                                                                 \n",
      " dense_6 (Dense)             (None, 10)                650       \n",
      "                                                                 \n",
      " activation_4 (Activation)   (None, 10)                0         \n",
      "                                                                 \n",
      "=================================================================\n",
      "Total params: 753,674\n",
      "Trainable params: 753,674\n",
      "Non-trainable params: 0\n",
      "_________________________________________________________________\n"
     ]
    }
   ],
   "source": [
    "print('모델 복원')\n",
    "loaded_model = load_model('model-case.h12')\n",
    "loaded_model.summary()"
   ]
  },
  {
   "cell_type": "code",
   "execution_count": 45,
   "metadata": {
    "id": "aXZgZYJi3Jxa"
   },
   "outputs": [
    {
     "name": "stdout",
     "output_type": "stream",
     "text": [
      " 19/313 [>.............................] - ETA: 1s - loss: 0.1793 - accuracy: 0.9507"
     ]
    },
    {
     "name": "stderr",
     "output_type": "stream",
     "text": [
      "2022-04-28 16:30:39.564160: I tensorflow/core/grappler/optimizers/custom_graph_optimizer_registry.cc:113] Plugin optimizer for device_type GPU is enabled.\n"
     ]
    },
    {
     "name": "stdout",
     "output_type": "stream",
     "text": [
      "313/313 [==============================] - 2s 6ms/step - loss: 0.2142 - accuracy: 0.9443\n",
      "loss -  0.21424172818660736\n",
      "acc  -  0.9443000555038452\n"
     ]
    }
   ],
   "source": [
    "loss , acc = loaded_model.evaluate(X_test , y_test)\n",
    "print('loss - ' , loss)\n",
    "print('acc  - ' , acc)"
   ]
  },
  {
   "cell_type": "code",
   "execution_count": null,
   "metadata": {},
   "outputs": [],
   "source": []
  },
  {
   "cell_type": "markdown",
   "metadata": {},
   "source": [
    "이미지 분류 (horse-or-human)"
   ]
  },
  {
   "cell_type": "code",
   "execution_count": 46,
   "metadata": {},
   "outputs": [
    {
     "name": "stdout",
     "output_type": "stream",
     "text": [
      "데이터 세트 경로 - \n"
     ]
    }
   ],
   "source": [
    "import os \n",
    "print('데이터 세트 경로 - ')\n",
    "train_horse_dir = '/Users/book/Downloads/horse-or-human/horses'\n",
    "train_human_dir = '/Users/book/Downloads/horse-or-human/humans'"
   ]
  },
  {
   "cell_type": "code",
   "execution_count": 47,
   "metadata": {},
   "outputs": [],
   "source": [
    "train_horse_fileName = os.listdir(train_horse_dir)\n",
    "train_human_fileName = os.listdir(train_human_dir)"
   ]
  },
  {
   "cell_type": "code",
   "execution_count": 48,
   "metadata": {},
   "outputs": [
    {
     "data": {
      "text/plain": [
       "['horse43-5.png',\n",
       " 'horse06-5.png',\n",
       " 'horse20-6.png',\n",
       " 'horse04-7.png',\n",
       " 'horse41-7.png',\n",
       " 'horse22-4.png',\n",
       " 'horse19-2.png',\n",
       " 'horse24-2.png',\n",
       " 'horse37-8.png',\n",
       " 'horse02-1.png']"
      ]
     },
     "execution_count": 48,
     "metadata": {},
     "output_type": "execute_result"
    }
   ],
   "source": [
    "train_horse_fileName[0:10]"
   ]
  },
  {
   "cell_type": "code",
   "execution_count": 49,
   "metadata": {},
   "outputs": [
    {
     "data": {
      "text/plain": [
       "['human17-22.png',\n",
       " 'human10-17.png',\n",
       " 'human10-03.png',\n",
       " 'human07-27.png',\n",
       " 'human09-22.png',\n",
       " 'human05-22.png',\n",
       " 'human02-03.png',\n",
       " 'human02-17.png',\n",
       " 'human15-27.png',\n",
       " 'human12-12.png']"
      ]
     },
     "execution_count": 49,
     "metadata": {},
     "output_type": "execute_result"
    }
   ],
   "source": [
    "train_human_fileName[0:10]"
   ]
  },
  {
   "cell_type": "code",
   "execution_count": 50,
   "metadata": {},
   "outputs": [
    {
     "name": "stdout",
     "output_type": "stream",
     "text": [
      "총 이미지 갯수 - \n",
      "horse len -  500\n",
      "human len -  527\n"
     ]
    }
   ],
   "source": [
    "print('총 이미지 갯수 - ')\n",
    "print('horse len - ' , len(train_horse_fileName))\n",
    "print('human len - ' , len(train_human_fileName))\n",
    "\n",
    "# 'C:/Users/crid2/ml-data/horse-or-human' "
   ]
  },
  {
   "cell_type": "code",
   "execution_count": 51,
   "metadata": {},
   "outputs": [
    {
     "name": "stdout",
     "output_type": "stream",
     "text": [
      "Found 1027 images belonging to 2 classes.\n"
     ]
    }
   ],
   "source": [
    "train_img_generator = ImageDataGenerator(rescale=1/255)\n",
    "train_generator = train_img_generator.flow_from_directory(\n",
    "    '/Users/book/Downloads/horse-or-human' , \n",
    "    target_size = (300, 300) , \n",
    "    batch_size  = 128 ,\n",
    "    class_mode = 'binary'\n",
    ")"
   ]
  },
  {
   "cell_type": "code",
   "execution_count": 52,
   "metadata": {},
   "outputs": [],
   "source": [
    "def img_model() :\n",
    "  img_model = Sequential()\n",
    "\n",
    "  img_model.add( Conv2D(input_shape = (300, 300, 3) , filters = 16 , kernel_size = (3,3) , strides = (1,1) , padding = 'valid') )\n",
    "  img_model.add( Activation('relu'))\n",
    "  img_model.add( MaxPooling2D(pool_size = (2,2) , padding = 'valid' ) )\n",
    "  img_model.add( Dropout(0.25) )\n",
    "      \n",
    "  img_model.add( Conv2D(filters = 32 , kernel_size = (3,3) , strides = (1,1) , padding = 'valid') )\n",
    "  img_model.add( Activation('relu'))\n",
    "  img_model.add( MaxPooling2D(pool_size = (2,2) , padding = 'valid' ) )\n",
    "  img_model.add( Dropout(0.25) )\n",
    "\n",
    "  img_model.add( Conv2D(filters = 64 , kernel_size = (3,3) , strides = (1,1) , padding = 'valid') )\n",
    "  img_model.add( Activation('relu'))\n",
    "  img_model.add( MaxPooling2D(pool_size = (2,2) , padding = 'valid' ) )\n",
    "  img_model.add( Dropout(0.25) )\n",
    "\n",
    "  img_model.add( Conv2D(filters = 64 , kernel_size = (3,3) , strides = (1,1) , padding = 'valid') )\n",
    "  img_model.add( Activation('relu'))\n",
    "  img_model.add( MaxPooling2D(pool_size = (2,2) , padding = 'valid' ) )\n",
    "  img_model.add( Dropout(0.25) )\n",
    "\n",
    "  img_model.add( Flatten() )\n",
    "  img_model.add( Dense(units = 512) )\n",
    "  img_model.add( Activation('relu') )\n",
    "  img_model.add( Dropout(0.25) )\n",
    "  \n",
    "  img_model.add( Dense(units = 1) )\n",
    "  img_model.add( Activation('sigmoid') )\n",
    "\n",
    "  return img_model "
   ]
  },
  {
   "cell_type": "code",
   "execution_count": 53,
   "metadata": {},
   "outputs": [
    {
     "name": "stdout",
     "output_type": "stream",
     "text": [
      "Model: \"sequential_3\"\n",
      "_________________________________________________________________\n",
      " Layer (type)                Output Shape              Param #   \n",
      "=================================================================\n",
      " conv2d_5 (Conv2D)           (None, 298, 298, 16)      448       \n",
      "                                                                 \n",
      " activation_5 (Activation)   (None, 298, 298, 16)      0         \n",
      "                                                                 \n",
      " max_pooling2d_4 (MaxPooling  (None, 149, 149, 16)     0         \n",
      " 2D)                                                             \n",
      "                                                                 \n",
      " dropout (Dropout)           (None, 149, 149, 16)      0         \n",
      "                                                                 \n",
      " conv2d_6 (Conv2D)           (None, 147, 147, 32)      4640      \n",
      "                                                                 \n",
      " activation_6 (Activation)   (None, 147, 147, 32)      0         \n",
      "                                                                 \n",
      " max_pooling2d_5 (MaxPooling  (None, 73, 73, 32)       0         \n",
      " 2D)                                                             \n",
      "                                                                 \n",
      " dropout_1 (Dropout)         (None, 73, 73, 32)        0         \n",
      "                                                                 \n",
      " conv2d_7 (Conv2D)           (None, 71, 71, 64)        18496     \n",
      "                                                                 \n",
      " activation_7 (Activation)   (None, 71, 71, 64)        0         \n",
      "                                                                 \n",
      " max_pooling2d_6 (MaxPooling  (None, 35, 35, 64)       0         \n",
      " 2D)                                                             \n",
      "                                                                 \n",
      " dropout_2 (Dropout)         (None, 35, 35, 64)        0         \n",
      "                                                                 \n",
      " conv2d_8 (Conv2D)           (None, 33, 33, 64)        36928     \n",
      "                                                                 \n",
      " activation_8 (Activation)   (None, 33, 33, 64)        0         \n",
      "                                                                 \n",
      " max_pooling2d_7 (MaxPooling  (None, 16, 16, 64)       0         \n",
      " 2D)                                                             \n",
      "                                                                 \n",
      " dropout_3 (Dropout)         (None, 16, 16, 64)        0         \n",
      "                                                                 \n",
      " flatten_2 (Flatten)         (None, 16384)             0         \n",
      "                                                                 \n",
      " dense_7 (Dense)             (None, 512)               8389120   \n",
      "                                                                 \n",
      " activation_9 (Activation)   (None, 512)               0         \n",
      "                                                                 \n",
      " dropout_4 (Dropout)         (None, 512)               0         \n",
      "                                                                 \n",
      " dense_8 (Dense)             (None, 1)                 513       \n",
      "                                                                 \n",
      " activation_10 (Activation)  (None, 1)                 0         \n",
      "                                                                 \n",
      "=================================================================\n",
      "Total params: 8,450,145\n",
      "Trainable params: 8,450,145\n",
      "Non-trainable params: 0\n",
      "_________________________________________________________________\n"
     ]
    }
   ],
   "source": [
    "model = img_model()\n",
    "model.summary()"
   ]
  },
  {
   "cell_type": "code",
   "execution_count": 54,
   "metadata": {},
   "outputs": [
    {
     "name": "stderr",
     "output_type": "stream",
     "text": [
      "/Users/book/miniforge3/lib/python3.9/site-packages/keras/optimizer_v2/rmsprop.py:130: UserWarning: The `lr` argument is deprecated, use `learning_rate` instead.\n",
      "  super(RMSprop, self).__init__(name, **kwargs)\n"
     ]
    }
   ],
   "source": [
    "model.compile(optimizer = RMSprop(lr = 0.001), \n",
    "                      loss= 'binary_crossentropy' , \n",
    "                      metrics=['accuracy'] ) "
   ]
  },
  {
   "cell_type": "code",
   "execution_count": 55,
   "metadata": {},
   "outputs": [
    {
     "name": "stdout",
     "output_type": "stream",
     "text": [
      "Epoch 1/15\n"
     ]
    },
    {
     "name": "stderr",
     "output_type": "stream",
     "text": [
      "2022-04-28 16:30:52.495860: I tensorflow/core/grappler/optimizers/custom_graph_optimizer_registry.cc:113] Plugin optimizer for device_type GPU is enabled.\n"
     ]
    },
    {
     "name": "stdout",
     "output_type": "stream",
     "text": [
      "8/8 [==============================] - 10s 947ms/step - loss: 1.9649 - accuracy: 0.4872\n",
      "Epoch 2/15\n",
      "8/8 [==============================] - 7s 833ms/step - loss: 0.7046 - accuracy: 0.5484\n",
      "Epoch 3/15\n",
      "8/8 [==============================] - 7s 825ms/step - loss: 0.7985 - accuracy: 0.6240\n",
      "Epoch 4/15\n",
      "8/8 [==============================] - 7s 827ms/step - loss: 0.6274 - accuracy: 0.6385\n",
      "Epoch 5/15\n",
      "8/8 [==============================] - 7s 825ms/step - loss: 0.5312 - accuracy: 0.7475\n",
      "Epoch 6/15\n",
      "8/8 [==============================] - 7s 826ms/step - loss: 0.5140 - accuracy: 0.7653\n",
      "Epoch 7/15\n",
      "8/8 [==============================] - 7s 827ms/step - loss: 0.6030 - accuracy: 0.7976\n",
      "Epoch 8/15\n",
      "8/8 [==============================] - 7s 832ms/step - loss: 0.3508 - accuracy: 0.8498\n",
      "Epoch 9/15\n",
      "8/8 [==============================] - 7s 843ms/step - loss: 0.3824 - accuracy: 0.8776\n",
      "Epoch 10/15\n",
      "8/8 [==============================] - 7s 821ms/step - loss: 0.2048 - accuracy: 0.9266\n",
      "Epoch 11/15\n",
      "8/8 [==============================] - 7s 844ms/step - loss: 0.1460 - accuracy: 0.9488\n",
      "Epoch 12/15\n",
      "8/8 [==============================] - 7s 829ms/step - loss: 0.1834 - accuracy: 0.9333\n",
      "Epoch 13/15\n",
      "8/8 [==============================] - 7s 827ms/step - loss: 0.0394 - accuracy: 0.9855\n",
      "Epoch 14/15\n",
      "8/8 [==============================] - 7s 937ms/step - loss: 0.0224 - accuracy: 0.9900\n",
      "Epoch 15/15\n",
      "8/8 [==============================] - 7s 941ms/step - loss: 0.5739 - accuracy: 0.8320\n"
     ]
    }
   ],
   "source": [
    "model_history = model.fit(train_generator , epochs = 15 , verbose = 1 , steps_per_epoch = 8 )"
   ]
  },
  {
   "cell_type": "code",
   "execution_count": 56,
   "metadata": {},
   "outputs": [
    {
     "name": "stderr",
     "output_type": "stream",
     "text": [
      "/Users/book/miniforge3/lib/python3.9/site-packages/google/colab/data_table.py:30: UserWarning: IPython.utils.traitlets has moved to a top-level traitlets package.\n",
      "  from IPython.utils import traitlets as _traitlets\n"
     ]
    },
    {
     "data": {
      "text/html": [
       "\n",
       "     <input type=\"file\" id=\"files-8a3172c7-fb85-454b-a5f1-adc135c4d255\" name=\"files[]\" multiple disabled />\n",
       "     <output id=\"result-8a3172c7-fb85-454b-a5f1-adc135c4d255\">\n",
       "      Upload widget is only available when the cell has been executed in the\n",
       "      current browser session. Please rerun this cell to enable.\n",
       "      </output>\n",
       "      <script src=\"/nbextensions/google.colab/files.js\"></script> "
      ],
      "text/plain": [
       "<IPython.core.display.HTML object>"
      ]
     },
     "metadata": {},
     "output_type": "display_data"
    },
    {
     "ename": "KeyboardInterrupt",
     "evalue": "",
     "output_type": "error",
     "traceback": [
      "\u001b[0;31m---------------------------------------------------------------------------\u001b[0m",
      "\u001b[0;31mKeyboardInterrupt\u001b[0m                         Traceback (most recent call last)",
      "Input \u001b[0;32mIn [56]\u001b[0m, in \u001b[0;36m<cell line: 3>\u001b[0;34m()\u001b[0m\n\u001b[1;32m      1\u001b[0m \u001b[38;5;28;01mfrom\u001b[39;00m \u001b[38;5;21;01mgoogle\u001b[39;00m\u001b[38;5;21;01m.\u001b[39;00m\u001b[38;5;21;01mcolab\u001b[39;00m \u001b[38;5;28;01mimport\u001b[39;00m files\n\u001b[0;32m----> 3\u001b[0m upload_img \u001b[38;5;241m=\u001b[39m \u001b[43mfiles\u001b[49m\u001b[38;5;241;43m.\u001b[39;49m\u001b[43mupload\u001b[49m\u001b[43m(\u001b[49m\u001b[43m)\u001b[49m\n\u001b[1;32m      4\u001b[0m \u001b[38;5;28mprint\u001b[39m(upload_img)\n\u001b[1;32m      5\u001b[0m \u001b[38;5;28mprint\u001b[39m(upload_img\u001b[38;5;241m.\u001b[39mkeys())\n",
      "File \u001b[0;32m~/miniforge3/lib/python3.9/site-packages/google/colab/files.py:62\u001b[0m, in \u001b[0;36mupload\u001b[0;34m()\u001b[0m\n\u001b[1;32m     51\u001b[0m _IPython\u001b[38;5;241m.\u001b[39mdisplay\u001b[38;5;241m.\u001b[39mdisplay(\n\u001b[1;32m     52\u001b[0m     _IPython\u001b[38;5;241m.\u001b[39mcore\u001b[38;5;241m.\u001b[39mdisplay\u001b[38;5;241m.\u001b[39mHTML(\u001b[38;5;124m\"\"\"\u001b[39m\n\u001b[1;32m     53\u001b[0m \u001b[38;5;124m   <input type=\u001b[39m\u001b[38;5;124m\"\u001b[39m\u001b[38;5;124mfile\u001b[39m\u001b[38;5;124m\"\u001b[39m\u001b[38;5;124m id=\u001b[39m\u001b[38;5;124m\"\u001b[39m\u001b[38;5;132;01m{input_id}\u001b[39;00m\u001b[38;5;124m\"\u001b[39m\u001b[38;5;124m name=\u001b[39m\u001b[38;5;124m\"\u001b[39m\u001b[38;5;124mfiles[]\u001b[39m\u001b[38;5;124m\"\u001b[39m\u001b[38;5;124m multiple disabled />\u001b[39m\n\u001b[0;32m   (...)\u001b[0m\n\u001b[1;32m     58\u001b[0m \u001b[38;5;124m    <script src=\u001b[39m\u001b[38;5;124m\"\u001b[39m\u001b[38;5;124m/nbextensions/google.colab/files.js\u001b[39m\u001b[38;5;124m\"\u001b[39m\u001b[38;5;124m></script> \u001b[39m\u001b[38;5;124m\"\"\"\u001b[39m\u001b[38;5;241m.\u001b[39mformat(\n\u001b[1;32m     59\u001b[0m         input_id\u001b[38;5;241m=\u001b[39minput_id, output_id\u001b[38;5;241m=\u001b[39moutput_id)))\n\u001b[1;32m     61\u001b[0m \u001b[38;5;66;03m# First result is always an indication that the file picker has completed.\u001b[39;00m\n\u001b[0;32m---> 62\u001b[0m result \u001b[38;5;241m=\u001b[39m \u001b[43m_output\u001b[49m\u001b[38;5;241;43m.\u001b[39;49m\u001b[43meval_js\u001b[49m\u001b[43m(\u001b[49m\n\u001b[1;32m     63\u001b[0m \u001b[43m    \u001b[49m\u001b[38;5;124;43m'\u001b[39;49m\u001b[38;5;124;43mgoogle.colab._files._uploadFiles(\u001b[39;49m\u001b[38;5;124;43m\"\u001b[39;49m\u001b[38;5;132;43;01m{input_id}\u001b[39;49;00m\u001b[38;5;124;43m\"\u001b[39;49m\u001b[38;5;124;43m, \u001b[39;49m\u001b[38;5;124;43m\"\u001b[39;49m\u001b[38;5;132;43;01m{output_id}\u001b[39;49;00m\u001b[38;5;124;43m\"\u001b[39;49m\u001b[38;5;124;43m)\u001b[39;49m\u001b[38;5;124;43m'\u001b[39;49m\u001b[38;5;241;43m.\u001b[39;49m\u001b[43mformat\u001b[49m\u001b[43m(\u001b[49m\n\u001b[1;32m     64\u001b[0m \u001b[43m        \u001b[49m\u001b[43minput_id\u001b[49m\u001b[38;5;241;43m=\u001b[39;49m\u001b[43minput_id\u001b[49m\u001b[43m,\u001b[49m\u001b[43m \u001b[49m\u001b[43moutput_id\u001b[49m\u001b[38;5;241;43m=\u001b[39;49m\u001b[43moutput_id\u001b[49m\u001b[43m)\u001b[49m\u001b[43m)\u001b[49m\n\u001b[1;32m     65\u001b[0m files \u001b[38;5;241m=\u001b[39m _collections\u001b[38;5;241m.\u001b[39mdefaultdict(_six\u001b[38;5;241m.\u001b[39mbinary_type)\n\u001b[1;32m     66\u001b[0m \u001b[38;5;66;03m# Mapping from original filename to filename as saved locally.\u001b[39;00m\n",
      "File \u001b[0;32m~/miniforge3/lib/python3.9/site-packages/google/colab/output/_js.py:39\u001b[0m, in \u001b[0;36meval_js\u001b[0;34m(script, ignore_result)\u001b[0m\n\u001b[1;32m     37\u001b[0m \u001b[38;5;28;01mif\u001b[39;00m ignore_result:\n\u001b[1;32m     38\u001b[0m   \u001b[38;5;28;01mreturn\u001b[39;00m\n\u001b[0;32m---> 39\u001b[0m \u001b[38;5;28;01mreturn\u001b[39;00m \u001b[43m_message\u001b[49m\u001b[38;5;241;43m.\u001b[39;49m\u001b[43mread_reply_from_input\u001b[49m\u001b[43m(\u001b[49m\u001b[43mrequest_id\u001b[49m\u001b[43m)\u001b[49m\n",
      "File \u001b[0;32m~/miniforge3/lib/python3.9/site-packages/google/colab/_message.py:101\u001b[0m, in \u001b[0;36mread_reply_from_input\u001b[0;34m(message_id, timeout_sec)\u001b[0m\n\u001b[1;32m     99\u001b[0m reply \u001b[38;5;241m=\u001b[39m _read_next_input_message()\n\u001b[1;32m    100\u001b[0m \u001b[38;5;28;01mif\u001b[39;00m reply \u001b[38;5;241m==\u001b[39m _NOT_READY \u001b[38;5;129;01mor\u001b[39;00m \u001b[38;5;129;01mnot\u001b[39;00m \u001b[38;5;28misinstance\u001b[39m(reply, \u001b[38;5;28mdict\u001b[39m):\n\u001b[0;32m--> 101\u001b[0m   \u001b[43mtime\u001b[49m\u001b[38;5;241;43m.\u001b[39;49m\u001b[43msleep\u001b[49m\u001b[43m(\u001b[49m\u001b[38;5;241;43m0.025\u001b[39;49m\u001b[43m)\u001b[49m\n\u001b[1;32m    102\u001b[0m   \u001b[38;5;28;01mcontinue\u001b[39;00m\n\u001b[1;32m    103\u001b[0m \u001b[38;5;28;01mif\u001b[39;00m (reply\u001b[38;5;241m.\u001b[39mget(\u001b[38;5;124m'\u001b[39m\u001b[38;5;124mtype\u001b[39m\u001b[38;5;124m'\u001b[39m) \u001b[38;5;241m==\u001b[39m \u001b[38;5;124m'\u001b[39m\u001b[38;5;124mcolab_reply\u001b[39m\u001b[38;5;124m'\u001b[39m \u001b[38;5;129;01mand\u001b[39;00m\n\u001b[1;32m    104\u001b[0m     reply\u001b[38;5;241m.\u001b[39mget(\u001b[38;5;124m'\u001b[39m\u001b[38;5;124mcolab_msg_id\u001b[39m\u001b[38;5;124m'\u001b[39m) \u001b[38;5;241m==\u001b[39m message_id):\n",
      "\u001b[0;31mKeyboardInterrupt\u001b[0m: "
     ]
    }
   ],
   "source": [
    "from google.colab import files\n",
    "\n",
    "upload_img = files.upload()\n",
    "print(upload_img)\n",
    "print(upload_img.keys())\n",
    "\n",
    "for fn in upload_img.keys() :\n",
    "  print('file name - ' , fn )\n",
    "  path = '/content/'+fn\n",
    "  img = image.load_img(path , target_size = (300, 300))\n",
    "  x   = image.img_to_array(img) \n",
    "  x   = np.expand_dims(x , axis = 0 ) \n",
    "  image_ = np.vstack([x])\n",
    "\n",
    "  classes = model.predict(image_ , batch_size = 10 ) \n",
    "  print('pred - ' , classes[0])\n",
    "print('예측하기 - ')\n"
   ]
  },
  {
   "cell_type": "code",
   "execution_count": null,
   "metadata": {},
   "outputs": [],
   "source": []
  },
  {
   "cell_type": "code",
   "execution_count": null,
   "metadata": {},
   "outputs": [],
   "source": []
  },
  {
   "cell_type": "code",
   "execution_count": 57,
   "metadata": {},
   "outputs": [
    {
     "name": "stdout",
     "output_type": "stream",
     "text": [
      "zsh:1: command not found: wget\r\n"
     ]
    }
   ],
   "source": [
    "!wget --no-check-certificate \\\n",
    "https://storage.googleapis.com/mledu-datasets/cats_and_dogs_filtered.zip \\\n",
    "-O /downloads/cats_and_dogs_filtered.zip\n"
   ]
  },
  {
   "cell_type": "markdown",
   "metadata": {},
   "source": [
    "고양이 개 이미지 분류 실습하기 "
   ]
  },
  {
   "cell_type": "code",
   "execution_count": 58,
   "metadata": {},
   "outputs": [],
   "source": [
    "import os\n",
    "import zipfile\n",
    "\n",
    "path = '/Users/book/Downloads/cats_and_dogs_filtered.zip' \n",
    "zip  = zipfile.ZipFile(path , 'r')\n",
    "\n",
    "zip.extractall('/Users/book/Downloads/')\n",
    "zip.close()"
   ]
  },
  {
   "cell_type": "code",
   "execution_count": 59,
   "metadata": {},
   "outputs": [],
   "source": [
    "cat_image = '/Users/book/Downloads/cats_and_dogs_filtered/train/cats/'\n",
    "dog_image = '/Users/book/Downloads/cats_and_dogs_filtered/train/dogs/'"
   ]
  },
  {
   "cell_type": "code",
   "execution_count": 60,
   "metadata": {},
   "outputs": [
    {
     "name": "stdout",
     "output_type": "stream",
     "text": [
      "Found 2000 images belonging to 2 classes.\n"
     ]
    }
   ],
   "source": [
    "train_img_generator = ImageDataGenerator(rescale=1/255)\n",
    "train_generator = train_img_generator.flow_from_directory(\n",
    "    '/Users/book/Downloads/cats_and_dogs_filtered/train/' , \n",
    "    target_size = (300, 300) , \n",
    "    batch_size  = 128 ,\n",
    "    class_mode = 'binary'\n",
    ")"
   ]
  },
  {
   "cell_type": "code",
   "execution_count": 61,
   "metadata": {},
   "outputs": [
    {
     "name": "stdout",
     "output_type": "stream",
     "text": [
      "/Users/book/Downloads/cats_and_dogs_filtered/train/cats\n",
      "/Users/book/Downloads/cats_and_dogs_filtered/train/dogs\n",
      "/Users/book/Downloads/cats_and_dogs_filtered/validation/cats\n",
      "/Users/book/Downloads/cats_and_dogs_filtered/validation/dogs\n"
     ]
    }
   ],
   "source": [
    "base_dir = '/Users/book/Downloads/cats_and_dogs_filtered/'\n",
    "\n",
    "train_dir = os.path.join(base_dir, 'train')\n",
    "validation_dir = os.path.join(base_dir, 'validation')\n",
    "\n",
    "# 훈련에 사용되는 고양이/개 이미지 경로\n",
    "train_cats_dir = os.path.join(train_dir, 'cats')\n",
    "train_dogs_dir = os.path.join(train_dir, 'dogs')\n",
    "print(train_cats_dir)\n",
    "print(train_dogs_dir)\n",
    "\n",
    "# 테스트에 사용되는 고양이/개 이미지 경로\n",
    "validation_cats_dir = os.path.join(validation_dir, 'cats')\n",
    "validation_dogs_dir = os.path.join(validation_dir, 'dogs')\n",
    "print(validation_cats_dir)\n",
    "print(validation_dogs_dir)"
   ]
  },
  {
   "cell_type": "code",
   "execution_count": 62,
   "metadata": {},
   "outputs": [
    {
     "name": "stdout",
     "output_type": "stream",
     "text": [
      "Kaggle Dogs Vs. Cats 데이터셋 살펴보기\n",
      "\n",
      "['cat.952.jpg', 'cat.946.jpg', 'cat.6.jpg', 'cat.749.jpg', 'cat.991.jpg']\n",
      "['dog.775.jpg', 'dog.761.jpg', 'dog.991.jpg', 'dog.749.jpg', 'dog.985.jpg']\n"
     ]
    }
   ],
   "source": [
    "print('Kaggle Dogs Vs. Cats 데이터셋 살펴보기')\n",
    "print()\n",
    "\n",
    "train_cat_fnames = os.listdir( train_cats_dir )\n",
    "train_dog_fnames = os.listdir( train_dogs_dir )\n",
    "\n",
    "print(train_cat_fnames[:5])\n",
    "print(train_dog_fnames[:5])"
   ]
  },
  {
   "cell_type": "code",
   "execution_count": 63,
   "metadata": {},
   "outputs": [
    {
     "name": "stdout",
     "output_type": "stream",
     "text": [
      "Total training cat images : 1000\n",
      "Total training dog images : 1000\n",
      "Total validation cat images : 500\n",
      "Total validation dog images : 500\n"
     ]
    }
   ],
   "source": [
    "print('Total training cat images :', len(os.listdir(train_cats_dir)))\n",
    "print('Total training dog images :', len(os.listdir(train_dogs_dir)))\n",
    "\n",
    "print('Total validation cat images :', len(os.listdir(validation_cats_dir)))\n",
    "print('Total validation dog images :', len(os.listdir(validation_dogs_dir)))"
   ]
  },
  {
   "cell_type": "code",
   "execution_count": 64,
   "metadata": {},
   "outputs": [
    {
     "name": "stdout",
     "output_type": "stream",
     "text": [
      "모델 구성하기 - \n",
      "Model: \"sequential_4\"\n",
      "_________________________________________________________________\n",
      " Layer (type)                Output Shape              Param #   \n",
      "=================================================================\n",
      " conv2d_9 (Conv2D)           (None, 148, 148, 16)      448       \n",
      "                                                                 \n",
      " max_pooling2d_8 (MaxPooling  (None, 74, 74, 16)       0         \n",
      " 2D)                                                             \n",
      "                                                                 \n",
      " conv2d_10 (Conv2D)          (None, 72, 72, 32)        4640      \n",
      "                                                                 \n",
      " max_pooling2d_9 (MaxPooling  (None, 36, 36, 32)       0         \n",
      " 2D)                                                             \n",
      "                                                                 \n",
      " conv2d_11 (Conv2D)          (None, 34, 34, 64)        18496     \n",
      "                                                                 \n",
      " max_pooling2d_10 (MaxPoolin  (None, 17, 17, 64)       0         \n",
      " g2D)                                                            \n",
      "                                                                 \n",
      " flatten_3 (Flatten)         (None, 18496)             0         \n",
      "                                                                 \n",
      " dense_9 (Dense)             (None, 512)               9470464   \n",
      "                                                                 \n",
      " dense_10 (Dense)            (None, 1)                 513       \n",
      "                                                                 \n",
      "=================================================================\n",
      "Total params: 9,494,561\n",
      "Trainable params: 9,494,561\n",
      "Non-trainable params: 0\n",
      "_________________________________________________________________\n"
     ]
    }
   ],
   "source": [
    "print('모델 구성하기 - ')\n",
    "import tensorflow as tf\n",
    "\n",
    "\n",
    "cat_and_dog_model = tf.keras.models.Sequential([\n",
    "  tf.keras.layers.Conv2D(16, (3,3), activation='relu', input_shape=(150, 150, 3)),\n",
    "  tf.keras.layers.MaxPooling2D(2,2),\n",
    "  tf.keras.layers.Conv2D(32, (3,3), activation='relu'),\n",
    "  tf.keras.layers.MaxPooling2D(2,2),\n",
    "  tf.keras.layers.Conv2D(64, (3,3), activation='relu'),\n",
    "  tf.keras.layers.MaxPooling2D(2,2),\n",
    "  tf.keras.layers.Flatten(),\n",
    "  tf.keras.layers.Dense(512, activation='relu'),\n",
    "  tf.keras.layers.Dense(1, activation='sigmoid')\n",
    "])\n",
    "\n",
    "cat_and_dog_model.summary()"
   ]
  },
  {
   "cell_type": "code",
   "execution_count": 65,
   "metadata": {},
   "outputs": [
    {
     "name": "stdout",
     "output_type": "stream",
     "text": [
      "모델 컴파일하기 - \n"
     ]
    }
   ],
   "source": [
    "print('모델 컴파일하기 - ')\n",
    "\n",
    "from tensorflow.keras.optimizers import RMSprop\n",
    "\n",
    "cat_and_dog_model.compile(optimizer=RMSprop(lr=0.001),\n",
    "            loss='binary_crossentropy',\n",
    "            metrics = ['accuracy'])"
   ]
  },
  {
   "cell_type": "code",
   "execution_count": 66,
   "metadata": {},
   "outputs": [
    {
     "name": "stdout",
     "output_type": "stream",
     "text": [
      "이미지 데이터 전처리하기\n",
      "훈련을 진행하기 전, tf.keras.preprocessing.image 모듈의 ImageDataGenerator 클래스를 이용해서 데이터 전처리를 진행합니다.\n",
      "https://keras.io/api/preprocessing/image/\n",
      "Found 2000 images belonging to 2 classes.\n",
      "Found 1000 images belonging to 2 classes.\n"
     ]
    }
   ],
   "source": [
    "print('이미지 데이터 전처리하기')\n",
    "print('훈련을 진행하기 전, tf.keras.preprocessing.image 모듈의 ImageDataGenerator 클래스를 이용해서 데이터 전처리를 진행합니다.')\n",
    "\n",
    "print('https://keras.io/api/preprocessing/image/')\n",
    "\n",
    "'''\n",
    "이미지 어그맨테이션\n",
    "ImageDataGenerator 클래스의 rescale 파라미터의 값을 1.0/255로 지정하면 모든 값을 255로 나누게 됩니다.\n",
    "rotation_range는 이미지를 임의로 회전시키는 각도를 지정합니다. 0~180 사이의 값을 입력합니다.\n",
    "width_shift, height_shift는 이미지를 임의로 수직 또는 수평 방향으로 이동시키는 범위를 지정합니다. 이미지의 너비 또는 높이에 대한 비율로 지정합니다.\n",
    "shear_range는 전단변환 (shearing transformation)을 위한 파라미터입니다. 이미지를 어긋나 보이도록 변환합니다.\n",
    "zoom_range는 이미지를 임의로 확대하는 정도를 지정합니다.\n",
    "horizontal_flip은 이미지를 임의로 (수평 방향으로) 뒤집을지 여부를 결정합니다.\n",
    "fill_mode는 회전 또는 이동 변환 후 빈 픽셀을 채우는 방식을 지정합니다. 디폴트는 ‘nearest’이며, {‘constant’, ‘nearest’, ‘reflect’, ‘wrap’} 중 하나의 값으로 지정합니다.\n",
    "'''\n",
    "\n",
    "train_datagen = ImageDataGenerator( rescale = 1.0/255. , \n",
    "                                    rotation_range=40,\n",
    "                                    width_shift_range=0.2,\n",
    "                                    height_shift_range=0.2,\n",
    "                                    shear_range=0.2,\n",
    "                                    zoom_range=0.2,\n",
    "                                    horizontal_flip=True,\n",
    "                                    fill_mode='nearest')\n",
    "\n",
    "test_datagen  = ImageDataGenerator( rescale = 1.0/255. )\n",
    "\n",
    "train_generator = train_datagen.flow_from_directory(train_dir,\n",
    "                                                  batch_size=20,\n",
    "                                                  class_mode='binary',\n",
    "                                                  target_size=(150, 150))\n",
    "validation_generator =  test_datagen.flow_from_directory(validation_dir,\n",
    "                                                       batch_size=20,\n",
    "                                                       class_mode  = 'binary',\n",
    "                                                       target_size = (150, 150))"
   ]
  },
  {
   "cell_type": "code",
   "execution_count": 69,
   "metadata": {},
   "outputs": [
    {
     "name": "stdout",
     "output_type": "stream",
     "text": [
      "모델 훈련하기\n",
      "fit() 메서드는 앞에서 구성한 Neural Network 모델을 훈련합니다.\n",
      "Epoch 1/50\n",
      "100/100 - 8s - loss: 0.5181 - accuracy: 0.7540 - val_loss: 0.5432 - val_accuracy: 0.7460 - 8s/epoch - 81ms/step\n",
      "Epoch 2/50\n",
      "100/100 - 8s - loss: 0.5267 - accuracy: 0.7455 - val_loss: 0.5022 - val_accuracy: 0.7600 - 8s/epoch - 82ms/step\n",
      "Epoch 3/50\n",
      "100/100 - 8s - loss: 0.5290 - accuracy: 0.7375 - val_loss: 0.5710 - val_accuracy: 0.7420 - 8s/epoch - 82ms/step\n",
      "Epoch 4/50\n",
      "100/100 - 8s - loss: 0.5310 - accuracy: 0.7370 - val_loss: 0.4936 - val_accuracy: 0.7530 - 8s/epoch - 81ms/step\n",
      "Epoch 5/50\n",
      "100/100 - 8s - loss: 0.5207 - accuracy: 0.7525 - val_loss: 0.5425 - val_accuracy: 0.7400 - 8s/epoch - 81ms/step\n",
      "Epoch 6/50\n",
      "100/100 - 8s - loss: 0.5176 - accuracy: 0.7455 - val_loss: 0.5392 - val_accuracy: 0.7370 - 8s/epoch - 81ms/step\n",
      "Epoch 7/50\n",
      "100/100 - 8s - loss: 0.5268 - accuracy: 0.7345 - val_loss: 0.5089 - val_accuracy: 0.7490 - 8s/epoch - 81ms/step\n",
      "Epoch 8/50\n",
      "100/100 - 8s - loss: 0.5104 - accuracy: 0.7505 - val_loss: 0.4986 - val_accuracy: 0.7510 - 8s/epoch - 81ms/step\n",
      "Epoch 9/50\n",
      "100/100 - 8s - loss: 0.5069 - accuracy: 0.7540 - val_loss: 0.5077 - val_accuracy: 0.7500 - 8s/epoch - 81ms/step\n",
      "Epoch 10/50\n",
      "100/100 - 8s - loss: 0.5229 - accuracy: 0.7425 - val_loss: 0.5148 - val_accuracy: 0.7400 - 8s/epoch - 81ms/step\n",
      "Epoch 11/50\n",
      "100/100 - 8s - loss: 0.4994 - accuracy: 0.7505 - val_loss: 0.6373 - val_accuracy: 0.6770 - 8s/epoch - 81ms/step\n",
      "Epoch 12/50\n",
      "100/100 - 8s - loss: 0.5153 - accuracy: 0.7495 - val_loss: 0.5087 - val_accuracy: 0.7410 - 8s/epoch - 80ms/step\n",
      "Epoch 13/50\n",
      "100/100 - 8s - loss: 0.4974 - accuracy: 0.7740 - val_loss: 0.4916 - val_accuracy: 0.7570 - 8s/epoch - 80ms/step\n",
      "Epoch 14/50\n",
      "100/100 - 8s - loss: 0.4857 - accuracy: 0.7605 - val_loss: 0.5339 - val_accuracy: 0.7400 - 8s/epoch - 80ms/step\n",
      "Epoch 15/50\n",
      "100/100 - 8s - loss: 0.4991 - accuracy: 0.7720 - val_loss: 0.5266 - val_accuracy: 0.7570 - 8s/epoch - 80ms/step\n",
      "Epoch 16/50\n",
      "100/100 - 8s - loss: 0.4906 - accuracy: 0.7650 - val_loss: 0.5215 - val_accuracy: 0.7450 - 8s/epoch - 80ms/step\n",
      "Epoch 17/50\n",
      "100/100 - 8s - loss: 0.5076 - accuracy: 0.7490 - val_loss: 0.4991 - val_accuracy: 0.7550 - 8s/epoch - 80ms/step\n",
      "Epoch 18/50\n",
      "100/100 - 8s - loss: 0.4922 - accuracy: 0.7545 - val_loss: 0.5147 - val_accuracy: 0.7290 - 8s/epoch - 80ms/step\n",
      "Epoch 19/50\n",
      "100/100 - 8s - loss: 0.4841 - accuracy: 0.7695 - val_loss: 0.5514 - val_accuracy: 0.7280 - 8s/epoch - 81ms/step\n",
      "Epoch 20/50\n",
      "100/100 - 8s - loss: 0.4845 - accuracy: 0.7770 - val_loss: 0.5216 - val_accuracy: 0.7610 - 8s/epoch - 81ms/step\n",
      "Epoch 21/50\n",
      "100/100 - 8s - loss: 0.4834 - accuracy: 0.7675 - val_loss: 0.5999 - val_accuracy: 0.7590 - 8s/epoch - 84ms/step\n",
      "Epoch 22/50\n",
      "100/100 - 8s - loss: 0.4978 - accuracy: 0.7655 - val_loss: 0.6011 - val_accuracy: 0.6980 - 8s/epoch - 83ms/step\n",
      "Epoch 23/50\n",
      "100/100 - 8s - loss: 0.4863 - accuracy: 0.7790 - val_loss: 0.5362 - val_accuracy: 0.7370 - 8s/epoch - 83ms/step\n",
      "Epoch 24/50\n",
      "100/100 - 8s - loss: 0.4847 - accuracy: 0.7710 - val_loss: 0.5080 - val_accuracy: 0.7600 - 8s/epoch - 82ms/step\n",
      "Epoch 25/50\n",
      "100/100 - 8s - loss: 0.4913 - accuracy: 0.7670 - val_loss: 0.4818 - val_accuracy: 0.7630 - 8s/epoch - 82ms/step\n",
      "Epoch 26/50\n",
      "100/100 - 8s - loss: 0.4754 - accuracy: 0.7865 - val_loss: 0.4927 - val_accuracy: 0.7710 - 8s/epoch - 83ms/step\n",
      "Epoch 27/50\n",
      "100/100 - 8s - loss: 0.4755 - accuracy: 0.7870 - val_loss: 0.4968 - val_accuracy: 0.7510 - 8s/epoch - 84ms/step\n",
      "Epoch 28/50\n",
      "100/100 - 8s - loss: 0.4788 - accuracy: 0.7760 - val_loss: 0.4928 - val_accuracy: 0.7760 - 8s/epoch - 84ms/step\n",
      "Epoch 29/50\n",
      "100/100 - 8s - loss: 0.4839 - accuracy: 0.7840 - val_loss: 0.5505 - val_accuracy: 0.7320 - 8s/epoch - 84ms/step\n",
      "Epoch 30/50\n",
      "100/100 - 8s - loss: 0.4799 - accuracy: 0.7765 - val_loss: 0.4785 - val_accuracy: 0.7850 - 8s/epoch - 84ms/step\n",
      "Epoch 31/50\n",
      "100/100 - 8s - loss: 0.4864 - accuracy: 0.7605 - val_loss: 0.5376 - val_accuracy: 0.7430 - 8s/epoch - 85ms/step\n",
      "Epoch 32/50\n",
      "100/100 - 9s - loss: 0.4796 - accuracy: 0.7810 - val_loss: 0.5536 - val_accuracy: 0.7750 - 9s/epoch - 85ms/step\n",
      "Epoch 33/50\n",
      "100/100 - 8s - loss: 0.4749 - accuracy: 0.7750 - val_loss: 0.5218 - val_accuracy: 0.7670 - 8s/epoch - 85ms/step\n",
      "Epoch 34/50\n",
      "100/100 - 9s - loss: 0.4739 - accuracy: 0.7830 - val_loss: 0.5064 - val_accuracy: 0.7710 - 9s/epoch - 85ms/step\n",
      "Epoch 35/50\n",
      "100/100 - 9s - loss: 0.4732 - accuracy: 0.7805 - val_loss: 0.5053 - val_accuracy: 0.7670 - 9s/epoch - 85ms/step\n",
      "Epoch 36/50\n",
      "100/100 - 9s - loss: 0.4654 - accuracy: 0.7940 - val_loss: 0.4732 - val_accuracy: 0.7800 - 9s/epoch - 86ms/step\n",
      "Epoch 37/50\n",
      "100/100 - 9s - loss: 0.4519 - accuracy: 0.7995 - val_loss: 0.9457 - val_accuracy: 0.6640 - 9s/epoch - 86ms/step\n",
      "Epoch 38/50\n",
      "100/100 - 9s - loss: 0.4897 - accuracy: 0.7780 - val_loss: 0.5006 - val_accuracy: 0.7380 - 9s/epoch - 86ms/step\n",
      "Epoch 39/50\n",
      "100/100 - 9s - loss: 0.4677 - accuracy: 0.7880 - val_loss: 0.4504 - val_accuracy: 0.7990 - 9s/epoch - 87ms/step\n",
      "Epoch 40/50\n",
      "100/100 - 36s - loss: 0.4822 - accuracy: 0.7760 - val_loss: 0.4792 - val_accuracy: 0.7700 - 36s/epoch - 355ms/step\n",
      "Epoch 41/50\n",
      "100/100 - 8s - loss: 0.4792 - accuracy: 0.7775 - val_loss: 0.5989 - val_accuracy: 0.7210 - 8s/epoch - 80ms/step\n",
      "Epoch 42/50\n",
      "100/100 - 8s - loss: 0.4710 - accuracy: 0.7845 - val_loss: 0.4743 - val_accuracy: 0.7810 - 8s/epoch - 80ms/step\n",
      "Epoch 43/50\n",
      "100/100 - 8s - loss: 0.4616 - accuracy: 0.7890 - val_loss: 0.5018 - val_accuracy: 0.7910 - 8s/epoch - 80ms/step\n",
      "Epoch 44/50\n",
      "100/100 - 8s - loss: 0.4671 - accuracy: 0.7895 - val_loss: 0.5172 - val_accuracy: 0.7330 - 8s/epoch - 81ms/step\n",
      "Epoch 45/50\n",
      "100/100 - 8s - loss: 0.4663 - accuracy: 0.7935 - val_loss: 0.5041 - val_accuracy: 0.7760 - 8s/epoch - 81ms/step\n",
      "Epoch 46/50\n",
      "100/100 - 8s - loss: 0.4597 - accuracy: 0.7910 - val_loss: 0.4505 - val_accuracy: 0.7950 - 8s/epoch - 83ms/step\n",
      "Epoch 47/50\n",
      "100/100 - 8s - loss: 0.4601 - accuracy: 0.7930 - val_loss: 0.4705 - val_accuracy: 0.7870 - 8s/epoch - 84ms/step\n",
      "Epoch 48/50\n",
      "100/100 - 8s - loss: 0.4653 - accuracy: 0.7800 - val_loss: 0.4921 - val_accuracy: 0.7800 - 8s/epoch - 83ms/step\n",
      "Epoch 49/50\n",
      "100/100 - 8s - loss: 0.4913 - accuracy: 0.7835 - val_loss: 0.5561 - val_accuracy: 0.7540 - 8s/epoch - 85ms/step\n",
      "Epoch 50/50\n",
      "100/100 - 9s - loss: 0.4815 - accuracy: 0.7830 - val_loss: 0.4712 - val_accuracy: 0.7870 - 9s/epoch - 86ms/step\n"
     ]
    }
   ],
   "source": [
    "print('모델 훈련하기')\n",
    "print('fit() 메서드는 앞에서 구성한 Neural Network 모델을 훈련합니다.')\n",
    "\n",
    "history = cat_and_dog_model.fit(train_generator,\n",
    "                    validation_data=validation_generator,\n",
    "                    steps_per_epoch=100,\n",
    "                    epochs=50,\n",
    "                    validation_steps=50,\n",
    "                    verbose=2)"
   ]
  },
  {
   "cell_type": "code",
   "execution_count": 70,
   "metadata": {},
   "outputs": [
    {
     "name": "stdout",
     "output_type": "stream",
     "text": [
      "모델 저장\n",
      "INFO:tensorflow:Assets written to: cat_and_dog_model-case.h12/assets\n"
     ]
    }
   ],
   "source": [
    "print('모델 저장')\n",
    "cat_and_dog_model.save('cat_and_dog_model-case.h12')"
   ]
  },
  {
   "cell_type": "code",
   "execution_count": 71,
   "metadata": {},
   "outputs": [
    {
     "name": "stdout",
     "output_type": "stream",
     "text": [
      "정확도와 손실 확인하기\n"
     ]
    },
    {
     "data": {
      "image/png": "[encoded data removed]",
      "text/plain": [
       "<Figure size 432x288 with 1 Axes>"
      ]
     },
     "metadata": {
      "needs_background": "light"
     },
     "output_type": "display_data"
    },
    {
     "data": {
      "image/png": "[encoded data removed]",
      "text/plain": [
       "<Figure size 432x288 with 1 Axes>"
      ]
     },
     "metadata": {
      "needs_background": "light"
     },
     "output_type": "display_data"
    }
   ],
   "source": [
    "print('정확도와 손실 확인하기')\n",
    "\n",
    "import matplotlib.pyplot as plt\n",
    "\n",
    "acc = history.history['accuracy']\n",
    "val_acc = history.history['val_accuracy']\n",
    "loss = history.history['loss']\n",
    "val_loss = history.history['val_loss']\n",
    "\n",
    "epochs = range(len(acc))\n",
    "\n",
    "plt.plot(epochs, acc, 'bo', label='Training accuracy')\n",
    "plt.plot(epochs, val_acc, 'b', label='Validation accuracy')\n",
    "plt.title('Training and validation accuracy')\n",
    "plt.legend()\n",
    "\n",
    "plt.figure()\n",
    "\n",
    "plt.plot(epochs, loss, 'go', label='Training Loss')\n",
    "plt.plot(epochs, val_loss, 'g', label='Validation Loss')\n",
    "plt.title('Training and validation loss')\n",
    "plt.legend()\n",
    "\n",
    "plt.show()"
   ]
  },
  {
   "cell_type": "code",
   "execution_count": null,
   "metadata": {},
   "outputs": [],
   "source": []
  },
  {
   "cell_type": "code",
   "execution_count": null,
   "metadata": {},
   "outputs": [],
   "source": []
  },
  {
   "cell_type": "code",
   "execution_count": null,
   "metadata": {},
   "outputs": [],
   "source": []
  },
  {
   "cell_type": "code",
   "execution_count": null,
   "metadata": {},
   "outputs": [],
   "source": []
  },
  {
   "cell_type": "code",
   "execution_count": null,
   "metadata": {},
   "outputs": [],
   "source": []
  },
  {
   "cell_type": "code",
   "execution_count": null,
   "metadata": {},
   "outputs": [],
   "source": []
  },
  {
   "cell_type": "code",
   "execution_count": null,
   "metadata": {},
   "outputs": [],
   "source": []
  }
 ],
 "metadata": {
  "accelerator": "GPU",
  "colab": {
   "authorship_tag": "ABX9TyNExk2q6OmR56uP23IiPkZh",
   "include_colab_link": true,
   "name": "Untitled4.ipynb",
   "provenance": []
  },
  "kernelspec": {
   "display_name": "Python 3 (ipykernel)",
   "language": "python",
   "name": "python3"
  },
  "language_info": {
   "codemirror_mode": {
    "name": "ipython",
    "version": 3
   },
   "file_extension": ".py",
   "mimetype": "text/x-python",
   "name": "python",
   "nbconvert_exporter": "python",
   "pygments_lexer": "ipython3",
   "version": "3.9.10"
  },
  "varInspector": {
   "cols": {
    "lenName": 16,
    "lenType": 16,
    "lenVar": 40
   },
   "kernels_config": {
    "python": {
     "delete_cmd_postfix": "",
     "delete_cmd_prefix": "del ",
     "library": "var_list.py",
     "varRefreshCmd": "print(var_dic_list())"
    },
    "r": {
     "delete_cmd_postfix": ") ",
     "delete_cmd_prefix": "rm(",
     "library": "var_list.r",
     "varRefreshCmd": "cat(var_dic_list()) "
    }
   },
   "types_to_exclude": [
    "module",
    "function",
    "builtin_function_or_method",
    "instance",
    "_Feature"
   ],
   "window_display": false
  }
 },
 "nbformat": 4,
 "nbformat_minor": 1
}
