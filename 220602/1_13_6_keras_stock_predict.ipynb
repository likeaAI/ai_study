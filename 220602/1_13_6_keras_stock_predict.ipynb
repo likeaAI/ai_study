{
  "nbformat": 4,
  "nbformat_minor": 0,
  "metadata": {
    "colab": {
      "name": "1_13_6_keras_stock_predict",
      "provenance": [],
      "include_colab_link": true
    },
    "kernelspec": {
      "name": "python3",
      "display_name": "Python 3"
    }
  },
  "cells": [
    {
      "cell_type": "markdown",
      "metadata": {
        "id": "view-in-github",
        "colab_type": "text"
      },
      "source": [
        "<a href=\"https://colab.research.google.com/github/likeaAI/ai_study/blob/main/220602/1_13_6_keras_stock_predict.ipynb\" target=\"_parent\"><img src=\"https://colab.research.google.com/assets/colab-badge.svg\" alt=\"Open In Colab\"/></a>"
      ]
    },
    {
      "cell_type": "markdown",
      "metadata": {
        "id": "jRT7pO45P5x8"
      },
      "source": [
        "##LSTM에 맞는 데이터셋 준비하기\n",
        "yahoo에서 코스피 지수 데이터가져와서, 차트 분석한다"
      ]
    },
    {
      "cell_type": "markdown",
      "metadata": {
        "id": "h1Mhsz-desHm"
      },
      "source": [
        "###<Yahoo Finace 주가데이터 사용상 주의>\n",
        "yahoo사이트의 yfinance 데이터 가져오는 방법은 수십종류가 있고,수시로 변경하거나 업그레이드되므로 사용에 주의 요망\n",
        "\n",
        "pandas_datareader.data(단축어 pdr)를 사용하여 데이터 다운받으려고 하면,pdr의.get_data_yahoo() 함수를 사용하기위해 yf.pdr_override()를 붙여야한다"
      ]
    },
    {
      "cell_type": "code",
      "metadata": {
        "id": "KP1TvqvOZxtZ"
      },
      "source": [
        "!pip install yfinance --upgrade --no-cache-dir"
      ],
      "execution_count": null,
      "outputs": []
    },
    {
      "cell_type": "code",
      "metadata": {
        "colab": {
          "base_uri": "https://localhost:8080/"
        },
        "id": "Gd8r2aWxZ8Bj",
        "outputId": "4ed7dab7-8320-447d-8b02-d7481a027328"
      },
      "source": [
        "import yfinance as yf\n",
        "import pandas_datareader.data as pdr\n",
        "\n",
        "yf.pdr_override()\n",
        "df_prices=pdr.get_data_yahoo(\"^KS11\", start=\"2020-01-01\", end=\"2021-07-30\") \n",
        "prices=df_prices['Close']"
      ],
      "execution_count": null,
      "outputs": [
        {
          "output_type": "stream",
          "text": [
            "\r[*********************100%***********************]  1 of 1 completed\n"
          ],
          "name": "stdout"
        }
      ]
    },
    {
      "cell_type": "code",
      "metadata": {
        "colab": {
          "base_uri": "https://localhost:8080/",
          "height": 640
        },
        "id": "_dM4rz4xd7z-",
        "outputId": "15215c08-f83c-415c-a764-3a310b151074"
      },
      "source": [
        "df_prices"
      ],
      "execution_count": null,
      "outputs": [
        {
          "output_type": "execute_result",
          "data": {
            "text/html": [
              "<div>\n",
              "<style scoped>\n",
              "    .dataframe tbody tr th:only-of-type {\n",
              "        vertical-align: middle;\n",
              "    }\n",
              "\n",
              "    .dataframe tbody tr th {\n",
              "        vertical-align: top;\n",
              "    }\n",
              "\n",
              "    .dataframe thead th {\n",
              "        text-align: right;\n",
              "    }\n",
              "</style>\n",
              "<table border=\"1\" class=\"dataframe\">\n",
              "  <thead>\n",
              "    <tr style=\"text-align: right;\">\n",
              "      <th></th>\n",
              "      <th>Open</th>\n",
              "      <th>High</th>\n",
              "      <th>Low</th>\n",
              "      <th>Close</th>\n",
              "      <th>Adj Close</th>\n",
              "      <th>Volume</th>\n",
              "    </tr>\n",
              "    <tr>\n",
              "      <th>Date</th>\n",
              "      <th></th>\n",
              "      <th></th>\n",
              "      <th></th>\n",
              "      <th></th>\n",
              "      <th></th>\n",
              "      <th></th>\n",
              "    </tr>\n",
              "  </thead>\n",
              "  <tbody>\n",
              "    <tr>\n",
              "      <th>2020-01-02</th>\n",
              "      <td>2201.209961</td>\n",
              "      <td>2202.320068</td>\n",
              "      <td>2171.840088</td>\n",
              "      <td>2175.169922</td>\n",
              "      <td>2175.169922</td>\n",
              "      <td>494700</td>\n",
              "    </tr>\n",
              "    <tr>\n",
              "      <th>2020-01-03</th>\n",
              "      <td>2192.580078</td>\n",
              "      <td>2203.379883</td>\n",
              "      <td>2165.389893</td>\n",
              "      <td>2176.459961</td>\n",
              "      <td>2176.459961</td>\n",
              "      <td>631600</td>\n",
              "    </tr>\n",
              "    <tr>\n",
              "      <th>2020-01-06</th>\n",
              "      <td>2154.969971</td>\n",
              "      <td>2164.419922</td>\n",
              "      <td>2149.949951</td>\n",
              "      <td>2155.070068</td>\n",
              "      <td>2155.070068</td>\n",
              "      <td>592700</td>\n",
              "    </tr>\n",
              "    <tr>\n",
              "      <th>2020-01-07</th>\n",
              "      <td>2166.600098</td>\n",
              "      <td>2181.620117</td>\n",
              "      <td>2164.270020</td>\n",
              "      <td>2175.540039</td>\n",
              "      <td>2175.540039</td>\n",
              "      <td>568200</td>\n",
              "    </tr>\n",
              "    <tr>\n",
              "      <th>2020-01-08</th>\n",
              "      <td>2156.270020</td>\n",
              "      <td>2162.320068</td>\n",
              "      <td>2137.719971</td>\n",
              "      <td>2151.310059</td>\n",
              "      <td>2151.310059</td>\n",
              "      <td>913800</td>\n",
              "    </tr>\n",
              "    <tr>\n",
              "      <th>...</th>\n",
              "      <td>...</td>\n",
              "      <td>...</td>\n",
              "      <td>...</td>\n",
              "      <td>...</td>\n",
              "      <td>...</td>\n",
              "      <td>...</td>\n",
              "    </tr>\n",
              "    <tr>\n",
              "      <th>2021-06-29</th>\n",
              "      <td>3305.260010</td>\n",
              "      <td>3305.419922</td>\n",
              "      <td>3276.629883</td>\n",
              "      <td>3286.679932</td>\n",
              "      <td>3286.679932</td>\n",
              "      <td>1211800</td>\n",
              "    </tr>\n",
              "    <tr>\n",
              "      <th>2021-06-30</th>\n",
              "      <td>3288.629883</td>\n",
              "      <td>3305.729980</td>\n",
              "      <td>3288.629883</td>\n",
              "      <td>3296.679932</td>\n",
              "      <td>3296.679932</td>\n",
              "      <td>1608900</td>\n",
              "    </tr>\n",
              "    <tr>\n",
              "      <th>2021-07-01</th>\n",
              "      <td>3297.919922</td>\n",
              "      <td>3300.120117</td>\n",
              "      <td>3278.100098</td>\n",
              "      <td>3282.060059</td>\n",
              "      <td>3282.060059</td>\n",
              "      <td>1157700</td>\n",
              "    </tr>\n",
              "    <tr>\n",
              "      <th>2021-07-02</th>\n",
              "      <td>3282.810059</td>\n",
              "      <td>3295.679932</td>\n",
              "      <td>3278.189941</td>\n",
              "      <td>3281.780029</td>\n",
              "      <td>3281.780029</td>\n",
              "      <td>1019400</td>\n",
              "    </tr>\n",
              "    <tr>\n",
              "      <th>2021-07-05</th>\n",
              "      <td>3285.290039</td>\n",
              "      <td>3298.929932</td>\n",
              "      <td>3285.290039</td>\n",
              "      <td>3293.729980</td>\n",
              "      <td>3293.729980</td>\n",
              "      <td>825957</td>\n",
              "    </tr>\n",
              "  </tbody>\n",
              "</table>\n",
              "<p>374 rows × 6 columns</p>\n",
              "</div>"
            ],
            "text/plain": [
              "                   Open         High  ...    Adj Close   Volume\n",
              "Date                                  ...                      \n",
              "2020-01-02  2201.209961  2202.320068  ...  2175.169922   494700\n",
              "2020-01-03  2192.580078  2203.379883  ...  2176.459961   631600\n",
              "2020-01-06  2154.969971  2164.419922  ...  2155.070068   592700\n",
              "2020-01-07  2166.600098  2181.620117  ...  2175.540039   568200\n",
              "2020-01-08  2156.270020  2162.320068  ...  2151.310059   913800\n",
              "...                 ...          ...  ...          ...      ...\n",
              "2021-06-29  3305.260010  3305.419922  ...  3286.679932  1211800\n",
              "2021-06-30  3288.629883  3305.729980  ...  3296.679932  1608900\n",
              "2021-07-01  3297.919922  3300.120117  ...  3282.060059  1157700\n",
              "2021-07-02  3282.810059  3295.679932  ...  3281.780029  1019400\n",
              "2021-07-05  3285.290039  3298.929932  ...  3293.729980   825957\n",
              "\n",
              "[374 rows x 6 columns]"
            ]
          },
          "metadata": {
            "tags": []
          },
          "execution_count": 3
        }
      ]
    },
    {
      "cell_type": "code",
      "metadata": {
        "id": "fJAKk9GzpBp9"
      },
      "source": [
        "import numpy as np\n",
        "from keras.models import *\n",
        "from keras.layers import * "
      ],
      "execution_count": null,
      "outputs": []
    },
    {
      "cell_type": "markdown",
      "metadata": {
        "id": "Nhi3KzEAQHkS"
      },
      "source": [
        "예측하는 다음날까지 겹치는 윈도우 window_data만들기"
      ]
    },
    {
      "cell_type": "code",
      "metadata": {
        "id": "xXJDY6ubuoir"
      },
      "source": [
        "sequence_length = 31\n",
        "window_data = []\n",
        "for index in range(len(prices) - sequence_length):\n",
        "        window_data.append(prices[index: index + sequence_length])  "
      ],
      "execution_count": null,
      "outputs": []
    },
    {
      "cell_type": "markdown",
      "metadata": {
        "id": "HsWmNAnmQWTD"
      },
      "source": [
        "deep learning 모델의 트레이닝과 테스트로 사용되는 데이터는 numpy 배열로 준비"
      ]
    },
    {
      "cell_type": "code",
      "metadata": {
        "id": "Xpy1V8U8uKE9"
      },
      "source": [
        "normalised_data = []\n",
        "for window in window_data:\n",
        "    normalised_window = [((float(p) / float(window[0])) - 1) for p in window]\n",
        "    normalised_data.append(normalised_window)\n",
        "    result = np.array(normalised_data)"
      ],
      "execution_count": null,
      "outputs": []
    },
    {
      "cell_type": "code",
      "metadata": {
        "colab": {
          "base_uri": "https://localhost:8080/"
        },
        "id": "TNaXRYwTeCnl",
        "outputId": "e7ceeaba-fc31-4011-82d1-6d1da271b233"
      },
      "source": [
        "result.shape, result[:,-1].shape"
      ],
      "execution_count": null,
      "outputs": [
        {
          "output_type": "execute_result",
          "data": {
            "text/plain": [
              "((308, 31), (308,))"
            ]
          },
          "metadata": {
            "tags": []
          },
          "execution_count": 18
        }
      ]
    },
    {
      "cell_type": "markdown",
      "metadata": {
        "id": "V9dWXYH-QtBi"
      },
      "source": [
        "##LSTM 훈련 데이터의 형식은 3차원으로 데이터 전처리한다\n",
        "LSTM 입력데이터는  [batch_size, timesteps, feature] 3차원으로 구성되어 있다.일반 신경망모델의 입력데이터는 size와 feature만 있지만, 시간 개념timestep을 넣어 차원을 하나 늘린 것이다.\n",
        "\n",
        "당초 데이터 result의 차원이 2차원으로 size는 날짜에 따라 변동, timestep은 31으로 ((308, 31), (308,)) 값으로 만든다. 여기에서 3차원으로 timestep은 30으로, feature는 1을 늘리고 train과 test로 데이터를 분할한다 ((277, 30, 1), (277,), (31, 30, 1), (31,))"
      ]
    },
    {
      "cell_type": "code",
      "metadata": {
        "id": "iTij9MhL6tIZ"
      },
      "source": [
        "from sklearn.model_selection import train_test_split\n",
        "x_train,x_test,y_train,y_test=train_test_split(result,result[:,-1],test_size=0.1,random_state=0)"
      ],
      "execution_count": null,
      "outputs": []
    },
    {
      "cell_type": "code",
      "metadata": {
        "id": "eXVsBz9f_NS5"
      },
      "source": [
        "x_train = x_train[:,:-1,None]\n",
        "x_test =  x_test[:,:-1,None]"
      ],
      "execution_count": null,
      "outputs": []
    },
    {
      "cell_type": "code",
      "metadata": {
        "colab": {
          "base_uri": "https://localhost:8080/"
        },
        "id": "AZoIfjWSdhy_",
        "outputId": "84fd06c9-f925-48f4-ea03-016a152130c7"
      },
      "source": [
        "x_train.shape, y_train.shape, x_test.shape, y_test.shape"
      ],
      "execution_count": null,
      "outputs": [
        {
          "output_type": "execute_result",
          "data": {
            "text/plain": [
              "((277, 30, 1), (277,), (31, 30, 1), (31,))"
            ]
          },
          "metadata": {
            "tags": []
          },
          "execution_count": 21
        }
      ]
    },
    {
      "cell_type": "markdown",
      "metadata": {
        "id": "evymVaPGIB5k"
      },
      "source": [
        "##LSTM 신경망모델 학습과정구성,훈련반복시키기\n",
        "\n",
        "input_shape=(timestep, feature)을 모델에 알려주고,예측하고자하는 target의 갯수가 1이므로 마지막 층 Dense 노드는 1이다. \n",
        "\n",
        "[출력층 활성화함수는 분류에는 softmax, 특히 2진 분류는 sigmoid사용한다. 회귀에는 linear 등 항등함수 사용하며 생략하기도 한다]\n",
        "\n",
        "본 신경망은 Dense출력층 노드가 1개로 이곳으로 활성화함수 linear를 통해 출력은 회귀 예측값이 된다.\n",
        "\n",
        "연속적인 값을 예측위한 손실함수는 mean squared error, optimizer는 rmsprop 사용"
      ]
    },
    {
      "cell_type": "code",
      "metadata": {
        "id": "M6B68gMXpMG4",
        "colab": {
          "base_uri": "https://localhost:8080/"
        },
        "outputId": "59f113be-e02b-4e5c-a863-962759ac4d1f"
      },
      "source": [
        "model = Sequential()\n",
        "model.add(LSTM(units=30, return_sequences=True, input_shape=(30, 1))) \n",
        "model.add(LSTM(64, return_sequences=False))\n",
        "model.add(Dense(1, activation='linear'))\n",
        "model.compile(loss='mse', optimizer='rmsprop')  \n",
        "model.summary()"
      ],
      "execution_count": null,
      "outputs": [
        {
          "output_type": "stream",
          "text": [
            "Model: \"sequential\"\n",
            "_________________________________________________________________\n",
            "Layer (type)                 Output Shape              Param #   \n",
            "=================================================================\n",
            "lstm (LSTM)                  (None, 30, 30)            3840      \n",
            "_________________________________________________________________\n",
            "lstm_1 (LSTM)                (None, 64)                24320     \n",
            "_________________________________________________________________\n",
            "dense (Dense)                (None, 1)                 65        \n",
            "=================================================================\n",
            "Total params: 28,225\n",
            "Trainable params: 28,225\n",
            "Non-trainable params: 0\n",
            "_________________________________________________________________\n"
          ],
          "name": "stdout"
        }
      ]
    },
    {
      "cell_type": "markdown",
      "metadata": {
        "id": "chMo1i7T4Tw0"
      },
      "source": [
        "###LSTM 매개변수 parameter 계산\n",
        "Dense와 다르게 LSTM은 총계산을 한번에 한다.첫번째 LSTM parameter = 4 × ((x + h) × h + h)으로,4*(1+30)*30+30 = 3840 이다. 두번째 LSTM의 parameter는 4*((30+64)*64+64) = 24320이다. 세 번째 Dense층은 출력층을 겸하며, 파라미터는 64(입력 유닛수) x 1(두 번째 Dense층 유닛수,out 크기) + 1(유닛별로 가진 편향수) = 65이다\n",
        "\n",
        "여기서 4 functions은 LSTM속에 있는 연산함수 숫자이고, 입력은 3차원 특성의 x , 다음 레이어로 벡터 출력 공간의 차원 h이다"
      ]
    },
    {
      "cell_type": "code",
      "metadata": {
        "id": "Kqlr66jawFsY",
        "colab": {
          "base_uri": "https://localhost:8080/"
        },
        "outputId": "a1b9d928-376a-43cc-f593-f68926d47f3f"
      },
      "source": [
        "model.fit(x_train, y_train,batch_size=15,epochs=20)"
      ],
      "execution_count": null,
      "outputs": [
        {
          "output_type": "stream",
          "text": [
            "Epoch 1/20\n",
            "19/19 [==============================] - 4s 24ms/step - loss: 0.0053\n",
            "Epoch 2/20\n",
            "19/19 [==============================] - 0s 24ms/step - loss: 0.0015\n",
            "Epoch 3/20\n",
            "19/19 [==============================] - 0s 23ms/step - loss: 0.0012\n",
            "Epoch 4/20\n",
            "19/19 [==============================] - 0s 24ms/step - loss: 0.0013\n",
            "Epoch 5/20\n",
            "19/19 [==============================] - 0s 24ms/step - loss: 8.3304e-04\n",
            "Epoch 6/20\n",
            "19/19 [==============================] - 0s 24ms/step - loss: 8.4229e-04\n",
            "Epoch 7/20\n",
            "19/19 [==============================] - 1s 27ms/step - loss: 0.0011\n",
            "Epoch 8/20\n",
            "19/19 [==============================] - 1s 29ms/step - loss: 7.4746e-04\n",
            "Epoch 9/20\n",
            "19/19 [==============================] - 1s 29ms/step - loss: 8.3704e-04\n",
            "Epoch 10/20\n",
            "19/19 [==============================] - 1s 28ms/step - loss: 8.0477e-04\n",
            "Epoch 11/20\n",
            "19/19 [==============================] - 1s 28ms/step - loss: 7.4293e-04\n",
            "Epoch 12/20\n",
            "19/19 [==============================] - 1s 29ms/step - loss: 6.2941e-04\n",
            "Epoch 13/20\n",
            "19/19 [==============================] - 1s 28ms/step - loss: 6.2672e-04\n",
            "Epoch 14/20\n",
            "19/19 [==============================] - 1s 28ms/step - loss: 7.1841e-04\n",
            "Epoch 15/20\n",
            "19/19 [==============================] - 0s 24ms/step - loss: 8.3391e-04\n",
            "Epoch 16/20\n",
            "19/19 [==============================] - 0s 25ms/step - loss: 5.5797e-04\n",
            "Epoch 17/20\n",
            "19/19 [==============================] - 1s 27ms/step - loss: 4.3537e-04\n",
            "Epoch 18/20\n",
            "19/19 [==============================] - 1s 29ms/step - loss: 5.4482e-04\n",
            "Epoch 19/20\n",
            "19/19 [==============================] - 1s 30ms/step - loss: 3.9668e-04\n",
            "Epoch 20/20\n",
            "19/19 [==============================] - 1s 28ms/step - loss: 4.4884e-04\n"
          ],
          "name": "stdout"
        },
        {
          "output_type": "execute_result",
          "data": {
            "text/plain": [
              "<tensorflow.python.keras.callbacks.History at 0x7f47667d5990>"
            ]
          },
          "metadata": {
            "tags": []
          },
          "execution_count": 9
        }
      ]
    },
    {
      "cell_type": "markdown",
      "metadata": {
        "id": "R0xtgnqQdWKe"
      },
      "source": [
        "예측치와 실제주가 변동이 비슷하다"
      ]
    },
    {
      "cell_type": "code",
      "metadata": {
        "id": "lb-I3OUsDUa2",
        "colab": {
          "base_uri": "https://localhost:8080/",
          "height": 542
        },
        "outputId": "197afce8-2c80-4c4d-a7f4-8cdd8a54ed5c"
      },
      "source": [
        "pred = model.predict(x_test)[:,-1]\n",
        "import plotly.graph_objects as go     \n",
        "fig = go.Figure()   \n",
        "fig.add_trace(go.Scatter(y=y_test,mode='lines',hovertext='실제값'))\n",
        "fig.add_trace(go.Scatter(y=pred,mode='lines+markers',hovertext='예측치'))"
      ],
      "execution_count": null,
      "outputs": [
        {
          "output_type": "display_data",
          "data": {
            "text/html": [
              "<html>\n",
              "<head><meta charset=\"utf-8\" /></head>\n",
              "<body>\n",
              "    <div>\n",
              "            <script src=\"https://cdnjs.cloudflare.com/ajax/libs/mathjax/2.7.5/MathJax.js?config=TeX-AMS-MML_SVG\"></script><script type=\"text/javascript\">if (window.MathJax) {MathJax.Hub.Config({SVG: {font: \"STIX-Web\"}});}</script>\n",
              "                <script type=\"text/javascript\">window.PlotlyConfig = {MathJaxConfig: 'local'};</script>\n",
              "        <script src=\"https://cdn.plot.ly/plotly-latest.min.js\"></script>    \n",
              "            <div id=\"d0a15e78-3fe6-45fe-89d8-41c0c1d66c17\" class=\"plotly-graph-div\" style=\"height:525px; width:100%;\"></div>\n",
              "            <script type=\"text/javascript\">\n",
              "                \n",
              "                    window.PLOTLYENV=window.PLOTLYENV || {};\n",
              "                    \n",
              "                if (document.getElementById(\"d0a15e78-3fe6-45fe-89d8-41c0c1d66c17\")) {\n",
              "                    Plotly.newPlot(\n",
              "                        'd0a15e78-3fe6-45fe-89d8-41c0c1d66c17',\n",
              "                        [{\"hovertext\": \"\\uc2e4\\uc81c\\uac12\", \"mode\": \"lines\", \"type\": \"scatter\", \"y\": [0.15350812909194333, 0.10084672269116046, 0.05435845340066914, 0.14150236049352904, 0.07597108823425613, 0.05720306971826372, 0.03564040397062951, 0.09947652717496425, -0.27580612569872276, 0.09377056497549918, 0.004250828749768676, 0.10759716797487351, 0.11020284176464568, 0.3125615514489417, -0.26524843243048246, 0.1569969135081124, 0.1027278351612384, 0.1402552140821356, 0.17396038347623466, 0.11575565734705728, 0.08272980286375398, -0.129716391518919, 0.0973579503226274, 0.1223910004992661, 0.1471880536480965, -0.08985513564046077, 0.13317808436751366, 0.11108902435758417, -0.06512329625746793, 0.04275087041753722, 0.20087300740702996]}, {\"hovertext\": \"\\uc608\\uce21\\uce58\", \"mode\": \"lines+markers\", \"type\": \"scatter\", \"y\": [0.1554378867149353, 0.10196684300899506, 0.07994487881660461, 0.15432396531105042, 0.08414178341627121, 0.07037635147571564, 0.06757646799087524, 0.13171657919883728, -0.33631405234336853, 0.11123595386743546, 0.006768182851374149, 0.13399383425712585, 0.1362278014421463, 0.34570199251174927, -0.22424229979515076, 0.15491361916065216, 0.13002973794937134, 0.14890038967132568, 0.15669605135917664, 0.11996176093816757, 0.0793830007314682, -0.07692331075668335, 0.1402309089899063, 0.15149196982383728, 0.17350369691848755, -0.11244190484285355, 0.12660188972949982, 0.17310726642608643, -0.044064391404390335, 0.1370241492986679, 0.22976846992969513]}],\n",
              "                        {\"template\": {\"data\": {\"bar\": [{\"error_x\": {\"color\": \"#2a3f5f\"}, \"error_y\": {\"color\": \"#2a3f5f\"}, \"marker\": {\"line\": {\"color\": \"#E5ECF6\", \"width\": 0.5}}, \"type\": \"bar\"}], \"barpolar\": [{\"marker\": {\"line\": {\"color\": \"#E5ECF6\", \"width\": 0.5}}, \"type\": \"barpolar\"}], \"carpet\": [{\"aaxis\": {\"endlinecolor\": \"#2a3f5f\", \"gridcolor\": \"white\", \"linecolor\": \"white\", \"minorgridcolor\": \"white\", \"startlinecolor\": \"#2a3f5f\"}, \"baxis\": {\"endlinecolor\": \"#2a3f5f\", \"gridcolor\": \"white\", \"linecolor\": \"white\", \"minorgridcolor\": \"white\", \"startlinecolor\": \"#2a3f5f\"}, \"type\": \"carpet\"}], \"choropleth\": [{\"colorbar\": {\"outlinewidth\": 0, \"ticks\": \"\"}, \"type\": \"choropleth\"}], \"contour\": [{\"colorbar\": {\"outlinewidth\": 0, \"ticks\": \"\"}, \"colorscale\": [[0.0, \"#0d0887\"], [0.1111111111111111, \"#46039f\"], [0.2222222222222222, \"#7201a8\"], [0.3333333333333333, \"#9c179e\"], [0.4444444444444444, \"#bd3786\"], [0.5555555555555556, \"#d8576b\"], [0.6666666666666666, \"#ed7953\"], [0.7777777777777778, \"#fb9f3a\"], [0.8888888888888888, \"#fdca26\"], [1.0, \"#f0f921\"]], \"type\": \"contour\"}], \"contourcarpet\": [{\"colorbar\": {\"outlinewidth\": 0, \"ticks\": \"\"}, \"type\": \"contourcarpet\"}], \"heatmap\": [{\"colorbar\": {\"outlinewidth\": 0, \"ticks\": \"\"}, \"colorscale\": [[0.0, \"#0d0887\"], [0.1111111111111111, \"#46039f\"], [0.2222222222222222, \"#7201a8\"], [0.3333333333333333, \"#9c179e\"], [0.4444444444444444, \"#bd3786\"], [0.5555555555555556, \"#d8576b\"], [0.6666666666666666, \"#ed7953\"], [0.7777777777777778, \"#fb9f3a\"], [0.8888888888888888, \"#fdca26\"], [1.0, \"#f0f921\"]], \"type\": \"heatmap\"}], \"heatmapgl\": [{\"colorbar\": {\"outlinewidth\": 0, \"ticks\": \"\"}, \"colorscale\": [[0.0, \"#0d0887\"], [0.1111111111111111, \"#46039f\"], [0.2222222222222222, \"#7201a8\"], [0.3333333333333333, \"#9c179e\"], [0.4444444444444444, \"#bd3786\"], [0.5555555555555556, \"#d8576b\"], [0.6666666666666666, \"#ed7953\"], [0.7777777777777778, \"#fb9f3a\"], [0.8888888888888888, \"#fdca26\"], [1.0, \"#f0f921\"]], \"type\": \"heatmapgl\"}], \"histogram\": [{\"marker\": {\"colorbar\": {\"outlinewidth\": 0, \"ticks\": \"\"}}, \"type\": \"histogram\"}], \"histogram2d\": [{\"colorbar\": {\"outlinewidth\": 0, \"ticks\": \"\"}, \"colorscale\": [[0.0, \"#0d0887\"], [0.1111111111111111, \"#46039f\"], [0.2222222222222222, \"#7201a8\"], [0.3333333333333333, \"#9c179e\"], [0.4444444444444444, \"#bd3786\"], [0.5555555555555556, \"#d8576b\"], [0.6666666666666666, \"#ed7953\"], [0.7777777777777778, \"#fb9f3a\"], [0.8888888888888888, \"#fdca26\"], [1.0, \"#f0f921\"]], \"type\": \"histogram2d\"}], \"histogram2dcontour\": [{\"colorbar\": {\"outlinewidth\": 0, \"ticks\": \"\"}, \"colorscale\": [[0.0, \"#0d0887\"], [0.1111111111111111, \"#46039f\"], [0.2222222222222222, \"#7201a8\"], [0.3333333333333333, \"#9c179e\"], [0.4444444444444444, \"#bd3786\"], [0.5555555555555556, \"#d8576b\"], [0.6666666666666666, \"#ed7953\"], [0.7777777777777778, \"#fb9f3a\"], [0.8888888888888888, \"#fdca26\"], [1.0, \"#f0f921\"]], \"type\": \"histogram2dcontour\"}], \"mesh3d\": [{\"colorbar\": {\"outlinewidth\": 0, \"ticks\": \"\"}, \"type\": \"mesh3d\"}], \"parcoords\": [{\"line\": {\"colorbar\": {\"outlinewidth\": 0, \"ticks\": \"\"}}, \"type\": \"parcoords\"}], \"pie\": [{\"automargin\": true, \"type\": \"pie\"}], \"scatter\": [{\"marker\": {\"colorbar\": {\"outlinewidth\": 0, \"ticks\": \"\"}}, \"type\": \"scatter\"}], \"scatter3d\": [{\"line\": {\"colorbar\": {\"outlinewidth\": 0, \"ticks\": \"\"}}, \"marker\": {\"colorbar\": {\"outlinewidth\": 0, \"ticks\": \"\"}}, \"type\": \"scatter3d\"}], \"scattercarpet\": [{\"marker\": {\"colorbar\": {\"outlinewidth\": 0, \"ticks\": \"\"}}, \"type\": \"scattercarpet\"}], \"scattergeo\": [{\"marker\": {\"colorbar\": {\"outlinewidth\": 0, \"ticks\": \"\"}}, \"type\": \"scattergeo\"}], \"scattergl\": [{\"marker\": {\"colorbar\": {\"outlinewidth\": 0, \"ticks\": \"\"}}, \"type\": \"scattergl\"}], \"scattermapbox\": [{\"marker\": {\"colorbar\": {\"outlinewidth\": 0, \"ticks\": \"\"}}, \"type\": \"scattermapbox\"}], \"scatterpolar\": [{\"marker\": {\"colorbar\": {\"outlinewidth\": 0, \"ticks\": \"\"}}, \"type\": \"scatterpolar\"}], \"scatterpolargl\": [{\"marker\": {\"colorbar\": {\"outlinewidth\": 0, \"ticks\": \"\"}}, \"type\": \"scatterpolargl\"}], \"scatterternary\": [{\"marker\": {\"colorbar\": {\"outlinewidth\": 0, \"ticks\": \"\"}}, \"type\": \"scatterternary\"}], \"surface\": [{\"colorbar\": {\"outlinewidth\": 0, \"ticks\": \"\"}, \"colorscale\": [[0.0, \"#0d0887\"], [0.1111111111111111, \"#46039f\"], [0.2222222222222222, \"#7201a8\"], [0.3333333333333333, \"#9c179e\"], [0.4444444444444444, \"#bd3786\"], [0.5555555555555556, \"#d8576b\"], [0.6666666666666666, \"#ed7953\"], [0.7777777777777778, \"#fb9f3a\"], [0.8888888888888888, \"#fdca26\"], [1.0, \"#f0f921\"]], \"type\": \"surface\"}], \"table\": [{\"cells\": {\"fill\": {\"color\": \"#EBF0F8\"}, \"line\": {\"color\": \"white\"}}, \"header\": {\"fill\": {\"color\": \"#C8D4E3\"}, \"line\": {\"color\": \"white\"}}, \"type\": \"table\"}]}, \"layout\": {\"annotationdefaults\": {\"arrowcolor\": \"#2a3f5f\", \"arrowhead\": 0, \"arrowwidth\": 1}, \"coloraxis\": {\"colorbar\": {\"outlinewidth\": 0, \"ticks\": \"\"}}, \"colorscale\": {\"diverging\": [[0, \"#8e0152\"], [0.1, \"#c51b7d\"], [0.2, \"#de77ae\"], [0.3, \"#f1b6da\"], [0.4, \"#fde0ef\"], [0.5, \"#f7f7f7\"], [0.6, \"#e6f5d0\"], [0.7, \"#b8e186\"], [0.8, \"#7fbc41\"], [0.9, \"#4d9221\"], [1, \"#276419\"]], \"sequential\": [[0.0, \"#0d0887\"], [0.1111111111111111, \"#46039f\"], [0.2222222222222222, \"#7201a8\"], [0.3333333333333333, \"#9c179e\"], [0.4444444444444444, \"#bd3786\"], [0.5555555555555556, \"#d8576b\"], [0.6666666666666666, \"#ed7953\"], [0.7777777777777778, \"#fb9f3a\"], [0.8888888888888888, \"#fdca26\"], [1.0, \"#f0f921\"]], \"sequentialminus\": [[0.0, \"#0d0887\"], [0.1111111111111111, \"#46039f\"], [0.2222222222222222, \"#7201a8\"], [0.3333333333333333, \"#9c179e\"], [0.4444444444444444, \"#bd3786\"], [0.5555555555555556, \"#d8576b\"], [0.6666666666666666, \"#ed7953\"], [0.7777777777777778, \"#fb9f3a\"], [0.8888888888888888, \"#fdca26\"], [1.0, \"#f0f921\"]]}, \"colorway\": [\"#636efa\", \"#EF553B\", \"#00cc96\", \"#ab63fa\", \"#FFA15A\", \"#19d3f3\", \"#FF6692\", \"#B6E880\", \"#FF97FF\", \"#FECB52\"], \"font\": {\"color\": \"#2a3f5f\"}, \"geo\": {\"bgcolor\": \"white\", \"lakecolor\": \"white\", \"landcolor\": \"#E5ECF6\", \"showlakes\": true, \"showland\": true, \"subunitcolor\": \"white\"}, \"hoverlabel\": {\"align\": \"left\"}, \"hovermode\": \"closest\", \"mapbox\": {\"style\": \"light\"}, \"paper_bgcolor\": \"white\", \"plot_bgcolor\": \"#E5ECF6\", \"polar\": {\"angularaxis\": {\"gridcolor\": \"white\", \"linecolor\": \"white\", \"ticks\": \"\"}, \"bgcolor\": \"#E5ECF6\", \"radialaxis\": {\"gridcolor\": \"white\", \"linecolor\": \"white\", \"ticks\": \"\"}}, \"scene\": {\"xaxis\": {\"backgroundcolor\": \"#E5ECF6\", \"gridcolor\": \"white\", \"gridwidth\": 2, \"linecolor\": \"white\", \"showbackground\": true, \"ticks\": \"\", \"zerolinecolor\": \"white\"}, \"yaxis\": {\"backgroundcolor\": \"#E5ECF6\", \"gridcolor\": \"white\", \"gridwidth\": 2, \"linecolor\": \"white\", \"showbackground\": true, \"ticks\": \"\", \"zerolinecolor\": \"white\"}, \"zaxis\": {\"backgroundcolor\": \"#E5ECF6\", \"gridcolor\": \"white\", \"gridwidth\": 2, \"linecolor\": \"white\", \"showbackground\": true, \"ticks\": \"\", \"zerolinecolor\": \"white\"}}, \"shapedefaults\": {\"line\": {\"color\": \"#2a3f5f\"}}, \"ternary\": {\"aaxis\": {\"gridcolor\": \"white\", \"linecolor\": \"white\", \"ticks\": \"\"}, \"baxis\": {\"gridcolor\": \"white\", \"linecolor\": \"white\", \"ticks\": \"\"}, \"bgcolor\": \"#E5ECF6\", \"caxis\": {\"gridcolor\": \"white\", \"linecolor\": \"white\", \"ticks\": \"\"}}, \"title\": {\"x\": 0.05}, \"xaxis\": {\"automargin\": true, \"gridcolor\": \"white\", \"linecolor\": \"white\", \"ticks\": \"\", \"title\": {\"standoff\": 15}, \"zerolinecolor\": \"white\", \"zerolinewidth\": 2}, \"yaxis\": {\"automargin\": true, \"gridcolor\": \"white\", \"linecolor\": \"white\", \"ticks\": \"\", \"title\": {\"standoff\": 15}, \"zerolinecolor\": \"white\", \"zerolinewidth\": 2}}}},\n",
              "                        {\"responsive\": true}\n",
              "                    ).then(function(){\n",
              "                            \n",
              "var gd = document.getElementById('d0a15e78-3fe6-45fe-89d8-41c0c1d66c17');\n",
              "var x = new MutationObserver(function (mutations, observer) {{\n",
              "        var display = window.getComputedStyle(gd).display;\n",
              "        if (!display || display === 'none') {{\n",
              "            console.log([gd, 'removed!']);\n",
              "            Plotly.purge(gd);\n",
              "            observer.disconnect();\n",
              "        }}\n",
              "}});\n",
              "\n",
              "// Listen for the removal of the full notebook cells\n",
              "var notebookContainer = gd.closest('#notebook-container');\n",
              "if (notebookContainer) {{\n",
              "    x.observe(notebookContainer, {childList: true});\n",
              "}}\n",
              "\n",
              "// Listen for the clearing of the current output cell\n",
              "var outputEl = gd.closest('.output');\n",
              "if (outputEl) {{\n",
              "    x.observe(outputEl, {childList: true});\n",
              "}}\n",
              "\n",
              "                        })\n",
              "                };\n",
              "                \n",
              "            </script>\n",
              "        </div>\n",
              "</body>\n",
              "</html>"
            ]
          },
          "metadata": {
            "tags": []
          }
        }
      ]
    },
    {
      "cell_type": "markdown",
      "metadata": {
        "id": "UV8nTAuye3cZ"
      },
      "source": [
        "###<책의 pandas_datareader오류>\n",
        " pandas_datareader 라이브러리로 yahoo에서 직접 주가 가져오는 api기능은 URL 읽지못하는 오류발생해서 2021.7.5일부터 사용하지 못함 "
      ]
    },
    {
      "cell_type": "code",
      "metadata": {
        "id": "HiXr3rPmpAkv"
      },
      "source": [
        "#from pandas_datareader import get_data_yahoo\n",
        "#import pandas as pd\n",
        "#df_prices=pd.DataFrame(get_data_yahoo('^KS11', '2020-1-01')) \n",
        "#prices = df_prices['Close']"
      ],
      "execution_count": null,
      "outputs": []
    }
  ]
}