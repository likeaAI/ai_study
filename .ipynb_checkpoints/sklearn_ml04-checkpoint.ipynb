{
 "cells": [
  {
   "cell_type": "code",
   "execution_count": 26,
   "id": "deede341",
   "metadata": {},
   "outputs": [
    {
     "data": {
      "text/plain": [
       "'0.24.2'"
      ]
     },
     "execution_count": 26,
     "metadata": {},
     "output_type": "execute_result"
    }
   ],
   "source": [
    "import numpy  as np\n",
    "import pandas as pd\n",
    "\n",
    "# 시각화\n",
    "import matplotlib.pyplot as plt \n",
    "%matplotlib inline\n",
    "\n",
    "import seaborn as sns\n",
    "\n",
    "import json \n",
    "\n",
    "import warnings\n",
    "warnings.filterwarnings(action='ignore')\n",
    "\n",
    "from datetime import date, datetime, timedelta\n",
    "from dateutil.parser import parse\n",
    "\n",
    "\n",
    "# 한글 폰트 문제 해결\n",
    "import platform\n",
    "\n",
    "from matplotlib import font_manager, rc\n",
    "\n",
    "if platform.system() == 'Darwin':\n",
    "    plt.rc('font', family='AppleGothic')\n",
    "elif platform.system() == 'Windows':\n",
    "    path = \"c:/Windows/Fonts/malgun.ttf\"\n",
    "    font_name = font_manager.FontProperties(fname=path).get_name()\n",
    "    plt.rc('font', family=font_name)\n",
    "else:\n",
    "    print('Unknown system... sorry~~~~') \n",
    "\n",
    "\n",
    "# 차트 축 <- 음수 부호 지원\n",
    "import matplotlib\n",
    "matplotlib.rcParams['axes.unicode_minus'] = False\n",
    "\n",
    "\n",
    "# crawling\n",
    "from bs4 import BeautifulSoup\n",
    "from urllib.request import urlopen , urlretrieve\n",
    "from urllib.error   import HTTPError\n",
    "from urllib.error   import URLError\n",
    "\n",
    "import requests \n",
    "import re\n",
    "\n",
    "from selenium import webdriver\n",
    "\n",
    "from time    import sleep , time \n",
    "from random  import randint\n",
    "from IPython.core.display import clear_output\n",
    "\n",
    "# 비정형 디비 \n",
    "import pymongo as mongo\n",
    "\n",
    "# print('numpy version  - ' , np.__version__)\n",
    "# print('pandas version - ' , pd.__version__)\n",
    "\n",
    "# conda install -c conda-forge python-graphviz\n",
    "# pip install graphviz\n",
    "\n",
    "import graphviz\n",
    "import missingno as msno\n",
    "\n",
    "# ml \n",
    "import sklearn\n",
    "from   sklearn.datasets import load_iris , load_breast_cancer\n",
    "\n",
    "from   sklearn.model_selection import train_test_split , KFold , StratifiedKFold, cross_val_score , cross_validate , GridSearchCV\n",
    "\n",
    "from   sklearn.tree            import DecisionTreeClassifier , export_graphviz\n",
    "from   sklearn.ensemble        import RandomForestClassifier\n",
    "from   sklearn.linear_model    import LogisticRegression\n",
    "\n",
    "\n",
    "from   sklearn.metrics         import accuracy_score , precision_score , recall_score , f1_score , confusion_matrix , precision_recall_curve  ,  roc_curve , roc_auc_score  \n",
    "from   sklearn.preprocessing   import LabelEncoder , OneHotEncoder , MinMaxScaler , StandardScaler , Binarizer\n",
    "from   sklearn.impute          import SimpleImputer\n",
    "\n",
    "from   sklearn.base            import BaseEstimator\n",
    "\n",
    "from   IPython.display import Image\n",
    "\n",
    "\n",
    "sklearn.__version__"
   ]
  },
  {
   "cell_type": "markdown",
   "id": "556b595d",
   "metadata": {},
   "source": [
    "- 분류모델 성능 평가를 위한 이해"
   ]
  },
  {
   "cell_type": "code",
   "execution_count": 28,
   "id": "440098ed",
   "metadata": {},
   "outputs": [
    {
     "name": "stdout",
     "output_type": "stream",
     "text": [
      "TP(target = 1 , predict = 1)\n",
      "TN(target = 0 , predict = 0)\n",
      "FN(target = 1 , predict = 0) -> Type I error\n",
      "FP(target = 0 , predict = 1) -> Type 2 error\n",
      "\n",
      "TP(target = 1 , predict = 1) -  3\n",
      "TN(target = 0 , predict = 0) -  0\n",
      "FN(target = 1 , predict = 0) -> Type I error -  4\n",
      "FP(target = 0 , predict = 1) -> Type 2 error -  3\n"
     ]
    }
   ],
   "source": [
    "\n",
    "print('TP(target = 1 , predict = 1)')\n",
    "print('TN(target = 0 , predict = 0)')\n",
    "print('FN(target = 1 , predict = 0) -> Type I error')\n",
    "print('FP(target = 0 , predict = 1) -> Type 2 error')\n",
    "\n",
    "target     = [1, 0, 0, 1, 1, 1, 0, 1, 1, 1]\n",
    "prediction = [0, 1, 1, 1, 1, 0, 1, 0, 1, 0]\n",
    "\n",
    "tp = tn = fn = fp = 0 \n",
    "\n",
    "for idx in range(len(target)) :\n",
    "    if target[idx] == 1 and prediction[idx] == 1 :\n",
    "        tp += 1 \n",
    "    if target[idx] == 0 and prediction[idx] == 0 :\n",
    "        tn += 1\n",
    "    if target[idx] == 1 and prediction[idx] == 0 :\n",
    "        fn += 1\n",
    "    if target[idx] == 0 and prediction[idx] == 1 :\n",
    "        fp += 1 \n",
    "        \n",
    "print()\n",
    "print('TP(target = 1 , predict = 1) - ' , tp)\n",
    "print('TN(target = 0 , predict = 0) - ' , tn)\n",
    "print('FN(target = 1 , predict = 0) -> Type I error - ' , fn)\n",
    "print('FP(target = 0 , predict = 1) -> Type 2 error - ' , fp)"
   ]
  },
  {
   "cell_type": "code",
   "execution_count": 30,
   "id": "4a771a30",
   "metadata": {},
   "outputs": [
    {
     "name": "stdout",
     "output_type": "stream",
     "text": [
      "confusion matrix \n",
      " [[0 3]\n",
      " [4 3]]\n",
      "\n",
      "accuracy \n",
      " 0.3\n",
      "\n",
      "recall \n",
      " 0.42857142857142855\n",
      "\n",
      "precision \n",
      " 0.5\n",
      "\n",
      "f1 score \n",
      " 0.4615384615384615\n"
     ]
    }
   ],
   "source": [
    "print('confusion matrix \\n' , confusion_matrix(target , prediction))\n",
    "print()\n",
    "print('accuracy \\n' , accuracy_score(target , prediction))\n",
    "print()\n",
    "print('recall \\n'   , recall_score(target , prediction))\n",
    "print()\n",
    "print('precision \\n'   , precision_score(target , prediction))\n",
    "print()\n",
    "print('f1 score \\n'   , f1_score(target , prediction))"
   ]
  },
  {
   "cell_type": "code",
   "execution_count": 32,
   "id": "68ad075b",
   "metadata": {},
   "outputs": [
    {
     "data": {
      "text/plain": [
       "'\\n요구사항) \\n제품을 생산하는 공장에서 품질 테스트를 실시하여 불량품을 찾아내고 불량품을 공장으로 돌려보낸다\\n\\n테스트 결과 양성 -> 불량품\\n            음성 -> 정상제품\\n\\nTP : 실제 불량을 불량으로 예측\\nTN : 실제 정상을 정상으로 예측\\nFN : 실제 불량을 정상으로 예측\\nFP : 실제 정상을 불량으로 예측\\n\\n                   불량예측           정상예측\\n불량품               TP                 FN\\n정상제품             FP                 TN\\n\\n정밀도(Precision) : TP / ( TP + FP )\\n-> 예측을 Positive 로 한 대상 중에 예측과 실제값이 Positive 로 일치하는 데이터의 비율\\n재현율(Recall)    : TP / ( TP + FN ) \\n-> 실제값이 Positive 인 대상 중에 예측과 실제값이 Positive 로 일치한 데이터의 비율\\n\\n- 상대적으로 정밀도가 더 중요한 지표인 경우 : 스팸매일\\n- 상대적으로 재현율이 더 중요한 지표인 경우 : 의학(암 진단) , 금융(사기 판별)\\n'"
      ]
     },
     "execution_count": 32,
     "metadata": {},
     "output_type": "execute_result"
    }
   ],
   "source": [
    "'''\n",
    "요구사항) \n",
    "제품을 생산하는 공장에서 품질 테스트를 실시하여 불량품을 찾아내고 불량품을 공장으로 돌려보낸다\n",
    "\n",
    "테스트 결과 양성 -> 불량품\n",
    "            음성 -> 정상제품\n",
    "\n",
    "TP : 실제 불량을 불량으로 예측\n",
    "TN : 실제 정상을 정상으로 예측\n",
    "FN : 실제 불량을 정상으로 예측\n",
    "FP : 실제 정상을 불량으로 예측\n",
    "\n",
    "                   불량예측           정상예측\n",
    "불량품               TP                 FN\n",
    "정상제품             FP                 TN\n",
    "\n",
    "정밀도(Precision) : TP / ( TP + FP )\n",
    "-> 예측을 Positive 로 한 대상 중에 예측과 실제값이 Positive 로 일치하는 데이터의 비율\n",
    "재현율(Recall)    : TP / ( TP + FN ) \n",
    "-> 실제값이 Positive 인 대상 중에 예측과 실제값이 Positive 로 일치한 데이터의 비율\n",
    "\n",
    "- 상대적으로 정밀도가 더 중요한 지표인 경우 : 스팸매일\n",
    "- 상대적으로 재현율이 더 중요한 지표인 경우 : 의학(암 진단) , 금융(사기 판별)\n",
    "'''        "
   ]
  },
  {
   "cell_type": "code",
   "execution_count": 44,
   "id": "a68c1a00",
   "metadata": {},
   "outputs": [
    {
     "data": {
      "text/html": [
       "<div>\n",
       "<style scoped>\n",
       "    .dataframe tbody tr th:only-of-type {\n",
       "        vertical-align: middle;\n",
       "    }\n",
       "\n",
       "    .dataframe tbody tr th {\n",
       "        vertical-align: top;\n",
       "    }\n",
       "\n",
       "    .dataframe thead th {\n",
       "        text-align: right;\n",
       "    }\n",
       "</style>\n",
       "<table border=\"1\" class=\"dataframe\">\n",
       "  <thead>\n",
       "    <tr style=\"text-align: right;\">\n",
       "      <th></th>\n",
       "      <th>PassengerId</th>\n",
       "      <th>Survived</th>\n",
       "      <th>Pclass</th>\n",
       "      <th>Name</th>\n",
       "      <th>Sex</th>\n",
       "      <th>Age</th>\n",
       "      <th>SibSp</th>\n",
       "      <th>Parch</th>\n",
       "      <th>Ticket</th>\n",
       "      <th>Fare</th>\n",
       "      <th>Cabin</th>\n",
       "      <th>Embarked</th>\n",
       "    </tr>\n",
       "  </thead>\n",
       "  <tbody>\n",
       "    <tr>\n",
       "      <th>0</th>\n",
       "      <td>1</td>\n",
       "      <td>0</td>\n",
       "      <td>3</td>\n",
       "      <td>Braund, Mr. Owen Harris</td>\n",
       "      <td>male</td>\n",
       "      <td>22.0</td>\n",
       "      <td>1</td>\n",
       "      <td>0</td>\n",
       "      <td>A/5 21171</td>\n",
       "      <td>7.2500</td>\n",
       "      <td>NaN</td>\n",
       "      <td>S</td>\n",
       "    </tr>\n",
       "    <tr>\n",
       "      <th>1</th>\n",
       "      <td>2</td>\n",
       "      <td>1</td>\n",
       "      <td>1</td>\n",
       "      <td>Cumings, Mrs. John Bradley (Florence Briggs Th...</td>\n",
       "      <td>female</td>\n",
       "      <td>38.0</td>\n",
       "      <td>1</td>\n",
       "      <td>0</td>\n",
       "      <td>PC 17599</td>\n",
       "      <td>71.2833</td>\n",
       "      <td>C85</td>\n",
       "      <td>C</td>\n",
       "    </tr>\n",
       "    <tr>\n",
       "      <th>2</th>\n",
       "      <td>3</td>\n",
       "      <td>1</td>\n",
       "      <td>3</td>\n",
       "      <td>Heikkinen, Miss. Laina</td>\n",
       "      <td>female</td>\n",
       "      <td>26.0</td>\n",
       "      <td>0</td>\n",
       "      <td>0</td>\n",
       "      <td>STON/O2. 3101282</td>\n",
       "      <td>7.9250</td>\n",
       "      <td>NaN</td>\n",
       "      <td>S</td>\n",
       "    </tr>\n",
       "    <tr>\n",
       "      <th>3</th>\n",
       "      <td>4</td>\n",
       "      <td>1</td>\n",
       "      <td>1</td>\n",
       "      <td>Futrelle, Mrs. Jacques Heath (Lily May Peel)</td>\n",
       "      <td>female</td>\n",
       "      <td>35.0</td>\n",
       "      <td>1</td>\n",
       "      <td>0</td>\n",
       "      <td>113803</td>\n",
       "      <td>53.1000</td>\n",
       "      <td>C123</td>\n",
       "      <td>S</td>\n",
       "    </tr>\n",
       "    <tr>\n",
       "      <th>4</th>\n",
       "      <td>5</td>\n",
       "      <td>0</td>\n",
       "      <td>3</td>\n",
       "      <td>Allen, Mr. William Henry</td>\n",
       "      <td>male</td>\n",
       "      <td>35.0</td>\n",
       "      <td>0</td>\n",
       "      <td>0</td>\n",
       "      <td>373450</td>\n",
       "      <td>8.0500</td>\n",
       "      <td>NaN</td>\n",
       "      <td>S</td>\n",
       "    </tr>\n",
       "  </tbody>\n",
       "</table>\n",
       "</div>"
      ],
      "text/plain": [
       "   PassengerId  Survived  Pclass  \\\n",
       "0            1         0       3   \n",
       "1            2         1       1   \n",
       "2            3         1       3   \n",
       "3            4         1       1   \n",
       "4            5         0       3   \n",
       "\n",
       "                                                Name     Sex   Age  SibSp  \\\n",
       "0                            Braund, Mr. Owen Harris    male  22.0      1   \n",
       "1  Cumings, Mrs. John Bradley (Florence Briggs Th...  female  38.0      1   \n",
       "2                             Heikkinen, Miss. Laina  female  26.0      0   \n",
       "3       Futrelle, Mrs. Jacques Heath (Lily May Peel)  female  35.0      1   \n",
       "4                           Allen, Mr. William Henry    male  35.0      0   \n",
       "\n",
       "   Parch            Ticket     Fare Cabin Embarked  \n",
       "0      0         A/5 21171   7.2500   NaN        S  \n",
       "1      0          PC 17599  71.2833   C85        C  \n",
       "2      0  STON/O2. 3101282   7.9250   NaN        S  \n",
       "3      0            113803  53.1000  C123        S  \n",
       "4      0            373450   8.0500   NaN        S  "
      ]
     },
     "execution_count": 44,
     "metadata": {},
     "output_type": "execute_result"
    }
   ],
   "source": [
    "titanic_frm = pd.read_csv('C:/Users/crid2/ml-data/titanic_train.csv')\n",
    "titanic_frm.head()"
   ]
  },
  {
   "cell_type": "markdown",
   "id": "2f948467",
   "metadata": {},
   "source": [
    " - 타이타닉에서 여성의 생존이 남성의 생존보다 높으므로 분류알고리즘의 정확도로 성능을 평가하면 모델의 성능은 왜곡될 수 있다.\n"
   ]
  },
  {
   "cell_type": "code",
   "execution_count": 36,
   "id": "f444a3f6",
   "metadata": {},
   "outputs": [],
   "source": [
    "class UserEstimator(BaseEstimator) : \n",
    "    def fit(self , X , y = None ) :\n",
    "        pass\n",
    "    \n",
    "    def predict(self , X) :\n",
    "        pred = np.zeros( (X.shape[0] , 1))\n",
    "        for idx in range(X.shape[0]) :\n",
    "            if X['Sex'].iloc[idx] == 1 :\n",
    "                pred[idx] = 0\n",
    "            else :\n",
    "                pred[idx] = 1\n",
    "        \n",
    "        return pred"
   ]
  },
  {
   "cell_type": "code",
   "execution_count": 38,
   "id": "91a7aaf6",
   "metadata": {},
   "outputs": [
    {
     "name": "stdout",
     "output_type": "stream",
     "text": [
      "불필요한 피처 삭제 - \n",
      "결측값 처리  - \n",
      "레이블 인코딩 -\n"
     ]
    }
   ],
   "source": [
    "print('불필요한 피처 삭제 - ')\n",
    "def drop_features(frm) : \n",
    "    \n",
    "    frm.drop(['PassengerId' , 'Name' , 'Ticket'] , axis = 1 , inplace = True )\n",
    "    return frm \n",
    "\n",
    "print('결측값 처리  - ')\n",
    "def pre_processing(frm) : \n",
    "\n",
    "    titanic_age_imputer = SimpleImputer(strategy = 'mean')\n",
    "\n",
    "    frm['Age']  = titanic_age_imputer.fit_transform(frm[['Age']])\n",
    "    frm['Cabin'].fillna('N' , inplace = True ) \n",
    "    frm['Embarked'] =  frm['Embarked'].fillna('N')\n",
    "\n",
    "    return frm \n",
    "\n",
    "print('레이블 인코딩 -')\n",
    "def label_encoder(frm) : \n",
    "    \n",
    "    frm['Cabin'] = frm['Cabin'].str[:1]\n",
    "    \n",
    "    features = ['Sex' , 'Cabin' , 'Embarked']\n",
    "    \n",
    "    for f in features :\n",
    "        le = LabelEncoder()\n",
    "        le = le.fit(frm[f])\n",
    "        frm[f] = le.transform(frm[f])\n",
    "    \n",
    "    return frm \n",
    "\n",
    "\n",
    "def transform_features(frm) :\n",
    "    frm = drop_features(frm)\n",
    "    frm = pre_processing(frm)\n",
    "    frm = label_encoder(frm)\n",
    "    \n",
    "    return frm "
   ]
  },
  {
   "cell_type": "code",
   "execution_count": 46,
   "id": "4e9eb131",
   "metadata": {},
   "outputs": [
    {
     "name": "stdout",
     "output_type": "stream",
     "text": [
      "type -  <class 'pandas.core.series.Series'>\n",
      "type -  <class 'pandas.core.frame.DataFrame'>\n"
     ]
    }
   ],
   "source": [
    "titanic_target   = titanic_frm['Survived']\n",
    "titanic_features = titanic_frm.drop(['Survived'] , axis = 1) \n",
    "\n",
    "print('type - ' , type(titanic_target)) \n",
    "print('type - ' , type(titanic_features)) "
   ]
  },
  {
   "cell_type": "code",
   "execution_count": 47,
   "id": "9582c99c",
   "metadata": {},
   "outputs": [],
   "source": [
    "clean_features = transform_features(titanic_features)\n"
   ]
  },
  {
   "cell_type": "code",
   "execution_count": 49,
   "id": "7199d766",
   "metadata": {},
   "outputs": [
    {
     "name": "stdout",
     "output_type": "stream",
     "text": [
      "<class 'pandas.core.frame.DataFrame'>\n",
      "RangeIndex: 891 entries, 0 to 890\n",
      "Data columns (total 8 columns):\n",
      " #   Column    Non-Null Count  Dtype  \n",
      "---  ------    --------------  -----  \n",
      " 0   Pclass    891 non-null    int64  \n",
      " 1   Sex       891 non-null    int32  \n",
      " 2   Age       891 non-null    float64\n",
      " 3   SibSp     891 non-null    int64  \n",
      " 4   Parch     891 non-null    int64  \n",
      " 5   Fare      891 non-null    float64\n",
      " 6   Cabin     891 non-null    int32  \n",
      " 7   Embarked  891 non-null    int32  \n",
      "dtypes: float64(2), int32(3), int64(3)\n",
      "memory usage: 45.4 KB\n"
     ]
    }
   ],
   "source": [
    "clean_features.info()"
   ]
  },
  {
   "cell_type": "code",
   "execution_count": 52,
   "id": "4666a9e5",
   "metadata": {},
   "outputs": [],
   "source": [
    "X_train , X_test , y_train , y_test = train_test_split(titanic_features , \n",
    "                                                       titanic_target , \n",
    "                                                       test_size = 0.2 , \n",
    "                                                       random_state = 100)\n"
   ]
  },
  {
   "cell_type": "code",
   "execution_count": 54,
   "id": "d42eaae2",
   "metadata": {},
   "outputs": [
    {
     "data": {
      "text/plain": [
       "((712, 8), (179, 8), (712,), (179,))"
      ]
     },
     "execution_count": 54,
     "metadata": {},
     "output_type": "execute_result"
    }
   ],
   "source": [
    "X_train.shape , X_test.shape , y_train.shape , y_test.shape "
   ]
  },
  {
   "cell_type": "code",
   "execution_count": 56,
   "id": "99cf6ce8",
   "metadata": {},
   "outputs": [
    {
     "name": "stdout",
     "output_type": "stream",
     "text": [
      "user model accuracy -  0.7877094972067039\n"
     ]
    }
   ],
   "source": [
    "user_model = UserEstimator()\n",
    "\n",
    "user_model.fit(X_train, y_train)\n",
    "user_pred = user_model.predict(X_test)\n",
    "\n",
    "print('user model accuracy - ' , accuracy_score(y_test , user_pred))"
   ]
  },
  {
   "cell_type": "code",
   "execution_count": 58,
   "id": "9909ca8b",
   "metadata": {},
   "outputs": [],
   "source": [
    "def metrics_evaluation(target , prediction) :\n",
    "    print('confusion matrix \\n' , confusion_matrix(target , prediction))\n",
    "    print()\n",
    "    print('accuracy \\n' , accuracy_score(target , prediction))\n",
    "    print()\n",
    "    print('recall \\n'   , recall_score(target , prediction))\n",
    "    print()\n",
    "    print('precision \\n'   , precision_score(target , prediction))\n",
    "    print()\n",
    "    print('f1 score \\n'   , f1_score(target , prediction))"
   ]
  },
  {
   "cell_type": "code",
   "execution_count": 60,
   "id": "871876ed",
   "metadata": {},
   "outputs": [
    {
     "name": "stdout",
     "output_type": "stream",
     "text": [
      "confusion matrix \n",
      " [[88 16]\n",
      " [22 53]]\n",
      "\n",
      "accuracy \n",
      " 0.7877094972067039\n",
      "\n",
      "recall \n",
      " 0.7066666666666667\n",
      "\n",
      "precision \n",
      " 0.7681159420289855\n",
      "\n",
      "f1 score \n",
      " 0.736111111111111\n"
     ]
    }
   ],
   "source": [
    "metrics_evaluation(y_test , user_pred)"
   ]
  },
  {
   "cell_type": "code",
   "execution_count": 62,
   "id": "03c00cfb",
   "metadata": {},
   "outputs": [
    {
     "name": "stdout",
     "output_type": "stream",
     "text": [
      "confusion matrix \n",
      " [[90 14]\n",
      " [21 54]]\n",
      "\n",
      "accuracy \n",
      " 0.8044692737430168\n",
      "\n",
      "recall \n",
      " 0.72\n",
      "\n",
      "precision \n",
      " 0.7941176470588235\n",
      "\n",
      "f1 score \n",
      " 0.7552447552447551\n"
     ]
    }
   ],
   "source": [
    "lr_model = LogisticRegression()\n",
    "\n",
    "lr_model.fit(X_train, y_train)\n",
    "lr_pred = lr_model.predict(X_test)\n",
    "\n",
    "\n",
    "metrics_evaluation(y_test , lr_pred)"
   ]
  },
  {
   "cell_type": "code",
   "execution_count": 64,
   "id": "fddf41fd",
   "metadata": {},
   "outputs": [
    {
     "name": "stdout",
     "output_type": "stream",
     "text": [
      "acc -  0.8044692737430168\n",
      "실제 True 를 True 예측  recall    -  0.72\n",
      "예측 True 를 실제 True  precision -  0.7941176470588235\n"
     ]
    }
   ],
   "source": [
    "print('acc - ' , (90+54) / (90+14+21+54) ) \n",
    "print('실제 True 를 True 예측  recall    - ' , (54) / (54+21) )\n",
    "print('예측 True 를 실제 True  precision - ' , (54) / (54+14) )"
   ]
  },
  {
   "cell_type": "code",
   "execution_count": 66,
   "id": "e3c3524e",
   "metadata": {},
   "outputs": [
    {
     "data": {
      "text/plain": [
       "dict_keys(['data', 'target', 'frame', 'target_names', 'DESCR', 'feature_names', 'filename'])"
      ]
     },
     "execution_count": 66,
     "metadata": {},
     "output_type": "execute_result"
    }
   ],
   "source": [
    "cancer = load_breast_cancer()\n",
    "cancer.keys()"
   ]
  },
  {
   "cell_type": "code",
   "execution_count": 68,
   "id": "7c7d927e",
   "metadata": {},
   "outputs": [
    {
     "data": {
      "text/html": [
       "<div>\n",
       "<style scoped>\n",
       "    .dataframe tbody tr th:only-of-type {\n",
       "        vertical-align: middle;\n",
       "    }\n",
       "\n",
       "    .dataframe tbody tr th {\n",
       "        vertical-align: top;\n",
       "    }\n",
       "\n",
       "    .dataframe thead th {\n",
       "        text-align: right;\n",
       "    }\n",
       "</style>\n",
       "<table border=\"1\" class=\"dataframe\">\n",
       "  <thead>\n",
       "    <tr style=\"text-align: right;\">\n",
       "      <th></th>\n",
       "      <th>mean radius</th>\n",
       "      <th>mean texture</th>\n",
       "      <th>mean perimeter</th>\n",
       "      <th>mean area</th>\n",
       "      <th>mean smoothness</th>\n",
       "      <th>mean compactness</th>\n",
       "      <th>mean concavity</th>\n",
       "      <th>mean concave points</th>\n",
       "      <th>mean symmetry</th>\n",
       "      <th>mean fractal dimension</th>\n",
       "      <th>...</th>\n",
       "      <th>worst texture</th>\n",
       "      <th>worst perimeter</th>\n",
       "      <th>worst area</th>\n",
       "      <th>worst smoothness</th>\n",
       "      <th>worst compactness</th>\n",
       "      <th>worst concavity</th>\n",
       "      <th>worst concave points</th>\n",
       "      <th>worst symmetry</th>\n",
       "      <th>worst fractal dimension</th>\n",
       "      <th>target</th>\n",
       "    </tr>\n",
       "  </thead>\n",
       "  <tbody>\n",
       "    <tr>\n",
       "      <th>0</th>\n",
       "      <td>17.99</td>\n",
       "      <td>10.38</td>\n",
       "      <td>122.80</td>\n",
       "      <td>1001.0</td>\n",
       "      <td>0.11840</td>\n",
       "      <td>0.27760</td>\n",
       "      <td>0.30010</td>\n",
       "      <td>0.14710</td>\n",
       "      <td>0.2419</td>\n",
       "      <td>0.07871</td>\n",
       "      <td>...</td>\n",
       "      <td>17.33</td>\n",
       "      <td>184.60</td>\n",
       "      <td>2019.0</td>\n",
       "      <td>0.16220</td>\n",
       "      <td>0.66560</td>\n",
       "      <td>0.7119</td>\n",
       "      <td>0.2654</td>\n",
       "      <td>0.4601</td>\n",
       "      <td>0.11890</td>\n",
       "      <td>0</td>\n",
       "    </tr>\n",
       "    <tr>\n",
       "      <th>1</th>\n",
       "      <td>20.57</td>\n",
       "      <td>17.77</td>\n",
       "      <td>132.90</td>\n",
       "      <td>1326.0</td>\n",
       "      <td>0.08474</td>\n",
       "      <td>0.07864</td>\n",
       "      <td>0.08690</td>\n",
       "      <td>0.07017</td>\n",
       "      <td>0.1812</td>\n",
       "      <td>0.05667</td>\n",
       "      <td>...</td>\n",
       "      <td>23.41</td>\n",
       "      <td>158.80</td>\n",
       "      <td>1956.0</td>\n",
       "      <td>0.12380</td>\n",
       "      <td>0.18660</td>\n",
       "      <td>0.2416</td>\n",
       "      <td>0.1860</td>\n",
       "      <td>0.2750</td>\n",
       "      <td>0.08902</td>\n",
       "      <td>0</td>\n",
       "    </tr>\n",
       "    <tr>\n",
       "      <th>2</th>\n",
       "      <td>19.69</td>\n",
       "      <td>21.25</td>\n",
       "      <td>130.00</td>\n",
       "      <td>1203.0</td>\n",
       "      <td>0.10960</td>\n",
       "      <td>0.15990</td>\n",
       "      <td>0.19740</td>\n",
       "      <td>0.12790</td>\n",
       "      <td>0.2069</td>\n",
       "      <td>0.05999</td>\n",
       "      <td>...</td>\n",
       "      <td>25.53</td>\n",
       "      <td>152.50</td>\n",
       "      <td>1709.0</td>\n",
       "      <td>0.14440</td>\n",
       "      <td>0.42450</td>\n",
       "      <td>0.4504</td>\n",
       "      <td>0.2430</td>\n",
       "      <td>0.3613</td>\n",
       "      <td>0.08758</td>\n",
       "      <td>0</td>\n",
       "    </tr>\n",
       "    <tr>\n",
       "      <th>3</th>\n",
       "      <td>11.42</td>\n",
       "      <td>20.38</td>\n",
       "      <td>77.58</td>\n",
       "      <td>386.1</td>\n",
       "      <td>0.14250</td>\n",
       "      <td>0.28390</td>\n",
       "      <td>0.24140</td>\n",
       "      <td>0.10520</td>\n",
       "      <td>0.2597</td>\n",
       "      <td>0.09744</td>\n",
       "      <td>...</td>\n",
       "      <td>26.50</td>\n",
       "      <td>98.87</td>\n",
       "      <td>567.7</td>\n",
       "      <td>0.20980</td>\n",
       "      <td>0.86630</td>\n",
       "      <td>0.6869</td>\n",
       "      <td>0.2575</td>\n",
       "      <td>0.6638</td>\n",
       "      <td>0.17300</td>\n",
       "      <td>0</td>\n",
       "    </tr>\n",
       "    <tr>\n",
       "      <th>4</th>\n",
       "      <td>20.29</td>\n",
       "      <td>14.34</td>\n",
       "      <td>135.10</td>\n",
       "      <td>1297.0</td>\n",
       "      <td>0.10030</td>\n",
       "      <td>0.13280</td>\n",
       "      <td>0.19800</td>\n",
       "      <td>0.10430</td>\n",
       "      <td>0.1809</td>\n",
       "      <td>0.05883</td>\n",
       "      <td>...</td>\n",
       "      <td>16.67</td>\n",
       "      <td>152.20</td>\n",
       "      <td>1575.0</td>\n",
       "      <td>0.13740</td>\n",
       "      <td>0.20500</td>\n",
       "      <td>0.4000</td>\n",
       "      <td>0.1625</td>\n",
       "      <td>0.2364</td>\n",
       "      <td>0.07678</td>\n",
       "      <td>0</td>\n",
       "    </tr>\n",
       "    <tr>\n",
       "      <th>...</th>\n",
       "      <td>...</td>\n",
       "      <td>...</td>\n",
       "      <td>...</td>\n",
       "      <td>...</td>\n",
       "      <td>...</td>\n",
       "      <td>...</td>\n",
       "      <td>...</td>\n",
       "      <td>...</td>\n",
       "      <td>...</td>\n",
       "      <td>...</td>\n",
       "      <td>...</td>\n",
       "      <td>...</td>\n",
       "      <td>...</td>\n",
       "      <td>...</td>\n",
       "      <td>...</td>\n",
       "      <td>...</td>\n",
       "      <td>...</td>\n",
       "      <td>...</td>\n",
       "      <td>...</td>\n",
       "      <td>...</td>\n",
       "      <td>...</td>\n",
       "    </tr>\n",
       "    <tr>\n",
       "      <th>564</th>\n",
       "      <td>21.56</td>\n",
       "      <td>22.39</td>\n",
       "      <td>142.00</td>\n",
       "      <td>1479.0</td>\n",
       "      <td>0.11100</td>\n",
       "      <td>0.11590</td>\n",
       "      <td>0.24390</td>\n",
       "      <td>0.13890</td>\n",
       "      <td>0.1726</td>\n",
       "      <td>0.05623</td>\n",
       "      <td>...</td>\n",
       "      <td>26.40</td>\n",
       "      <td>166.10</td>\n",
       "      <td>2027.0</td>\n",
       "      <td>0.14100</td>\n",
       "      <td>0.21130</td>\n",
       "      <td>0.4107</td>\n",
       "      <td>0.2216</td>\n",
       "      <td>0.2060</td>\n",
       "      <td>0.07115</td>\n",
       "      <td>0</td>\n",
       "    </tr>\n",
       "    <tr>\n",
       "      <th>565</th>\n",
       "      <td>20.13</td>\n",
       "      <td>28.25</td>\n",
       "      <td>131.20</td>\n",
       "      <td>1261.0</td>\n",
       "      <td>0.09780</td>\n",
       "      <td>0.10340</td>\n",
       "      <td>0.14400</td>\n",
       "      <td>0.09791</td>\n",
       "      <td>0.1752</td>\n",
       "      <td>0.05533</td>\n",
       "      <td>...</td>\n",
       "      <td>38.25</td>\n",
       "      <td>155.00</td>\n",
       "      <td>1731.0</td>\n",
       "      <td>0.11660</td>\n",
       "      <td>0.19220</td>\n",
       "      <td>0.3215</td>\n",
       "      <td>0.1628</td>\n",
       "      <td>0.2572</td>\n",
       "      <td>0.06637</td>\n",
       "      <td>0</td>\n",
       "    </tr>\n",
       "    <tr>\n",
       "      <th>566</th>\n",
       "      <td>16.60</td>\n",
       "      <td>28.08</td>\n",
       "      <td>108.30</td>\n",
       "      <td>858.1</td>\n",
       "      <td>0.08455</td>\n",
       "      <td>0.10230</td>\n",
       "      <td>0.09251</td>\n",
       "      <td>0.05302</td>\n",
       "      <td>0.1590</td>\n",
       "      <td>0.05648</td>\n",
       "      <td>...</td>\n",
       "      <td>34.12</td>\n",
       "      <td>126.70</td>\n",
       "      <td>1124.0</td>\n",
       "      <td>0.11390</td>\n",
       "      <td>0.30940</td>\n",
       "      <td>0.3403</td>\n",
       "      <td>0.1418</td>\n",
       "      <td>0.2218</td>\n",
       "      <td>0.07820</td>\n",
       "      <td>0</td>\n",
       "    </tr>\n",
       "    <tr>\n",
       "      <th>567</th>\n",
       "      <td>20.60</td>\n",
       "      <td>29.33</td>\n",
       "      <td>140.10</td>\n",
       "      <td>1265.0</td>\n",
       "      <td>0.11780</td>\n",
       "      <td>0.27700</td>\n",
       "      <td>0.35140</td>\n",
       "      <td>0.15200</td>\n",
       "      <td>0.2397</td>\n",
       "      <td>0.07016</td>\n",
       "      <td>...</td>\n",
       "      <td>39.42</td>\n",
       "      <td>184.60</td>\n",
       "      <td>1821.0</td>\n",
       "      <td>0.16500</td>\n",
       "      <td>0.86810</td>\n",
       "      <td>0.9387</td>\n",
       "      <td>0.2650</td>\n",
       "      <td>0.4087</td>\n",
       "      <td>0.12400</td>\n",
       "      <td>0</td>\n",
       "    </tr>\n",
       "    <tr>\n",
       "      <th>568</th>\n",
       "      <td>7.76</td>\n",
       "      <td>24.54</td>\n",
       "      <td>47.92</td>\n",
       "      <td>181.0</td>\n",
       "      <td>0.05263</td>\n",
       "      <td>0.04362</td>\n",
       "      <td>0.00000</td>\n",
       "      <td>0.00000</td>\n",
       "      <td>0.1587</td>\n",
       "      <td>0.05884</td>\n",
       "      <td>...</td>\n",
       "      <td>30.37</td>\n",
       "      <td>59.16</td>\n",
       "      <td>268.6</td>\n",
       "      <td>0.08996</td>\n",
       "      <td>0.06444</td>\n",
       "      <td>0.0000</td>\n",
       "      <td>0.0000</td>\n",
       "      <td>0.2871</td>\n",
       "      <td>0.07039</td>\n",
       "      <td>1</td>\n",
       "    </tr>\n",
       "  </tbody>\n",
       "</table>\n",
       "<p>569 rows × 31 columns</p>\n",
       "</div>"
      ],
      "text/plain": [
       "     mean radius  mean texture  mean perimeter  mean area  mean smoothness  \\\n",
       "0          17.99         10.38          122.80     1001.0          0.11840   \n",
       "1          20.57         17.77          132.90     1326.0          0.08474   \n",
       "2          19.69         21.25          130.00     1203.0          0.10960   \n",
       "3          11.42         20.38           77.58      386.1          0.14250   \n",
       "4          20.29         14.34          135.10     1297.0          0.10030   \n",
       "..           ...           ...             ...        ...              ...   \n",
       "564        21.56         22.39          142.00     1479.0          0.11100   \n",
       "565        20.13         28.25          131.20     1261.0          0.09780   \n",
       "566        16.60         28.08          108.30      858.1          0.08455   \n",
       "567        20.60         29.33          140.10     1265.0          0.11780   \n",
       "568         7.76         24.54           47.92      181.0          0.05263   \n",
       "\n",
       "     mean compactness  mean concavity  mean concave points  mean symmetry  \\\n",
       "0             0.27760         0.30010              0.14710         0.2419   \n",
       "1             0.07864         0.08690              0.07017         0.1812   \n",
       "2             0.15990         0.19740              0.12790         0.2069   \n",
       "3             0.28390         0.24140              0.10520         0.2597   \n",
       "4             0.13280         0.19800              0.10430         0.1809   \n",
       "..                ...             ...                  ...            ...   \n",
       "564           0.11590         0.24390              0.13890         0.1726   \n",
       "565           0.10340         0.14400              0.09791         0.1752   \n",
       "566           0.10230         0.09251              0.05302         0.1590   \n",
       "567           0.27700         0.35140              0.15200         0.2397   \n",
       "568           0.04362         0.00000              0.00000         0.1587   \n",
       "\n",
       "     mean fractal dimension  ...  worst texture  worst perimeter  worst area  \\\n",
       "0                   0.07871  ...          17.33           184.60      2019.0   \n",
       "1                   0.05667  ...          23.41           158.80      1956.0   \n",
       "2                   0.05999  ...          25.53           152.50      1709.0   \n",
       "3                   0.09744  ...          26.50            98.87       567.7   \n",
       "4                   0.05883  ...          16.67           152.20      1575.0   \n",
       "..                      ...  ...            ...              ...         ...   \n",
       "564                 0.05623  ...          26.40           166.10      2027.0   \n",
       "565                 0.05533  ...          38.25           155.00      1731.0   \n",
       "566                 0.05648  ...          34.12           126.70      1124.0   \n",
       "567                 0.07016  ...          39.42           184.60      1821.0   \n",
       "568                 0.05884  ...          30.37            59.16       268.6   \n",
       "\n",
       "     worst smoothness  worst compactness  worst concavity  \\\n",
       "0             0.16220            0.66560           0.7119   \n",
       "1             0.12380            0.18660           0.2416   \n",
       "2             0.14440            0.42450           0.4504   \n",
       "3             0.20980            0.86630           0.6869   \n",
       "4             0.13740            0.20500           0.4000   \n",
       "..                ...                ...              ...   \n",
       "564           0.14100            0.21130           0.4107   \n",
       "565           0.11660            0.19220           0.3215   \n",
       "566           0.11390            0.30940           0.3403   \n",
       "567           0.16500            0.86810           0.9387   \n",
       "568           0.08996            0.06444           0.0000   \n",
       "\n",
       "     worst concave points  worst symmetry  worst fractal dimension  target  \n",
       "0                  0.2654          0.4601                  0.11890       0  \n",
       "1                  0.1860          0.2750                  0.08902       0  \n",
       "2                  0.2430          0.3613                  0.08758       0  \n",
       "3                  0.2575          0.6638                  0.17300       0  \n",
       "4                  0.1625          0.2364                  0.07678       0  \n",
       "..                    ...             ...                      ...     ...  \n",
       "564                0.2216          0.2060                  0.07115       0  \n",
       "565                0.1628          0.2572                  0.06637       0  \n",
       "566                0.1418          0.2218                  0.07820       0  \n",
       "567                0.2650          0.4087                  0.12400       0  \n",
       "568                0.0000          0.2871                  0.07039       1  \n",
       "\n",
       "[569 rows x 31 columns]"
      ]
     },
     "execution_count": 68,
     "metadata": {},
     "output_type": "execute_result"
    }
   ],
   "source": [
    "cancer_frm = pd.DataFrame(data    = cancer.data , \n",
    "                          columns = cancer.feature_names)\n",
    "cancer_frm['target'] = cancer.target\n",
    "cancer_frm"
   ]
  },
  {
   "cell_type": "code",
   "execution_count": 69,
   "id": "08fdd418",
   "metadata": {},
   "outputs": [
    {
     "name": "stdout",
     "output_type": "stream",
     "text": [
      "암 관련 데이터 - 재현율(실제 P 를 N 예측하면 안된다...)\n",
      "재현율은 실제 양섯을 양성으로 예측한 비율이 높아야 좋은 모델로 판단할 수 있다. - \n"
     ]
    }
   ],
   "source": [
    "print('암 관련 데이터 - 재현율(실제 P 를 N 예측하면 안된다...)')\n",
    "print('재현율은 실제 양섯을 양성으로 예측한 비율이 높아야 좋은 모델로 판단할 수 있다. - ') "
   ]
  },
  {
   "cell_type": "code",
   "execution_count": 83,
   "id": "47eddc6d",
   "metadata": {},
   "outputs": [
    {
     "name": "stdout",
     "output_type": "stream",
     "text": [
      "데이터의 균형여부 판단이 중요하다!! \n"
     ]
    },
    {
     "data": {
      "text/plain": [
       "1    357\n",
       "0    212\n",
       "Name: target, dtype: int64"
      ]
     },
     "execution_count": 83,
     "metadata": {},
     "output_type": "execute_result"
    }
   ],
   "source": [
    "print('데이터의 균형여부 판단이 중요하다!! ')\n",
    "cancer_frm['target'].value_counts()"
   ]
  },
  {
   "cell_type": "code",
   "execution_count": 84,
   "id": "e7ea0560",
   "metadata": {},
   "outputs": [
    {
     "data": {
      "text/plain": [
       "((455, 30), (114, 30), (455,), (114,))"
      ]
     },
     "execution_count": 84,
     "metadata": {},
     "output_type": "execute_result"
    }
   ],
   "source": [
    "X_train , X_test , y_train , y_test = train_test_split(cancer.data , \n",
    "                                                       cancer.target , \n",
    "                                                       test_size = 0.2 , \n",
    "                                                       random_state = 100)\n",
    "X_train.shape , X_test.shape , y_train.shape , y_test.shape "
   ]
  },
  {
   "cell_type": "code",
   "execution_count": 85,
   "id": "6a096e56",
   "metadata": {},
   "outputs": [
    {
     "name": "stdout",
     "output_type": "stream",
     "text": [
      "confusion matrix \n",
      " [[46  3]\n",
      " [ 2 63]]\n",
      "\n",
      "accuracy \n",
      " 0.956140350877193\n",
      "\n",
      "recall \n",
      " 0.9692307692307692\n",
      "\n",
      "precision \n",
      " 0.9545454545454546\n",
      "\n",
      "f1 score \n",
      " 0.9618320610687022\n"
     ]
    }
   ],
   "source": [
    "rf_model = RandomForestClassifier()\n",
    "\n",
    "rf_model.fit(X_train , y_train)\n",
    "y_pred = rf_model.predict(X_test) \n",
    "metrics_evaluation(y_test , y_pred)"
   ]
  },
  {
   "cell_type": "code",
   "execution_count": 86,
   "id": "6ad0e2bb",
   "metadata": {},
   "outputs": [
    {
     "name": "stdout",
     "output_type": "stream",
     "text": [
      "교차검증 - GridSearchCV \n",
      "RandomForestClassifier - parameter\n",
      "n_estimators - 생성할 tree estimator 갯수 \n",
      "max_features - 최대 선택할 피처의 수를 의미 \n",
      "max_depth    - 생성할 tree의 깊이 \n"
     ]
    }
   ],
   "source": [
    "print('교차검증 - GridSearchCV ')\n",
    "print('RandomForestClassifier - parameter')\n",
    "print('n_estimators - 생성할 tree estimator 갯수 ') \n",
    "print('max_features - 최대 선택할 피처의 수를 의미 ') \n",
    "print('max_depth    - 생성할 tree의 깊이 ') "
   ]
  },
  {
   "cell_type": "code",
   "execution_count": 87,
   "id": "adec64bb",
   "metadata": {},
   "outputs": [],
   "source": [
    "params = {\n",
    "    'n_estimators' : [200, 300] , \n",
    "    'max_features' : [6, 8, 15, 20] , \n",
    "    'max_depth'    : [4, 6, 8]\n",
    "}\n",
    "\n",
    "grid_rf_model = GridSearchCV(rf_model , \n",
    "                             param_grid = params , \n",
    "                             cv = 20 , \n",
    "                             refit   = True , \n",
    "                             scoring = 'recall' ) "
   ]
  },
  {
   "cell_type": "code",
   "execution_count": 88,
   "id": "05345de0",
   "metadata": {},
   "outputs": [
    {
     "data": {
      "text/plain": [
       "GridSearchCV(cv=20, estimator=RandomForestClassifier(),\n",
       "             param_grid={'max_depth': [4, 6, 8], 'max_features': [6, 8, 15, 20],\n",
       "                         'n_estimators': [200, 300]},\n",
       "             scoring='recall')"
      ]
     },
     "execution_count": 88,
     "metadata": {},
     "output_type": "execute_result"
    }
   ],
   "source": [
    "grid_rf_model.fit(X_train , y_train)"
   ]
  },
  {
   "cell_type": "code",
   "execution_count": 89,
   "id": "b0d2039b",
   "metadata": {},
   "outputs": [
    {
     "name": "stdout",
     "output_type": "stream",
     "text": [
      "최적 파라미터 -  {'max_depth': 8, 'max_features': 8, 'n_estimators': 300}\n",
      "최고 recall 점수     -  0.9830952380952382\n"
     ]
    }
   ],
   "source": [
    "print('최적 파라미터 - ' , grid_rf_model.best_params_ )\n",
    "print('최고 recall 점수     - ' , grid_rf_model.best_score_ )\n",
    "estimator = grid_rf_model.best_estimator_\n",
    "estimator\n",
    "\n",
    "y_pred = estimator.predict(X_test)"
   ]
  },
  {
   "cell_type": "code",
   "execution_count": 91,
   "id": "5c700e8c",
   "metadata": {},
   "outputs": [
    {
     "name": "stdout",
     "output_type": "stream",
     "text": [
      "confusion matrix \n",
      " [[45  4]\n",
      " [ 1 64]]\n",
      "\n",
      "accuracy \n",
      " 0.956140350877193\n",
      "\n",
      "recall \n",
      " 0.9846153846153847\n",
      "\n",
      "precision \n",
      " 0.9411764705882353\n",
      "\n",
      "f1 score \n",
      " 0.962406015037594\n"
     ]
    }
   ],
   "source": [
    "''' confusion matrix\n",
    "\n",
    "                   Prediction\n",
    "               False      True\n",
    "        False   TN         FP   :\n",
    "                                :\n",
    "Actual                          :  precision\n",
    "                                :\n",
    "        True    FN         TP   : \n",
    "        <-     recall       -> \n",
    "'''\n",
    "metrics_evaluation(y_test , y_pred)"
   ]
  },
  {
   "cell_type": "markdown",
   "id": "7a0aca22",
   "metadata": {},
   "source": [
    "#### 정밀도 / 재현율의 트레이드오프\n",
    "\n",
    "- 정밀도와 재현율은 상호 보완관계다\n",
    "- threshold 조절해서 특정 평가지표를 높일 수 있다.\n",
    "- Binarizer - fit_transform()\n",
    "- 임계값이 낮아질수록 Positive 예측할 확률이 높아지므로 재현율이 증가\n",
    "- predict_proba() : 개별레이블별 예측확률이 반환된다."
   ]
  },
  {
   "cell_type": "code",
   "execution_count": 94,
   "id": "53f42ea2",
   "metadata": {},
   "outputs": [],
   "source": [
    "matrix = [\n",
    "    [-1, -1, 2] , \n",
    "    [2, 0, 0] , \n",
    "    [0, 1.1 , 0.6]  \n",
    "]"
   ]
  },
  {
   "cell_type": "code",
   "execution_count": 95,
   "id": "83f8ed0c",
   "metadata": {},
   "outputs": [
    {
     "name": "stdout",
     "output_type": "stream",
     "text": [
      "[[0. 0. 1.]\n",
      " [1. 0. 0.]\n",
      " [0. 0. 0.]]\n"
     ]
    }
   ],
   "source": [
    "user_th = Binarizer(threshold = 1.1)\n",
    "print(user_th.fit_transform(matrix) )"
   ]
  },
  {
   "cell_type": "code",
   "execution_count": 97,
   "id": "04cc67cd",
   "metadata": {},
   "outputs": [
    {
     "data": {
      "text/html": [
       "<div>\n",
       "<style scoped>\n",
       "    .dataframe tbody tr th:only-of-type {\n",
       "        vertical-align: middle;\n",
       "    }\n",
       "\n",
       "    .dataframe tbody tr th {\n",
       "        vertical-align: top;\n",
       "    }\n",
       "\n",
       "    .dataframe thead th {\n",
       "        text-align: right;\n",
       "    }\n",
       "</style>\n",
       "<table border=\"1\" class=\"dataframe\">\n",
       "  <thead>\n",
       "    <tr style=\"text-align: right;\">\n",
       "      <th></th>\n",
       "      <th>PassengerId</th>\n",
       "      <th>Survived</th>\n",
       "      <th>Pclass</th>\n",
       "      <th>Name</th>\n",
       "      <th>Sex</th>\n",
       "      <th>Age</th>\n",
       "      <th>SibSp</th>\n",
       "      <th>Parch</th>\n",
       "      <th>Ticket</th>\n",
       "      <th>Fare</th>\n",
       "      <th>Cabin</th>\n",
       "      <th>Embarked</th>\n",
       "    </tr>\n",
       "  </thead>\n",
       "  <tbody>\n",
       "    <tr>\n",
       "      <th>0</th>\n",
       "      <td>1</td>\n",
       "      <td>0</td>\n",
       "      <td>3</td>\n",
       "      <td>Braund, Mr. Owen Harris</td>\n",
       "      <td>male</td>\n",
       "      <td>22.0</td>\n",
       "      <td>1</td>\n",
       "      <td>0</td>\n",
       "      <td>A/5 21171</td>\n",
       "      <td>7.2500</td>\n",
       "      <td>NaN</td>\n",
       "      <td>S</td>\n",
       "    </tr>\n",
       "    <tr>\n",
       "      <th>1</th>\n",
       "      <td>2</td>\n",
       "      <td>1</td>\n",
       "      <td>1</td>\n",
       "      <td>Cumings, Mrs. John Bradley (Florence Briggs Th...</td>\n",
       "      <td>female</td>\n",
       "      <td>38.0</td>\n",
       "      <td>1</td>\n",
       "      <td>0</td>\n",
       "      <td>PC 17599</td>\n",
       "      <td>71.2833</td>\n",
       "      <td>C85</td>\n",
       "      <td>C</td>\n",
       "    </tr>\n",
       "    <tr>\n",
       "      <th>2</th>\n",
       "      <td>3</td>\n",
       "      <td>1</td>\n",
       "      <td>3</td>\n",
       "      <td>Heikkinen, Miss. Laina</td>\n",
       "      <td>female</td>\n",
       "      <td>26.0</td>\n",
       "      <td>0</td>\n",
       "      <td>0</td>\n",
       "      <td>STON/O2. 3101282</td>\n",
       "      <td>7.9250</td>\n",
       "      <td>NaN</td>\n",
       "      <td>S</td>\n",
       "    </tr>\n",
       "    <tr>\n",
       "      <th>3</th>\n",
       "      <td>4</td>\n",
       "      <td>1</td>\n",
       "      <td>1</td>\n",
       "      <td>Futrelle, Mrs. Jacques Heath (Lily May Peel)</td>\n",
       "      <td>female</td>\n",
       "      <td>35.0</td>\n",
       "      <td>1</td>\n",
       "      <td>0</td>\n",
       "      <td>113803</td>\n",
       "      <td>53.1000</td>\n",
       "      <td>C123</td>\n",
       "      <td>S</td>\n",
       "    </tr>\n",
       "    <tr>\n",
       "      <th>4</th>\n",
       "      <td>5</td>\n",
       "      <td>0</td>\n",
       "      <td>3</td>\n",
       "      <td>Allen, Mr. William Henry</td>\n",
       "      <td>male</td>\n",
       "      <td>35.0</td>\n",
       "      <td>0</td>\n",
       "      <td>0</td>\n",
       "      <td>373450</td>\n",
       "      <td>8.0500</td>\n",
       "      <td>NaN</td>\n",
       "      <td>S</td>\n",
       "    </tr>\n",
       "    <tr>\n",
       "      <th>...</th>\n",
       "      <td>...</td>\n",
       "      <td>...</td>\n",
       "      <td>...</td>\n",
       "      <td>...</td>\n",
       "      <td>...</td>\n",
       "      <td>...</td>\n",
       "      <td>...</td>\n",
       "      <td>...</td>\n",
       "      <td>...</td>\n",
       "      <td>...</td>\n",
       "      <td>...</td>\n",
       "      <td>...</td>\n",
       "    </tr>\n",
       "    <tr>\n",
       "      <th>886</th>\n",
       "      <td>887</td>\n",
       "      <td>0</td>\n",
       "      <td>2</td>\n",
       "      <td>Montvila, Rev. Juozas</td>\n",
       "      <td>male</td>\n",
       "      <td>27.0</td>\n",
       "      <td>0</td>\n",
       "      <td>0</td>\n",
       "      <td>211536</td>\n",
       "      <td>13.0000</td>\n",
       "      <td>NaN</td>\n",
       "      <td>S</td>\n",
       "    </tr>\n",
       "    <tr>\n",
       "      <th>887</th>\n",
       "      <td>888</td>\n",
       "      <td>1</td>\n",
       "      <td>1</td>\n",
       "      <td>Graham, Miss. Margaret Edith</td>\n",
       "      <td>female</td>\n",
       "      <td>19.0</td>\n",
       "      <td>0</td>\n",
       "      <td>0</td>\n",
       "      <td>112053</td>\n",
       "      <td>30.0000</td>\n",
       "      <td>B42</td>\n",
       "      <td>S</td>\n",
       "    </tr>\n",
       "    <tr>\n",
       "      <th>888</th>\n",
       "      <td>889</td>\n",
       "      <td>0</td>\n",
       "      <td>3</td>\n",
       "      <td>Johnston, Miss. Catherine Helen \"Carrie\"</td>\n",
       "      <td>female</td>\n",
       "      <td>NaN</td>\n",
       "      <td>1</td>\n",
       "      <td>2</td>\n",
       "      <td>W./C. 6607</td>\n",
       "      <td>23.4500</td>\n",
       "      <td>NaN</td>\n",
       "      <td>S</td>\n",
       "    </tr>\n",
       "    <tr>\n",
       "      <th>889</th>\n",
       "      <td>890</td>\n",
       "      <td>1</td>\n",
       "      <td>1</td>\n",
       "      <td>Behr, Mr. Karl Howell</td>\n",
       "      <td>male</td>\n",
       "      <td>26.0</td>\n",
       "      <td>0</td>\n",
       "      <td>0</td>\n",
       "      <td>111369</td>\n",
       "      <td>30.0000</td>\n",
       "      <td>C148</td>\n",
       "      <td>C</td>\n",
       "    </tr>\n",
       "    <tr>\n",
       "      <th>890</th>\n",
       "      <td>891</td>\n",
       "      <td>0</td>\n",
       "      <td>3</td>\n",
       "      <td>Dooley, Mr. Patrick</td>\n",
       "      <td>male</td>\n",
       "      <td>32.0</td>\n",
       "      <td>0</td>\n",
       "      <td>0</td>\n",
       "      <td>370376</td>\n",
       "      <td>7.7500</td>\n",
       "      <td>NaN</td>\n",
       "      <td>Q</td>\n",
       "    </tr>\n",
       "  </tbody>\n",
       "</table>\n",
       "<p>891 rows × 12 columns</p>\n",
       "</div>"
      ],
      "text/plain": [
       "     PassengerId  Survived  Pclass  \\\n",
       "0              1         0       3   \n",
       "1              2         1       1   \n",
       "2              3         1       3   \n",
       "3              4         1       1   \n",
       "4              5         0       3   \n",
       "..           ...       ...     ...   \n",
       "886          887         0       2   \n",
       "887          888         1       1   \n",
       "888          889         0       3   \n",
       "889          890         1       1   \n",
       "890          891         0       3   \n",
       "\n",
       "                                                  Name     Sex   Age  SibSp  \\\n",
       "0                              Braund, Mr. Owen Harris    male  22.0      1   \n",
       "1    Cumings, Mrs. John Bradley (Florence Briggs Th...  female  38.0      1   \n",
       "2                               Heikkinen, Miss. Laina  female  26.0      0   \n",
       "3         Futrelle, Mrs. Jacques Heath (Lily May Peel)  female  35.0      1   \n",
       "4                             Allen, Mr. William Henry    male  35.0      0   \n",
       "..                                                 ...     ...   ...    ...   \n",
       "886                              Montvila, Rev. Juozas    male  27.0      0   \n",
       "887                       Graham, Miss. Margaret Edith  female  19.0      0   \n",
       "888           Johnston, Miss. Catherine Helen \"Carrie\"  female   NaN      1   \n",
       "889                              Behr, Mr. Karl Howell    male  26.0      0   \n",
       "890                                Dooley, Mr. Patrick    male  32.0      0   \n",
       "\n",
       "     Parch            Ticket     Fare Cabin Embarked  \n",
       "0        0         A/5 21171   7.2500   NaN        S  \n",
       "1        0          PC 17599  71.2833   C85        C  \n",
       "2        0  STON/O2. 3101282   7.9250   NaN        S  \n",
       "3        0            113803  53.1000  C123        S  \n",
       "4        0            373450   8.0500   NaN        S  \n",
       "..     ...               ...      ...   ...      ...  \n",
       "886      0            211536  13.0000   NaN        S  \n",
       "887      0            112053  30.0000   B42        S  \n",
       "888      2        W./C. 6607  23.4500   NaN        S  \n",
       "889      0            111369  30.0000  C148        C  \n",
       "890      0            370376   7.7500   NaN        Q  \n",
       "\n",
       "[891 rows x 12 columns]"
      ]
     },
     "execution_count": 97,
     "metadata": {},
     "output_type": "execute_result"
    }
   ],
   "source": [
    "titanic_frm"
   ]
  },
  {
   "cell_type": "code",
   "execution_count": 99,
   "id": "62e1b587",
   "metadata": {},
   "outputs": [],
   "source": [
    "titanic_target   = titanic_frm['Survived']\n",
    "titanic_features = titanic_frm.drop(['Survived'] , axis = 1 ) "
   ]
  },
  {
   "cell_type": "code",
   "execution_count": 100,
   "id": "659291eb",
   "metadata": {},
   "outputs": [
    {
     "data": {
      "text/html": [
       "<div>\n",
       "<style scoped>\n",
       "    .dataframe tbody tr th:only-of-type {\n",
       "        vertical-align: middle;\n",
       "    }\n",
       "\n",
       "    .dataframe tbody tr th {\n",
       "        vertical-align: top;\n",
       "    }\n",
       "\n",
       "    .dataframe thead th {\n",
       "        text-align: right;\n",
       "    }\n",
       "</style>\n",
       "<table border=\"1\" class=\"dataframe\">\n",
       "  <thead>\n",
       "    <tr style=\"text-align: right;\">\n",
       "      <th></th>\n",
       "      <th>Pclass</th>\n",
       "      <th>Sex</th>\n",
       "      <th>Age</th>\n",
       "      <th>SibSp</th>\n",
       "      <th>Parch</th>\n",
       "      <th>Fare</th>\n",
       "      <th>Cabin</th>\n",
       "      <th>Embarked</th>\n",
       "    </tr>\n",
       "  </thead>\n",
       "  <tbody>\n",
       "    <tr>\n",
       "      <th>0</th>\n",
       "      <td>3</td>\n",
       "      <td>1</td>\n",
       "      <td>22.000000</td>\n",
       "      <td>1</td>\n",
       "      <td>0</td>\n",
       "      <td>7.2500</td>\n",
       "      <td>7</td>\n",
       "      <td>3</td>\n",
       "    </tr>\n",
       "    <tr>\n",
       "      <th>1</th>\n",
       "      <td>1</td>\n",
       "      <td>0</td>\n",
       "      <td>38.000000</td>\n",
       "      <td>1</td>\n",
       "      <td>0</td>\n",
       "      <td>71.2833</td>\n",
       "      <td>2</td>\n",
       "      <td>0</td>\n",
       "    </tr>\n",
       "    <tr>\n",
       "      <th>2</th>\n",
       "      <td>3</td>\n",
       "      <td>0</td>\n",
       "      <td>26.000000</td>\n",
       "      <td>0</td>\n",
       "      <td>0</td>\n",
       "      <td>7.9250</td>\n",
       "      <td>7</td>\n",
       "      <td>3</td>\n",
       "    </tr>\n",
       "    <tr>\n",
       "      <th>3</th>\n",
       "      <td>1</td>\n",
       "      <td>0</td>\n",
       "      <td>35.000000</td>\n",
       "      <td>1</td>\n",
       "      <td>0</td>\n",
       "      <td>53.1000</td>\n",
       "      <td>2</td>\n",
       "      <td>3</td>\n",
       "    </tr>\n",
       "    <tr>\n",
       "      <th>4</th>\n",
       "      <td>3</td>\n",
       "      <td>1</td>\n",
       "      <td>35.000000</td>\n",
       "      <td>0</td>\n",
       "      <td>0</td>\n",
       "      <td>8.0500</td>\n",
       "      <td>7</td>\n",
       "      <td>3</td>\n",
       "    </tr>\n",
       "    <tr>\n",
       "      <th>...</th>\n",
       "      <td>...</td>\n",
       "      <td>...</td>\n",
       "      <td>...</td>\n",
       "      <td>...</td>\n",
       "      <td>...</td>\n",
       "      <td>...</td>\n",
       "      <td>...</td>\n",
       "      <td>...</td>\n",
       "    </tr>\n",
       "    <tr>\n",
       "      <th>886</th>\n",
       "      <td>2</td>\n",
       "      <td>1</td>\n",
       "      <td>27.000000</td>\n",
       "      <td>0</td>\n",
       "      <td>0</td>\n",
       "      <td>13.0000</td>\n",
       "      <td>7</td>\n",
       "      <td>3</td>\n",
       "    </tr>\n",
       "    <tr>\n",
       "      <th>887</th>\n",
       "      <td>1</td>\n",
       "      <td>0</td>\n",
       "      <td>19.000000</td>\n",
       "      <td>0</td>\n",
       "      <td>0</td>\n",
       "      <td>30.0000</td>\n",
       "      <td>1</td>\n",
       "      <td>3</td>\n",
       "    </tr>\n",
       "    <tr>\n",
       "      <th>888</th>\n",
       "      <td>3</td>\n",
       "      <td>0</td>\n",
       "      <td>29.699118</td>\n",
       "      <td>1</td>\n",
       "      <td>2</td>\n",
       "      <td>23.4500</td>\n",
       "      <td>7</td>\n",
       "      <td>3</td>\n",
       "    </tr>\n",
       "    <tr>\n",
       "      <th>889</th>\n",
       "      <td>1</td>\n",
       "      <td>1</td>\n",
       "      <td>26.000000</td>\n",
       "      <td>0</td>\n",
       "      <td>0</td>\n",
       "      <td>30.0000</td>\n",
       "      <td>2</td>\n",
       "      <td>0</td>\n",
       "    </tr>\n",
       "    <tr>\n",
       "      <th>890</th>\n",
       "      <td>3</td>\n",
       "      <td>1</td>\n",
       "      <td>32.000000</td>\n",
       "      <td>0</td>\n",
       "      <td>0</td>\n",
       "      <td>7.7500</td>\n",
       "      <td>7</td>\n",
       "      <td>2</td>\n",
       "    </tr>\n",
       "  </tbody>\n",
       "</table>\n",
       "<p>891 rows × 8 columns</p>\n",
       "</div>"
      ],
      "text/plain": [
       "     Pclass  Sex        Age  SibSp  Parch     Fare  Cabin  Embarked\n",
       "0         3    1  22.000000      1      0   7.2500      7         3\n",
       "1         1    0  38.000000      1      0  71.2833      2         0\n",
       "2         3    0  26.000000      0      0   7.9250      7         3\n",
       "3         1    0  35.000000      1      0  53.1000      2         3\n",
       "4         3    1  35.000000      0      0   8.0500      7         3\n",
       "..      ...  ...        ...    ...    ...      ...    ...       ...\n",
       "886       2    1  27.000000      0      0  13.0000      7         3\n",
       "887       1    0  19.000000      0      0  30.0000      1         3\n",
       "888       3    0  29.699118      1      2  23.4500      7         3\n",
       "889       1    1  26.000000      0      0  30.0000      2         0\n",
       "890       3    1  32.000000      0      0   7.7500      7         2\n",
       "\n",
       "[891 rows x 8 columns]"
      ]
     },
     "execution_count": 100,
     "metadata": {},
     "output_type": "execute_result"
    }
   ],
   "source": [
    "subset_features = transform_features(titanic_features)\n",
    "subset_features"
   ]
  },
  {
   "cell_type": "code",
   "execution_count": 101,
   "id": "20383873",
   "metadata": {},
   "outputs": [
    {
     "data": {
      "text/plain": [
       "((712, 8), (179, 8), (712,), (179,))"
      ]
     },
     "execution_count": 101,
     "metadata": {},
     "output_type": "execute_result"
    }
   ],
   "source": [
    "X_train , X_test , y_train , y_test = train_test_split(subset_features , \n",
    "                                                       titanic_target , \n",
    "                                                       test_size = 0.2 , \n",
    "                                                       random_state = 100)\n",
    "\n",
    "X_train.shape , X_test.shape , y_train.shape , y_test.shape "
   ]
  },
  {
   "cell_type": "code",
   "execution_count": 102,
   "id": "67beacf4",
   "metadata": {},
   "outputs": [
    {
     "name": "stdout",
     "output_type": "stream",
     "text": [
      "confusion matrix \n",
      " [[90 14]\n",
      " [21 54]]\n",
      "\n",
      "accuracy \n",
      " 0.8044692737430168\n",
      "\n",
      "recall \n",
      " 0.72\n",
      "\n",
      "precision \n",
      " 0.7941176470588235\n",
      "\n",
      "f1 score \n",
      " 0.7552447552447551\n"
     ]
    }
   ],
   "source": [
    "logistic_model = LogisticRegr\n",
    "\n",
    "ession()\n",
    "\n",
    "logistic_model.fit(X_train , y_train) \n",
    "y_pred = logistic_model.predict(X_test) \n",
    "\n",
    "metrics_evaluation(y_test , y_pred)"
   ]
  },
  {
   "cell_type": "code",
   "execution_count": 103,
   "id": "3bc76cba",
   "metadata": {},
   "outputs": [
    {
     "name": "stdout",
     "output_type": "stream",
     "text": [
      "확률예측 값 - predict_proba() \n",
      "type  -  <class 'numpy.ndarray'>\n",
      "shape -  (179, 2)\n",
      "\n",
      "type  -  <class 'numpy.ndarray'>\n",
      "shape -  (179,)\n"
     ]
    }
   ],
   "source": [
    "print('확률예측 값 - predict_proba() ') \n",
    "\n",
    "predict_proba_result = logistic_model.predict_proba(X_test)\n",
    "print('type  - ' , type(predict_proba_result))\n",
    "print('shape - ' , predict_proba_result.shape)\n",
    "print()\n",
    "print('type  - ' , type(y_pred))\n",
    "print('shape - ' , y_pred.shape)"
   ]
  },
  {
   "cell_type": "code",
   "execution_count": 105,
   "id": "1558b2e2",
   "metadata": {},
   "outputs": [
    {
     "name": "stdout",
     "output_type": "stream",
     "text": [
      "예측값과 예측확률값의 병합 - \n"
     ]
    },
    {
     "data": {
      "text/plain": [
       "array([[0.16620951, 0.83379049, 1.        ],\n",
       "       [0.26645451, 0.73354549, 1.        ],\n",
       "       [0.8965249 , 0.1034751 , 0.        ],\n",
       "       [0.40388898, 0.59611102, 1.        ],\n",
       "       [0.86336574, 0.13663426, 0.        ],\n",
       "       [0.25824152, 0.74175848, 1.        ],\n",
       "       [0.8998477 , 0.1001523 , 0.        ],\n",
       "       [0.78226965, 0.21773035, 0.        ],\n",
       "       [0.05887811, 0.94112189, 1.        ],\n",
       "       [0.63210508, 0.36789492, 0.        ],\n",
       "       [0.02405766, 0.97594234, 1.        ],\n",
       "       [0.87532477, 0.12467523, 0.        ],\n",
       "       [0.87015061, 0.12984939, 0.        ],\n",
       "       [0.57103512, 0.42896488, 0.        ],\n",
       "       [0.40777887, 0.59222113, 1.        ],\n",
       "       [0.82491438, 0.17508562, 0.        ],\n",
       "       [0.06498018, 0.93501982, 1.        ],\n",
       "       [0.5988419 , 0.4011581 , 0.        ],\n",
       "       [0.65653673, 0.34346327, 0.        ],\n",
       "       [0.87057051, 0.12942949, 0.        ],\n",
       "       [0.90671916, 0.09328084, 0.        ],\n",
       "       [0.04196019, 0.95803981, 1.        ],\n",
       "       [0.8606967 , 0.1393033 , 0.        ],\n",
       "       [0.32036588, 0.67963412, 1.        ],\n",
       "       [0.9003138 , 0.0996862 , 0.        ],\n",
       "       [0.90670643, 0.09329357, 0.        ],\n",
       "       [0.31018192, 0.68981808, 1.        ],\n",
       "       [0.83414939, 0.16585061, 0.        ],\n",
       "       [0.92410477, 0.07589523, 0.        ],\n",
       "       [0.84414379, 0.15585621, 0.        ],\n",
       "       [0.99134472, 0.00865528, 0.        ],\n",
       "       [0.26595382, 0.73404618, 1.        ],\n",
       "       [0.43521589, 0.56478411, 1.        ],\n",
       "       [0.81191304, 0.18808696, 0.        ],\n",
       "       [0.0342281 , 0.9657719 , 1.        ],\n",
       "       [0.91651401, 0.08348599, 0.        ],\n",
       "       [0.12737208, 0.87262792, 1.        ],\n",
       "       [0.12896561, 0.87103439, 1.        ],\n",
       "       [0.34780212, 0.65219788, 1.        ],\n",
       "       [0.90672912, 0.09327088, 0.        ],\n",
       "       [0.37315924, 0.62684076, 1.        ],\n",
       "       [0.07141951, 0.92858049, 1.        ],\n",
       "       [0.90336126, 0.09663874, 0.        ],\n",
       "       [0.83559715, 0.16440285, 0.        ],\n",
       "       [0.99134472, 0.00865528, 0.        ],\n",
       "       [0.30470246, 0.69529754, 1.        ],\n",
       "       [0.87055631, 0.12944369, 0.        ],\n",
       "       [0.02698699, 0.97301301, 1.        ],\n",
       "       [0.88333812, 0.11666188, 0.        ],\n",
       "       [0.12396431, 0.87603569, 1.        ],\n",
       "       [0.85015474, 0.14984526, 0.        ],\n",
       "       [0.79856107, 0.20143893, 0.        ],\n",
       "       [0.90853696, 0.09146304, 0.        ],\n",
       "       [0.89260254, 0.10739746, 0.        ],\n",
       "       [0.90092877, 0.09907123, 0.        ],\n",
       "       [0.85034568, 0.14965432, 0.        ],\n",
       "       [0.92101063, 0.07898937, 0.        ],\n",
       "       [0.91821801, 0.08178199, 0.        ],\n",
       "       [0.8023362 , 0.1976638 , 0.        ],\n",
       "       [0.75067839, 0.24932161, 0.        ],\n",
       "       [0.8479942 , 0.1520058 , 0.        ],\n",
       "       [0.71839909, 0.28160091, 0.        ],\n",
       "       [0.87523959, 0.12476041, 0.        ],\n",
       "       [0.89486285, 0.10513715, 0.        ],\n",
       "       [0.81191304, 0.18808696, 0.        ],\n",
       "       [0.31113487, 0.68886513, 1.        ],\n",
       "       [0.87056409, 0.12943591, 0.        ],\n",
       "       [0.20266605, 0.79733395, 1.        ],\n",
       "       [0.25066881, 0.74933119, 1.        ],\n",
       "       [0.92699192, 0.07300808, 0.        ],\n",
       "       [0.87309321, 0.12690679, 0.        ],\n",
       "       [0.94010656, 0.05989344, 0.        ],\n",
       "       [0.9146362 , 0.0853638 , 0.        ],\n",
       "       [0.3636444 , 0.6363556 , 1.        ],\n",
       "       [0.90046288, 0.09953712, 0.        ],\n",
       "       [0.88540718, 0.11459282, 0.        ],\n",
       "       [0.65541776, 0.34458224, 0.        ],\n",
       "       [0.86714702, 0.13285298, 0.        ],\n",
       "       [0.92720107, 0.07279893, 0.        ],\n",
       "       [0.8671475 , 0.1328525 , 0.        ],\n",
       "       [0.81228512, 0.18771488, 0.        ],\n",
       "       [0.8776696 , 0.1223304 , 0.        ],\n",
       "       [0.15911511, 0.84088489, 1.        ],\n",
       "       [0.06684422, 0.93315578, 1.        ],\n",
       "       [0.12742206, 0.87257794, 1.        ],\n",
       "       [0.8885383 , 0.1114617 , 0.        ],\n",
       "       [0.90404971, 0.09595029, 0.        ],\n",
       "       [0.2103496 , 0.7896504 , 1.        ],\n",
       "       [0.77743813, 0.22256187, 0.        ],\n",
       "       [0.95991736, 0.04008264, 0.        ],\n",
       "       [0.9026319 , 0.0973681 , 0.        ],\n",
       "       [0.55336321, 0.44663679, 0.        ],\n",
       "       [0.90671916, 0.09328084, 0.        ],\n",
       "       [0.87525602, 0.12474398, 0.        ],\n",
       "       [0.02786244, 0.97213756, 1.        ],\n",
       "       [0.36316775, 0.63683225, 1.        ],\n",
       "       [0.23465968, 0.76534032, 1.        ],\n",
       "       [0.07253616, 0.92746384, 1.        ],\n",
       "       [0.90670643, 0.09329357, 0.        ],\n",
       "       [0.30192571, 0.69807429, 1.        ],\n",
       "       [0.89486171, 0.10513829, 0.        ],\n",
       "       [0.89087829, 0.10912171, 0.        ],\n",
       "       [0.86562637, 0.13437363, 0.        ],\n",
       "       [0.10681353, 0.89318647, 1.        ],\n",
       "       [0.9146362 , 0.0853638 , 0.        ],\n",
       "       [0.12421919, 0.87578081, 1.        ],\n",
       "       [0.92403633, 0.07596367, 0.        ],\n",
       "       [0.3636444 , 0.6363556 , 1.        ],\n",
       "       [0.28461519, 0.71538481, 1.        ],\n",
       "       [0.77493679, 0.22506321, 0.        ],\n",
       "       [0.92696551, 0.07303449, 0.        ],\n",
       "       [0.87917053, 0.12082947, 0.        ],\n",
       "       [0.32135648, 0.67864352, 1.        ],\n",
       "       [0.9026319 , 0.0973681 , 0.        ],\n",
       "       [0.36842504, 0.63157496, 1.        ],\n",
       "       [0.87980993, 0.12019007, 0.        ],\n",
       "       [0.91855805, 0.08144195, 0.        ],\n",
       "       [0.95251074, 0.04748926, 0.        ],\n",
       "       [0.89486171, 0.10513829, 0.        ],\n",
       "       [0.35781853, 0.64218147, 1.        ],\n",
       "       [0.89659425, 0.10340575, 0.        ],\n",
       "       [0.90777844, 0.09222156, 0.        ],\n",
       "       [0.06154457, 0.93845543, 1.        ],\n",
       "       [0.54974297, 0.45025703, 0.        ],\n",
       "       [0.97954417, 0.02045583, 0.        ],\n",
       "       [0.10199572, 0.89800428, 1.        ],\n",
       "       [0.93244781, 0.06755219, 0.        ],\n",
       "       [0.86822739, 0.13177261, 0.        ],\n",
       "       [0.01964798, 0.98035202, 1.        ],\n",
       "       [0.89660329, 0.10339671, 0.        ],\n",
       "       [0.35536002, 0.64463998, 1.        ],\n",
       "       [0.70654683, 0.29345317, 0.        ],\n",
       "       [0.73544733, 0.26455267, 0.        ],\n",
       "       [0.20497439, 0.79502561, 1.        ],\n",
       "       [0.86163542, 0.13836458, 0.        ],\n",
       "       [0.64014299, 0.35985701, 0.        ],\n",
       "       [0.87462101, 0.12537899, 0.        ],\n",
       "       [0.68409501, 0.31590499, 0.        ],\n",
       "       [0.28323037, 0.71676963, 1.        ],\n",
       "       [0.87980221, 0.12019779, 0.        ],\n",
       "       [0.24240158, 0.75759842, 1.        ],\n",
       "       [0.31981664, 0.68018336, 1.        ],\n",
       "       [0.83064563, 0.16935437, 0.        ],\n",
       "       [0.83642165, 0.16357835, 0.        ],\n",
       "       [0.89486171, 0.10513829, 0.        ],\n",
       "       [0.84658695, 0.15341305, 0.        ],\n",
       "       [0.36361524, 0.63638476, 1.        ],\n",
       "       [0.27603953, 0.72396047, 1.        ],\n",
       "       [0.79102425, 0.20897575, 0.        ],\n",
       "       [0.14835162, 0.85164838, 1.        ],\n",
       "       [0.23559571, 0.76440429, 1.        ],\n",
       "       [0.86826073, 0.13173927, 0.        ],\n",
       "       [0.7174788 , 0.2825212 , 0.        ],\n",
       "       [0.32763891, 0.67236109, 1.        ],\n",
       "       [0.87219965, 0.12780035, 0.        ],\n",
       "       [0.36361524, 0.63638476, 1.        ],\n",
       "       [0.90162818, 0.09837182, 0.        ],\n",
       "       [0.37784789, 0.62215211, 1.        ],\n",
       "       [0.90817497, 0.09182503, 0.        ],\n",
       "       [0.92409964, 0.07590036, 0.        ],\n",
       "       [0.22168261, 0.77831739, 1.        ],\n",
       "       [0.36794119, 0.63205881, 1.        ],\n",
       "       [0.76244351, 0.23755649, 0.        ],\n",
       "       [0.90671916, 0.09328084, 0.        ],\n",
       "       [0.04028606, 0.95971394, 1.        ],\n",
       "       [0.86714702, 0.13285298, 0.        ],\n",
       "       [0.36361524, 0.63638476, 1.        ],\n",
       "       [0.68978948, 0.31021052, 0.        ],\n",
       "       [0.81191304, 0.18808696, 0.        ],\n",
       "       [0.16715841, 0.83284159, 1.        ],\n",
       "       [0.73042326, 0.26957674, 0.        ],\n",
       "       [0.16560682, 0.83439318, 1.        ],\n",
       "       [0.38243482, 0.61756518, 1.        ],\n",
       "       [0.11836739, 0.88163261, 1.        ],\n",
       "       [0.23268876, 0.76731124, 1.        ],\n",
       "       [0.43683619, 0.56316381, 1.        ],\n",
       "       [0.91244494, 0.08755506, 0.        ],\n",
       "       [0.94469952, 0.05530048, 0.        ],\n",
       "       [0.21745825, 0.78254175, 1.        ]])"
      ]
     },
     "execution_count": 105,
     "metadata": {},
     "output_type": "execute_result"
    }
   ],
   "source": [
    "print('예측값과 예측확률값의 병합 - ') \n",
    "pred_prob_concat =  np.concatenate( [ predict_proba_result , y_pred.reshape(-1, 1) ] , axis = 1)\n",
    "pred_prob_concat                 "
   ]
  },
  {
   "cell_type": "code",
   "execution_count": 107,
   "id": "f335539d",
   "metadata": {},
   "outputs": [
    {
     "name": "stdout",
     "output_type": "stream",
     "text": [
      "threshold 0.5 (default) - \n",
      "\n",
      "confusion matrix \n",
      " [[90 14]\n",
      " [21 54]]\n",
      "\n",
      "accuracy \n",
      " 0.8044692737430168\n",
      "\n",
      "recall \n",
      " 0.72\n",
      "\n",
      "precision \n",
      " 0.7941176470588235\n",
      "\n",
      "f1 score \n",
      " 0.7552447552447551\n"
     ]
    }
   ],
   "source": [
    "print('threshold 0.5 (default) - ') \n",
    "print()\n",
    "metrics_evaluation(y_test , y_pred)"
   ]
  },
  {
   "cell_type": "code",
   "execution_count": 109,
   "id": "c67153c2",
   "metadata": {},
   "outputs": [
    {
     "name": "stdout",
     "output_type": "stream",
     "text": [
      "positive value - \n",
      "user th 0.3 - \n",
      "confusion matrix \n",
      " [[84 20]\n",
      " [17 58]]\n",
      "\n",
      "accuracy \n",
      " 0.7932960893854749\n",
      "\n",
      "recall \n",
      " 0.7733333333333333\n",
      "\n",
      "precision \n",
      " 0.7435897435897436\n",
      "\n",
      "f1 score \n",
      " 0.7581699346405228\n"
     ]
    }
   ],
   "source": [
    "print('positive value - ')\n",
    "predict_proba_positive = predict_proba_result[ :  , 1].reshape(-1, 1)\n",
    "\n",
    "user_th = 0.3\n",
    "user_th_pred = Binarizer(threshold = user_th).fit_transform(predict_proba_positive)\n",
    "\n",
    "print('user th 0.3 - ') \n",
    "metrics_evaluation(y_test , user_th_pred)"
   ]
  },
  {
   "cell_type": "markdown",
   "id": "1fe42d65",
   "metadata": {},
   "source": [
    "- trade-off 시각화\n",
    "- precision_recall_curve(실제값 , 예측확률 값) : 임계값 변화에 따른 평가지표 값을 반환(배열)\n",
    "- 반환값 : 정밀도, 재현율, 임계 값"
   ]
  },
  {
   "cell_type": "code",
   "execution_count": 144,
   "id": "678da8da",
   "metadata": {},
   "outputs": [
    {
     "name": "stdout",
     "output_type": "stream",
     "text": [
      "p  shape -  (149,)\n",
      "r  shape -  (149,)\n",
      "th shape -  (148,)\n"
     ]
    }
   ],
   "source": [
    "predict_proba_positive = predict_proba_result[ :  , 1]\n",
    "# predict_proba_positive\n",
    "p, r, th = precision_recall_curve(y_test , predict_proba_positive)\n",
    "print('p  shape - ' , p.shape)\n",
    "print('r  shape - ' , r.shape)\n",
    "print('th shape - ' , th.shape)"
   ]
  },
  {
   "cell_type": "code",
   "execution_count": 143,
   "id": "8d7b5ab2",
   "metadata": {},
   "outputs": [
    {
     "data": {
      "image/png": "[encoded data removed]",
      "text/plain": [
       "<Figure size 1080x360 with 1 Axes>"
      ]
     },
     "metadata": {
      "needs_background": "light"
     },
     "output_type": "display_data"
    }
   ],
   "source": [
    "plt.figure( figsize = (15, 5))\n",
    "\n",
    "\n",
    "plt.plot(th , p[0 : th.shape[0] ] , label = 'precision')\n",
    "plt.plot(th , r[0 : th.shape[0] ] , label = 'recall')\n",
    "\n",
    "plt.xlabel('threshold ratio')\n",
    "plt.ylabel('precision and recall value')\n",
    "\n",
    "start , end = plt.xlim()\n",
    "plt.xticks( np.round( np.arange(start , end , 0.1) , 2) )\n",
    "\n",
    "plt.grid(True)\n",
    "plt.legend(loc='best')\n",
    "plt.show()\n",
    "plt.close()"
   ]
  },
  {
   "cell_type": "markdown",
   "id": "6d4ea2f0",
   "metadata": {},
   "source": [
    "ROC 곡선과 AUC\n",
    "\n",
    "- FPR(False Positive Rate) : 실제 Negative 중 Positive로 잘못 예측한 비율\n",
    "- TPR(True Positive Rate) : 실제 Positive 중 Positive로 예측한 비율\n",
    "- FPR이 변할 때 TPR 어떻게 변하는지 나타내는 곡선\n",
    "- FPR -> x축 , TPR -> y축"
   ]
  },
  {
   "cell_type": "code",
   "execution_count": 137,
   "id": "cbd2cba5",
   "metadata": {},
   "outputs": [
    {
     "data": {
      "text/plain": [
       "(179,)"
      ]
     },
     "execution_count": 137,
     "metadata": {},
     "output_type": "execute_result"
    }
   ],
   "source": [
    "predict_proba_positive = predict_proba_result[ :  , 1]\n",
    "predict_proba_positive.shape"
   ]
  },
  {
   "cell_type": "code",
   "execution_count": 138,
   "id": "65b97a02",
   "metadata": {},
   "outputs": [
    {
     "data": {
      "text/plain": [
       "((70,), (70,), (70,))"
      ]
     },
     "execution_count": 138,
     "metadata": {},
     "output_type": "execute_result"
    }
   ],
   "source": [
    "fprs, tprs, th = roc_curve(y_test , predict_proba_positive)\n",
    "fprs.shape  , tprs.shape , th.shape"
   ]
  },
  {
   "cell_type": "code",
   "execution_count": 139,
   "id": "c69c8406",
   "metadata": {},
   "outputs": [
    {
     "name": "stdout",
     "output_type": "stream",
     "text": [
      "sample idx - \n"
     ]
    },
    {
     "data": {
      "text/plain": [
       "array([ 1,  7, 13, 19, 25, 31, 37, 43, 49, 55, 61, 67])"
      ]
     },
     "execution_count": 139,
     "metadata": {},
     "output_type": "execute_result"
    }
   ],
   "source": [
    "print('sample idx - ') \n",
    "thr_idx = np.arange(1, th.shape[0] , 6)\n",
    "thr_idx "
   ]
  },
  {
   "cell_type": "code",
   "execution_count": 140,
   "id": "697e0c37",
   "metadata": {
    "scrolled": true
   },
   "outputs": [
    {
     "data": {
      "text/plain": [
       "array([0.        , 0.02884615, 0.06730769, 0.08653846, 0.13461538,\n",
       "       0.18269231, 0.28846154, 0.35576923, 0.49038462, 0.65384615,\n",
       "       0.73076923, 0.82692308])"
      ]
     },
     "execution_count": 140,
     "metadata": {},
     "output_type": "execute_result"
    }
   ],
   "source": [
    "fprs[thr_idx] "
   ]
  },
  {
   "cell_type": "code",
   "execution_count": 141,
   "id": "bd3833cd",
   "metadata": {},
   "outputs": [
    {
     "data": {
      "text/plain": [
       "array([0.01333333, 0.36      , 0.48      , 0.64      , 0.72      ,\n",
       "       0.76      , 0.81333333, 0.85333333, 0.88      , 0.92      ,\n",
       "       0.96      , 1.        ])"
      ]
     },
     "execution_count": 141,
     "metadata": {},
     "output_type": "execute_result"
    }
   ],
   "source": [
    "tprs[thr_idx]"
   ]
  },
  {
   "cell_type": "code",
   "execution_count": 142,
   "id": "fa40b864",
   "metadata": {},
   "outputs": [
    {
     "data": {
      "image/png": "[encoded data removed]",
      "text/plain": [
       "<Figure size 1080x360 with 1 Axes>"
      ]
     },
     "metadata": {
      "needs_background": "light"
     },
     "output_type": "display_data"
    }
   ],
   "source": [
    "plt.figure( figsize = (15, 5))\n",
    "\n",
    "\n",
    "plt.plot([0,1] , [0,1] , label = 'strike')\n",
    "plt.plot(fprs , tprs , label = 'ROC')\n",
    "\n",
    "plt.xlabel('FPR')\n",
    "plt.ylabel('TPR')\n",
    "\n",
    "\n",
    "plt.grid(True)\n",
    "plt.legend(loc='best')\n",
    "plt.show()\n",
    "plt.close()"
   ]
  },
  {
   "cell_type": "code",
   "execution_count": 135,
   "id": "c5ed5967",
   "metadata": {},
   "outputs": [
    {
     "name": "stdout",
     "output_type": "stream",
     "text": [
      "ROC AUC -  0.7926923076923077\n",
      "Acc -  0.8044692737430168\n"
     ]
    }
   ],
   "source": [
    "logistic_model = LogisticRegression()\n",
    "\n",
    "logistic_model.fit(X_train , y_train) \n",
    "y_pred = logistic_model.predict(X_test) \n",
    "roc_score = roc_auc_score(y_test , y_pred) \n",
    "acc_score = accuracy_score(y_test , y_pred) \n",
    "print('ROC AUC - ' , roc_score)\n",
    "print('Acc - ' , acc_score)"
   ]
  }
 ],
 "metadata": {
  "kernelspec": {
   "display_name": "Python 3 (ipykernel)",
   "language": "python",
   "name": "python3"
  },
  "language_info": {
   "codemirror_mode": {
    "name": "ipython",
    "version": 3
   },
   "file_extension": ".py",
   "mimetype": "text/x-python",
   "name": "python",
   "nbconvert_exporter": "python",
   "pygments_lexer": "ipython3",
   "version": "3.9.7"
  },
  "varInspector": {
   "cols": {
    "lenName": 16,
    "lenType": 16,
    "lenVar": 40
   },
   "kernels_config": {
    "python": {
     "delete_cmd_postfix": "",
     "delete_cmd_prefix": "del ",
     "library": "var_list.py",
     "varRefreshCmd": "print(var_dic_list())"
    },
    "r": {
     "delete_cmd_postfix": ") ",
     "delete_cmd_prefix": "rm(",
     "library": "var_list.r",
     "varRefreshCmd": "cat(var_dic_list()) "
    }
   },
   "types_to_exclude": [
    "module",
    "function",
    "builtin_function_or_method",
    "instance",
    "_Feature"
   ],
   "window_display": false
  }
 },
 "nbformat": 4,
 "nbformat_minor": 5
}
