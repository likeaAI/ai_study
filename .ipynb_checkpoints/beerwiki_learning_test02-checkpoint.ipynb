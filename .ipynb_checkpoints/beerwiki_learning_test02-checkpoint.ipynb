{
 "cells": [
  {
   "cell_type": "code",
   "execution_count": 3,
   "id": "b26bca28",
   "metadata": {},
   "outputs": [],
   "source": [
    "from tensorflow.keras.datasets   import boston_housing , mnist , fashion_mnist\n",
    "from tensorflow.keras.models     import Sequential , clone_model , Model , load_model\n",
    "from tensorflow.keras.layers     import Dense , Activation , InputLayer , Flatten , Input , BatchNormalization , Dropout , Embedding\n",
    "\n",
    "# CNN\n",
    "from tensorflow.keras.layers     import Conv2D , MaxPooling2D , AveragePooling2D\n",
    "\n",
    "from tensorflow.keras            import optimizers  \n",
    "from tensorflow.keras.callbacks  import EarlyStopping , ModelCheckpoint , Callback\n",
    "from tensorflow.keras.optimizers import SGD , Adam , RMSprop\n",
    "\n",
    "# 이미지 로드\n",
    "from tensorflow.keras.preprocessing import image\n",
    "from tensorflow.keras.preprocessing.image import ImageDataGenerator \n",
    "\n",
    "# 자연어 처리\n",
    "from tensorflow.keras.preprocessing.text          import Tokenizer\n",
    "from tensorflow.keras.preprocessing.sequence      import pad_sequences\n",
    "\n",
    "from keras.utils.np_utils      import to_categorical\n",
    "\n",
    "from sklearn.datasets          import load_iris , load_breast_cancer , load_digits\n",
    "from sklearn.model_selection   import train_test_split\n",
    "\n",
    "import matplotlib.pyplot as plt\n",
    "\n",
    "import tensorflow as tf\n",
    "import numpy  as np\n",
    "import pandas as pd\n"
   ]
  },
  {
   "cell_type": "code",
   "execution_count": 4,
   "id": "f04205fa",
   "metadata": {},
   "outputs": [
    {
     "name": "stdout",
     "output_type": "stream",
     "text": [
      "Found 600 images belonging to 3 classes.\n"
     ]
    }
   ],
   "source": [
    "train_img_generator = ImageDataGenerator(rescale=1/255,\n",
    "                                        rotation_range=40,\n",
    "                                        width_shift_range=0.2,\n",
    "                                        height_shift_range=0.2,\n",
    "                                        shear_range=0.2,\n",
    "                                        zoom_range=0.2,\n",
    "                                        horizontal_flip=True,\n",
    "                                        fill_mode='nearest')\n",
    "train_generator = train_img_generator.flow_from_directory(\n",
    "    'C:/Users/crid2/ml-data/beertest01/train' , \n",
    "    target_size = (244, 244) , \n",
    "    batch_size  = 20 ,\n",
    "    class_mode = 'categorical'\n",
    ")"
   ]
  },
  {
   "cell_type": "code",
   "execution_count": 5,
   "id": "0beea814",
   "metadata": {},
   "outputs": [
    {
     "name": "stdout",
     "output_type": "stream",
     "text": [
      "Found 48 images belonging to 3 classes.\n"
     ]
    }
   ],
   "source": [
    "test_img_generator = ImageDataGenerator(rescale=1/255,\n",
    "                                        rotation_range=40,\n",
    "                                        width_shift_range=0.2,\n",
    "                                        height_shift_range=0.2,\n",
    "                                        shear_range=0.2,\n",
    "                                        zoom_range=0.2,\n",
    "                                        horizontal_flip=True,\n",
    "                                        fill_mode='nearest')\n",
    "test_generator = test_img_generator.flow_from_directory(\n",
    "    'C:/Users/crid2/ml-data/beertest01/test' , \n",
    "    target_size = (244, 244) , \n",
    "    batch_size  = 20 ,\n",
    "    class_mode = 'categorical'\n",
    ")"
   ]
  },
  {
   "cell_type": "code",
   "execution_count": null,
   "id": "4237852c",
   "metadata": {},
   "outputs": [],
   "source": []
  },
  {
   "cell_type": "code",
   "execution_count": 7,
   "id": "a88b6467",
   "metadata": {},
   "outputs": [],
   "source": [
    "def img_model() :\n",
    "  img_model = Sequential()\n",
    "\n",
    "  img_model.add( Conv2D(input_shape = (244, 244, 3) , filters = 16 , kernel_size = (3,3) , strides = (1,1) , padding = 'valid') )\n",
    "  img_model.add( Activation('relu'))\n",
    "  img_model.add( MaxPooling2D(pool_size = (2,2) , padding = 'valid' ) )\n",
    "  img_model.add( Dropout(0.25) )\n",
    "      \n",
    "  img_model.add( Conv2D(filters = 32 , kernel_size = (3,3) , strides = (1,1) , padding = 'valid') )\n",
    "  img_model.add( Activation('relu'))\n",
    "  img_model.add( MaxPooling2D(pool_size = (2,2) , padding = 'valid' ) )\n",
    "  img_model.add( Dropout(0.25) )\n",
    "\n",
    "  img_model.add( Conv2D(filters = 64 , kernel_size = (3,3) , strides = (1,1) , padding = 'valid') )\n",
    "  img_model.add( Activation('relu'))\n",
    "  img_model.add( MaxPooling2D(pool_size = (2,2) , padding = 'valid' ) )\n",
    "  img_model.add( Dropout(0.25) )\n",
    "\n",
    "  img_model.add( Conv2D(filters = 64 , kernel_size = (3,3) , strides = (1,1) , padding = 'valid') )\n",
    "  img_model.add( Activation('relu'))\n",
    "  img_model.add( MaxPooling2D(pool_size = (2,2) , padding = 'valid' ) )\n",
    "  img_model.add( Dropout(0.25) )\n",
    "\n",
    "  img_model.add( Flatten() )\n",
    "  img_model.add( Dense(units = 512) )\n",
    "  img_model.add( Activation('relu') )\n",
    "  img_model.add( Dropout(0.25) )\n",
    "  \n",
    "  img_model.add( Dense(units = 1) )\n",
    "  img_model.add( Activation('softmax') )\n",
    "\n",
    "  return img_model \n"
   ]
  },
  {
   "cell_type": "code",
   "execution_count": 8,
   "id": "b77fc1ae",
   "metadata": {},
   "outputs": [
    {
     "name": "stdout",
     "output_type": "stream",
     "text": [
      "Model: \"sequential\"\n",
      "_________________________________________________________________\n",
      " Layer (type)                Output Shape              Param #   \n",
      "=================================================================\n",
      " conv2d (Conv2D)             (None, 242, 242, 16)      448       \n",
      "                                                                 \n",
      " activation (Activation)     (None, 242, 242, 16)      0         \n",
      "                                                                 \n",
      " max_pooling2d (MaxPooling2D  (None, 121, 121, 16)     0         \n",
      " )                                                               \n",
      "                                                                 \n",
      " dropout (Dropout)           (None, 121, 121, 16)      0         \n",
      "                                                                 \n",
      " conv2d_1 (Conv2D)           (None, 119, 119, 32)      4640      \n",
      "                                                                 \n",
      " activation_1 (Activation)   (None, 119, 119, 32)      0         \n",
      "                                                                 \n",
      " max_pooling2d_1 (MaxPooling  (None, 59, 59, 32)       0         \n",
      " 2D)                                                             \n",
      "                                                                 \n",
      " dropout_1 (Dropout)         (None, 59, 59, 32)        0         \n",
      "                                                                 \n",
      " conv2d_2 (Conv2D)           (None, 57, 57, 64)        18496     \n",
      "                                                                 \n",
      " activation_2 (Activation)   (None, 57, 57, 64)        0         \n",
      "                                                                 \n",
      " max_pooling2d_2 (MaxPooling  (None, 28, 28, 64)       0         \n",
      " 2D)                                                             \n",
      "                                                                 \n",
      " dropout_2 (Dropout)         (None, 28, 28, 64)        0         \n",
      "                                                                 \n",
      " conv2d_3 (Conv2D)           (None, 26, 26, 64)        36928     \n",
      "                                                                 \n",
      " activation_3 (Activation)   (None, 26, 26, 64)        0         \n",
      "                                                                 \n",
      " max_pooling2d_3 (MaxPooling  (None, 13, 13, 64)       0         \n",
      " 2D)                                                             \n",
      "                                                                 \n",
      " dropout_3 (Dropout)         (None, 13, 13, 64)        0         \n",
      "                                                                 \n",
      " flatten (Flatten)           (None, 10816)             0         \n",
      "                                                                 \n",
      " dense (Dense)               (None, 512)               5538304   \n",
      "                                                                 \n",
      " activation_4 (Activation)   (None, 512)               0         \n",
      "                                                                 \n",
      " dropout_4 (Dropout)         (None, 512)               0         \n",
      "                                                                 \n",
      " dense_1 (Dense)             (None, 1)                 513       \n",
      "                                                                 \n",
      " activation_5 (Activation)   (None, 1)                 0         \n",
      "                                                                 \n",
      "=================================================================\n",
      "Total params: 5,599,329\n",
      "Trainable params: 5,599,329\n",
      "Non-trainable params: 0\n",
      "_________________________________________________________________\n"
     ]
    }
   ],
   "source": [
    "model = img_model()\n",
    "model.summary()"
   ]
  },
  {
   "cell_type": "code",
   "execution_count": 9,
   "id": "7ce8c2bb",
   "metadata": {},
   "outputs": [
    {
     "name": "stderr",
     "output_type": "stream",
     "text": [
      "C:\\Users\\crid2\\anaconda3\\lib\\site-packages\\keras\\optimizer_v2\\rmsprop.py:130: UserWarning: The `lr` argument is deprecated, use `learning_rate` instead.\n",
      "  super(RMSprop, self).__init__(name, **kwargs)\n"
     ]
    }
   ],
   "source": [
    "model.compile(optimizer = RMSprop(lr = 0.001), \n",
    "                      loss= 'categorical_crossentropy' , \n",
    "                      metrics=['accuracy'] ) "
   ]
  },
  {
   "cell_type": "code",
   "execution_count": 11,
   "id": "db9b328d",
   "metadata": {},
   "outputs": [
    {
     "name": "stdout",
     "output_type": "stream",
     "text": [
      "Epoch 1/100\n",
      "30/30 [==============================] - 16s 508ms/step - loss: 0.8895 - accuracy: 0.7467 - val_loss: 0.8749 - val_accuracy: 0.7500\n",
      "Epoch 2/100\n",
      "30/30 [==============================] - 14s 460ms/step - loss: 0.6557 - accuracy: 0.8067 - val_loss: 0.7880 - val_accuracy: 0.7569\n",
      "Epoch 3/100\n",
      "30/30 [==============================] - 13s 434ms/step - loss: 0.5374 - accuracy: 0.8256 - val_loss: 0.7370 - val_accuracy: 0.7431\n",
      "Epoch 4/100\n",
      "30/30 [==============================] - 13s 426ms/step - loss: 0.4957 - accuracy: 0.8578 - val_loss: 0.6354 - val_accuracy: 0.7986\n",
      "Epoch 5/100\n",
      "30/30 [==============================] - 13s 422ms/step - loss: 0.5090 - accuracy: 0.8567 - val_loss: 0.7556 - val_accuracy: 0.8403\n",
      "Epoch 6/100\n",
      "30/30 [==============================] - 13s 429ms/step - loss: 0.4771 - accuracy: 0.8717 - val_loss: 0.7104 - val_accuracy: 0.7708\n",
      "Epoch 7/100\n",
      "30/30 [==============================] - 13s 449ms/step - loss: 0.4667 - accuracy: 0.8811 - val_loss: 0.7248 - val_accuracy: 0.7569\n",
      "Epoch 8/100\n",
      "30/30 [==============================] - 13s 445ms/step - loss: 0.3335 - accuracy: 0.9300 - val_loss: 0.4944 - val_accuracy: 0.8681\n",
      "Epoch 9/100\n",
      "30/30 [==============================] - 13s 440ms/step - loss: 0.3490 - accuracy: 0.9239 - val_loss: 0.5195 - val_accuracy: 0.8819\n",
      "Epoch 10/100\n",
      "30/30 [==============================] - 13s 439ms/step - loss: 0.2156 - accuracy: 0.9483 - val_loss: 0.3741 - val_accuracy: 0.9375\n",
      "Epoch 11/100\n",
      "30/30 [==============================] - 13s 449ms/step - loss: 0.2317 - accuracy: 0.9472 - val_loss: 0.3289 - val_accuracy: 0.9375\n",
      "Epoch 12/100\n",
      "30/30 [==============================] - 14s 452ms/step - loss: 0.3320 - accuracy: 0.9372 - val_loss: 0.3155 - val_accuracy: 0.9097\n",
      "Epoch 13/100\n",
      "30/30 [==============================] - 14s 456ms/step - loss: 0.2498 - accuracy: 0.9600 - val_loss: 0.2891 - val_accuracy: 0.9722\n",
      "Epoch 14/100\n",
      "30/30 [==============================] - 14s 451ms/step - loss: 0.2166 - accuracy: 0.9583 - val_loss: 0.4741 - val_accuracy: 0.8958\n",
      "Epoch 15/100\n",
      "30/30 [==============================] - 13s 442ms/step - loss: 0.1297 - accuracy: 0.9722 - val_loss: 0.2453 - val_accuracy: 0.9444\n",
      "Epoch 16/100\n",
      "30/30 [==============================] - 14s 457ms/step - loss: 0.1918 - accuracy: 0.9678 - val_loss: 0.3579 - val_accuracy: 0.9097\n",
      "Epoch 17/100\n",
      "30/30 [==============================] - 13s 449ms/step - loss: 0.1695 - accuracy: 0.9694 - val_loss: 0.2943 - val_accuracy: 0.9653\n",
      "Epoch 18/100\n",
      "30/30 [==============================] - 14s 466ms/step - loss: 0.1528 - accuracy: 0.9633 - val_loss: 0.2206 - val_accuracy: 0.9792\n",
      "Epoch 19/100\n",
      "30/30 [==============================] - 13s 431ms/step - loss: 0.1353 - accuracy: 0.9750 - val_loss: 0.1077 - val_accuracy: 0.9931\n",
      "Epoch 20/100\n",
      "30/30 [==============================] - 13s 439ms/step - loss: 0.1503 - accuracy: 0.9711 - val_loss: 0.1418 - val_accuracy: 0.9931\n",
      "Epoch 21/100\n",
      "30/30 [==============================] - 13s 447ms/step - loss: 0.1192 - accuracy: 0.9806 - val_loss: 0.1378 - val_accuracy: 0.9861\n",
      "Epoch 22/100\n",
      "30/30 [==============================] - 13s 439ms/step - loss: 0.3310 - accuracy: 0.9672 - val_loss: 0.2462 - val_accuracy: 0.9722\n",
      "Epoch 23/100\n",
      "30/30 [==============================] - 14s 454ms/step - loss: 0.0791 - accuracy: 0.9806 - val_loss: 0.1580 - val_accuracy: 0.9583\n",
      "Epoch 24/100\n",
      "30/30 [==============================] - 13s 443ms/step - loss: 0.0836 - accuracy: 0.9806 - val_loss: 0.1432 - val_accuracy: 0.9792\n",
      "Epoch 25/100\n",
      "30/30 [==============================] - 14s 455ms/step - loss: 0.2184 - accuracy: 0.9706 - val_loss: 0.2154 - val_accuracy: 0.9583\n",
      "Epoch 26/100\n",
      "30/30 [==============================] - 14s 453ms/step - loss: 0.0562 - accuracy: 0.9861 - val_loss: 0.2503 - val_accuracy: 0.8889\n",
      "Epoch 27/100\n",
      "30/30 [==============================] - 14s 454ms/step - loss: 0.0646 - accuracy: 0.9817 - val_loss: 0.2066 - val_accuracy: 0.9653\n",
      "Epoch 28/100\n",
      "30/30 [==============================] - 13s 434ms/step - loss: 0.2433 - accuracy: 0.9750 - val_loss: 0.2129 - val_accuracy: 0.9444\n",
      "Epoch 29/100\n",
      "30/30 [==============================] - 14s 451ms/step - loss: 0.0951 - accuracy: 0.9811 - val_loss: 0.2497 - val_accuracy: 0.9236\n",
      "Epoch 30/100\n",
      "30/30 [==============================] - 13s 440ms/step - loss: 0.0464 - accuracy: 0.9917 - val_loss: 0.1023 - val_accuracy: 0.9792\n",
      "Epoch 31/100\n",
      "30/30 [==============================] - 13s 445ms/step - loss: 0.1119 - accuracy: 0.9883 - val_loss: 0.2185 - val_accuracy: 0.9306\n",
      "Epoch 32/100\n",
      "30/30 [==============================] - 13s 438ms/step - loss: 0.0571 - accuracy: 0.9894 - val_loss: 0.2127 - val_accuracy: 0.9444\n",
      "Epoch 33/100\n",
      "30/30 [==============================] - 13s 430ms/step - loss: 0.2347 - accuracy: 0.9717 - val_loss: 0.3262 - val_accuracy: 0.9167\n",
      "Epoch 34/100\n",
      "30/30 [==============================] - 13s 427ms/step - loss: 0.0814 - accuracy: 0.9861 - val_loss: 0.0977 - val_accuracy: 0.9861\n",
      "Epoch 35/100\n",
      "30/30 [==============================] - 13s 426ms/step - loss: 0.0668 - accuracy: 0.9883 - val_loss: 0.3003 - val_accuracy: 0.9167\n",
      "Epoch 36/100\n",
      "30/30 [==============================] - 14s 462ms/step - loss: 0.0487 - accuracy: 0.9911 - val_loss: 0.2414 - val_accuracy: 0.9444\n",
      "Epoch 37/100\n",
      "30/30 [==============================] - 16s 527ms/step - loss: 0.0737 - accuracy: 0.9867 - val_loss: 0.1439 - val_accuracy: 0.9722\n",
      "Epoch 38/100\n",
      "30/30 [==============================] - 14s 460ms/step - loss: 0.1090 - accuracy: 0.9794 - val_loss: 0.3468 - val_accuracy: 0.9097\n",
      "Epoch 39/100\n",
      "30/30 [==============================] - 13s 438ms/step - loss: 0.1151 - accuracy: 0.9789 - val_loss: 0.4260 - val_accuracy: 0.8750\n",
      "Epoch 40/100\n",
      "30/30 [==============================] - 13s 432ms/step - loss: 0.1629 - accuracy: 0.9839 - val_loss: 0.0899 - val_accuracy: 0.9931\n",
      "Epoch 41/100\n",
      "30/30 [==============================] - 13s 440ms/step - loss: 0.0557 - accuracy: 0.9906 - val_loss: 0.1155 - val_accuracy: 0.9722\n",
      "Epoch 42/100\n",
      "30/30 [==============================] - 13s 437ms/step - loss: 0.1720 - accuracy: 0.9844 - val_loss: 0.1032 - val_accuracy: 0.9722\n",
      "Epoch 43/100\n",
      "30/30 [==============================] - 14s 470ms/step - loss: 0.0601 - accuracy: 0.9900 - val_loss: 0.2149 - val_accuracy: 0.9375\n",
      "Epoch 44/100\n",
      "30/30 [==============================] - 13s 426ms/step - loss: 0.0635 - accuracy: 0.9867 - val_loss: 0.0949 - val_accuracy: 0.9722\n",
      "Epoch 45/100\n",
      "30/30 [==============================] - 13s 414ms/step - loss: 0.0952 - accuracy: 0.9889 - val_loss: 0.0623 - val_accuracy: 0.9792\n",
      "Epoch 46/100\n",
      "30/30 [==============================] - 13s 426ms/step - loss: 0.0701 - accuracy: 0.9867 - val_loss: 0.1688 - val_accuracy: 0.9514\n",
      "Epoch 47/100\n",
      "30/30 [==============================] - 13s 424ms/step - loss: 0.1330 - accuracy: 0.9828 - val_loss: 0.2632 - val_accuracy: 0.9444\n",
      "Epoch 48/100\n",
      "30/30 [==============================] - 13s 424ms/step - loss: 0.0584 - accuracy: 0.9928 - val_loss: 0.1613 - val_accuracy: 0.9444\n",
      "Epoch 49/100\n",
      "30/30 [==============================] - 13s 425ms/step - loss: 0.0927 - accuracy: 0.9850 - val_loss: 0.0428 - val_accuracy: 0.9931\n",
      "Epoch 50/100\n",
      "30/30 [==============================] - 13s 425ms/step - loss: 0.0340 - accuracy: 0.9922 - val_loss: 0.0600 - val_accuracy: 0.9931\n",
      "Epoch 51/100\n",
      "30/30 [==============================] - 13s 424ms/step - loss: 0.0463 - accuracy: 0.9894 - val_loss: 0.2113 - val_accuracy: 0.9722\n",
      "Epoch 52/100\n",
      "30/30 [==============================] - 13s 424ms/step - loss: 0.1640 - accuracy: 0.9900 - val_loss: 0.0610 - val_accuracy: 0.9931\n",
      "Epoch 53/100\n",
      "30/30 [==============================] - 13s 425ms/step - loss: 0.0490 - accuracy: 0.9889 - val_loss: 0.2426 - val_accuracy: 0.9306\n",
      "Epoch 54/100\n",
      "30/30 [==============================] - 13s 427ms/step - loss: 0.0986 - accuracy: 0.9861 - val_loss: 0.3229 - val_accuracy: 0.9028\n",
      "Epoch 55/100\n",
      "30/30 [==============================] - 14s 452ms/step - loss: 0.1430 - accuracy: 0.9817 - val_loss: 0.2124 - val_accuracy: 0.9514\n",
      "Epoch 56/100\n",
      "30/30 [==============================] - 14s 472ms/step - loss: 0.0223 - accuracy: 0.9950 - val_loss: 1.8855 - val_accuracy: 0.9028\n",
      "Epoch 57/100\n"
     ]
    },
    {
     "name": "stdout",
     "output_type": "stream",
     "text": [
      "30/30 [==============================] - 13s 439ms/step - loss: 0.1387 - accuracy: 0.9894 - val_loss: 0.1083 - val_accuracy: 0.9514\n",
      "Epoch 58/100\n",
      "30/30 [==============================] - 13s 426ms/step - loss: 0.0952 - accuracy: 0.9839 - val_loss: 0.1166 - val_accuracy: 0.9792\n",
      "Epoch 59/100\n",
      "30/30 [==============================] - 13s 433ms/step - loss: 0.0294 - accuracy: 0.9906 - val_loss: 0.1736 - val_accuracy: 0.9514\n",
      "Epoch 60/100\n",
      "30/30 [==============================] - 13s 420ms/step - loss: 0.9307 - accuracy: 0.9800 - val_loss: 0.2379 - val_accuracy: 0.9444\n",
      "Epoch 61/100\n",
      "30/30 [==============================] - 13s 420ms/step - loss: 0.0980 - accuracy: 0.9922 - val_loss: 0.1299 - val_accuracy: 0.9583\n",
      "Epoch 62/100\n",
      "30/30 [==============================] - 13s 416ms/step - loss: 0.0223 - accuracy: 0.9950 - val_loss: 0.1743 - val_accuracy: 0.9375\n",
      "Epoch 63/100\n",
      "30/30 [==============================] - 13s 428ms/step - loss: 0.1187 - accuracy: 0.9894 - val_loss: 0.5426 - val_accuracy: 0.8681\n",
      "Epoch 64/100\n",
      "30/30 [==============================] - 14s 461ms/step - loss: 0.1166 - accuracy: 0.9794 - val_loss: 0.5293 - val_accuracy: 0.8889\n",
      "Epoch 65/100\n",
      "30/30 [==============================] - 13s 448ms/step - loss: 0.0236 - accuracy: 0.9950 - val_loss: 0.0555 - val_accuracy: 0.9861\n",
      "Epoch 66/100\n",
      "30/30 [==============================] - 14s 449ms/step - loss: 0.1371 - accuracy: 0.9856 - val_loss: 0.2680 - val_accuracy: 0.9375\n",
      "Epoch 67/100\n",
      "30/30 [==============================] - 14s 462ms/step - loss: 0.0436 - accuracy: 0.9928 - val_loss: 0.9860 - val_accuracy: 0.8889\n",
      "Epoch 68/100\n",
      "30/30 [==============================] - 14s 464ms/step - loss: 0.1551 - accuracy: 0.9900 - val_loss: 0.3439 - val_accuracy: 0.9167\n",
      "Epoch 69/100\n",
      "30/30 [==============================] - 17s 559ms/step - loss: 0.0615 - accuracy: 0.9889 - val_loss: 0.2883 - val_accuracy: 0.9653\n",
      "Epoch 70/100\n",
      "30/30 [==============================] - 16s 507ms/step - loss: 0.0810 - accuracy: 0.9944 - val_loss: 0.3813 - val_accuracy: 0.9236\n",
      "Epoch 71/100\n",
      "30/30 [==============================] - 17s 561ms/step - loss: 0.0218 - accuracy: 0.9950 - val_loss: 0.0586 - val_accuracy: 0.9792\n",
      "Epoch 72/100\n",
      "30/30 [==============================] - 15s 493ms/step - loss: 0.1841 - accuracy: 0.9778 - val_loss: 0.2302 - val_accuracy: 0.9583\n",
      "Epoch 73/100\n",
      "30/30 [==============================] - 34s 1s/step - loss: 0.0146 - accuracy: 0.9972 - val_loss: 0.2660 - val_accuracy: 0.9444\n",
      "Epoch 74/100\n",
      "30/30 [==============================] - 34s 1s/step - loss: 0.1679 - accuracy: 0.9811 - val_loss: 0.1712 - val_accuracy: 0.9514\n",
      "Epoch 75/100\n",
      "30/30 [==============================] - 32s 1s/step - loss: 0.1139 - accuracy: 0.9839 - val_loss: 0.0626 - val_accuracy: 0.9722\n",
      "Epoch 76/100\n",
      "30/30 [==============================] - 23s 469ms/step - loss: 0.1286 - accuracy: 0.9850 - val_loss: 0.1472 - val_accuracy: 0.9722\n",
      "Epoch 77/100\n",
      "30/30 [==============================] - 13s 445ms/step - loss: 0.0545 - accuracy: 0.9944 - val_loss: 0.8935 - val_accuracy: 0.8403\n",
      "Epoch 78/100\n",
      "30/30 [==============================] - 14s 471ms/step - loss: 0.0507 - accuracy: 0.9911 - val_loss: 0.0447 - val_accuracy: 0.9861\n",
      "Epoch 79/100\n",
      "30/30 [==============================] - 14s 456ms/step - loss: 0.2708 - accuracy: 0.9889 - val_loss: 0.1417 - val_accuracy: 0.9792\n",
      "Epoch 80/100\n",
      "30/30 [==============================] - 15s 506ms/step - loss: 0.1704 - accuracy: 0.9878 - val_loss: 0.1996 - val_accuracy: 0.9653\n",
      "Epoch 81/100\n",
      "30/30 [==============================] - 14s 465ms/step - loss: 0.0794 - accuracy: 0.9900 - val_loss: 0.0381 - val_accuracy: 0.9931\n",
      "Epoch 82/100\n",
      "30/30 [==============================] - 14s 455ms/step - loss: 0.1318 - accuracy: 0.9894 - val_loss: 0.1187 - val_accuracy: 0.9722\n",
      "Epoch 83/100\n",
      "30/30 [==============================] - 13s 444ms/step - loss: 0.0297 - accuracy: 0.9933 - val_loss: 0.3069 - val_accuracy: 0.9514\n",
      "Epoch 84/100\n",
      "30/30 [==============================] - 14s 458ms/step - loss: 0.0863 - accuracy: 0.9878 - val_loss: 0.1255 - val_accuracy: 0.9722\n",
      "Epoch 85/100\n",
      "30/30 [==============================] - 14s 455ms/step - loss: 0.0469 - accuracy: 0.9906 - val_loss: 0.1205 - val_accuracy: 0.9792\n",
      "Epoch 86/100\n",
      "30/30 [==============================] - 14s 455ms/step - loss: 0.0386 - accuracy: 0.9894 - val_loss: 0.2110 - val_accuracy: 0.9792\n",
      "Epoch 87/100\n",
      "30/30 [==============================] - 14s 464ms/step - loss: 0.0778 - accuracy: 0.9939 - val_loss: 0.1168 - val_accuracy: 0.9583\n",
      "Epoch 88/100\n",
      "30/30 [==============================] - 14s 461ms/step - loss: 0.1626 - accuracy: 0.9944 - val_loss: 0.0871 - val_accuracy: 0.9722\n",
      "Epoch 89/100\n",
      "30/30 [==============================] - 14s 471ms/step - loss: 0.1124 - accuracy: 0.9894 - val_loss: 0.2763 - val_accuracy: 0.9306\n",
      "Epoch 90/100\n",
      "30/30 [==============================] - 14s 462ms/step - loss: 0.2493 - accuracy: 0.9889 - val_loss: 0.2372 - val_accuracy: 0.9583\n",
      "Epoch 91/100\n",
      "30/30 [==============================] - 14s 456ms/step - loss: 0.0400 - accuracy: 0.9939 - val_loss: 0.1606 - val_accuracy: 0.9583\n",
      "Epoch 92/100\n",
      "30/30 [==============================] - 14s 454ms/step - loss: 0.0147 - accuracy: 0.9989 - val_loss: 0.3213 - val_accuracy: 0.9514\n",
      "Epoch 93/100\n",
      "30/30 [==============================] - 14s 458ms/step - loss: 0.3802 - accuracy: 0.9878 - val_loss: 0.2767 - val_accuracy: 0.9653\n",
      "Epoch 94/100\n",
      "30/30 [==============================] - 14s 458ms/step - loss: 0.0578 - accuracy: 0.9967 - val_loss: 0.2002 - val_accuracy: 0.9792\n",
      "Epoch 95/100\n",
      "30/30 [==============================] - 14s 471ms/step - loss: 0.0737 - accuracy: 0.9889 - val_loss: 0.3817 - val_accuracy: 0.9583\n",
      "Epoch 96/100\n",
      "30/30 [==============================] - 14s 475ms/step - loss: 0.1042 - accuracy: 0.9883 - val_loss: 0.1546 - val_accuracy: 0.9792\n",
      "Epoch 97/100\n",
      "30/30 [==============================] - 15s 486ms/step - loss: 0.0278 - accuracy: 0.9950 - val_loss: 0.7976 - val_accuracy: 0.8542\n",
      "Epoch 98/100\n",
      "30/30 [==============================] - 14s 475ms/step - loss: 0.1403 - accuracy: 0.9928 - val_loss: 0.1559 - val_accuracy: 0.9583\n",
      "Epoch 99/100\n",
      "30/30 [==============================] - 14s 450ms/step - loss: 0.1440 - accuracy: 0.9911 - val_loss: 0.0536 - val_accuracy: 0.9931\n",
      "Epoch 100/100\n",
      "30/30 [==============================] - 13s 441ms/step - loss: 0.0098 - accuracy: 0.9972 - val_loss: 0.0299 - val_accuracy: 0.9931\n"
     ]
    }
   ],
   "source": [
    "model_history = model.fit(train_generator , validation_data=test_generator, epochs = 100 ,  verbose = 1 )"
   ]
  },
  {
   "cell_type": "code",
   "execution_count": 12,
   "id": "b7853714",
   "metadata": {},
   "outputs": [
    {
     "name": "stdout",
     "output_type": "stream",
     "text": [
      "모델 저장\n",
      "INFO:tensorflow:Assets written to: exampe02-3model-case.h12\\assets\n"
     ]
    }
   ],
   "source": [
    "print('모델 저장')\n",
    "model.save('exampe02-3model-case.h12')"
   ]
  },
  {
   "cell_type": "code",
   "execution_count": null,
   "id": "33586c8b",
   "metadata": {},
   "outputs": [],
   "source": [
    "with open('/content/drive/MyDrive/Colab Notebooks/beer_model_20220503test.tflite', 'wb') as f:\n",
    "  f.write(tflite_model)\n"
   ]
  },
  {
   "cell_type": "code",
   "execution_count": 13,
   "id": "e1d2ce12",
   "metadata": {},
   "outputs": [
    {
     "data": {
      "image/png": "[encoded data removed]",
      "text/plain": [
       "<Figure size 432x288 with 1 Axes>"
      ]
     },
     "metadata": {
      "needs_background": "light"
     },
     "output_type": "display_data"
    },
    {
     "data": {
      "image/png": "[encoded data removed]",
      "text/plain": [
       "<Figure size 432x288 with 1 Axes>"
      ]
     },
     "metadata": {
      "needs_background": "light"
     },
     "output_type": "display_data"
    }
   ],
   "source": [
    "import matplotlib.pyplot as plt\n",
    "\n",
    "acc = model_history.history['accuracy']\n",
    "val_acc = model_history.history['val_accuracy']\n",
    "loss = model_history.history['loss']\n",
    "val_loss = model_history.history['val_loss']\n",
    "\n",
    "epochs = range(len(acc))\n",
    "\n",
    "plt.plot(epochs, acc, 'bo', label='Training accuracy')\n",
    "plt.plot(epochs, val_acc, 'b', label='Validation accuracy')\n",
    "plt.title('Training and validation accuracy')\n",
    "plt.legend()\n",
    "\n",
    "plt.figure()\n",
    "\n",
    "plt.plot(epochs, loss, 'go', label='Training Loss')\n",
    "plt.plot(epochs, val_loss, 'g', label='Validation Loss')\n",
    "plt.title('Training and validation loss')\n",
    "plt.legend()\n",
    "\n",
    "plt.show()"
   ]
  },
  {
   "cell_type": "code",
   "execution_count": null,
   "id": "09b30a56",
   "metadata": {},
   "outputs": [],
   "source": []
  },
  {
   "cell_type": "code",
   "execution_count": null,
   "id": "797cbdf8",
   "metadata": {},
   "outputs": [],
   "source": []
  }
 ],
 "metadata": {
  "kernelspec": {
   "display_name": "Python 3 (ipykernel)",
   "language": "python",
   "name": "python3"
  },
  "language_info": {
   "codemirror_mode": {
    "name": "ipython",
    "version": 3
   },
   "file_extension": ".py",
   "mimetype": "text/x-python",
   "name": "python",
   "nbconvert_exporter": "python",
   "pygments_lexer": "ipython3",
   "version": "3.9.7"
  },
  "varInspector": {
   "cols": {
    "lenName": 16,
    "lenType": 16,
    "lenVar": 40
   },
   "kernels_config": {
    "python": {
     "delete_cmd_postfix": "",
     "delete_cmd_prefix": "del ",
     "library": "var_list.py",
     "varRefreshCmd": "print(var_dic_list())"
    },
    "r": {
     "delete_cmd_postfix": ") ",
     "delete_cmd_prefix": "rm(",
     "library": "var_list.r",
     "varRefreshCmd": "cat(var_dic_list()) "
    }
   },
   "types_to_exclude": [
    "module",
    "function",
    "builtin_function_or_method",
    "instance",
    "_Feature"
   ],
   "window_display": false
  }
 },
 "nbformat": 4,
 "nbformat_minor": 5
}
