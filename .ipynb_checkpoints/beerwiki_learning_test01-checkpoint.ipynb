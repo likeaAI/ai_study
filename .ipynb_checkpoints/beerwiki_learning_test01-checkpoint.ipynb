{
 "cells": [
  {
   "cell_type": "code",
   "execution_count": 10,
   "id": "b26bca28",
   "metadata": {},
   "outputs": [],
   "source": [
    "from tensorflow.keras.datasets   import boston_housing , mnist , fashion_mnist\n",
    "from tensorflow.keras.models     import Sequential , clone_model , Model , load_model\n",
    "from tensorflow.keras.layers     import Dense , Activation , InputLayer , Flatten , Input , BatchNormalization , Dropout , Embedding\n",
    "\n",
    "# CNN\n",
    "from tensorflow.keras.layers     import Conv2D , MaxPooling2D , AveragePooling2D\n",
    "\n",
    "from tensorflow.keras            import optimizers  \n",
    "from tensorflow.keras.callbacks  import EarlyStopping , ModelCheckpoint , Callback\n",
    "from tensorflow.keras.optimizers import SGD , Adam , RMSprop\n",
    "\n",
    "# 이미지 로드\n",
    "from tensorflow.keras.preprocessing import image\n",
    "from tensorflow.keras.preprocessing.image import ImageDataGenerator \n",
    "\n",
    "# 자연어 처리\n",
    "from tensorflow.keras.preprocessing.text          import Tokenizer\n",
    "from tensorflow.keras.preprocessing.sequence      import pad_sequences\n",
    "\n",
    "from keras.utils.np_utils      import to_categorical\n",
    "\n",
    "from sklearn.datasets          import load_iris , load_breast_cancer , load_digits\n",
    "from sklearn.model_selection   import train_test_split\n",
    "\n",
    "import matplotlib.pyplot as plt\n",
    "\n",
    "import tensorflow as tf\n",
    "import numpy  as np\n",
    "import pandas as pd\n"
   ]
  },
  {
   "cell_type": "code",
   "execution_count": 11,
   "id": "f04205fa",
   "metadata": {},
   "outputs": [
    {
     "name": "stdout",
     "output_type": "stream",
     "text": [
      "Found 5506 images belonging to 33 classes.\n"
     ]
    }
   ],
   "source": [
    "train_img_generator = ImageDataGenerator(rescale=1/255,\n",
    "                                        rotation_range=40,\n",
    "                                        width_shift_range=0.2,\n",
    "                                        height_shift_range=0.2,\n",
    "                                        shear_range=0.2,\n",
    "                                        zoom_range=0.2,\n",
    "                                        horizontal_flip=True,\n",
    "                                        fill_mode='nearest')\n",
    "train_generator = train_img_generator.flow_from_directory(\n",
    "    'C:/Users/crid2/ml-data/beertest/train' , \n",
    "    target_size = (200, 200) , \n",
    "    batch_size  = 20 ,\n",
    "    class_mode = 'categorical'\n",
    ")"
   ]
  },
  {
   "cell_type": "code",
   "execution_count": 12,
   "id": "0beea814",
   "metadata": {},
   "outputs": [
    {
     "name": "stdout",
     "output_type": "stream",
     "text": [
      "Found 527 images belonging to 33 classes.\n"
     ]
    }
   ],
   "source": [
    "test_img_generator = ImageDataGenerator(rescale=1/255,\n",
    "                                        rotation_range=40,\n",
    "                                        width_shift_range=0.2,\n",
    "                                        height_shift_range=0.2,\n",
    "                                        shear_range=0.2,\n",
    "                                        zoom_range=0.2,\n",
    "                                        horizontal_flip=True,\n",
    "                                        fill_mode='nearest')\n",
    "test_generator = test_img_generator.flow_from_directory(\n",
    "    'C:/Users/crid2/ml-data/beertest/test' , \n",
    "    target_size = (200, 200) , \n",
    "    batch_size  = 20 ,\n",
    "    class_mode = 'categorical'\n",
    ")"
   ]
  },
  {
   "cell_type": "code",
   "execution_count": 13,
   "id": "a88b6467",
   "metadata": {},
   "outputs": [],
   "source": [
    "def img_model() :\n",
    "  img_model = Sequential()\n",
    "\n",
    "  img_model.add( Conv2D(input_shape = (200, 200, 3) , filters = 16 , kernel_size = (3,3) , strides = (1,1) , padding = 'valid') )\n",
    "  img_model.add( Activation('relu'))\n",
    "  img_model.add( MaxPooling2D(pool_size = (2,2) , padding = 'valid' ) )\n",
    "  img_model.add( Dropout(0.25) )\n",
    "      \n",
    "  img_model.add( Conv2D(filters = 32 , kernel_size = (3,3) , strides = (1,1) , padding = 'valid') )\n",
    "  img_model.add( Activation('relu'))\n",
    "  img_model.add( MaxPooling2D(pool_size = (2,2) , padding = 'valid' ) )\n",
    "  img_model.add( Dropout(0.25) )\n",
    "\n",
    "  img_model.add( Conv2D(filters = 64 , kernel_size = (3,3) , strides = (1,1) , padding = 'valid') )\n",
    "  img_model.add( Activation('relu'))\n",
    "  img_model.add( MaxPooling2D(pool_size = (2,2) , padding = 'valid' ) )\n",
    "  img_model.add( Dropout(0.25) )\n",
    "\n",
    "  img_model.add( Conv2D(filters = 64 , kernel_size = (3,3) , strides = (1,1) , padding = 'valid') )\n",
    "  img_model.add( Activation('relu'))\n",
    "  img_model.add( MaxPooling2D(pool_size = (2,2) , padding = 'valid' ) )\n",
    "  img_model.add( Dropout(0.25) )\n",
    "\n",
    "  img_model.add( Flatten() )\n",
    "  img_model.add( Dense(units = 512) )\n",
    "  img_model.add( Activation('relu') )\n",
    "  img_model.add( Dropout(0.25) )\n",
    "  \n",
    "  img_model.add( Dense(units = 1) )\n",
    "  img_model.add( Activation('softmax') )\n",
    "\n",
    "  return img_model \n"
   ]
  },
  {
   "cell_type": "code",
   "execution_count": 14,
   "id": "b77fc1ae",
   "metadata": {},
   "outputs": [
    {
     "name": "stdout",
     "output_type": "stream",
     "text": [
      "Model: \"sequential_1\"\n",
      "_________________________________________________________________\n",
      " Layer (type)                Output Shape              Param #   \n",
      "=================================================================\n",
      " conv2d_4 (Conv2D)           (None, 198, 198, 16)      448       \n",
      "                                                                 \n",
      " activation_6 (Activation)   (None, 198, 198, 16)      0         \n",
      "                                                                 \n",
      " max_pooling2d_4 (MaxPooling  (None, 99, 99, 16)       0         \n",
      " 2D)                                                             \n",
      "                                                                 \n",
      " dropout_5 (Dropout)         (None, 99, 99, 16)        0         \n",
      "                                                                 \n",
      " conv2d_5 (Conv2D)           (None, 97, 97, 32)        4640      \n",
      "                                                                 \n",
      " activation_7 (Activation)   (None, 97, 97, 32)        0         \n",
      "                                                                 \n",
      " max_pooling2d_5 (MaxPooling  (None, 48, 48, 32)       0         \n",
      " 2D)                                                             \n",
      "                                                                 \n",
      " dropout_6 (Dropout)         (None, 48, 48, 32)        0         \n",
      "                                                                 \n",
      " conv2d_6 (Conv2D)           (None, 46, 46, 64)        18496     \n",
      "                                                                 \n",
      " activation_8 (Activation)   (None, 46, 46, 64)        0         \n",
      "                                                                 \n",
      " max_pooling2d_6 (MaxPooling  (None, 23, 23, 64)       0         \n",
      " 2D)                                                             \n",
      "                                                                 \n",
      " dropout_7 (Dropout)         (None, 23, 23, 64)        0         \n",
      "                                                                 \n",
      " conv2d_7 (Conv2D)           (None, 21, 21, 64)        36928     \n",
      "                                                                 \n",
      " activation_9 (Activation)   (None, 21, 21, 64)        0         \n",
      "                                                                 \n",
      " max_pooling2d_7 (MaxPooling  (None, 10, 10, 64)       0         \n",
      " 2D)                                                             \n",
      "                                                                 \n",
      " dropout_8 (Dropout)         (None, 10, 10, 64)        0         \n",
      "                                                                 \n",
      " flatten_1 (Flatten)         (None, 6400)              0         \n",
      "                                                                 \n",
      " dense_2 (Dense)             (None, 512)               3277312   \n",
      "                                                                 \n",
      " activation_10 (Activation)  (None, 512)               0         \n",
      "                                                                 \n",
      " dropout_9 (Dropout)         (None, 512)               0         \n",
      "                                                                 \n",
      " dense_3 (Dense)             (None, 1)                 513       \n",
      "                                                                 \n",
      " activation_11 (Activation)  (None, 1)                 0         \n",
      "                                                                 \n",
      "=================================================================\n",
      "Total params: 3,338,337\n",
      "Trainable params: 3,338,337\n",
      "Non-trainable params: 0\n",
      "_________________________________________________________________\n"
     ]
    }
   ],
   "source": [
    "model = img_model()\n",
    "model.summary()"
   ]
  },
  {
   "cell_type": "code",
   "execution_count": 15,
   "id": "7ce8c2bb",
   "metadata": {},
   "outputs": [],
   "source": [
    "model.compile(optimizer = RMSprop(lr = 0.001), \n",
    "                      loss= 'categorical_crossentropy' , \n",
    "                      metrics=['accuracy'] ) "
   ]
  },
  {
   "cell_type": "code",
   "execution_count": 17,
   "id": "db9b328d",
   "metadata": {},
   "outputs": [
    {
     "name": "stdout",
     "output_type": "stream",
     "text": [
      "Epoch 1/30\n",
      "276/276 [==============================] - 130s 469ms/step - loss: 3.1870 - accuracy: 0.9697 - val_loss: 3.2007 - val_accuracy: 0.9697\n",
      "Epoch 2/30\n",
      "276/276 [==============================] - 104s 378ms/step - loss: 2.8194 - accuracy: 0.9700 - val_loss: 2.9308 - val_accuracy: 0.9699\n",
      "Epoch 3/30\n",
      "276/276 [==============================] - 109s 396ms/step - loss: 2.4460 - accuracy: 0.9708 - val_loss: 2.7149 - val_accuracy: 0.9706\n",
      "Epoch 4/30\n",
      "276/276 [==============================] - 98s 355ms/step - loss: 2.0327 - accuracy: 0.9732 - val_loss: 2.3212 - val_accuracy: 0.9709\n",
      "Epoch 5/30\n",
      "276/276 [==============================] - 98s 355ms/step - loss: 1.7430 - accuracy: 0.9761 - val_loss: 2.0314 - val_accuracy: 0.9730\n",
      "Epoch 6/30\n",
      "276/276 [==============================] - 103s 375ms/step - loss: 1.5276 - accuracy: 0.9780 - val_loss: 1.6824 - val_accuracy: 0.9757\n",
      "Epoch 7/30\n",
      "276/276 [==============================] - 107s 387ms/step - loss: 1.3676 - accuracy: 0.9799 - val_loss: 1.5563 - val_accuracy: 0.9772\n",
      "Epoch 8/30\n",
      "276/276 [==============================] - 104s 377ms/step - loss: 1.2956 - accuracy: 0.9817 - val_loss: 1.7485 - val_accuracy: 0.9754\n",
      "Epoch 9/30\n",
      "276/276 [==============================] - 181s 658ms/step - loss: 1.1991 - accuracy: 0.9823 - val_loss: 1.4001 - val_accuracy: 0.9788\n",
      "Epoch 10/30\n",
      "276/276 [==============================] - 102s 368ms/step - loss: 1.1414 - accuracy: 0.9834 - val_loss: 1.2066 - val_accuracy: 0.9811\n",
      "Epoch 11/30\n",
      "276/276 [==============================] - 101s 367ms/step - loss: 1.0874 - accuracy: 0.9841 - val_loss: 1.2868 - val_accuracy: 0.9813\n",
      "Epoch 12/30\n",
      "276/276 [==============================] - 101s 366ms/step - loss: 1.0549 - accuracy: 0.9851 - val_loss: 1.3431 - val_accuracy: 0.9802\n",
      "Epoch 13/30\n",
      "276/276 [==============================] - 112s 407ms/step - loss: 1.0445 - accuracy: 0.9850 - val_loss: 1.2631 - val_accuracy: 0.9815\n",
      "Epoch 14/30\n",
      "276/276 [==============================] - 106s 383ms/step - loss: 1.0254 - accuracy: 0.9856 - val_loss: 1.2482 - val_accuracy: 0.9811\n",
      "Epoch 15/30\n",
      "276/276 [==============================] - 103s 373ms/step - loss: 0.9944 - accuracy: 0.9861 - val_loss: 1.0514 - val_accuracy: 0.9826\n",
      "Epoch 16/30\n",
      "276/276 [==============================] - 148s 536ms/step - loss: 0.9871 - accuracy: 0.9862 - val_loss: 1.1489 - val_accuracy: 0.9826\n",
      "Epoch 17/30\n",
      "276/276 [==============================] - 103s 373ms/step - loss: 0.9573 - accuracy: 0.9870 - val_loss: 1.1801 - val_accuracy: 0.9834\n",
      "Epoch 18/30\n",
      "276/276 [==============================] - 99s 360ms/step - loss: 0.9957 - accuracy: 0.9865 - val_loss: 1.5015 - val_accuracy: 0.9780\n",
      "Epoch 19/30\n",
      "276/276 [==============================] - 103s 375ms/step - loss: 0.9728 - accuracy: 0.9865 - val_loss: 1.0427 - val_accuracy: 0.9837\n",
      "Epoch 20/30\n",
      "276/276 [==============================] - 96s 349ms/step - loss: 0.9793 - accuracy: 0.9869 - val_loss: 1.1722 - val_accuracy: 0.9825\n",
      "Epoch 21/30\n",
      "276/276 [==============================] - 97s 350ms/step - loss: 0.9745 - accuracy: 0.9867 - val_loss: 0.9748 - val_accuracy: 0.9860\n",
      "Epoch 22/30\n",
      "276/276 [==============================] - 96s 349ms/step - loss: 0.9581 - accuracy: 0.9872 - val_loss: 1.1813 - val_accuracy: 0.9833\n",
      "Epoch 23/30\n",
      "276/276 [==============================] - 97s 353ms/step - loss: 0.9572 - accuracy: 0.9871 - val_loss: 0.9936 - val_accuracy: 0.9855\n",
      "Epoch 24/30\n",
      "276/276 [==============================] - 135s 489ms/step - loss: 1.0385 - accuracy: 0.9861 - val_loss: 1.2661 - val_accuracy: 0.9825\n",
      "Epoch 25/30\n",
      "276/276 [==============================] - 107s 388ms/step - loss: 0.9670 - accuracy: 0.9871 - val_loss: 1.8441 - val_accuracy: 0.9779\n",
      "Epoch 26/30\n",
      "276/276 [==============================] - 103s 373ms/step - loss: 1.0414 - accuracy: 0.9869 - val_loss: 2.1275 - val_accuracy: 0.9818\n",
      "Epoch 27/30\n",
      "276/276 [==============================] - 139s 503ms/step - loss: 1.0108 - accuracy: 0.9870 - val_loss: 1.1364 - val_accuracy: 0.9834\n",
      "Epoch 28/30\n",
      "276/276 [==============================] - 102s 371ms/step - loss: 1.0831 - accuracy: 0.9863 - val_loss: 1.1549 - val_accuracy: 0.9833\n",
      "Epoch 29/30\n",
      "276/276 [==============================] - 99s 358ms/step - loss: 1.0093 - accuracy: 0.9869 - val_loss: 1.1042 - val_accuracy: 0.9844\n",
      "Epoch 30/30\n",
      "276/276 [==============================] - 106s 385ms/step - loss: 1.0706 - accuracy: 0.9864 - val_loss: 1.0893 - val_accuracy: 0.9835\n"
     ]
    }
   ],
   "source": [
    "model_history = model.fit(train_generator, validation_data=test_generator, epochs = 30  , verbose = 1 )"
   ]
  },
  {
   "cell_type": "code",
   "execution_count": 18,
   "id": "b7853714",
   "metadata": {},
   "outputs": [
    {
     "name": "stdout",
     "output_type": "stream",
     "text": [
      "모델 저장\n",
      "INFO:tensorflow:Assets written to: exampe-multi-case.h12\\assets\n"
     ]
    }
   ],
   "source": [
    "print('모델 저장')\n",
    "model.save('example-multi-case.h5')"
   ]
  },
  {
   "cell_type": "code",
   "execution_count": 21,
   "id": "96605d5c",
   "metadata": {},
   "outputs": [
    {
     "ename": "TypeError",
     "evalue": "a bytes-like object is required, not 'History'",
     "output_type": "error",
     "traceback": [
      "\u001b[1;31m---------------------------------------------------------------------------\u001b[0m",
      "\u001b[1;31mTypeError\u001b[0m                                 Traceback (most recent call last)",
      "\u001b[1;32m~\\AppData\\Local\\Temp/ipykernel_30456/3478219973.py\u001b[0m in \u001b[0;36m<module>\u001b[1;34m\u001b[0m\n\u001b[0;32m      1\u001b[0m \u001b[1;32mwith\u001b[0m \u001b[0mopen\u001b[0m\u001b[1;33m(\u001b[0m\u001b[1;34m'C:/Users/crid2/ml-data/trainbeer_model_20220503test01.tflite'\u001b[0m\u001b[1;33m,\u001b[0m \u001b[1;34m'wb'\u001b[0m\u001b[1;33m)\u001b[0m \u001b[1;32mas\u001b[0m \u001b[0mf\u001b[0m\u001b[1;33m:\u001b[0m\u001b[1;33m\u001b[0m\u001b[1;33m\u001b[0m\u001b[0m\n\u001b[1;32m----> 2\u001b[1;33m   \u001b[0mf\u001b[0m\u001b[1;33m.\u001b[0m\u001b[0mwrite\u001b[0m\u001b[1;33m(\u001b[0m\u001b[0mmodel_history\u001b[0m\u001b[1;33m)\u001b[0m\u001b[1;33m\u001b[0m\u001b[1;33m\u001b[0m\u001b[0m\n\u001b[0m",
      "\u001b[1;31mTypeError\u001b[0m: a bytes-like object is required, not 'History'"
     ]
    }
   ],
   "source": [
    "with open('C:/Users/crid2/ml-data/trainbeer_model_20220503test01.tflite', 'wb') as f:\n",
    "  f.write(model_history)"
   ]
  },
  {
   "cell_type": "code",
   "execution_count": 22,
   "id": "e1d2ce12",
   "metadata": {},
   "outputs": [
    {
     "data": {
      "image/png": "[encoded data removed]",
      "text/plain": [
       "<Figure size 432x288 with 1 Axes>"
      ]
     },
     "metadata": {
      "needs_background": "light"
     },
     "output_type": "display_data"
    },
    {
     "data": {
      "image/png": "[encoded data removed]",
      "text/plain": [
       "<Figure size 432x288 with 1 Axes>"
      ]
     },
     "metadata": {
      "needs_background": "light"
     },
     "output_type": "display_data"
    }
   ],
   "source": [
    "import matplotlib.pyplot as plt\n",
    "\n",
    "acc = model_history.history['accuracy']\n",
    "val_acc = model_history.history['val_accuracy']\n",
    "loss = model_history.history['loss']\n",
    "val_loss = model_history.history['val_loss']\n",
    "\n",
    "epochs = range(len(acc))\n",
    "\n",
    "plt.plot(epochs, acc, 'bo', label='Training accuracy')\n",
    "plt.plot(epochs, val_acc, 'b', label='Validation accuracy')\n",
    "plt.title('Training and validation accuracy')\n",
    "plt.legend()\n",
    "\n",
    "plt.figure()\n",
    "\n",
    "plt.plot(epochs, loss, 'go', label='Training Loss')\n",
    "plt.plot(epochs, val_loss, 'g', label='Validation Loss')\n",
    "plt.title('Training and validation loss')\n",
    "plt.legend()\n",
    "\n",
    "plt.show()"
   ]
  },
  {
   "cell_type": "code",
   "execution_count": null,
   "id": "09b30a56",
   "metadata": {},
   "outputs": [],
   "source": []
  },
  {
   "cell_type": "code",
   "execution_count": null,
   "id": "797cbdf8",
   "metadata": {},
   "outputs": [],
   "source": []
  }
 ],
 "metadata": {
  "kernelspec": {
   "display_name": "Python 3 (ipykernel)",
   "language": "python",
   "name": "python3"
  },
  "language_info": {
   "codemirror_mode": {
    "name": "ipython",
    "version": 3
   },
   "file_extension": ".py",
   "mimetype": "text/x-python",
   "name": "python",
   "nbconvert_exporter": "python",
   "pygments_lexer": "ipython3",
   "version": "3.9.7"
  },
  "varInspector": {
   "cols": {
    "lenName": 16,
    "lenType": 16,
    "lenVar": 40
   },
   "kernels_config": {
    "python": {
     "delete_cmd_postfix": "",
     "delete_cmd_prefix": "del ",
     "library": "var_list.py",
     "varRefreshCmd": "print(var_dic_list())"
    },
    "r": {
     "delete_cmd_postfix": ") ",
     "delete_cmd_prefix": "rm(",
     "library": "var_list.r",
     "varRefreshCmd": "cat(var_dic_list()) "
    }
   },
   "types_to_exclude": [
    "module",
    "function",
    "builtin_function_or_method",
    "instance",
    "_Feature"
   ],
   "window_display": false
  }
 },
 "nbformat": 4,
 "nbformat_minor": 5
}
