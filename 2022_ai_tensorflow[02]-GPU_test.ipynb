{
 "cells": [
  {
   "cell_type": "code",
   "execution_count": 1,
   "metadata": {
    "id": "tZDgP0ORDhTH"
   },
   "outputs": [],
   "source": [
    "from tensorflow.keras.datasets   import boston_housing , mnist , fashion_mnist\n",
    "from tensorflow.keras.models     import Sequential , clone_model , Model\n",
    "from tensorflow.keras.layers     import Dense , Activation , InputLayer , Flatten , Input , BatchNormalization , Dropout , Embedding\n",
    "from tensorflow.keras            import optimizers  \n",
    "from tensorflow.keras.callbacks  import EarlyStopping , ModelCheckpoint , Callback\n",
    "from tensorflow.keras.optimizers import SGD , Adam\n",
    "\n",
    "# 자연어 처리\n",
    "from tensorflow.keras.preprocessing.text          import Tokenizer\n",
    "from tensorflow.keras.preprocessing.sequence      import pad_sequences\n",
    "\n",
    "from keras.utils.np_utils      import to_categorical\n",
    "\n",
    "from sklearn.datasets          import load_iris , load_breast_cancer , load_digits\n",
    "from sklearn.model_selection   import train_test_split\n",
    "\n",
    "import matplotlib.pyplot as plt\n",
    "\n",
    "import numpy  as np\n",
    "import pandas as pd\n",
    "import tensorflow as tf "
   ]
  },
  {
   "cell_type": "code",
   "execution_count": 2,
   "metadata": {},
   "outputs": [],
   "source": [
    "import os\n",
    "\n",
    "os.environ[\"0\"]=\"0\"\n",
    "gpus = tf.config.experimental.list_physical_devices('GPU')\n",
    "if gpus:\n",
    "    try:\n",
    "        tf.config.experimental.set_memory_growth(gpus[0], True)\n",
    "    except RuntimeError as e:\n",
    "        print(e)"
   ]
  },
  {
   "cell_type": "code",
   "execution_count": 3,
   "metadata": {},
   "outputs": [
    {
     "data": {
      "text/plain": [
       "[name: \"/device:CPU:0\"\n",
       " device_type: \"CPU\"\n",
       " memory_limit: 268435456\n",
       " locality {\n",
       " }\n",
       " incarnation: 3852555051864666564\n",
       " xla_global_id: -1,\n",
       " name: \"/device:GPU:0\"\n",
       " device_type: \"GPU\"\n",
       " memory_limit: 2920035124\n",
       " locality {\n",
       "   bus_id: 1\n",
       "   links {\n",
       "   }\n",
       " }\n",
       " incarnation: 13830362198005681699\n",
       " physical_device_desc: \"device: 0, name: NVIDIA GeForce GTX 970, pci bus id: 0000:01:00.0, compute capability: 5.2\"\n",
       " xla_global_id: 416903419]"
      ]
     },
     "execution_count": 3,
     "metadata": {},
     "output_type": "execute_result"
    }
   ],
   "source": [
    "from tensorflow.python.client import device_lib\n",
    "device_lib.list_local_devices()"
   ]
  },
  {
   "cell_type": "markdown",
   "metadata": {
    "id": "i9k0Gp8TMFXG"
   },
   "source": [
    "#### 성능개선\n",
    "\n",
    "- 가중치 초기화\n",
    "- 활성화 함수 변경\n",
    "- 옵티마이저 변경\n",
    "- 정규화\n",
    "- 드롭아웃"
   ]
  },
  {
   "cell_type": "code",
   "execution_count": 4,
   "metadata": {
    "colab": {
     "base_uri": "https://localhost:8080/"
    },
    "id": "31s1A7JCMSQo",
    "outputId": "6632355c-08aa-4dd3-8fcc-0b87bc7a54a3"
   },
   "outputs": [
    {
     "name": "stdout",
     "output_type": "stream",
     "text": [
      "1. 데이터 세트 로드 - \n",
      "\n"
     ]
    },
    {
     "data": {
      "text/plain": [
       "(((60000, 28, 28), (60000,)), ((10000, 28, 28), (10000,)))"
      ]
     },
     "execution_count": 4,
     "metadata": {},
     "output_type": "execute_result"
    }
   ],
   "source": [
    "print('1. 데이터 세트 로드 - ')\n",
    "print()\n",
    "\n",
    "(X_train, y_train), (X_test, y_test) = fashion_mnist.load_data()\n",
    "(X_train.shape, y_train.shape), (X_test.shape, y_test.shape)\n"
   ]
  },
  {
   "cell_type": "markdown",
   "metadata": {
    "id": "Z9hqSQN0PfZc"
   },
   "source": [
    "0 : T-shirt/top\n",
    "1 : Trouser\n",
    "2 : Pullover\n",
    "3 : Dress\n",
    "4 : Coat\n",
    "5 : Sandal\n",
    "6 : Shirt\n",
    "7 : Sneaker\n",
    "8 : Bag\n",
    "9 : Ankel boot"
   ]
  },
  {
   "cell_type": "code",
   "execution_count": 5,
   "metadata": {
    "colab": {
     "base_uri": "https://localhost:8080/",
     "height": 321
    },
    "id": "yyV73_6_Dm9s",
    "outputId": "6f4a2d24-188b-413f-8334-c2e8049307bc"
   },
   "outputs": [
    {
     "name": "stdout",
     "output_type": "stream",
     "text": [
      "X_train[0] imshow() 시각화 - \n"
     ]
    },
    {
     "data": {
      "image/png": "[encoded data removed]",
      "text/plain": [
       "<Figure size 432x288 with 1 Axes>"
      ]
     },
     "metadata": {
      "needs_background": "light"
     },
     "output_type": "display_data"
    },
    {
     "name": "stdout",
     "output_type": "stream",
     "text": [
      "\n",
      "\n",
      "9\n"
     ]
    }
   ],
   "source": [
    "print('X_train[0] imshow() 시각화 - ')\n",
    "\n",
    "plt.imshow(X_train[0],cmap = plt.cm.binary)\n",
    "\n",
    "plt.grid(False)\n",
    "plt.axis('off')\n",
    "plt.show()\n",
    "plt.close()\n",
    "print()\n",
    "print()\n",
    "print(y_train[0])\n",
    "\n"
   ]
  },
  {
   "cell_type": "code",
   "execution_count": 6,
   "metadata": {
    "colab": {
     "base_uri": "https://localhost:8080/"
    },
    "id": "u_YnOVcsJ2fB",
    "outputId": "42febe51-8533-4a39-ab56-0acad87abbea"
   },
   "outputs": [
    {
     "name": "stdout",
     "output_type": "stream",
     "text": [
      "02. 데이터 전처리 훈련/테스트 0.0 ~ 1.0 변환 - \n"
     ]
    }
   ],
   "source": [
    "print('02. 데이터 전처리 훈련/테스트 0.0 ~ 1.0 변환 - ')\n",
    "\n",
    "X_train , X_test = X_train/255.0 , X_test/255.0\n",
    "\n"
   ]
  },
  {
   "cell_type": "code",
   "execution_count": 7,
   "metadata": {
    "colab": {
     "base_uri": "https://localhost:8080/"
    },
    "id": "x2F0eQcSJ2hn",
    "outputId": "82fbee11-0baf-4e79-abdc-df36d98aafa4"
   },
   "outputs": [
    {
     "name": "stdout",
     "output_type": "stream",
     "text": [
      "03. 모델 구성 - Flatten - hidden(512 , relu) - output(10 , softmax) \n"
     ]
    }
   ],
   "source": [
    "print('03. 모델 구성 - Flatten - hidden(512 , relu) - output(10 , softmax) ')\n",
    "\n",
    "fashion_model = Sequential()\n",
    "fashion_model.add( Flatten( input_shape = (28, 28) ) )  \n",
    "fashion_model.add( Dense(units = 512, activation = 'relu' ) )\n",
    "fashion_model.add( Dense(units = 10 , activation = 'softmax') ) \n"
   ]
  },
  {
   "cell_type": "code",
   "execution_count": 8,
   "metadata": {
    "colab": {
     "base_uri": "https://localhost:8080/"
    },
    "id": "Ltg1TtNKRUR1",
    "outputId": "45438bbe-df44-4340-e25e-a36edbb0ae3b"
   },
   "outputs": [
    {
     "name": "stdout",
     "output_type": "stream",
     "text": [
      "04. 모델 컴파일 optimizer - adam , loss - sparse_categorical_crossentropy , metrics - accuracy\n"
     ]
    }
   ],
   "source": [
    "print('04. 모델 컴파일 optimizer - adam , loss - sparse_categorical_crossentropy , metrics - accuracy')\n",
    "\n",
    "fashion_model.compile(optimizer = 'Adam', \n",
    "                      loss= 'sparse_categorical_crossentropy' , \n",
    "                      metrics=['accuracy'] ) \n",
    "\n",
    "\n",
    "\n"
   ]
  },
  {
   "cell_type": "code",
   "execution_count": 9,
   "metadata": {
    "colab": {
     "base_uri": "https://localhost:8080/"
    },
    "id": "qgbvHLmzJ2kW",
    "outputId": "7307fe66-69db-4172-c14f-b2632bf987f6"
   },
   "outputs": [
    {
     "name": "stdout",
     "output_type": "stream",
     "text": [
      "Model: \"sequential\"\n",
      "_________________________________________________________________\n",
      " Layer (type)                Output Shape              Param #   \n",
      "=================================================================\n",
      " flatten (Flatten)           (None, 784)               0         \n",
      "                                                                 \n",
      " dense (Dense)               (None, 512)               401920    \n",
      "                                                                 \n",
      " dense_1 (Dense)             (None, 10)                5130      \n",
      "                                                                 \n",
      "=================================================================\n",
      "Total params: 407,050\n",
      "Trainable params: 407,050\n",
      "Non-trainable params: 0\n",
      "_________________________________________________________________\n"
     ]
    }
   ],
   "source": [
    "fashion_model.summary()"
   ]
  },
  {
   "cell_type": "code",
   "execution_count": 10,
   "metadata": {
    "colab": {
     "base_uri": "https://localhost:8080/"
    },
    "id": "zWOrWkcEJ2m_",
    "outputId": "2e8c420b-f327-4b67-f471-55db4a0e9d70"
   },
   "outputs": [
    {
     "name": "stdout",
     "output_type": "stream",
     "text": [
      "05. 모델 훈련 - epochs 10회\n",
      "Epoch 1/10\n",
      "1875/1875 [==============================] - 6s 3ms/step - loss: 0.4754 - accuracy: 0.8308\n",
      "Epoch 2/10\n",
      "1875/1875 [==============================] - 5s 3ms/step - loss: 0.3603 - accuracy: 0.8670\n",
      "Epoch 3/10\n",
      "1875/1875 [==============================] - 5s 3ms/step - loss: 0.3239 - accuracy: 0.8799\n",
      "Epoch 4/10\n",
      "1875/1875 [==============================] - 5s 3ms/step - loss: 0.2985 - accuracy: 0.8893\n",
      "Epoch 5/10\n",
      "1875/1875 [==============================] - 5s 3ms/step - loss: 0.2804 - accuracy: 0.8972\n",
      "Epoch 6/10\n",
      "1875/1875 [==============================] - 5s 3ms/step - loss: 0.2637 - accuracy: 0.9021\n",
      "Epoch 7/10\n",
      "1875/1875 [==============================] - 5s 3ms/step - loss: 0.2523 - accuracy: 0.9068\n",
      "Epoch 8/10\n",
      "1875/1875 [==============================] - 5s 3ms/step - loss: 0.2395 - accuracy: 0.9112\n",
      "Epoch 9/10\n",
      "1875/1875 [==============================] - 5s 3ms/step - loss: 0.2299 - accuracy: 0.9136\n",
      "Epoch 10/10\n",
      "1875/1875 [==============================] - 5s 3ms/step - loss: 0.2188 - accuracy: 0.9173\n"
     ]
    },
    {
     "data": {
      "text/plain": [
       "<keras.callbacks.History at 0x1a80b5c3ac0>"
      ]
     },
     "execution_count": 10,
     "metadata": {},
     "output_type": "execute_result"
    }
   ],
   "source": [
    "print('05. 모델 훈련 - epochs 10회')\n",
    "fashion_model.fit(X_train , y_train , epochs=10  , verbose = 1)\n",
    "\n"
   ]
  },
  {
   "cell_type": "code",
   "execution_count": 11,
   "metadata": {
    "colab": {
     "base_uri": "https://localhost:8080/"
    },
    "id": "MYwhcr2YJ2p3",
    "outputId": "c2b9462b-7fa6-4bff-d2b4-cd98f68c166f"
   },
   "outputs": [
    {
     "name": "stdout",
     "output_type": "stream",
     "text": [
      "06. 모델정확도 평가 - \n",
      "313/313 [==============================] - 1s 3ms/step - loss: 0.3237 - accuracy: 0.8883\n",
      "loss     -  0.3236647844314575\n",
      "accuracy -  0.8883000016212463\n"
     ]
    }
   ],
   "source": [
    "print('06. 모델정확도 평가 - ')\n",
    "\n",
    "loss , accuracy = fashion_model.evaluate(X_test,y_test)\n",
    "print('loss     - ' , loss)\n",
    "print('accuracy - ' , accuracy)"
   ]
  },
  {
   "cell_type": "code",
   "execution_count": 12,
   "metadata": {
    "colab": {
     "base_uri": "https://localhost:8080/"
    },
    "id": "ZAwViYQ0J2sf",
    "outputId": "acb5d8ec-f29c-460e-de07-00eb5bb052d1"
   },
   "outputs": [
    {
     "name": "stdout",
     "output_type": "stream",
     "text": [
      "07. 예측 - \n",
      "[9.4006518e-11 7.1595271e-11 2.8795430e-11 4.0182091e-14 6.4533032e-12\n",
      " 3.7517344e-05 2.4766381e-10 1.9089365e-03 4.5602153e-10 9.9805355e-01]\n",
      "9\n"
     ]
    }
   ],
   "source": [
    "print('07. 예측 - ')\n",
    "y_pred = fashion_model.predict(X_test) \n",
    "print( y_pred[0])\n",
    "print( np.argmax(y_pred[0]))"
   ]
  },
  {
   "cell_type": "code",
   "execution_count": 4,
   "metadata": {
    "id": "hrfyrx9FJ4Bn"
   },
   "outputs": [],
   "source": [
    "def basic_model() :\n",
    "  \n",
    "  fashion_model = Sequential()\n",
    "  fashion_model.add( Flatten( input_shape = (28, 28) ) )  \n",
    "  fashion_model.add( Dense(units = 512, activation = 'relu' ) )\n",
    "  fashion_model.add( Dense(units = 10 , activation = 'softmax') )\n",
    "\n",
    "  fashion_model.compile(optimizer = 'Adam', \n",
    "                      loss= 'sparse_categorical_crossentropy' , \n",
    "                      metrics=['accuracy'] ) \n",
    "  \n",
    "  return fashion_model "
   ]
  },
  {
   "cell_type": "markdown",
   "metadata": {
    "id": "RbRoPggqJ3is"
   },
   "source": []
  },
  {
   "cell_type": "code",
   "execution_count": 5,
   "metadata": {
    "id": "Eu6i25kkJ2vW"
   },
   "outputs": [],
   "source": [
    "def hidden_layer_128_model() :\n",
    "  \n",
    "  fashion_model = Sequential()\n",
    "  fashion_model.add( Flatten( input_shape = (28, 28) ) )  \n",
    "  fashion_model.add( Dense(units = 128, activation = 'relu' ) )\n",
    "  fashion_model.add( Dense(units = 10 , activation = 'softmax') )\n",
    "\n",
    "  fashion_model.compile(optimizer = 'Adam', \n",
    "                      loss= 'sparse_categorical_crossentropy' , \n",
    "                      metrics=['accuracy'] ) \n",
    "  \n",
    "  return fashion_model \n",
    "\n",
    "def hidden_layer_512_model() :\n",
    "  \n",
    "  fashion_model = Sequential()\n",
    "  fashion_model.add( Flatten( input_shape = (28, 28) ) )  \n",
    "  fashion_model.add( Dense(units = 512, activation = 'relu' ) )\n",
    "  fashion_model.add( Dense(units = 10 , activation = 'softmax') )\n",
    "\n",
    "  fashion_model.compile(optimizer = 'Adam', \n",
    "                      loss= 'sparse_categorical_crossentropy' , \n",
    "                      metrics=['accuracy'] ) \n",
    "  \n",
    "  return fashion_model\n",
    "\n",
    "def hidden_layer_1024_model() :\n",
    "  \n",
    "  fashion_model = Sequential()\n",
    "  fashion_model.add( Flatten( input_shape = (28, 28) ) )  \n",
    "  fashion_model.add( Dense(units = 1024, activation = 'relu' ) )\n",
    "  fashion_model.add( Dense(units = 10 , activation = 'softmax') )\n",
    "\n",
    "  fashion_model.compile(optimizer = 'Adam', \n",
    "                      loss= 'sparse_categorical_crossentropy' , \n",
    "                      metrics=['accuracy'] ) \n",
    "  \n",
    "  return fashion_model"
   ]
  },
  {
   "cell_type": "code",
   "execution_count": 15,
   "metadata": {
    "colab": {
     "base_uri": "https://localhost:8080/"
    },
    "id": "yqQ5zlxFJ2x_",
    "outputId": "f72e3eef-f3ae-4449-bc4e-9aa3b34c8d9f"
   },
   "outputs": [
    {
     "name": "stdout",
     "output_type": "stream",
     "text": [
      "Epoch 1/10\n",
      "1875/1875 [==============================] - 5s 3ms/step - loss: 0.4961 - accuracy: 0.8251\n",
      "Epoch 2/10\n",
      "1875/1875 [==============================] - 5s 3ms/step - loss: 0.3730 - accuracy: 0.8652\n",
      "Epoch 3/10\n",
      "1875/1875 [==============================] - 5s 3ms/step - loss: 0.3332 - accuracy: 0.8783\n",
      "Epoch 4/10\n",
      "1875/1875 [==============================] - 5s 3ms/step - loss: 0.3102 - accuracy: 0.8869\n",
      "Epoch 5/10\n",
      "1875/1875 [==============================] - 5s 3ms/step - loss: 0.2938 - accuracy: 0.8915\n",
      "Epoch 6/10\n",
      "1875/1875 [==============================] - 5s 3ms/step - loss: 0.2779 - accuracy: 0.8965\n",
      "Epoch 7/10\n",
      "1875/1875 [==============================] - 5s 3ms/step - loss: 0.2683 - accuracy: 0.9008\n",
      "Epoch 8/10\n",
      "1875/1875 [==============================] - 6s 3ms/step - loss: 0.2580 - accuracy: 0.9039\n",
      "Epoch 9/10\n",
      "1875/1875 [==============================] - 6s 3ms/step - loss: 0.2491 - accuracy: 0.9073\n",
      "Epoch 10/10\n",
      "1875/1875 [==============================] - 6s 3ms/step - loss: 0.2408 - accuracy: 0.9096\n"
     ]
    }
   ],
   "source": [
    "model_128 = hidden_layer_128_model()\n",
    "history_128 = model_128.fit(X_train , y_train , epochs=10  , verbose = 1)"
   ]
  },
  {
   "cell_type": "code",
   "execution_count": null,
   "metadata": {
    "id": "zd-rDvPlJ203"
   },
   "outputs": [
    {
     "name": "stdout",
     "output_type": "stream",
     "text": [
      "Epoch 1/10\n",
      "1875/1875 [==============================] - 8s 4ms/step - loss: 0.4984 - accuracy: 0.8252\n",
      "Epoch 2/10\n",
      "1875/1875 [==============================] - 6s 3ms/step - loss: 0.3724 - accuracy: 0.8649\n",
      "Epoch 3/10\n",
      "1031/1875 [===============>..............] - ETA: 2s - loss: 0.3396 - accuracy: 0.8754"
     ]
    }
   ],
   "source": [
    "model_512 = hidden_layer_128_model()\n",
    "history_512 = model_512.fit(X_train , y_train , epochs=10  , verbose = 1)"
   ]
  },
  {
   "cell_type": "code",
   "execution_count": null,
   "metadata": {
    "id": "6GMAmHqLJ23m"
   },
   "outputs": [],
   "source": [
    "model_1024 = hidden_layer_128_model()\n",
    "history_1024 = model_1024.fit(X_train , y_train , epochs=10  , verbose = 1)"
   ]
  },
  {
   "cell_type": "code",
   "execution_count": 6,
   "metadata": {
    "id": "ivmJdfrJJ26a"
   },
   "outputs": [
    {
     "name": "stdout",
     "output_type": "stream",
     "text": [
      "각 모델의 에포크에 따른 정확도를 시각화 - \n"
     ]
    },
    {
     "ename": "NameError",
     "evalue": "name 'history_128' is not defined",
     "output_type": "error",
     "traceback": [
      "\u001b[1;31m---------------------------------------------------------------------------\u001b[0m",
      "\u001b[1;31mNameError\u001b[0m                                 Traceback (most recent call last)",
      "\u001b[1;32m~\\AppData\\Local\\Temp/ipykernel_5736/3689989579.py\u001b[0m in \u001b[0;36m<module>\u001b[1;34m\u001b[0m\n\u001b[0;32m      3\u001b[0m \u001b[0mplt\u001b[0m\u001b[1;33m.\u001b[0m\u001b[0mfigure\u001b[0m\u001b[1;33m(\u001b[0m\u001b[0mfigsize\u001b[0m\u001b[1;33m=\u001b[0m\u001b[1;33m(\u001b[0m\u001b[1;36m20\u001b[0m\u001b[1;33m,\u001b[0m\u001b[1;36m10\u001b[0m\u001b[1;33m)\u001b[0m\u001b[1;33m)\u001b[0m\u001b[1;33m\u001b[0m\u001b[1;33m\u001b[0m\u001b[0m\n\u001b[0;32m      4\u001b[0m \u001b[1;33m\u001b[0m\u001b[0m\n\u001b[1;32m----> 5\u001b[1;33m \u001b[0mplt\u001b[0m\u001b[1;33m.\u001b[0m\u001b[0mplot\u001b[0m\u001b[1;33m(\u001b[0m\u001b[0mhistory_128\u001b[0m\u001b[1;33m.\u001b[0m\u001b[0mhistory\u001b[0m\u001b[1;33m[\u001b[0m\u001b[1;34m'accuracy'\u001b[0m\u001b[1;33m]\u001b[0m\u001b[1;33m,\u001b[0m\u001b[1;34m's-'\u001b[0m\u001b[1;33m,\u001b[0m\u001b[0mlabel\u001b[0m\u001b[1;33m=\u001b[0m\u001b[1;34m'128'\u001b[0m\u001b[1;33m)\u001b[0m\u001b[1;33m\u001b[0m\u001b[1;33m\u001b[0m\u001b[0m\n\u001b[0m\u001b[0;32m      6\u001b[0m \u001b[0mplt\u001b[0m\u001b[1;33m.\u001b[0m\u001b[0mplot\u001b[0m\u001b[1;33m(\u001b[0m\u001b[0mhistory_512\u001b[0m\u001b[1;33m.\u001b[0m\u001b[0mhistory\u001b[0m\u001b[1;33m[\u001b[0m\u001b[1;34m'accuracy'\u001b[0m\u001b[1;33m]\u001b[0m\u001b[1;33m,\u001b[0m\u001b[1;34m'd-'\u001b[0m\u001b[1;33m,\u001b[0m\u001b[0mlabel\u001b[0m\u001b[1;33m=\u001b[0m\u001b[1;34m'512'\u001b[0m\u001b[1;33m)\u001b[0m\u001b[1;33m\u001b[0m\u001b[1;33m\u001b[0m\u001b[0m\n\u001b[0;32m      7\u001b[0m \u001b[0mplt\u001b[0m\u001b[1;33m.\u001b[0m\u001b[0mplot\u001b[0m\u001b[1;33m(\u001b[0m\u001b[0mhistory_1024\u001b[0m\u001b[1;33m.\u001b[0m\u001b[0mhistory\u001b[0m\u001b[1;33m[\u001b[0m\u001b[1;34m'accuracy'\u001b[0m\u001b[1;33m]\u001b[0m\u001b[1;33m,\u001b[0m\u001b[1;34m'o-'\u001b[0m\u001b[1;33m,\u001b[0m\u001b[0mlabel\u001b[0m\u001b[1;33m=\u001b[0m\u001b[1;34m'1024'\u001b[0m\u001b[1;33m)\u001b[0m\u001b[1;33m\u001b[0m\u001b[1;33m\u001b[0m\u001b[0m\n",
      "\u001b[1;31mNameError\u001b[0m: name 'history_128' is not defined"
     ]
    },
    {
     "data": {
      "text/plain": [
       "<Figure size 1440x720 with 0 Axes>"
      ]
     },
     "metadata": {},
     "output_type": "display_data"
    }
   ],
   "source": [
    "print('각 모델의 에포크에 따른 정확도를 시각화 - ')\n",
    "\n",
    "plt.figure(figsize=(20,10))\n",
    "\n",
    "plt.plot(history_128.history['accuracy'],'s-',label='128')\n",
    "plt.plot(history_512.history['accuracy'],'d-',label='512')\n",
    "plt.plot(history_1024.history['accuracy'],'o-',label='1024')\n",
    "\n",
    "plt.legend(loc='best')\n",
    "plt.xticks(np.arange(10))\n",
    "plt.title('accuracy')\n",
    "plt.xlabel('Epoch')\n",
    "plt.ylabel('Accuracy')\n",
    "plt.show()\n",
    "plt.close()\n"
   ]
  },
  {
   "cell_type": "code",
   "execution_count": 7,
   "metadata": {
    "id": "F-4BJoHlJ29H"
   },
   "outputs": [
    {
     "name": "stdout",
     "output_type": "stream",
     "text": [
      "각 모델의 에포크에 따른 손실을   시각화 - \n"
     ]
    },
    {
     "ename": "NameError",
     "evalue": "name 'history_128' is not defined",
     "output_type": "error",
     "traceback": [
      "\u001b[1;31m---------------------------------------------------------------------------\u001b[0m",
      "\u001b[1;31mNameError\u001b[0m                                 Traceback (most recent call last)",
      "\u001b[1;32m~\\AppData\\Local\\Temp/ipykernel_5736/2154447763.py\u001b[0m in \u001b[0;36m<module>\u001b[1;34m\u001b[0m\n\u001b[0;32m      2\u001b[0m \u001b[0mplt\u001b[0m\u001b[1;33m.\u001b[0m\u001b[0mfigure\u001b[0m\u001b[1;33m(\u001b[0m\u001b[0mfigsize\u001b[0m\u001b[1;33m=\u001b[0m\u001b[1;33m(\u001b[0m\u001b[1;36m20\u001b[0m\u001b[1;33m,\u001b[0m\u001b[1;36m10\u001b[0m\u001b[1;33m)\u001b[0m\u001b[1;33m)\u001b[0m\u001b[1;33m\u001b[0m\u001b[1;33m\u001b[0m\u001b[0m\n\u001b[0;32m      3\u001b[0m \u001b[1;33m\u001b[0m\u001b[0m\n\u001b[1;32m----> 4\u001b[1;33m \u001b[0mplt\u001b[0m\u001b[1;33m.\u001b[0m\u001b[0mplot\u001b[0m\u001b[1;33m(\u001b[0m\u001b[0mhistory_128\u001b[0m\u001b[1;33m.\u001b[0m\u001b[0mhistory\u001b[0m\u001b[1;33m[\u001b[0m\u001b[1;34m'loss'\u001b[0m\u001b[1;33m]\u001b[0m\u001b[1;33m,\u001b[0m\u001b[1;34m's-'\u001b[0m\u001b[1;33m,\u001b[0m\u001b[0mlabel\u001b[0m\u001b[1;33m=\u001b[0m\u001b[1;34m'128'\u001b[0m\u001b[1;33m)\u001b[0m\u001b[1;33m\u001b[0m\u001b[1;33m\u001b[0m\u001b[0m\n\u001b[0m\u001b[0;32m      5\u001b[0m \u001b[0mplt\u001b[0m\u001b[1;33m.\u001b[0m\u001b[0mplot\u001b[0m\u001b[1;33m(\u001b[0m\u001b[0mhistory_512\u001b[0m\u001b[1;33m.\u001b[0m\u001b[0mhistory\u001b[0m\u001b[1;33m[\u001b[0m\u001b[1;34m'loss'\u001b[0m\u001b[1;33m]\u001b[0m\u001b[1;33m,\u001b[0m\u001b[1;34m'd-'\u001b[0m\u001b[1;33m,\u001b[0m\u001b[0mlabel\u001b[0m\u001b[1;33m=\u001b[0m\u001b[1;34m'512'\u001b[0m\u001b[1;33m)\u001b[0m\u001b[1;33m\u001b[0m\u001b[1;33m\u001b[0m\u001b[0m\n\u001b[0;32m      6\u001b[0m \u001b[0mplt\u001b[0m\u001b[1;33m.\u001b[0m\u001b[0mplot\u001b[0m\u001b[1;33m(\u001b[0m\u001b[0mhistory_1024\u001b[0m\u001b[1;33m.\u001b[0m\u001b[0mhistory\u001b[0m\u001b[1;33m[\u001b[0m\u001b[1;34m'loss'\u001b[0m\u001b[1;33m]\u001b[0m\u001b[1;33m,\u001b[0m\u001b[1;34m'o-'\u001b[0m\u001b[1;33m,\u001b[0m\u001b[0mlabel\u001b[0m\u001b[1;33m=\u001b[0m\u001b[1;34m'1024'\u001b[0m\u001b[1;33m)\u001b[0m\u001b[1;33m\u001b[0m\u001b[1;33m\u001b[0m\u001b[0m\n",
      "\u001b[1;31mNameError\u001b[0m: name 'history_128' is not defined"
     ]
    },
    {
     "data": {
      "text/plain": [
       "<Figure size 1440x720 with 0 Axes>"
      ]
     },
     "metadata": {},
     "output_type": "display_data"
    }
   ],
   "source": [
    "print('각 모델의 에포크에 따른 손실을   시각화 - ')\n",
    "plt.figure(figsize=(20,10))\n",
    "\n",
    "plt.plot(history_128.history['loss'],'s-',label='128')\n",
    "plt.plot(history_512.history['loss'],'d-',label='512')\n",
    "plt.plot(history_1024.history['loss'],'o-',label='1024')\n",
    "\n",
    "plt.legend(loc='best')\n",
    "plt.xticks(np.arange(10))\n",
    "plt.title('Loss')\n",
    "plt.xlabel('Epoch')\n",
    "plt.ylabel('Loss')\n",
    "plt.show()\n",
    "plt.close()\n"
   ]
  },
  {
   "cell_type": "code",
   "execution_count": 8,
   "metadata": {
    "id": "63XIujdfJ2_4"
   },
   "outputs": [
    {
     "name": "stdout",
     "output_type": "stream",
     "text": [
      "loss 가 에포크 수행시 줄어들지 않는다면 중지시킬 수 있다( Callback , EarlyStopping ) - \n"
     ]
    }
   ],
   "source": [
    "print('loss 가 에포크 수행시 줄어들지 않는다면 중지시킬 수 있다( Callback , EarlyStopping ) - ')\n",
    "\n",
    "class UserCallback(Callback) :\n",
    "  def on_epoch_end(self , epoch , logs={}) :\n",
    "    if logs.get('loss') < 0.3 :\n",
    "      print('훈련을 중지합니다~~~~~왜? 그냥')\n",
    "      self.model.stop_training = True "
   ]
  },
  {
   "cell_type": "code",
   "execution_count": 9,
   "metadata": {
    "id": "VEx0nLPmJ3Cm"
   },
   "outputs": [],
   "source": [
    "callbacks = UserCallback()"
   ]
  },
  {
   "cell_type": "code",
   "execution_count": null,
   "metadata": {
    "id": "iAPVXlE5J3Fd"
   },
   "outputs": [],
   "source": [
    "model_128 = hidden_layer_128_model()\n",
    "history_128 = model_128.fit(X_train , y_train , epochs=10  , verbose = 1 , callbacks=[callbacks])\n"
   ]
  },
  {
   "cell_type": "code",
   "execution_count": null,
   "metadata": {
    "id": "lJv3f7i3f3Rd"
   },
   "outputs": [],
   "source": [
    "callbacks = [ EarlyStopping(monitor = 'val_accuracy' , patience = 10 )]\n",
    "model_128 = hidden_layer_128_model()\n",
    "history_128 = model_128.fit(X_train , y_train , epochs=100  , validation_split = 0.3 ,  verbose = 1 , callbacks=[callbacks])"
   ]
  },
  {
   "cell_type": "code",
   "execution_count": null,
   "metadata": {
    "id": "44-IGb4LhR4J"
   },
   "outputs": [],
   "source": [
    "\n",
    "def hidden_layer_128_activation_model() :\n",
    "  \n",
    "  fashion_model = Sequential()\n",
    "  fashion_model.add( Flatten( input_shape = (28, 28) ) )  \n",
    "  fashion_model.add( Dense(units = 128, activation = 'sigmoid' ) )\n",
    "  fashion_model.add( Dense(units = 10 , activation = 'softmax') )\n",
    "\n",
    "  fashion_model.compile(optimizer = 'Adam', \n",
    "                      loss= 'sparse_categorical_crossentropy' , \n",
    "                      metrics=['accuracy'] ) \n",
    "  \n",
    "  return fashion_model \n",
    "\n"
   ]
  },
  {
   "cell_type": "code",
   "execution_count": null,
   "metadata": {
    "id": "D1wO31RDm3em"
   },
   "outputs": [],
   "source": [
    "model_128 = hidden_layer_128_activation_model()\n",
    "model_128.fit(X_train , y_train , epochs=10  , verbose = 1)"
   ]
  },
  {
   "cell_type": "code",
   "execution_count": 11,
   "metadata": {
    "colab": {
     "base_uri": "https://localhost:8080/"
    },
    "id": "KXlwFOjMm-qP",
    "outputId": "67009161-c964-42e4-f5e6-00b6867b2415"
   },
   "outputs": [
    {
     "name": "stdout",
     "output_type": "stream",
     "text": [
      "case01 - 01. 데이터 세트 로드 - \n",
      "\n"
     ]
    },
    {
     "data": {
      "text/plain": [
       "(((60000, 28, 28), (60000,)), ((10000, 28, 28), (10000,)))"
      ]
     },
     "execution_count": 11,
     "metadata": {},
     "output_type": "execute_result"
    }
   ],
   "source": [
    "print('case01 - 01. 데이터 세트 로드 - ')\n",
    "print()\n",
    "\n",
    "(X_train, y_train), (X_test, y_test) = fashion_mnist.load_data()\n",
    "(X_train.shape, y_train.shape), (X_test.shape, y_test.shape)"
   ]
  },
  {
   "cell_type": "code",
   "execution_count": 12,
   "metadata": {
    "colab": {
     "base_uri": "https://localhost:8080/"
    },
    "id": "7yyxsPjZnlR3",
    "outputId": "ba981826-5fa9-44ec-d0b3-fa5142b9cb22"
   },
   "outputs": [
    {
     "name": "stdout",
     "output_type": "stream",
     "text": [
      "행렬 형태는 퍼셉트론 모델의 피처로 사용이 부적합하다 - \n",
      "1차원의 벡터로 변환 - \n",
      "reshape 28 * 28 -> 784\n"
     ]
    }
   ],
   "source": [
    "print('행렬 형태는 퍼셉트론 모델의 피처로 사용이 부적합하다 - ')\n",
    "print('1차원의 벡터로 변환 - ')\n",
    "print('reshape 28 * 28 -> 784') \n",
    "\n",
    "X_train = X_train.reshape( X_train.shape[0] , -1)\n",
    "X_test = X_test.reshape( X_test.shape[0] , -1)\n",
    "\n",
    "y_train = to_categorical(y_train)\n",
    "y_test = to_categorical(y_test)"
   ]
  },
  {
   "cell_type": "code",
   "execution_count": 13,
   "metadata": {
    "colab": {
     "base_uri": "https://localhost:8080/"
    },
    "id": "v5Tj56MLn-R_",
    "outputId": "6df4a19a-bccc-42b7-998f-386f957264e3"
   },
   "outputs": [
    {
     "data": {
      "text/plain": [
       "(((60000, 784), (60000, 10)), ((10000, 784), (10000, 10)))"
      ]
     },
     "execution_count": 13,
     "metadata": {},
     "output_type": "execute_result"
    }
   ],
   "source": [
    "(X_train.shape, y_train.shape), (X_test.shape, y_test.shape)"
   ]
  },
  {
   "cell_type": "code",
   "execution_count": 14,
   "metadata": {
    "id": "p5VfB4iIoAHt"
   },
   "outputs": [],
   "source": [
    "def fashion_mnist_model() :\n",
    "  fashion_model = Sequential()\n",
    "  fashion_model.add( Dense(units = 50, activation = 'sigmoid'  , input_shape = (784, ) ) )\n",
    "  fashion_model.add( Dense(units = 50, activation = 'sigmoid' ) )\n",
    "  fashion_model.add( Dense(units = 50, activation = 'sigmoid' ) )\n",
    "  fashion_model.add( Dense(units = 50, activation = 'sigmoid' ) )\n",
    "\n",
    "  fashion_model.add( Dense(units = 10 , activation = 'softmax') )\n",
    "\n",
    "  fashion_model.compile(optimizer = SGD(learning_rate = 0.01), \n",
    "                      loss= 'categorical_crossentropy' , \n",
    "                      metrics=['accuracy'] ) \n",
    "  \n",
    "  return fashion_model \n"
   ]
  },
  {
   "cell_type": "code",
   "execution_count": 15,
   "metadata": {
    "id": "XBRpHAw9ovEV"
   },
   "outputs": [
    {
     "name": "stdout",
     "output_type": "stream",
     "text": [
      "Epoch 1/100\n",
      "165/165 [==============================] - 2s 7ms/step - loss: 2.3788 - accuracy: 0.1006 - val_loss: 2.3071 - val_accuracy: 0.1005\n",
      "Epoch 2/100\n",
      "165/165 [==============================] - 1s 6ms/step - loss: 2.3024 - accuracy: 0.1142 - val_loss: 2.3012 - val_accuracy: 0.1043\n",
      "Epoch 3/100\n",
      "165/165 [==============================] - 1s 9ms/step - loss: 2.3003 - accuracy: 0.1193 - val_loss: 2.2999 - val_accuracy: 0.0983\n",
      "Epoch 4/100\n",
      "165/165 [==============================] - 1s 8ms/step - loss: 2.2993 - accuracy: 0.1145 - val_loss: 2.2988 - val_accuracy: 0.1923\n",
      "Epoch 5/100\n",
      "165/165 [==============================] - 1s 6ms/step - loss: 2.2982 - accuracy: 0.1407 - val_loss: 2.2977 - val_accuracy: 0.1638\n",
      "Epoch 6/100\n",
      "165/165 [==============================] - 1s 7ms/step - loss: 2.2971 - accuracy: 0.1599 - val_loss: 2.2966 - val_accuracy: 0.1414\n",
      "Epoch 7/100\n",
      "165/165 [==============================] - 2s 10ms/step - loss: 2.2960 - accuracy: 0.1639 - val_loss: 2.2954 - val_accuracy: 0.1339\n",
      "Epoch 8/100\n",
      "165/165 [==============================] - 1s 7ms/step - loss: 2.2949 - accuracy: 0.1624 - val_loss: 2.2945 - val_accuracy: 0.1801\n",
      "Epoch 9/100\n",
      "165/165 [==============================] - 1s 6ms/step - loss: 2.2937 - accuracy: 0.1905 - val_loss: 2.2933 - val_accuracy: 0.1123\n",
      "Epoch 10/100\n",
      "165/165 [==============================] - 1s 5ms/step - loss: 2.2926 - accuracy: 0.1672 - val_loss: 2.2920 - val_accuracy: 0.2394\n",
      "Epoch 11/100\n",
      "165/165 [==============================] - 1s 5ms/step - loss: 2.2914 - accuracy: 0.2202 - val_loss: 2.2912 - val_accuracy: 0.2037\n",
      "Epoch 12/100\n",
      "165/165 [==============================] - 1s 5ms/step - loss: 2.2902 - accuracy: 0.2183 - val_loss: 2.2895 - val_accuracy: 0.2108\n",
      "Epoch 13/100\n",
      "165/165 [==============================] - 1s 5ms/step - loss: 2.2888 - accuracy: 0.2168 - val_loss: 2.2881 - val_accuracy: 0.2960\n",
      "Epoch 14/100\n",
      "165/165 [==============================] - 1s 5ms/step - loss: 2.2873 - accuracy: 0.2748 - val_loss: 2.2870 - val_accuracy: 0.2038\n",
      "Epoch 15/100\n",
      "165/165 [==============================] - 1s 5ms/step - loss: 2.2857 - accuracy: 0.2077 - val_loss: 2.2849 - val_accuracy: 0.2066\n",
      "Epoch 16/100\n",
      "165/165 [==============================] - 1s 5ms/step - loss: 2.2839 - accuracy: 0.2267 - val_loss: 2.2832 - val_accuracy: 0.2201\n",
      "Epoch 17/100\n",
      "165/165 [==============================] - 1s 5ms/step - loss: 2.2818 - accuracy: 0.2365 - val_loss: 2.2810 - val_accuracy: 0.2371\n",
      "Epoch 18/100\n",
      "165/165 [==============================] - 1s 5ms/step - loss: 2.2796 - accuracy: 0.2478 - val_loss: 2.2784 - val_accuracy: 0.2741\n",
      "Epoch 19/100\n",
      "165/165 [==============================] - 1s 5ms/step - loss: 2.2770 - accuracy: 0.2671 - val_loss: 2.2758 - val_accuracy: 0.2201\n",
      "Epoch 20/100\n",
      "165/165 [==============================] - 1s 6ms/step - loss: 2.2739 - accuracy: 0.2225 - val_loss: 2.2730 - val_accuracy: 0.2352\n",
      "Epoch 21/100\n",
      "165/165 [==============================] - 1s 5ms/step - loss: 2.2706 - accuracy: 0.2655 - val_loss: 2.2689 - val_accuracy: 0.2493\n",
      "Epoch 22/100\n",
      "165/165 [==============================] - 1s 5ms/step - loss: 2.2664 - accuracy: 0.2579 - val_loss: 2.2646 - val_accuracy: 0.2082\n",
      "Epoch 23/100\n",
      "165/165 [==============================] - 1s 5ms/step - loss: 2.2618 - accuracy: 0.2602 - val_loss: 2.2601 - val_accuracy: 0.1941\n",
      "Epoch 24/100\n",
      "165/165 [==============================] - 1s 6ms/step - loss: 2.2562 - accuracy: 0.2253 - val_loss: 2.2538 - val_accuracy: 0.2671\n",
      "Epoch 25/100\n",
      "165/165 [==============================] - 1s 5ms/step - loss: 2.2496 - accuracy: 0.2551 - val_loss: 2.2465 - val_accuracy: 0.2098\n",
      "Epoch 26/100\n",
      "165/165 [==============================] - 1s 5ms/step - loss: 2.2415 - accuracy: 0.2346 - val_loss: 2.2374 - val_accuracy: 0.2051\n",
      "Epoch 27/100\n",
      "165/165 [==============================] - 1s 5ms/step - loss: 2.2313 - accuracy: 0.2337 - val_loss: 2.2259 - val_accuracy: 0.2926\n",
      "Epoch 28/100\n",
      "165/165 [==============================] - 1s 6ms/step - loss: 2.2186 - accuracy: 0.2379 - val_loss: 2.2120 - val_accuracy: 0.2180\n",
      "Epoch 29/100\n",
      "165/165 [==============================] - 1s 6ms/step - loss: 2.2031 - accuracy: 0.2399 - val_loss: 2.1952 - val_accuracy: 0.1923\n",
      "Epoch 30/100\n",
      "165/165 [==============================] - 1s 6ms/step - loss: 2.1839 - accuracy: 0.2103 - val_loss: 2.1735 - val_accuracy: 0.2014\n",
      "Epoch 31/100\n",
      "165/165 [==============================] - 1s 6ms/step - loss: 2.1601 - accuracy: 0.2280 - val_loss: 2.1472 - val_accuracy: 0.2318\n",
      "Epoch 32/100\n",
      "165/165 [==============================] - 1s 6ms/step - loss: 2.1305 - accuracy: 0.2232 - val_loss: 2.1148 - val_accuracy: 0.1990\n",
      "Epoch 33/100\n",
      "165/165 [==============================] - 1s 5ms/step - loss: 2.0946 - accuracy: 0.2144 - val_loss: 2.0760 - val_accuracy: 0.2074\n",
      "Epoch 34/100\n",
      "165/165 [==============================] - 1s 5ms/step - loss: 2.0530 - accuracy: 0.2205 - val_loss: 2.0319 - val_accuracy: 0.2098\n",
      "Epoch 35/100\n",
      "165/165 [==============================] - 1s 6ms/step - loss: 2.0070 - accuracy: 0.2193 - val_loss: 1.9846 - val_accuracy: 0.2048\n",
      "Epoch 36/100\n",
      "165/165 [==============================] - 1s 6ms/step - loss: 1.9591 - accuracy: 0.2130 - val_loss: 1.9368 - val_accuracy: 0.2059\n",
      "Epoch 37/100\n",
      "165/165 [==============================] - 1s 6ms/step - loss: 1.9122 - accuracy: 0.2192 - val_loss: 1.8914 - val_accuracy: 0.2083\n",
      "Epoch 38/100\n",
      "165/165 [==============================] - 1s 5ms/step - loss: 1.8690 - accuracy: 0.2174 - val_loss: 1.8512 - val_accuracy: 0.2042\n",
      "Epoch 39/100\n",
      "165/165 [==============================] - 1s 5ms/step - loss: 1.8314 - accuracy: 0.2205 - val_loss: 1.8170 - val_accuracy: 0.2119\n",
      "Epoch 40/100\n",
      "165/165 [==============================] - 1s 6ms/step - loss: 1.7999 - accuracy: 0.2255 - val_loss: 1.7885 - val_accuracy: 0.2163\n",
      "Epoch 41/100\n",
      "165/165 [==============================] - 1s 6ms/step - loss: 1.7740 - accuracy: 0.2322 - val_loss: 1.7653 - val_accuracy: 0.2250\n",
      "Epoch 42/100\n",
      "165/165 [==============================] - 1s 5ms/step - loss: 1.7529 - accuracy: 0.2371 - val_loss: 1.7464 - val_accuracy: 0.2369\n",
      "Epoch 43/100\n",
      "165/165 [==============================] - 1s 5ms/step - loss: 1.7357 - accuracy: 0.2459 - val_loss: 1.7313 - val_accuracy: 0.2733\n",
      "Epoch 44/100\n",
      "165/165 [==============================] - 1s 5ms/step - loss: 1.7215 - accuracy: 0.2682 - val_loss: 1.7176 - val_accuracy: 0.2550\n",
      "Epoch 45/100\n",
      "165/165 [==============================] - 1s 5ms/step - loss: 1.7092 - accuracy: 0.2750 - val_loss: 1.7059 - val_accuracy: 0.2931\n",
      "Epoch 46/100\n",
      "165/165 [==============================] - 1s 5ms/step - loss: 1.6982 - accuracy: 0.2964 - val_loss: 1.6962 - val_accuracy: 0.2622\n",
      "Epoch 47/100\n",
      "165/165 [==============================] - 1s 5ms/step - loss: 1.6886 - accuracy: 0.2993 - val_loss: 1.6864 - val_accuracy: 0.2990\n",
      "Epoch 48/100\n",
      "165/165 [==============================] - 1s 6ms/step - loss: 1.6789 - accuracy: 0.3315 - val_loss: 1.6773 - val_accuracy: 0.3060\n",
      "Epoch 49/100\n",
      "165/165 [==============================] - 1s 6ms/step - loss: 1.6697 - accuracy: 0.3221 - val_loss: 1.6683 - val_accuracy: 0.3339\n",
      "Epoch 50/100\n",
      "165/165 [==============================] - 1s 6ms/step - loss: 1.6609 - accuracy: 0.3535 - val_loss: 1.6598 - val_accuracy: 0.3242\n",
      "Epoch 51/100\n",
      "165/165 [==============================] - 1s 6ms/step - loss: 1.6523 - accuracy: 0.3421 - val_loss: 1.6511 - val_accuracy: 0.3452\n",
      "Epoch 52/100\n",
      "165/165 [==============================] - 1s 5ms/step - loss: 1.6436 - accuracy: 0.3520 - val_loss: 1.6434 - val_accuracy: 0.3227\n",
      "Epoch 53/100\n",
      "165/165 [==============================] - 1s 6ms/step - loss: 1.6359 - accuracy: 0.3541 - val_loss: 1.6353 - val_accuracy: 0.3674\n",
      "Epoch 54/100\n",
      "165/165 [==============================] - 1s 6ms/step - loss: 1.6278 - accuracy: 0.3627 - val_loss: 1.6282 - val_accuracy: 0.3562\n",
      "Epoch 55/100\n",
      "165/165 [==============================] - 1s 6ms/step - loss: 1.6204 - accuracy: 0.3599 - val_loss: 1.6205 - val_accuracy: 0.3734\n",
      "Epoch 56/100\n",
      "165/165 [==============================] - 1s 6ms/step - loss: 1.6120 - accuracy: 0.3590 - val_loss: 1.6121 - val_accuracy: 0.3928\n",
      "Epoch 57/100\n",
      "165/165 [==============================] - 1s 6ms/step - loss: 1.6041 - accuracy: 0.3740 - val_loss: 1.6049 - val_accuracy: 0.3821\n"
     ]
    },
    {
     "name": "stdout",
     "output_type": "stream",
     "text": [
      "Epoch 58/100\n",
      "165/165 [==============================] - 1s 5ms/step - loss: 1.5971 - accuracy: 0.3642 - val_loss: 1.5976 - val_accuracy: 0.3828\n",
      "Epoch 59/100\n",
      "165/165 [==============================] - 1s 5ms/step - loss: 1.5897 - accuracy: 0.3700 - val_loss: 1.5907 - val_accuracy: 0.4406\n",
      "Epoch 60/100\n",
      "165/165 [==============================] - 1s 6ms/step - loss: 1.5830 - accuracy: 0.3801 - val_loss: 1.5847 - val_accuracy: 0.3918\n",
      "Epoch 61/100\n",
      "165/165 [==============================] - 1s 6ms/step - loss: 1.5761 - accuracy: 0.3704 - val_loss: 1.5775 - val_accuracy: 0.3406\n",
      "Epoch 62/100\n",
      "165/165 [==============================] - 1s 5ms/step - loss: 1.5691 - accuracy: 0.3687 - val_loss: 1.5704 - val_accuracy: 0.3580\n",
      "Epoch 63/100\n",
      "165/165 [==============================] - 1s 5ms/step - loss: 1.5620 - accuracy: 0.3850 - val_loss: 1.5643 - val_accuracy: 0.3473\n",
      "Epoch 64/100\n",
      "165/165 [==============================] - 1s 5ms/step - loss: 1.5554 - accuracy: 0.3625 - val_loss: 1.5573 - val_accuracy: 0.3437\n",
      "Epoch 65/100\n",
      "165/165 [==============================] - 1s 6ms/step - loss: 1.5485 - accuracy: 0.3689 - val_loss: 1.5506 - val_accuracy: 0.3543\n",
      "Epoch 66/100\n",
      "165/165 [==============================] - 1s 6ms/step - loss: 1.5418 - accuracy: 0.3797 - val_loss: 1.5435 - val_accuracy: 0.3538\n",
      "Epoch 67/100\n",
      "165/165 [==============================] - 1s 6ms/step - loss: 1.5347 - accuracy: 0.3875 - val_loss: 1.5365 - val_accuracy: 0.3782\n",
      "Epoch 68/100\n",
      "165/165 [==============================] - 1s 5ms/step - loss: 1.5279 - accuracy: 0.3945 - val_loss: 1.5305 - val_accuracy: 0.3599\n",
      "Epoch 69/100\n",
      "165/165 [==============================] - 1s 6ms/step - loss: 1.5204 - accuracy: 0.3806 - val_loss: 1.5224 - val_accuracy: 0.3655\n",
      "Epoch 70/100\n",
      "165/165 [==============================] - 1s 6ms/step - loss: 1.5135 - accuracy: 0.3802 - val_loss: 1.5152 - val_accuracy: 0.4696\n",
      "Epoch 71/100\n",
      "165/165 [==============================] - 1s 6ms/step - loss: 1.5063 - accuracy: 0.4205 - val_loss: 1.5183 - val_accuracy: 0.3816\n",
      "Epoch 72/100\n",
      "165/165 [==============================] - 1s 5ms/step - loss: 1.5031 - accuracy: 0.4073 - val_loss: 1.5037 - val_accuracy: 0.3829\n",
      "Epoch 73/100\n",
      "165/165 [==============================] - 1s 6ms/step - loss: 1.4945 - accuracy: 0.4001 - val_loss: 1.4967 - val_accuracy: 0.4884\n",
      "Epoch 74/100\n",
      "165/165 [==============================] - 1s 6ms/step - loss: 1.4868 - accuracy: 0.4110 - val_loss: 1.4888 - val_accuracy: 0.4736\n",
      "Epoch 75/100\n",
      "165/165 [==============================] - 1s 5ms/step - loss: 1.4797 - accuracy: 0.4215 - val_loss: 1.4827 - val_accuracy: 0.4859\n",
      "Epoch 76/100\n",
      "165/165 [==============================] - 1s 6ms/step - loss: 1.4729 - accuracy: 0.4326 - val_loss: 1.4745 - val_accuracy: 0.4405\n",
      "Epoch 77/100\n",
      "165/165 [==============================] - 1s 6ms/step - loss: 1.4654 - accuracy: 0.4191 - val_loss: 1.4683 - val_accuracy: 0.3758\n",
      "Epoch 78/100\n",
      "165/165 [==============================] - 1s 5ms/step - loss: 1.4587 - accuracy: 0.4126 - val_loss: 1.4620 - val_accuracy: 0.4536\n",
      "Epoch 79/100\n",
      "165/165 [==============================] - 1s 5ms/step - loss: 1.4523 - accuracy: 0.4302 - val_loss: 1.4557 - val_accuracy: 0.3863\n",
      "Epoch 80/100\n",
      "165/165 [==============================] - 1s 5ms/step - loss: 1.4458 - accuracy: 0.4375 - val_loss: 1.4498 - val_accuracy: 0.4612\n",
      "Epoch 81/100\n",
      "165/165 [==============================] - 1s 6ms/step - loss: 1.4403 - accuracy: 0.4373 - val_loss: 1.4443 - val_accuracy: 0.4653\n",
      "Epoch 82/100\n",
      "165/165 [==============================] - 1s 5ms/step - loss: 1.4340 - accuracy: 0.4318 - val_loss: 1.4374 - val_accuracy: 0.4729\n",
      "Epoch 83/100\n",
      "165/165 [==============================] - 1s 6ms/step - loss: 1.4285 - accuracy: 0.4241 - val_loss: 1.4370 - val_accuracy: 0.3912\n",
      "Epoch 84/100\n",
      "165/165 [==============================] - 1s 5ms/step - loss: 1.4252 - accuracy: 0.4319 - val_loss: 1.4291 - val_accuracy: 0.4033\n",
      "Epoch 85/100\n",
      "165/165 [==============================] - 1s 6ms/step - loss: 1.4185 - accuracy: 0.4415 - val_loss: 1.4249 - val_accuracy: 0.4125\n",
      "Epoch 86/100\n",
      "165/165 [==============================] - 1s 5ms/step - loss: 1.4141 - accuracy: 0.4115 - val_loss: 1.4262 - val_accuracy: 0.4095\n",
      "Epoch 87/100\n",
      "165/165 [==============================] - 1s 5ms/step - loss: 1.4090 - accuracy: 0.4671 - val_loss: 1.4134 - val_accuracy: 0.4346\n",
      "Epoch 88/100\n",
      "165/165 [==============================] - 1s 6ms/step - loss: 1.4039 - accuracy: 0.4439 - val_loss: 1.4080 - val_accuracy: 0.3842\n",
      "Epoch 89/100\n",
      "165/165 [==============================] - 1s 5ms/step - loss: 1.3989 - accuracy: 0.4267 - val_loss: 1.4060 - val_accuracy: 0.4442\n",
      "Epoch 90/100\n",
      "165/165 [==============================] - 1s 6ms/step - loss: 1.3950 - accuracy: 0.4583 - val_loss: 1.3998 - val_accuracy: 0.4653\n",
      "Epoch 91/100\n",
      "165/165 [==============================] - 1s 6ms/step - loss: 1.3892 - accuracy: 0.4684 - val_loss: 1.3943 - val_accuracy: 0.4261\n",
      "Epoch 92/100\n",
      "165/165 [==============================] - 1s 5ms/step - loss: 1.3856 - accuracy: 0.4458 - val_loss: 1.3978 - val_accuracy: 0.4894\n",
      "Epoch 93/100\n",
      "165/165 [==============================] - 1s 5ms/step - loss: 1.3820 - accuracy: 0.4504 - val_loss: 1.3862 - val_accuracy: 0.4122\n",
      "Epoch 94/100\n",
      "165/165 [==============================] - 1s 6ms/step - loss: 1.3769 - accuracy: 0.4580 - val_loss: 1.3831 - val_accuracy: 0.4551\n",
      "Epoch 95/100\n",
      "165/165 [==============================] - 1s 6ms/step - loss: 1.3729 - accuracy: 0.4447 - val_loss: 1.3790 - val_accuracy: 0.4922\n",
      "Epoch 96/100\n",
      "165/165 [==============================] - 1s 6ms/step - loss: 1.3687 - accuracy: 0.4689 - val_loss: 1.3756 - val_accuracy: 0.4621\n",
      "Epoch 97/100\n",
      "165/165 [==============================] - 1s 6ms/step - loss: 1.3661 - accuracy: 0.4805 - val_loss: 1.3721 - val_accuracy: 0.4313\n",
      "Epoch 98/100\n",
      "165/165 [==============================] - 1s 5ms/step - loss: 1.3622 - accuracy: 0.4660 - val_loss: 1.3694 - val_accuracy: 0.4099\n",
      "Epoch 99/100\n",
      "165/165 [==============================] - 1s 6ms/step - loss: 1.3572 - accuracy: 0.4561 - val_loss: 1.3618 - val_accuracy: 0.4953\n",
      "Epoch 100/100\n",
      "165/165 [==============================] - 1s 5ms/step - loss: 1.3511 - accuracy: 0.4854 - val_loss: 1.3570 - val_accuracy: 0.4449\n"
     ]
    }
   ],
   "source": [
    "model          = fashion_mnist_model()\n",
    "model_history = model.fit(X_train , y_train , epochs=100  , verbose = 1 , batch_size = 256 , validation_split = 0.3)"
   ]
  },
  {
   "cell_type": "code",
   "execution_count": 16,
   "metadata": {
    "colab": {
     "base_uri": "https://localhost:8080/",
     "height": 621
    },
    "id": "ZF9WOMYppE3E",
    "outputId": "e59a4184-1f1e-478f-bbca-315b92df7336"
   },
   "outputs": [
    {
     "data": {
      "image/png": "[encoded data removed]",
      "text/plain": [
       "<Figure size 1440x720 with 1 Axes>"
      ]
     },
     "metadata": {
      "needs_background": "light"
     },
     "output_type": "display_data"
    }
   ],
   "source": [
    "plt.figure(figsize=(20,10))\n",
    "\n",
    "plt.plot(model_history.history['accuracy'],'s-',label='acc')\n",
    "plt.plot(model_history.history['val_accuracy'],'d-',label='val_acc')\n",
    "\n",
    "\n",
    "plt.legend(loc='best')\n",
    "plt.xticks(np.arange(100))\n",
    "\n",
    "plt.title('ACC')\n",
    "plt.xlabel('Epoch')\n",
    "plt.ylabel('ACC')\n",
    "plt.show()\n",
    "plt.close()"
   ]
  },
  {
   "cell_type": "code",
   "execution_count": 17,
   "metadata": {
    "colab": {
     "base_uri": "https://localhost:8080/"
    },
    "id": "1mX85TWkqFGx",
    "outputId": "1d0db0f6-48a3-442a-d555-c6c013683e28"
   },
   "outputs": [
    {
     "name": "stdout",
     "output_type": "stream",
     "text": [
      "정규화 - \n"
     ]
    }
   ],
   "source": [
    "print('정규화 - ')\n",
    "\n",
    "def fashion_mnist_normalization_model() :\n",
    "  fashion_model = Sequential()\n",
    "  fashion_model.add( Dense(units = 50, input_shape = (784, ) ) )\n",
    "  fashion_model.add( BatchNormalization() )\n",
    "  fashion_model.add( Activation('sigmoid') )\n",
    "\n",
    "  fashion_model.add( Dense(units = 50) )\n",
    "  fashion_model.add( BatchNormalization() )\n",
    "  fashion_model.add( Activation('sigmoid') )\n",
    "\n",
    "  fashion_model.add( Dense(units = 50) )\n",
    "  fashion_model.add( BatchNormalization() )\n",
    "  fashion_model.add( Activation('sigmoid') )\n",
    "\n",
    "  fashion_model.add( Dense(units = 50) )\n",
    "  fashion_model.add( BatchNormalization() )\n",
    "  fashion_model.add( Activation('sigmoid') )\n",
    "\n",
    "  fashion_model.add( Dense(units = 10 , activation = 'softmax') )\n",
    "\n",
    "  fashion_model.compile(optimizer = SGD(learning_rate = 0.01), \n",
    "                      loss= 'categorical_crossentropy' , \n",
    "                      metrics=['accuracy'] ) \n",
    "  \n",
    "  return fashion_model "
   ]
  },
  {
   "cell_type": "code",
   "execution_count": null,
   "metadata": {
    "id": "ycwoSknercbs"
   },
   "outputs": [
    {
     "name": "stdout",
     "output_type": "stream",
     "text": [
      "Epoch 1/100\n",
      "165/165 [==============================] - 3s 14ms/step - loss: 1.8709 - accuracy: 0.5074 - val_loss: 2.1828 - val_accuracy: 0.3513\n",
      "Epoch 2/100\n",
      " 44/165 [=======>......................] - ETA: 1s - loss: 1.5730 - accuracy: 0.6737"
     ]
    }
   ],
   "source": [
    "model          = fashion_mnist_normalization_model()\n",
    "model_history = model.fit(X_train , y_train , epochs=100  , verbose = 1 , batch_size = 256 , validation_split = 0.3)"
   ]
  },
  {
   "cell_type": "code",
   "execution_count": null,
   "metadata": {
    "colab": {
     "base_uri": "https://localhost:8080/"
    },
    "id": "tvlRkSKSrfpd",
    "outputId": "4ed596ab-7cab-412f-bae4-406f0ce07739"
   },
   "outputs": [],
   "source": [
    "print('드롭아웃 - ')\n",
    "print('배치정규화는 내부적으로 규제가 적용되어 있어서 드롭아웃을 적용할 필요가 없다 - ')\n",
    "\n",
    "def fashion_mnist_dropout_model() :\n",
    "\n",
    "  fashion_model = Sequential()\n",
    "  fashion_model.add( Dense(units = 50, input_shape = (784, )  , kernel_initializer = 'he_normal') )\n",
    "  # fashion_model.add( BatchNormalization() )\n",
    "  fashion_model.add( Activation('sigmoid') )\n",
    "  fashion_model.add( Dropout(0.2) )\n",
    "\n",
    "  fashion_model.add( Dense(units = 50 ,  kernel_initializer = 'he_normal') )\n",
    "  # fashion_model.add( BatchNormalization() )\n",
    "  fashion_model.add( Activation('sigmoid') )\n",
    "  fashion_model.add( Dropout(0.2) )\n",
    "\n",
    "\n",
    "  fashion_model.add( Dense(units = 50 ,  kernel_initializer = 'he_normal') )\n",
    "  #fashion_model.add( BatchNormalization() )\n",
    "  fashion_model.add( Activation('sigmoid') )\n",
    "  fashion_model.add( Dropout(0.2) )\n",
    "\n",
    "  fashion_model.add( Dense(units = 50 , kernel_initializer = 'he_normal') )\n",
    "  #fashion_model.add( BatchNormalization() )\n",
    "  fashion_model.add( Activation('sigmoid') )\n",
    "  fashion_model.add( Dropout(0.2) )\n",
    "\n",
    "  fashion_model.add( Dense(units = 10 , activation = 'softmax' , kernel_initializer = 'he_normal') )\n",
    "\n",
    "  fashion_model.compile(optimizer = SGD(learning_rate = 0.01), \n",
    "                      loss= 'categorical_crossentropy' , \n",
    "                      metrics=['accuracy'] ) \n",
    "  \n",
    "  return fashion_model "
   ]
  },
  {
   "cell_type": "code",
   "execution_count": null,
   "metadata": {
    "id": "n4TKJEzttVa_"
   },
   "outputs": [],
   "source": [
    "model          = fashion_mnist_dropout_model()\n",
    "model_history = model.fit(X_train , y_train , epochs=100  , verbose = 1 , batch_size = 256 , validation_split = 0.3)"
   ]
  },
  {
   "cell_type": "markdown",
   "metadata": {
    "id": "NX5H5jDlCIQe"
   },
   "source": [
    "#### 자연어 처리 \n",
    "\n",
    "- 문자? -> ASCII 인코딩 'LISTEN' , 'SILENT' -> NN 입력으로 사용이 부적합\n"
   ]
  },
  {
   "cell_type": "code",
   "execution_count": null,
   "metadata": {
    "colab": {
     "base_uri": "https://localhost:8080/"
    },
    "id": "G4StX7fWCK-G",
    "outputId": "56d5c7cb-3904-43ee-f7cb-e8120f1a4d65"
   },
   "outputs": [],
   "source": [
    "print('단어 기반 인코딩 - ')\n",
    "print()\n",
    "sentences = [\n",
    "  'I love my student' , \n",
    "  'I love my dog' , \n",
    "  'You love my dog?' ,   \n",
    "  'toi hoc tieng Viet khong a'         \n",
    "]\n",
    "\n",
    "tokenizer = Tokenizer(num_words = 100 , oov_token='<OOV>')\n",
    "\n",
    "# 단어기반 인덱싱\n",
    "tokenizer.fit_on_texts(sentences)\n",
    "# Bags of Words(BOW)\n",
    "word_index = tokenizer.word_index\n",
    "\n",
    "\n",
    "# 문장기반 인덱싱\n",
    "sequences = tokenizer.texts_to_sequences(sentences)\n",
    "padding   = pad_sequences(sequences , padding='pre' , maxlen = 5 , truncating = 'pre')\n",
    "\n",
    "\n",
    "print(word_index)\n",
    "print(sequences)\n",
    "print(padding)\n",
    "# test_sentences = [\n",
    "#   'I love my son'            \n",
    "# ]\n",
    "\n",
    "# test_sequences = tokenizer.texts_to_sequences(sentences)\n",
    "# print(test_sequences)\n",
    "\n",
    "# 문장의 길이가 다른 경우 문장의 길이를 같은 길이로 만들어야 한다!!\n",
    "\n"
   ]
  },
  {
   "cell_type": "code",
   "execution_count": null,
   "metadata": {
    "colab": {
     "base_uri": "https://localhost:8080/"
    },
    "id": "HLyx79zQCJzY",
    "outputId": "8816f447-96fe-46bd-a010-59fc9a27b486"
   },
   "outputs": [],
   "source": [
    "!wget --no-check-certificate \\\n",
    "  https://storage.googleapis.com/laurencemoroney-blog.appspot.com/sarcasm.json \\\n",
    "  -O /tmp/sarcasm.json"
   ]
  },
  {
   "cell_type": "code",
   "execution_count": null,
   "metadata": {
    "id": "yirKi0LjKA56"
   },
   "outputs": [],
   "source": [
    "import json\n",
    "\n",
    "with open('/tmp/sarcasm.json' , 'r') as  f :\n",
    "  datasets = json.load(f)"
   ]
  },
  {
   "cell_type": "code",
   "execution_count": null,
   "metadata": {
    "id": "G0USquwHtXsQ"
   },
   "outputs": [],
   "source": [
    "sentences = []\n",
    "target    = []\n",
    "urls      = []\n",
    "\n",
    "for row in datasets :\n",
    "  sentences.append( row['headline']) \n",
    "  target.append( row['is_sarcastic'])\n",
    "\n",
    "  urls.append(row['article_link'])\n"
   ]
  },
  {
   "cell_type": "code",
   "execution_count": null,
   "metadata": {
    "id": "S1GPWlGhQR3w"
   },
   "outputs": [],
   "source": [
    "sentences = np.array(sentences)\n",
    "target    = np.array(target).reshape(-1,1)"
   ]
  },
  {
   "cell_type": "code",
   "execution_count": null,
   "metadata": {
    "colab": {
     "base_uri": "https://localhost:8080/"
    },
    "id": "qRGsYK6TVe2U",
    "outputId": "2fbac993-fc35-4238-f1ba-528d8fe52f1e"
   },
   "outputs": [],
   "source": [
    "print( type(sentences) )\n",
    "print( type(target))\n",
    "print( sentences.shape )\n",
    "print( target.shape)\n"
   ]
  },
  {
   "cell_type": "code",
   "execution_count": null,
   "metadata": {
    "id": "Tu7s9UwSYcgF"
   },
   "outputs": [],
   "source": []
  },
  {
   "cell_type": "code",
   "execution_count": null,
   "metadata": {
    "colab": {
     "base_uri": "https://localhost:8080/"
    },
    "id": "uCSatGipQTfQ",
    "outputId": "ebe11f3e-a538-4faa-8741-78e6e6defba2"
   },
   "outputs": [],
   "source": [
    "tokenizer = Tokenizer(oov_token='<OOV>')\n",
    "\n",
    "# 단어기반 인덱싱\n",
    "tokenizer.fit_on_texts(sentences)\n",
    "# Bags of Words(BOW)\n",
    "word_index = tokenizer.word_index\n",
    "\n",
    "\n",
    "# 문장기반 인덱싱\n",
    "sequences = tokenizer.texts_to_sequences(sentences)\n",
    "padding   = pad_sequences(sequences , padding='post' , maxlen = 40 )\n",
    "\n",
    "\n",
    "print(word_index )\n",
    "print(sequences[0])\n",
    "print(padding[0])\n",
    "print(padding.shape)\n",
    "print()\n",
    "print(target)"
   ]
  },
  {
   "cell_type": "code",
   "execution_count": null,
   "metadata": {
    "id": "R3euWXO-Q-h6"
   },
   "outputs": [],
   "source": [
    "vocab_size = max(word_index.values()) +1\n",
    "# vocab_size = 30000\n",
    "embedding_dim = 40\n",
    "max_length = 40 \n",
    "nlp_model = Sequential()\n",
    "\n",
    "nlp_model.add( Embedding(vocab_size , embedding_dim , input_length = max_length) )  \n",
    "nlp_model.add( Dense(units = 6, activation  = 'relu' ) )\n",
    "nlp_model.add( Dense(units = 1 , activation = 'sigmoid') )\n"
   ]
  },
  {
   "cell_type": "code",
   "execution_count": null,
   "metadata": {
    "colab": {
     "base_uri": "https://localhost:8080/"
    },
    "id": "xxWTUbL1Tz3Q",
    "outputId": "d9cc6ef6-ea81-4e40-be30-3395bb22d317"
   },
   "outputs": [],
   "source": [
    "nlp_model.summary()"
   ]
  },
  {
   "cell_type": "code",
   "execution_count": null,
   "metadata": {
    "id": "caH-tU39T2oK"
   },
   "outputs": [],
   "source": [
    "nlp_model.compile(optimizer = 'adam' , \n",
    "                  loss = 'binary_crossentropy' , \n",
    "                  metrics = ['accuracy'])\n"
   ]
  },
  {
   "cell_type": "code",
   "execution_count": null,
   "metadata": {
    "colab": {
     "base_uri": "https://localhost:8080/"
    },
    "id": "Ej4NF_1TUE3N",
    "outputId": "529198e8-0e7b-4d9a-edd3-9359d6750cef"
   },
   "outputs": [],
   "source": [
    "# print( padding.shape )\n",
    "# print( target.shape)\n",
    "\n",
    "nlp_model.fit(padding , target , epochs = 10 , verbose = 1)"
   ]
  },
  {
   "cell_type": "code",
   "execution_count": null,
   "metadata": {
    "id": "peqUUJLwURs4"
   },
   "outputs": [],
   "source": []
  },
  {
   "cell_type": "code",
   "execution_count": null,
   "metadata": {},
   "outputs": [],
   "source": []
  },
  {
   "cell_type": "code",
   "execution_count": null,
   "metadata": {},
   "outputs": [],
   "source": []
  },
  {
   "cell_type": "code",
   "execution_count": null,
   "metadata": {},
   "outputs": [],
   "source": []
  },
  {
   "cell_type": "code",
   "execution_count": null,
   "metadata": {},
   "outputs": [],
   "source": []
  },
  {
   "cell_type": "code",
   "execution_count": null,
   "metadata": {},
   "outputs": [],
   "source": []
  }
 ],
 "metadata": {
  "accelerator": "GPU",
  "colab": {
   "collapsed_sections": [],
   "name": "2022_ai_tensorflow[02].ipynb",
   "provenance": []
  },
  "kernelspec": {
   "display_name": "Python 3 (ipykernel)",
   "language": "python",
   "name": "python3"
  },
  "language_info": {
   "codemirror_mode": {
    "name": "ipython",
    "version": 3
   },
   "file_extension": ".py",
   "mimetype": "text/x-python",
   "name": "python",
   "nbconvert_exporter": "python",
   "pygments_lexer": "ipython3",
   "version": "3.9.7"
  },
  "varInspector": {
   "cols": {
    "lenName": 16,
    "lenType": 16,
    "lenVar": 40
   },
   "kernels_config": {
    "python": {
     "delete_cmd_postfix": "",
     "delete_cmd_prefix": "del ",
     "library": "var_list.py",
     "varRefreshCmd": "print(var_dic_list())"
    },
    "r": {
     "delete_cmd_postfix": ") ",
     "delete_cmd_prefix": "rm(",
     "library": "var_list.r",
     "varRefreshCmd": "cat(var_dic_list()) "
    }
   },
   "types_to_exclude": [
    "module",
    "function",
    "builtin_function_or_method",
    "instance",
    "_Feature"
   ],
   "window_display": false
  }
 },
 "nbformat": 4,
 "nbformat_minor": 1
}
