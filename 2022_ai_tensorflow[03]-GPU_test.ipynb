{
 "cells": [
  {
   "cell_type": "code",
   "execution_count": 1,
   "metadata": {
    "id": "DqT0Lq67PNbE"
   },
   "outputs": [],
   "source": [
    "from tensorflow.keras.datasets   import boston_housing , mnist , fashion_mnist\n",
    "from tensorflow.keras.models     import Sequential , clone_model , Model , load_model\n",
    "from tensorflow.keras.layers     import Dense , Activation , InputLayer , Flatten , Input , BatchNormalization , Dropout , Embedding\n",
    "\n",
    "# CNN\n",
    "from tensorflow.keras.layers     import Conv2D , MaxPooling2D , AveragePooling2D\n",
    "\n",
    "from tensorflow.keras            import optimizers  \n",
    "from tensorflow.keras.callbacks  import EarlyStopping , ModelCheckpoint , Callback\n",
    "from tensorflow.keras.optimizers import SGD , Adam , RMSprop\n",
    "\n",
    "# 이미지 로드\n",
    "from tensorflow.keras.preprocessing import image\n",
    "from tensorflow.keras.preprocessing.image import ImageDataGenerator \n",
    "\n",
    "# 자연어 처리\n",
    "from tensorflow.keras.preprocessing.text          import Tokenizer\n",
    "from tensorflow.keras.preprocessing.sequence      import pad_sequences\n",
    "\n",
    "from keras.utils.np_utils      import to_categorical\n",
    "\n",
    "from sklearn.datasets          import load_iris , load_breast_cancer , load_digits\n",
    "from sklearn.model_selection   import train_test_split\n",
    "\n",
    "import matplotlib.pyplot as plt\n",
    "\n",
    "import tensorflow as tf\n",
    "import numpy  as np\n",
    "import pandas as pd\n"
   ]
  },
  {
   "cell_type": "code",
   "execution_count": 2,
   "metadata": {},
   "outputs": [],
   "source": [
    "import os\n",
    "\n",
    "os.environ[\"0\"]=\"0\"\n",
    "gpus = tf.config.experimental.list_physical_devices('GPU')\n",
    "if gpus:\n",
    "    try:\n",
    "        tf.config.experimental.set_memory_growth(gpus[0], True)\n",
    "    except RuntimeError as e:\n",
    "        print(e)"
   ]
  },
  {
   "cell_type": "code",
   "execution_count": 3,
   "metadata": {},
   "outputs": [
    {
     "data": {
      "text/plain": [
       "[name: \"/device:CPU:0\"\n",
       " device_type: \"CPU\"\n",
       " memory_limit: 268435456\n",
       " locality {\n",
       " }\n",
       " incarnation: 11921876868986933393\n",
       " xla_global_id: -1,\n",
       " name: \"/device:GPU:0\"\n",
       " device_type: \"GPU\"\n",
       " memory_limit: 2920035124\n",
       " locality {\n",
       "   bus_id: 1\n",
       "   links {\n",
       "   }\n",
       " }\n",
       " incarnation: 16554660150429301200\n",
       " physical_device_desc: \"device: 0, name: NVIDIA GeForce GTX 970, pci bus id: 0000:01:00.0, compute capability: 5.2\"\n",
       " xla_global_id: 416903419]"
      ]
     },
     "execution_count": 3,
     "metadata": {},
     "output_type": "execute_result"
    }
   ],
   "source": [
    "from tensorflow.python.client import device_lib\n",
    "device_lib.list_local_devices()"
   ]
  },
  {
   "cell_type": "code",
   "execution_count": 4,
   "metadata": {
    "colab": {
     "base_uri": "https://localhost:8080/",
     "height": 117
    },
    "id": "4YuFRioPPOvT",
    "outputId": "81dbade0-57e4-43a1-b824-903e7a1911e8"
   },
   "outputs": [
    {
     "data": {
      "image/png": "[encoded data removed]",
      "text/plain": [
       "<PIL.Image.Image image mode=RGB size=100x100 at 0x1B8EDCFDAC0>"
      ]
     },
     "execution_count": 4,
     "metadata": {},
     "output_type": "execute_result"
    }
   ],
   "source": [
    "img = image.load_img('c:/users/crid2/ml-data/test_dog.png' , target_size = (100, 100) )\n",
    "img"
   ]
  },
  {
   "cell_type": "code",
   "execution_count": 5,
   "metadata": {
    "colab": {
     "base_uri": "https://localhost:8080/"
    },
    "id": "pOpE_PzXQ_Cj",
    "outputId": "58a1e365-6d72-4085-97f8-6479bb99f3bf"
   },
   "outputs": [
    {
     "name": "stdout",
     "output_type": "stream",
     "text": [
      "rows - width , cols - height , channels - rgb\n"
     ]
    },
    {
     "data": {
      "text/plain": [
       "(1, 100, 100, 3)"
      ]
     },
     "execution_count": 5,
     "metadata": {},
     "output_type": "execute_result"
    }
   ],
   "source": [
    "print('rows - width , cols - height , channels - rgb')\n",
    "img = image.img_to_array(img)\n",
    "img = np.expand_dims(img , axis = 0) \n",
    "image_ = np.vstack([img]) \n",
    "image_.shape"
   ]
  },
  {
   "cell_type": "code",
   "execution_count": 6,
   "metadata": {
    "colab": {
     "base_uri": "https://localhost:8080/"
    },
    "id": "A7RoS1aSRR6A",
    "outputId": "ce90b82f-a055-4dfc-b2b3-3f6655bf7d33"
   },
   "outputs": [
    {
     "name": "stdout",
     "output_type": "stream",
     "text": [
      "CNN - Convolution Neural Network 합성곱 신경망 - \n",
      "CNN 핵심 - 합성곱레이어와 풀링레이어\n",
      "padding  - valid , same\n",
      "filters     - 몇개의 필터를 이용할지를 결정 즉, 출력모양의 깊이\n",
      "kernel_size - 연산을 수행할 때 원도우의 크기\n",
      "strides     - 가로,세로로 움직이면서 내적 연산을 수행하는데 한번에 얼마나 움직일지를 결정\n"
     ]
    }
   ],
   "source": [
    "print('CNN - Convolution Neural Network 합성곱 신경망 - ')\n",
    "print('CNN 핵심 - 합성곱레이어와 풀링레이어')\n",
    "print('padding  - valid , same')\n",
    "print('filters     - 몇개의 필터를 이용할지를 결정 즉, 출력모양의 깊이')\n",
    "print('kernel_size - 연산을 수행할 때 원도우의 크기')\n",
    "print('strides     - 가로,세로로 움직이면서 내적 연산을 수행하는데 한번에 얼마나 움직일지를 결정')\n",
    "model = Sequential() \n",
    "\n",
    "model.add( Conv2D(input_shape = (10, 10, 3) , \n",
    "                  filters = 10 , \n",
    "                  kernel_size = (3,3) , \n",
    "                  strides = (1,1) , \n",
    "                  padding = 'same') )"
   ]
  },
  {
   "cell_type": "code",
   "execution_count": 7,
   "metadata": {
    "colab": {
     "base_uri": "https://localhost:8080/"
    },
    "id": "G81v3_BgRTem",
    "outputId": "5821cd90-341e-47bf-f66b-43458c427815"
   },
   "outputs": [
    {
     "data": {
      "text/plain": [
       "(None, 10, 10, 10)"
      ]
     },
     "execution_count": 7,
     "metadata": {},
     "output_type": "execute_result"
    }
   ],
   "source": [
    "model.output_shape"
   ]
  },
  {
   "cell_type": "code",
   "execution_count": 8,
   "metadata": {
    "colab": {
     "base_uri": "https://localhost:8080/"
    },
    "id": "jRf6NcbMdPv0",
    "outputId": "ac0f8571-34a5-4f2a-c970-cad47babf874"
   },
   "outputs": [
    {
     "name": "stdout",
     "output_type": "stream",
     "text": [
      "풀링 - pooling \n",
      "원도우 내에서 출력의 최대값을 추출하는 맥스풀링, 평균값 뽑아내는 애버리지 풀링 - \n",
      "\n",
      "(None, 9, 9, 10)\n"
     ]
    }
   ],
   "source": [
    "print('풀링 - pooling ')\n",
    "print('원도우 내에서 출력의 최대값을 추출하는 맥스풀링, 평균값 뽑아내는 애버리지 풀링 - ')\n",
    "print()\n",
    "\n",
    "# model.add( MaxPooling2D(pool_size = (2,2) , strides=(1,1), padding = 'valid' ) )\n",
    "# print(model.output_shape)\n",
    "\n",
    "model.add( AveragePooling2D(pool_size = (2,2) , strides=(1,1), padding = 'valid' ) )\n",
    "print(model.output_shape)\n"
   ]
  },
  {
   "cell_type": "code",
   "execution_count": 9,
   "metadata": {
    "colab": {
     "base_uri": "https://localhost:8080/"
    },
    "id": "Jf3vqnbxhtmB",
    "outputId": "bc6e9a3a-f36a-4df0-a9de-655d515c5072"
   },
   "outputs": [
    {
     "data": {
      "text/plain": [
       "dict_keys(['data', 'target', 'frame', 'feature_names', 'target_names', 'images', 'DESCR'])"
      ]
     },
     "execution_count": 9,
     "metadata": {},
     "output_type": "execute_result"
    }
   ],
   "source": [
    "datasets = load_digits()\n",
    "datasets.keys()"
   ]
  },
  {
   "cell_type": "code",
   "execution_count": 10,
   "metadata": {
    "colab": {
     "base_uri": "https://localhost:8080/"
    },
    "id": "1Zm4Zg6hhtpK",
    "outputId": "393f0338-e805-4288-95e4-1902124cf5ba"
   },
   "outputs": [
    {
     "data": {
      "text/plain": [
       "(8, 8)"
      ]
     },
     "execution_count": 10,
     "metadata": {},
     "output_type": "execute_result"
    }
   ],
   "source": [
    "datasets.images[0].shape"
   ]
  },
  {
   "cell_type": "code",
   "execution_count": 11,
   "metadata": {
    "colab": {
     "base_uri": "https://localhost:8080/",
     "height": 248
    },
    "id": "tXve2erjhtsB",
    "outputId": "dff55a09-28e3-46a5-bb1a-447f4564ee0d"
   },
   "outputs": [
    {
     "data": {
      "image/png": "[encoded data removed]",
      "text/plain": [
       "<Figure size 432x288 with 1 Axes>"
      ]
     },
     "metadata": {
      "needs_background": "light"
     },
     "output_type": "display_data"
    }
   ],
   "source": [
    "plt.figure()\n",
    "\n",
    "plt.imshow(datasets.images[0] , cmap = plt.cm.binary)\n",
    "plt.grid(False)\n",
    "plt.axis('off')\n",
    "plt.show()\n",
    "plt.close()"
   ]
  },
  {
   "cell_type": "code",
   "execution_count": 12,
   "metadata": {
    "colab": {
     "base_uri": "https://localhost:8080/"
    },
    "id": "XWz1pfJdhtu6",
    "outputId": "710858f3-aad1-4d50-ef4f-1ce8e88cf666"
   },
   "outputs": [
    {
     "data": {
      "text/plain": [
       "array([[ 0.,  0.,  5., 13.,  9.,  1.,  0.,  0.],\n",
       "       [ 0.,  0., 13., 15., 10., 15.,  5.,  0.],\n",
       "       [ 0.,  3., 15.,  2.,  0., 11.,  8.,  0.],\n",
       "       [ 0.,  4., 12.,  0.,  0.,  8.,  8.,  0.],\n",
       "       [ 0.,  5.,  8.,  0.,  0.,  9.,  8.,  0.],\n",
       "       [ 0.,  4., 11.,  0.,  1., 12.,  7.,  0.],\n",
       "       [ 0.,  2., 14.,  5., 10., 12.,  0.,  0.],\n",
       "       [ 0.,  0.,  6., 13., 10.,  0.,  0.,  0.]])"
      ]
     },
     "execution_count": 12,
     "metadata": {},
     "output_type": "execute_result"
    }
   ],
   "source": [
    "datasets.images[0]"
   ]
  },
  {
   "cell_type": "code",
   "execution_count": 13,
   "metadata": {
    "id": "YzwHb3m3htxx"
   },
   "outputs": [],
   "source": [
    "X_data = datasets.images\n",
    "y_data = datasets.target"
   ]
  },
  {
   "cell_type": "code",
   "execution_count": 14,
   "metadata": {
    "colab": {
     "base_uri": "https://localhost:8080/"
    },
    "id": "lFpxF_M-l_48",
    "outputId": "5f58a12c-1c73-4674-96d6-149ed02c4ab2"
   },
   "outputs": [
    {
     "data": {
      "text/plain": [
       "((1797, 8, 8), (1797,))"
      ]
     },
     "execution_count": 14,
     "metadata": {},
     "output_type": "execute_result"
    }
   ],
   "source": [
    "X_data.shape , y_data.shape"
   ]
  },
  {
   "cell_type": "code",
   "execution_count": 15,
   "metadata": {
    "colab": {
     "base_uri": "https://localhost:8080/"
    },
    "id": "LfdhfZvjmDeN",
    "outputId": "ad5612b6-0ea8-48fa-c507-dabfb47a5ad3"
   },
   "outputs": [
    {
     "data": {
      "text/plain": [
       "((1797, 8, 8, 1), (1797,))"
      ]
     },
     "execution_count": 15,
     "metadata": {},
     "output_type": "execute_result"
    }
   ],
   "source": [
    "X_data = X_data.reshape(X_data.shape[0] , X_data.shape[1]  , X_data.shape[2] , 1) \n",
    "X_data.shape , y_data.shape"
   ]
  },
  {
   "cell_type": "code",
   "execution_count": 16,
   "metadata": {
    "colab": {
     "base_uri": "https://localhost:8080/"
    },
    "id": "l67omNw6mWYh",
    "outputId": "9a9091c6-d06d-433e-bd09-5a2cedfea8ea"
   },
   "outputs": [
    {
     "data": {
      "text/plain": [
       "(1797, 10)"
      ]
     },
     "execution_count": 16,
     "metadata": {},
     "output_type": "execute_result"
    }
   ],
   "source": [
    "y_data = to_categorical(y_data)\n",
    "y_data.shape"
   ]
  },
  {
   "cell_type": "code",
   "execution_count": 17,
   "metadata": {
    "colab": {
     "base_uri": "https://localhost:8080/"
    },
    "id": "vN7nNKltmhQS",
    "outputId": "a4093a1b-ea21-4231-ed1c-493291aa320e"
   },
   "outputs": [
    {
     "data": {
      "text/plain": [
       "array([1., 0., 0., 0., 0., 0., 0., 0., 0., 0.], dtype=float32)"
      ]
     },
     "execution_count": 17,
     "metadata": {},
     "output_type": "execute_result"
    }
   ],
   "source": [
    "y_data[0]"
   ]
  },
  {
   "cell_type": "code",
   "execution_count": 18,
   "metadata": {
    "colab": {
     "base_uri": "https://localhost:8080/"
    },
    "id": "b2CAV1ecmtM9",
    "outputId": "9a681220-bc1c-49ed-a4f6-d49e9dbb10f8"
   },
   "outputs": [
    {
     "data": {
      "text/plain": [
       "((1797, 8, 8, 1), (1797, 10))"
      ]
     },
     "execution_count": 18,
     "metadata": {},
     "output_type": "execute_result"
    }
   ],
   "source": [
    "X_data.shape , y_data.shape"
   ]
  },
  {
   "cell_type": "code",
   "execution_count": 19,
   "metadata": {
    "colab": {
     "base_uri": "https://localhost:8080/"
    },
    "id": "cyXEbm2fmu4G",
    "outputId": "8e8812a6-ff67-457c-dc90-28a8c83e4423"
   },
   "outputs": [
    {
     "data": {
      "text/plain": [
       "((1437, 8, 8, 1), (360, 8, 8, 1), (1437, 10), (360, 10))"
      ]
     },
     "execution_count": 19,
     "metadata": {},
     "output_type": "execute_result"
    }
   ],
   "source": [
    "X_train , X_test , y_train , y_test = train_test_split(X_data , \n",
    "                                                       y_data , \n",
    "                                                       test_size    = 0.2 ,\n",
    "                                                       random_state = 111)\n",
    "\n",
    "X_train.shape , X_test.shape , y_train.shape , y_test.shape"
   ]
  },
  {
   "cell_type": "code",
   "execution_count": 20,
   "metadata": {
    "colab": {
     "base_uri": "https://localhost:8080/"
    },
    "id": "rqn41HTMnIx0",
    "outputId": "dacfb6ed-2481-418d-f4bb-9c3ee41b5efd"
   },
   "outputs": [
    {
     "name": "stdout",
     "output_type": "stream",
     "text": [
      "cnn 입력층 - \n",
      "shape -  (None, 6, 6, 10)\n"
     ]
    }
   ],
   "source": [
    "print('cnn 입력층 - ')\n",
    "mnist_cnn_model = Sequential()\n",
    "mnist_cnn_model.add( Conv2D(input_shape = (X_data.shape[1], X_data.shape[2], X_data.shape[3]) , \n",
    "                            filters = 10 , \n",
    "                            kernel_size = (3,3) , \n",
    "                            strides = (1,1) , \n",
    "                            padding = 'valid' , activation = 'relu') ) \n",
    "\n",
    "print('shape - ' , mnist_cnn_model.output_shape)"
   ]
  },
  {
   "cell_type": "code",
   "execution_count": 21,
   "metadata": {
    "colab": {
     "base_uri": "https://localhost:8080/"
    },
    "id": "BuI-TTN6n_p4",
    "outputId": "19edf746-7d1c-4c1c-df8b-54006a02ddf9"
   },
   "outputs": [
    {
     "name": "stdout",
     "output_type": "stream",
     "text": [
      "cnn 풀링레이어 만들기 - \n",
      "(None, 3, 3, 10)\n"
     ]
    }
   ],
   "source": [
    "print('cnn 풀링레이어 만들기 - ')\n",
    "\n",
    "mnist_cnn_model.add( MaxPooling2D(pool_size = (2,2) , padding = 'valid' ) )\n",
    "print(mnist_cnn_model.output_shape)\n"
   ]
  },
  {
   "cell_type": "code",
   "execution_count": 22,
   "metadata": {
    "colab": {
     "base_uri": "https://localhost:8080/"
    },
    "id": "PNBZYBx6odX2",
    "outputId": "53611be3-e888-44d9-af20-008774fc25e3"
   },
   "outputs": [
    {
     "data": {
      "text/plain": [
       "(None, 90)"
      ]
     },
     "execution_count": 22,
     "metadata": {},
     "output_type": "execute_result"
    }
   ],
   "source": [
    "mnist_cnn_model.add( Flatten() )\n",
    "mnist_cnn_model.output_shape"
   ]
  },
  {
   "cell_type": "code",
   "execution_count": 23,
   "metadata": {
    "id": "vsJRACz7ovsT"
   },
   "outputs": [],
   "source": [
    "mnist_cnn_model.add( Dense(50 , activation = 'relu'))\n",
    "mnist_cnn_model.add( Dense(10 , activation = 'softmax'))"
   ]
  },
  {
   "cell_type": "code",
   "execution_count": 24,
   "metadata": {
    "id": "pXNNq5Szo91l"
   },
   "outputs": [
    {
     "name": "stdout",
     "output_type": "stream",
     "text": [
      "Model: \"sequential_1\"\n",
      "_________________________________________________________________\n",
      " Layer (type)                Output Shape              Param #   \n",
      "=================================================================\n",
      " conv2d_1 (Conv2D)           (None, 6, 6, 10)          100       \n",
      "                                                                 \n",
      " max_pooling2d (MaxPooling2D  (None, 3, 3, 10)         0         \n",
      " )                                                               \n",
      "                                                                 \n",
      " flatten (Flatten)           (None, 90)                0         \n",
      "                                                                 \n",
      " dense (Dense)               (None, 50)                4550      \n",
      "                                                                 \n",
      " dense_1 (Dense)             (None, 10)                510       \n",
      "                                                                 \n",
      "=================================================================\n",
      "Total params: 5,160\n",
      "Trainable params: 5,160\n",
      "Non-trainable params: 0\n",
      "_________________________________________________________________\n"
     ]
    }
   ],
   "source": [
    "mnist_cnn_model.summary()\n"
   ]
  },
  {
   "cell_type": "code",
   "execution_count": 25,
   "metadata": {
    "id": "owRCwVwWo-Sc"
   },
   "outputs": [],
   "source": [
    "mnist_cnn_model.compile(optimizer = Adam(learning_rate = 0.01), \n",
    "                      loss= 'categorical_crossentropy' , \n",
    "                      metrics=['accuracy'] ) "
   ]
  },
  {
   "cell_type": "code",
   "execution_count": 26,
   "metadata": {
    "id": "a5XDfD8ko-VM"
   },
   "outputs": [
    {
     "name": "stdout",
     "output_type": "stream",
     "text": [
      "Epoch 1/100\n",
      "23/23 [==============================] - 2s 14ms/step - loss: 2.0328 - accuracy: 0.4830 - val_loss: 0.7046 - val_accuracy: 0.7847\n",
      "Epoch 2/100\n",
      "23/23 [==============================] - 0s 6ms/step - loss: 0.3793 - accuracy: 0.8938 - val_loss: 0.2668 - val_accuracy: 0.9167\n",
      "Epoch 3/100\n",
      "23/23 [==============================] - 0s 6ms/step - loss: 0.1521 - accuracy: 0.9617 - val_loss: 0.1657 - val_accuracy: 0.9618\n",
      "Epoch 4/100\n",
      "23/23 [==============================] - 0s 5ms/step - loss: 0.0903 - accuracy: 0.9739 - val_loss: 0.2002 - val_accuracy: 0.9479\n",
      "Epoch 5/100\n",
      "23/23 [==============================] - 0s 6ms/step - loss: 0.0846 - accuracy: 0.9721 - val_loss: 0.2613 - val_accuracy: 0.9271\n",
      "Epoch 6/100\n",
      "23/23 [==============================] - 0s 6ms/step - loss: 0.0570 - accuracy: 0.9869 - val_loss: 0.1493 - val_accuracy: 0.9583\n",
      "Epoch 7/100\n",
      "23/23 [==============================] - 0s 5ms/step - loss: 0.0261 - accuracy: 0.9939 - val_loss: 0.1251 - val_accuracy: 0.9653\n",
      "Epoch 8/100\n",
      "23/23 [==============================] - 0s 6ms/step - loss: 0.0173 - accuracy: 0.9965 - val_loss: 0.1564 - val_accuracy: 0.9583\n",
      "Epoch 9/100\n",
      "23/23 [==============================] - 0s 5ms/step - loss: 0.0115 - accuracy: 1.0000 - val_loss: 0.1331 - val_accuracy: 0.9583\n",
      "Epoch 10/100\n",
      "23/23 [==============================] - 0s 5ms/step - loss: 0.0178 - accuracy: 0.9948 - val_loss: 0.1149 - val_accuracy: 0.9688\n",
      "Epoch 11/100\n",
      "23/23 [==============================] - 0s 5ms/step - loss: 0.0078 - accuracy: 1.0000 - val_loss: 0.1062 - val_accuracy: 0.9722\n",
      "Epoch 12/100\n",
      "23/23 [==============================] - 0s 5ms/step - loss: 0.0055 - accuracy: 0.9991 - val_loss: 0.1382 - val_accuracy: 0.9583\n",
      "Epoch 13/100\n",
      "23/23 [==============================] - 0s 5ms/step - loss: 0.0037 - accuracy: 1.0000 - val_loss: 0.1183 - val_accuracy: 0.9618\n",
      "Epoch 14/100\n",
      "23/23 [==============================] - 0s 5ms/step - loss: 0.0027 - accuracy: 1.0000 - val_loss: 0.1194 - val_accuracy: 0.9722\n",
      "Epoch 15/100\n",
      "23/23 [==============================] - 0s 5ms/step - loss: 0.0021 - accuracy: 1.0000 - val_loss: 0.1187 - val_accuracy: 0.9618\n",
      "Epoch 16/100\n",
      "23/23 [==============================] - 0s 5ms/step - loss: 0.0017 - accuracy: 1.0000 - val_loss: 0.1072 - val_accuracy: 0.9653\n",
      "Epoch 17/100\n",
      "23/23 [==============================] - 0s 6ms/step - loss: 0.0014 - accuracy: 1.0000 - val_loss: 0.1149 - val_accuracy: 0.9688\n",
      "Epoch 18/100\n",
      "23/23 [==============================] - 0s 6ms/step - loss: 0.0013 - accuracy: 1.0000 - val_loss: 0.1076 - val_accuracy: 0.9688\n",
      "Epoch 19/100\n",
      "23/23 [==============================] - 0s 5ms/step - loss: 0.0011 - accuracy: 1.0000 - val_loss: 0.1118 - val_accuracy: 0.9618\n",
      "Epoch 20/100\n",
      "23/23 [==============================] - 0s 6ms/step - loss: 9.8430e-04 - accuracy: 1.0000 - val_loss: 0.1105 - val_accuracy: 0.9653\n",
      "Epoch 21/100\n",
      "23/23 [==============================] - 0s 6ms/step - loss: 9.1015e-04 - accuracy: 1.0000 - val_loss: 0.1113 - val_accuracy: 0.9653\n",
      "Epoch 22/100\n",
      "23/23 [==============================] - 0s 5ms/step - loss: 8.3951e-04 - accuracy: 1.0000 - val_loss: 0.1096 - val_accuracy: 0.9653\n",
      "Epoch 23/100\n",
      "23/23 [==============================] - 0s 6ms/step - loss: 7.4693e-04 - accuracy: 1.0000 - val_loss: 0.1109 - val_accuracy: 0.9653\n",
      "Epoch 24/100\n",
      "23/23 [==============================] - 0s 6ms/step - loss: 6.8679e-04 - accuracy: 1.0000 - val_loss: 0.1109 - val_accuracy: 0.9653\n",
      "Epoch 25/100\n",
      "23/23 [==============================] - 0s 6ms/step - loss: 6.4328e-04 - accuracy: 1.0000 - val_loss: 0.1151 - val_accuracy: 0.9653\n",
      "Epoch 26/100\n",
      "23/23 [==============================] - 0s 5ms/step - loss: 6.1062e-04 - accuracy: 1.0000 - val_loss: 0.1079 - val_accuracy: 0.9618\n",
      "Epoch 27/100\n",
      "23/23 [==============================] - 0s 6ms/step - loss: 5.6100e-04 - accuracy: 1.0000 - val_loss: 0.1141 - val_accuracy: 0.9653\n",
      "Epoch 28/100\n",
      "23/23 [==============================] - 0s 6ms/step - loss: 5.1956e-04 - accuracy: 1.0000 - val_loss: 0.1127 - val_accuracy: 0.9653\n",
      "Epoch 29/100\n",
      "23/23 [==============================] - 0s 6ms/step - loss: 4.7986e-04 - accuracy: 1.0000 - val_loss: 0.1125 - val_accuracy: 0.9653\n",
      "Epoch 30/100\n",
      "23/23 [==============================] - 0s 6ms/step - loss: 4.5063e-04 - accuracy: 1.0000 - val_loss: 0.1124 - val_accuracy: 0.9653\n",
      "Epoch 31/100\n",
      "23/23 [==============================] - 0s 6ms/step - loss: 4.3658e-04 - accuracy: 1.0000 - val_loss: 0.1150 - val_accuracy: 0.9618\n",
      "Epoch 32/100\n",
      "23/23 [==============================] - 0s 6ms/step - loss: 3.9700e-04 - accuracy: 1.0000 - val_loss: 0.1122 - val_accuracy: 0.9653\n",
      "Epoch 33/100\n",
      "23/23 [==============================] - 0s 6ms/step - loss: 3.8534e-04 - accuracy: 1.0000 - val_loss: 0.1136 - val_accuracy: 0.9653\n",
      "Epoch 34/100\n",
      "23/23 [==============================] - 0s 6ms/step - loss: 3.5480e-04 - accuracy: 1.0000 - val_loss: 0.1133 - val_accuracy: 0.9653\n",
      "Epoch 35/100\n",
      "23/23 [==============================] - 0s 5ms/step - loss: 3.3879e-04 - accuracy: 1.0000 - val_loss: 0.1154 - val_accuracy: 0.9653\n",
      "Epoch 36/100\n",
      "23/23 [==============================] - 0s 6ms/step - loss: 3.2125e-04 - accuracy: 1.0000 - val_loss: 0.1144 - val_accuracy: 0.9618\n",
      "Epoch 37/100\n",
      "23/23 [==============================] - 0s 5ms/step - loss: 2.9967e-04 - accuracy: 1.0000 - val_loss: 0.1130 - val_accuracy: 0.9653\n",
      "Epoch 38/100\n",
      "23/23 [==============================] - 0s 5ms/step - loss: 2.8618e-04 - accuracy: 1.0000 - val_loss: 0.1138 - val_accuracy: 0.9618\n",
      "Epoch 39/100\n",
      "23/23 [==============================] - 0s 5ms/step - loss: 2.7661e-04 - accuracy: 1.0000 - val_loss: 0.1152 - val_accuracy: 0.9618\n",
      "Epoch 40/100\n",
      "23/23 [==============================] - 0s 6ms/step - loss: 2.5753e-04 - accuracy: 1.0000 - val_loss: 0.1143 - val_accuracy: 0.9653\n",
      "Epoch 41/100\n",
      "23/23 [==============================] - 0s 6ms/step - loss: 2.4404e-04 - accuracy: 1.0000 - val_loss: 0.1165 - val_accuracy: 0.9618\n",
      "Epoch 42/100\n",
      "23/23 [==============================] - 0s 5ms/step - loss: 2.3494e-04 - accuracy: 1.0000 - val_loss: 0.1142 - val_accuracy: 0.9653\n",
      "Epoch 43/100\n",
      "23/23 [==============================] - 0s 5ms/step - loss: 2.2636e-04 - accuracy: 1.0000 - val_loss: 0.1157 - val_accuracy: 0.9618\n",
      "Epoch 44/100\n",
      "23/23 [==============================] - 0s 5ms/step - loss: 2.1719e-04 - accuracy: 1.0000 - val_loss: 0.1155 - val_accuracy: 0.9653\n",
      "Epoch 45/100\n",
      "23/23 [==============================] - 0s 6ms/step - loss: 2.0580e-04 - accuracy: 1.0000 - val_loss: 0.1164 - val_accuracy: 0.9653\n",
      "Epoch 46/100\n",
      "23/23 [==============================] - 0s 6ms/step - loss: 1.9546e-04 - accuracy: 1.0000 - val_loss: 0.1158 - val_accuracy: 0.9618\n",
      "Epoch 47/100\n",
      "23/23 [==============================] - 0s 5ms/step - loss: 1.8564e-04 - accuracy: 1.0000 - val_loss: 0.1153 - val_accuracy: 0.9653\n",
      "Epoch 48/100\n",
      "23/23 [==============================] - 0s 5ms/step - loss: 1.7836e-04 - accuracy: 1.0000 - val_loss: 0.1167 - val_accuracy: 0.9653\n",
      "Epoch 49/100\n",
      "23/23 [==============================] - 0s 5ms/step - loss: 1.7274e-04 - accuracy: 1.0000 - val_loss: 0.1181 - val_accuracy: 0.9618\n",
      "Epoch 50/100\n",
      "23/23 [==============================] - 0s 5ms/step - loss: 1.6766e-04 - accuracy: 1.0000 - val_loss: 0.1178 - val_accuracy: 0.9618\n",
      "Epoch 51/100\n",
      "23/23 [==============================] - 0s 5ms/step - loss: 1.5920e-04 - accuracy: 1.0000 - val_loss: 0.1189 - val_accuracy: 0.9618\n",
      "Epoch 52/100\n",
      "23/23 [==============================] - 0s 5ms/step - loss: 1.5107e-04 - accuracy: 1.0000 - val_loss: 0.1185 - val_accuracy: 0.9618\n",
      "Epoch 53/100\n",
      "23/23 [==============================] - 0s 6ms/step - loss: 1.4558e-04 - accuracy: 1.0000 - val_loss: 0.1185 - val_accuracy: 0.9653\n",
      "Epoch 54/100\n",
      "23/23 [==============================] - 0s 6ms/step - loss: 1.4230e-04 - accuracy: 1.0000 - val_loss: 0.1181 - val_accuracy: 0.9653\n",
      "Epoch 55/100\n",
      "23/23 [==============================] - 0s 6ms/step - loss: 1.3475e-04 - accuracy: 1.0000 - val_loss: 0.1196 - val_accuracy: 0.9618\n",
      "Epoch 56/100\n",
      "23/23 [==============================] - 0s 5ms/step - loss: 1.3210e-04 - accuracy: 1.0000 - val_loss: 0.1192 - val_accuracy: 0.9618\n",
      "Epoch 57/100\n",
      "23/23 [==============================] - 0s 5ms/step - loss: 1.2714e-04 - accuracy: 1.0000 - val_loss: 0.1186 - val_accuracy: 0.9653\n"
     ]
    },
    {
     "name": "stdout",
     "output_type": "stream",
     "text": [
      "Epoch 58/100\n",
      "23/23 [==============================] - 0s 5ms/step - loss: 1.2223e-04 - accuracy: 1.0000 - val_loss: 0.1192 - val_accuracy: 0.9618\n",
      "Epoch 59/100\n",
      "23/23 [==============================] - 0s 5ms/step - loss: 1.1855e-04 - accuracy: 1.0000 - val_loss: 0.1202 - val_accuracy: 0.9618\n",
      "Epoch 60/100\n",
      "23/23 [==============================] - 0s 5ms/step - loss: 1.1420e-04 - accuracy: 1.0000 - val_loss: 0.1208 - val_accuracy: 0.9618\n",
      "Epoch 61/100\n",
      "23/23 [==============================] - 0s 5ms/step - loss: 1.1075e-04 - accuracy: 1.0000 - val_loss: 0.1209 - val_accuracy: 0.9618\n",
      "Epoch 62/100\n",
      "23/23 [==============================] - 0s 6ms/step - loss: 1.0762e-04 - accuracy: 1.0000 - val_loss: 0.1217 - val_accuracy: 0.9618\n",
      "Epoch 63/100\n",
      "23/23 [==============================] - 0s 8ms/step - loss: 1.0338e-04 - accuracy: 1.0000 - val_loss: 0.1204 - val_accuracy: 0.9618\n",
      "Epoch 64/100\n",
      "23/23 [==============================] - 0s 6ms/step - loss: 1.0000e-04 - accuracy: 1.0000 - val_loss: 0.1224 - val_accuracy: 0.9618\n",
      "Epoch 65/100\n",
      "23/23 [==============================] - 0s 10ms/step - loss: 9.6449e-05 - accuracy: 1.0000 - val_loss: 0.1201 - val_accuracy: 0.9618\n",
      "Epoch 66/100\n",
      "23/23 [==============================] - 0s 6ms/step - loss: 9.4183e-05 - accuracy: 1.0000 - val_loss: 0.1229 - val_accuracy: 0.9618\n",
      "Epoch 67/100\n",
      "23/23 [==============================] - 0s 6ms/step - loss: 9.0570e-05 - accuracy: 1.0000 - val_loss: 0.1207 - val_accuracy: 0.9618\n",
      "Epoch 68/100\n",
      "23/23 [==============================] - 0s 13ms/step - loss: 8.8529e-05 - accuracy: 1.0000 - val_loss: 0.1209 - val_accuracy: 0.9618\n",
      "Epoch 69/100\n",
      "23/23 [==============================] - 0s 7ms/step - loss: 8.6249e-05 - accuracy: 1.0000 - val_loss: 0.1226 - val_accuracy: 0.9618\n",
      "Epoch 70/100\n",
      "23/23 [==============================] - 0s 7ms/step - loss: 8.3658e-05 - accuracy: 1.0000 - val_loss: 0.1225 - val_accuracy: 0.9618\n",
      "Epoch 71/100\n",
      "23/23 [==============================] - 0s 6ms/step - loss: 8.0277e-05 - accuracy: 1.0000 - val_loss: 0.1237 - val_accuracy: 0.9618\n",
      "Epoch 72/100\n",
      "23/23 [==============================] - 0s 9ms/step - loss: 7.8815e-05 - accuracy: 1.0000 - val_loss: 0.1219 - val_accuracy: 0.9618\n",
      "Epoch 73/100\n",
      "23/23 [==============================] - 0s 8ms/step - loss: 7.5072e-05 - accuracy: 1.0000 - val_loss: 0.1227 - val_accuracy: 0.9618\n",
      "Epoch 74/100\n",
      "23/23 [==============================] - 0s 8ms/step - loss: 7.3904e-05 - accuracy: 1.0000 - val_loss: 0.1224 - val_accuracy: 0.9618\n",
      "Epoch 75/100\n",
      "23/23 [==============================] - 0s 7ms/step - loss: 7.1688e-05 - accuracy: 1.0000 - val_loss: 0.1243 - val_accuracy: 0.9618\n",
      "Epoch 76/100\n",
      "23/23 [==============================] - 0s 6ms/step - loss: 6.9332e-05 - accuracy: 1.0000 - val_loss: 0.1233 - val_accuracy: 0.9618\n",
      "Epoch 77/100\n",
      "23/23 [==============================] - 0s 8ms/step - loss: 6.7465e-05 - accuracy: 1.0000 - val_loss: 0.1236 - val_accuracy: 0.9618\n",
      "Epoch 78/100\n",
      "23/23 [==============================] - 0s 10ms/step - loss: 6.5562e-05 - accuracy: 1.0000 - val_loss: 0.1247 - val_accuracy: 0.9618\n",
      "Epoch 79/100\n",
      "23/23 [==============================] - 0s 8ms/step - loss: 6.3674e-05 - accuracy: 1.0000 - val_loss: 0.1243 - val_accuracy: 0.9618\n",
      "Epoch 80/100\n",
      "23/23 [==============================] - 0s 8ms/step - loss: 6.2422e-05 - accuracy: 1.0000 - val_loss: 0.1247 - val_accuracy: 0.9618\n",
      "Epoch 81/100\n",
      "23/23 [==============================] - 0s 12ms/step - loss: 6.0665e-05 - accuracy: 1.0000 - val_loss: 0.1253 - val_accuracy: 0.9618\n",
      "Epoch 82/100\n",
      "23/23 [==============================] - 0s 18ms/step - loss: 5.9481e-05 - accuracy: 1.0000 - val_loss: 0.1264 - val_accuracy: 0.9618\n",
      "Epoch 83/100\n",
      "23/23 [==============================] - 0s 6ms/step - loss: 5.7547e-05 - accuracy: 1.0000 - val_loss: 0.1238 - val_accuracy: 0.9618\n",
      "Epoch 84/100\n",
      "23/23 [==============================] - 0s 6ms/step - loss: 5.6435e-05 - accuracy: 1.0000 - val_loss: 0.1259 - val_accuracy: 0.9618\n",
      "Epoch 85/100\n",
      "23/23 [==============================] - 0s 6ms/step - loss: 5.5383e-05 - accuracy: 1.0000 - val_loss: 0.1261 - val_accuracy: 0.9618\n",
      "Epoch 86/100\n",
      "23/23 [==============================] - 0s 5ms/step - loss: 5.3427e-05 - accuracy: 1.0000 - val_loss: 0.1255 - val_accuracy: 0.9618\n",
      "Epoch 87/100\n",
      "23/23 [==============================] - 0s 6ms/step - loss: 5.1492e-05 - accuracy: 1.0000 - val_loss: 0.1271 - val_accuracy: 0.9618\n",
      "Epoch 88/100\n",
      "23/23 [==============================] - 0s 7ms/step - loss: 5.0683e-05 - accuracy: 1.0000 - val_loss: 0.1272 - val_accuracy: 0.9618\n",
      "Epoch 89/100\n",
      "23/23 [==============================] - 0s 12ms/step - loss: 4.9428e-05 - accuracy: 1.0000 - val_loss: 0.1261 - val_accuracy: 0.9618\n",
      "Epoch 90/100\n",
      "23/23 [==============================] - 0s 5ms/step - loss: 4.8092e-05 - accuracy: 1.0000 - val_loss: 0.1269 - val_accuracy: 0.9618\n",
      "Epoch 91/100\n",
      "23/23 [==============================] - 1s 40ms/step - loss: 4.6871e-05 - accuracy: 1.0000 - val_loss: 0.1269 - val_accuracy: 0.9618\n",
      "Epoch 92/100\n",
      "23/23 [==============================] - 1s 29ms/step - loss: 4.6045e-05 - accuracy: 1.0000 - val_loss: 0.1286 - val_accuracy: 0.9618\n",
      "Epoch 93/100\n",
      "23/23 [==============================] - 0s 7ms/step - loss: 4.4821e-05 - accuracy: 1.0000 - val_loss: 0.1284 - val_accuracy: 0.9618\n",
      "Epoch 94/100\n",
      "23/23 [==============================] - 0s 8ms/step - loss: 4.3806e-05 - accuracy: 1.0000 - val_loss: 0.1273 - val_accuracy: 0.9618\n",
      "Epoch 95/100\n",
      "23/23 [==============================] - 0s 8ms/step - loss: 4.2891e-05 - accuracy: 1.0000 - val_loss: 0.1283 - val_accuracy: 0.9618\n",
      "Epoch 96/100\n",
      "23/23 [==============================] - 0s 19ms/step - loss: 4.1324e-05 - accuracy: 1.0000 - val_loss: 0.1272 - val_accuracy: 0.9618\n",
      "Epoch 97/100\n",
      "23/23 [==============================] - 0s 13ms/step - loss: 4.0664e-05 - accuracy: 1.0000 - val_loss: 0.1279 - val_accuracy: 0.9618\n",
      "Epoch 98/100\n",
      "23/23 [==============================] - 0s 10ms/step - loss: 3.9900e-05 - accuracy: 1.0000 - val_loss: 0.1300 - val_accuracy: 0.9618\n",
      "Epoch 99/100\n",
      "23/23 [==============================] - 0s 8ms/step - loss: 3.8793e-05 - accuracy: 1.0000 - val_loss: 0.1277 - val_accuracy: 0.9618\n",
      "Epoch 100/100\n",
      "23/23 [==============================] - 0s 9ms/step - loss: 3.7947e-05 - accuracy: 1.0000 - val_loss: 0.1291 - val_accuracy: 0.9618\n"
     ]
    }
   ],
   "source": [
    "mnist_cnn_model_history = mnist_cnn_model.fit(X_train , y_train , epochs=100  , batch_size = 50 , validation_split = 0.2 , verbose = 1)"
   ]
  },
  {
   "cell_type": "code",
   "execution_count": 27,
   "metadata": {
    "id": "9stwe55Ho-X8"
   },
   "outputs": [
    {
     "data": {
      "image/png": "[encoded data removed]",
      "text/plain": [
       "<Figure size 1440x720 with 1 Axes>"
      ]
     },
     "metadata": {
      "needs_background": "light"
     },
     "output_type": "display_data"
    }
   ],
   "source": [
    "plt.figure(figsize=(20,10))\n",
    "\n",
    "plt.plot(mnist_cnn_model_history.history['accuracy']    , 's-', label='acc')\n",
    "plt.plot(mnist_cnn_model_history.history['val_accuracy'], 'd-', label='val_acc')\n",
    "\n",
    "plt.legend(loc='best')\n",
    "plt.xticks(np.arange(100))\n",
    "plt.title('accuracy')\n",
    "\n",
    "plt.xlabel('Epoch')\n",
    "plt.ylabel('Accuracy')\n",
    "plt.show()\n",
    "plt.close()"
   ]
  },
  {
   "cell_type": "code",
   "execution_count": 28,
   "metadata": {
    "colab": {
     "base_uri": "https://localhost:8080/"
    },
    "id": "iu_F_kXRo-al",
    "outputId": "666bae9b-fb7f-412d-d140-fae4b5fa2c0f"
   },
   "outputs": [
    {
     "name": "stdout",
     "output_type": "stream",
     "text": [
      "12/12 [==============================] - 0s 5ms/step - loss: 0.1588 - accuracy: 0.9750\n"
     ]
    },
    {
     "data": {
      "text/plain": [
       "[0.1587544083595276, 0.9750000238418579]"
      ]
     },
     "execution_count": 28,
     "metadata": {},
     "output_type": "execute_result"
    }
   ],
   "source": [
    "mnist_cnn_model_eval = mnist_cnn_model.evaluate(X_test , y_test)\n",
    "mnist_cnn_model_eval"
   ]
  },
  {
   "cell_type": "markdown",
   "metadata": {
    "id": "6Rk5Thyavffx"
   },
   "source": []
  },
  {
   "cell_type": "markdown",
   "metadata": {
    "id": "LM21NzsRvgtv"
   },
   "source": [
    "#### mnist 이용한 CNN"
   ]
  },
  {
   "cell_type": "code",
   "execution_count": 29,
   "metadata": {
    "colab": {
     "base_uri": "https://localhost:8080/"
    },
    "id": "Q1WbDxg-o-dc",
    "outputId": "a4ae3dd0-5ac7-4878-8bff-637b7fee76c5"
   },
   "outputs": [
    {
     "data": {
      "text/plain": [
       "(((60000, 28, 28), (60000,)), ((10000, 28, 28), (10000,)))"
      ]
     },
     "execution_count": 29,
     "metadata": {},
     "output_type": "execute_result"
    }
   ],
   "source": [
    "(X_train , y_train) , (X_test , y_test ) = mnist.load_data()\n",
    "(X_train.shape , y_train.shape) , (X_test.shape , y_test.shape )"
   ]
  },
  {
   "cell_type": "code",
   "execution_count": 30,
   "metadata": {
    "id": "kTuTU5JHo-f-"
   },
   "outputs": [],
   "source": [
    "X_train = X_train.reshape(X_train.shape[0] , X_train.shape[1] , X_train.shape[2] , 1)\n",
    "X_test = X_test.reshape(X_test.shape[0] , X_test.shape[1] , X_test.shape[2] , 1)"
   ]
  },
  {
   "cell_type": "code",
   "execution_count": 31,
   "metadata": {
    "colab": {
     "base_uri": "https://localhost:8080/"
    },
    "id": "yicHGvk5o-i9",
    "outputId": "b8c18a7c-7934-4e57-8eb0-fee63af39c44"
   },
   "outputs": [
    {
     "data": {
      "text/plain": [
       "(((60000, 28, 28, 1), (60000,)), ((10000, 28, 28, 1), (10000,)))"
      ]
     },
     "execution_count": 31,
     "metadata": {},
     "output_type": "execute_result"
    }
   ],
   "source": [
    "(X_train.shape , y_train.shape) , (X_test.shape , y_test.shape )"
   ]
  },
  {
   "cell_type": "code",
   "execution_count": 32,
   "metadata": {
    "colab": {
     "base_uri": "https://localhost:8080/"
    },
    "id": "TG0YAQqeo-ld",
    "outputId": "c232ab15-2b0e-48c2-f0ab-80e33186560f"
   },
   "outputs": [
    {
     "name": "stdout",
     "output_type": "stream",
     "text": [
      "전처리 - \n"
     ]
    }
   ],
   "source": [
    "print('전처리 - ') \n",
    "X_train , X_test =  X_train/255.0 , X_test/255.0"
   ]
  },
  {
   "cell_type": "code",
   "execution_count": 33,
   "metadata": {
    "colab": {
     "base_uri": "https://localhost:8080/"
    },
    "id": "ViBMnTPRxVpO",
    "outputId": "ee545a83-f1aa-48ea-a112-e47b2146fa44"
   },
   "outputs": [
    {
     "name": "stdout",
     "output_type": "stream",
     "text": [
      "feature extraction - \n"
     ]
    }
   ],
   "source": [
    "print('feature extraction - ')\n",
    "mnist_cnn_model = Sequential()\n",
    "\n",
    "mnist_cnn_model.add( Conv2D(input_shape = (X_train.shape[1], X_train.shape[2], X_train.shape[3]) , \n",
    "                            filters = 32 , \n",
    "                            kernel_size = (3,3) , \n",
    "                            strides = (1,1) , \n",
    "                            padding = 'same' , activation = 'relu') ) \n",
    "mnist_cnn_model.add( MaxPooling2D(pool_size = (2,2) , padding = 'same' ) )\n",
    "mnist_cnn_model.add( Conv2D(filters = 64 , \n",
    "                            kernel_size = (3,3) , \n",
    "                            strides = (1,1) , \n",
    "                            padding = 'same' , activation = 'relu') ) \n",
    "mnist_cnn_model.add( MaxPooling2D(pool_size = (2,2) , padding = 'same' ) )\n",
    "mnist_cnn_model.add( Conv2D(filters = 64 , \n",
    "                            kernel_size = (3,3) , \n",
    "                            strides = (1,1) , \n",
    "                            padding = 'same' , activation = 'relu') ) \n",
    "mnist_cnn_model.add( MaxPooling2D(pool_size = (2,2) , padding = 'same' ) )\n",
    "\n"
   ]
  },
  {
   "cell_type": "code",
   "execution_count": 34,
   "metadata": {
    "colab": {
     "base_uri": "https://localhost:8080/"
    },
    "id": "LT6Rs0GQxsR2",
    "outputId": "b0cf9a9e-455b-4ba2-b7f4-6a5b9c92920e"
   },
   "outputs": [
    {
     "data": {
      "text/plain": [
       "(None, 4, 4, 64)"
      ]
     },
     "execution_count": 34,
     "metadata": {},
     "output_type": "execute_result"
    }
   ],
   "source": [
    "# mnist_cnn_model.summary()\n",
    "mnist_cnn_model.output_shape"
   ]
  },
  {
   "cell_type": "code",
   "execution_count": 35,
   "metadata": {
    "colab": {
     "base_uri": "https://localhost:8080/"
    },
    "id": "TE0BzbZfxsUk",
    "outputId": "4f098ccd-2e04-4283-acf9-bd2236dfb518"
   },
   "outputs": [
    {
     "name": "stdout",
     "output_type": "stream",
     "text": [
      "Dense 층 추가 - \n"
     ]
    }
   ],
   "source": [
    "print('Dense 층 추가 - ')\n",
    "mnist_cnn_model.add( Flatten() )\n",
    "mnist_cnn_model.add( Dense(units = 512) )\n",
    "mnist_cnn_model.add( Activation('relu') )\n",
    "mnist_cnn_model.add( Dense(units = 256) )\n",
    "mnist_cnn_model.add( Activation('relu') )\n",
    "mnist_cnn_model.add( Dense(units = 128) )\n",
    "mnist_cnn_model.add( Activation('relu') )\n",
    "mnist_cnn_model.add( Dense(units = 64) )\n",
    "mnist_cnn_model.add( Activation('relu') )\n",
    "\n",
    "mnist_cnn_model.add( Dense(units = 10) )\n",
    "mnist_cnn_model.add( Activation('softmax') )\n",
    "\n",
    "\n",
    "# mnist_cnn_model.output_shape\n"
   ]
  },
  {
   "cell_type": "code",
   "execution_count": 36,
   "metadata": {
    "id": "cgpK-5LXxsXZ"
   },
   "outputs": [
    {
     "name": "stdout",
     "output_type": "stream",
     "text": [
      "Model: \"sequential_2\"\n",
      "_________________________________________________________________\n",
      " Layer (type)                Output Shape              Param #   \n",
      "=================================================================\n",
      " conv2d_2 (Conv2D)           (None, 28, 28, 32)        320       \n",
      "                                                                 \n",
      " max_pooling2d_1 (MaxPooling  (None, 14, 14, 32)       0         \n",
      " 2D)                                                             \n",
      "                                                                 \n",
      " conv2d_3 (Conv2D)           (None, 14, 14, 64)        18496     \n",
      "                                                                 \n",
      " max_pooling2d_2 (MaxPooling  (None, 7, 7, 64)         0         \n",
      " 2D)                                                             \n",
      "                                                                 \n",
      " conv2d_4 (Conv2D)           (None, 7, 7, 64)          36928     \n",
      "                                                                 \n",
      " max_pooling2d_3 (MaxPooling  (None, 4, 4, 64)         0         \n",
      " 2D)                                                             \n",
      "                                                                 \n",
      " flatten_1 (Flatten)         (None, 1024)              0         \n",
      "                                                                 \n",
      " dense_2 (Dense)             (None, 512)               524800    \n",
      "                                                                 \n",
      " activation (Activation)     (None, 512)               0         \n",
      "                                                                 \n",
      " dense_3 (Dense)             (None, 256)               131328    \n",
      "                                                                 \n",
      " activation_1 (Activation)   (None, 256)               0         \n",
      "                                                                 \n",
      " dense_4 (Dense)             (None, 128)               32896     \n",
      "                                                                 \n",
      " activation_2 (Activation)   (None, 128)               0         \n",
      "                                                                 \n",
      " dense_5 (Dense)             (None, 64)                8256      \n",
      "                                                                 \n",
      " activation_3 (Activation)   (None, 64)                0         \n",
      "                                                                 \n",
      " dense_6 (Dense)             (None, 10)                650       \n",
      "                                                                 \n",
      " activation_4 (Activation)   (None, 10)                0         \n",
      "                                                                 \n",
      "=================================================================\n",
      "Total params: 753,674\n",
      "Trainable params: 753,674\n",
      "Non-trainable params: 0\n",
      "_________________________________________________________________\n"
     ]
    }
   ],
   "source": [
    "mnist_cnn_model.summary()"
   ]
  },
  {
   "cell_type": "code",
   "execution_count": 37,
   "metadata": {
    "id": "m5RnSYJExsZ1"
   },
   "outputs": [],
   "source": [
    "mnist_cnn_model.compile(optimizer = Adam(learning_rate = 0.01), \n",
    "                      loss= 'sparse_categorical_crossentropy' , \n",
    "                      metrics=['accuracy'] ) "
   ]
  },
  {
   "cell_type": "code",
   "execution_count": 38,
   "metadata": {
    "colab": {
     "base_uri": "https://localhost:8080/"
    },
    "id": "Lg-MyXESxscd",
    "outputId": "0fb4b221-09d2-460f-8f74-5a9e775202c9"
   },
   "outputs": [
    {
     "name": "stdout",
     "output_type": "stream",
     "text": [
      "Epoch 1/12\n",
      "960/960 [==============================] - 8s 7ms/step - loss: 2.3050 - accuracy: 0.1117 - val_loss: 2.3029 - val_accuracy: 0.1060\n",
      "Epoch 2/12\n",
      "960/960 [==============================] - 7s 7ms/step - loss: 2.3019 - accuracy: 0.1111 - val_loss: 2.3033 - val_accuracy: 0.1081\n",
      "Epoch 3/12\n",
      "960/960 [==============================] - 7s 7ms/step - loss: 2.3023 - accuracy: 0.1112 - val_loss: 2.3025 - val_accuracy: 0.1060\n",
      "Epoch 4/12\n",
      "960/960 [==============================] - 7s 7ms/step - loss: 2.3019 - accuracy: 0.1113 - val_loss: 2.3039 - val_accuracy: 0.1060\n",
      "Epoch 5/12\n",
      "960/960 [==============================] - 7s 7ms/step - loss: 2.3023 - accuracy: 0.1113 - val_loss: 2.3027 - val_accuracy: 0.1060\n",
      "Epoch 6/12\n",
      "960/960 [==============================] - 7s 7ms/step - loss: 2.3022 - accuracy: 0.1117 - val_loss: 2.3023 - val_accuracy: 0.1060\n",
      "Epoch 7/12\n",
      "960/960 [==============================] - 7s 7ms/step - loss: 2.3018 - accuracy: 0.1116 - val_loss: 2.3037 - val_accuracy: 0.1060\n",
      "Epoch 8/12\n",
      "960/960 [==============================] - 7s 7ms/step - loss: 2.3021 - accuracy: 0.1112 - val_loss: 2.3034 - val_accuracy: 0.1060\n",
      "Epoch 9/12\n",
      "960/960 [==============================] - 7s 7ms/step - loss: 2.3022 - accuracy: 0.1126 - val_loss: 2.3027 - val_accuracy: 0.1060\n",
      "Epoch 10/12\n",
      "960/960 [==============================] - 7s 7ms/step - loss: 2.3020 - accuracy: 0.1126 - val_loss: 2.3039 - val_accuracy: 0.1060\n",
      "Epoch 11/12\n",
      "960/960 [==============================] - 7s 7ms/step - loss: 2.3020 - accuracy: 0.1124 - val_loss: 2.3030 - val_accuracy: 0.1060\n",
      "Epoch 12/12\n",
      "960/960 [==============================] - 7s 7ms/step - loss: 2.3021 - accuracy: 0.1115 - val_loss: 2.3038 - val_accuracy: 0.1060\n"
     ]
    }
   ],
   "source": [
    "mnist_cnn_model_history = mnist_cnn_model.fit(X_train , y_train , epochs=12  , batch_size = 50 , validation_split = 0.2 , verbose = 1)"
   ]
  },
  {
   "cell_type": "code",
   "execution_count": 39,
   "metadata": {
    "colab": {
     "base_uri": "https://localhost:8080/"
    },
    "id": "9CvS9uwgxsfM",
    "outputId": "32ecdc96-4575-4fa5-a023-f06619df6367"
   },
   "outputs": [
    {
     "name": "stdout",
     "output_type": "stream",
     "text": [
      "모델 저장\n",
      "INFO:tensorflow:Assets written to: model-case.h12\\assets\n"
     ]
    }
   ],
   "source": [
    "print('모델 저장')\n",
    "mnist_cnn_model.save('model-case.h12')"
   ]
  },
  {
   "cell_type": "code",
   "execution_count": 40,
   "metadata": {
    "id": "PVj73bSYxsiB"
   },
   "outputs": [
    {
     "name": "stdout",
     "output_type": "stream",
     "text": [
      "모델 복원\n",
      "Model: \"sequential_2\"\n",
      "_________________________________________________________________\n",
      " Layer (type)                Output Shape              Param #   \n",
      "=================================================================\n",
      " conv2d_2 (Conv2D)           (None, 28, 28, 32)        320       \n",
      "                                                                 \n",
      " max_pooling2d_1 (MaxPooling  (None, 14, 14, 32)       0         \n",
      " 2D)                                                             \n",
      "                                                                 \n",
      " conv2d_3 (Conv2D)           (None, 14, 14, 64)        18496     \n",
      "                                                                 \n",
      " max_pooling2d_2 (MaxPooling  (None, 7, 7, 64)         0         \n",
      " 2D)                                                             \n",
      "                                                                 \n",
      " conv2d_4 (Conv2D)           (None, 7, 7, 64)          36928     \n",
      "                                                                 \n",
      " max_pooling2d_3 (MaxPooling  (None, 4, 4, 64)         0         \n",
      " 2D)                                                             \n",
      "                                                                 \n",
      " flatten_1 (Flatten)         (None, 1024)              0         \n",
      "                                                                 \n",
      " dense_2 (Dense)             (None, 512)               524800    \n",
      "                                                                 \n",
      " activation (Activation)     (None, 512)               0         \n",
      "                                                                 \n",
      " dense_3 (Dense)             (None, 256)               131328    \n",
      "                                                                 \n",
      " activation_1 (Activation)   (None, 256)               0         \n",
      "                                                                 \n",
      " dense_4 (Dense)             (None, 128)               32896     \n",
      "                                                                 \n",
      " activation_2 (Activation)   (None, 128)               0         \n",
      "                                                                 \n",
      " dense_5 (Dense)             (None, 64)                8256      \n",
      "                                                                 \n",
      " activation_3 (Activation)   (None, 64)                0         \n",
      "                                                                 \n",
      " dense_6 (Dense)             (None, 10)                650       \n",
      "                                                                 \n",
      " activation_4 (Activation)   (None, 10)                0         \n",
      "                                                                 \n",
      "=================================================================\n",
      "Total params: 753,674\n",
      "Trainable params: 753,674\n",
      "Non-trainable params: 0\n",
      "_________________________________________________________________\n"
     ]
    }
   ],
   "source": [
    "print('모델 복원')\n",
    "loaded_model = load_model('model-case.h12')\n",
    "loaded_model.summary()"
   ]
  },
  {
   "cell_type": "code",
   "execution_count": 41,
   "metadata": {
    "colab": {
     "base_uri": "https://localhost:8080/"
    },
    "id": "weu8YCTAxskx",
    "outputId": "23336437-d562-4a42-df5a-2f8849064173"
   },
   "outputs": [
    {
     "name": "stdout",
     "output_type": "stream",
     "text": [
      "313/313 [==============================] - 1s 4ms/step - loss: 2.3023 - accuracy: 0.1135\n",
      "loss -  2.3023340702056885\n",
      "acc  -  0.11349999904632568\n"
     ]
    }
   ],
   "source": [
    "loss , acc = loaded_model.evaluate(X_test , y_test)\n",
    "print('loss - ' , loss)\n",
    "print('acc  - ' , acc)"
   ]
  },
  {
   "cell_type": "markdown",
   "metadata": {
    "id": "OFMRhi4_NJp3"
   },
   "source": [
    "#### 이미지 분류 (horse-or-human)"
   ]
  },
  {
   "cell_type": "code",
   "execution_count": 42,
   "metadata": {
    "colab": {
     "base_uri": "https://localhost:8080/"
    },
    "id": "Pt3cCzgeNSsJ",
    "outputId": "8458e90a-23eb-4224-8a7f-c0eafb5fd2e3"
   },
   "outputs": [
    {
     "name": "stdout",
     "output_type": "stream",
     "text": [
      "데이터 세트 경로 - \n",
      "파일 이름 리스트 - \n"
     ]
    }
   ],
   "source": [
    "import os \n",
    "\n",
    "print('데이터 세트 경로 - ') \n",
    "train_horse_dir = 'C:/Users/crid2/ml-data/horse-or-human/horses'\n",
    "train_human_dir = 'C:/Users/crid2/ml-data/horse-or-human/humans'\n",
    "\n",
    "print('파일 이름 리스트 - ')\n",
    "\n",
    "train_horse_fileName  = os.listdir(train_horse_dir)\n",
    "train_human_fileName  = os.listdir(train_human_dir)"
   ]
  },
  {
   "cell_type": "code",
   "execution_count": 43,
   "metadata": {
    "id": "q5KWwmuBNNFP"
   },
   "outputs": [
    {
     "data": {
      "text/plain": [
       "['horse01-0.png',\n",
       " 'horse01-1.png',\n",
       " 'horse01-2.png',\n",
       " 'horse01-3.png',\n",
       " 'horse01-4.png',\n",
       " 'horse01-5.png',\n",
       " 'horse01-6.png',\n",
       " 'horse01-7.png',\n",
       " 'horse01-8.png',\n",
       " 'horse01-9.png']"
      ]
     },
     "execution_count": 43,
     "metadata": {},
     "output_type": "execute_result"
    }
   ],
   "source": [
    "train_horse_fileName[:10]"
   ]
  },
  {
   "cell_type": "code",
   "execution_count": 44,
   "metadata": {
    "id": "1zsKpR5INL3L"
   },
   "outputs": [
    {
     "data": {
      "text/plain": [
       "['human01-00.png',\n",
       " 'human01-01.png',\n",
       " 'human01-02.png',\n",
       " 'human01-03.png',\n",
       " 'human01-04.png',\n",
       " 'human01-05.png',\n",
       " 'human01-06.png',\n",
       " 'human01-07.png',\n",
       " 'human01-08.png',\n",
       " 'human01-09.png']"
      ]
     },
     "execution_count": 44,
     "metadata": {},
     "output_type": "execute_result"
    }
   ],
   "source": [
    "train_human_fileName[:10]"
   ]
  },
  {
   "cell_type": "code",
   "execution_count": 45,
   "metadata": {
    "colab": {
     "base_uri": "https://localhost:8080/"
    },
    "id": "xxeIrLCPxsnU",
    "outputId": "de3f395e-c251-4fc3-d3c4-b0022ffb9200"
   },
   "outputs": [
    {
     "name": "stdout",
     "output_type": "stream",
     "text": [
      "총 이미지 갯수 - \n",
      "horse len -  500\n",
      "horse len -  527\n"
     ]
    }
   ],
   "source": [
    "print('총 이미지 갯수 - ')\n",
    "print('horse len - ' , len(train_horse_fileName))\n",
    "print('horse len - ' , len(train_human_fileName))"
   ]
  },
  {
   "cell_type": "code",
   "execution_count": 47,
   "metadata": {
    "colab": {
     "base_uri": "https://localhost:8080/"
    },
    "id": "fzN1bpI5xsp8",
    "outputId": "713b8580-89dd-4a5e-c5e8-0cdd460764b4"
   },
   "outputs": [
    {
     "name": "stdout",
     "output_type": "stream",
     "text": [
      "Found 1027 images belonging to 2 classes.\n"
     ]
    }
   ],
   "source": [
    "train_img_generator = ImageDataGenerator(rescale=1/255)\n",
    "train_generator = train_img_generator.flow_from_directory(\n",
    "    'C:/Users/crid2/ml-data/horse-or-human' , \n",
    "    target_size = (300, 300) , \n",
    "    batch_size  = 128 ,\n",
    "    class_mode = 'binary'\n",
    ")"
   ]
  },
  {
   "cell_type": "code",
   "execution_count": 48,
   "metadata": {
    "id": "7IFY91JONN3A"
   },
   "outputs": [],
   "source": [
    "def img_model() :\n",
    "  img_model = Sequential()\n",
    "\n",
    "  img_model.add( Conv2D(input_shape = (300, 300, 3) , filters = 16 , kernel_size = (3,3) , strides = (1,1) , padding = 'valid') )\n",
    "  img_model.add( Activation('relu'))\n",
    "  img_model.add( MaxPooling2D(pool_size = (2,2) , padding = 'valid' ) )\n",
    "  img_model.add( Dropout(0.25) )\n",
    "      \n",
    "  img_model.add( Conv2D(filters = 32 , kernel_size = (3,3) , strides = (1,1) , padding = 'valid') )\n",
    "  img_model.add( Activation('relu'))\n",
    "  img_model.add( MaxPooling2D(pool_size = (2,2) , padding = 'valid' ) )\n",
    "  img_model.add( Dropout(0.25) )\n",
    "\n",
    "  img_model.add( Conv2D(filters = 64 , kernel_size = (3,3) , strides = (1,1) , padding = 'valid') )\n",
    "  img_model.add( Activation('relu'))\n",
    "  img_model.add( MaxPooling2D(pool_size = (2,2) , padding = 'valid' ) )\n",
    "  img_model.add( Dropout(0.25) )\n",
    "\n",
    "  img_model.add( Conv2D(filters = 64 , kernel_size = (3,3) , strides = (1,1) , padding = 'valid') )\n",
    "  img_model.add( Activation('relu'))\n",
    "  img_model.add( MaxPooling2D(pool_size = (2,2) , padding = 'valid' ) )\n",
    "  img_model.add( Dropout(0.25) )\n",
    "\n",
    "  img_model.add( Flatten() )\n",
    "  img_model.add( Dense(units = 512) )\n",
    "  img_model.add( Activation('relu') )\n",
    "  img_model.add( Dropout(0.25) )\n",
    "  \n",
    "  img_model.add( Dense(units = 1) )\n",
    "  img_model.add( Activation('sigmoid') )\n",
    "\n",
    "  return img_model \n"
   ]
  },
  {
   "cell_type": "code",
   "execution_count": 49,
   "metadata": {
    "id": "UjJxE80FNN6Q"
   },
   "outputs": [
    {
     "name": "stdout",
     "output_type": "stream",
     "text": [
      "Model: \"sequential_3\"\n",
      "_________________________________________________________________\n",
      " Layer (type)                Output Shape              Param #   \n",
      "=================================================================\n",
      " conv2d_5 (Conv2D)           (None, 298, 298, 16)      448       \n",
      "                                                                 \n",
      " activation_5 (Activation)   (None, 298, 298, 16)      0         \n",
      "                                                                 \n",
      " max_pooling2d_4 (MaxPooling  (None, 149, 149, 16)     0         \n",
      " 2D)                                                             \n",
      "                                                                 \n",
      " dropout (Dropout)           (None, 149, 149, 16)      0         \n",
      "                                                                 \n",
      " conv2d_6 (Conv2D)           (None, 147, 147, 32)      4640      \n",
      "                                                                 \n",
      " activation_6 (Activation)   (None, 147, 147, 32)      0         \n",
      "                                                                 \n",
      " max_pooling2d_5 (MaxPooling  (None, 73, 73, 32)       0         \n",
      " 2D)                                                             \n",
      "                                                                 \n",
      " dropout_1 (Dropout)         (None, 73, 73, 32)        0         \n",
      "                                                                 \n",
      " conv2d_7 (Conv2D)           (None, 71, 71, 64)        18496     \n",
      "                                                                 \n",
      " activation_7 (Activation)   (None, 71, 71, 64)        0         \n",
      "                                                                 \n",
      " max_pooling2d_6 (MaxPooling  (None, 35, 35, 64)       0         \n",
      " 2D)                                                             \n",
      "                                                                 \n",
      " dropout_2 (Dropout)         (None, 35, 35, 64)        0         \n",
      "                                                                 \n",
      " conv2d_8 (Conv2D)           (None, 33, 33, 64)        36928     \n",
      "                                                                 \n",
      " activation_8 (Activation)   (None, 33, 33, 64)        0         \n",
      "                                                                 \n",
      " max_pooling2d_7 (MaxPooling  (None, 16, 16, 64)       0         \n",
      " 2D)                                                             \n",
      "                                                                 \n",
      " dropout_3 (Dropout)         (None, 16, 16, 64)        0         \n",
      "                                                                 \n",
      " flatten_2 (Flatten)         (None, 16384)             0         \n",
      "                                                                 \n",
      " dense_7 (Dense)             (None, 512)               8389120   \n",
      "                                                                 \n",
      " activation_9 (Activation)   (None, 512)               0         \n",
      "                                                                 \n",
      " dropout_4 (Dropout)         (None, 512)               0         \n",
      "                                                                 \n",
      " dense_8 (Dense)             (None, 1)                 513       \n",
      "                                                                 \n",
      " activation_10 (Activation)  (None, 1)                 0         \n",
      "                                                                 \n",
      "=================================================================\n",
      "Total params: 8,450,145\n",
      "Trainable params: 8,450,145\n",
      "Non-trainable params: 0\n",
      "_________________________________________________________________\n"
     ]
    }
   ],
   "source": [
    "model = img_model()\n",
    "model.summary()"
   ]
  },
  {
   "cell_type": "code",
   "execution_count": 50,
   "metadata": {
    "colab": {
     "base_uri": "https://localhost:8080/"
    },
    "id": "j9jvrJt1NN85",
    "outputId": "09c820c9-24b0-40e6-b266-76cb1b771ec9"
   },
   "outputs": [
    {
     "name": "stderr",
     "output_type": "stream",
     "text": [
      "C:\\Users\\crid2\\anaconda3\\lib\\site-packages\\keras\\optimizer_v2\\rmsprop.py:130: UserWarning: The `lr` argument is deprecated, use `learning_rate` instead.\n",
      "  super(RMSprop, self).__init__(name, **kwargs)\n"
     ]
    }
   ],
   "source": [
    "model.compile(optimizer = RMSprop(lr = 0.001), \n",
    "                      loss= 'binary_crossentropy' , \n",
    "                      metrics=['accuracy'] ) "
   ]
  },
  {
   "cell_type": "code",
   "execution_count": null,
   "metadata": {
    "colab": {
     "base_uri": "https://localhost:8080/"
    },
    "id": "eMWaS4ehNN_w",
    "outputId": "442d6aeb-9ced-47cc-92b4-793927f5c28c"
   },
   "outputs": [
    {
     "name": "stdout",
     "output_type": "stream",
     "text": [
      "Epoch 1/15\n"
     ]
    }
   ],
   "source": [
    "model_history = model.fit(train_generator , epochs = 15 , verbose = 1 , steps_per_epoch = 8 )\n"
   ]
  },
  {
   "cell_type": "code",
   "execution_count": null,
   "metadata": {
    "colab": {
     "base_uri": "https://localhost:8080/",
     "height": 189,
     "resources": {
      "http://localhost:8080/nbextensions/google.colab/files.js": {
       "data": "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",
       "headers": [
        [
         "content-type",
         "application/javascript"
        ]
       ],
       "ok": true,
       "status": 200,
       "status_text": ""
      }
     }
    },
    "id": "544We8nzNOCV",
    "outputId": "0eb61693-41d5-4846-fd84-b4377a86fcbc"
   },
   "outputs": [],
   "source": [
    "from google.colab import files\n",
    "\n",
    "upload_img = files.upload()\n",
    "print(upload_img)\n",
    "print(upload_img.keys())\n",
    "\n",
    "for fn in upload_img.keys() :\n",
    "  print('file name - ' , fn )\n",
    "  path = '/content/'+fn\n",
    "  img = image.load_img(path , target_size = (300, 300))\n",
    "  x   = image.img_to_array(img) \n",
    "  x   = np.expand_dims(x , axis = 0 ) \n",
    "  image_ = np.vstack([x])\n",
    "\n",
    "  classes = model.predict(image_ , batch_size = 10 ) \n",
    "  print('pred - ' , classes[0])\n",
    "print('예측하기 - ')\n",
    "\n"
   ]
  },
  {
   "cell_type": "markdown",
   "metadata": {
    "id": "f-HuYXPueh7s"
   },
   "source": [
    "#### 고양이 vs 개 이미지 분류 [실습]"
   ]
  },
  {
   "cell_type": "code",
   "execution_count": null,
   "metadata": {
    "colab": {
     "base_uri": "https://localhost:8080/"
    },
    "id": "VcZY4jeWNOFT",
    "outputId": "cd994099-02ba-4b1e-940b-30a515f08e6c"
   },
   "outputs": [],
   "source": [
    "!wget --no-check-certificate \\\n",
    "https://storage.googleapis.com/mledu-datasets/cats_and_dogs_filtered.zip \\\n",
    "-O /tmp/cats_and_dogs_filtered.zip"
   ]
  },
  {
   "cell_type": "code",
   "execution_count": null,
   "metadata": {
    "id": "ZsxizOJuNOIB"
   },
   "outputs": [],
   "source": [
    "import os\n",
    "import zipfile\n",
    "\n",
    "path = '/tmp/cats_and_dogs_filtered.zip' \n",
    "zip  = zipfile.ZipFile(path , 'r')\n",
    "\n",
    "zip.extractall('/tmp')\n",
    "zip.close()"
   ]
  },
  {
   "cell_type": "code",
   "execution_count": null,
   "metadata": {
    "id": "BjVPy2SGNOLQ"
   },
   "outputs": [],
   "source": []
  }
 ],
 "metadata": {
  "accelerator": "GPU",
  "colab": {
   "collapsed_sections": [],
   "name": "2022_ai_tensorflow[03].ipynb",
   "provenance": []
  },
  "kernelspec": {
   "display_name": "Python 3 (ipykernel)",
   "language": "python",
   "name": "python3"
  },
  "language_info": {
   "codemirror_mode": {
    "name": "ipython",
    "version": 3
   },
   "file_extension": ".py",
   "mimetype": "text/x-python",
   "name": "python",
   "nbconvert_exporter": "python",
   "pygments_lexer": "ipython3",
   "version": "3.9.7"
  },
  "varInspector": {
   "cols": {
    "lenName": 16,
    "lenType": 16,
    "lenVar": 40
   },
   "kernels_config": {
    "python": {
     "delete_cmd_postfix": "",
     "delete_cmd_prefix": "del ",
     "library": "var_list.py",
     "varRefreshCmd": "print(var_dic_list())"
    },
    "r": {
     "delete_cmd_postfix": ") ",
     "delete_cmd_prefix": "rm(",
     "library": "var_list.r",
     "varRefreshCmd": "cat(var_dic_list()) "
    }
   },
   "types_to_exclude": [
    "module",
    "function",
    "builtin_function_or_method",
    "instance",
    "_Feature"
   ],
   "window_display": false
  }
 },
 "nbformat": 4,
 "nbformat_minor": 1
}
