{
 "cells": [
  {
   "cell_type": "code",
   "execution_count": null,
   "id": "b26bca28",
   "metadata": {},
   "outputs": [],
   "source": [
    "from tensorflow.keras.datasets   import boston_housing , mnist , fashion_mnist\n",
    "from tensorflow.keras.models     import Sequential , clone_model , Model , load_model\n",
    "from tensorflow.keras.layers     import Dense , Activation , InputLayer , Flatten , Input , BatchNormalization , Dropout , Embedding\n",
    "\n",
    "# CNN\n",
    "from tensorflow.keras.layers     import Conv2D , MaxPooling2D , AveragePooling2D\n",
    "\n",
    "from tensorflow.keras            import optimizers  \n",
    "from tensorflow.keras.callbacks  import EarlyStopping , ModelCheckpoint , Callback\n",
    "from tensorflow.keras.optimizers import SGD , Adam , RMSprop\n",
    "\n",
    "# 이미지 로드\n",
    "from tensorflow.keras.preprocessing import image\n",
    "from tensorflow.keras.preprocessing.image import ImageDataGenerator \n",
    "\n",
    "# 자연어 처리\n",
    "from tensorflow.keras.preprocessing.text          import Tokenizer\n",
    "from tensorflow.keras.preprocessing.sequence      import pad_sequences\n",
    "\n",
    "from keras.utils.np_utils      import to_categorical\n",
    "\n",
    "from sklearn.datasets          import load_iris , load_breast_cancer , load_digits\n",
    "from sklearn.model_selection   import train_test_split\n",
    "\n",
    "import matplotlib.pyplot as plt\n",
    "\n",
    "import tensorflow as tf\n",
    "import numpy  as np\n",
    "import pandas as pd\n"
   ]
  },
  {
   "cell_type": "code",
   "execution_count": null,
   "id": "f04205fa",
   "metadata": {},
   "outputs": [],
   "source": [
    "train_img_generator = ImageDataGenerator(rescale=1/255,\n",
    "                                        rotation_range=40,\n",
    "                                        width_shift_range=0.2,\n",
    "                                        height_shift_range=0.2,\n",
    "                                        shear_range=0.2,\n",
    "                                        zoom_range=0.2,\n",
    "                                        horizontal_flip=True,\n",
    "                                        fill_mode='nearest')\n",
    "train_generator = train_img_generator.flow_from_directory(\n",
    "    'C:/Users/crid2/ml-data/beertest01/train' , \n",
    "    target_size = (244, 244) , \n",
    "    batch_size  = 20 ,\n",
    "    class_mode = 'categorical'\n",
    ")"
   ]
  },
  {
   "cell_type": "code",
   "execution_count": 3,
   "id": "0beea814",
   "metadata": {},
   "outputs": [
    {
     "name": "stdout",
     "output_type": "stream",
     "text": [
      "Found 48 images belonging to 3 classes.\n"
     ]
    }
   ],
   "source": [
    "test_img_generator = ImageDataGenerator(rescale=1/255,\n",
    "                                        rotation_range=40,\n",
    "                                        width_shift_range=0.2,\n",
    "                                        height_shift_range=0.2,\n",
    "                                        shear_range=0.2,\n",
    "                                        zoom_range=0.2,\n",
    "                                        horizontal_flip=True,\n",
    "                                        fill_mode='nearest')\n",
    "test_generator = test_img_generator.flow_from_directory(\n",
    "    'C:/Users/crid2/ml-data/beertest01/test' , \n",
    "    target_size = (244, 244) , \n",
    "    batch_size  = 20 ,\n",
    "    class_mode = 'categorical'\n",
    ")"
   ]
  },
  {
   "cell_type": "code",
   "execution_count": null,
   "id": "4237852c",
   "metadata": {},
   "outputs": [],
   "source": []
  },
  {
   "cell_type": "code",
   "execution_count": 4,
   "id": "a88b6467",
   "metadata": {},
   "outputs": [],
   "source": [
    "def img_model() :\n",
    "  img_model = Sequential()\n",
    "\n",
    "  img_model.add( Conv2D(input_shape = (244, 244, 3) , filters = 16 , kernel_size = (3,3) , strides = (1,1) , padding = 'valid') )\n",
    "  img_model.add( Activation('relu'))\n",
    "  img_model.add( MaxPooling2D(pool_size = (2,2) , padding = 'valid' ) )\n",
    "  img_model.add( Dropout(0.25) )\n",
    "      \n",
    "  img_model.add( Conv2D(filters = 32 , kernel_size = (3,3) , strides = (1,1) , padding = 'valid') )\n",
    "  img_model.add( Activation('relu'))\n",
    "  img_model.add( MaxPooling2D(pool_size = (2,2) , padding = 'valid' ) )\n",
    "  img_model.add( Dropout(0.25) )\n",
    "\n",
    "  img_model.add( Conv2D(filters = 64 , kernel_size = (3,3) , strides = (1,1) , padding = 'valid') )\n",
    "  img_model.add( Activation('relu'))\n",
    "  img_model.add( MaxPooling2D(pool_size = (2,2) , padding = 'valid' ) )\n",
    "  img_model.add( Dropout(0.25) )\n",
    "\n",
    "  img_model.add( Conv2D(filters = 64 , kernel_size = (3,3) , strides = (1,1) , padding = 'valid') )\n",
    "  img_model.add( Activation('relu'))\n",
    "  img_model.add( MaxPooling2D(pool_size = (2,2) , padding = 'valid' ) )\n",
    "  img_model.add( Dropout(0.25) )\n",
    "\n",
    "  img_model.add( Flatten() )\n",
    "  img_model.add( Dense(units = 512) )\n",
    "  img_model.add( Activation('relu') )\n",
    "  img_model.add( Dropout(0.25) )\n",
    "  \n",
    "  img_model.add( Dense(units = 1) )\n",
    "  img_model.add( Activation('softmax') )\n",
    "\n",
    "  return img_model \n"
   ]
  },
  {
   "cell_type": "code",
   "execution_count": 5,
   "id": "b77fc1ae",
   "metadata": {},
   "outputs": [
    {
     "name": "stdout",
     "output_type": "stream",
     "text": [
      "Model: \"sequential\"\n",
      "_________________________________________________________________\n",
      " Layer (type)                Output Shape              Param #   \n",
      "=================================================================\n",
      " conv2d (Conv2D)             (None, 242, 242, 16)      448       \n",
      "                                                                 \n",
      " activation (Activation)     (None, 242, 242, 16)      0         \n",
      "                                                                 \n",
      " max_pooling2d (MaxPooling2D  (None, 121, 121, 16)     0         \n",
      " )                                                               \n",
      "                                                                 \n",
      " dropout (Dropout)           (None, 121, 121, 16)      0         \n",
      "                                                                 \n",
      " conv2d_1 (Conv2D)           (None, 119, 119, 32)      4640      \n",
      "                                                                 \n",
      " activation_1 (Activation)   (None, 119, 119, 32)      0         \n",
      "                                                                 \n",
      " max_pooling2d_1 (MaxPooling  (None, 59, 59, 32)       0         \n",
      " 2D)                                                             \n",
      "                                                                 \n",
      " dropout_1 (Dropout)         (None, 59, 59, 32)        0         \n",
      "                                                                 \n",
      " conv2d_2 (Conv2D)           (None, 57, 57, 64)        18496     \n",
      "                                                                 \n",
      " activation_2 (Activation)   (None, 57, 57, 64)        0         \n",
      "                                                                 \n",
      " max_pooling2d_2 (MaxPooling  (None, 28, 28, 64)       0         \n",
      " 2D)                                                             \n",
      "                                                                 \n",
      " dropout_2 (Dropout)         (None, 28, 28, 64)        0         \n",
      "                                                                 \n",
      " conv2d_3 (Conv2D)           (None, 26, 26, 64)        36928     \n",
      "                                                                 \n",
      " activation_3 (Activation)   (None, 26, 26, 64)        0         \n",
      "                                                                 \n",
      " max_pooling2d_3 (MaxPooling  (None, 13, 13, 64)       0         \n",
      " 2D)                                                             \n",
      "                                                                 \n",
      " dropout_3 (Dropout)         (None, 13, 13, 64)        0         \n",
      "                                                                 \n",
      " flatten (Flatten)           (None, 10816)             0         \n",
      "                                                                 \n",
      " dense (Dense)               (None, 512)               5538304   \n",
      "                                                                 \n",
      " activation_4 (Activation)   (None, 512)               0         \n",
      "                                                                 \n",
      " dropout_4 (Dropout)         (None, 512)               0         \n",
      "                                                                 \n",
      " dense_1 (Dense)             (None, 1)                 513       \n",
      "                                                                 \n",
      " activation_5 (Activation)   (None, 1)                 0         \n",
      "                                                                 \n",
      "=================================================================\n",
      "Total params: 5,599,329\n",
      "Trainable params: 5,599,329\n",
      "Non-trainable params: 0\n",
      "_________________________________________________________________\n"
     ]
    }
   ],
   "source": [
    "model = img_model()\n",
    "model.summary()"
   ]
  },
  {
   "cell_type": "code",
   "execution_count": 6,
   "id": "7ce8c2bb",
   "metadata": {},
   "outputs": [
    {
     "name": "stderr",
     "output_type": "stream",
     "text": [
      "C:\\Users\\crid2\\anaconda3\\lib\\site-packages\\keras\\optimizer_v2\\rmsprop.py:130: UserWarning: The `lr` argument is deprecated, use `learning_rate` instead.\n",
      "  super(RMSprop, self).__init__(name, **kwargs)\n"
     ]
    }
   ],
   "source": [
    "model.compile(optimizer = RMSprop(lr = 0.001), \n",
    "                      loss= 'categorical_crossentropy' , \n",
    "                      metrics=['accuracy'] ) "
   ]
  },
  {
   "cell_type": "code",
   "execution_count": null,
   "id": "db9b328d",
   "metadata": {},
   "outputs": [
    {
     "name": "stdout",
     "output_type": "stream",
     "text": [
      "Epoch 1/50\n",
      "30/30 [==============================] - 20s 630ms/step - loss: 1.4088 - accuracy: 0.6883 - val_loss: 1.0886 - val_accuracy: 0.6667\n",
      "Epoch 2/50\n",
      "30/30 [==============================] - 16s 534ms/step - loss: 0.7355 - accuracy: 0.7922 - val_loss: 0.9090 - val_accuracy: 0.7500\n",
      "Epoch 3/50\n",
      "30/30 [==============================] - 15s 492ms/step - loss: 0.6054 - accuracy: 0.8072 - val_loss: 0.8149 - val_accuracy: 0.7569\n",
      "Epoch 4/50\n",
      "30/30 [==============================] - 15s 507ms/step - loss: 0.5737 - accuracy: 0.8228 - val_loss: 0.9858 - val_accuracy: 0.6806\n",
      "Epoch 5/50\n",
      "30/30 [==============================] - 16s 547ms/step - loss: 0.5815 - accuracy: 0.8333 - val_loss: 0.6869 - val_accuracy: 0.7778\n",
      "Epoch 6/50\n",
      "30/30 [==============================] - 15s 489ms/step - loss: 0.4219 - accuracy: 0.8983 - val_loss: 0.6770 - val_accuracy: 0.8333\n",
      "Epoch 7/50\n",
      "30/30 [==============================] - 15s 485ms/step - loss: 0.3488 - accuracy: 0.9233 - val_loss: 0.4176 - val_accuracy: 0.9167\n",
      "Epoch 8/50\n",
      "30/30 [==============================] - 15s 485ms/step - loss: 0.4008 - accuracy: 0.9283 - val_loss: 0.4708 - val_accuracy: 0.9097\n",
      "Epoch 9/50\n",
      "30/30 [==============================] - 15s 504ms/step - loss: 0.3697 - accuracy: 0.9333 - val_loss: 0.4169 - val_accuracy: 0.9028\n",
      "Epoch 10/50\n",
      "30/30 [==============================] - 16s 516ms/step - loss: 0.2985 - accuracy: 0.9389 - val_loss: 0.5368 - val_accuracy: 0.9306\n",
      "Epoch 11/50\n",
      "30/30 [==============================] - 16s 527ms/step - loss: 0.2927 - accuracy: 0.9444 - val_loss: 0.3875 - val_accuracy: 0.9444\n",
      "Epoch 12/50\n",
      "30/30 [==============================] - 16s 551ms/step - loss: 0.2345 - accuracy: 0.9567 - val_loss: 0.2048 - val_accuracy: 0.9792\n",
      "Epoch 13/50\n",
      "30/30 [==============================] - 15s 492ms/step - loss: 0.2585 - accuracy: 0.9511 - val_loss: 0.2584 - val_accuracy: 0.9583\n",
      "Epoch 14/50\n",
      "30/30 [==============================] - 15s 489ms/step - loss: 0.1948 - accuracy: 0.9522 - val_loss: 0.2307 - val_accuracy: 0.9653\n",
      "Epoch 15/50\n",
      "30/30 [==============================] - 15s 485ms/step - loss: 0.2062 - accuracy: 0.9622 - val_loss: 0.2656 - val_accuracy: 0.9792\n",
      "Epoch 16/50\n",
      "30/30 [==============================] - 15s 490ms/step - loss: 0.1374 - accuracy: 0.9756 - val_loss: 0.2114 - val_accuracy: 0.9514\n",
      "Epoch 17/50\n",
      "30/30 [==============================] - 15s 503ms/step - loss: 0.1881 - accuracy: 0.9572 - val_loss: 0.1158 - val_accuracy: 1.0000\n",
      "Epoch 18/50\n",
      "30/30 [==============================] - 16s 517ms/step - loss: 0.1900 - accuracy: 0.9711 - val_loss: 0.2689 - val_accuracy: 0.9653\n",
      "Epoch 19/50\n",
      "30/30 [==============================] - 15s 497ms/step - loss: 0.1552 - accuracy: 0.9678 - val_loss: 0.1786 - val_accuracy: 0.9583\n",
      "Epoch 20/50\n",
      "30/30 [==============================] - 15s 501ms/step - loss: 0.1005 - accuracy: 0.9789 - val_loss: 0.1952 - val_accuracy: 0.9306\n",
      "Epoch 21/50\n",
      "30/30 [==============================] - 15s 483ms/step - loss: 0.1265 - accuracy: 0.9700 - val_loss: 0.1004 - val_accuracy: 0.9861\n",
      "Epoch 22/50\n",
      "30/30 [==============================] - 15s 496ms/step - loss: 0.1128 - accuracy: 0.9833 - val_loss: 0.0934 - val_accuracy: 0.9861\n",
      "Epoch 23/50\n",
      "30/30 [==============================] - 15s 507ms/step - loss: 0.1043 - accuracy: 0.9772 - val_loss: 0.1287 - val_accuracy: 1.0000\n",
      "Epoch 24/50\n",
      "30/30 [==============================] - 15s 513ms/step - loss: 0.0813 - accuracy: 0.9828 - val_loss: 0.0752 - val_accuracy: 0.9792\n",
      "Epoch 25/50\n",
      "30/30 [==============================] - 15s 513ms/step - loss: 0.1322 - accuracy: 0.9739 - val_loss: 0.1735 - val_accuracy: 0.9792\n",
      "Epoch 26/50\n",
      "30/30 [==============================] - 16s 509ms/step - loss: 0.1303 - accuracy: 0.9844 - val_loss: 0.1327 - val_accuracy: 0.9792\n",
      "Epoch 27/50\n",
      "30/30 [==============================] - 15s 502ms/step - loss: 0.0752 - accuracy: 0.9844 - val_loss: 0.0387 - val_accuracy: 1.0000\n",
      "Epoch 28/50\n",
      "30/30 [==============================] - 15s 505ms/step - loss: 0.1100 - accuracy: 0.9828 - val_loss: 0.2867 - val_accuracy: 0.9167\n",
      "Epoch 29/50\n",
      "30/30 [==============================] - 15s 491ms/step - loss: 0.1467 - accuracy: 0.9756 - val_loss: 0.1526 - val_accuracy: 0.9722\n",
      "Epoch 30/50\n",
      "30/30 [==============================] - 15s 508ms/step - loss: 0.0620 - accuracy: 0.9883 - val_loss: 0.5299 - val_accuracy: 0.8889\n",
      "Epoch 31/50\n",
      "30/30 [==============================] - 15s 499ms/step - loss: 0.0976 - accuracy: 0.9872 - val_loss: 0.0542 - val_accuracy: 0.9861\n",
      "Epoch 32/50\n",
      "30/30 [==============================] - 15s 488ms/step - loss: 0.1389 - accuracy: 0.9778 - val_loss: 0.2171 - val_accuracy: 0.9514\n",
      "Epoch 33/50\n",
      "30/30 [==============================] - 16s 522ms/step - loss: 0.0816 - accuracy: 0.9844 - val_loss: 0.2145 - val_accuracy: 0.9514\n",
      "Epoch 34/50\n",
      "30/30 [==============================] - 15s 512ms/step - loss: 0.0969 - accuracy: 0.9806 - val_loss: 0.2457 - val_accuracy: 0.9375\n",
      "Epoch 35/50\n",
      "28/30 [===========================>..] - ETA: 1s - loss: 0.1312 - accuracy: 0.9845"
     ]
    }
   ],
   "source": [
    "model_history = model.fit(train_generator , validation_data=test_generator, epochs = 50 ,  verbose = 1 )"
   ]
  },
  {
   "cell_type": "code",
   "execution_count": 1,
   "id": "b7853714",
   "metadata": {},
   "outputs": [
    {
     "name": "stdout",
     "output_type": "stream",
     "text": [
      "모델 저장\n"
     ]
    },
    {
     "ename": "NameError",
     "evalue": "name 'model' is not defined",
     "output_type": "error",
     "traceback": [
      "\u001b[1;31m---------------------------------------------------------------------------\u001b[0m",
      "\u001b[1;31mNameError\u001b[0m                                 Traceback (most recent call last)",
      "\u001b[1;32m~\\AppData\\Local\\Temp/ipykernel_35696/2269192308.py\u001b[0m in \u001b[0;36m<module>\u001b[1;34m\u001b[0m\n\u001b[0;32m      1\u001b[0m \u001b[0mprint\u001b[0m\u001b[1;33m(\u001b[0m\u001b[1;34m'모델 저장'\u001b[0m\u001b[1;33m)\u001b[0m\u001b[1;33m\u001b[0m\u001b[1;33m\u001b[0m\u001b[0m\n\u001b[1;32m----> 2\u001b[1;33m \u001b[0mmodel\u001b[0m\u001b[1;33m.\u001b[0m\u001b[0msave\u001b[0m\u001b[1;33m(\u001b[0m\u001b[1;34m'exampe02-3model-case.h12'\u001b[0m\u001b[1;33m)\u001b[0m\u001b[1;33m\u001b[0m\u001b[1;33m\u001b[0m\u001b[0m\n\u001b[0m",
      "\u001b[1;31mNameError\u001b[0m: name 'model' is not defined"
     ]
    }
   ],
   "source": [
    "print('모델 저장')\n",
    "model.save('exampe02-3model-case.h12')"
   ]
  },
  {
   "cell_type": "code",
   "execution_count": null,
   "id": "33586c8b",
   "metadata": {},
   "outputs": [],
   "source": [
    "with open('C:/Users/crid2/ml-data/trainbeer_model_20220503test.tflite', 'wb') as f:\n",
    "  f.write(tflite_model)\n"
   ]
  },
  {
   "cell_type": "code",
   "execution_count": 2,
   "id": "e1d2ce12",
   "metadata": {},
   "outputs": [
    {
     "ename": "NameError",
     "evalue": "name 'model_history' is not defined",
     "output_type": "error",
     "traceback": [
      "\u001b[1;31m---------------------------------------------------------------------------\u001b[0m",
      "\u001b[1;31mNameError\u001b[0m                                 Traceback (most recent call last)",
      "\u001b[1;32m~\\AppData\\Local\\Temp/ipykernel_35696/2164823695.py\u001b[0m in \u001b[0;36m<module>\u001b[1;34m\u001b[0m\n\u001b[0;32m      1\u001b[0m \u001b[1;32mimport\u001b[0m \u001b[0mmatplotlib\u001b[0m\u001b[1;33m.\u001b[0m\u001b[0mpyplot\u001b[0m \u001b[1;32mas\u001b[0m \u001b[0mplt\u001b[0m\u001b[1;33m\u001b[0m\u001b[1;33m\u001b[0m\u001b[0m\n\u001b[0;32m      2\u001b[0m \u001b[1;33m\u001b[0m\u001b[0m\n\u001b[1;32m----> 3\u001b[1;33m \u001b[0macc\u001b[0m \u001b[1;33m=\u001b[0m \u001b[0mmodel_history\u001b[0m\u001b[1;33m.\u001b[0m\u001b[0mhistory\u001b[0m\u001b[1;33m[\u001b[0m\u001b[1;34m'accuracy'\u001b[0m\u001b[1;33m]\u001b[0m\u001b[1;33m\u001b[0m\u001b[1;33m\u001b[0m\u001b[0m\n\u001b[0m\u001b[0;32m      4\u001b[0m \u001b[0mval_acc\u001b[0m \u001b[1;33m=\u001b[0m \u001b[0mmodel_history\u001b[0m\u001b[1;33m.\u001b[0m\u001b[0mhistory\u001b[0m\u001b[1;33m[\u001b[0m\u001b[1;34m'val_accuracy'\u001b[0m\u001b[1;33m]\u001b[0m\u001b[1;33m\u001b[0m\u001b[1;33m\u001b[0m\u001b[0m\n\u001b[0;32m      5\u001b[0m \u001b[0mloss\u001b[0m \u001b[1;33m=\u001b[0m \u001b[0mmodel_history\u001b[0m\u001b[1;33m.\u001b[0m\u001b[0mhistory\u001b[0m\u001b[1;33m[\u001b[0m\u001b[1;34m'loss'\u001b[0m\u001b[1;33m]\u001b[0m\u001b[1;33m\u001b[0m\u001b[1;33m\u001b[0m\u001b[0m\n",
      "\u001b[1;31mNameError\u001b[0m: name 'model_history' is not defined"
     ]
    }
   ],
   "source": [
    "import matplotlib.pyplot as plt\n",
    "\n",
    "acc = model_history.history['accuracy']\n",
    "val_acc = model_history.history['val_accuracy']\n",
    "loss = model_history.history['loss']\n",
    "val_loss = model_history.history['val_loss']\n",
    "\n",
    "epochs = range(len(acc))\n",
    "\n",
    "plt.plot(epochs, acc, 'bo', label='Training accuracy')\n",
    "plt.plot(epochs, val_acc, 'b', label='Validation accuracy')\n",
    "plt.title('Training and validation accuracy')\n",
    "plt.legend()\n",
    "\n",
    "plt.figure()\n",
    "\n",
    "plt.plot(epochs, loss, 'go', label='Training Loss')\n",
    "plt.plot(epochs, val_loss, 'g', label='Validation Loss')\n",
    "plt.title('Training and validation loss')\n",
    "plt.legend()\n",
    "\n",
    "plt.show()"
   ]
  },
  {
   "cell_type": "code",
   "execution_count": null,
   "id": "09b30a56",
   "metadata": {},
   "outputs": [],
   "source": []
  },
  {
   "cell_type": "code",
   "execution_count": null,
   "id": "797cbdf8",
   "metadata": {},
   "outputs": [],
   "source": []
  },
  {
   "cell_type": "code",
   "execution_count": null,
   "id": "0924cd52",
   "metadata": {},
   "outputs": [],
   "source": []
  }
 ],
 "metadata": {
  "kernelspec": {
   "display_name": "Python 3 (ipykernel)",
   "language": "python",
   "name": "python3"
  },
  "language_info": {
   "codemirror_mode": {
    "name": "ipython",
    "version": 3
   },
   "file_extension": ".py",
   "mimetype": "text/x-python",
   "name": "python",
   "nbconvert_exporter": "python",
   "pygments_lexer": "ipython3",
   "version": "3.9.7"
  },
  "varInspector": {
   "cols": {
    "lenName": 16,
    "lenType": 16,
    "lenVar": 40
   },
   "kernels_config": {
    "python": {
     "delete_cmd_postfix": "",
     "delete_cmd_prefix": "del ",
     "library": "var_list.py",
     "varRefreshCmd": "print(var_dic_list())"
    },
    "r": {
     "delete_cmd_postfix": ") ",
     "delete_cmd_prefix": "rm(",
     "library": "var_list.r",
     "varRefreshCmd": "cat(var_dic_list()) "
    }
   },
   "types_to_exclude": [
    "module",
    "function",
    "builtin_function_or_method",
    "instance",
    "_Feature"
   ],
   "window_display": false
  }
 },
 "nbformat": 4,
 "nbformat_minor": 5
}
