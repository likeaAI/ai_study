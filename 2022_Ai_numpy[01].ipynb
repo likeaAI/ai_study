{
 "cells": [
  {
   "cell_type": "markdown",
   "id": "4d095755",
   "metadata": {},
   "source": [
    "# Numpy 학습\n",
    "\n",
    "#### 학습목표\n",
    "- 배열과 리스트의 차이점\n",
    "- 배열생성 및 다루는 기법\n",
    "- 기술통계함수\n",
    "- 결과에 대한 분석방법\n"
   ]
  },
  {
   "cell_type": "markdown",
   "id": "8537aed4",
   "metadata": {},
   "source": [
    "#### Array\n",
    "- 모든 원소가 같은 자료형이여야 한다\n",
    "- 원소의 갯수를 바꿀 수 없다(resizing X)\n",
    "- 배열의 차원, 크기, 타입(ndim, shape, dtype)"
   ]
  },
  {
   "cell_type": "code",
   "execution_count": 2,
   "id": "50d3286d",
   "metadata": {},
   "outputs": [
    {
     "data": {
      "text/plain": [
       "'1.20.3'"
      ]
     },
     "execution_count": 2,
     "metadata": {},
     "output_type": "execute_result"
    }
   ],
   "source": [
    "import numpy as np\n",
    "np.__version__"
   ]
  },
  {
   "cell_type": "code",
   "execution_count": 33,
   "id": "68c0108a",
   "metadata": {},
   "outputs": [],
   "source": [
    "def aryInfo(ary) :\n",
    "    print('type - ' , type(ary))\n",
    "    print('shape - ' , ary.shape)\n",
    "    print('dimension - ' , ary.ndim)\n",
    "    print('dtype - ' , ary.dtype)\n",
    "    print()\n",
    "    print('data - \\n' , ary)"
   ]
  },
  {
   "cell_type": "code",
   "execution_count": 14,
   "id": "4d109065",
   "metadata": {},
   "outputs": [
    {
     "name": "stdout",
     "output_type": "stream",
     "text": [
      "type -  <class 'numpy.ndarray'>\n",
      "shape -  (10,)\n",
      "dimension -  1\n",
      "dtype -  int32\n",
      "\n",
      "data -  [0 1 2 3 4 5 6 7 8 9]\n"
     ]
    }
   ],
   "source": [
    "oneAry = np.array([0,1,2,3,4,5,6,7,8,9])\n",
    "aryInfo(oneAry)"
   ]
  },
  {
   "cell_type": "markdown",
   "id": "c259f33e",
   "metadata": {},
   "source": [
    "- vectorized operation(벡터화 연산)\n",
    "- 각 원소에 대한 반복연산을 하나의 명령어로 처리하는 것\n",
    "- 비교, 산술, 논리연산을 포함하는 모든 수학연산에 적용됨..."
   ]
  },
  {
   "cell_type": "code",
   "execution_count": 15,
   "id": "5b992475",
   "metadata": {},
   "outputs": [
    {
     "data": {
      "text/plain": [
       "[0, 1, 2, 3, 4, 5, 6, 7, 8, 9, 0, 1, 2, 3, 4, 5, 6, 7, 8, 9]"
      ]
     },
     "execution_count": 15,
     "metadata": {},
     "output_type": "execute_result"
    }
   ],
   "source": [
    "data = [0,1,2,3,4,5,6,7,8,9]\n",
    "data * 2 \n"
   ]
  },
  {
   "cell_type": "code",
   "execution_count": 16,
   "id": "481f726b",
   "metadata": {},
   "outputs": [
    {
     "name": "stdout",
     "output_type": "stream",
     "text": [
      "[0, 2, 4, 6, 8, 10, 12, 14, 16, 18]\n"
     ]
    }
   ],
   "source": [
    "result = [] \n",
    "\n",
    "for d in data :\n",
    "    result.append(d * 2) \n",
    "\n",
    "print(result)"
   ]
  },
  {
   "cell_type": "code",
   "execution_count": 17,
   "id": "45b3214e",
   "metadata": {},
   "outputs": [
    {
     "name": "stdout",
     "output_type": "stream",
     "text": [
      "[0, 2, 4, 6, 8, 10, 12, 14, 16, 18]\n"
     ]
    }
   ],
   "source": [
    "result2 = [d * 2 for d in data]\n",
    "print(result2)"
   ]
  },
  {
   "cell_type": "code",
   "execution_count": 18,
   "id": "417c08ae",
   "metadata": {},
   "outputs": [
    {
     "name": "stdout",
     "output_type": "stream",
     "text": [
      "[ 0  2  4  6  8 10 12 14 16 18]\n"
     ]
    }
   ],
   "source": [
    "result3 = oneAry * 2\n",
    "print(result3)"
   ]
  },
  {
   "cell_type": "code",
   "execution_count": 19,
   "id": "2f06ca58",
   "metadata": {},
   "outputs": [
    {
     "name": "stdout",
     "output_type": "stream",
     "text": [
      "<class 'list'> <class 'list'>\n"
     ]
    }
   ],
   "source": [
    "data01 = [1, 2, 3, 4, 5]\n",
    "data02 = [10, 20, 30, 40, 50] \n",
    "\n",
    "print(type(data01) , type(data02))"
   ]
  },
  {
   "cell_type": "markdown",
   "id": "07ced4ab",
   "metadata": {},
   "source": [
    "- array() 함수를 이용해서 시퀀형을 넘파이의 배열로 타입을 변경할 수 있다"
   ]
  },
  {
   "cell_type": "code",
   "execution_count": 20,
   "id": "e081c04a",
   "metadata": {},
   "outputs": [
    {
     "name": "stdout",
     "output_type": "stream",
     "text": [
      "<class 'numpy.ndarray'> <class 'numpy.ndarray'>\n"
     ]
    }
   ],
   "source": [
    "xAry = np.array(data01)\n",
    "yAry = np.array(data02)\n",
    "\n",
    "print(type(xAry) , type(yAry))"
   ]
  },
  {
   "cell_type": "code",
   "execution_count": 24,
   "id": "5b04e540",
   "metadata": {},
   "outputs": [
    {
     "name": "stdout",
     "output_type": "stream",
     "text": [
      "산술연산 - \n",
      "type -  <class 'numpy.ndarray'>\n",
      "shape -  (5,)\n",
      "dimension -  1\n",
      "dtype -  int32\n",
      "\n",
      "data -  [11 22 33 44 55]\n",
      "\n",
      "type -  <class 'numpy.ndarray'>\n",
      "shape -  (5,)\n",
      "dimension -  1\n",
      "dtype -  int32\n",
      "\n",
      "data -  [12 24 36 48 60]\n"
     ]
    }
   ],
   "source": [
    "print('산술연산 - ')\n",
    "\n",
    "aryInfo(xAry + yAry)\n",
    "\n",
    "print()\n",
    "aryInfo(2 * xAry + yAry)"
   ]
  },
  {
   "cell_type": "code",
   "execution_count": 26,
   "id": "6914c0ae",
   "metadata": {},
   "outputs": [
    {
     "name": "stdout",
     "output_type": "stream",
     "text": [
      "비교 연산 - boolean masking\n",
      "[False  True False False False]\n",
      "\n",
      "type -  <class 'numpy.ndarray'>\n",
      "shape -  (5,)\n",
      "dimension -  1\n",
      "dtype -  bool\n",
      "\n",
      "data -  [False  True False False False]\n"
     ]
    }
   ],
   "source": [
    "print('비교 연산 - boolean masking')\n",
    "\n",
    "print( xAry == 2 )  \n",
    "print()\n",
    "aryInfo(xAry == 2 )"
   ]
  },
  {
   "cell_type": "code",
   "execution_count": 27,
   "id": "ac147d99",
   "metadata": {},
   "outputs": [
    {
     "name": "stdout",
     "output_type": "stream",
     "text": [
      "비교 연산 - boolean masking\n",
      "[False  True  True  True  True]\n",
      "\n",
      "type -  <class 'numpy.ndarray'>\n",
      "shape -  (5,)\n",
      "dimension -  1\n",
      "dtype -  bool\n",
      "\n",
      "data -  [False  True  True  True  True]\n"
     ]
    }
   ],
   "source": [
    "print('비교 연산 - boolean masking')\n",
    "\n",
    "print( yAry > 10 )  \n",
    "print()\n",
    "aryInfo( yAry > 10 )"
   ]
  },
  {
   "cell_type": "code",
   "execution_count": 30,
   "id": "48b44390",
   "metadata": {},
   "outputs": [
    {
     "name": "stdout",
     "output_type": "stream",
     "text": [
      "논리 연산 - \n",
      "[False  True  True  True  True]\n",
      "\n",
      "type -  <class 'numpy.ndarray'>\n",
      "shape -  (5,)\n",
      "dimension -  1\n",
      "dtype -  bool\n",
      "\n",
      "data -  [False  True  True  True  True]\n"
     ]
    }
   ],
   "source": [
    "print('논리 연산 - ')\n",
    "\n",
    "print( (xAry == 2) | (yAry > 10) )  \n",
    "print()\n",
    "aryInfo( (xAry == 2) | (yAry > 10) )"
   ]
  },
  {
   "cell_type": "markdown",
   "id": "e5e87eaa",
   "metadata": {},
   "source": [
    "#### 2차원 배열\n",
    "- N - Dimensional Array\n",
    "- 행렬(matrix)\n",
    "- list of list\n",
    "- list of list of list"
   ]
  },
  {
   "cell_type": "code",
   "execution_count": 39,
   "id": "bba6305e",
   "metadata": {},
   "outputs": [
    {
     "name": "stdout",
     "output_type": "stream",
     "text": [
      "2개의 행과 3개의 열을 갖는 배열을 만든다면 ? - \n",
      "\n",
      "type -  <class 'numpy.ndarray'>\n",
      "shape -  (2, 3)\n",
      "dimension -  2\n",
      "dtype -  float64\n",
      "\n",
      "data - \n",
      " [[1. 2. 3.]\n",
      " [4. 5. 6.]]\n",
      "\n",
      "len() - \n",
      "len() 행의 갯수 -  2\n",
      "len() 행의 요소의 갯수, 즉 열을 의미한다 -   3\n",
      "len() 행의 요소의 갯수, 즉 열을 의미한다 -   3\n"
     ]
    }
   ],
   "source": [
    "print('2개의 행과 3개의 열을 갖는 배열을 만든다면 ? - ')\n",
    "twoAry = np.array([[1,2,3],[4,5,6]] , dtype = np.float64)\n",
    "\n",
    "print()\n",
    "aryInfo(twoAry)\n",
    "\n",
    "print()\n",
    "print('len() - ')\n",
    "print('len() 행의 갯수 - ' ,  len(twoAry))\n",
    "print('len() 행의 요소의 갯수, 즉 열을 의미한다 -  ' , len(twoAry[0]))\n",
    "print('len() 행의 요소의 갯수, 즉 열을 의미한다 -  ' , len(twoAry[1]))\n"
   ]
  },
  {
   "cell_type": "code",
   "execution_count": 45,
   "id": "79e326ca",
   "metadata": {},
   "outputs": [
    {
     "name": "stdout",
     "output_type": "stream",
     "text": [
      "3차원 - 3 * 4 2개의 레이어 - \n",
      "\n",
      "type -  <class 'numpy.ndarray'>\n",
      "shape -  (2, 3, 4)\n",
      "dimension -  3\n",
      "dtype -  int32\n",
      "\n",
      "data - \n",
      " [[[ 1  2  3  4]\n",
      "  [ 5  6  7  8]\n",
      "  [ 9 10 11 12]]\n",
      "\n",
      " [[13 14 15 16]\n",
      "  [17 18 19 20]\n",
      "  [21 22 23 24]]]\n",
      "\n",
      "len() - depth 2\n",
      "len() -  3\n",
      "len() -  3\n",
      "row col -  4\n"
     ]
    }
   ],
   "source": [
    "print('3차원 - 3 * 4 2개의 레이어 - ') \n",
    "threeAry = np.array([ [ [1,2,3,4], [5,6,7,8], [9,10,11,12] ], [ [13,14,15,16], [17,18,19,20], [21,22,23,24] ]])\n",
    "\n",
    "print()\n",
    "aryInfo(threeAry)\n",
    "\n",
    "print()\n",
    "print('len() - depth' , len(threeAry))\n",
    "print('len() - ' , len(threeAry[0]))\n",
    "print('len() - ' , len(threeAry[1]))\n",
    "print('row col - ' , len(threeAry[0][0] )) \n"
   ]
  },
  {
   "cell_type": "markdown",
   "id": "6a759a7d",
   "metadata": {},
   "source": [
    "- 요소의 타입을 변경할 때 사용하는 함수 : astype() "
   ]
  },
  {
   "cell_type": "code",
   "execution_count": 46,
   "id": "3e11098c",
   "metadata": {},
   "outputs": [
    {
     "name": "stdout",
     "output_type": "stream",
     "text": [
      "type -  <class 'numpy.ndarray'>\n",
      "shape -  (2, 3, 4)\n",
      "dimension -  3\n",
      "dtype -  float64\n",
      "\n",
      "data - \n",
      " [[[ 1.  2.  3.  4.]\n",
      "  [ 5.  6.  7.  8.]\n",
      "  [ 9. 10. 11. 12.]]\n",
      "\n",
      " [[13. 14. 15. 16.]\n",
      "  [17. 18. 19. 20.]\n",
      "  [21. 22. 23. 24.]]]\n"
     ]
    }
   ],
   "source": [
    "typeChange = threeAry.astype(np.float64)\n",
    "aryInfo(typeChange)"
   ]
  },
  {
   "cell_type": "markdown",
   "id": "8f8c2d6f",
   "metadata": {},
   "source": [
    "- 배열도 인덱싱과 슬라이싱이 가능하다"
   ]
  },
  {
   "cell_type": "code",
   "execution_count": 47,
   "id": "53d7ebaa",
   "metadata": {},
   "outputs": [
    {
     "name": "stdout",
     "output_type": "stream",
     "text": [
      "type -  <class 'numpy.ndarray'>\n",
      "shape -  (9,)\n",
      "dimension -  1\n",
      "dtype -  int32\n",
      "\n",
      "data - \n",
      " [1 2 3 4 5 6 7 8 9]\n"
     ]
    }
   ],
   "source": [
    "idxAry = np.array([1,2,3,4,5,6,7,8,9]) \n",
    "aryInfo(idxAry)"
   ]
  },
  {
   "cell_type": "code",
   "execution_count": 50,
   "id": "a7ea8930",
   "metadata": {},
   "outputs": [
    {
     "name": "stdout",
     "output_type": "stream",
     "text": [
      "indexing - \n",
      "1\n",
      "2\n"
     ]
    }
   ],
   "source": [
    "print('indexing - ') \n",
    "print(idxAry[0])\n",
    "print(idxAry[1])"
   ]
  },
  {
   "cell_type": "code",
   "execution_count": 62,
   "id": "898fd9c1",
   "metadata": {},
   "outputs": [
    {
     "name": "stdout",
     "output_type": "stream",
     "text": [
      "type -  <class 'numpy.ndarray'>\n",
      "shape -  (2, 3)\n",
      "dimension -  2\n",
      "dtype -  float64\n",
      "\n",
      "data - \n",
      " [[1. 2. 3.]\n",
      " [4. 5. 6.]]\n",
      "\n",
      "첫번째 행의 첫번째 열의 값 - \n",
      "1.0\n",
      "\n",
      "마지막 행의 마지막 열 - \n",
      "6.0\n",
      "\n",
      "첫번째 행의 전체 - \n",
      "[1. 2. 3.]\n",
      "\n",
      "첫번째 행의 두번째부터 끝까지 - \n",
      "[2. 3.]\n",
      "\n",
      "행이 아닌 y 축의 값을 구할 때 - \n",
      "[2. 5.]\n"
     ]
    }
   ],
   "source": [
    "aryInfo(twoAry)\n",
    "\n",
    "print()\n",
    "print('첫번째 행의 첫번째 열의 값 - ') \n",
    "print(twoAry[0 , 0])\n",
    "\n",
    "print()\n",
    "print('마지막 행의 마지막 열 - ')\n",
    "print(twoAry[-1, -1])\n",
    "\n",
    "print()\n",
    "print('첫번째 행의 전체 - ')\n",
    "print(twoAry[0, : ])\n",
    "\n",
    "print()\n",
    "print('첫번째 행의 두번째부터 끝까지 - ')\n",
    "print(twoAry[0 , 1 : ])\n",
    "\n",
    "\n",
    "print()\n",
    "print('행이 아닌 y 축의 값을 구할 때 - ')\n",
    "print(twoAry[ : , 1])\n",
    "\n"
   ]
  },
  {
   "cell_type": "code",
   "execution_count": 66,
   "id": "de6814da",
   "metadata": {},
   "outputs": [
    {
     "name": "stdout",
     "output_type": "stream",
     "text": [
      "type -  <class 'numpy.ndarray'>\n",
      "shape -  (3, 5)\n",
      "dimension -  2\n",
      "dtype -  int32\n",
      "\n",
      "data - \n",
      " [[ 0  1  2  3  4]\n",
      " [ 5  6  7  8  9]\n",
      " [10 11 12 13 14]]\n"
     ]
    }
   ],
   "source": [
    "matrixAry = np.array([[0,1,2,3,4],[5,6,7,8,9],[10,11,12,13,14]])\n",
    "aryInfo(matrixAry)"
   ]
  },
  {
   "cell_type": "code",
   "execution_count": 67,
   "id": "be08c6f4",
   "metadata": {},
   "outputs": [
    {
     "data": {
      "text/plain": [
       "'\\n요구사항 구현 [실습] - \\n이 행렬에서 값 7 을 인덱싱한다.\\n이 행렬에서 값 14 을 인덱싱한다.\\n이 행렬에서 배열 [6, 7] 을 슬라이싱한다.\\n이 행렬에서 배열 [7, 12] 을 슬라이싱한다.\\n이 행렬에서 배열 [[3, 4], [8, 9]] 을 슬라이싱한다.\\n'"
      ]
     },
     "execution_count": 67,
     "metadata": {},
     "output_type": "execute_result"
    }
   ],
   "source": [
    "'''\n",
    "요구사항 구현 [실습] - \n",
    "이 행렬에서 값 7 을 인덱싱한다.\n",
    "이 행렬에서 값 14 을 인덱싱한다.\n",
    "이 행렬에서 배열 [6, 7] 을 슬라이싱한다.\n",
    "이 행렬에서 배열 [7, 12] 을 슬라이싱한다.\n",
    "이 행렬에서 배열 [[3, 4], [8, 9]] 을 슬라이싱한다.\n",
    "'''"
   ]
  },
  {
   "cell_type": "code",
   "execution_count": 68,
   "id": "d236677a",
   "metadata": {},
   "outputs": [
    {
     "name": "stdout",
     "output_type": "stream",
     "text": [
      "\n",
      "이 행렬에서 값 7 을 인덱싱한다. -  7\n",
      "이 행렬에서 값 14 을 인덱싱한다. -  14\n",
      "이 행렬에서 배열 [6, 7] 을 슬라이싱한다. -  [6 7] <class 'numpy.ndarray'>\n",
      "이 행렬에서 배열 [7, 12] 을 슬라이싱한다. -  [ 7 12]\n",
      "이 행렬에서 배열 [[3, 4], [8, 9]] 을 슬라이싱한다. -  [[3 4]\n",
      " [8 9]] <class 'numpy.ndarray'> 2\n"
     ]
    }
   ],
   "source": [
    "print()\n",
    "print('이 행렬에서 값 7 을 인덱싱한다. - ' , matrixAry[ 1 , 2 ])\n",
    "print('이 행렬에서 값 14 을 인덱싱한다. - ', matrixAry[ -1 , -1 ])\n",
    "print('이 행렬에서 배열 [6, 7] 을 슬라이싱한다. - ' , matrixAry[ 1 , 1:3 ] , type(matrixAry[ 1 , 1:3 ]))\n",
    "print('이 행렬에서 배열 [7, 12] 을 슬라이싱한다. - ', matrixAry[ 1:3 , 2 ])\n",
    "print('이 행렬에서 배열 [[3, 4], [8, 9]] 을 슬라이싱한다. - ' ,   matrixAry[ 0:2 , 3:5 ] , \n",
    "                                                                  type(matrixAry[ 0:2 , 3:5 ]) , \n",
    "                                                                  matrixAry[ 0:2 , 3:5 ].ndim)"
   ]
  },
  {
   "cell_type": "markdown",
   "id": "fac6f676",
   "metadata": {},
   "source": [
    "#### fancy indexing\n",
    "\n",
    "- boolean indexing\n",
    "- 정수배열 indexing"
   ]
  },
  {
   "cell_type": "code",
   "execution_count": 70,
   "id": "ac4df430",
   "metadata": {},
   "outputs": [
    {
     "name": "stdout",
     "output_type": "stream",
     "text": [
      "type -  <class 'numpy.ndarray'>\n",
      "shape -  (10,)\n",
      "dimension -  1\n",
      "dtype -  int32\n",
      "\n",
      "data - \n",
      " [0 1 2 3 4 5 6 7 8 9]\n"
     ]
    }
   ],
   "source": [
    "ary = np.array([0,1,2,3,4,5,6,7,8,9])\n",
    "aryInfo(ary)"
   ]
  },
  {
   "cell_type": "code",
   "execution_count": 78,
   "id": "c9b86840",
   "metadata": {},
   "outputs": [
    {
     "name": "stdout",
     "output_type": "stream",
     "text": [
      "짝수의 원소를 골라내고 싶다면 ? - \n",
      "[0 2 4 6 8]\n",
      "\n",
      "[0 2 4 6 8]\n",
      "정수배열 인덱싱으로 구현한다면 ? \n",
      "\n",
      "[0 2 4 6 8]\n",
      "[1 3 5 7 9]\n"
     ]
    }
   ],
   "source": [
    "print('짝수의 원소를 골라내고 싶다면 ? - ') \n",
    "\n",
    "# print( ary%2 == 0 )\n",
    "idx = np.array([ True, False,  True, False,  True, False,  True, False,  True, False]) \n",
    "print( ary[idx] )\n",
    "\n",
    "print()\n",
    "print( ary[ ary%2 == 0 ] )\n",
    "\n",
    "print('정수배열 인덱싱으로 구현한다면 ? ')\n",
    "\n",
    "oddIdx  = np.array([0, 2, 4, 6, 8]) \n",
    "evenIdx = np.array([1, 3, 5, 7, 9]) \n",
    "print()\n",
    "print( ary[oddIdx] ) \n",
    "print( ary[evenIdx] ) \n"
   ]
  },
  {
   "cell_type": "code",
   "execution_count": 79,
   "id": "42475734",
   "metadata": {},
   "outputs": [
    {
     "data": {
      "text/plain": [
       "array([0, 1, 0, 1, 0, 1, 0, 1, 0, 1], dtype=int32)"
      ]
     },
     "execution_count": 79,
     "metadata": {},
     "output_type": "execute_result"
    }
   ],
   "source": [
    "ary % 2 "
   ]
  },
  {
   "cell_type": "code",
   "execution_count": 86,
   "id": "678b0100",
   "metadata": {},
   "outputs": [
    {
     "name": "stdout",
     "output_type": "stream",
     "text": [
      "type -  <class 'numpy.ndarray'>\n",
      "shape -  (20,)\n",
      "dimension -  1\n",
      "dtype -  int32\n",
      "\n",
      "data - \n",
      " [ 1  2  3  4  5  6  7  8  9 10 11 12 13 14 15 16 17 18 19 20]\n",
      "\n",
      "3의 배수 출력 -  [ 3  6  9 12 15 18]\n",
      "4로 나누면 1이 남는 수를 출력 -  [ 1  5  9 13 17]\n",
      "3의 배수이고 4로 나누면 1이 남는 수를 출력 -  [9]\n"
     ]
    }
   ],
   "source": [
    "ary = np.array([1, 2, 3, 4, 5, 6, 7, 8, 9, 10, 11, 12, 13, 14, 15, 16, 17, 18, 19, 20])\n",
    "aryInfo(ary)\n",
    "\n",
    "print()\n",
    "print('3의 배수 출력 - ' , ary[ ary%3 == 0] )\n",
    "print('4로 나누면 1이 남는 수를 출력 - ' , ary[ ary%4 == 1])\n",
    "print('3의 배수이고 4로 나누면 1이 남는 수를 출력 - ' , ary[ (ary%3 == 0) & (ary%4 == 1) ])"
   ]
  },
  {
   "cell_type": "markdown",
   "id": "727abced",
   "metadata": {},
   "source": [
    "- dtype 지정할 자료형은 접두어\n",
    "- np.float64 -> 'f' \n",
    "- np.int32 -> 'i'\n",
    "- 문자열 -> 'U'\n"
   ]
  },
  {
   "cell_type": "code",
   "execution_count": 90,
   "id": "7579a450",
   "metadata": {},
   "outputs": [
    {
     "name": "stdout",
     "output_type": "stream",
     "text": [
      "type -  <class 'numpy.ndarray'>\n",
      "shape -  (3,)\n",
      "dimension -  1\n",
      "dtype -  int32\n",
      "\n",
      "data - \n",
      " [1 2 3]\n"
     ]
    }
   ],
   "source": [
    "ary = np.array([1,2,3] , dtype='i')\n",
    "aryInfo(ary)"
   ]
  },
  {
   "cell_type": "markdown",
   "id": "cf33addf",
   "metadata": {},
   "source": [
    "- arange()"
   ]
  },
  {
   "cell_type": "code",
   "execution_count": 95,
   "id": "8679c168",
   "metadata": {},
   "outputs": [
    {
     "name": "stdout",
     "output_type": "stream",
     "text": [
      "type -  <class 'numpy.ndarray'>\n",
      "shape -  (3, 4)\n",
      "dimension -  2\n",
      "dtype -  int32\n",
      "\n",
      "data - \n",
      " [[ 0  1  2  3]\n",
      " [ 4  5  6  7]\n",
      " [ 8  9 10 11]]\n"
     ]
    }
   ],
   "source": [
    "ary = np.arange(0, 12, 1).reshape(3,4)\n",
    "aryInfo(ary)"
   ]
  },
  {
   "cell_type": "code",
   "execution_count": 106,
   "id": "4d9e4ad5",
   "metadata": {},
   "outputs": [
    {
     "data": {
      "text/plain": [
       "'\\n아래 결과를 출력하도록 실습\\n\\nindxing :  10\\nslicing : [6]\\nslicing : [[5]]\\nfancy indexing : [2 10] \\nfancy indexing : [[2] [10] ]\\nfancy indexing : [[0 2] [4 6] [8 10] ]\\n'"
      ]
     },
     "execution_count": 106,
     "metadata": {},
     "output_type": "execute_result"
    }
   ],
   "source": [
    "'''\n",
    "아래 결과를 출력하도록 실습\n",
    "\n",
    "indxing :  10\n",
    "slicing : [6]\n",
    "slicing : [[5]]\n",
    "fancy indexing : [2 10] \n",
    "fancy indexing : [[2] [10] ]\n",
    "fancy indexing : [[0 2] [4 6] [8 10] ]\n",
    "'''"
   ]
  },
  {
   "cell_type": "code",
   "execution_count": 123,
   "id": "650d3419",
   "metadata": {},
   "outputs": [
    {
     "name": "stdout",
     "output_type": "stream",
     "text": [
      "10 <class 'numpy.int32'>\n",
      "[6] <class 'numpy.ndarray'>\n",
      "[[5]] <class 'numpy.ndarray'>\n",
      "[ 2 10]\n",
      "[[ 2]\n",
      " [10]]\n",
      "fanacy indexing  아님 - \n",
      "[[ 0  2]\n",
      " [ 4  6]\n",
      " [ 8 10]]\n"
     ]
    }
   ],
   "source": [
    "print(ary[2 , 2] , type(ary[2 , 2]))\n",
    "\n",
    "print(ary[ 1 : 2 , 2] , type(ary[ 1 : 2 , 2]))\n",
    "\n",
    "print(ary[ 1:2 , 1:2] , type(ary[ 1:2 , 1:2]))\n",
    "\n",
    "idx = [0,2]\n",
    "print(ary[ idx , 2 ])\n",
    "\n",
    "print(ary[ idx , 2:3 ])\n",
    "\n",
    "print('fanacy indexing  아님 - ')\n",
    "print(ary[ : , [0,2] ])\n",
    "\n"
   ]
  },
  {
   "cell_type": "markdown",
   "id": "494dbbb1",
   "metadata": {},
   "source": [
    "#### 배열 생성 함수\n",
    "- array()\n",
    "- zeros() , ones() , zeros_like() , ones_like() , empty() , arange() , linspace() , logspace() "
   ]
  },
  {
   "cell_type": "code",
   "execution_count": 142,
   "id": "db2f5fe5",
   "metadata": {},
   "outputs": [
    {
     "name": "stdout",
     "output_type": "stream",
     "text": [
      "1차원 - \n",
      "type -  <class 'numpy.ndarray'>\n",
      "shape -  (5,)\n",
      "dimension -  1\n",
      "dtype -  int32\n",
      "\n",
      "data - \n",
      " [0 0 0 0 0]\n",
      "\n",
      "2차원 - \n",
      "type -  <class 'numpy.ndarray'>\n",
      "shape -  (3, 4)\n",
      "dimension -  2\n",
      "dtype -  int32\n",
      "\n",
      "data - \n",
      " [[0 0 0 0]\n",
      " [0 0 0 0]\n",
      " [0 0 0 0]]\n",
      "3차원 - \n",
      "type -  <class 'numpy.ndarray'>\n",
      "shape -  (3, 3, 4)\n",
      "dimension -  3\n",
      "dtype -  int32\n",
      "\n",
      "data - \n",
      " [[[0 0 0 0]\n",
      "  [0 0 0 0]\n",
      "  [0 0 0 0]]\n",
      "\n",
      " [[0 0 0 0]\n",
      "  [0 0 0 0]\n",
      "  [0 0 0 0]]\n",
      "\n",
      " [[0 0 0 0]\n",
      "  [0 0 0 0]\n",
      "  [0 0 0 0]]]\n"
     ]
    }
   ],
   "source": [
    "print('1차원 - ')\n",
    "zeroAry = np.zeros(5, dtype='i')\n",
    "aryInfo(zeroAry)\n",
    "\n",
    "print()\n",
    "\n",
    "print('2차원 - ')\n",
    "zeroAry = np.zeros((3,4), dtype='i')\n",
    "aryInfo(zeroAry)\n",
    "\n",
    "print('3차원 - ')\n",
    "zeroAry = np.zeros((3, 3,4), dtype='i')\n",
    "aryInfo(zeroAry)\n",
    "\n"
   ]
  },
  {
   "cell_type": "code",
   "execution_count": 128,
   "id": "c985a7d2",
   "metadata": {},
   "outputs": [
    {
     "name": "stdout",
     "output_type": "stream",
     "text": [
      "type -  <class 'numpy.ndarray'>\n",
      "shape -  (5,)\n",
      "dimension -  1\n",
      "dtype -  <U4\n",
      "\n",
      "data - \n",
      " ['' '' '' '' '']\n"
     ]
    }
   ],
   "source": [
    "ary = np.zeros(5 , dtype='<U4')\n",
    "aryInfo(ary)"
   ]
  },
  {
   "cell_type": "code",
   "execution_count": 130,
   "id": "d4573c4b",
   "metadata": {},
   "outputs": [],
   "source": [
    "ary[0] = 'abc'\n",
    "ary[1] = 'jslim'\n",
    "ary[2] = 'abcd'"
   ]
  },
  {
   "cell_type": "code",
   "execution_count": 131,
   "id": "32775a11",
   "metadata": {},
   "outputs": [
    {
     "data": {
      "text/plain": [
       "array(['abc', 'jsli', 'abcd', '', ''], dtype='<U4')"
      ]
     },
     "execution_count": 131,
     "metadata": {},
     "output_type": "execute_result"
    }
   ],
   "source": [
    "ary"
   ]
  },
  {
   "cell_type": "code",
   "execution_count": 134,
   "id": "08dc05fc",
   "metadata": {},
   "outputs": [
    {
     "name": "stdout",
     "output_type": "stream",
     "text": [
      "1차원 - \n",
      "type -  <class 'numpy.ndarray'>\n",
      "shape -  (5,)\n",
      "dimension -  1\n",
      "dtype -  <U1\n",
      "\n",
      "data - \n",
      " ['1' '1' '1' '1' '1']\n",
      "\n",
      "2차원 - \n",
      "type -  <class 'numpy.ndarray'>\n",
      "shape -  (3, 4)\n",
      "dimension -  2\n",
      "dtype -  int32\n",
      "\n",
      "data - \n",
      " [[1 1 1 1]\n",
      " [1 1 1 1]\n",
      " [1 1 1 1]]\n",
      "3차원 - \n",
      "type -  <class 'numpy.ndarray'>\n",
      "shape -  (3, 3, 4)\n",
      "dimension -  3\n",
      "dtype -  int32\n",
      "\n",
      "data - \n",
      " [[[1 1 1 1]\n",
      "  [1 1 1 1]\n",
      "  [1 1 1 1]]\n",
      "\n",
      " [[1 1 1 1]\n",
      "  [1 1 1 1]\n",
      "  [1 1 1 1]]\n",
      "\n",
      " [[1 1 1 1]\n",
      "  [1 1 1 1]\n",
      "  [1 1 1 1]]]\n"
     ]
    }
   ],
   "source": [
    "print('1차원 - ')\n",
    "oneAry = np.ones(5, dtype='U')\n",
    "aryInfo(oneAry)\n",
    "\n",
    "print()\n",
    "\n",
    "print('2차원 - ')\n",
    "oneAry = np.ones((3,4), dtype='i')\n",
    "aryInfo(oneAry)\n",
    "\n",
    "print('3차원 - ')\n",
    "oneAry = np.ones((3, 3,4), dtype='i')\n",
    "aryInfo(oneAry)"
   ]
  },
  {
   "cell_type": "code",
   "execution_count": 137,
   "id": "54f53f15",
   "metadata": {},
   "outputs": [
    {
     "name": "stdout",
     "output_type": "stream",
     "text": [
      "type -  <class 'numpy.ndarray'>\n",
      "shape -  (3, 3, 4)\n",
      "dimension -  3\n",
      "dtype -  <U1\n",
      "\n",
      "data - \n",
      " [[['1' '1' '1' '1']\n",
      "  ['1' '1' '1' '1']\n",
      "  ['1' '1' '1' '1']]\n",
      "\n",
      " [['1' '1' '1' '1']\n",
      "  ['1' '1' '1' '1']\n",
      "  ['1' '1' '1' '1']]\n",
      "\n",
      " [['1' '1' '1' '1']\n",
      "  ['1' '1' '1' '1']\n",
      "  ['1' '1' '1' '1']]]\n"
     ]
    }
   ],
   "source": [
    "o_likeAry = np.ones_like(oneAry , dtype='U')\n",
    "aryInfo(o_likeAry)"
   ]
  },
  {
   "cell_type": "code",
   "execution_count": 138,
   "id": "6dcb2983",
   "metadata": {},
   "outputs": [
    {
     "name": "stdout",
     "output_type": "stream",
     "text": [
      "type -  <class 'numpy.ndarray'>\n",
      "shape -  (4, 3)\n",
      "dimension -  2\n",
      "dtype -  float64\n",
      "\n",
      "data - \n",
      " [[4.24399158e-314 8.48798317e-314 1.27319747e-313]\n",
      " [1.69759663e-313 2.12199579e-313 2.54639495e-313]\n",
      " [2.97079411e-313 3.39519327e-313 3.81959242e-313]\n",
      " [4.24399158e-313 4.66839074e-313 5.09278990e-313]]\n"
     ]
    }
   ],
   "source": [
    "emptyAry = np.empty( (4,3) ) \n",
    "aryInfo(emptyAry)"
   ]
  },
  {
   "cell_type": "code",
   "execution_count": 141,
   "id": "906741b4",
   "metadata": {},
   "outputs": [
    {
     "data": {
      "text/plain": [
       "array([10, 12, 14, 16, 18])"
      ]
     },
     "execution_count": 141,
     "metadata": {},
     "output_type": "execute_result"
    }
   ],
   "source": [
    "np.arange(10 , 20 , 2) "
   ]
  },
  {
   "cell_type": "code",
   "execution_count": 146,
   "id": "0c7dd1dc",
   "metadata": {},
   "outputs": [
    {
     "data": {
      "text/plain": [
       "array([ 1.,  4.,  7., 10.])"
      ]
     },
     "execution_count": 146,
     "metadata": {},
     "output_type": "execute_result"
    }
   ],
   "source": [
    "np.linspace(1, 10 , 4)"
   ]
  },
  {
   "cell_type": "code",
   "execution_count": 149,
   "id": "a98bee72",
   "metadata": {},
   "outputs": [
    {
     "data": {
      "text/plain": [
       "array([[0],\n",
       "       [2],\n",
       "       [4],\n",
       "       [6],\n",
       "       [8]])"
      ]
     },
     "execution_count": 149,
     "metadata": {},
     "output_type": "execute_result"
    }
   ],
   "source": [
    "np.arange(0, 10, 2).reshape(5,1)"
   ]
  },
  {
   "cell_type": "markdown",
   "id": "0cc97d2f",
   "metadata": {},
   "source": [
    "####  전치행렬(transpose matrix) ? 행렬의 행은 열로, 열은 행으로 바꿔주는 행렬을 의미한다"
   ]
  },
  {
   "cell_type": "code",
   "execution_count": 150,
   "id": "32e75837",
   "metadata": {},
   "outputs": [
    {
     "name": "stdout",
     "output_type": "stream",
     "text": [
      "type -  <class 'numpy.ndarray'>\n",
      "shape -  (2, 3)\n",
      "dimension -  2\n",
      "dtype -  int32\n",
      "\n",
      "data - \n",
      " [[1 2 3]\n",
      " [4 5 6]]\n"
     ]
    }
   ],
   "source": [
    "ary = np.array([ [1, 2, 3] , [4, 5, 6] ] )\n",
    "aryInfo(ary)"
   ]
  },
  {
   "cell_type": "code",
   "execution_count": 151,
   "id": "1af79b95",
   "metadata": {},
   "outputs": [
    {
     "name": "stdout",
     "output_type": "stream",
     "text": [
      "type -  <class 'numpy.ndarray'>\n",
      "shape -  (2, 3)\n",
      "dimension -  2\n",
      "dtype -  int32\n",
      "\n",
      "data - \n",
      " [[1 2 3]\n",
      " [4 5 6]]\n"
     ]
    }
   ],
   "source": [
    "ary = np.arange(1,7).reshape(2,3)\n",
    "aryInfo(ary)"
   ]
  },
  {
   "cell_type": "code",
   "execution_count": 152,
   "id": "43fff941",
   "metadata": {},
   "outputs": [
    {
     "name": "stdout",
     "output_type": "stream",
     "text": [
      "type -  <class 'numpy.ndarray'>\n",
      "shape -  (3, 2)\n",
      "dimension -  2\n",
      "dtype -  int32\n",
      "\n",
      "data - \n",
      " [[1 4]\n",
      " [2 5]\n",
      " [3 6]]\n"
     ]
    }
   ],
   "source": [
    "ary_transpose = ary.T\n",
    "aryInfo(ary_transpose)"
   ]
  },
  {
   "cell_type": "code",
   "execution_count": 160,
   "id": "4a3fc376",
   "metadata": {},
   "outputs": [
    {
     "name": "stdout",
     "output_type": "stream",
     "text": [
      "type -  <class 'numpy.ndarray'>\n",
      "shape -  (10,)\n",
      "dimension -  1\n",
      "dtype -  int32\n",
      "\n",
      "data - \n",
      " [0 1 2 3 4 5 6 7 8 9]\n",
      "\n",
      "1차원 배열에 대한 전치연산은 가능할까? -  [0 1 2 3 4 5 6 7 8 9]\n",
      "안된다...그런데 방법이 있을까? - \n",
      "\n",
      "type -  <class 'numpy.ndarray'>\n",
      "shape -  (10, 1)\n",
      "dimension -  2\n",
      "dtype -  int32\n",
      "\n",
      "data - \n",
      " [[0]\n",
      " [1]\n",
      " [2]\n",
      " [3]\n",
      " [4]\n",
      " [5]\n",
      " [6]\n",
      " [7]\n",
      " [8]\n",
      " [9]]\n"
     ]
    }
   ],
   "source": [
    "vec = np.arange(10)\n",
    "aryInfo(vec)\n",
    "\n",
    "print()\n",
    "print('1차원 배열에 대한 전치연산은 가능할까? - ' , vec.T)\n",
    "print('안된다...그런데 방법이 있을까? - ')\n",
    "print()\n",
    "\n",
    "vec_transpose = vec.reshape(1, 10 ).T\n",
    "aryInfo(vec_transpose)"
   ]
  },
  {
   "cell_type": "markdown",
   "id": "c54b838c",
   "metadata": {},
   "source": [
    "#### 만약 다차원 배열을 1 차원으로 만들어야 한다면?\n",
    "- flatten()"
   ]
  },
  {
   "cell_type": "code",
   "execution_count": 161,
   "id": "584c8dc2",
   "metadata": {},
   "outputs": [
    {
     "data": {
      "text/plain": [
       "array([0, 1, 2, 3, 4, 5, 6, 7, 8, 9])"
      ]
     },
     "execution_count": 161,
     "metadata": {},
     "output_type": "execute_result"
    }
   ],
   "source": [
    "vec_transpose.flatten()"
   ]
  },
  {
   "cell_type": "markdown",
   "id": "3f7d6fcf",
   "metadata": {},
   "source": [
    "- 배열 사용시 주의할 점(차원에 대한 주의가 필요함!!!)"
   ]
  },
  {
   "cell_type": "code",
   "execution_count": 167,
   "id": "03af7262",
   "metadata": {},
   "outputs": [
    {
     "name": "stdout",
     "output_type": "stream",
     "text": [
      "type -  <class 'numpy.ndarray'>\n",
      "shape -  (10,)\n",
      "dimension -  1\n",
      "dtype -  int32\n",
      "\n",
      "data - \n",
      " [0 1 2 3 4 5 6 7 8 9]\n",
      "\n",
      "reshape - \n",
      "type -  <class 'numpy.ndarray'>\n",
      "shape -  (1, 10)\n",
      "dimension -  2\n",
      "dtype -  int32\n",
      "\n",
      "data - \n",
      " [[0 1 2 3 4 5 6 7 8 9]]\n",
      "\n",
      "reshape - \n",
      "type -  <class 'numpy.ndarray'>\n",
      "shape -  (10, 1)\n",
      "dimension -  2\n",
      "dtype -  int32\n",
      "\n",
      "data - \n",
      " [[0]\n",
      " [1]\n",
      " [2]\n",
      " [3]\n",
      " [4]\n",
      " [5]\n",
      " [6]\n",
      " [7]\n",
      " [8]\n",
      " [9]]\n",
      "\n",
      "reshape 이 아닌 차원증가를 위해서는 : newaxis - \n",
      "type -  <class 'numpy.ndarray'>\n",
      "shape -  (1, 10)\n",
      "dimension -  2\n",
      "dtype -  int32\n",
      "\n",
      "data - \n",
      " [[0 1 2 3 4 5 6 7 8 9]]\n",
      "\n",
      "type -  <class 'numpy.ndarray'>\n",
      "shape -  (10, 1)\n",
      "dimension -  2\n",
      "dtype -  int32\n",
      "\n",
      "data - \n",
      " [[0]\n",
      " [1]\n",
      " [2]\n",
      " [3]\n",
      " [4]\n",
      " [5]\n",
      " [6]\n",
      " [7]\n",
      " [8]\n",
      " [9]]\n"
     ]
    }
   ],
   "source": [
    "ary = np.arange(10) \n",
    "aryInfo(ary)\n",
    "\n",
    "print()\n",
    "print('reshape - ')\n",
    "aryInfo(ary.reshape(1,10))\n",
    "\n",
    "print()\n",
    "print('reshape - ')\n",
    "aryInfo(ary.reshape(10,1))\n",
    "\n",
    "print()\n",
    "print('reshape 이 아닌 차원증가를 위해서는 : newaxis - ')\n",
    "aryInfo( ary[ np.newaxis , : ] )\n",
    "print()\n",
    "aryInfo( ary[ : ,  np.newaxis ] )\n"
   ]
  },
  {
   "cell_type": "markdown",
   "id": "b7351732",
   "metadata": {},
   "source": [
    "- ndarray(배열) 모든원소에 대해서 순차적으로 접근해야 한다면? \n",
    "- iternext() , finished "
   ]
  },
  {
   "cell_type": "code",
   "execution_count": 171,
   "id": "c31f3b82",
   "metadata": {},
   "outputs": [
    {
     "data": {
      "text/plain": [
       "array([0, 1, 2, 3, 4, 5, 6, 7, 8, 9])"
      ]
     },
     "execution_count": 171,
     "metadata": {},
     "output_type": "execute_result"
    }
   ],
   "source": [
    "ary = np.arange(10) \n",
    "ary"
   ]
  },
  {
   "cell_type": "code",
   "execution_count": 172,
   "id": "5bf0100d",
   "metadata": {},
   "outputs": [
    {
     "name": "stdout",
     "output_type": "stream",
     "text": [
      "0\t1\t2\t3\t4\t5\t6\t7\t8\t9\t"
     ]
    }
   ],
   "source": [
    "for tmp in ary : \n",
    "    print(tmp, end='\\t')"
   ]
  },
  {
   "cell_type": "code",
   "execution_count": 174,
   "id": "5ccb601c",
   "metadata": {},
   "outputs": [
    {
     "name": "stdout",
     "output_type": "stream",
     "text": [
      "1차원 ndarray 대한 iterator - \n",
      "idx -  0 0\n",
      "idx -  1 1\n",
      "idx -  2 2\n",
      "idx -  3 3\n",
      "idx -  4 4\n",
      "idx -  5 5\n",
      "idx -  6 6\n",
      "idx -  7 7\n",
      "idx -  8 8\n",
      "idx -  9 9\n"
     ]
    }
   ],
   "source": [
    "print('1차원 ndarray 대한 iterator - ')\n",
    "\n",
    "ite = np.nditer(ary , flags = ['c_index'] ) \n",
    "\n",
    "while not ite.finished :\n",
    "    idx = ite.index\n",
    "    print('idx - ' , idx , ary[idx])\n",
    "    ite.iternext()"
   ]
  },
  {
   "cell_type": "code",
   "execution_count": 175,
   "id": "baa6a8bd",
   "metadata": {},
   "outputs": [
    {
     "data": {
      "text/plain": [
       "array([[0, 1, 2, 3, 4],\n",
       "       [5, 6, 7, 8, 9]])"
      ]
     },
     "execution_count": 175,
     "metadata": {},
     "output_type": "execute_result"
    }
   ],
   "source": [
    "ary_reshape = ary.reshape(2,5)\n",
    "ary_reshape"
   ]
  },
  {
   "cell_type": "code",
   "execution_count": 179,
   "id": "5aabac5d",
   "metadata": {},
   "outputs": [
    {
     "name": "stdout",
     "output_type": "stream",
     "text": [
      "shape -  (2, 5)\n",
      "row   -  2\n",
      "col   -  5\n"
     ]
    }
   ],
   "source": [
    "print('shape - ' , ary_reshape.shape)\n",
    "print('row   - ' , ary_reshape.shape[0])\n",
    "print('col   - ' , ary_reshape.shape[1])"
   ]
  },
  {
   "cell_type": "code",
   "execution_count": 184,
   "id": "3653020b",
   "metadata": {},
   "outputs": [
    {
     "name": "stdout",
     "output_type": "stream",
     "text": [
      "0\t1\t2\t3\t4\t\n",
      "5\t6\t7\t8\t9\t\n",
      "\n",
      "nditer - \n",
      "0\t1\t2\t3\t4\t5\t6\t7\t8\t9\t"
     ]
    }
   ],
   "source": [
    "for row in range(ary_reshape.shape[0]) :\n",
    "    for col in range(ary_reshape.shape[1]) :\n",
    "        print( ary_reshape[row][col] , end = '\\t')\n",
    "    print()\n",
    "    \n",
    "print()\n",
    "print('nditer - ') \n",
    "\n",
    "ite = np.nditer(ary_reshape , flags = ['multi_index'] ) \n",
    "while not ite.finished :\n",
    "    idx = ite.multi_index\n",
    "    print(ary_reshape[idx] , end='\\t')\n",
    "    ite.iternext()\n"
   ]
  },
  {
   "cell_type": "code",
   "execution_count": null,
   "id": "22b649e5",
   "metadata": {},
   "outputs": [],
   "source": []
  },
  {
   "cell_type": "code",
   "execution_count": null,
   "id": "0b56d4b7",
   "metadata": {},
   "outputs": [],
   "source": []
  },
  {
   "cell_type": "code",
   "execution_count": null,
   "id": "e51e1d75",
   "metadata": {},
   "outputs": [],
   "source": []
  },
  {
   "cell_type": "code",
   "execution_count": null,
   "id": "c4bbd1f4",
   "metadata": {},
   "outputs": [],
   "source": []
  }
 ],
 "metadata": {
  "kernelspec": {
   "display_name": "Python 3 (ipykernel)",
   "language": "python",
   "name": "python3"
  },
  "language_info": {
   "codemirror_mode": {
    "name": "ipython",
    "version": 3
   },
   "file_extension": ".py",
   "mimetype": "text/x-python",
   "name": "python",
   "nbconvert_exporter": "python",
   "pygments_lexer": "ipython3",
   "version": "3.9.7"
  }
 },
 "nbformat": 4,
 "nbformat_minor": 5
}
