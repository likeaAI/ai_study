{
  "nbformat": 4,
  "nbformat_minor": 0,
  "metadata": {
    "colab": {
      "name": "color_cnnmodel.ipynb",
      "provenance": [],
      "authorship_tag": "ABX9TyMHSZziFUoGQ05jk3n4wzuz",
      "include_colab_link": true
    },
    "kernelspec": {
      "name": "python3",
      "display_name": "Python 3"
    },
    "language_info": {
      "name": "python"
    },
    "accelerator": "GPU",
    "gpuClass": "standard"
  },
  "cells": [
    {
      "cell_type": "markdown",
      "metadata": {
        "id": "view-in-github",
        "colab_type": "text"
      },
      "source": [
        "<a href=\"https://colab.research.google.com/github/likeaAI/ai_study/blob/main/color_cnnmodel.ipynb\" target=\"_parent\"><img src=\"https://colab.research.google.com/assets/colab-badge.svg\" alt=\"Open In Colab\"/></a>"
      ]
    },
    {
      "cell_type": "code",
      "execution_count": 1,
      "metadata": {
        "id": "UFzBtDdhk4Xy"
      },
      "outputs": [],
      "source": [
        "import torch\n",
        "from glob import glob\n",
        "from tensorflow.keras.datasets   import boston_housing , mnist , fashion_mnist\n",
        "from tensorflow.keras.models     import Sequential , clone_model , Model , load_model\n",
        "from tensorflow.keras.layers     import Dense , Activation , InputLayer , Flatten , Input , BatchNormalization , Dropout , Embedding\n",
        "\n",
        "# CNN\n",
        "from tensorflow.keras.layers     import Conv2D , MaxPooling2D , AveragePooling2D\n",
        "from tensorflow import keras\n",
        "from tensorflow.keras            import optimizers  \n",
        "from tensorflow.keras.callbacks  import EarlyStopping , ModelCheckpoint , Callback\n",
        "from tensorflow.keras.optimizers import SGD , Adam , RMSprop\n",
        "\n",
        "# 이미지 로드\n",
        "from tensorflow.keras.preprocessing import image\n",
        "from tensorflow.keras.preprocessing.image import ImageDataGenerator \n",
        "\n",
        "# 자연어 처리\n",
        "from tensorflow.keras.preprocessing.text          import Tokenizer\n",
        "from tensorflow.keras.preprocessing.sequence      import pad_sequences\n",
        "\n",
        "from keras.utils.np_utils      import to_categorical\n",
        "\n",
        "from sklearn.datasets          import load_iris , load_breast_cancer , load_digits\n",
        "from sklearn.model_selection   import train_test_split\n",
        "\n",
        "import matplotlib.pyplot as plt\n",
        "\n",
        "import tensorflow as tf\n",
        "import numpy  as np\n",
        "import pandas as pd"
      ]
    },
    {
      "cell_type": "code",
      "source": [
        "!pip install roboflow\n",
        "\n",
        "from roboflow import Roboflow\n",
        "rf = Roboflow(api_key=\"V1xrnYqaT6VW3skv3nh8\")\n",
        "project = rf.workspace(\"example01\").project(\"cloths_color\")\n",
        "dataset = project.version(1).download(\"folder\")"
      ],
      "metadata": {
        "colab": {
          "base_uri": "https://localhost:8080/",
          "height": 1000
        },
        "id": "HxRUp182k8_l",
        "outputId": "1a6caea5-863a-41f7-983f-6f5445618a4d"
      },
      "execution_count": 4,
      "outputs": [
        {
          "output_type": "stream",
          "name": "stdout",
          "text": [
            "Looking in indexes: https://pypi.org/simple, https://us-python.pkg.dev/colab-wheels/public/simple/\n",
            "Collecting roboflow\n",
            "  Downloading roboflow-0.2.4.tar.gz (15 kB)\n",
            "Collecting certifi==2021.5.30\n",
            "  Downloading certifi-2021.5.30-py2.py3-none-any.whl (145 kB)\n",
            "\u001b[K     |████████████████████████████████| 145 kB 9.1 MB/s \n",
            "\u001b[?25hCollecting chardet==4.0.0\n",
            "  Downloading chardet-4.0.0-py2.py3-none-any.whl (178 kB)\n",
            "\u001b[K     |████████████████████████████████| 178 kB 57.9 MB/s \n",
            "\u001b[?25hCollecting cycler==0.10.0\n",
            "  Downloading cycler-0.10.0-py2.py3-none-any.whl (6.5 kB)\n",
            "Requirement already satisfied: idna==2.10 in /usr/local/lib/python3.7/dist-packages (from roboflow) (2.10)\n",
            "Collecting kiwisolver==1.3.1\n",
            "  Downloading kiwisolver-1.3.1-cp37-cp37m-manylinux1_x86_64.whl (1.1 MB)\n",
            "\u001b[K     |████████████████████████████████| 1.1 MB 62.1 MB/s \n",
            "\u001b[?25hRequirement already satisfied: matplotlib in /usr/local/lib/python3.7/dist-packages (from roboflow) (3.2.2)\n",
            "Requirement already satisfied: numpy>=1.18.5 in /usr/local/lib/python3.7/dist-packages (from roboflow) (1.21.6)\n",
            "Requirement already satisfied: opencv-python>=4.1.2 in /usr/local/lib/python3.7/dist-packages (from roboflow) (4.1.2.30)\n",
            "Requirement already satisfied: Pillow>=7.1.2 in /usr/local/lib/python3.7/dist-packages (from roboflow) (7.1.2)\n",
            "Collecting pyparsing==2.4.7\n",
            "  Downloading pyparsing-2.4.7-py2.py3-none-any.whl (67 kB)\n",
            "\u001b[K     |████████████████████████████████| 67 kB 6.9 MB/s \n",
            "\u001b[?25hRequirement already satisfied: python-dateutil in /usr/local/lib/python3.7/dist-packages (from roboflow) (2.8.2)\n",
            "Collecting python-dotenv\n",
            "  Downloading python_dotenv-0.20.0-py3-none-any.whl (17 kB)\n",
            "Requirement already satisfied: requests in /usr/local/lib/python3.7/dist-packages (from roboflow) (2.23.0)\n",
            "Collecting requests_toolbelt\n",
            "  Downloading requests_toolbelt-0.9.1-py2.py3-none-any.whl (54 kB)\n",
            "\u001b[K     |████████████████████████████████| 54 kB 3.5 MB/s \n",
            "\u001b[?25hRequirement already satisfied: six in /usr/local/lib/python3.7/dist-packages (from roboflow) (1.15.0)\n",
            "Collecting urllib3==1.26.6\n",
            "  Downloading urllib3-1.26.6-py2.py3-none-any.whl (138 kB)\n",
            "\u001b[K     |████████████████████████████████| 138 kB 64.6 MB/s \n",
            "\u001b[?25hCollecting wget\n",
            "  Downloading wget-3.2.zip (10 kB)\n",
            "Requirement already satisfied: tqdm>=4.41.0 in /usr/local/lib/python3.7/dist-packages (from roboflow) (4.64.0)\n",
            "Collecting PyYAML>=5.3.1\n",
            "  Downloading PyYAML-6.0-cp37-cp37m-manylinux_2_5_x86_64.manylinux1_x86_64.manylinux_2_12_x86_64.manylinux2010_x86_64.whl (596 kB)\n",
            "\u001b[K     |████████████████████████████████| 596 kB 62.5 MB/s \n",
            "\u001b[?25hCollecting requests\n",
            "  Downloading requests-2.28.0-py3-none-any.whl (62 kB)\n",
            "\u001b[K     |████████████████████████████████| 62 kB 1.8 MB/s \n",
            "\u001b[?25hRequirement already satisfied: charset-normalizer~=2.0.0 in /usr/local/lib/python3.7/dist-packages (from requests->roboflow) (2.0.12)\n",
            "Building wheels for collected packages: roboflow, wget\n",
            "  Building wheel for roboflow (setup.py) ... \u001b[?25l\u001b[?25hdone\n",
            "  Created wheel for roboflow: filename=roboflow-0.2.4-py3-none-any.whl size=21356 sha256=2fb3eab345c6b0b95ff34f4638b2b4dd2b377cb07d5a9012e636247f42048fce\n",
            "  Stored in directory: /root/.cache/pip/wheels/b7/2c/60/3733c0e323b1d7aec00f852264314bf6c48192c8e1dc92b3ee\n",
            "  Building wheel for wget (setup.py) ... \u001b[?25l\u001b[?25hdone\n",
            "  Created wheel for wget: filename=wget-3.2-py3-none-any.whl size=9675 sha256=1255784652b8e9ac474cbeffe5a9e2c8b1f6f228b35caca4c499a798f09e5b06\n",
            "  Stored in directory: /root/.cache/pip/wheels/a1/b6/7c/0e63e34eb06634181c63adacca38b79ff8f35c37e3c13e3c02\n",
            "Successfully built roboflow wget\n",
            "Installing collected packages: urllib3, certifi, requests, pyparsing, kiwisolver, cycler, wget, requests-toolbelt, PyYAML, python-dotenv, chardet, roboflow\n",
            "  Attempting uninstall: urllib3\n",
            "    Found existing installation: urllib3 1.24.3\n",
            "    Uninstalling urllib3-1.24.3:\n",
            "      Successfully uninstalled urllib3-1.24.3\n",
            "  Attempting uninstall: certifi\n",
            "    Found existing installation: certifi 2022.6.15\n",
            "    Uninstalling certifi-2022.6.15:\n",
            "      Successfully uninstalled certifi-2022.6.15\n",
            "  Attempting uninstall: requests\n",
            "    Found existing installation: requests 2.23.0\n",
            "    Uninstalling requests-2.23.0:\n",
            "      Successfully uninstalled requests-2.23.0\n",
            "  Attempting uninstall: pyparsing\n",
            "    Found existing installation: pyparsing 3.0.9\n",
            "    Uninstalling pyparsing-3.0.9:\n",
            "      Successfully uninstalled pyparsing-3.0.9\n",
            "  Attempting uninstall: kiwisolver\n",
            "    Found existing installation: kiwisolver 1.4.3\n",
            "    Uninstalling kiwisolver-1.4.3:\n",
            "      Successfully uninstalled kiwisolver-1.4.3\n",
            "  Attempting uninstall: cycler\n",
            "    Found existing installation: cycler 0.11.0\n",
            "    Uninstalling cycler-0.11.0:\n",
            "      Successfully uninstalled cycler-0.11.0\n",
            "  Attempting uninstall: PyYAML\n",
            "    Found existing installation: PyYAML 3.13\n",
            "    Uninstalling PyYAML-3.13:\n",
            "      Successfully uninstalled PyYAML-3.13\n",
            "  Attempting uninstall: chardet\n",
            "    Found existing installation: chardet 3.0.4\n",
            "    Uninstalling chardet-3.0.4:\n",
            "      Successfully uninstalled chardet-3.0.4\n",
            "\u001b[31mERROR: pip's dependency resolver does not currently take into account all the packages that are installed. This behaviour is the source of the following dependency conflicts.\n",
            "google-colab 1.0.0 requires requests~=2.23.0, but you have requests 2.28.0 which is incompatible.\n",
            "datascience 0.10.6 requires folium==0.2.1, but you have folium 0.8.3 which is incompatible.\n",
            "albumentations 0.1.12 requires imgaug<0.2.7,>=0.2.5, but you have imgaug 0.2.9 which is incompatible.\u001b[0m\n",
            "Successfully installed PyYAML-6.0 certifi-2021.5.30 chardet-4.0.0 cycler-0.10.0 kiwisolver-1.3.1 pyparsing-2.4.7 python-dotenv-0.20.0 requests-2.28.0 requests-toolbelt-0.9.1 roboflow-0.2.4 urllib3-1.26.6 wget-3.2\n"
          ]
        },
        {
          "output_type": "display_data",
          "data": {
            "application/vnd.colab-display-data+json": {
              "pip_warning": {
                "packages": [
                  "certifi",
                  "chardet",
                  "cycler",
                  "kiwisolver",
                  "pyparsing",
                  "requests",
                  "urllib3"
                ]
              }
            }
          },
          "metadata": {}
        },
        {
          "output_type": "stream",
          "name": "stdout",
          "text": [
            "loading Roboflow workspace...\n",
            "loading Roboflow project...\n",
            "Downloading Dataset Version Zip in cloths_color-1 to folder: 100% [13176059 / 13176059] bytes\n"
          ]
        },
        {
          "output_type": "stream",
          "name": "stderr",
          "text": [
            "Extracting Dataset Version Zip to cloths_color-1 in folder:: 100%|██████████| 802/802 [00:00<00:00, 1812.44it/s]\n"
          ]
        }
      ]
    },
    {
      "cell_type": "code",
      "source": [
        "train_img_generator = ImageDataGenerator(rescale=1/255)\n",
        "train_generator = train_img_generator.flow_from_directory(\n",
        "    '/content/cloths_color-1/train', \n",
        "    target_size = (200, 200) , \n",
        "    batch_size  = 64 ,\n",
        "    class_mode = 'categorical'\n",
        ")"
      ],
      "metadata": {
        "colab": {
          "base_uri": "https://localhost:8080/"
        },
        "id": "PZc95fzZst1z",
        "outputId": "514ddf9e-9fde-496e-e8d2-8d83bd4c9959"
      },
      "execution_count": 5,
      "outputs": [
        {
          "output_type": "stream",
          "name": "stdout",
          "text": [
            "Found 623 images belonging to 6 classes.\n"
          ]
        }
      ]
    },
    {
      "cell_type": "code",
      "source": [
        "test_img_generator = ImageDataGenerator(rescale=1/255)\n",
        "test_generator = test_img_generator.flow_from_directory(\n",
        "    '/content/cloths_color-1/valid' , \n",
        "    target_size = (200, 200) , \n",
        "    batch_size  = 64 ,\n",
        "    class_mode = 'categorical'\n",
        ")"
      ],
      "metadata": {
        "colab": {
          "base_uri": "https://localhost:8080/"
        },
        "id": "qHy1Q3arst4K",
        "outputId": "cb07aad6-44e0-451f-e9e6-094d4815d413"
      },
      "execution_count": 6,
      "outputs": [
        {
          "output_type": "stream",
          "name": "stdout",
          "text": [
            "Found 163 images belonging to 6 classes.\n"
          ]
        }
      ]
    },
    {
      "cell_type": "code",
      "source": [
        "'''\n",
        "cloths_color-1 \n",
        "cloths_color-1\n",
        "'''"
      ],
      "metadata": {
        "id": "272zglkjk-j2"
      },
      "execution_count": null,
      "outputs": []
    },
    {
      "cell_type": "code",
      "source": [
        "def img_model() :\n",
        "  img_model = Sequential()\n",
        "\n",
        "  img_model.add( Conv2D(input_shape = (200, 200, 3) , filters = 16 , kernel_size = (3,3) , strides = (1,1) , padding = 'valid') )\n",
        "  img_model.add( Activation('relu'))\n",
        "  img_model.add( MaxPooling2D(pool_size = (2,2) , padding = 'valid' ) )\n",
        "  img_model.add( Dropout(0.25) )\n",
        "      \n",
        "  img_model.add( Conv2D(filters = 32 , kernel_size = (3,3) , strides = (1,1) , padding = 'valid') )\n",
        "  img_model.add( Activation('relu'))\n",
        "  img_model.add( MaxPooling2D(pool_size = (2,2) , padding = 'valid' ) )\n",
        "  img_model.add( Dropout(0.25) )\n",
        "\n",
        "  img_model.add( Conv2D(filters = 64 , kernel_size = (3,3) , strides = (1,1) , padding = 'valid') )\n",
        "  img_model.add( Activation('relu'))\n",
        "  img_model.add( MaxPooling2D(pool_size = (2,2) , padding = 'valid' ) )\n",
        "  img_model.add( Dropout(0.25) )\n",
        "\n",
        "  img_model.add( Conv2D(filters = 128 , kernel_size = (3,3) , strides = (1,1) , padding = 'valid') )\n",
        "  img_model.add( Activation('relu'))\n",
        "  img_model.add( MaxPooling2D(pool_size = (2,2) , padding = 'valid' ) )\n",
        "  img_model.add( Dropout(0.25) )\n",
        "    \n",
        "\n",
        "  img_model.add( Flatten() )\n",
        "  img_model.add( Dense(units = 512) )  # 512->1024\n",
        "  img_model.add( Activation('relu') )\n",
        "  img_model.add( Dropout(0.25) )\n",
        "    \n",
        "  \n",
        "  img_model.add( Dense(units = 6) )\n",
        "  img_model.add( Activation('softmax') )\n",
        "\n",
        "  return img_model "
      ],
      "metadata": {
        "id": "OUIUDvFMlHTG"
      },
      "execution_count": 8,
      "outputs": []
    },
    {
      "cell_type": "code",
      "source": [
        "model = img_model()\n",
        "model.summary()"
      ],
      "metadata": {
        "colab": {
          "base_uri": "https://localhost:8080/"
        },
        "id": "Ee5WC-pgtos5",
        "outputId": "3684f21e-2f01-4780-e1f6-d5c4203b4eb9"
      },
      "execution_count": 9,
      "outputs": [
        {
          "output_type": "stream",
          "name": "stdout",
          "text": [
            "Model: \"sequential\"\n",
            "_________________________________________________________________\n",
            " Layer (type)                Output Shape              Param #   \n",
            "=================================================================\n",
            " conv2d (Conv2D)             (None, 198, 198, 16)      448       \n",
            "                                                                 \n",
            " activation (Activation)     (None, 198, 198, 16)      0         \n",
            "                                                                 \n",
            " max_pooling2d (MaxPooling2D  (None, 99, 99, 16)       0         \n",
            " )                                                               \n",
            "                                                                 \n",
            " dropout (Dropout)           (None, 99, 99, 16)        0         \n",
            "                                                                 \n",
            " conv2d_1 (Conv2D)           (None, 97, 97, 32)        4640      \n",
            "                                                                 \n",
            " activation_1 (Activation)   (None, 97, 97, 32)        0         \n",
            "                                                                 \n",
            " max_pooling2d_1 (MaxPooling  (None, 48, 48, 32)       0         \n",
            " 2D)                                                             \n",
            "                                                                 \n",
            " dropout_1 (Dropout)         (None, 48, 48, 32)        0         \n",
            "                                                                 \n",
            " conv2d_2 (Conv2D)           (None, 46, 46, 64)        18496     \n",
            "                                                                 \n",
            " activation_2 (Activation)   (None, 46, 46, 64)        0         \n",
            "                                                                 \n",
            " max_pooling2d_2 (MaxPooling  (None, 23, 23, 64)       0         \n",
            " 2D)                                                             \n",
            "                                                                 \n",
            " dropout_2 (Dropout)         (None, 23, 23, 64)        0         \n",
            "                                                                 \n",
            " conv2d_3 (Conv2D)           (None, 21, 21, 128)       73856     \n",
            "                                                                 \n",
            " activation_3 (Activation)   (None, 21, 21, 128)       0         \n",
            "                                                                 \n",
            " max_pooling2d_3 (MaxPooling  (None, 10, 10, 128)      0         \n",
            " 2D)                                                             \n",
            "                                                                 \n",
            " dropout_3 (Dropout)         (None, 10, 10, 128)       0         \n",
            "                                                                 \n",
            " flatten (Flatten)           (None, 12800)             0         \n",
            "                                                                 \n",
            " dense (Dense)               (None, 512)               6554112   \n",
            "                                                                 \n",
            " activation_4 (Activation)   (None, 512)               0         \n",
            "                                                                 \n",
            " dropout_4 (Dropout)         (None, 512)               0         \n",
            "                                                                 \n",
            " dense_1 (Dense)             (None, 6)                 3078      \n",
            "                                                                 \n",
            " activation_5 (Activation)   (None, 6)                 0         \n",
            "                                                                 \n",
            "=================================================================\n",
            "Total params: 6,654,630\n",
            "Trainable params: 6,654,630\n",
            "Non-trainable params: 0\n",
            "_________________________________________________________________\n"
          ]
        }
      ]
    },
    {
      "cell_type": "code",
      "source": [
        "model.compile(optimizer = Adam(lr = 0.001), \n",
        "                      loss= 'categorical_crossentropy' , \n",
        "                      metrics=['accuracy']\n",
        "             ) "
      ],
      "metadata": {
        "colab": {
          "base_uri": "https://localhost:8080/"
        },
        "id": "dLpYS5hBtpQi",
        "outputId": "4222eda3-8f2c-482a-ae9f-6a76a9afbfaf"
      },
      "execution_count": 10,
      "outputs": [
        {
          "output_type": "stream",
          "name": "stderr",
          "text": [
            "/usr/local/lib/python3.7/dist-packages/keras/optimizer_v2/adam.py:105: UserWarning: The `lr` argument is deprecated, use `learning_rate` instead.\n",
            "  super(Adam, self).__init__(name, **kwargs)\n"
          ]
        }
      ]
    },
    {
      "cell_type": "code",
      "source": [
        "cb = keras.callbacks.ModelCheckpoint('color.h5')\n",
        "es = keras.callbacks.EarlyStopping(patience=3, restore_best_weights=True)"
      ],
      "metadata": {
        "id": "UBpgwnBStpVD"
      },
      "execution_count": 11,
      "outputs": []
    },
    {
      "cell_type": "code",
      "source": [
        "model_history = model.fit(train_generator, validation_data=test_generator,epochs=20 ,verbose=1 ,callbacks=[es,cb]) "
      ],
      "metadata": {
        "colab": {
          "base_uri": "https://localhost:8080/"
        },
        "id": "hIqoXQGxttwS",
        "outputId": "b60268a7-ccf4-44bc-b964-4ed415b9bc05"
      },
      "execution_count": 12,
      "outputs": [
        {
          "output_type": "stream",
          "name": "stdout",
          "text": [
            "Epoch 1/20\n",
            "10/10 [==============================] - 14s 281ms/step - loss: 3.1920 - accuracy: 0.2376 - val_loss: 1.6976 - val_accuracy: 0.3742\n",
            "Epoch 2/20\n",
            "10/10 [==============================] - 3s 255ms/step - loss: 1.5167 - accuracy: 0.4157 - val_loss: 1.6601 - val_accuracy: 0.3742\n",
            "Epoch 3/20\n",
            "10/10 [==============================] - 3s 261ms/step - loss: 1.1008 - accuracy: 0.5971 - val_loss: 1.5248 - val_accuracy: 0.3865\n",
            "Epoch 4/20\n",
            "10/10 [==============================] - 2s 252ms/step - loss: 0.8580 - accuracy: 0.6549 - val_loss: 1.3940 - val_accuracy: 0.4233\n",
            "Epoch 5/20\n",
            "10/10 [==============================] - 3s 264ms/step - loss: 0.7952 - accuracy: 0.6485 - val_loss: 1.2477 - val_accuracy: 0.5337\n",
            "Epoch 6/20\n",
            "10/10 [==============================] - 2s 251ms/step - loss: 0.8069 - accuracy: 0.6774 - val_loss: 1.2002 - val_accuracy: 0.6258\n",
            "Epoch 7/20\n",
            "10/10 [==============================] - 2s 259ms/step - loss: 0.6556 - accuracy: 0.7464 - val_loss: 0.9164 - val_accuracy: 0.7117\n",
            "Epoch 8/20\n",
            "10/10 [==============================] - 3s 260ms/step - loss: 0.4992 - accuracy: 0.8202 - val_loss: 0.7895 - val_accuracy: 0.7301\n",
            "Epoch 9/20\n",
            "10/10 [==============================] - 3s 269ms/step - loss: 0.4409 - accuracy: 0.8411 - val_loss: 0.8420 - val_accuracy: 0.6871\n",
            "Epoch 10/20\n",
            "10/10 [==============================] - 3s 252ms/step - loss: 0.3741 - accuracy: 0.8700 - val_loss: 0.7621 - val_accuracy: 0.7607\n",
            "Epoch 11/20\n",
            "10/10 [==============================] - 3s 265ms/step - loss: 0.2928 - accuracy: 0.9021 - val_loss: 0.6983 - val_accuracy: 0.8282\n",
            "Epoch 12/20\n",
            "10/10 [==============================] - 2s 249ms/step - loss: 0.3249 - accuracy: 0.8876 - val_loss: 0.7155 - val_accuracy: 0.7853\n",
            "Epoch 13/20\n",
            "10/10 [==============================] - 3s 284ms/step - loss: 0.3119 - accuracy: 0.8941 - val_loss: 0.6769 - val_accuracy: 0.8405\n",
            "Epoch 14/20\n",
            "10/10 [==============================] - 3s 255ms/step - loss: 0.2606 - accuracy: 0.9085 - val_loss: 0.7519 - val_accuracy: 0.8098\n",
            "Epoch 15/20\n",
            "10/10 [==============================] - 3s 254ms/step - loss: 0.3108 - accuracy: 0.8925 - val_loss: 0.7151 - val_accuracy: 0.7914\n",
            "Epoch 16/20\n",
            "10/10 [==============================] - 3s 255ms/step - loss: 0.2573 - accuracy: 0.9053 - val_loss: 0.5795 - val_accuracy: 0.8282\n",
            "Epoch 17/20\n",
            "10/10 [==============================] - 3s 279ms/step - loss: 0.2316 - accuracy: 0.9213 - val_loss: 0.6264 - val_accuracy: 0.8037\n",
            "Epoch 18/20\n",
            "10/10 [==============================] - 3s 256ms/step - loss: 0.2024 - accuracy: 0.9230 - val_loss: 0.6610 - val_accuracy: 0.8037\n",
            "Epoch 19/20\n",
            "10/10 [==============================] - 2s 252ms/step - loss: 0.1975 - accuracy: 0.9294 - val_loss: 0.7341 - val_accuracy: 0.8160\n"
          ]
        }
      ]
    },
    {
      "cell_type": "code",
      "source": [
        "print('모델 저장')\n",
        "model.save('color.h5')"
      ],
      "metadata": {
        "colab": {
          "base_uri": "https://localhost:8080/"
        },
        "id": "6xG0Meu3ttzK",
        "outputId": "6e159c5c-6eee-4708-f2b4-be9ee31c1017"
      },
      "execution_count": 13,
      "outputs": [
        {
          "output_type": "stream",
          "name": "stdout",
          "text": [
            "모델 저장\n"
          ]
        }
      ]
    },
    {
      "cell_type": "code",
      "source": [
        "# Converting a SavedModel to a TensorFlow Lite model.\n",
        "converter = tf.lite.TFLiteConverter.from_keras_model(model)\n",
        "tflite_model = converter.convert()"
      ],
      "metadata": {
        "colab": {
          "base_uri": "https://localhost:8080/"
        },
        "id": "1fI9AeIVw0VO",
        "outputId": "72008516-ecbf-4610-83d8-e2d2619db06f"
      },
      "execution_count": 29,
      "outputs": [
        {
          "output_type": "stream",
          "name": "stdout",
          "text": [
            "INFO:tensorflow:Assets written to: /tmp/tmp49mbl0_y/assets\n"
          ]
        },
        {
          "output_type": "stream",
          "name": "stderr",
          "text": [
            "INFO:tensorflow:Assets written to: /tmp/tmp49mbl0_y/assets\n",
            "WARNING:absl:Buffer deduplication procedure will be skipped when flatbuffer library is not properly loaded\n"
          ]
        }
      ]
    },
    {
      "cell_type": "code",
      "source": [
        "import matplotlib.pyplot as plt\n",
        "\n",
        "acc = model_history.history['accuracy']\n",
        "val_acc = model_history.history['val_accuracy']\n",
        "loss = model_history.history['loss']\n",
        "val_loss = model_history.history['val_loss']\n",
        "\n",
        "epochs = range(len(acc))\n",
        "\n",
        "plt.plot(epochs, acc, 'bo', label='Training accuracy')\n",
        "plt.plot(epochs, val_acc, 'b', label='Validation accuracy')\n",
        "plt.title('Training and validation accuracy')\n",
        "plt.legend()\n",
        "\n",
        "plt.figure()\n",
        "\n",
        "plt.plot(epochs, loss, 'go', label='Training Loss')\n",
        "plt.plot(epochs, val_loss, 'g', label='Validation Loss')\n",
        "plt.title('Training and validation loss')\n",
        "plt.legend()\n",
        "\n",
        "plt.show()"
      ],
      "metadata": {
        "colab": {
          "base_uri": "https://localhost:8080/",
          "height": 545
        },
        "id": "hPPZd2pUtt2C",
        "outputId": "975eadfb-02a0-4162-aeaf-ceb99a7cc0bb"
      },
      "execution_count": 13,
      "outputs": [
        {
          "output_type": "display_data",
          "data": {
            "text/plain": [
              "<Figure size 432x288 with 1 Axes>"
            ],
            "image/png": "[encoded data removed]"
          },
          "metadata": {
            "needs_background": "light"
          }
        },
        {
          "output_type": "display_data",
          "data": {
            "text/plain": [
              "<Figure size 432x288 with 1 Axes>"
            ],
            "image/png": "[encoded data removed]"
          },
          "metadata": {
            "needs_background": "light"
          }
        }
      ]
    },
    {
      "cell_type": "code",
      "source": [
        "train_generator.class_indices"
      ],
      "metadata": {
        "colab": {
          "base_uri": "https://localhost:8080/"
        },
        "id": "li-J36bSt0Jq",
        "outputId": "d5968142-b690-4220-a114-32baa821f89e"
      },
      "execution_count": 25,
      "outputs": [
        {
          "output_type": "execute_result",
          "data": {
            "text/plain": [
              "{'black': 0, 'blue': 1, 'green': 2, 'pattern': 3, 'red': 4, 'white': 5}"
            ]
          },
          "metadata": {},
          "execution_count": 25
        }
      ]
    },
    {
      "cell_type": "code",
      "source": [
        "# '/content/cloths_color-1/valid/red/red58_jpg.rf.fd3b092f540c2495f760323b62029e05.jpg'\n",
        "\n",
        "def image_upload (image_upload) : \n",
        "  color = {'black': 0, 'blue': 1, 'green': 2, 'pattern': 3, 'red': 4, 'white': 5}\n",
        "  img_src = image_upload\n",
        "  test_img = image.load_img(img_src, target_size=(200, 200))\n",
        "  x = image.img_to_array(test_img)\n",
        "  x = np.expand_dims(x, axis = 0)\n",
        "  image_ = np.vstack([x])\n",
        "  classes = model.predict(image_, batch_size = 10)\n",
        "  print('pred - ', classes[0])\n",
        "  print(np.argmax(classes[0]))  "
      ],
      "metadata": {
        "id": "TETOAId1t0MD"
      },
      "execution_count": 44,
      "outputs": []
    },
    {
      "cell_type": "code",
      "source": [
        "image_upload('/content/cloths_color-1/valid/red/red58_jpg.rf.fd3b092f540c2495f760323b62029e05.jpg')"
      ],
      "metadata": {
        "colab": {
          "base_uri": "https://localhost:8080/"
        },
        "id": "rmHpHCwd5RVk",
        "outputId": "e2b357fd-060d-4d4a-e118-d5ead917de84"
      },
      "execution_count": 45,
      "outputs": [
        {
          "output_type": "stream",
          "name": "stdout",
          "text": [
            "pred -  [0. 0. 0. 0. 1. 0.]\n",
            "4\n"
          ]
        }
      ]
    }
  ]
}