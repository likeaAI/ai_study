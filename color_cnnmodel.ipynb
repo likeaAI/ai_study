{
  "nbformat": 4,
  "nbformat_minor": 0,
  "metadata": {
    "colab": {
      "name": "color_cnnmodel.ipynb",
      "provenance": [],
      "authorship_tag": "ABX9TyP7siowYDt9ECE7iuXYw3bg",
      "include_colab_link": true
    },
    "kernelspec": {
      "name": "python3",
      "display_name": "Python 3"
    },
    "language_info": {
      "name": "python"
    },
    "accelerator": "GPU",
    "gpuClass": "standard"
  },
  "cells": [
    {
      "cell_type": "markdown",
      "metadata": {
        "id": "view-in-github",
        "colab_type": "text"
      },
      "source": [
        "<a href=\"https://colab.research.google.com/github/likeaAI/ai_study/blob/main/color_cnnmodel.ipynb\" target=\"_parent\"><img src=\"https://colab.research.google.com/assets/colab-badge.svg\" alt=\"Open In Colab\"/></a>"
      ]
    },
    {
      "cell_type": "code",
      "execution_count": null,
      "metadata": {
        "id": "UFzBtDdhk4Xy"
      },
      "outputs": [],
      "source": [
        "import torch\n",
        "from glob import glob\n",
        "from tensorflow.keras.datasets   import boston_housing , mnist , fashion_mnist\n",
        "from tensorflow.keras.models     import Sequential , clone_model , Model , load_model\n",
        "from tensorflow.keras.layers     import Dense , Activation , InputLayer , Flatten , Input , BatchNormalization , Dropout , Embedding\n",
        "\n",
        "# CNN\n",
        "from tensorflow.keras.layers     import Conv2D , MaxPooling2D , AveragePooling2D\n",
        "from tensorflow import keras\n",
        "from tensorflow.keras            import optimizers  \n",
        "from tensorflow.keras.callbacks  import EarlyStopping , ModelCheckpoint , Callback\n",
        "from tensorflow.keras.optimizers import SGD , Adam , RMSprop\n",
        "\n",
        "# 이미지 로드\n",
        "from tensorflow.keras.preprocessing import image\n",
        "from tensorflow.keras.preprocessing.image import ImageDataGenerator \n",
        "\n",
        "# 자연어 처리\n",
        "from tensorflow.keras.preprocessing.text          import Tokenizer\n",
        "from tensorflow.keras.preprocessing.sequence      import pad_sequences\n",
        "\n",
        "from keras.utils.np_utils      import to_categorical\n",
        "\n",
        "from sklearn.datasets          import load_iris , load_breast_cancer , load_digits\n",
        "from sklearn.model_selection   import train_test_split\n",
        "\n",
        "import matplotlib.pyplot as plt\n",
        "\n",
        "import tensorflow as tf\n",
        "import numpy  as np\n",
        "import pandas as pd"
      ]
    },
    {
      "cell_type": "code",
      "source": [
        "!pip install roboflow\n",
        "\n",
        "from roboflow import Roboflow\n",
        "rf = Roboflow(api_key=\"V1xrnYqaT6VW3skv3nh8\")\n",
        "project = rf.workspace(\"example01\").project(\"color1\")\n",
        "dataset = project.version(1).download(\"folder\")"
      ],
      "metadata": {
        "colab": {
          "base_uri": "https://localhost:8080/",
          "height": 1000
        },
        "id": "HxRUp182k8_l",
        "outputId": "1801d870-bf87-447e-ecec-5a83b798bb87"
      },
      "execution_count": null,
      "outputs": [
        {
          "output_type": "stream",
          "name": "stdout",
          "text": [
            "Looking in indexes: https://pypi.org/simple, https://us-python.pkg.dev/colab-wheels/public/simple/\n",
            "Collecting roboflow\n",
            "  Downloading roboflow-0.2.4.tar.gz (15 kB)\n",
            "Collecting certifi==2021.5.30\n",
            "  Downloading certifi-2021.5.30-py2.py3-none-any.whl (145 kB)\n",
            "\u001b[K     |████████████████████████████████| 145 kB 13.8 MB/s \n",
            "\u001b[?25hCollecting chardet==4.0.0\n",
            "  Downloading chardet-4.0.0-py2.py3-none-any.whl (178 kB)\n",
            "\u001b[K     |████████████████████████████████| 178 kB 58.7 MB/s \n",
            "\u001b[?25hCollecting cycler==0.10.0\n",
            "  Downloading cycler-0.10.0-py2.py3-none-any.whl (6.5 kB)\n",
            "Requirement already satisfied: idna==2.10 in /usr/local/lib/python3.7/dist-packages (from roboflow) (2.10)\n",
            "Collecting kiwisolver==1.3.1\n",
            "  Downloading kiwisolver-1.3.1-cp37-cp37m-manylinux1_x86_64.whl (1.1 MB)\n",
            "\u001b[K     |████████████████████████████████| 1.1 MB 61.3 MB/s \n",
            "\u001b[?25hRequirement already satisfied: matplotlib in /usr/local/lib/python3.7/dist-packages (from roboflow) (3.2.2)\n",
            "Requirement already satisfied: numpy>=1.18.5 in /usr/local/lib/python3.7/dist-packages (from roboflow) (1.21.6)\n",
            "Requirement already satisfied: opencv-python>=4.1.2 in /usr/local/lib/python3.7/dist-packages (from roboflow) (4.1.2.30)\n",
            "Requirement already satisfied: Pillow>=7.1.2 in /usr/local/lib/python3.7/dist-packages (from roboflow) (7.1.2)\n",
            "Collecting pyparsing==2.4.7\n",
            "  Downloading pyparsing-2.4.7-py2.py3-none-any.whl (67 kB)\n",
            "\u001b[K     |████████████████████████████████| 67 kB 6.6 MB/s \n",
            "\u001b[?25hRequirement already satisfied: python-dateutil in /usr/local/lib/python3.7/dist-packages (from roboflow) (2.8.2)\n",
            "Collecting python-dotenv\n",
            "  Downloading python_dotenv-0.20.0-py3-none-any.whl (17 kB)\n",
            "Requirement already satisfied: requests in /usr/local/lib/python3.7/dist-packages (from roboflow) (2.23.0)\n",
            "Collecting requests_toolbelt\n",
            "  Downloading requests_toolbelt-0.9.1-py2.py3-none-any.whl (54 kB)\n",
            "\u001b[K     |████████████████████████████████| 54 kB 3.5 MB/s \n",
            "\u001b[?25hRequirement already satisfied: six in /usr/local/lib/python3.7/dist-packages (from roboflow) (1.15.0)\n",
            "Collecting urllib3==1.26.6\n",
            "  Downloading urllib3-1.26.6-py2.py3-none-any.whl (138 kB)\n",
            "\u001b[K     |████████████████████████████████| 138 kB 78.2 MB/s \n",
            "\u001b[?25hCollecting wget\n",
            "  Downloading wget-3.2.zip (10 kB)\n",
            "Requirement already satisfied: tqdm>=4.41.0 in /usr/local/lib/python3.7/dist-packages (from roboflow) (4.64.0)\n",
            "Collecting PyYAML>=5.3.1\n",
            "  Downloading PyYAML-6.0-cp37-cp37m-manylinux_2_5_x86_64.manylinux1_x86_64.manylinux_2_12_x86_64.manylinux2010_x86_64.whl (596 kB)\n",
            "\u001b[K     |████████████████████████████████| 596 kB 58.1 MB/s \n",
            "\u001b[?25hCollecting requests\n",
            "  Downloading requests-2.28.0-py3-none-any.whl (62 kB)\n",
            "\u001b[K     |████████████████████████████████| 62 kB 1.9 MB/s \n",
            "\u001b[?25hRequirement already satisfied: charset-normalizer~=2.0.0 in /usr/local/lib/python3.7/dist-packages (from requests->roboflow) (2.0.12)\n",
            "Building wheels for collected packages: roboflow, wget\n",
            "  Building wheel for roboflow (setup.py) ... \u001b[?25l\u001b[?25hdone\n",
            "  Created wheel for roboflow: filename=roboflow-0.2.4-py3-none-any.whl size=21356 sha256=82a9c7d514523646d5d93e02c07184569ca0774c6ed3c9e2344f659af26a5e36\n",
            "  Stored in directory: /root/.cache/pip/wheels/b7/2c/60/3733c0e323b1d7aec00f852264314bf6c48192c8e1dc92b3ee\n",
            "  Building wheel for wget (setup.py) ... \u001b[?25l\u001b[?25hdone\n",
            "  Created wheel for wget: filename=wget-3.2-py3-none-any.whl size=9675 sha256=5c7541f433fefbb85c98bb04cbe2e39a8535864b7a31151fb38caf1e19f8978e\n",
            "  Stored in directory: /root/.cache/pip/wheels/a1/b6/7c/0e63e34eb06634181c63adacca38b79ff8f35c37e3c13e3c02\n",
            "Successfully built roboflow wget\n",
            "Installing collected packages: urllib3, certifi, requests, pyparsing, kiwisolver, cycler, wget, requests-toolbelt, PyYAML, python-dotenv, chardet, roboflow\n",
            "  Attempting uninstall: urllib3\n",
            "    Found existing installation: urllib3 1.24.3\n",
            "    Uninstalling urllib3-1.24.3:\n",
            "      Successfully uninstalled urllib3-1.24.3\n",
            "  Attempting uninstall: certifi\n",
            "    Found existing installation: certifi 2022.6.15\n",
            "    Uninstalling certifi-2022.6.15:\n",
            "      Successfully uninstalled certifi-2022.6.15\n",
            "  Attempting uninstall: requests\n",
            "    Found existing installation: requests 2.23.0\n",
            "    Uninstalling requests-2.23.0:\n",
            "      Successfully uninstalled requests-2.23.0\n",
            "  Attempting uninstall: pyparsing\n",
            "    Found existing installation: pyparsing 3.0.9\n",
            "    Uninstalling pyparsing-3.0.9:\n",
            "      Successfully uninstalled pyparsing-3.0.9\n",
            "  Attempting uninstall: kiwisolver\n",
            "    Found existing installation: kiwisolver 1.4.3\n",
            "    Uninstalling kiwisolver-1.4.3:\n",
            "      Successfully uninstalled kiwisolver-1.4.3\n",
            "  Attempting uninstall: cycler\n",
            "    Found existing installation: cycler 0.11.0\n",
            "    Uninstalling cycler-0.11.0:\n",
            "      Successfully uninstalled cycler-0.11.0\n",
            "  Attempting uninstall: PyYAML\n",
            "    Found existing installation: PyYAML 3.13\n",
            "    Uninstalling PyYAML-3.13:\n",
            "      Successfully uninstalled PyYAML-3.13\n",
            "  Attempting uninstall: chardet\n",
            "    Found existing installation: chardet 3.0.4\n",
            "    Uninstalling chardet-3.0.4:\n",
            "      Successfully uninstalled chardet-3.0.4\n",
            "\u001b[31mERROR: pip's dependency resolver does not currently take into account all the packages that are installed. This behaviour is the source of the following dependency conflicts.\n",
            "google-colab 1.0.0 requires requests~=2.23.0, but you have requests 2.28.0 which is incompatible.\n",
            "datascience 0.10.6 requires folium==0.2.1, but you have folium 0.8.3 which is incompatible.\n",
            "albumentations 0.1.12 requires imgaug<0.2.7,>=0.2.5, but you have imgaug 0.2.9 which is incompatible.\u001b[0m\n",
            "Successfully installed PyYAML-6.0 certifi-2021.5.30 chardet-4.0.0 cycler-0.10.0 kiwisolver-1.3.1 pyparsing-2.4.7 python-dotenv-0.20.0 requests-2.28.0 requests-toolbelt-0.9.1 roboflow-0.2.4 urllib3-1.26.6 wget-3.2\n"
          ]
        },
        {
          "output_type": "display_data",
          "data": {
            "application/vnd.colab-display-data+json": {
              "pip_warning": {
                "packages": [
                  "certifi",
                  "chardet",
                  "cycler",
                  "kiwisolver",
                  "pyparsing",
                  "requests",
                  "urllib3"
                ]
              }
            }
          },
          "metadata": {}
        },
        {
          "output_type": "stream",
          "name": "stdout",
          "text": [
            "loading Roboflow workspace...\n",
            "loading Roboflow project...\n",
            "Downloading Dataset Version Zip in color1-1 to folder: 100% [244290520 / 244290520] bytes\n"
          ]
        },
        {
          "output_type": "stream",
          "name": "stderr",
          "text": [
            "Extracting Dataset Version Zip to color1-1 in folder:: 100%|██████████| 5070/5070 [00:05<00:00, 913.46it/s]\n"
          ]
        }
      ]
    },
    {
      "cell_type": "code",
      "source": [
        "train_img_generator = ImageDataGenerator(rescale=1./255)\n",
        "train_generator = train_img_generator.flow_from_directory(\n",
        "    '/content/color1-1/train', \n",
        "    target_size = (200, 200) , \n",
        "    batch_size  = 256,\n",
        "    class_mode = 'categorical'\n",
        ")"
      ],
      "metadata": {
        "colab": {
          "base_uri": "https://localhost:8080/"
        },
        "id": "PZc95fzZst1z",
        "outputId": "6249d514-09d4-4344-888f-37025e57cd47"
      },
      "execution_count": null,
      "outputs": [
        {
          "output_type": "stream",
          "name": "stdout",
          "text": [
            "Found 4869 images belonging to 8 classes.\n"
          ]
        }
      ]
    },
    {
      "cell_type": "code",
      "source": [
        "test_img_generator = ImageDataGenerator(rescale=1./255)\n",
        "test_generator = test_img_generator.flow_from_directory(\n",
        "    '/content/color1-1/valid' , \n",
        "    target_size = (200, 200) , \n",
        "    batch_size  = 256 ,\n",
        "    class_mode = 'categorical'\n",
        ")"
      ],
      "metadata": {
        "colab": {
          "base_uri": "https://localhost:8080/"
        },
        "id": "qHy1Q3arst4K",
        "outputId": "7ed65c90-c205-4ce6-9e0d-0a012ba622b3"
      },
      "execution_count": null,
      "outputs": [
        {
          "output_type": "stream",
          "name": "stdout",
          "text": [
            "Found 181 images belonging to 8 classes.\n"
          ]
        }
      ]
    },
    {
      "cell_type": "code",
      "source": [
        "def img_model() :\n",
        "  img_model = Sequential()\n",
        "\n",
        "  img_model.add( Conv2D(input_shape = (200, 200, 3) , filters = 16 , kernel_size = (3,3) , strides = (1,1) , padding = 'valid') )\n",
        "  img_model.add( Activation('relu'))\n",
        "  img_model.add( MaxPooling2D(pool_size = (2,2) , padding = 'valid' ) )\n",
        "  img_model.add( Dropout(0.25) )\n",
        "      \n",
        "  img_model.add( Conv2D(filters = 32 , kernel_size = (3,3) , strides = (1,1) , padding = 'valid') )\n",
        "  img_model.add( Activation('relu'))\n",
        "  img_model.add( MaxPooling2D(pool_size = (2,2) , padding = 'valid' ) )\n",
        "  img_model.add( Dropout(0.25) )\n",
        "\n",
        "  img_model.add( Conv2D(filters = 64 , kernel_size = (3,3) , strides = (1,1) , padding = 'valid') )\n",
        "  img_model.add( Activation('relu'))\n",
        "  img_model.add( MaxPooling2D(pool_size = (2,2) , padding = 'valid' ) )\n",
        "  img_model.add( Dropout(0.25) )\n",
        "\n",
        "  img_model.add( Conv2D(filters = 64 , kernel_size = (3,3) , strides = (1,1) , padding = 'valid') )\n",
        "  img_model.add( Activation('relu'))\n",
        "  img_model.add( MaxPooling2D(pool_size = (2,2) , padding = 'valid' ) )\n",
        "  img_model.add( Dropout(0.25) )\n",
        "    \n",
        "\n",
        "  img_model.add( Flatten() )\n",
        "  img_model.add( Dense(units = 128) )  # 512->1024\n",
        "  img_model.add( Activation('relu') )\n",
        "  img_model.add( Dropout(0.25) )\n",
        "    \n",
        "  \n",
        "  img_model.add( Dense(units = 8) )\n",
        "  img_model.add( Activation('softmax') )\n",
        "\n",
        "  return img_model "
      ],
      "metadata": {
        "id": "OUIUDvFMlHTG"
      },
      "execution_count": null,
      "outputs": []
    },
    {
      "cell_type": "markdown",
      "source": [
        ""
      ],
      "metadata": {
        "id": "U390Tle8uRNa"
      }
    },
    {
      "cell_type": "code",
      "source": [
        "model = img_model()\n",
        "model.summary()"
      ],
      "metadata": {
        "colab": {
          "base_uri": "https://localhost:8080/"
        },
        "id": "Ee5WC-pgtos5",
        "outputId": "0ab0636f-66ba-4694-c2c6-cc2986100ca1"
      },
      "execution_count": null,
      "outputs": [
        {
          "output_type": "stream",
          "name": "stdout",
          "text": [
            "Model: \"sequential_2\"\n",
            "_________________________________________________________________\n",
            " Layer (type)                Output Shape              Param #   \n",
            "=================================================================\n",
            " conv2d_8 (Conv2D)           (None, 198, 198, 16)      448       \n",
            "                                                                 \n",
            " activation_12 (Activation)  (None, 198, 198, 16)      0         \n",
            "                                                                 \n",
            " max_pooling2d_8 (MaxPooling  (None, 99, 99, 16)       0         \n",
            " 2D)                                                             \n",
            "                                                                 \n",
            " dropout_10 (Dropout)        (None, 99, 99, 16)        0         \n",
            "                                                                 \n",
            " conv2d_9 (Conv2D)           (None, 97, 97, 32)        4640      \n",
            "                                                                 \n",
            " activation_13 (Activation)  (None, 97, 97, 32)        0         \n",
            "                                                                 \n",
            " max_pooling2d_9 (MaxPooling  (None, 48, 48, 32)       0         \n",
            " 2D)                                                             \n",
            "                                                                 \n",
            " dropout_11 (Dropout)        (None, 48, 48, 32)        0         \n",
            "                                                                 \n",
            " conv2d_10 (Conv2D)          (None, 46, 46, 64)        18496     \n",
            "                                                                 \n",
            " activation_14 (Activation)  (None, 46, 46, 64)        0         \n",
            "                                                                 \n",
            " max_pooling2d_10 (MaxPoolin  (None, 23, 23, 64)       0         \n",
            " g2D)                                                            \n",
            "                                                                 \n",
            " dropout_12 (Dropout)        (None, 23, 23, 64)        0         \n",
            "                                                                 \n",
            " conv2d_11 (Conv2D)          (None, 21, 21, 64)        36928     \n",
            "                                                                 \n",
            " activation_15 (Activation)  (None, 21, 21, 64)        0         \n",
            "                                                                 \n",
            " max_pooling2d_11 (MaxPoolin  (None, 10, 10, 64)       0         \n",
            " g2D)                                                            \n",
            "                                                                 \n",
            " dropout_13 (Dropout)        (None, 10, 10, 64)        0         \n",
            "                                                                 \n",
            " flatten_2 (Flatten)         (None, 6400)              0         \n",
            "                                                                 \n",
            " dense_4 (Dense)             (None, 128)               819328    \n",
            "                                                                 \n",
            " activation_16 (Activation)  (None, 128)               0         \n",
            "                                                                 \n",
            " dropout_14 (Dropout)        (None, 128)               0         \n",
            "                                                                 \n",
            " dense_5 (Dense)             (None, 8)                 1032      \n",
            "                                                                 \n",
            " activation_17 (Activation)  (None, 8)                 0         \n",
            "                                                                 \n",
            "=================================================================\n",
            "Total params: 880,872\n",
            "Trainable params: 880,872\n",
            "Non-trainable params: 0\n",
            "_________________________________________________________________\n"
          ]
        }
      ]
    },
    {
      "cell_type": "code",
      "source": [
        "model.compile(optimizer = Adam(lr = 0.001), \n",
        "                      loss= 'categorical_crossentropy' , \n",
        "                      metrics=['accuracy']\n",
        "             ) "
      ],
      "metadata": {
        "colab": {
          "base_uri": "https://localhost:8080/"
        },
        "id": "dLpYS5hBtpQi",
        "outputId": "5c492639-a76a-430a-eb84-9f5b2aa5b71c"
      },
      "execution_count": null,
      "outputs": [
        {
          "output_type": "stream",
          "name": "stderr",
          "text": [
            "/usr/local/lib/python3.7/dist-packages/keras/optimizer_v2/adam.py:105: UserWarning: The `lr` argument is deprecated, use `learning_rate` instead.\n",
            "  super(Adam, self).__init__(name, **kwargs)\n"
          ]
        }
      ]
    },
    {
      "cell_type": "code",
      "source": [
        "cb = keras.callbacks.ModelCheckpoint('color.h5')\n",
        "es = keras.callbacks.EarlyStopping(patience=3, restore_best_weights=True)"
      ],
      "metadata": {
        "id": "UBpgwnBStpVD"
      },
      "execution_count": null,
      "outputs": []
    },
    {
      "cell_type": "code",
      "source": [
        "model_history = model.fit(train_generator, validation_data=test_generator,epochs=100 ,verbose=1 ,callbacks=[es,cb]) "
      ],
      "metadata": {
        "colab": {
          "base_uri": "https://localhost:8080/"
        },
        "id": "hIqoXQGxttwS",
        "outputId": "434b3706-6e52-42c2-d48c-0665eeae6433"
      },
      "execution_count": null,
      "outputs": [
        {
          "output_type": "stream",
          "name": "stdout",
          "text": [
            "Epoch 1/100\n",
            "20/20 [==============================] - 19s 899ms/step - loss: 1.8021 - accuracy: 0.3128 - val_loss: 1.5197 - val_accuracy: 0.5249\n",
            "Epoch 2/100\n",
            "20/20 [==============================] - 17s 867ms/step - loss: 1.1894 - accuracy: 0.5451 - val_loss: 1.0783 - val_accuracy: 0.6630\n",
            "Epoch 3/100\n",
            "20/20 [==============================] - 17s 859ms/step - loss: 0.9585 - accuracy: 0.6525 - val_loss: 0.9281 - val_accuracy: 0.7569\n",
            "Epoch 4/100\n",
            "20/20 [==============================] - 18s 872ms/step - loss: 0.7341 - accuracy: 0.7400 - val_loss: 0.7439 - val_accuracy: 0.8066\n",
            "Epoch 5/100\n",
            "20/20 [==============================] - 18s 872ms/step - loss: 0.7265 - accuracy: 0.7468 - val_loss: 0.7725 - val_accuracy: 0.7845\n",
            "Epoch 6/100\n",
            "20/20 [==============================] - 18s 883ms/step - loss: 0.5899 - accuracy: 0.7959 - val_loss: 0.6380 - val_accuracy: 0.7901\n",
            "Epoch 7/100\n",
            "20/20 [==============================] - 18s 874ms/step - loss: 0.6110 - accuracy: 0.7846 - val_loss: 0.6305 - val_accuracy: 0.8343\n",
            "Epoch 8/100\n",
            "20/20 [==============================] - 17s 863ms/step - loss: 0.5271 - accuracy: 0.8110 - val_loss: 0.5629 - val_accuracy: 0.8840\n",
            "Epoch 9/100\n",
            "20/20 [==============================] - 17s 860ms/step - loss: 0.5119 - accuracy: 0.8207 - val_loss: 0.5584 - val_accuracy: 0.8508\n",
            "Epoch 10/100\n",
            "20/20 [==============================] - 17s 861ms/step - loss: 0.4826 - accuracy: 0.8262 - val_loss: 0.6152 - val_accuracy: 0.8287\n",
            "Epoch 11/100\n",
            "20/20 [==============================] - 17s 844ms/step - loss: 0.4154 - accuracy: 0.8560 - val_loss: 0.5266 - val_accuracy: 0.8674\n",
            "Epoch 12/100\n",
            "20/20 [==============================] - 17s 846ms/step - loss: 0.3808 - accuracy: 0.8587 - val_loss: 0.5412 - val_accuracy: 0.8619\n",
            "Epoch 13/100\n",
            "20/20 [==============================] - 18s 874ms/step - loss: 0.7044 - accuracy: 0.7722 - val_loss: 0.7397 - val_accuracy: 0.8122\n",
            "Epoch 14/100\n",
            "20/20 [==============================] - 17s 847ms/step - loss: 0.4614 - accuracy: 0.8423 - val_loss: 0.5619 - val_accuracy: 0.8785\n"
          ]
        }
      ]
    },
    {
      "cell_type": "code",
      "source": [
        "print('모델 저장')\n",
        "model.save('color')\n"
      ],
      "metadata": {
        "colab": {
          "base_uri": "https://localhost:8080/"
        },
        "id": "6xG0Meu3ttzK",
        "outputId": "04c3f785-5cde-4c65-8000-e45d42950a1e"
      },
      "execution_count": null,
      "outputs": [
        {
          "output_type": "stream",
          "name": "stdout",
          "text": [
            "모델 저장\n",
            "INFO:tensorflow:Assets written to: color/assets\n"
          ]
        }
      ]
    },
    {
      "cell_type": "code",
      "source": [
        "# # Converting a SavedModel to a TensorFlow Lite model.\n",
        "# converter = tf.lite.TFLiteConverter.from_keras_model(model)\n",
        "# tflite_model = converter.convert()\n",
        "\n",
        "# #저장\n",
        "# open('color_model.tflite', 'wb').write(tflite_model)"
      ],
      "metadata": {
        "id": "1fI9AeIVw0VO"
      },
      "execution_count": null,
      "outputs": []
    },
    {
      "cell_type": "code",
      "source": [
        "import matplotlib.pyplot as plt\n",
        "\n",
        "acc = model_history.history['accuracy']\n",
        "val_acc = model_history.history['val_accuracy']\n",
        "loss = model_history.history['loss']\n",
        "val_loss = model_history.history['val_loss']\n",
        "\n",
        "epochs = range(len(acc))\n",
        "\n",
        "plt.plot(epochs, acc, 'bo', label='Training accuracy')\n",
        "plt.plot(epochs, val_acc, 'b', label='Validation accuracy')\n",
        "plt.title('Training and validation accuracy')\n",
        "plt.legend()\n",
        "\n",
        "plt.figure()\n",
        "\n",
        "plt.plot(epochs, loss, 'go', label='Training Loss')\n",
        "plt.plot(epochs, val_loss, 'g', label='Validation Loss')\n",
        "plt.title('Training and validation loss')\n",
        "plt.legend()\n",
        "\n",
        "plt.show()"
      ],
      "metadata": {
        "colab": {
          "base_uri": "https://localhost:8080/",
          "height": 545
        },
        "id": "hPPZd2pUtt2C",
        "outputId": "17c52831-7549-4e03-ff6c-b55026a22b77"
      },
      "execution_count": null,
      "outputs": [
        {
          "output_type": "display_data",
          "data": {
            "text/plain": [
              "<Figure size 432x288 with 1 Axes>"
            ],
            "image/png": "[encoded data removed]"
          },
          "metadata": {
            "needs_background": "light"
          }
        },
        {
          "output_type": "display_data",
          "data": {
            "text/plain": [
              "<Figure size 432x288 with 1 Axes>"
            ],
            "image/png": "[encoded data removed]"
          },
          "metadata": {
            "needs_background": "light"
          }
        }
      ]
    },
    {
      "cell_type": "code",
      "source": [
        "train_generator.class_indices"
      ],
      "metadata": {
        "colab": {
          "base_uri": "https://localhost:8080/"
        },
        "id": "li-J36bSt0Jq",
        "outputId": "0c214063-1d44-4c6a-94f4-a9f96ed3ca59"
      },
      "execution_count": null,
      "outputs": [
        {
          "output_type": "execute_result",
          "data": {
            "text/plain": [
              "{'beige': 0,\n",
              " 'black': 1,\n",
              " 'blue': 2,\n",
              " 'gray': 3,\n",
              " 'green': 4,\n",
              " 'pattren': 5,\n",
              " 'red': 6,\n",
              " 'white': 7}"
            ]
          },
          "metadata": {},
          "execution_count": 15
        }
      ]
    },
    {
      "cell_type": "code",
      "source": [
        "# '/content/cloths_color-4/valid/red/red58_jpg.rf.fd3b092f540c2495f760323b62029e05.jpg'\n",
        "\n",
        "def image_upload (image_upload) : \n",
        "  color = {'black': 0, 'blue': 1, 'green': 2, 'pattern': 3, 'red': 4, 'white': 5}\n",
        "  img_src = image_upload\n",
        "  test_img = image.load_img(img_src, target_size=(200, 200))\n",
        "  x = image.img_to_array(test_img)\n",
        "  x = np.expand_dims(x, axis = 0)\n",
        "  image_ = np.vstack([x])\n",
        "  classes = model.predict(image_, batch_size = 10)\n",
        "  print('pred - ', classes[0])\n",
        "  print(np.argmax(classes[0]))  "
      ],
      "metadata": {
        "id": "TETOAId1t0MD"
      },
      "execution_count": null,
      "outputs": []
    },
    {
      "cell_type": "code",
      "source": [
        "image_upload('/content/test22222222.JPG')"
      ],
      "metadata": {
        "colab": {
          "base_uri": "https://localhost:8080/"
        },
        "id": "jSPsCZQcWfWC",
        "outputId": "9f2271d3-283c-4bc2-a935-9d37c4ae0681"
      },
      "execution_count": null,
      "outputs": [
        {
          "output_type": "stream",
          "name": "stdout",
          "text": [
            "pred -  [0.0000000e+00 1.0000000e+00 0.0000000e+00 5.3428144e-19 0.0000000e+00\n",
            " 0.0000000e+00]\n",
            "1\n"
          ]
        }
      ]
    },
    {
      "cell_type": "code",
      "source": [
        "image_upload('/content/test21.jpg')"
      ],
      "metadata": {
        "colab": {
          "base_uri": "https://localhost:8080/"
        },
        "id": "-YSDC0KyWutn",
        "outputId": "1e24c1d7-b713-41c4-e8cf-2b042031fc3d"
      },
      "execution_count": null,
      "outputs": [
        {
          "output_type": "stream",
          "name": "stdout",
          "text": [
            "pred -  [0. 0. 0. 0. 1. 0.]\n",
            "4\n"
          ]
        }
      ]
    },
    {
      "cell_type": "code",
      "source": [
        "image_upload('/content/test333.jpg')"
      ],
      "metadata": {
        "colab": {
          "base_uri": "https://localhost:8080/"
        },
        "id": "_B5LsNRCWuwU",
        "outputId": "6b4b1667-fc41-441b-9652-55049bb8a667"
      },
      "execution_count": null,
      "outputs": [
        {
          "output_type": "stream",
          "name": "stdout",
          "text": [
            "pred -  [0. 0. 1. 0. 0. 0.]\n",
            "2\n"
          ]
        }
      ]
    },
    {
      "cell_type": "code",
      "source": [
        "image_upload('/content/2.jpg')"
      ],
      "metadata": {
        "colab": {
          "base_uri": "https://localhost:8080/"
        },
        "id": "0A7bDnCZWuzJ",
        "outputId": "ad00fdc5-79d5-40dd-952c-ac2d7317d49a"
      },
      "execution_count": null,
      "outputs": [
        {
          "output_type": "stream",
          "name": "stdout",
          "text": [
            "pred -  [0.000000e+00 0.000000e+00 0.000000e+00 9.994135e-01 0.000000e+00\n",
            " 5.864738e-04]\n",
            "3\n"
          ]
        }
      ]
    },
    {
      "cell_type": "code",
      "source": [
        "image_upload('/content/5.jpg')"
      ],
      "metadata": {
        "colab": {
          "base_uri": "https://localhost:8080/"
        },
        "id": "JitnBOJ4B96D",
        "outputId": "c6278689-c89d-43b4-8367-7948c829619c"
      },
      "execution_count": null,
      "outputs": [
        {
          "output_type": "stream",
          "name": "stdout",
          "text": [
            "pred -  [0. 1. 0. 0. 0. 0.]\n",
            "1\n"
          ]
        }
      ]
    }
  ]
}