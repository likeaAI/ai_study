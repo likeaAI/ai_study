{
 "cells": [
  {
   "cell_type": "code",
   "execution_count": 115,
   "id": "842de503",
   "metadata": {},
   "outputs": [
    {
     "name": "stdout",
     "output_type": "stream",
     "text": [
      "numpy version  -  1.20.3\n",
      "pandas version -  1.3.4\n"
     ]
    }
   ],
   "source": [
    "import numpy  as np\n",
    "import pandas as pd\n",
    "\n",
    "\n",
    "\n",
    "# 시각화\n",
    "import matplotlib.pyplot as plt \n",
    "%matplotlib inline\n",
    "\n",
    "import seaborn as sns\n",
    "\n",
    "import json \n",
    "\n",
    "import warnings\n",
    "warnings.filterwarnings(action='ignore')\n",
    "\n",
    "from datetime import date, datetime, timedelta\n",
    "from dateutil.parser import parse\n",
    "\n",
    "\n",
    "# 한글 폰트 문제 해결\n",
    "import platform\n",
    "\n",
    "from matplotlib import font_manager, rc\n",
    "\n",
    "if platform.system() == 'Darwin':\n",
    "    plt.rc('font', family='AppleGothic')\n",
    "elif platform.system() == 'Windows':\n",
    "    path = \"c:/Windows/Fonts/malgun.ttf\"\n",
    "    font_name = font_manager.FontProperties(fname=path).get_name()\n",
    "    plt.rc('font', family=font_name)\n",
    "else:\n",
    "    print('Unknown system... sorry~~~~') \n",
    "\n",
    "\n",
    "# 차트 축 <- 음수 부호 지원\n",
    "import matplotlib\n",
    "matplotlib.rcParams['axes.unicode_minus'] = False\n",
    "\n",
    "\n",
    "# crawling\n",
    "from bs4 import BeautifulSoup\n",
    "from urllib.request import urlopen , urlretrieve\n",
    "from urllib.error   import HTTPError\n",
    "from urllib.error   import URLError\n",
    "\n",
    "import requests \n",
    "import re\n",
    "\n",
    "print('numpy version  - ' , np.__version__)\n",
    "print('pandas version - ' , pd.__version__)"
   ]
  },
  {
   "cell_type": "code",
   "execution_count": 119,
   "id": "cc249dfb",
   "metadata": {},
   "outputs": [
    {
     "data": {
      "text/plain": [
       "array([[[ 1,  2,  3],\n",
       "        [ 4,  5,  6]],\n",
       "\n",
       "       [[ 7,  8,  9],\n",
       "        [10, 11, 12]]])"
      ]
     },
     "execution_count": 119,
     "metadata": {},
     "output_type": "execute_result"
    }
   ],
   "source": [
    "list = [[[1,2,3],[4,5,6]],[[7,8,9],[10,11,12]]]\n",
    "arr = np.array(list)\n",
    "arr"
   ]
  },
  {
   "cell_type": "code",
   "execution_count": 124,
   "id": "9dabd76c",
   "metadata": {},
   "outputs": [
    {
     "data": {
      "text/plain": [
       "array([1, 2, 3, 4])"
      ]
     },
     "execution_count": 124,
     "metadata": {},
     "output_type": "execute_result"
    }
   ],
   "source": [
    "list = [1,2,3,4]\n",
    "arr = np.array(list)\n",
    "arr"
   ]
  },
  {
   "cell_type": "code",
   "execution_count": 125,
   "id": "882c80e8",
   "metadata": {},
   "outputs": [
    {
     "ename": "NameError",
     "evalue": "name 'data' is not defined",
     "output_type": "error",
     "traceback": [
      "\u001b[1;31m---------------------------------------------------------------------------\u001b[0m",
      "\u001b[1;31mNameError\u001b[0m                                 Traceback (most recent call last)",
      "\u001b[1;32m~\\AppData\\Local\\Temp/ipykernel_8472/3812387602.py\u001b[0m in \u001b[0;36m<module>\u001b[1;34m\u001b[0m\n\u001b[1;32m----> 1\u001b[1;33m df = pd.DataFrame(data,\n\u001b[0m\u001b[0;32m      2\u001b[0m \u001b[0mcolumns\u001b[0m\u001b[1;33m=\u001b[0m\u001b[1;33m[\u001b[0m\u001b[1;34m\"학과\"\u001b[0m\u001b[1;33m,\u001b[0m\u001b[1;34m\"이름\"\u001b[0m\u001b[1;33m,\u001b[0m\u001b[1;34m\"학점\"\u001b[0m\u001b[1;33m,\u001b[0m\u001b[1;34m\"학년\"\u001b[0m\u001b[1;33m,\u001b[0m\u001b[1;34m\"등급\"\u001b[0m\u001b[1;33m]\u001b[0m\u001b[1;33m,\u001b[0m\u001b[1;33m\u001b[0m\u001b[1;33m\u001b[0m\u001b[0m\n\u001b[0;32m      3\u001b[0m index = [\"one\",\"two\",\"three\",\"four\",\"five\"])\n",
      "\u001b[1;31mNameError\u001b[0m: name 'data' is not defined"
     ]
    }
   ],
   "source": []
  },
  {
   "cell_type": "code",
   "execution_count": null,
   "id": "a2f098cb",
   "metadata": {},
   "outputs": [],
   "source": []
  },
  {
   "cell_type": "code",
   "execution_count": null,
   "id": "d7c4af8c",
   "metadata": {},
   "outputs": [],
   "source": [
    "try :\n",
    "    html = urlopen('https://deal.11st.co.kr/browsing/DealAction.tmall?method=getShockingDealMain')\n",
    "    # print(html.read())\n",
    "except HTTPError as he :\n",
    "    print('http error')\n",
    "except URLError as ue :\n",
    "    print('url error')\n",
    "else :\n",
    "    soup = BeautifulSoup(html.read() , 'html.parser')\n",
    "    print(soup)"
   ]
  },
  {
   "cell_type": "markdown",
   "id": "cd5f027f",
   "metadata": {},
   "source": [
    "##### XPATH\n",
    " - XML의 문선의 노드나 노드셋을 선택하는 방법 \n",
    " - 경로연산자 \n",
    " - 노드이름 \n",
    " - / : 루트 노드부터 순서대로 탐색하여 선택 \n",
    " - //  : 지정된 노드에서 순서대로 탐색\n",
    " - . : 현재 노드 \n",
    " - .. : 부모노드 \n",
    " - @ : 속성노드 선택\n",
    " - <div name = 'test' , id = 'content'> \n",
    "    - dirver.find_element_by_xpath('//div[@id='content']"
   ]
  },
  {
   "cell_type": "code",
   "execution_count": null,
   "id": "02b0d001",
   "metadata": {},
   "outputs": [],
   "source": [
    "# css selector -\n",
    "\n",
    "from selenium import webdriver\n",
    "path = 'C:/Users/crid2/driver/chromedriver.exe'\n",
    "driver = webdriver.Chrome(path)\n",
    "driver.get('https://deal.11st.co.kr/browsing/DealAction.tmall?method=getShockingDealMain')"
   ]
  },
  {
   "cell_type": "code",
   "execution_count": null,
   "id": "0025456f",
   "metadata": {},
   "outputs": [],
   "source": [
    "li_tags = driver.find_elements_by_css_selector('#emergencyPrd > div > ul > li')\n"
   ]
  },
  {
   "cell_type": "code",
   "execution_count": null,
   "id": "f8ee3f8f",
   "metadata": {},
   "outputs": [],
   "source": [
    "for li in li_tags :\n",
    "    info =  li.find_element_by_css_selector('div > a > div.prd_info > p >span.fs_16')\n",
    "    print(info)\n",
    "    print(info.text, info.get_attribute('innerHTML'))\n",
    "    print('*' * 50 )"
   ]
  },
  {
   "cell_type": "code",
   "execution_count": 37,
   "id": "22bfb240",
   "metadata": {},
   "outputs": [],
   "source": [
    "il_tags = driver.find_elements_by_xpath('//*[@id=\"@emergencyPrd\"]/div/ul/li[position() <= 3]')"
   ]
  },
  {
   "cell_type": "code",
   "execution_count": null,
   "id": "23d655c4",
   "metadata": {},
   "outputs": [],
   "source": [
    "for li in li_tags :\n",
    "    print(li.find_element_by_xpath('div/a/div[3]/p/span[2]').text)    "
   ]
  },
  {
   "cell_type": "code",
   "execution_count": null,
   "id": "6cb518bf",
   "metadata": {},
   "outputs": [],
   "source": [
    "# css \n",
    "price = li.find_element_by_css_selector('div > a > div.prd_info> div > span.price_detail > strong')"
   ]
  },
  {
   "cell_type": "code",
   "execution_count": 42,
   "id": "be4874ea",
   "metadata": {},
   "outputs": [],
   "source": [
    "# xpath "
   ]
  },
  {
   "cell_type": "code",
   "execution_count": null,
   "id": "a857daaf",
   "metadata": {},
   "outputs": [],
   "source": [
    "#price = li.find_element_by_css_selector('div > a > div.prd_info> div > span.price_detail > strong')\n",
    "# //*[@id=\"emergencyPrd\"]/div/a/div[3]/div/span[2]/strong"
   ]
  },
  {
   "cell_type": "code",
   "execution_count": 47,
   "id": "740d5782",
   "metadata": {},
   "outputs": [
    {
     "ename": "WebDriverException",
     "evalue": "Message: chrome not reachable\n  (Session info: chrome=100.0.4896.75)\nStacktrace:\nBacktrace:\n\tOrdinal0 [0x00AA7413+2389011]\n\tOrdinal0 [0x00A39F61+1941345]\n\tOrdinal0 [0x0092C520+836896]\n\tOrdinal0 [0x00920682+788098]\n\tOrdinal0 [0x00920EB8+790200]\n\tOrdinal0 [0x00922752+796498]\n\tOrdinal0 [0x0091C0D9+770265]\n\tOrdinal0 [0x0092D9D0+842192]\n\tOrdinal0 [0x00983AE2+1194722]\n\tOrdinal0 [0x00973F66+1130342]\n\tOrdinal0 [0x0094E546+976198]\n\tOrdinal0 [0x0094F456+980054]\n\tGetHandleVerifier [0x00C59632+1727522]\n\tGetHandleVerifier [0x00D0BA4D+2457661]\n\tGetHandleVerifier [0x00B3EB81+569713]\n\tGetHandleVerifier [0x00B3DD76+566118]\n\tOrdinal0 [0x00A40B2B+1968939]\n\tOrdinal0 [0x00A45988+1989000]\n\tOrdinal0 [0x00A45A75+1989237]\n\tOrdinal0 [0x00A4ECB1+2026673]\n\tBaseThreadInitThunk [0x7792FA29+25]\n\tRtlGetAppContainerNamedObjectPath [0x77B07A7E+286]\n\tRtlGetAppContainerNamedObjectPath [0x77B07A4E+238]\n",
     "output_type": "error",
     "traceback": [
      "\u001b[1;31m---------------------------------------------------------------------------\u001b[0m",
      "\u001b[1;31mWebDriverException\u001b[0m                        Traceback (most recent call last)",
      "\u001b[1;32m~\\AppData\\Local\\Temp/ipykernel_12060/3464602736.py\u001b[0m in \u001b[0;36m<module>\u001b[1;34m\u001b[0m\n\u001b[1;32m----> 1\u001b[1;33m \u001b[0mprice\u001b[0m \u001b[1;33m=\u001b[0m \u001b[0mli\u001b[0m\u001b[1;33m.\u001b[0m\u001b[0mfind_element_by_xpath\u001b[0m\u001b[1;33m(\u001b[0m\u001b[1;34m'//*[@id=\"emergencyPrd\"]/div/a/div[3]/div/span[2]/strong.saleprice'\u001b[0m\u001b[1;33m)\u001b[0m\u001b[1;33m\u001b[0m\u001b[1;33m\u001b[0m\u001b[0m\n\u001b[0m",
      "\u001b[1;32m~\\anaconda3\\lib\\site-packages\\selenium\\webdriver\\remote\\webelement.py\u001b[0m in \u001b[0;36mfind_element_by_xpath\u001b[1;34m(self, xpath)\u001b[0m\n\u001b[0;32m    392\u001b[0m         \"\"\"\n\u001b[0;32m    393\u001b[0m         \u001b[0mwarnings\u001b[0m\u001b[1;33m.\u001b[0m\u001b[0mwarn\u001b[0m\u001b[1;33m(\u001b[0m\u001b[1;34m\"find_element_by_* commands are deprecated. Please use find_element() instead\"\u001b[0m\u001b[1;33m)\u001b[0m\u001b[1;33m\u001b[0m\u001b[1;33m\u001b[0m\u001b[0m\n\u001b[1;32m--> 394\u001b[1;33m         \u001b[1;32mreturn\u001b[0m \u001b[0mself\u001b[0m\u001b[1;33m.\u001b[0m\u001b[0mfind_element\u001b[0m\u001b[1;33m(\u001b[0m\u001b[0mby\u001b[0m\u001b[1;33m=\u001b[0m\u001b[0mBy\u001b[0m\u001b[1;33m.\u001b[0m\u001b[0mXPATH\u001b[0m\u001b[1;33m,\u001b[0m \u001b[0mvalue\u001b[0m\u001b[1;33m=\u001b[0m\u001b[0mxpath\u001b[0m\u001b[1;33m)\u001b[0m\u001b[1;33m\u001b[0m\u001b[1;33m\u001b[0m\u001b[0m\n\u001b[0m\u001b[0;32m    395\u001b[0m \u001b[1;33m\u001b[0m\u001b[0m\n\u001b[0;32m    396\u001b[0m     \u001b[1;32mdef\u001b[0m \u001b[0mfind_elements_by_xpath\u001b[0m\u001b[1;33m(\u001b[0m\u001b[0mself\u001b[0m\u001b[1;33m,\u001b[0m \u001b[0mxpath\u001b[0m\u001b[1;33m)\u001b[0m\u001b[1;33m:\u001b[0m\u001b[1;33m\u001b[0m\u001b[1;33m\u001b[0m\u001b[0m\n",
      "\u001b[1;32m~\\anaconda3\\lib\\site-packages\\selenium\\webdriver\\remote\\webelement.py\u001b[0m in \u001b[0;36mfind_element\u001b[1;34m(self, by, value)\u001b[0m\n\u001b[0;32m    733\u001b[0m             \u001b[0mvalue\u001b[0m \u001b[1;33m=\u001b[0m \u001b[1;34m'[name=\"%s\"]'\u001b[0m \u001b[1;33m%\u001b[0m \u001b[0mvalue\u001b[0m\u001b[1;33m\u001b[0m\u001b[1;33m\u001b[0m\u001b[0m\n\u001b[0;32m    734\u001b[0m \u001b[1;33m\u001b[0m\u001b[0m\n\u001b[1;32m--> 735\u001b[1;33m         return self._execute(Command.FIND_CHILD_ELEMENT,\n\u001b[0m\u001b[0;32m    736\u001b[0m                              {\"using\": by, \"value\": value})['value']\n\u001b[0;32m    737\u001b[0m \u001b[1;33m\u001b[0m\u001b[0m\n",
      "\u001b[1;32m~\\anaconda3\\lib\\site-packages\\selenium\\webdriver\\remote\\webelement.py\u001b[0m in \u001b[0;36m_execute\u001b[1;34m(self, command, params)\u001b[0m\n\u001b[0;32m    708\u001b[0m             \u001b[0mparams\u001b[0m \u001b[1;33m=\u001b[0m \u001b[1;33m{\u001b[0m\u001b[1;33m}\u001b[0m\u001b[1;33m\u001b[0m\u001b[1;33m\u001b[0m\u001b[0m\n\u001b[0;32m    709\u001b[0m         \u001b[0mparams\u001b[0m\u001b[1;33m[\u001b[0m\u001b[1;34m'id'\u001b[0m\u001b[1;33m]\u001b[0m \u001b[1;33m=\u001b[0m \u001b[0mself\u001b[0m\u001b[1;33m.\u001b[0m\u001b[0m_id\u001b[0m\u001b[1;33m\u001b[0m\u001b[1;33m\u001b[0m\u001b[0m\n\u001b[1;32m--> 710\u001b[1;33m         \u001b[1;32mreturn\u001b[0m \u001b[0mself\u001b[0m\u001b[1;33m.\u001b[0m\u001b[0m_parent\u001b[0m\u001b[1;33m.\u001b[0m\u001b[0mexecute\u001b[0m\u001b[1;33m(\u001b[0m\u001b[0mcommand\u001b[0m\u001b[1;33m,\u001b[0m \u001b[0mparams\u001b[0m\u001b[1;33m)\u001b[0m\u001b[1;33m\u001b[0m\u001b[1;33m\u001b[0m\u001b[0m\n\u001b[0m\u001b[0;32m    711\u001b[0m \u001b[1;33m\u001b[0m\u001b[0m\n\u001b[0;32m    712\u001b[0m     \u001b[1;32mdef\u001b[0m \u001b[0mfind_element\u001b[0m\u001b[1;33m(\u001b[0m\u001b[0mself\u001b[0m\u001b[1;33m,\u001b[0m \u001b[0mby\u001b[0m\u001b[1;33m=\u001b[0m\u001b[0mBy\u001b[0m\u001b[1;33m.\u001b[0m\u001b[0mID\u001b[0m\u001b[1;33m,\u001b[0m \u001b[0mvalue\u001b[0m\u001b[1;33m=\u001b[0m\u001b[1;32mNone\u001b[0m\u001b[1;33m)\u001b[0m\u001b[1;33m:\u001b[0m\u001b[1;33m\u001b[0m\u001b[1;33m\u001b[0m\u001b[0m\n",
      "\u001b[1;32m~\\anaconda3\\lib\\site-packages\\selenium\\webdriver\\remote\\webdriver.py\u001b[0m in \u001b[0;36mexecute\u001b[1;34m(self, driver_command, params)\u001b[0m\n\u001b[0;32m    422\u001b[0m         \u001b[0mresponse\u001b[0m \u001b[1;33m=\u001b[0m \u001b[0mself\u001b[0m\u001b[1;33m.\u001b[0m\u001b[0mcommand_executor\u001b[0m\u001b[1;33m.\u001b[0m\u001b[0mexecute\u001b[0m\u001b[1;33m(\u001b[0m\u001b[0mdriver_command\u001b[0m\u001b[1;33m,\u001b[0m \u001b[0mparams\u001b[0m\u001b[1;33m)\u001b[0m\u001b[1;33m\u001b[0m\u001b[1;33m\u001b[0m\u001b[0m\n\u001b[0;32m    423\u001b[0m         \u001b[1;32mif\u001b[0m \u001b[0mresponse\u001b[0m\u001b[1;33m:\u001b[0m\u001b[1;33m\u001b[0m\u001b[1;33m\u001b[0m\u001b[0m\n\u001b[1;32m--> 424\u001b[1;33m             \u001b[0mself\u001b[0m\u001b[1;33m.\u001b[0m\u001b[0merror_handler\u001b[0m\u001b[1;33m.\u001b[0m\u001b[0mcheck_response\u001b[0m\u001b[1;33m(\u001b[0m\u001b[0mresponse\u001b[0m\u001b[1;33m)\u001b[0m\u001b[1;33m\u001b[0m\u001b[1;33m\u001b[0m\u001b[0m\n\u001b[0m\u001b[0;32m    425\u001b[0m             response['value'] = self._unwrap_value(\n\u001b[0;32m    426\u001b[0m                 response.get('value', None))\n",
      "\u001b[1;32m~\\anaconda3\\lib\\site-packages\\selenium\\webdriver\\remote\\errorhandler.py\u001b[0m in \u001b[0;36mcheck_response\u001b[1;34m(self, response)\u001b[0m\n\u001b[0;32m    245\u001b[0m                 \u001b[0malert_text\u001b[0m \u001b[1;33m=\u001b[0m \u001b[0mvalue\u001b[0m\u001b[1;33m[\u001b[0m\u001b[1;34m'alert'\u001b[0m\u001b[1;33m]\u001b[0m\u001b[1;33m.\u001b[0m\u001b[0mget\u001b[0m\u001b[1;33m(\u001b[0m\u001b[1;34m'text'\u001b[0m\u001b[1;33m)\u001b[0m\u001b[1;33m\u001b[0m\u001b[1;33m\u001b[0m\u001b[0m\n\u001b[0;32m    246\u001b[0m             \u001b[1;32mraise\u001b[0m \u001b[0mexception_class\u001b[0m\u001b[1;33m(\u001b[0m\u001b[0mmessage\u001b[0m\u001b[1;33m,\u001b[0m \u001b[0mscreen\u001b[0m\u001b[1;33m,\u001b[0m \u001b[0mstacktrace\u001b[0m\u001b[1;33m,\u001b[0m \u001b[0malert_text\u001b[0m\u001b[1;33m)\u001b[0m  \u001b[1;31m# type: ignore[call-arg]  # mypy is not smart enough here\u001b[0m\u001b[1;33m\u001b[0m\u001b[1;33m\u001b[0m\u001b[0m\n\u001b[1;32m--> 247\u001b[1;33m         \u001b[1;32mraise\u001b[0m \u001b[0mexception_class\u001b[0m\u001b[1;33m(\u001b[0m\u001b[0mmessage\u001b[0m\u001b[1;33m,\u001b[0m \u001b[0mscreen\u001b[0m\u001b[1;33m,\u001b[0m \u001b[0mstacktrace\u001b[0m\u001b[1;33m)\u001b[0m\u001b[1;33m\u001b[0m\u001b[1;33m\u001b[0m\u001b[0m\n\u001b[0m\u001b[0;32m    248\u001b[0m \u001b[1;33m\u001b[0m\u001b[0m\n\u001b[0;32m    249\u001b[0m     \u001b[1;32mdef\u001b[0m \u001b[0m_value_or_default\u001b[0m\u001b[1;33m(\u001b[0m\u001b[0mself\u001b[0m\u001b[1;33m,\u001b[0m \u001b[0mobj\u001b[0m\u001b[1;33m:\u001b[0m \u001b[0mMapping\u001b[0m\u001b[1;33m[\u001b[0m\u001b[0m_KT\u001b[0m\u001b[1;33m,\u001b[0m \u001b[0m_VT\u001b[0m\u001b[1;33m]\u001b[0m\u001b[1;33m,\u001b[0m \u001b[0mkey\u001b[0m\u001b[1;33m:\u001b[0m \u001b[0m_KT\u001b[0m\u001b[1;33m,\u001b[0m \u001b[0mdefault\u001b[0m\u001b[1;33m:\u001b[0m \u001b[0m_VT\u001b[0m\u001b[1;33m)\u001b[0m \u001b[1;33m->\u001b[0m \u001b[0m_VT\u001b[0m\u001b[1;33m:\u001b[0m\u001b[1;33m\u001b[0m\u001b[1;33m\u001b[0m\u001b[0m\n",
      "\u001b[1;31mWebDriverException\u001b[0m: Message: chrome not reachable\n  (Session info: chrome=100.0.4896.75)\nStacktrace:\nBacktrace:\n\tOrdinal0 [0x00AA7413+2389011]\n\tOrdinal0 [0x00A39F61+1941345]\n\tOrdinal0 [0x0092C520+836896]\n\tOrdinal0 [0x00920682+788098]\n\tOrdinal0 [0x00920EB8+790200]\n\tOrdinal0 [0x00922752+796498]\n\tOrdinal0 [0x0091C0D9+770265]\n\tOrdinal0 [0x0092D9D0+842192]\n\tOrdinal0 [0x00983AE2+1194722]\n\tOrdinal0 [0x00973F66+1130342]\n\tOrdinal0 [0x0094E546+976198]\n\tOrdinal0 [0x0094F456+980054]\n\tGetHandleVerifier [0x00C59632+1727522]\n\tGetHandleVerifier [0x00D0BA4D+2457661]\n\tGetHandleVerifier [0x00B3EB81+569713]\n\tGetHandleVerifier [0x00B3DD76+566118]\n\tOrdinal0 [0x00A40B2B+1968939]\n\tOrdinal0 [0x00A45988+1989000]\n\tOrdinal0 [0x00A45A75+1989237]\n\tOrdinal0 [0x00A4ECB1+2026673]\n\tBaseThreadInitThunk [0x7792FA29+25]\n\tRtlGetAppContainerNamedObjectPath [0x77B07A7E+286]\n\tRtlGetAppContainerNamedObjectPath [0x77B07A4E+238]\n"
     ]
    }
   ],
   "source": [
    "price = li.find_element_by_xpath('//*[@id=\"emergencyPrd\"]/div/a/div[3]/div/span[2]/strong.saleprice')"
   ]
  },
  {
   "cell_type": "code",
   "execution_count": null,
   "id": "fd545534",
   "metadata": {},
   "outputs": [],
   "source": [
    "for li in li_tags :\n",
    "    print(price.text)"
   ]
  },
  {
   "cell_type": "code",
   "execution_count": null,
   "id": "c85c8dde",
   "metadata": {},
   "outputs": [],
   "source": []
  },
  {
   "cell_type": "markdown",
   "id": "6d4f9e87",
   "metadata": {},
   "source": [
    "#### 비정형 데이터를 활용한 몽고디비 활용방법 \n",
    "\n",
    "- Nosql(Not only SQL)\n",
    "- 정해진 규칙이 없다. ( schema X)\n",
    "- join 이 안된다. \n",
    "- {key : value }\n",
    "- Database - 테이블을 Collection(Table) - Document()"
   ]
  },
  {
   "cell_type": "code",
   "execution_count": 6,
   "id": "a84f5e39",
   "metadata": {},
   "outputs": [],
   "source": [
    "import pymongo as mongo"
   ]
  },
  {
   "cell_type": "markdown",
   "id": "6374390c",
   "metadata": {},
   "source": [
    " - 1. connetction"
   ]
  },
  {
   "cell_type": "code",
   "execution_count": 7,
   "id": "aea2090f",
   "metadata": {},
   "outputs": [
    {
     "data": {
      "text/plain": [
       "MongoClient(host=['localhost:27017'], document_class=dict, tz_aware=False, connect=True)"
      ]
     },
     "execution_count": 7,
     "metadata": {},
     "output_type": "execute_result"
    }
   ],
   "source": [
    "conn = mongo.MongoClient()\n",
    "conn"
   ]
  },
  {
   "cell_type": "markdown",
   "id": "637715c0",
   "metadata": {},
   "source": [
    "- 2. Database Create"
   ]
  },
  {
   "cell_type": "code",
   "execution_count": 8,
   "id": "e3fce9b0",
   "metadata": {},
   "outputs": [
    {
     "data": {
      "text/plain": [
       "Database(MongoClient(host=['localhost:27017'], document_class=dict, tz_aware=False, connect=True), 'testDB')"
      ]
     },
     "execution_count": 8,
     "metadata": {},
     "output_type": "execute_result"
    }
   ],
   "source": [
    "db = conn.testDB\n",
    "db"
   ]
  },
  {
   "cell_type": "markdown",
   "id": "bc948735",
   "metadata": {},
   "source": [
    "- 3. Collection Create == Table"
   ]
  },
  {
   "cell_type": "code",
   "execution_count": 12,
   "id": "88697a59",
   "metadata": {},
   "outputs": [],
   "source": [
    "test_colletction = db['article']"
   ]
  },
  {
   "cell_type": "markdown",
   "id": "6ec976a3",
   "metadata": {},
   "source": [
    "- 4 Documnet - CRUD \n",
    "- insert - insert_one()"
   ]
  },
  {
   "cell_type": "code",
   "execution_count": 25,
   "id": "ae065e77",
   "metadata": {},
   "outputs": [
    {
     "data": {
      "text/plain": [
       "<pymongo.results.InsertOneResult at 0x14eb9857a40>"
      ]
     },
     "execution_count": 25,
     "metadata": {},
     "output_type": "execute_result"
    }
   ],
   "source": [
    "documnet01 = {\n",
    "    'author' : 'jslim' , \n",
    "    'subject' : 'mongodb' ,\n",
    "    'content' : '쉬운가 ? ' ,\n",
    "    'tags' : ['mongodb', 'python' , 'pymongo'],\n",
    "    'views' : 50\n",
    "}\n",
    "\n",
    "\n",
    "test_colletction.insert_one(documnet01)"
   ]
  },
  {
   "cell_type": "markdown",
   "id": "5c31b4a4",
   "metadata": {},
   "source": [
    "- select\n",
    "- find_one()\n",
    "- 연산자 식을 사용할수 있다. \n",
    "- where 조건 find ({비교문법 $eq(=) , $gte(>=) })"
   ]
  },
  {
   "cell_type": "code",
   "execution_count": 28,
   "id": "bf86cf34",
   "metadata": {},
   "outputs": [
    {
     "data": {
      "text/plain": [
       "{'_id': ObjectId('6253ad74c7d72c01524920b1'),\n",
       " 'author': 'jslim',\n",
       " 'subject': 'mongodb',\n",
       " 'content': '쉬운가 ? ',\n",
       " 'tags': ['mongodb', 'python', 'pymongo'],\n",
       " 'views': 50}"
      ]
     },
     "execution_count": 28,
     "metadata": {},
     "output_type": "execute_result"
    }
   ],
   "source": [
    "test_colletction.find_one()"
   ]
  },
  {
   "cell_type": "code",
   "execution_count": 29,
   "id": "8c0b72f4",
   "metadata": {},
   "outputs": [],
   "source": [
    "documnet02= {\n",
    "    'author' : 'admin' , \n",
    "    'subject' : 'ai' ,\n",
    "    'content' : '깡통머신' ,\n",
    "    'tags' : ['mongodb', 'python' , 'pymongo'],\n",
    "    'views' : 100\n",
    "}"
   ]
  },
  {
   "cell_type": "code",
   "execution_count": 36,
   "id": "4a64bdaa",
   "metadata": {},
   "outputs": [
    {
     "data": {
      "text/plain": [
       "Collection(Database(MongoClient(host=['localhost:27017'], document_class=dict, tz_aware=False, connect=True), 'testDB'), 'article')"
      ]
     },
     "execution_count": 36,
     "metadata": {},
     "output_type": "execute_result"
    }
   ],
   "source": [
    "test_colletction"
   ]
  },
  {
   "cell_type": "code",
   "execution_count": 50,
   "id": "1b269b31",
   "metadata": {},
   "outputs": [
    {
     "name": "stdout",
     "output_type": "stream",
     "text": [
      "{'_id': ObjectId('6253ad74c7d72c01524920b1'), 'author': 'jslim', 'subject': 'mongodb', 'content': '쉬운가 ? ', 'tags': ['mongodb', 'python', 'pymongo'], 'views': 50}\n",
      "**************************************************\n",
      "{'_id': ObjectId('6253adaec7d72c01524920b2'), 'author': 'admin', 'subject': 'ai', 'content': '깡통머신', 'tags': ['mongodb', 'python', 'pymongo'], 'views': 100}\n",
      "**************************************************\n"
     ]
    }
   ],
   "source": [
    "cursor = test_colletction.find()\n",
    "for documnet in cursor : \n",
    "    print(documnet)\n",
    "    print('*' * 50)"
   ]
  },
  {
   "cell_type": "code",
   "execution_count": 70,
   "id": "9b769bb4",
   "metadata": {},
   "outputs": [
    {
     "name": "stdout",
     "output_type": "stream",
     "text": [
      "{'_id': ObjectId('6253ad74c7d72c01524920b1'), 'author': 'jslim'}\n",
      "**************************************************\n",
      "{'_id': ObjectId('6253adaec7d72c01524920b2'), 'author': 'admin'}\n",
      "**************************************************\n"
     ]
    }
   ],
   "source": [
    "cursor = test_colletction.find({'views' : {'$gte' : 30}} , {'author' : 1}) # author 셀렉트만해서 가져와라 \n",
    "for documnet in cursor : \n",
    "    print(documnet)\n",
    "    print('*' * 50)"
   ]
  },
  {
   "cell_type": "code",
   "execution_count": 73,
   "id": "c056cb79",
   "metadata": {},
   "outputs": [
    {
     "name": "stdout",
     "output_type": "stream",
     "text": [
      "{'_id': ObjectId('6253ad74c7d72c01524920b1'), 'author': 'jslim', 'subject': 'mongodb'}\n",
      "**************************************************\n",
      "{'_id': ObjectId('6253adaec7d72c01524920b2'), 'author': 'admin', 'subject': 'ai'}\n",
      "**************************************************\n"
     ]
    }
   ],
   "source": [
    "cursor = test_colletction.find({ } , {'author' : 1, 'subject' : 1} ) # author 셀렉트만해서 가져와라 \n",
    "for documnet in cursor : \n",
    "    print(documnet)\n",
    "    print('*' * 50)"
   ]
  },
  {
   "cell_type": "code",
   "execution_count": 76,
   "id": "cd76129b",
   "metadata": {},
   "outputs": [],
   "source": [
    "doc_lst = [\n",
    "    {\n",
    "    'author' : 'book' , \n",
    "    'subject' : 'ai' ,\n",
    "    'content' : '깡통머신' ,\n",
    "    'tags' : ['mongodb', 'python' , 'pymongo'],\n",
    "    'views' : 300\n",
    "    },\n",
    "    {'author' : 'mac' , \n",
    "    'subject' : 'ai' ,\n",
    "    'content' : '깡통머신' ,\n",
    "    'tags' : ['mongodb', 'python' , 'pymongo'],\n",
    "    'views' : 200      \n",
    "    },\n",
    "    {\n",
    "        'author' : 'admin' , \n",
    "    'subject' : 'ai' ,\n",
    "    'content' : '깡통머신' ,\n",
    "    'tags' : ['mongodb', 'python' , 'pymongo'],\n",
    "    'views' : 150\n",
    "    }\n",
    "] "
   ]
  },
  {
   "cell_type": "code",
   "execution_count": 80,
   "id": "7edbc183",
   "metadata": {},
   "outputs": [
    {
     "name": "stdout",
     "output_type": "stream",
     "text": [
      "{'author': 'admin', 'subject': 'ai', 'content': '깡통머신', 'tags': ['mongodb', 'python', 'pymongo'], 'views': 300}\n",
      "{'author': 'admin', 'subject': 'ai', 'content': '깡통머신', 'tags': ['mongodb', 'python', 'pymongo'], 'views': 200}\n",
      "{'author': 'admin', 'subject': 'ai', 'content': '깡통머신', 'tags': ['mongodb', 'python', 'pymongo'], 'views': 150}\n"
     ]
    }
   ],
   "source": [
    "for documnet in doc_lst :\n",
    "    print(documnet)"
   ]
  },
  {
   "cell_type": "code",
   "execution_count": 87,
   "id": "87234057",
   "metadata": {},
   "outputs": [],
   "source": [
    "# where xxxx and xxxx 조건 \n",
    "# view 200이상이고 작정사 admin 인 content 만 보고 싶다면 ? \n",
    "\n",
    "cursor = test_colletction.find( {'views' : {'&gte' : 200} , 'author' : 'admin'} , {'content' : 1 , '_id' : 0})\n",
    "for documnet in cursor :\n",
    "    print(document)\n",
    "    print('*'* 50)"
   ]
  },
  {
   "cell_type": "code",
   "execution_count": 105,
   "id": "6e76c16e",
   "metadata": {},
   "outputs": [
    {
     "ename": "SyntaxError",
     "evalue": "invalid syntax (Temp/ipykernel_8472/151976376.py, line 3)",
     "output_type": "error",
     "traceback": [
      "\u001b[1;36m  File \u001b[1;32m\"C:\\Users\\crid2\\AppData\\Local\\Temp/ipykernel_8472/151976376.py\"\u001b[1;36m, line \u001b[1;32m3\u001b[0m\n\u001b[1;33m    cursor = test_colletction.find({'$or' : [{'views' :{'$gte' : 200} },{'author' : 'admin'}], {'content' : 1 , '_id' : 0 , 'content' : 1}})\u001b[0m\n\u001b[1;37m                                                                                                                                          ^\u001b[0m\n\u001b[1;31mSyntaxError\u001b[0m\u001b[1;31m:\u001b[0m invalid syntax\n"
     ]
    }
   ],
   "source": [
    "# cursor = test_colletction.find( {'views' : {'&gte' : 200} , 'author' : 'admin'} , {'content' : 1 , '_id' : 0})\n",
    "# ({'$or'[{'views' :{'$gte' : 200} },{'author' : 'admin'}]})\n",
    "cursor = test_colletction.find({'$or' : [{'views' :{'$gte' : 200} },{'author' : 'admin'}], {'content' : 1 , '_id' : 0 , 'content' : 1}})\n",
    "for documnet in cursor :\n",
    "    print(document)\n",
    "    print('*'* 50)"
   ]
  },
  {
   "cell_type": "code",
   "execution_count": 112,
   "id": "94d72fb8",
   "metadata": {},
   "outputs": [
    {
     "name": "stdout",
     "output_type": "stream",
     "text": [
      "<pymongo.cursor.Cursor object at 0x0000014EB99C9520>\n"
     ]
    }
   ],
   "source": [
    "cursor = test_colletction.find({'$or' : [ {'view' : {'$gte':0 } } , {'author':'mac' } ] } , {'author':1 ,'content' : 1  , '_id' : 0} )\n",
    "\n",
    "print(cursor)\n",
    "for document in cursor :\n",
    "    print(document)\n",
    "    print('*' * 50)"
   ]
  },
  {
   "cell_type": "code",
   "execution_count": null,
   "id": "2358d780",
   "metadata": {},
   "outputs": [],
   "source": []
  },
  {
   "cell_type": "code",
   "execution_count": 113,
   "id": "9be25c64",
   "metadata": {},
   "outputs": [
    {
     "ename": "SyntaxError",
     "evalue": "invalid syntax (Temp/ipykernel_8472/2544241226.py, line 2)",
     "output_type": "error",
     "traceback": [
      "\u001b[1;36m  File \u001b[1;32m\"C:\\Users\\crid2\\AppData\\Local\\Temp/ipykernel_8472/2544241226.py\"\u001b[1;36m, line \u001b[1;32m2\u001b[0m\n\u001b[1;33m    - update table set field = value , field = valuee where\u001b[0m\n\u001b[1;37m             ^\u001b[0m\n\u001b[1;31mSyntaxError\u001b[0m\u001b[1;31m:\u001b[0m invalid syntax\n"
     ]
    }
   ],
   "source": [
    "- update \n",
    "- update table set field = value , field = valuee where \n",
    "- updatae_one\n",
    "\n",
    "delete from table where XXXXX"
   ]
  },
  {
   "cell_type": "code",
   "execution_count": null,
   "id": "94079dab",
   "metadata": {},
   "outputs": [],
   "source": []
  }
 ],
 "metadata": {
  "kernelspec": {
   "display_name": "Python 3 (ipykernel)",
   "language": "python",
   "name": "python3"
  },
  "language_info": {
   "codemirror_mode": {
    "name": "ipython",
    "version": 3
   },
   "file_extension": ".py",
   "mimetype": "text/x-python",
   "name": "python",
   "nbconvert_exporter": "python",
   "pygments_lexer": "ipython3",
   "version": "3.9.7"
  },
  "varInspector": {
   "cols": {
    "lenName": 16,
    "lenType": 16,
    "lenVar": 40
   },
   "kernels_config": {
    "python": {
     "delete_cmd_postfix": "",
     "delete_cmd_prefix": "del ",
     "library": "var_list.py",
     "varRefreshCmd": "print(var_dic_list())"
    },
    "r": {
     "delete_cmd_postfix": ") ",
     "delete_cmd_prefix": "rm(",
     "library": "var_list.r",
     "varRefreshCmd": "cat(var_dic_list()) "
    }
   },
   "types_to_exclude": [
    "module",
    "function",
    "builtin_function_or_method",
    "instance",
    "_Feature"
   ],
   "window_display": false
  }
 },
 "nbformat": 4,
 "nbformat_minor": 5
}
