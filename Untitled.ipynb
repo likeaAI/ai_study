{
 "cells": [
  {
   "cell_type": "code",
   "execution_count": 1,
   "id": "7d6fda4f",
   "metadata": {},
   "outputs": [],
   "source": [
    "from tensorflow.keras.datasets   import boston_housing , mnist , fashion_mnist\n",
    "from tensorflow.keras.models     import Sequential , clone_model , Model\n",
    "from tensorflow.keras.layers     import Dense , Activation , InputLayer , Flatten , Input , BatchNormalization , Dropout , Embedding\n",
    "from tensorflow.keras            import optimizers  \n",
    "from tensorflow.keras.callbacks  import EarlyStopping , ModelCheckpoint , Callback\n",
    "from tensorflow.keras.optimizers import SGD , Adam\n",
    "\n",
    "# 자연어 처리\n",
    "from tensorflow.keras.preprocessing.text          import Tokenizer\n",
    "from tensorflow.keras.preprocessing.sequence      import pad_sequences\n",
    "\n",
    "from keras.utils.np_utils      import to_categorical\n",
    "\n",
    "from sklearn.datasets          import load_iris , load_breast_cancer , load_digits\n",
    "from sklearn.model_selection   import train_test_split\n",
    "\n",
    "import matplotlib.pyplot as plt\n",
    "\n",
    "\n",
    "import numpy  as np\n",
    "import pandas as pd"
   ]
  },
  {
   "cell_type": "code",
   "execution_count": 2,
   "id": "082ce485",
   "metadata": {},
   "outputs": [],
   "source": [
    "(X_train , y_train) , (X_test, y_test) = fashion_mnist.load_data()"
   ]
  },
  {
   "cell_type": "code",
   "execution_count": 3,
   "id": "138c2266",
   "metadata": {},
   "outputs": [
    {
     "data": {
      "text/plain": [
       "(((60000, 28, 28), (60000,)), ((10000, 28, 28), (10000,)))"
      ]
     },
     "execution_count": 3,
     "metadata": {},
     "output_type": "execute_result"
    }
   ],
   "source": [
    "(X_train.shape , y_train.shape) , (X_test.shape, y_test.shape)"
   ]
  },
  {
   "cell_type": "code",
   "execution_count": 4,
   "id": "6b5b671c",
   "metadata": {},
   "outputs": [
    {
     "data": {
      "image/png": "[encoded data removed]",
      "text/plain": [
       "<Figure size 432x288 with 1 Axes>"
      ]
     },
     "metadata": {
      "needs_background": "light"
     },
     "output_type": "display_data"
    },
    {
     "name": "stdout",
     "output_type": "stream",
     "text": [
      "9\n"
     ]
    }
   ],
   "source": [
    "# 시각화 \n",
    "\n",
    "plt.imshow(X_train[0] , cmap = plt.cm.binary)\n",
    "plt.axis('off')\n",
    "plt.show()\n",
    "plt.close()\n",
    "\n",
    "print(y_train[0])"
   ]
  },
  {
   "cell_type": "code",
   "execution_count": 5,
   "id": "90bb94d1",
   "metadata": {},
   "outputs": [],
   "source": [
    "# 전처리 이미지 값을 255으로 나누면 스케일링 된다. 이유는 비트맵 255가지 색만 써서 그런듯 ? \n",
    "\n",
    "X_train , X_test =  X_train/ 255 , X_test / 255"
   ]
  },
  {
   "cell_type": "code",
   "execution_count": 6,
   "id": "61b906ad",
   "metadata": {},
   "outputs": [],
   "source": [
    "# 03 모델구성 - Flatten - hidden(512, relu) - output(10, softmax)\n",
    "\n",
    "fashion_model = Sequential() # Sequetial \n",
    "fashion_model.add(Flatten(input_shape = (28,28))) # Flatten 28* 28 2차원을 해제해버린다. \n",
    "fashion_model.add(Dense(units = 512 , activation = 'relu')) # relu 함수 음수는 0 양수는 그대로 반영특성으로 은닉층에서만 사용한다. \n",
    "fashion_model.add( Dense(units = 10 , activation = 'softmax') )  # softmax 사용시 분류에 많이 사용한다. 총 합이 1인특성을 이용할듯\n",
    "\n"
   ]
  },
  {
   "cell_type": "code",
   "execution_count": 7,
   "id": "e82470c6",
   "metadata": {},
   "outputs": [],
   "source": [
    "# 04 모델 컴파일 optimizer - adam , loss - spaarse_categorical_crossentropy , metrics - accuracy\n",
    "\n",
    "\n",
    "fashion_model.compile(optimizer='Adam' , \n",
    "                      loss= 'sparse_categorical_crossentropy' , \n",
    "                      metrics = ['accuracy'])\n",
    "\n"
   ]
  },
  {
   "cell_type": "code",
   "execution_count": 8,
   "id": "c04a053c",
   "metadata": {},
   "outputs": [
    {
     "name": "stdout",
     "output_type": "stream",
     "text": [
      "Model: \"sequential\"\n",
      "_________________________________________________________________\n",
      " Layer (type)                Output Shape              Param #   \n",
      "=================================================================\n",
      " flatten (Flatten)           (None, 784)               0         \n",
      "                                                                 \n",
      " dense (Dense)               (None, 512)               401920    \n",
      "                                                                 \n",
      " dense_1 (Dense)             (None, 10)                5130      \n",
      "                                                                 \n",
      "=================================================================\n",
      "Total params: 407,050\n",
      "Trainable params: 407,050\n",
      "Non-trainable params: 0\n",
      "_________________________________________________________________\n"
     ]
    }
   ],
   "source": [
    "fashion_model.summary()"
   ]
  },
  {
   "cell_type": "code",
   "execution_count": 9,
   "id": "93e3ca50",
   "metadata": {},
   "outputs": [
    {
     "name": "stdout",
     "output_type": "stream",
     "text": [
      "Epoch 1/10\n",
      "1875/1875 [==============================] - 5s 3ms/step - loss: 0.4750 - accuracy: 0.8308\n",
      "Epoch 2/10\n",
      "1875/1875 [==============================] - 5s 3ms/step - loss: 0.3582 - accuracy: 0.8681\n",
      "Epoch 3/10\n",
      "1875/1875 [==============================] - 5s 3ms/step - loss: 0.3238 - accuracy: 0.8806\n",
      "Epoch 4/10\n",
      "1875/1875 [==============================] - 5s 3ms/step - loss: 0.2972 - accuracy: 0.8889\n",
      "Epoch 5/10\n",
      "1875/1875 [==============================] - 5s 3ms/step - loss: 0.2805 - accuracy: 0.8949\n",
      "Epoch 6/10\n",
      "1875/1875 [==============================] - 5s 3ms/step - loss: 0.2653 - accuracy: 0.9008\n",
      "Epoch 7/10\n",
      "1875/1875 [==============================] - 5s 3ms/step - loss: 0.2547 - accuracy: 0.9046\n",
      "Epoch 8/10\n",
      "1875/1875 [==============================] - 5s 3ms/step - loss: 0.2419 - accuracy: 0.9102\n",
      "Epoch 9/10\n",
      "1875/1875 [==============================] - 5s 3ms/step - loss: 0.2306 - accuracy: 0.9136\n",
      "Epoch 10/10\n",
      "1875/1875 [==============================] - 5s 3ms/step - loss: 0.2226 - accuracy: 0.9168\n"
     ]
    },
    {
     "data": {
      "text/plain": [
       "<keras.callbacks.History at 0x1893592ed90>"
      ]
     },
     "execution_count": 9,
     "metadata": {},
     "output_type": "execute_result"
    }
   ],
   "source": [
    "# 05 모델훈련 - epochs 10회 \n",
    "\n",
    "fashion_model.fit(X_train, y_train, epochs=10 , verbose=1 )"
   ]
  },
  {
   "cell_type": "code",
   "execution_count": 10,
   "id": "a95a9926",
   "metadata": {},
   "outputs": [
    {
     "name": "stdout",
     "output_type": "stream",
     "text": [
      "313/313 [==============================] - 1s 2ms/step - loss: 0.3315 - accuracy: 0.8870\n",
      "loss -  0.33153074979782104\n",
      "accuracy -  0.8870000243186951\n"
     ]
    }
   ],
   "source": [
    "loss , accuracy = fashion_model.evaluate(X_test, y_test)\n",
    "\n",
    "print('loss - ' , loss )\n",
    "print('accuracy - ' , accuracy )"
   ]
  },
  {
   "cell_type": "code",
   "execution_count": 12,
   "id": "5db052be",
   "metadata": {},
   "outputs": [
    {
     "name": "stdout",
     "output_type": "stream",
     "text": [
      "[1.4707268e-07 6.4794232e-11 2.5071012e-10 1.1297992e-11 1.1654445e-08\n",
      " 6.1955274e-04 1.3216814e-10 8.2158502e-03 3.5316046e-09 9.9116439e-01]\n",
      "9\n"
     ]
    }
   ],
   "source": [
    "# 7 예측 \n",
    "y_pred = fashion_model.predict(X_test) # predict 함수 사용 \n",
    "\n",
    "print(y_pred[0]) # 확률 판정하기 어렵다. \n",
    "print(np.argmax(y_pred[0])) #  판정 np.argmax로 인덱스 반환으로 가장 높은 확률값 인덱스를 반환한다. 0~9 까지인덱스중 9를 반환 "
   ]
  },
  {
   "cell_type": "code",
   "execution_count": 13,
   "id": "72f61181",
   "metadata": {},
   "outputs": [],
   "source": [
    "def basic_model() :\n",
    "  \n",
    "  fashion_model = Sequential()\n",
    "  fashion_model.add( Flatten( input_shape = (28, 28) ) )  \n",
    "  fashion_model.add( Dense(units = 512, activation = 'relu' ) )\n",
    "  fashion_model.add( Dense(units = 10 , activation = 'softmax') )\n",
    "\n",
    "  fashion_model.compile(optimizer = 'Adam', \n",
    "                      loss= 'sparse_categorical_crossentropy' , \n",
    "                      metrics=['accuracy'] ) \n",
    "  \n",
    "  return fashion_model "
   ]
  },
  {
   "cell_type": "code",
   "execution_count": 14,
   "id": "3e56dc7b",
   "metadata": {},
   "outputs": [],
   "source": [
    "def hidden_layer_128_model() :\n",
    "  \n",
    "  fashion_model = Sequential()\n",
    "  fashion_model.add( Flatten( input_shape = (28, 28) ) )  \n",
    "  fashion_model.add( Dense(units = 128, activation = 'relu' ) )\n",
    "  fashion_model.add( Dense(units = 10 , activation = 'softmax') )\n",
    "\n",
    "  fashion_model.compile(optimizer = 'Adam', \n",
    "                      loss= 'sparse_categorical_crossentropy' , \n",
    "                      metrics=['accuracy'] ) \n",
    "  \n",
    "  return fashion_model \n",
    "\n",
    "def hidden_layer_512_model() :\n",
    "  \n",
    "  fashion_model = Sequential()\n",
    "  fashion_model.add( Flatten( input_shape = (28, 28) ) )  \n",
    "  fashion_model.add( Dense(units = 512, activation = 'relu' ) )\n",
    "  fashion_model.add( Dense(units = 10 , activation = 'softmax') )\n",
    "\n",
    "  fashion_model.compile(optimizer = 'Adam', \n",
    "                      loss= 'sparse_categorical_crossentropy' , \n",
    "                      metrics=['accuracy'] ) \n",
    "  \n",
    "  return fashion_model\n",
    "\n",
    "def hidden_layer_1024_model() :\n",
    "  \n",
    "  fashion_model = Sequential()\n",
    "  fashion_model.add( Flatten( input_shape = (28, 28) ) )  \n",
    "  fashion_model.add( Dense(units = 1024, activation = 'relu' ) )\n",
    "  fashion_model.add( Dense(units = 10 , activation = 'softmax') )\n",
    "\n",
    "  fashion_model.compile(optimizer = 'Adam', \n",
    "                      loss= 'sparse_categorical_crossentropy' , \n",
    "                      metrics=['accuracy'] ) \n",
    "  \n",
    "  return fashion_model"
   ]
  },
  {
   "cell_type": "code",
   "execution_count": 34,
   "id": "0a6db572",
   "metadata": {},
   "outputs": [
    {
     "name": "stdout",
     "output_type": "stream",
     "text": [
      "Epoch 1/10\n",
      "1875/1875 [==============================] - 3s 1ms/step - loss: 0.5020 - accuracy: 0.8245\n",
      "Epoch 2/10\n",
      "1875/1875 [==============================] - 2s 1ms/step - loss: 0.3765 - accuracy: 0.8644\n",
      "Epoch 3/10\n",
      "1875/1875 [==============================] - 2s 1ms/step - loss: 0.3394 - accuracy: 0.8767\n",
      "Epoch 4/10\n",
      "1875/1875 [==============================] - 2s 1ms/step - loss: 0.3144 - accuracy: 0.8860\n",
      "Epoch 5/10\n",
      "1875/1875 [==============================] - 2s 1ms/step - loss: 0.2974 - accuracy: 0.8904\n",
      "Epoch 6/10\n",
      "1875/1875 [==============================] - 2s 1ms/step - loss: 0.2811 - accuracy: 0.8965\n",
      "Epoch 7/10\n",
      "1875/1875 [==============================] - 2s 1ms/step - loss: 0.2704 - accuracy: 0.9004\n",
      "Epoch 8/10\n",
      "1875/1875 [==============================] - 2s 1ms/step - loss: 0.2574 - accuracy: 0.9034\n",
      "Epoch 9/10\n",
      "1875/1875 [==============================] - 2s 1ms/step - loss: 0.2479 - accuracy: 0.9079\n",
      "Epoch 10/10\n",
      "1875/1875 [==============================] - 2s 1ms/step - loss: 0.2411 - accuracy: 0.9103\n"
     ]
    }
   ],
   "source": [
    "history_128 = hidden_layer_128_model()\n",
    "history_128_history = history_128.fit(X_train, y_train , epochs=10, verbose=1 )"
   ]
  },
  {
   "cell_type": "code",
   "execution_count": 18,
   "id": "0f44c636",
   "metadata": {},
   "outputs": [
    {
     "name": "stdout",
     "output_type": "stream",
     "text": [
      "Epoch 1/10\n",
      "1875/1875 [==============================] - 5s 3ms/step - loss: 0.4742 - accuracy: 0.8308\n",
      "Epoch 2/10\n",
      "1875/1875 [==============================] - 5s 3ms/step - loss: 0.3587 - accuracy: 0.8676\n",
      "Epoch 3/10\n",
      "1875/1875 [==============================] - 5s 3ms/step - loss: 0.3211 - accuracy: 0.8832\n",
      "Epoch 4/10\n",
      "1875/1875 [==============================] - 5s 3ms/step - loss: 0.2980 - accuracy: 0.8884\n",
      "Epoch 5/10\n",
      "1875/1875 [==============================] - 5s 3ms/step - loss: 0.2820 - accuracy: 0.8968\n",
      "Epoch 6/10\n",
      "1875/1875 [==============================] - 5s 3ms/step - loss: 0.2665 - accuracy: 0.8995\n",
      "Epoch 7/10\n",
      "1875/1875 [==============================] - 5s 3ms/step - loss: 0.2508 - accuracy: 0.9055\n",
      "Epoch 8/10\n",
      "1875/1875 [==============================] - 5s 3ms/step - loss: 0.2403 - accuracy: 0.9094\n",
      "Epoch 9/10\n",
      "1875/1875 [==============================] - 5s 3ms/step - loss: 0.2327 - accuracy: 0.9130\n",
      "Epoch 10/10\n",
      "1875/1875 [==============================] - 5s 3ms/step - loss: 0.2212 - accuracy: 0.9175\n"
     ]
    },
    {
     "data": {
      "text/plain": [
       "<keras.callbacks.History at 0x1893700f400>"
      ]
     },
     "execution_count": 18,
     "metadata": {},
     "output_type": "execute_result"
    }
   ],
   "source": [
    "history_512 = hidden_layer_512_model()\n",
    "history_512.fit(X_train, y_train, epochs=10, verbose=1)"
   ]
  },
  {
   "cell_type": "code",
   "execution_count": 35,
   "id": "0f8bcf86",
   "metadata": {},
   "outputs": [
    {
     "name": "stdout",
     "output_type": "stream",
     "text": [
      "각 모델의 에포크에 따른 정확도를 시각화 - \n"
     ]
    },
    {
     "data": {
      "image/png": "[encoded data removed]",
      "text/plain": [
       "<Figure size 1440x720 with 1 Axes>"
      ]
     },
     "metadata": {
      "needs_background": "light"
     },
     "output_type": "display_data"
    }
   ],
   "source": [
    "print('각 모델의 에포크에 따른 정확도를 시각화 - ')\n",
    "\n",
    "plt.figure(figsize=(20,10))\n",
    "\n",
    "plt.plot(history_128_history.history['accuracy'],'s-',label='128')\n",
    "\n",
    "plt.legend(loc='best')\n",
    "plt.xticks(np.arange(10))\n",
    "plt.title('accuracy')\n",
    "plt.xlabel('Epoch')\n",
    "plt.ylabel('Accuracy')\n",
    "plt.show()\n",
    "plt.close()\n"
   ]
  },
  {
   "cell_type": "code",
   "execution_count": null,
   "id": "3e0f02a8",
   "metadata": {},
   "outputs": [],
   "source": []
  }
 ],
 "metadata": {
  "kernelspec": {
   "display_name": "Python 3 (ipykernel)",
   "language": "python",
   "name": "python3"
  },
  "language_info": {
   "codemirror_mode": {
    "name": "ipython",
    "version": 3
   },
   "file_extension": ".py",
   "mimetype": "text/x-python",
   "name": "python",
   "nbconvert_exporter": "python",
   "pygments_lexer": "ipython3",
   "version": "3.8.13"
  },
  "varInspector": {
   "cols": {
    "lenName": 16,
    "lenType": 16,
    "lenVar": 40
   },
   "kernels_config": {
    "python": {
     "delete_cmd_postfix": "",
     "delete_cmd_prefix": "del ",
     "library": "var_list.py",
     "varRefreshCmd": "print(var_dic_list())"
    },
    "r": {
     "delete_cmd_postfix": ") ",
     "delete_cmd_prefix": "rm(",
     "library": "var_list.r",
     "varRefreshCmd": "cat(var_dic_list()) "
    }
   },
   "types_to_exclude": [
    "module",
    "function",
    "builtin_function_or_method",
    "instance",
    "_Feature"
   ],
   "window_display": false
  }
 },
 "nbformat": 4,
 "nbformat_minor": 5
}
